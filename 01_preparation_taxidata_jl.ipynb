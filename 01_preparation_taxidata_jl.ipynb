{
 "cells": [
  {
   "cell_type": "markdown",
   "id": "dc44b7ae7599b956",
   "metadata": {},
   "source": [
    "## 1.0a Taxi Data - Preprocessing -- Newest Version"
   ]
  },
  {
   "cell_type": "markdown",
   "id": "f4662e21-9b19-40fc-8797-bfc543d4f9c3",
   "metadata": {},
   "source": [
    "In this first notebook, the main dataframe is preprocessed. This includes:\n",
    "- Read and display datafile\n",
    "- Checking data logic & removing invalid data\n",
    "- Changing its datatypes\n",
    "- Dropping trivial or null columns/rows\n",
    "- Splitting the data into subsets and saving them for further work"
   ]
  },
  {
   "cell_type": "markdown",
   "id": "d86dda84-d670-437b-bc0e-4c874d709a45",
   "metadata": {
    "tags": []
   },
   "source": [
    "As the original data is rather large in size, it is not included in the repository. Instead, when wanting to run this notebook, it is necessary to:\n",
    "1. Download the data from https://data.cityofchicago.org/Transportation/Taxi-Trips/wrvz-psew#column-menu where you specify via Actions->Query Data->Trip Start Timestamp // In Between // 2022 Jan 01 12:00:00 AM AND 2022 Dec 31 11:59:59 PM\n",
    "2. Rename the file to \"taxidata\"\n",
    "3. Run the code cell below and add the data to the following directory"
   ]
  },
  {
   "cell_type": "markdown",
   "id": "47c0380c",
   "metadata": {},
   "source": [
    "There is a short description of each column of the dataset available at: https://data.cityofchicago.org/Transportation/Taxi-Trips-2022/npd7-ywjz/about_data. In this notebook we assume that this information is known and refer to it. "
   ]
  },
  {
   "cell_type": "code",
   "execution_count": 1,
   "id": "0d5efe0c-aa7b-4222-9d5b-98e1d38ed437",
   "metadata": {
    "ExecuteTime": {
     "end_time": "2024-07-04T18:19:06.544800Z",
     "start_time": "2024-07-04T18:19:06.533879Z"
    },
    "tags": []
   },
   "outputs": [],
   "source": [
    "import os\n",
    "# this directory for the original data file\n",
    "os.makedirs('./data', exist_ok=True)\n",
    "# this directory to later save the prepared data\n",
    "os.makedirs('./data/prepped', exist_ok=True)"
   ]
  },
  {
   "cell_type": "code",
   "execution_count": 2,
   "id": "dc92b812d1290ab",
   "metadata": {
    "ExecuteTime": {
     "end_time": "2024-07-04T18:19:09.342057Z",
     "start_time": "2024-07-04T18:19:09.322232Z"
    },
    "tags": []
   },
   "outputs": [],
   "source": [
    "# Standard libraries\n",
    "import pandas as pd\n",
    "import numpy as np\n",
    "import matplotlib.pyplot as plt\n",
    "\n",
    "# Geospatial libraries\n",
    "from h3 import h3 \n",
    "import geopandas as gp\n",
    "from shapely.geometry.polygon import Polygon"
   ]
  },
  {
   "cell_type": "markdown",
   "id": "1937f9e5-5bfb-4597-a3d2-2aca16ea1772",
   "metadata": {},
   "source": [
    "### 1.1 Read and display datafile"
   ]
  },
  {
   "cell_type": "markdown",
   "id": "18ebff24",
   "metadata": {
    "jupyter": {
     "outputs_hidden": false
    }
   },
   "source": [
    "Data file not included in the project, needs to be downloaded individually. This step can take a few minutes due to size of the original file"
   ]
  },
  {
   "cell_type": "code",
   "execution_count": 3,
   "id": "3939294bd434c611",
   "metadata": {
    "ExecuteTime": {
     "end_time": "2024-07-04T18:19:41.256970Z",
     "start_time": "2024-07-04T18:19:09.327422Z"
    },
    "tags": []
   },
   "outputs": [],
   "source": [
    "df = pd.read_csv(\"data/taxidata.csv\")"
   ]
  },
  {
   "cell_type": "code",
   "execution_count": 4,
   "id": "18fc4c99-ad27-4b7b-9bd9-52895492b7dd",
   "metadata": {
    "ExecuteTime": {
     "end_time": "2024-07-04T18:19:41.296642Z",
     "start_time": "2024-07-04T18:19:41.273425Z"
    },
    "tags": []
   },
   "outputs": [
    {
     "data": {
      "text/html": [
       "<div>\n",
       "<style scoped>\n",
       "    .dataframe tbody tr th:only-of-type {\n",
       "        vertical-align: middle;\n",
       "    }\n",
       "\n",
       "    .dataframe tbody tr th {\n",
       "        vertical-align: top;\n",
       "    }\n",
       "\n",
       "    .dataframe thead th {\n",
       "        text-align: right;\n",
       "    }\n",
       "</style>\n",
       "<table border=\"1\" class=\"dataframe\">\n",
       "  <thead>\n",
       "    <tr style=\"text-align: right;\">\n",
       "      <th></th>\n",
       "      <th>trip_id</th>\n",
       "      <th>taxi_id</th>\n",
       "      <th>trip_start_timestamp</th>\n",
       "      <th>trip_end_timestamp</th>\n",
       "      <th>trip_seconds</th>\n",
       "      <th>trip_miles</th>\n",
       "      <th>pickup_census_tract</th>\n",
       "      <th>dropoff_census_tract</th>\n",
       "      <th>pickup_community_area</th>\n",
       "      <th>dropoff_community_area</th>\n",
       "      <th>...</th>\n",
       "      <th>extras</th>\n",
       "      <th>trip_total</th>\n",
       "      <th>payment_type</th>\n",
       "      <th>company</th>\n",
       "      <th>pickup_centroid_latitude</th>\n",
       "      <th>pickup_centroid_longitude</th>\n",
       "      <th>pickup_centroid_location</th>\n",
       "      <th>dropoff_centroid_latitude</th>\n",
       "      <th>dropoff_centroid_longitude</th>\n",
       "      <th>dropoff_centroid_location</th>\n",
       "    </tr>\n",
       "  </thead>\n",
       "  <tbody>\n",
       "    <tr>\n",
       "      <th>0</th>\n",
       "      <td>4404c6835b9e74e9f74d70f235200a8ce09db14a</td>\n",
       "      <td>7e179f8ef66ae99ec2d1ec89224e0b7ee5469fe5627f6d...</td>\n",
       "      <td>2022-12-31T23:45:00.000</td>\n",
       "      <td>2023-01-01T00:15:00.000</td>\n",
       "      <td>2081.0</td>\n",
       "      <td>4.42</td>\n",
       "      <td>NaN</td>\n",
       "      <td>NaN</td>\n",
       "      <td>2.0</td>\n",
       "      <td>3.0</td>\n",
       "      <td>...</td>\n",
       "      <td>0.0</td>\n",
       "      <td>20.50</td>\n",
       "      <td>Prcard</td>\n",
       "      <td>Flash Cab</td>\n",
       "      <td>42.001571</td>\n",
       "      <td>-87.695013</td>\n",
       "      <td>POINT (-87.6950125892 42.001571027)</td>\n",
       "      <td>41.965812</td>\n",
       "      <td>-87.655879</td>\n",
       "      <td>POINT (-87.6558787862 41.96581197)</td>\n",
       "    </tr>\n",
       "    <tr>\n",
       "      <th>1</th>\n",
       "      <td>466473fd2a196ebe92fb2983cb7e8af32e39aa1f</td>\n",
       "      <td>d1d88b89ceb6d753007b6e795e3c24f4bea905a51e9d47...</td>\n",
       "      <td>2022-12-31T23:45:00.000</td>\n",
       "      <td>2023-01-01T00:00:00.000</td>\n",
       "      <td>812.0</td>\n",
       "      <td>0.00</td>\n",
       "      <td>NaN</td>\n",
       "      <td>NaN</td>\n",
       "      <td>8.0</td>\n",
       "      <td>24.0</td>\n",
       "      <td>...</td>\n",
       "      <td>0.0</td>\n",
       "      <td>16.57</td>\n",
       "      <td>Mobile</td>\n",
       "      <td>Flash Cab</td>\n",
       "      <td>41.899602</td>\n",
       "      <td>-87.633308</td>\n",
       "      <td>POINT (-87.6333080367 41.899602111)</td>\n",
       "      <td>41.901207</td>\n",
       "      <td>-87.676356</td>\n",
       "      <td>POINT (-87.6763559892 41.9012069941)</td>\n",
       "    </tr>\n",
       "    <tr>\n",
       "      <th>2</th>\n",
       "      <td>3f5cd3f78e5cab455606a31372a95d3204b2fb3f</td>\n",
       "      <td>847cf962bd6f62040673e6c24c24940aeb2d7fdaa54677...</td>\n",
       "      <td>2022-12-31T23:45:00.000</td>\n",
       "      <td>2023-01-01T00:00:00.000</td>\n",
       "      <td>600.0</td>\n",
       "      <td>0.90</td>\n",
       "      <td>NaN</td>\n",
       "      <td>NaN</td>\n",
       "      <td>8.0</td>\n",
       "      <td>8.0</td>\n",
       "      <td>...</td>\n",
       "      <td>3.0</td>\n",
       "      <td>12.00</td>\n",
       "      <td>Credit Card</td>\n",
       "      <td>Taxi Affiliation Services</td>\n",
       "      <td>41.899602</td>\n",
       "      <td>-87.633308</td>\n",
       "      <td>POINT (-87.6333080367 41.899602111)</td>\n",
       "      <td>41.899602</td>\n",
       "      <td>-87.633308</td>\n",
       "      <td>POINT (-87.6333080367 41.899602111)</td>\n",
       "    </tr>\n",
       "  </tbody>\n",
       "</table>\n",
       "<p>3 rows × 23 columns</p>\n",
       "</div>"
      ],
      "text/plain": [
       "                                    trip_id  \\\n",
       "0  4404c6835b9e74e9f74d70f235200a8ce09db14a   \n",
       "1  466473fd2a196ebe92fb2983cb7e8af32e39aa1f   \n",
       "2  3f5cd3f78e5cab455606a31372a95d3204b2fb3f   \n",
       "\n",
       "                                             taxi_id     trip_start_timestamp  \\\n",
       "0  7e179f8ef66ae99ec2d1ec89224e0b7ee5469fe5627f6d...  2022-12-31T23:45:00.000   \n",
       "1  d1d88b89ceb6d753007b6e795e3c24f4bea905a51e9d47...  2022-12-31T23:45:00.000   \n",
       "2  847cf962bd6f62040673e6c24c24940aeb2d7fdaa54677...  2022-12-31T23:45:00.000   \n",
       "\n",
       "        trip_end_timestamp  trip_seconds  trip_miles  pickup_census_tract  \\\n",
       "0  2023-01-01T00:15:00.000        2081.0        4.42                  NaN   \n",
       "1  2023-01-01T00:00:00.000         812.0        0.00                  NaN   \n",
       "2  2023-01-01T00:00:00.000         600.0        0.90                  NaN   \n",
       "\n",
       "   dropoff_census_tract  pickup_community_area  dropoff_community_area  ...  \\\n",
       "0                   NaN                    2.0                     3.0  ...   \n",
       "1                   NaN                    8.0                    24.0  ...   \n",
       "2                   NaN                    8.0                     8.0  ...   \n",
       "\n",
       "   extras  trip_total  payment_type                    company  \\\n",
       "0     0.0       20.50        Prcard                  Flash Cab   \n",
       "1     0.0       16.57        Mobile                  Flash Cab   \n",
       "2     3.0       12.00   Credit Card  Taxi Affiliation Services   \n",
       "\n",
       "   pickup_centroid_latitude pickup_centroid_longitude  \\\n",
       "0                 42.001571                -87.695013   \n",
       "1                 41.899602                -87.633308   \n",
       "2                 41.899602                -87.633308   \n",
       "\n",
       "              pickup_centroid_location  dropoff_centroid_latitude  \\\n",
       "0  POINT (-87.6950125892 42.001571027)                  41.965812   \n",
       "1  POINT (-87.6333080367 41.899602111)                  41.901207   \n",
       "2  POINT (-87.6333080367 41.899602111)                  41.899602   \n",
       "\n",
       "   dropoff_centroid_longitude             dropoff_centroid_location  \n",
       "0                  -87.655879    POINT (-87.6558787862 41.96581197)  \n",
       "1                  -87.676356  POINT (-87.6763559892 41.9012069941)  \n",
       "2                  -87.633308   POINT (-87.6333080367 41.899602111)  \n",
       "\n",
       "[3 rows x 23 columns]"
      ]
     },
     "execution_count": 4,
     "metadata": {},
     "output_type": "execute_result"
    }
   ],
   "source": [
    "df.head(3)"
   ]
  },
  {
   "cell_type": "code",
   "execution_count": 5,
   "id": "93e37adf",
   "metadata": {
    "tags": []
   },
   "outputs": [
    {
     "name": "stdout",
     "output_type": "stream",
     "text": [
      "Nr. of rows:\n",
      "6382425\n"
     ]
    }
   ],
   "source": [
    "print('Nr. of rows:')\n",
    "print(df.shape[0])"
   ]
  },
  {
   "cell_type": "code",
   "execution_count": 6,
   "id": "a3225e02-5946-45f8-88b3-fb936b834f58",
   "metadata": {
    "ExecuteTime": {
     "end_time": "2024-07-04T18:19:41.298698Z",
     "start_time": "2024-07-04T18:19:41.281555Z"
    },
    "tags": []
   },
   "outputs": [
    {
     "data": {
      "text/plain": [
       "trip_id                        object\n",
       "taxi_id                        object\n",
       "trip_start_timestamp           object\n",
       "trip_end_timestamp             object\n",
       "trip_seconds                  float64\n",
       "trip_miles                    float64\n",
       "pickup_census_tract           float64\n",
       "dropoff_census_tract          float64\n",
       "pickup_community_area         float64\n",
       "dropoff_community_area        float64\n",
       "fare                          float64\n",
       "tips                          float64\n",
       "tolls                         float64\n",
       "extras                        float64\n",
       "trip_total                    float64\n",
       "payment_type                   object\n",
       "company                        object\n",
       "pickup_centroid_latitude      float64\n",
       "pickup_centroid_longitude     float64\n",
       "pickup_centroid_location       object\n",
       "dropoff_centroid_latitude     float64\n",
       "dropoff_centroid_longitude    float64\n",
       "dropoff_centroid_location      object\n",
       "dtype: object"
      ]
     },
     "execution_count": 6,
     "metadata": {},
     "output_type": "execute_result"
    }
   ],
   "source": [
    "# Data types\n",
    "df.dtypes"
   ]
  },
  {
   "cell_type": "markdown",
   "id": "beff097a",
   "metadata": {},
   "source": [
    "### 1.2 Checking data logic & removing invalid data"
   ]
  },
  {
   "cell_type": "markdown",
   "id": "fbbee252",
   "metadata": {},
   "source": [
    "In the following section we will investigate the data for its validity. The location related data will be handled separately in a later section since it requires additional effort. "
   ]
  },
  {
   "cell_type": "markdown",
   "id": "ab675409",
   "metadata": {},
   "source": [
    "#### 1.2.1 Time related features"
   ]
  },
  {
   "cell_type": "code",
   "execution_count": 7,
   "id": "aa04f9c9",
   "metadata": {
    "tags": []
   },
   "outputs": [
    {
     "name": "stdout",
     "output_type": "stream",
     "text": [
      "Min date: 2022-01-01 00:00:00\n",
      "Max date: 2022-12-31 23:45:00\n"
     ]
    }
   ],
   "source": [
    "# Convert time types to check if entries are from correct range\n",
    "df[\"trip_start_timestamp\"] = pd.to_datetime(df[\"trip_start_timestamp\"])\n",
    "df[\"trip_end_timestamp\"] = pd.to_datetime(df[\"trip_end_timestamp\"])\n",
    "\n",
    "# In range of 2022:\n",
    "print(f\"Min date: {df['trip_start_timestamp'].min()}\")\n",
    "print(f\"Max date: {df['trip_start_timestamp'].max()}\")\n",
    "\n",
    "# Convert other \n",
    "df[\"trip_seconds\"] =  pd.to_numeric(df['trip_seconds'])"
   ]
  },
  {
   "cell_type": "markdown",
   "id": "16563307",
   "metadata": {},
   "source": [
    "Make sure these are the right dates, here it should say **2022-01-01 00:00:00** and **2022-12-31 23:45:00**. \n",
    "\n",
    "Drop trips with start_time > end_time:"
   ]
  },
  {
   "cell_type": "code",
   "execution_count": 8,
   "id": "b0e75532-d41d-48e8-913c-827a6c26be2e",
   "metadata": {
    "tags": []
   },
   "outputs": [
    {
     "name": "stdout",
     "output_type": "stream",
     "text": [
      "Number of invalid time entries:  122\n"
     ]
    }
   ],
   "source": [
    "print(\"Number of invalid time entries: \",len(df[df['trip_end_timestamp'] < df['trip_start_timestamp']]))"
   ]
  },
  {
   "cell_type": "code",
   "execution_count": 9,
   "id": "5f217f36",
   "metadata": {
    "tags": []
   },
   "outputs": [],
   "source": [
    "invalid_time = df[df['trip_end_timestamp'] < df['trip_start_timestamp']].index\n",
    "\n",
    "df = df.drop(invalid_time)"
   ]
  },
  {
   "cell_type": "markdown",
   "id": "656fe15f",
   "metadata": {},
   "source": [
    "Add additional trip_hours feature for better intuitive understanding of the time compared to trip_seconds:"
   ]
  },
  {
   "cell_type": "code",
   "execution_count": 10,
   "id": "58938092",
   "metadata": {
    "tags": []
   },
   "outputs": [],
   "source": [
    "df['trip_hours'] = df['trip_seconds'] / 3600"
   ]
  },
  {
   "cell_type": "markdown",
   "id": "4345ff92",
   "metadata": {},
   "source": [
    "#### 1.2.2 Duplicate entries"
   ]
  },
  {
   "cell_type": "code",
   "execution_count": 11,
   "id": "083dcfdc",
   "metadata": {
    "tags": []
   },
   "outputs": [
    {
     "name": "stdout",
     "output_type": "stream",
     "text": [
      "Number of duplicate entries:  0\n"
     ]
    }
   ],
   "source": [
    "# Check duplicates \n",
    "print(\"Number of duplicate entries: \", df.duplicated().sum())"
   ]
  },
  {
   "cell_type": "markdown",
   "id": "2a5e3e69",
   "metadata": {},
   "source": [
    "If one considers all columns there seem to be no features. But since we don't exactly know how the trip_id is derived and assigned in the data collection process, we check for duplicates without considering trip_id:"
   ]
  },
  {
   "cell_type": "code",
   "execution_count": 12,
   "id": "cb075946",
   "metadata": {
    "tags": []
   },
   "outputs": [],
   "source": [
    "# columns not to consider\n",
    "exclude_columns = ['trip_id']\n",
    "\n",
    "# columns to consider\n",
    "columns_to_consider = list(set(df.columns) - set(exclude_columns))"
   ]
  },
  {
   "cell_type": "code",
   "execution_count": 13,
   "id": "4eefaaed",
   "metadata": {
    "tags": []
   },
   "outputs": [
    {
     "name": "stdout",
     "output_type": "stream",
     "text": [
      "Number of duplicate entries:  17551\n"
     ]
    }
   ],
   "source": [
    "# Check duplicates \n",
    "print(\"Number of duplicate entries: \", df.duplicated(subset = columns_to_consider).sum())"
   ]
  },
  {
   "cell_type": "markdown",
   "id": "e3be2ea6",
   "metadata": {},
   "source": [
    "Same with additionally taxi_id:"
   ]
  },
  {
   "cell_type": "code",
   "execution_count": 14,
   "id": "f62b544e",
   "metadata": {
    "tags": []
   },
   "outputs": [],
   "source": [
    "# columns not to consider\n",
    "exclude_columns = ['trip_id', 'taxi_id']\n",
    "\n",
    "# columns to consider\n",
    "columns_to_consider = list(set(df.columns) - set(exclude_columns))"
   ]
  },
  {
   "cell_type": "code",
   "execution_count": 15,
   "id": "0e7bfb99",
   "metadata": {
    "tags": []
   },
   "outputs": [
    {
     "name": "stdout",
     "output_type": "stream",
     "text": [
      "Number of duplicate entries:  20282\n"
     ]
    }
   ],
   "source": [
    "# Check duplicates \n",
    "print(\"Number of duplicate entries: \", df.duplicated(subset = columns_to_consider).sum())"
   ]
  },
  {
   "cell_type": "markdown",
   "id": "29435236",
   "metadata": {},
   "source": [
    "It is very unlikely that two or more rows that share the same value for every column except for trip_id and taxi_id are no duplicates. So we decide to drop these additional duplicate rows:"
   ]
  },
  {
   "cell_type": "code",
   "execution_count": 16,
   "id": "5f07becb",
   "metadata": {
    "tags": []
   },
   "outputs": [],
   "source": [
    "df = df.drop_duplicates(subset = columns_to_consider, keep='first')"
   ]
  },
  {
   "cell_type": "code",
   "execution_count": 17,
   "id": "aa8157d3",
   "metadata": {
    "tags": []
   },
   "outputs": [
    {
     "name": "stdout",
     "output_type": "stream",
     "text": [
      "There still are 6362021 rows in the dataset\n"
     ]
    }
   ],
   "source": [
    "print('There still are ' + str(df.shape[0]) + ' rows in the dataset')"
   ]
  },
  {
   "cell_type": "markdown",
   "id": "35913cab-4b5c-411a-b643-6967ebffabd8",
   "metadata": {},
   "source": [
    "#### 1.2.3 Checking and handling NAN values "
   ]
  },
  {
   "cell_type": "code",
   "execution_count": 18,
   "id": "5c408596-7164-4de5-8667-ee1f288ef766",
   "metadata": {
    "ExecuteTime": {
     "end_time": "2024-07-04T18:19:43.664214Z",
     "start_time": "2024-07-04T18:19:42.528131Z"
    },
    "tags": []
   },
   "outputs": [
    {
     "name": "stdout",
     "output_type": "stream",
     "text": [
      "General shape of dataframe: (6362021, 24)\n",
      "trip_id                             0\n",
      "taxi_id                           353\n",
      "trip_start_timestamp                0\n",
      "trip_end_timestamp                210\n",
      "trip_seconds                     1333\n",
      "trip_miles                         56\n",
      "pickup_census_tract           3745802\n",
      "dropoff_census_tract          3694176\n",
      "pickup_community_area          512313\n",
      "dropoff_community_area         631574\n",
      "fare                             3512\n",
      "tips                             3512\n",
      "tolls                            3512\n",
      "extras                           3512\n",
      "trip_total                       3512\n",
      "payment_type                        0\n",
      "company                             0\n",
      "pickup_centroid_latitude       510051\n",
      "pickup_centroid_longitude      510051\n",
      "pickup_centroid_location       510051\n",
      "dropoff_centroid_latitude      595868\n",
      "dropoff_centroid_longitude     595868\n",
      "dropoff_centroid_location      595868\n",
      "trip_hours                       1333\n",
      "dtype: int64\n"
     ]
    }
   ],
   "source": [
    "# Look into NAN values\n",
    "print(f\"General shape of dataframe: {df.shape}\")\n",
    "print(df.isna().sum())"
   ]
  },
  {
   "cell_type": "markdown",
   "id": "639ba5bb",
   "metadata": {},
   "source": [
    "##### taxi_id:\n",
    "We drop the 353 rows with NAN values, since its only a very small amount and there is no possibility to derive the missing values:"
   ]
  },
  {
   "cell_type": "code",
   "execution_count": 19,
   "id": "d7543c6b",
   "metadata": {
    "tags": []
   },
   "outputs": [],
   "source": [
    "df = df.drop(df[( df['taxi_id'].isna() )].index)"
   ]
  },
  {
   "cell_type": "markdown",
   "id": "509285d7",
   "metadata": {},
   "source": [
    "##### trip_end_timestamp:"
   ]
  },
  {
   "cell_type": "code",
   "execution_count": 20,
   "id": "9b1554a3-1313-44cd-9d3c-682dc2473a77",
   "metadata": {
    "tags": []
   },
   "outputs": [
    {
     "name": "stdout",
     "output_type": "stream",
     "text": [
      "Nr. of rows where trip_end_timestamp is missing:\n",
      "209\n",
      "Nr. of rows where trip_end_timestamp is missing and also trip_seconds:\n",
      "209\n"
     ]
    }
   ],
   "source": [
    "print('Nr. of rows where trip_end_timestamp is missing:')\n",
    "print(df[( df['trip_end_timestamp'].isna() )].shape[0])\n",
    "\n",
    "print('Nr. of rows where trip_end_timestamp is missing and also trip_seconds:')\n",
    "print(df[( df['trip_end_timestamp'].isna() ) & ( df['trip_seconds'].isna() )].shape[0])"
   ]
  },
  {
   "cell_type": "markdown",
   "id": "ea0735a8",
   "metadata": {},
   "source": [
    "For every where trip_end_timestamp is missing, also trip_seconds is missing. So we can't calculate it and will drop these rows:"
   ]
  },
  {
   "cell_type": "code",
   "execution_count": 21,
   "id": "e716cbcd",
   "metadata": {
    "tags": []
   },
   "outputs": [],
   "source": [
    "df = df.drop(df[( df['trip_end_timestamp'].isna() )].index)"
   ]
  },
  {
   "cell_type": "markdown",
   "id": "d2ce248c",
   "metadata": {},
   "source": [
    "##### trip_seconds:"
   ]
  },
  {
   "cell_type": "markdown",
   "id": "e071074f",
   "metadata": {},
   "source": [
    "For the rows with missing trip_seconds we can now calculate it from trip_start_timestamp and trip_end_timestamp:"
   ]
  },
  {
   "cell_type": "code",
   "execution_count": 22,
   "id": "d08b075c",
   "metadata": {
    "tags": []
   },
   "outputs": [
    {
     "name": "stdout",
     "output_type": "stream",
     "text": [
      "Nr. of rows where trip_seconds is missing:\n",
      "1123\n"
     ]
    }
   ],
   "source": [
    "print('Nr. of rows where trip_seconds is missing:')\n",
    "print(df[( df['trip_seconds'].isna() )].shape[0])"
   ]
  },
  {
   "cell_type": "code",
   "execution_count": 23,
   "id": "3492da31",
   "metadata": {
    "ExecuteTime": {
     "end_time": "2024-07-04T18:24:58.430112Z",
     "start_time": "2024-07-04T18:24:58.383870Z"
    },
    "collapsed": false,
    "jupyter": {
     "outputs_hidden": false
    },
    "tags": []
   },
   "outputs": [],
   "source": [
    "mask = df['trip_seconds'].isna()\n",
    "# Note that this is an estimate, as the time stamps are rounded to the nearest quarter of an hour.\n",
    "df.loc[mask, 'trip_seconds'] = (df.loc[mask, 'trip_end_timestamp'] - df.loc[mask, 'trip_start_timestamp']).dt.total_seconds()\n",
    "\n",
    "# also calculate the missing trip_hours from the new trip_seconds\n",
    "df['trip_hours'] = df['trip_seconds'] / 3600"
   ]
  },
  {
   "cell_type": "markdown",
   "id": "6b21a0da",
   "metadata": {},
   "source": [
    "##### trip_miles:\n",
    "We will drop rows with missing values, since there are only 56 of them and we don't see any possibility to derive it from the pickup and dropoff information since it does not contain information about the actual route of the trip:"
   ]
  },
  {
   "cell_type": "code",
   "execution_count": 24,
   "id": "7c503e18",
   "metadata": {
    "tags": []
   },
   "outputs": [
    {
     "name": "stdout",
     "output_type": "stream",
     "text": [
      "Nr. of rows where trip_miles is missing:\n",
      "56\n"
     ]
    }
   ],
   "source": [
    "print('Nr. of rows where trip_miles is missing:')\n",
    "print(df[( df['trip_miles'].isna() )].shape[0])"
   ]
  },
  {
   "cell_type": "code",
   "execution_count": 25,
   "id": "3fff45c2",
   "metadata": {
    "tags": []
   },
   "outputs": [],
   "source": [
    "df = df.drop(df[( df['trip_miles'].isna() )].index)"
   ]
  },
  {
   "cell_type": "code",
   "execution_count": 26,
   "id": "3fe6ed07",
   "metadata": {
    "ExecuteTime": {
     "end_time": "2024-07-04T18:24:59.581228Z",
     "start_time": "2024-07-04T18:24:58.427392Z"
    },
    "collapsed": false,
    "jupyter": {
     "outputs_hidden": false
    },
    "tags": []
   },
   "outputs": [
    {
     "name": "stdout",
     "output_type": "stream",
     "text": [
      "trip_id                             0\n",
      "taxi_id                             0\n",
      "trip_start_timestamp                0\n",
      "trip_end_timestamp                  0\n",
      "trip_seconds                        0\n",
      "trip_miles                          0\n",
      "pickup_census_tract           3745273\n",
      "dropoff_census_tract          3693575\n",
      "pickup_community_area          511854\n",
      "dropoff_community_area         631009\n",
      "fare                             3509\n",
      "tips                             3509\n",
      "tolls                            3509\n",
      "extras                           3509\n",
      "trip_total                       3509\n",
      "payment_type                        0\n",
      "company                             0\n",
      "pickup_centroid_latitude       509592\n",
      "pickup_centroid_longitude      509592\n",
      "pickup_centroid_location       509592\n",
      "dropoff_centroid_latitude      595303\n",
      "dropoff_centroid_longitude     595303\n",
      "dropoff_centroid_location      595303\n",
      "trip_hours                          0\n",
      "dtype: int64\n"
     ]
    }
   ],
   "source": [
    "print(df.isna().sum())"
   ]
  },
  {
   "cell_type": "markdown",
   "id": "2e720ce8",
   "metadata": {},
   "source": [
    "##### fare to trip_total:"
   ]
  },
  {
   "cell_type": "code",
   "execution_count": 27,
   "id": "a114d2ad",
   "metadata": {
    "tags": []
   },
   "outputs": [
    {
     "name": "stdout",
     "output_type": "stream",
     "text": [
      "Nr of rows where everything from fare to trip_total is missing: 3509\n"
     ]
    }
   ],
   "source": [
    "print('Nr of rows where everything from fare to trip_total is missing: ' + str(df[( df['fare'].isna() ) & ( df['tips'].isna() ) & ( df['tolls'].isna() ) & ( df['extras'].isna() ) & ( df['trip_total'].isna() )].shape[0]))"
   ]
  },
  {
   "cell_type": "markdown",
   "id": "05dfff6e",
   "metadata": {},
   "source": [
    "This matches with the number of missing values in each of the single columns. So if one component of the total trip costs is missing, every other component is also missing. Since we have no possiblity to derive these values and there are only 3.512 of more than 6.000.000 rows affected, we drop these rows:"
   ]
  },
  {
   "cell_type": "code",
   "execution_count": 28,
   "id": "97ac9f63",
   "metadata": {
    "tags": []
   },
   "outputs": [],
   "source": [
    "df = df.drop(df[( df['trip_total'].isna() )].index)"
   ]
  },
  {
   "cell_type": "code",
   "execution_count": 29,
   "id": "73e5efbf",
   "metadata": {
    "tags": []
   },
   "outputs": [
    {
     "name": "stdout",
     "output_type": "stream",
     "text": [
      "trip_id                             0\n",
      "taxi_id                             0\n",
      "trip_start_timestamp                0\n",
      "trip_end_timestamp                  0\n",
      "trip_seconds                        0\n",
      "trip_miles                          0\n",
      "pickup_census_tract           3743504\n",
      "dropoff_census_tract          3691862\n",
      "pickup_community_area          511275\n",
      "dropoff_community_area         630443\n",
      "fare                                0\n",
      "tips                                0\n",
      "tolls                               0\n",
      "extras                              0\n",
      "trip_total                          0\n",
      "payment_type                        0\n",
      "company                             0\n",
      "pickup_centroid_latitude       509020\n",
      "pickup_centroid_longitude      509020\n",
      "pickup_centroid_location       509020\n",
      "dropoff_centroid_latitude      594770\n",
      "dropoff_centroid_longitude     594770\n",
      "dropoff_centroid_location      594770\n",
      "trip_hours                          0\n",
      "dtype: int64\n",
      "6357894\n"
     ]
    }
   ],
   "source": [
    "print(df.isna().sum())\n",
    "print(df.shape[0])"
   ]
  },
  {
   "cell_type": "markdown",
   "id": "c336bd5e",
   "metadata": {},
   "source": [
    "#### 1.2.4 trip_total logic"
   ]
  },
  {
   "cell_type": "markdown",
   "id": "ec86d0dd",
   "metadata": {},
   "source": [
    "From the source of the dataset we know that fare, tips, tolls, and extras should add up to the amount trip_total states, whereby cash tips will generaly not be recorded. Check if this is true and if trip_total is valid:"
   ]
  },
  {
   "cell_type": "code",
   "execution_count": 30,
   "id": "e4400aa0",
   "metadata": {
    "tags": []
   },
   "outputs": [],
   "source": [
    "df_costs = df\n",
    "\n",
    "df_costs = df_costs[['fare', 'tips', 'tolls', 'extras', 'trip_total']].copy()"
   ]
  },
  {
   "cell_type": "code",
   "execution_count": 31,
   "id": "95c80083",
   "metadata": {
    "tags": []
   },
   "outputs": [],
   "source": [
    "def check_and_calculate_deviation_of_cost_components_to_total_amount(df_costs):\n",
    "    # columns to sum\n",
    "    columns_to_sum = ['fare', 'tips', 'tolls', 'extras']\n",
    "\n",
    "    # check if the sum of the specified columns equals the trip_total\n",
    "    check_sum = df_costs[columns_to_sum].sum(axis=1) == df_costs['trip_total']\n",
    "\n",
    "    # calculate the difference\n",
    "    sum_diff = df_costs['trip_total'] - df_costs[columns_to_sum].sum(axis=1)\n",
    "\n",
    "    return check_sum, sum_diff"
   ]
  },
  {
   "cell_type": "code",
   "execution_count": 32,
   "id": "46322853",
   "metadata": {
    "tags": []
   },
   "outputs": [],
   "source": [
    "check_sum, sum_diff = check_and_calculate_deviation_of_cost_components_to_total_amount(df_costs)\n",
    "\n",
    "df_costs['check_sum'] = check_sum\n",
    "df_costs['sum_diff'] = sum_diff"
   ]
  },
  {
   "cell_type": "code",
   "execution_count": 33,
   "id": "b2ef048c",
   "metadata": {
    "tags": []
   },
   "outputs": [
    {
     "name": "stdout",
     "output_type": "stream",
     "text": [
      "The trip_total deviates from the sum of the other cost related columns in 1842878 rows.\n"
     ]
    }
   ],
   "source": [
    "print('The trip_total deviates from the sum of the other cost related columns in ' + str(df_costs[~df_costs['check_sum']].shape[0]) + ' rows.')"
   ]
  },
  {
   "cell_type": "markdown",
   "id": "b861a11d",
   "metadata": {},
   "source": [
    "Check how large these differences are or if they could be just be caused by cash tips not recorded in the tips column but somehow consideration in the total_trip column for example if the drivers manually record it only in the total_trip amount:"
   ]
  },
  {
   "cell_type": "code",
   "execution_count": 34,
   "id": "1149b4d8",
   "metadata": {
    "tags": []
   },
   "outputs": [
    {
     "name": "stdout",
     "output_type": "stream",
     "text": [
      "count    1.842878e+06\n",
      "mean     5.424019e-01\n",
      "std      4.185221e-01\n",
      "min     -1.818989e-12\n",
      "25%      5.000000e-01\n",
      "50%      5.000000e-01\n",
      "75%      5.000000e-01\n",
      "max      2.500000e+01\n",
      "Name: sum_diff, dtype: float64\n"
     ]
    }
   ],
   "source": [
    "# only consider the rows where the sum is not matching\n",
    "print(df_costs[~df_costs['check_sum']]['sum_diff'].describe())"
   ]
  },
  {
   "cell_type": "markdown",
   "id": "7e0bc147",
   "metadata": {},
   "source": [
    "We can see that the deviation is not large in the mean. Also the largest deviation in to the negative is small. Only the maximum positiv deviation is a higher value. Check the distribution of the deviations by again only considering these rows, where the sum is not matching. The x-limits are derived from the stistics above:"
   ]
  },
  {
   "cell_type": "code",
   "execution_count": 35,
   "id": "f750576b",
   "metadata": {
    "tags": []
   },
   "outputs": [
    {
     "data": {
      "image/png": "[encoded data removed]",
      "text/plain": [
       "<Figure size 640x480 with 1 Axes>"
      ]
     },
     "metadata": {},
     "output_type": "display_data"
    }
   ],
   "source": [
    "plt.hist(df_costs[~df_costs['check_sum']]['sum_diff'], bins=200)\n",
    "plt.xlim(-2,26)\n",
    "plt.show()"
   ]
  },
  {
   "cell_type": "markdown",
   "id": "52e19912",
   "metadata": {},
   "source": [
    "Here we also see that most deviations are very small and under five dollars. Now only consider larger deviations of more than five dollars:"
   ]
  },
  {
   "cell_type": "code",
   "execution_count": 36,
   "id": "f797912f",
   "metadata": {},
   "outputs": [
    {
     "data": {
      "image/png": "[encoded data removed]",
      "text/plain": [
       "<Figure size 640x480 with 1 Axes>"
      ]
     },
     "metadata": {},
     "output_type": "display_data"
    }
   ],
   "source": [
    "plt.hist(df_costs[( df_costs['sum_diff'] > 5 ) | ( df_costs['sum_diff'] < -5 )]['sum_diff'], bins=100)\n",
    "plt.xlim(-2,26)\n",
    "plt.show()"
   ]
  },
  {
   "cell_type": "markdown",
   "id": "911c5e06",
   "metadata": {},
   "source": [
    "There are only 2 cases where the sum deviates more than five dollars. We evaluate all of these deviations as not critical, since they mostly are very small and could be the result of not separately recorded cash tips. We will also keep the rows with the larger deviations for now, since the adjustment for outliers is just about to follow in the next section."
   ]
  },
  {
   "cell_type": "markdown",
   "id": "be75af58-fa47-4934-8a41-568adfba6bf0",
   "metadata": {},
   "source": [
    "#### 1.2.5 Drop Outliers"
   ]
  },
  {
   "cell_type": "markdown",
   "id": "046955cb",
   "metadata": {},
   "source": [
    "For numeric values we can check for outliers. This affects trip_seconds, trip_miles, fare, tips, tolls, extras and trip_total."
   ]
  },
  {
   "cell_type": "code",
   "execution_count": 37,
   "id": "04550351-88cd-4104-b1bf-ea3863be1488",
   "metadata": {
    "ExecuteTime": {
     "end_time": "2024-07-04T17:55:41.388039Z",
     "start_time": "2024-07-04T17:55:41.386195Z"
    },
    "tags": []
   },
   "outputs": [],
   "source": [
    "df_outliers = df"
   ]
  },
  {
   "cell_type": "markdown",
   "id": "0d473d97",
   "metadata": {},
   "source": [
    "#### --- Plots of outliers here ---"
   ]
  },
  {
   "cell_type": "code",
   "execution_count": 38,
   "id": "1e877a98-59bc-454e-8ea8-7bab8b0070e9",
   "metadata": {
    "ExecuteTime": {
     "end_time": "2024-07-04T17:55:44.400599Z",
     "start_time": "2024-07-04T17:55:44.397396Z"
    },
    "tags": []
   },
   "outputs": [],
   "source": [
    "def drop_outliers(df, column, mean, std):\n",
    "    return df[(df[column] > mean - 3 * std) & (df[column] < mean + 3 * std)]"
   ]
  },
  {
   "cell_type": "markdown",
   "id": "0628ce40",
   "metadata": {},
   "source": [
    "Calculate outliers on the whole current dataset, before dropping rows that are outliers in another column. "
   ]
  },
  {
   "cell_type": "code",
   "execution_count": 39,
   "id": "a1843fad-a424-4307-bf6b-06d261390a2b",
   "metadata": {
    "ExecuteTime": {
     "end_time": "2024-07-04T17:55:46.231165Z",
     "start_time": "2024-07-04T17:55:44.403087Z"
    },
    "tags": []
   },
   "outputs": [],
   "source": [
    "std_trip_seconds = df_outliers['trip_seconds'].describe(include='all').loc['std']\n",
    "mean_trip_seconds = df_outliers['trip_seconds'].describe(include='all').loc['mean']\n",
    "\n",
    "std_trip_miles = df_outliers['trip_miles'].describe(include='all').loc['std']\n",
    "mean_trip_miles = df_outliers['trip_miles'].describe(include='all').loc['mean']\n",
    "\n",
    "std_fare = df_outliers['fare'].describe(include='all').loc['std']\n",
    "mean_fare = df_outliers['fare'].describe(include='all').loc['mean']\n",
    "\n",
    "std_tips = df_outliers['tips'].describe(include='all').loc['std']\n",
    "mean_tips = df_outliers['tips'].describe(include='all').loc['mean']\n",
    "\n",
    "std_tolls = df_outliers['tolls'].describe(include='all').loc['std']\n",
    "mean_tolls = df_outliers['tolls'].describe(include='all').loc['mean']\n",
    "\n",
    "std_extras = df_outliers['extras'].describe(include='all').loc['std']\n",
    "mean_extras = df_outliers['extras'].describe(include='all').loc['mean']\n",
    "\n",
    "std_trip_total = df_outliers['trip_total'].describe(include='all').loc['std']\n",
    "mean_trip_total = df_outliers['trip_total'].describe(include='all').loc['mean']"
   ]
  },
  {
   "cell_type": "code",
   "execution_count": 40,
   "id": "62b4a426",
   "metadata": {
    "tags": []
   },
   "outputs": [
    {
     "name": "stdout",
     "output_type": "stream",
     "text": [
      "6357894\n"
     ]
    }
   ],
   "source": [
    "print(df_outliers.shape[0])"
   ]
  },
  {
   "cell_type": "code",
   "execution_count": 41,
   "id": "7d8a4022-a194-439b-8590-cac2ef188a5a",
   "metadata": {
    "ExecuteTime": {
     "end_time": "2024-07-04T17:55:49.362528Z",
     "start_time": "2024-07-04T17:55:46.235249Z"
    },
    "tags": []
   },
   "outputs": [],
   "source": [
    "df_outliers = drop_outliers(df_outliers, \"trip_seconds\", mean_trip_seconds, std_trip_seconds)\n",
    "df_outliers = drop_outliers(df_outliers, \"trip_miles\", mean_trip_miles, std_trip_miles)\n",
    "df_outliers = drop_outliers(df_outliers, \"fare\", mean_fare, std_fare)\n",
    "df_outliers = drop_outliers(df_outliers, \"tips\", mean_tips, std_tips)\n",
    "df_outliers = drop_outliers(df_outliers, \"tolls\", mean_tolls, std_tolls)\n",
    "df_outliers = drop_outliers(df_outliers, \"extras\", mean_extras, std_extras)\n",
    "df_outliers = drop_outliers(df_outliers, \"trip_total\", mean_trip_total, std_trip_total)"
   ]
  },
  {
   "cell_type": "code",
   "execution_count": 42,
   "id": "c44b6b8d-d2d8-4738-88fd-493b759b40a4",
   "metadata": {
    "ExecuteTime": {
     "end_time": "2024-07-04T17:55:49.370294Z",
     "start_time": "2024-07-04T17:55:49.361291Z"
    },
    "tags": []
   },
   "outputs": [
    {
     "name": "stdout",
     "output_type": "stream",
     "text": [
      "6256487\n"
     ]
    }
   ],
   "source": [
    "print(df_outliers.shape[0])"
   ]
  },
  {
   "cell_type": "markdown",
   "id": "5afef74d",
   "metadata": {},
   "source": [
    "We dropped only about 100,000 from about 6,300,000 rows."
   ]
  },
  {
   "cell_type": "markdown",
   "id": "b7627190",
   "metadata": {},
   "source": [
    "Now check again for the difference in the some of cost components and total_trip amount. The rows with larger deviations are removed:"
   ]
  },
  {
   "cell_type": "code",
   "execution_count": 43,
   "id": "69ab563d",
   "metadata": {
    "tags": []
   },
   "outputs": [
    {
     "name": "stdout",
     "output_type": "stream",
     "text": [
      "Nr of rows with deviations larger than five dollars: 0\n"
     ]
    }
   ],
   "source": [
    "check_sum, sum_diff = check_and_calculate_deviation_of_cost_components_to_total_amount(df_costs)\n",
    "\n",
    "df_outliers['sum_diff'] = sum_diff\n",
    "\n",
    "print('Nr of rows with deviations larger than five dollars: ' + str(df_outliers[(df_outliers['sum_diff'] > 5) | (df_outliers['sum_diff']  < -5)].shape[0]))"
   ]
  },
  {
   "cell_type": "code",
   "execution_count": 44,
   "id": "7d41684e",
   "metadata": {
    "tags": []
   },
   "outputs": [],
   "source": [
    "# continue working on the new dataset\n",
    "df_outliers = df_outliers.drop('sum_diff', axis=1)\n",
    "df = df_outliers.copy()"
   ]
  },
  {
   "cell_type": "markdown",
   "id": "b57122f3",
   "metadata": {},
   "source": [
    "#### 1.2.6 Check for unreasonable 0-values"
   ]
  },
  {
   "cell_type": "code",
   "execution_count": 45,
   "id": "dbab2890-eea1-4cba-a9b1-b7180356038f",
   "metadata": {
    "ExecuteTime": {
     "end_time": "2024-07-04T17:55:56.308141Z",
     "start_time": "2024-07-04T17:55:55.983908Z"
    },
    "tags": []
   },
   "outputs": [
    {
     "name": "stdout",
     "output_type": "stream",
     "text": [
      "Number of zero entries for trip_seconds:  145330\n",
      "Number of zero entries for trip_miles:  772401\n",
      "Number of zero entries for trip_total:  5480\n"
     ]
    }
   ],
   "source": [
    "# Number of equal zero entries after dropping\n",
    "print(\"Number of zero entries for trip_seconds: \", len(df[df[\"trip_seconds\"] == 0]))\n",
    "print(\"Number of zero entries for trip_miles: \", len(df[df[\"trip_miles\"] == 0]))\n",
    "print(\"Number of zero entries for trip_total: \", len(df[df[\"trip_total\"] == 0]))"
   ]
  },
  {
   "cell_type": "markdown",
   "id": "1d9e67ba",
   "metadata": {},
   "source": [
    "#####  Cancelled Trips Logic:\n",
    "We consider a trip cancelled if\n",
    "- trip_miles = 0\n",
    "- trip_seconds = 0\n",
    "- pickup = dropoff (regarding centroid location) \n",
    "\n",
    "We don't consider trip_total cause there might be differing canceling charges depending on journey to the customer and potential waiting time (e.g. additional costs for amount of customers, idle time, etc.)"
   ]
  },
  {
   "cell_type": "code",
   "execution_count": 46,
   "id": "7d2b57de",
   "metadata": {
    "tags": []
   },
   "outputs": [],
   "source": [
    "condition_geolocation = (df['pickup_centroid_location'].notna()) & (df['dropoff_centroid_location'].notna()) & (df['pickup_centroid_location'].notna() == df['dropoff_centroid_location'].notna())\n",
    "\n",
    "condition = (condition_geolocation & ( df['trip_miles'] == 0 ) & ( df['trip_seconds'] == 0 )) \n",
    "\n",
    "df_cancelled = df[condition]\n",
    "\n",
    "df_no_cancelled = df[~condition]"
   ]
  },
  {
   "cell_type": "code",
   "execution_count": 47,
   "id": "2789f983",
   "metadata": {
    "tags": []
   },
   "outputs": [
    {
     "name": "stdout",
     "output_type": "stream",
     "text": [
      "(106077, 24)\n",
      "(6150410, 24)\n"
     ]
    }
   ],
   "source": [
    "print(df_cancelled.shape)\n",
    "print(df_no_cancelled.shape)"
   ]
  },
  {
   "cell_type": "code",
   "execution_count": 48,
   "id": "e471f2a8",
   "metadata": {
    "tags": []
   },
   "outputs": [
    {
     "data": {
      "image/png": "[encoded data removed]",
      "text/plain": [
       "<Figure size 640x480 with 1 Axes>"
      ]
     },
     "metadata": {},
     "output_type": "display_data"
    }
   ],
   "source": [
    "#title\n",
    "plt.hist(df_no_cancelled[(df_no_cancelled['trip_miles'] == 0)]['trip_seconds'], bins=100)\n",
    "#plt.xlim(-2,26)\n",
    "plt.show()"
   ]
  },
  {
   "cell_type": "code",
   "execution_count": 49,
   "id": "db1fc00c",
   "metadata": {
    "tags": []
   },
   "outputs": [
    {
     "data": {
      "image/png": "[encoded data removed]",
      "text/plain": [
       "<Figure size 640x480 with 1 Axes>"
      ]
     },
     "metadata": {},
     "output_type": "display_data"
    }
   ],
   "source": [
    "#title\n",
    "plt.hist(df_no_cancelled[(df_no_cancelled['trip_miles'] == 0)]['trip_total'], bins=100)\n",
    "#plt.xlim(-2,26)\n",
    "plt.show()"
   ]
  },
  {
   "cell_type": "code",
   "execution_count": 50,
   "id": "a974fddc",
   "metadata": {
    "tags": []
   },
   "outputs": [
    {
     "name": "stdout",
     "output_type": "stream",
     "text": [
      "(32493, 24)\n"
     ]
    }
   ],
   "source": [
    "#might be also cancelled but not sure because of missing location data\n",
    "print(df_no_cancelled[(df_no_cancelled['trip_miles'] == 0) & (df_no_cancelled[\"trip_seconds\"] == 0)].shape)"
   ]
  },
  {
   "cell_type": "markdown",
   "id": "9d5470fb",
   "metadata": {},
   "source": [
    "A part of the rows with zero values in the respective columns fullfills our criteria for cancelled trips, but there is also a big part where it does not because of missing location data and trip_seconds > 0. The distribution of trip_seconds and trip_total in the case of trip_miles = 0 seems non-trivial, which is why we decide to keep all of these rows for further analysis in the descriptive analytics and cluster analysis part."
   ]
  },
  {
   "cell_type": "markdown",
   "id": "ab9a29bb",
   "metadata": {},
   "source": [
    "#### -- plot seconds against miles here --"
   ]
  },
  {
   "cell_type": "markdown",
   "id": "96870ef9-34bb-4d72-b728-afd1fbbb1ad2",
   "metadata": {},
   "source": [
    "#### 1.2.7 Mph Logic"
   ]
  },
  {
   "cell_type": "markdown",
   "id": "4a5dd593-3a71-41e1-a517-f26f1187c192",
   "metadata": {},
   "source": [
    "To have some orientation for the speed limit in Chicago/Cook County, we took this as a source: https://www.arcgis.com/home/item.html?id=5e279cbe89794bcba87809d9ae95594d which resulted in a limit of 65 mph for our taxi data, as anything above is unrealistic. Erwähne dass es nur darum geht unrealistische rows die 65 überschreitn zu entfernen. Für alles darunter hat mhp wegen Stand- und Wartezeiten nicht die große Aussagekraft"
   ]
  },
  {
   "cell_type": "code",
   "execution_count": 51,
   "id": "7ae95e93-2e44-45a0-9ac1-652f33c8af0d",
   "metadata": {
    "ExecuteTime": {
     "end_time": "2024-07-01T11:55:22.242123Z",
     "start_time": "2024-07-01T11:55:22.187416Z"
    },
    "tags": []
   },
   "outputs": [],
   "source": [
    "df['mph'] = np.where(df['trip_hours'] != 0, df['trip_miles'] / df['trip_hours'], np.nan)"
   ]
  },
  {
   "cell_type": "code",
   "execution_count": 52,
   "id": "921dacf1-2322-43f7-a106-d731aaae5417",
   "metadata": {
    "ExecuteTime": {
     "end_time": "2024-07-01T11:55:23.223863Z",
     "start_time": "2024-07-01T11:55:22.231903Z"
    },
    "tags": []
   },
   "outputs": [],
   "source": [
    "df = df[(df[\"mph\"] <= 65)]"
   ]
  },
  {
   "cell_type": "code",
   "execution_count": 53,
   "id": "725fca8d-6ed1-4c32-8022-1a3118682479",
   "metadata": {
    "ExecuteTime": {
     "end_time": "2024-07-01T11:55:23.245734Z",
     "start_time": "2024-07-01T11:55:23.227102Z"
    },
    "tags": []
   },
   "outputs": [],
   "source": [
    "df = df.drop('mph', axis=1)"
   ]
  },
  {
   "cell_type": "markdown",
   "id": "d4bc0e9a",
   "metadata": {},
   "source": [
    "#### 1.2.8 Prepare Different Temporal Discretization"
   ]
  },
  {
   "cell_type": "code",
   "execution_count": 54,
   "id": "306fd50f",
   "metadata": {
    "tags": []
   },
   "outputs": [],
   "source": [
    "df['1_hour_window'] = df['trip_start_timestamp'].dt.hour\n",
    "df['start_1_hour_sin'] = np.sin(df['1_hour_window']*(2.*np.pi/24))\n",
    "df['start_1_hour_cos'] = np.cos(df['1_hour_window']*(2.*np.pi/24))"
   ]
  },
  {
   "cell_type": "code",
   "execution_count": 55,
   "id": "e69f9846",
   "metadata": {
    "tags": []
   },
   "outputs": [],
   "source": [
    "df['4_hour_window'] = df['trip_start_timestamp'].dt.floor('4h').dt.hour\n",
    "df['4_hour_window_sin'] = np.sin(df['4_hour_window']*(2.*np.pi/24))\n",
    "df['4_hour_window_cos'] = np.cos(df['4_hour_window']*(2.*np.pi/24))"
   ]
  },
  {
   "cell_type": "code",
   "execution_count": 56,
   "id": "de95bcc7",
   "metadata": {
    "tags": []
   },
   "outputs": [],
   "source": [
    "df['6_hour_window'] = df['trip_start_timestamp'].dt.floor('6h').dt.hour\n",
    "df['6_hour_window_sin'] = np.sin(df['6_hour_window']*(2.*np.pi/24))\n",
    "df['6_hour_window_cos'] = np.cos(df['6_hour_window']*(2.*np.pi/24))"
   ]
  },
  {
   "cell_type": "code",
   "execution_count": 57,
   "id": "b94b3af5",
   "metadata": {},
   "outputs": [],
   "source": [
    "df['weekday']      = df['trip_start_timestamp'].dt.dayofweek\n",
    "df['weekday_sin']  = np.sin(df['weekday']*(2.*np.pi/7))\n",
    "df['weekday_cos']  = np.cos(df['weekday']*(2.*np.pi/7))"
   ]
  },
  {
   "cell_type": "code",
   "execution_count": 58,
   "id": "d29f7960",
   "metadata": {},
   "outputs": [
    {
     "data": {
      "image/png": "[encoded data removed]",
      "text/plain": [
       "<Figure size 1000x500 with 1 Axes>"
      ]
     },
     "metadata": {},
     "output_type": "display_data"
    }
   ],
   "source": [
    "plt.figure(figsize=(10, 5))\n",
    "colors = ['blue', 'red', 'green']\n",
    "plt.scatter(df[:500000]['start_1_hour_sin'], df[:500000]['start_1_hour_cos'], color='blue', alpha=0.5, label=f'6-Stunden-Zyklus')\n",
    "#plt.scatter(df['4_hour_window_sin'].unique(), df['4_hour_window_cos'].unique(), color='red', alpha=0.5, label=f'4-Stunden-Zyklus')\n",
    "\n",
    "plt.title('Zyklische Darstellung der Stunden')\n",
    "plt.xlabel('Sinus der Stunde')\n",
    "plt.ylabel('Kosinus der Stunde')\n",
    "plt.legend()\n",
    "plt.grid(True)\n",
    "plt.axis('equal')\n",
    "plt.show()"
   ]
  },
  {
   "cell_type": "code",
   "execution_count": 59,
   "id": "83cadb55",
   "metadata": {},
   "outputs": [
    {
     "data": {
      "image/png": "[encoded data removed]",
      "text/plain": [
       "<Figure size 1000x500 with 1 Axes>"
      ]
     },
     "metadata": {},
     "output_type": "display_data"
    }
   ],
   "source": [
    "unique_points = df[['weekday_sin', 'weekday_cos']].drop_duplicates()\n",
    "\n",
    "# Plot\n",
    "plt.figure(figsize=(10, 5))\n",
    "plt.scatter(unique_points['weekday_sin'], unique_points['weekday_cos'], color='blue', alpha=0.5, label='4-Stunden-Zyklus')\n",
    "plt.title('Zyklische Darstellung der Stunden')\n",
    "plt.xlabel('Sinus der Stunde')\n",
    "plt.ylabel('Kosinus der Stunde')\n",
    "plt.legend()\n",
    "plt.grid(True)\n",
    "plt.axis('equal')\n",
    "plt.show()"
   ]
  },
  {
   "cell_type": "markdown",
   "id": "75ae2acb",
   "metadata": {},
   "source": [
    "### 1.2.11 Encode data"
   ]
  },
  {
   "cell_type": "markdown",
   "id": "d698be3d",
   "metadata": {},
   "source": [
    "Encode categorical string columns to numerical values. This affects in particular the columns \"taxi_id\", \"company\" and \"payment_type\". "
   ]
  },
  {
   "cell_type": "code",
   "execution_count": 60,
   "id": "a84f87a3",
   "metadata": {},
   "outputs": [],
   "source": [
    "def encode_and_save_mappings(df, columns, output_prefix='data/trips_mapping_'):\n",
    "    for column in columns:\n",
    "        df[f'{column}_encoded'] = pd.factorize(df[column])[0]\n",
    "        \n",
    "        mapping = df[[column, f'{column}_encoded']].drop_duplicates().sort_values(f'{column}_encoded')\n",
    "        mapping.to_csv(f'{output_prefix}{column.lower().replace(\" \", \"_\")}.csv', index=False)\n",
    "        \n",
    "        print(f\"Mapping for {column} saved to {output_prefix}{column.lower().replace(' ', '_')}.csv\")\n",
    "        print(f\"Check for correct mapping: \\nNumber of unique entries: {len(df[column].unique())} \\nNumber of mappings: {len(df[f'{column}_encoded'].unique())}\")\n",
    "    return df"
   ]
  },
  {
   "cell_type": "code",
   "execution_count": 61,
   "id": "f27d5b5c",
   "metadata": {},
   "outputs": [
    {
     "name": "stdout",
     "output_type": "stream",
     "text": [
      "Mapping for payment_type saved to data/trips_mapping_payment_type.csv\n",
      "Check for correct mapping: \n",
      "Number of unique entries: 8 \n",
      "Number of mappings: 8\n",
      "Mapping for company saved to data/trips_mapping_company.csv\n",
      "Check for correct mapping: \n",
      "Number of unique entries: 37 \n",
      "Number of mappings: 37\n",
      "Mapping for taxi_id saved to data/trips_mapping_taxi_id.csv\n",
      "Check for correct mapping: \n",
      "Number of unique entries: 2938 \n",
      "Number of mappings: 2938\n"
     ]
    }
   ],
   "source": [
    "columns_to_encode = ['payment_type', 'company', 'taxi_id']\n",
    "df = encode_and_save_mappings(df, columns_to_encode)"
   ]
  },
  {
   "cell_type": "markdown",
   "id": "785ae31a-6702-4030-aa0a-3445e3598a6c",
   "metadata": {
    "tags": []
   },
   "source": [
    "### 1.3 Merging Community Area Data"
   ]
  },
  {
   "cell_type": "markdown",
   "id": "2244c493",
   "metadata": {},
   "source": [
    "In order to obtain the names of the pickup and dropoff community areas and the community areas itself where it is missing while having centroid_location available, we merge our dataset with a community area dataset from https://data.cityofchicago.org/Facilities-Geographic-Boundaries/Boundaries-Community-Areas-current-/cauq-8yn6. "
   ]
  },
  {
   "cell_type": "code",
   "execution_count": 62,
   "id": "f31b48f4-aa98-49fb-9989-062a07ab44b1",
   "metadata": {
    "ExecuteTime": {
     "end_time": "2024-07-01T11:55:46.645352Z",
     "start_time": "2024-07-01T11:55:45.650468Z"
    },
    "tags": []
   },
   "outputs": [],
   "source": [
    "# Import prepped dfs\n",
    "community_df = gp.read_file(\"data/prepped/community_df.geojson\")"
   ]
  },
  {
   "cell_type": "code",
   "execution_count": 63,
   "id": "8773249d-ce7c-4aa7-a617-72f9bfb94579",
   "metadata": {
    "ExecuteTime": {
     "end_time": "2024-07-01T11:55:50.707425Z",
     "start_time": "2024-07-01T11:55:50.701039Z"
    },
    "tags": []
   },
   "outputs": [
    {
     "data": {
      "text/html": [
       "<div>\n",
       "<style scoped>\n",
       "    .dataframe tbody tr th:only-of-type {\n",
       "        vertical-align: middle;\n",
       "    }\n",
       "\n",
       "    .dataframe tbody tr th {\n",
       "        vertical-align: top;\n",
       "    }\n",
       "\n",
       "    .dataframe thead th {\n",
       "        text-align: right;\n",
       "    }\n",
       "</style>\n",
       "<table border=\"1\" class=\"dataframe\">\n",
       "  <thead>\n",
       "    <tr style=\"text-align: right;\">\n",
       "      <th></th>\n",
       "      <th>community</th>\n",
       "      <th>area_number</th>\n",
       "      <th>geometry</th>\n",
       "    </tr>\n",
       "  </thead>\n",
       "  <tbody>\n",
       "    <tr>\n",
       "      <th>0</th>\n",
       "      <td>DOUGLAS</td>\n",
       "      <td>35</td>\n",
       "      <td>MULTIPOLYGON (((-87.60914 41.84469, -87.60915 ...</td>\n",
       "    </tr>\n",
       "    <tr>\n",
       "      <th>1</th>\n",
       "      <td>OAKLAND</td>\n",
       "      <td>36</td>\n",
       "      <td>MULTIPOLYGON (((-87.59215 41.81693, -87.59231 ...</td>\n",
       "    </tr>\n",
       "    <tr>\n",
       "      <th>2</th>\n",
       "      <td>FULLER PARK</td>\n",
       "      <td>37</td>\n",
       "      <td>MULTIPOLYGON (((-87.62880 41.80189, -87.62879 ...</td>\n",
       "    </tr>\n",
       "    <tr>\n",
       "      <th>3</th>\n",
       "      <td>GRAND BOULEVARD</td>\n",
       "      <td>38</td>\n",
       "      <td>MULTIPOLYGON (((-87.60671 41.81681, -87.60670 ...</td>\n",
       "    </tr>\n",
       "    <tr>\n",
       "      <th>4</th>\n",
       "      <td>KENWOOD</td>\n",
       "      <td>39</td>\n",
       "      <td>MULTIPOLYGON (((-87.59215 41.81693, -87.59215 ...</td>\n",
       "    </tr>\n",
       "  </tbody>\n",
       "</table>\n",
       "</div>"
      ],
      "text/plain": [
       "         community area_number  \\\n",
       "0          DOUGLAS          35   \n",
       "1          OAKLAND          36   \n",
       "2      FULLER PARK          37   \n",
       "3  GRAND BOULEVARD          38   \n",
       "4          KENWOOD          39   \n",
       "\n",
       "                                            geometry  \n",
       "0  MULTIPOLYGON (((-87.60914 41.84469, -87.60915 ...  \n",
       "1  MULTIPOLYGON (((-87.59215 41.81693, -87.59231 ...  \n",
       "2  MULTIPOLYGON (((-87.62880 41.80189, -87.62879 ...  \n",
       "3  MULTIPOLYGON (((-87.60671 41.81681, -87.60670 ...  \n",
       "4  MULTIPOLYGON (((-87.59215 41.81693, -87.59215 ...  "
      ]
     },
     "execution_count": 63,
     "metadata": {},
     "output_type": "execute_result"
    }
   ],
   "source": [
    "community_df.head()"
   ]
  },
  {
   "cell_type": "markdown",
   "id": "c0b0c82d",
   "metadata": {},
   "source": [
    "Merge the two datasets based on the coordinates. In our original dataset (df) we have coordinates (longitude and latitude) for each trip/row where it is available. From the Community Area dataset we have for each community area a multipolygon with coordinates that lie within this community area:"
   ]
  },
  {
   "cell_type": "code",
   "execution_count": 64,
   "id": "87c07be2-a309-4270-9370-4b47b812b05d",
   "metadata": {
    "ExecuteTime": {
     "end_time": "2024-07-01T11:56:44.558016Z",
     "start_time": "2024-07-01T11:55:54.996242Z"
    },
    "tags": []
   },
   "outputs": [],
   "source": [
    "def merge_geodata(df, lat_col, lon_col, community_col, area_number_col, prefix):\n",
    "    gdf = gp.GeoDataFrame(df, geometry=gp.points_from_xy(df[lon_col], df[lat_col]))\n",
    "    gdf = gdf.rename_geometry(f\"{prefix}_geometry\")\n",
    "    \n",
    "    gdf.set_crs(epsg=4326, inplace=True)\n",
    "    community_df.to_crs(epsg=4326, inplace=True)\n",
    "\n",
    "    # Perform the spatial join\n",
    "    merged_gdf = gp.sjoin(gdf, community_df, how=\"left\", predicate=\"within\")\n",
    "\n",
    "    # Drop unnecessary columns\n",
    "    merged_gdf = merged_gdf.drop([f\"{prefix}_geometry\", \"index_right\"], axis=1)\n",
    "\n",
    "    # Rename columns\n",
    "    merged_gdf = merged_gdf.rename(columns={\n",
    "        community_col: f\"{prefix}_community\",\n",
    "        area_number_col: f\"{prefix}_area_number\"\n",
    "    })\n",
    "\n",
    "    return pd.DataFrame(merged_gdf)\n",
    "\n",
    "# Merge for pickup\n",
    "df_merged = merge_geodata(df, 'pickup_centroid_latitude', 'pickup_centroid_longitude', 'community', 'area_number', 'pickup')\n",
    "# Merge for dropoff\n",
    "df_merged = merge_geodata(df_merged, 'dropoff_centroid_latitude', 'dropoff_centroid_longitude', 'community', 'area_number', 'dropoff')"
   ]
  },
  {
   "cell_type": "code",
   "execution_count": 65,
   "id": "a76a32da-8a81-490d-a68e-cfebd5f93281",
   "metadata": {
    "ExecuteTime": {
     "end_time": "2024-07-01T12:01:20.092301Z",
     "start_time": "2024-07-01T12:01:18.522414Z"
    },
    "tags": []
   },
   "outputs": [
    {
     "data": {
      "text/plain": [
       "trip_id                             0\n",
       "taxi_id                             0\n",
       "trip_start_timestamp                0\n",
       "trip_end_timestamp                  0\n",
       "trip_seconds                        0\n",
       "trip_miles                          0\n",
       "pickup_census_tract           3600489\n",
       "dropoff_census_tract          3515011\n",
       "pickup_community_area          473795\n",
       "dropoff_community_area         541636\n",
       "fare                                0\n",
       "tips                                0\n",
       "tolls                               0\n",
       "extras                              0\n",
       "trip_total                          0\n",
       "payment_type                        0\n",
       "company                             0\n",
       "pickup_centroid_latitude       471777\n",
       "pickup_centroid_longitude      471777\n",
       "pickup_centroid_location       471777\n",
       "dropoff_centroid_latitude      506778\n",
       "dropoff_centroid_longitude     506778\n",
       "dropoff_centroid_location      506778\n",
       "trip_hours                          0\n",
       "1_hour_window                       0\n",
       "start_1_hour_sin                    0\n",
       "start_1_hour_cos                    0\n",
       "4_hour_window                       0\n",
       "4_hour_window_sin                   0\n",
       "4_hour_window_cos                   0\n",
       "6_hour_window                       0\n",
       "6_hour_window_sin                   0\n",
       "6_hour_window_cos                   0\n",
       "weekday                             0\n",
       "weekday_sin                         0\n",
       "weekday_cos                         0\n",
       "payment_type_encoded                0\n",
       "company_encoded                     0\n",
       "taxi_id_encoded                     0\n",
       "pickup_community               471793\n",
       "pickup_area_number             471793\n",
       "dropoff_community              506981\n",
       "dropoff_area_number            506981\n",
       "dtype: int64"
      ]
     },
     "execution_count": 65,
     "metadata": {},
     "output_type": "execute_result"
    }
   ],
   "source": [
    "df_merged.isna().sum()"
   ]
  },
  {
   "cell_type": "markdown",
   "id": "52ed66e6",
   "metadata": {},
   "source": [
    "pickup_community and dropoff_community (from the community area dataset) represent the same values as pickup_community_area and dropoff_community_area (from the original dataset). Since we merged them based on the longitude and latitude where it is available, we dont have further opportunities to derive missing values. Thats why we drop the rows without any location data:"
   ]
  },
  {
   "cell_type": "code",
   "execution_count": 66,
   "id": "604787b1-c4ac-49e8-af44-bd5db303380a",
   "metadata": {
    "ExecuteTime": {
     "end_time": "2024-07-01T12:34:36.513866Z",
     "start_time": "2024-07-01T12:34:35.190709Z"
    },
    "tags": []
   },
   "outputs": [],
   "source": [
    "condition = (df_merged['pickup_area_number'].notna()) & (df_merged['dropoff_area_number'].notna())\n",
    "\n",
    "df_merged = df_merged[condition]"
   ]
  },
  {
   "cell_type": "code",
   "execution_count": 67,
   "id": "10bc42da",
   "metadata": {
    "ExecuteTime": {
     "end_time": "2024-07-01T12:34:46.091649Z",
     "start_time": "2024-07-01T12:34:44.657612Z"
    },
    "collapsed": false,
    "jupyter": {
     "outputs_hidden": false
    },
    "tags": []
   },
   "outputs": [
    {
     "data": {
      "text/plain": [
       "trip_id                             0\n",
       "taxi_id                             0\n",
       "trip_start_timestamp                0\n",
       "trip_end_timestamp                  0\n",
       "trip_seconds                        0\n",
       "trip_miles                          0\n",
       "pickup_census_tract           2884556\n",
       "dropoff_census_tract          2884556\n",
       "pickup_community_area            1979\n",
       "dropoff_community_area          29038\n",
       "fare                                0\n",
       "tips                                0\n",
       "tolls                               0\n",
       "extras                              0\n",
       "trip_total                          0\n",
       "payment_type                        0\n",
       "company                             0\n",
       "pickup_centroid_latitude            0\n",
       "pickup_centroid_longitude           0\n",
       "pickup_centroid_location            0\n",
       "dropoff_centroid_latitude           0\n",
       "dropoff_centroid_longitude          0\n",
       "dropoff_centroid_location           0\n",
       "trip_hours                          0\n",
       "1_hour_window                       0\n",
       "start_1_hour_sin                    0\n",
       "start_1_hour_cos                    0\n",
       "4_hour_window                       0\n",
       "4_hour_window_sin                   0\n",
       "4_hour_window_cos                   0\n",
       "6_hour_window                       0\n",
       "6_hour_window_sin                   0\n",
       "6_hour_window_cos                   0\n",
       "weekday                             0\n",
       "weekday_sin                         0\n",
       "weekday_cos                         0\n",
       "payment_type_encoded                0\n",
       "company_encoded                     0\n",
       "taxi_id_encoded                     0\n",
       "pickup_community                    0\n",
       "pickup_area_number                  0\n",
       "dropoff_community                   0\n",
       "dropoff_area_number                 0\n",
       "dtype: int64"
      ]
     },
     "execution_count": 67,
     "metadata": {},
     "output_type": "execute_result"
    }
   ],
   "source": [
    "df_merged.isna().sum()"
   ]
  },
  {
   "cell_type": "markdown",
   "id": "2c473eda",
   "metadata": {},
   "source": [
    "Drop the columns pickup_community_area and dropoff_community_area since we have more complete values in the pickup_community and dropoff_community columns form the merged dataset:"
   ]
  },
  {
   "cell_type": "code",
   "execution_count": 68,
   "id": "20ab46da-cba2-4b1d-8bd3-ccc0bf275bae",
   "metadata": {
    "ExecuteTime": {
     "end_time": "2024-07-01T12:44:31.936947Z",
     "start_time": "2024-07-01T12:44:30.589742Z"
    },
    "tags": []
   },
   "outputs": [],
   "source": [
    "df_merged = df_merged.drop(['pickup_community_area', 'dropoff_community_area'], axis=1)"
   ]
  },
  {
   "cell_type": "code",
   "execution_count": 69,
   "id": "d22816e0-f9cf-44cd-a731-721f4264d527",
   "metadata": {
    "ExecuteTime": {
     "end_time": "2024-07-01T12:44:40.636170Z",
     "start_time": "2024-07-01T12:44:40.488041Z"
    },
    "tags": []
   },
   "outputs": [
    {
     "data": {
      "text/plain": [
       "trip_id                             0\n",
       "taxi_id                             0\n",
       "trip_start_timestamp                0\n",
       "trip_end_timestamp                  0\n",
       "trip_seconds                        0\n",
       "trip_miles                          0\n",
       "pickup_census_tract           2884556\n",
       "dropoff_census_tract          2884556\n",
       "fare                                0\n",
       "tips                                0\n",
       "tolls                               0\n",
       "extras                              0\n",
       "trip_total                          0\n",
       "payment_type                        0\n",
       "company                             0\n",
       "pickup_centroid_latitude            0\n",
       "pickup_centroid_longitude           0\n",
       "pickup_centroid_location            0\n",
       "dropoff_centroid_latitude           0\n",
       "dropoff_centroid_longitude          0\n",
       "dropoff_centroid_location           0\n",
       "trip_hours                          0\n",
       "1_hour_window                       0\n",
       "start_1_hour_sin                    0\n",
       "start_1_hour_cos                    0\n",
       "4_hour_window                       0\n",
       "4_hour_window_sin                   0\n",
       "4_hour_window_cos                   0\n",
       "6_hour_window                       0\n",
       "6_hour_window_sin                   0\n",
       "6_hour_window_cos                   0\n",
       "weekday                             0\n",
       "weekday_sin                         0\n",
       "weekday_cos                         0\n",
       "payment_type_encoded                0\n",
       "company_encoded                     0\n",
       "taxi_id_encoded                     0\n",
       "pickup_community                    0\n",
       "pickup_area_number                  0\n",
       "dropoff_community                   0\n",
       "dropoff_area_number                 0\n",
       "dtype: int64"
      ]
     },
     "execution_count": 69,
     "metadata": {},
     "output_type": "execute_result"
    }
   ],
   "source": [
    "df_merged.isna().sum()"
   ]
  },
  {
   "cell_type": "markdown",
   "id": "ef70e630-2020-4f25-9c95-49013352733b",
   "metadata": {},
   "source": [
    "### 1.2.10 Hexagons - res8 and res7 takes too long (deswegen erstmal ausgeklammert)"
   ]
  },
  {
   "cell_type": "code",
   "execution_count": 70,
   "id": "0ac57c17-7797-417e-bc7e-81f5e53e5bc2",
   "metadata": {
    "tags": []
   },
   "outputs": [],
   "source": [
    "# Get hex ids\n",
    "def add_h3_ids(df, res):\n",
    "    df[f\"h3_res{res}_pickup\"] = np.vectorize(h3.geo_to_h3)(\n",
    "        df['pickup_centroid_latitude'], df['pickup_centroid_longitude'], res)\n",
    "    df[f\"h3_res{res}_dropoff\"] = np.vectorize(h3.geo_to_h3)(\n",
    "        df['dropoff_centroid_latitude'], df['dropoff_centroid_longitude'], res)\n",
    "    return df\n",
    "\n",
    "# Get poly from hex ids - vectorized form to save time\n",
    "def poly_from_hex(df, colname, res):\n",
    "    hex_ids = df[f\"h3_res{res}_{colname}\"].values\n",
    "    polygons = np.vectorize(lambda hex_id: Polygon(h3.h3_to_geo_boundary(hex_id, geo_json=True)))(hex_ids)\n",
    "    df[f\"poly_res{res}_{colname}\"] = polygons\n",
    "    return df\n",
    "\n",
    "# Get count for each trip happening in the same hexagon\n",
    "def get_poly_count(df, colname):\n",
    "    name = colname.split(\"_\")[1] + \"_\" + colname.split(\"_\")[2]\n",
    "    df[f\"count{name}\"] = df.groupby(colname)['trip_id'].transform('count')\n",
    "    return df"
   ]
  },
  {
   "cell_type": "code",
   "execution_count": 71,
   "id": "1ce2d96d-b681-4d80-b0c1-48515d111e68",
   "metadata": {
    "tags": []
   },
   "outputs": [],
   "source": [
    "# For hexagon resolution, adapted: https://towardsdatascience.com/exploring-location-data-using-a-hexagon-grid-3509b68b04a2 table\n",
    "df_merged = add_h3_ids(df_merged, 7)\n",
    "df_merged = add_h3_ids(df_merged, 8)"
   ]
  },
  {
   "cell_type": "code",
   "execution_count": 72,
   "id": "2feffd1f-0cad-4afa-b849-4647a1df99dc",
   "metadata": {
    "tags": []
   },
   "outputs": [
    {
     "data": {
      "text/html": [
       "<div>\n",
       "<style scoped>\n",
       "    .dataframe tbody tr th:only-of-type {\n",
       "        vertical-align: middle;\n",
       "    }\n",
       "\n",
       "    .dataframe tbody tr th {\n",
       "        vertical-align: top;\n",
       "    }\n",
       "\n",
       "    .dataframe thead th {\n",
       "        text-align: right;\n",
       "    }\n",
       "</style>\n",
       "<table border=\"1\" class=\"dataframe\">\n",
       "  <thead>\n",
       "    <tr style=\"text-align: right;\">\n",
       "      <th></th>\n",
       "      <th>trip_id</th>\n",
       "      <th>taxi_id</th>\n",
       "      <th>trip_start_timestamp</th>\n",
       "      <th>trip_end_timestamp</th>\n",
       "      <th>trip_seconds</th>\n",
       "      <th>trip_miles</th>\n",
       "      <th>pickup_census_tract</th>\n",
       "      <th>dropoff_census_tract</th>\n",
       "      <th>fare</th>\n",
       "      <th>tips</th>\n",
       "      <th>...</th>\n",
       "      <th>company_encoded</th>\n",
       "      <th>taxi_id_encoded</th>\n",
       "      <th>pickup_community</th>\n",
       "      <th>pickup_area_number</th>\n",
       "      <th>dropoff_community</th>\n",
       "      <th>dropoff_area_number</th>\n",
       "      <th>h3_res7_pickup</th>\n",
       "      <th>h3_res7_dropoff</th>\n",
       "      <th>h3_res8_pickup</th>\n",
       "      <th>h3_res8_dropoff</th>\n",
       "    </tr>\n",
       "  </thead>\n",
       "  <tbody>\n",
       "    <tr>\n",
       "      <th>0</th>\n",
       "      <td>4404c6835b9e74e9f74d70f235200a8ce09db14a</td>\n",
       "      <td>7e179f8ef66ae99ec2d1ec89224e0b7ee5469fe5627f6d...</td>\n",
       "      <td>2022-12-31 23:45:00</td>\n",
       "      <td>2023-01-01 00:15:00</td>\n",
       "      <td>2081.0</td>\n",
       "      <td>4.42</td>\n",
       "      <td>NaN</td>\n",
       "      <td>NaN</td>\n",
       "      <td>20.50</td>\n",
       "      <td>0.00</td>\n",
       "      <td>...</td>\n",
       "      <td>0</td>\n",
       "      <td>0</td>\n",
       "      <td>WEST RIDGE</td>\n",
       "      <td>2</td>\n",
       "      <td>UPTOWN</td>\n",
       "      <td>3</td>\n",
       "      <td>872664d8effffff</td>\n",
       "      <td>872664d89ffffff</td>\n",
       "      <td>882664d8e1fffff</td>\n",
       "      <td>882664d897fffff</td>\n",
       "    </tr>\n",
       "    <tr>\n",
       "      <th>1</th>\n",
       "      <td>466473fd2a196ebe92fb2983cb7e8af32e39aa1f</td>\n",
       "      <td>d1d88b89ceb6d753007b6e795e3c24f4bea905a51e9d47...</td>\n",
       "      <td>2022-12-31 23:45:00</td>\n",
       "      <td>2023-01-01 00:00:00</td>\n",
       "      <td>812.0</td>\n",
       "      <td>0.00</td>\n",
       "      <td>NaN</td>\n",
       "      <td>NaN</td>\n",
       "      <td>13.84</td>\n",
       "      <td>2.73</td>\n",
       "      <td>...</td>\n",
       "      <td>0</td>\n",
       "      <td>1</td>\n",
       "      <td>NEAR NORTH SIDE</td>\n",
       "      <td>8</td>\n",
       "      <td>WEST TOWN</td>\n",
       "      <td>24</td>\n",
       "      <td>872664c1effffff</td>\n",
       "      <td>872664cacffffff</td>\n",
       "      <td>882664c1edfffff</td>\n",
       "      <td>882664cac3fffff</td>\n",
       "    </tr>\n",
       "    <tr>\n",
       "      <th>2</th>\n",
       "      <td>3f5cd3f78e5cab455606a31372a95d3204b2fb3f</td>\n",
       "      <td>847cf962bd6f62040673e6c24c24940aeb2d7fdaa54677...</td>\n",
       "      <td>2022-12-31 23:45:00</td>\n",
       "      <td>2023-01-01 00:00:00</td>\n",
       "      <td>600.0</td>\n",
       "      <td>0.90</td>\n",
       "      <td>NaN</td>\n",
       "      <td>NaN</td>\n",
       "      <td>7.00</td>\n",
       "      <td>2.00</td>\n",
       "      <td>...</td>\n",
       "      <td>1</td>\n",
       "      <td>2</td>\n",
       "      <td>NEAR NORTH SIDE</td>\n",
       "      <td>8</td>\n",
       "      <td>NEAR NORTH SIDE</td>\n",
       "      <td>8</td>\n",
       "      <td>872664c1effffff</td>\n",
       "      <td>872664c1effffff</td>\n",
       "      <td>882664c1edfffff</td>\n",
       "      <td>882664c1edfffff</td>\n",
       "    </tr>\n",
       "    <tr>\n",
       "      <th>3</th>\n",
       "      <td>38292159642750da7b20419330566f9eb0961cde</td>\n",
       "      <td>81092e4881f56106fae845c3ae4492f8b3c3213c33c920...</td>\n",
       "      <td>2022-12-31 23:45:00</td>\n",
       "      <td>2023-01-01 00:00:00</td>\n",
       "      <td>546.0</td>\n",
       "      <td>0.85</td>\n",
       "      <td>NaN</td>\n",
       "      <td>NaN</td>\n",
       "      <td>6.50</td>\n",
       "      <td>0.00</td>\n",
       "      <td>...</td>\n",
       "      <td>2</td>\n",
       "      <td>3</td>\n",
       "      <td>NEAR NORTH SIDE</td>\n",
       "      <td>8</td>\n",
       "      <td>NEAR NORTH SIDE</td>\n",
       "      <td>8</td>\n",
       "      <td>872664c1effffff</td>\n",
       "      <td>872664c1effffff</td>\n",
       "      <td>882664c1edfffff</td>\n",
       "      <td>882664c1edfffff</td>\n",
       "    </tr>\n",
       "    <tr>\n",
       "      <th>4</th>\n",
       "      <td>3e01498f8ff771ad7eb37e4844cef20201b6c339</td>\n",
       "      <td>4ae32e2eb244ce143800e0c40055e537cc50e3358a07ce...</td>\n",
       "      <td>2022-12-31 23:45:00</td>\n",
       "      <td>2023-01-01 00:00:00</td>\n",
       "      <td>574.0</td>\n",
       "      <td>0.33</td>\n",
       "      <td>NaN</td>\n",
       "      <td>NaN</td>\n",
       "      <td>6.25</td>\n",
       "      <td>0.00</td>\n",
       "      <td>...</td>\n",
       "      <td>3</td>\n",
       "      <td>4</td>\n",
       "      <td>NEAR NORTH SIDE</td>\n",
       "      <td>8</td>\n",
       "      <td>NEAR NORTH SIDE</td>\n",
       "      <td>8</td>\n",
       "      <td>872664c1effffff</td>\n",
       "      <td>872664c1effffff</td>\n",
       "      <td>882664c1edfffff</td>\n",
       "      <td>882664c1edfffff</td>\n",
       "    </tr>\n",
       "  </tbody>\n",
       "</table>\n",
       "<p>5 rows × 45 columns</p>\n",
       "</div>"
      ],
      "text/plain": [
       "                                    trip_id  \\\n",
       "0  4404c6835b9e74e9f74d70f235200a8ce09db14a   \n",
       "1  466473fd2a196ebe92fb2983cb7e8af32e39aa1f   \n",
       "2  3f5cd3f78e5cab455606a31372a95d3204b2fb3f   \n",
       "3  38292159642750da7b20419330566f9eb0961cde   \n",
       "4  3e01498f8ff771ad7eb37e4844cef20201b6c339   \n",
       "\n",
       "                                             taxi_id trip_start_timestamp  \\\n",
       "0  7e179f8ef66ae99ec2d1ec89224e0b7ee5469fe5627f6d...  2022-12-31 23:45:00   \n",
       "1  d1d88b89ceb6d753007b6e795e3c24f4bea905a51e9d47...  2022-12-31 23:45:00   \n",
       "2  847cf962bd6f62040673e6c24c24940aeb2d7fdaa54677...  2022-12-31 23:45:00   \n",
       "3  81092e4881f56106fae845c3ae4492f8b3c3213c33c920...  2022-12-31 23:45:00   \n",
       "4  4ae32e2eb244ce143800e0c40055e537cc50e3358a07ce...  2022-12-31 23:45:00   \n",
       "\n",
       "   trip_end_timestamp  trip_seconds  trip_miles  pickup_census_tract  \\\n",
       "0 2023-01-01 00:15:00        2081.0        4.42                  NaN   \n",
       "1 2023-01-01 00:00:00         812.0        0.00                  NaN   \n",
       "2 2023-01-01 00:00:00         600.0        0.90                  NaN   \n",
       "3 2023-01-01 00:00:00         546.0        0.85                  NaN   \n",
       "4 2023-01-01 00:00:00         574.0        0.33                  NaN   \n",
       "\n",
       "   dropoff_census_tract   fare  tips  ...  company_encoded  taxi_id_encoded  \\\n",
       "0                   NaN  20.50  0.00  ...                0                0   \n",
       "1                   NaN  13.84  2.73  ...                0                1   \n",
       "2                   NaN   7.00  2.00  ...                1                2   \n",
       "3                   NaN   6.50  0.00  ...                2                3   \n",
       "4                   NaN   6.25  0.00  ...                3                4   \n",
       "\n",
       "   pickup_community pickup_area_number dropoff_community  dropoff_area_number  \\\n",
       "0        WEST RIDGE                  2            UPTOWN                    3   \n",
       "1   NEAR NORTH SIDE                  8         WEST TOWN                   24   \n",
       "2   NEAR NORTH SIDE                  8   NEAR NORTH SIDE                    8   \n",
       "3   NEAR NORTH SIDE                  8   NEAR NORTH SIDE                    8   \n",
       "4   NEAR NORTH SIDE                  8   NEAR NORTH SIDE                    8   \n",
       "\n",
       "    h3_res7_pickup  h3_res7_dropoff   h3_res8_pickup  h3_res8_dropoff  \n",
       "0  872664d8effffff  872664d89ffffff  882664d8e1fffff  882664d897fffff  \n",
       "1  872664c1effffff  872664cacffffff  882664c1edfffff  882664cac3fffff  \n",
       "2  872664c1effffff  872664c1effffff  882664c1edfffff  882664c1edfffff  \n",
       "3  872664c1effffff  872664c1effffff  882664c1edfffff  882664c1edfffff  \n",
       "4  872664c1effffff  872664c1effffff  882664c1edfffff  882664c1edfffff  \n",
       "\n",
       "[5 rows x 45 columns]"
      ]
     },
     "execution_count": 72,
     "metadata": {},
     "output_type": "execute_result"
    }
   ],
   "source": [
    "df_merged.head()"
   ]
  },
  {
   "cell_type": "markdown",
   "id": "f2ec8077-1a89-48c4-9968-cbfcf182f5df",
   "metadata": {},
   "source": [
    "#### Save Data"
   ]
  },
  {
   "cell_type": "code",
   "execution_count": 73,
   "id": "df461977-6a85-4bc9-8dff-2bc8dedc7811",
   "metadata": {
    "tags": []
   },
   "outputs": [],
   "source": [
    "df_merged.to_csv('data/prepped/prep_taxidata.csv')"
   ]
  }
 ],
 "metadata": {
  "kernelspec": {
   "display_name": "Python 3 (ipykernel)",
   "language": "python",
   "name": "python3"
  },
  "language_info": {
   "codemirror_mode": {
    "name": "ipython",
    "version": 3
   },
   "file_extension": ".py",
   "mimetype": "text/x-python",
   "name": "python",
   "nbconvert_exporter": "python",
   "pygments_lexer": "ipython3",
   "version": "3.9.18"
  },
  "toc-autonumbering": false,
  "toc-showcode": false,
  "toc-showmarkdowntxt": false
 },
 "nbformat": 4,
 "nbformat_minor": 5
}
