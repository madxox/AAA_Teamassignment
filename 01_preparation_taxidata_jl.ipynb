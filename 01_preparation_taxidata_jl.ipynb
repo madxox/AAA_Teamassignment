{
 "cells": [
  {
   "cell_type": "markdown",
   "id": "dc44b7ae7599b956",
   "metadata": {},
   "source": [
    "## 1.0a Taxi Data - Preprocessing -- Newest Version"
   ]
  },
  {
   "cell_type": "markdown",
   "id": "f4662e21-9b19-40fc-8797-bfc543d4f9c3",
   "metadata": {},
   "source": [
    "In this first notebook, the main dataframe is preprocessed. This includes:\n",
    "- Read and display datafile\n",
    "- Checking data logic & removing invalid data\n",
    "- Changing its datatypes\n",
    "- Dropping trivial or null columns/rows\n",
    "- Splitting the data into subsets and saving them for further work"
   ]
  },
  {
   "cell_type": "markdown",
   "id": "d86dda84-d670-437b-bc0e-4c874d709a45",
   "metadata": {
    "tags": []
   },
   "source": [
    "As the original data is rather large in size, it is not included in the repository. Instead, when wanting to run this notebook, it is necessary to:\n",
    "1. Download the data from https://data.cityofchicago.org/Transportation/Taxi-Trips/wrvz-psew#column-menu where you specify via Actions->Query Data->Trip Start Timestamp // In Between // 2022 Jan 01 12:00:00 AM AND 2022 Dec 31 11:59:59 PM\n",
    "2. Rename the file to \"taxidata\"\n",
    "3. Run the code cell below and add the data to the following directory"
   ]
  },
  {
   "cell_type": "markdown",
   "id": "47c0380c",
   "metadata": {},
   "source": [
    "There is a short description of each column of the dataset available at: https://data.cityofchicago.org/Transportation/Taxi-Trips-2022/npd7-ywjz/about_data. In this notebook we assume that this information is known and refer to it. "
   ]
  },
  {
   "cell_type": "code",
   "execution_count": 113,
   "id": "0d5efe0c-aa7b-4222-9d5b-98e1d38ed437",
   "metadata": {
    "ExecuteTime": {
     "end_time": "2024-07-04T18:19:06.544800Z",
     "start_time": "2024-07-04T18:19:06.533879Z"
    },
    "tags": []
   },
   "outputs": [],
   "source": [
    "import os\n",
    "# this directory for the original data file\n",
    "os.makedirs('./data', exist_ok=True)\n",
    "# this directory to later save the prepared data\n",
    "os.makedirs('./data/prepped', exist_ok=True)"
   ]
  },
  {
   "cell_type": "code",
   "execution_count": 114,
   "id": "dc92b812d1290ab",
   "metadata": {
    "ExecuteTime": {
     "end_time": "2024-07-04T18:19:09.342057Z",
     "start_time": "2024-07-04T18:19:09.322232Z"
    },
    "tags": []
   },
   "outputs": [],
   "source": [
    "# Standard libraries\n",
    "import pandas as pd\n",
    "import numpy as np\n",
    "import matplotlib.pyplot as plt\n",
    "\n",
    "# Geospatial libraries\n",
    "from h3 import h3 \n",
    "import geopandas as gp\n",
    "from shapely.geometry.polygon import Polygon"
   ]
  },
  {
   "cell_type": "markdown",
   "id": "1937f9e5-5bfb-4597-a3d2-2aca16ea1772",
   "metadata": {},
   "source": [
    "### 1.1 Read and display datafile"
   ]
  },
  {
   "cell_type": "markdown",
   "id": "18ebff24",
   "metadata": {
    "jupyter": {
     "outputs_hidden": false
    }
   },
   "source": [
    "Data file not included in the project, needs to be downloaded individually. This step can take a few minutes due to size of the original file"
   ]
  },
  {
   "cell_type": "code",
   "execution_count": 115,
   "id": "3939294bd434c611",
   "metadata": {
    "ExecuteTime": {
     "end_time": "2024-07-04T18:19:41.256970Z",
     "start_time": "2024-07-04T18:19:09.327422Z"
    },
    "tags": []
   },
   "outputs": [],
   "source": [
    "df = pd.read_csv(\"data/taxidata.csv\")"
   ]
  },
  {
   "cell_type": "code",
   "execution_count": 116,
   "id": "18fc4c99-ad27-4b7b-9bd9-52895492b7dd",
   "metadata": {
    "ExecuteTime": {
     "end_time": "2024-07-04T18:19:41.296642Z",
     "start_time": "2024-07-04T18:19:41.273425Z"
    },
    "tags": []
   },
   "outputs": [
    {
     "data": {
      "text/html": [
       "<div>\n",
       "<style scoped>\n",
       "    .dataframe tbody tr th:only-of-type {\n",
       "        vertical-align: middle;\n",
       "    }\n",
       "\n",
       "    .dataframe tbody tr th {\n",
       "        vertical-align: top;\n",
       "    }\n",
       "\n",
       "    .dataframe thead th {\n",
       "        text-align: right;\n",
       "    }\n",
       "</style>\n",
       "<table border=\"1\" class=\"dataframe\">\n",
       "  <thead>\n",
       "    <tr style=\"text-align: right;\">\n",
       "      <th></th>\n",
       "      <th>trip_id</th>\n",
       "      <th>taxi_id</th>\n",
       "      <th>trip_start_timestamp</th>\n",
       "      <th>trip_end_timestamp</th>\n",
       "      <th>trip_seconds</th>\n",
       "      <th>trip_miles</th>\n",
       "      <th>pickup_census_tract</th>\n",
       "      <th>dropoff_census_tract</th>\n",
       "      <th>pickup_community_area</th>\n",
       "      <th>dropoff_community_area</th>\n",
       "      <th>...</th>\n",
       "      <th>extras</th>\n",
       "      <th>trip_total</th>\n",
       "      <th>payment_type</th>\n",
       "      <th>company</th>\n",
       "      <th>pickup_centroid_latitude</th>\n",
       "      <th>pickup_centroid_longitude</th>\n",
       "      <th>pickup_centroid_location</th>\n",
       "      <th>dropoff_centroid_latitude</th>\n",
       "      <th>dropoff_centroid_longitude</th>\n",
       "      <th>dropoff_centroid_location</th>\n",
       "    </tr>\n",
       "  </thead>\n",
       "  <tbody>\n",
       "    <tr>\n",
       "      <th>0</th>\n",
       "      <td>4404c6835b9e74e9f74d70f235200a8ce09db14a</td>\n",
       "      <td>7e179f8ef66ae99ec2d1ec89224e0b7ee5469fe5627f6d...</td>\n",
       "      <td>2022-12-31T23:45:00.000</td>\n",
       "      <td>2023-01-01T00:15:00.000</td>\n",
       "      <td>2081.0</td>\n",
       "      <td>4.42</td>\n",
       "      <td>NaN</td>\n",
       "      <td>NaN</td>\n",
       "      <td>2.0</td>\n",
       "      <td>3.0</td>\n",
       "      <td>...</td>\n",
       "      <td>0.0</td>\n",
       "      <td>20.50</td>\n",
       "      <td>Prcard</td>\n",
       "      <td>Flash Cab</td>\n",
       "      <td>42.001571</td>\n",
       "      <td>-87.695013</td>\n",
       "      <td>POINT (-87.6950125892 42.001571027)</td>\n",
       "      <td>41.965812</td>\n",
       "      <td>-87.655879</td>\n",
       "      <td>POINT (-87.6558787862 41.96581197)</td>\n",
       "    </tr>\n",
       "    <tr>\n",
       "      <th>1</th>\n",
       "      <td>466473fd2a196ebe92fb2983cb7e8af32e39aa1f</td>\n",
       "      <td>d1d88b89ceb6d753007b6e795e3c24f4bea905a51e9d47...</td>\n",
       "      <td>2022-12-31T23:45:00.000</td>\n",
       "      <td>2023-01-01T00:00:00.000</td>\n",
       "      <td>812.0</td>\n",
       "      <td>0.00</td>\n",
       "      <td>NaN</td>\n",
       "      <td>NaN</td>\n",
       "      <td>8.0</td>\n",
       "      <td>24.0</td>\n",
       "      <td>...</td>\n",
       "      <td>0.0</td>\n",
       "      <td>16.57</td>\n",
       "      <td>Mobile</td>\n",
       "      <td>Flash Cab</td>\n",
       "      <td>41.899602</td>\n",
       "      <td>-87.633308</td>\n",
       "      <td>POINT (-87.6333080367 41.899602111)</td>\n",
       "      <td>41.901207</td>\n",
       "      <td>-87.676356</td>\n",
       "      <td>POINT (-87.6763559892 41.9012069941)</td>\n",
       "    </tr>\n",
       "    <tr>\n",
       "      <th>2</th>\n",
       "      <td>3f5cd3f78e5cab455606a31372a95d3204b2fb3f</td>\n",
       "      <td>847cf962bd6f62040673e6c24c24940aeb2d7fdaa54677...</td>\n",
       "      <td>2022-12-31T23:45:00.000</td>\n",
       "      <td>2023-01-01T00:00:00.000</td>\n",
       "      <td>600.0</td>\n",
       "      <td>0.90</td>\n",
       "      <td>NaN</td>\n",
       "      <td>NaN</td>\n",
       "      <td>8.0</td>\n",
       "      <td>8.0</td>\n",
       "      <td>...</td>\n",
       "      <td>3.0</td>\n",
       "      <td>12.00</td>\n",
       "      <td>Credit Card</td>\n",
       "      <td>Taxi Affiliation Services</td>\n",
       "      <td>41.899602</td>\n",
       "      <td>-87.633308</td>\n",
       "      <td>POINT (-87.6333080367 41.899602111)</td>\n",
       "      <td>41.899602</td>\n",
       "      <td>-87.633308</td>\n",
       "      <td>POINT (-87.6333080367 41.899602111)</td>\n",
       "    </tr>\n",
       "  </tbody>\n",
       "</table>\n",
       "<p>3 rows × 23 columns</p>\n",
       "</div>"
      ],
      "text/plain": [
       "                                    trip_id  \\\n",
       "0  4404c6835b9e74e9f74d70f235200a8ce09db14a   \n",
       "1  466473fd2a196ebe92fb2983cb7e8af32e39aa1f   \n",
       "2  3f5cd3f78e5cab455606a31372a95d3204b2fb3f   \n",
       "\n",
       "                                             taxi_id     trip_start_timestamp  \\\n",
       "0  7e179f8ef66ae99ec2d1ec89224e0b7ee5469fe5627f6d...  2022-12-31T23:45:00.000   \n",
       "1  d1d88b89ceb6d753007b6e795e3c24f4bea905a51e9d47...  2022-12-31T23:45:00.000   \n",
       "2  847cf962bd6f62040673e6c24c24940aeb2d7fdaa54677...  2022-12-31T23:45:00.000   \n",
       "\n",
       "        trip_end_timestamp  trip_seconds  trip_miles  pickup_census_tract  \\\n",
       "0  2023-01-01T00:15:00.000        2081.0        4.42                  NaN   \n",
       "1  2023-01-01T00:00:00.000         812.0        0.00                  NaN   \n",
       "2  2023-01-01T00:00:00.000         600.0        0.90                  NaN   \n",
       "\n",
       "   dropoff_census_tract  pickup_community_area  dropoff_community_area  ...  \\\n",
       "0                   NaN                    2.0                     3.0  ...   \n",
       "1                   NaN                    8.0                    24.0  ...   \n",
       "2                   NaN                    8.0                     8.0  ...   \n",
       "\n",
       "   extras  trip_total  payment_type                    company  \\\n",
       "0     0.0       20.50        Prcard                  Flash Cab   \n",
       "1     0.0       16.57        Mobile                  Flash Cab   \n",
       "2     3.0       12.00   Credit Card  Taxi Affiliation Services   \n",
       "\n",
       "   pickup_centroid_latitude pickup_centroid_longitude  \\\n",
       "0                 42.001571                -87.695013   \n",
       "1                 41.899602                -87.633308   \n",
       "2                 41.899602                -87.633308   \n",
       "\n",
       "              pickup_centroid_location  dropoff_centroid_latitude  \\\n",
       "0  POINT (-87.6950125892 42.001571027)                  41.965812   \n",
       "1  POINT (-87.6333080367 41.899602111)                  41.901207   \n",
       "2  POINT (-87.6333080367 41.899602111)                  41.899602   \n",
       "\n",
       "   dropoff_centroid_longitude             dropoff_centroid_location  \n",
       "0                  -87.655879    POINT (-87.6558787862 41.96581197)  \n",
       "1                  -87.676356  POINT (-87.6763559892 41.9012069941)  \n",
       "2                  -87.633308   POINT (-87.6333080367 41.899602111)  \n",
       "\n",
       "[3 rows x 23 columns]"
      ]
     },
     "execution_count": 116,
     "metadata": {},
     "output_type": "execute_result"
    }
   ],
   "source": [
    "df.head(3)"
   ]
  },
  {
   "cell_type": "code",
   "execution_count": 117,
   "id": "93e37adf",
   "metadata": {
    "tags": []
   },
   "outputs": [
    {
     "name": "stdout",
     "output_type": "stream",
     "text": [
      "Nr. of rows:\n",
      "6382425\n"
     ]
    }
   ],
   "source": [
    "print('Nr. of rows:')\n",
    "print(df.shape[0])"
   ]
  },
  {
   "cell_type": "code",
   "execution_count": 118,
   "id": "a3225e02-5946-45f8-88b3-fb936b834f58",
   "metadata": {
    "ExecuteTime": {
     "end_time": "2024-07-04T18:19:41.298698Z",
     "start_time": "2024-07-04T18:19:41.281555Z"
    },
    "tags": []
   },
   "outputs": [
    {
     "data": {
      "text/plain": [
       "trip_id                        object\n",
       "taxi_id                        object\n",
       "trip_start_timestamp           object\n",
       "trip_end_timestamp             object\n",
       "trip_seconds                  float64\n",
       "trip_miles                    float64\n",
       "pickup_census_tract           float64\n",
       "dropoff_census_tract          float64\n",
       "pickup_community_area         float64\n",
       "dropoff_community_area        float64\n",
       "fare                          float64\n",
       "tips                          float64\n",
       "tolls                         float64\n",
       "extras                        float64\n",
       "trip_total                    float64\n",
       "payment_type                   object\n",
       "company                        object\n",
       "pickup_centroid_latitude      float64\n",
       "pickup_centroid_longitude     float64\n",
       "pickup_centroid_location       object\n",
       "dropoff_centroid_latitude     float64\n",
       "dropoff_centroid_longitude    float64\n",
       "dropoff_centroid_location      object\n",
       "dtype: object"
      ]
     },
     "execution_count": 118,
     "metadata": {},
     "output_type": "execute_result"
    }
   ],
   "source": [
    "# Data types\n",
    "df.dtypes"
   ]
  },
  {
   "cell_type": "markdown",
   "id": "beff097a",
   "metadata": {},
   "source": [
    "### 1.2 Checking data logic & removing invalid data"
   ]
  },
  {
   "cell_type": "markdown",
   "id": "fbbee252",
   "metadata": {},
   "source": [
    "In the following section we will investigate the data for its validity. The location related data will be handled separately in a later section since it requires additional effort. "
   ]
  },
  {
   "cell_type": "markdown",
   "id": "ab675409",
   "metadata": {},
   "source": [
    "#### 1.2.1 Time related features"
   ]
  },
  {
   "cell_type": "code",
   "execution_count": 119,
   "id": "aa04f9c9",
   "metadata": {
    "tags": []
   },
   "outputs": [
    {
     "name": "stdout",
     "output_type": "stream",
     "text": [
      "Min date: 2022-01-01 00:00:00\n",
      "Max date: 2022-12-31 23:45:00\n"
     ]
    }
   ],
   "source": [
    "# Convert time types to check if entries are from correct range\n",
    "df[\"trip_start_timestamp\"] = pd.to_datetime(df[\"trip_start_timestamp\"])\n",
    "df[\"trip_end_timestamp\"] = pd.to_datetime(df[\"trip_end_timestamp\"])\n",
    "\n",
    "# In range of 2022:\n",
    "print(f\"Min date: {df['trip_start_timestamp'].min()}\")\n",
    "print(f\"Max date: {df['trip_start_timestamp'].max()}\")\n",
    "\n",
    "# Convert other \n",
    "df[\"trip_seconds\"] =  pd.to_numeric(df['trip_seconds'])"
   ]
  },
  {
   "cell_type": "markdown",
   "id": "16563307",
   "metadata": {},
   "source": [
    "Make sure these are the right dates, here it should say **2022-01-01 00:00:00** and **2022-12-31 23:45:00**. \n",
    "\n",
    "Drop trips with start_time > end_time:"
   ]
  },
  {
   "cell_type": "code",
   "execution_count": 120,
   "id": "b0e75532-d41d-48e8-913c-827a6c26be2e",
   "metadata": {
    "tags": []
   },
   "outputs": [
    {
     "name": "stdout",
     "output_type": "stream",
     "text": [
      "Number of invalid time entries:  122\n"
     ]
    }
   ],
   "source": [
    "print(\"Number of invalid time entries: \",len(df[df['trip_end_timestamp'] < df['trip_start_timestamp']]))"
   ]
  },
  {
   "cell_type": "code",
   "execution_count": 121,
   "id": "5f217f36",
   "metadata": {
    "tags": []
   },
   "outputs": [],
   "source": [
    "invalid_time = df[df['trip_end_timestamp'] < df['trip_start_timestamp']].index\n",
    "\n",
    "df = df.drop(invalid_time)"
   ]
  },
  {
   "cell_type": "markdown",
   "id": "656fe15f",
   "metadata": {},
   "source": [
    "Add additional trip_hours feature for better intuitive understanding of the time compared to trip_seconds:"
   ]
  },
  {
   "cell_type": "code",
   "execution_count": 122,
   "id": "58938092",
   "metadata": {
    "tags": []
   },
   "outputs": [],
   "source": [
    "df['trip_hours'] = df['trip_seconds'] / 3600"
   ]
  },
  {
   "cell_type": "markdown",
   "id": "4345ff92",
   "metadata": {},
   "source": [
    "#### 1.2.2 Duplicate entries"
   ]
  },
  {
   "cell_type": "code",
   "execution_count": 123,
   "id": "083dcfdc",
   "metadata": {
    "tags": []
   },
   "outputs": [
    {
     "name": "stdout",
     "output_type": "stream",
     "text": [
      "Number of duplicate entries:  0\n"
     ]
    }
   ],
   "source": [
    "# Check duplicates \n",
    "print(\"Number of duplicate entries: \", df.duplicated().sum())"
   ]
  },
  {
   "cell_type": "markdown",
   "id": "2a5e3e69",
   "metadata": {},
   "source": [
    "If one considers all columns there seem to be no features. But since we don't exactly know how the trip_id is derived and assigned in the data collection process, we check for duplicates without considering trip_id:"
   ]
  },
  {
   "cell_type": "code",
   "execution_count": 124,
   "id": "cb075946",
   "metadata": {
    "tags": []
   },
   "outputs": [],
   "source": [
    "# columns not to consider\n",
    "exclude_columns = ['trip_id']\n",
    "\n",
    "# columns to consider\n",
    "columns_to_consider = list(set(df.columns) - set(exclude_columns))"
   ]
  },
  {
   "cell_type": "code",
   "execution_count": 125,
   "id": "4eefaaed",
   "metadata": {
    "tags": []
   },
   "outputs": [
    {
     "name": "stdout",
     "output_type": "stream",
     "text": [
      "Number of duplicate entries:  17551\n"
     ]
    }
   ],
   "source": [
    "# Check duplicates \n",
    "print(\"Number of duplicate entries: \", df.duplicated(subset = columns_to_consider).sum())"
   ]
  },
  {
   "cell_type": "markdown",
   "id": "e3be2ea6",
   "metadata": {},
   "source": [
    "Same with additionally taxi_id:"
   ]
  },
  {
   "cell_type": "code",
   "execution_count": 126,
   "id": "f62b544e",
   "metadata": {
    "tags": []
   },
   "outputs": [],
   "source": [
    "# columns not to consider\n",
    "exclude_columns = ['trip_id', 'taxi_id']\n",
    "\n",
    "# columns to consider\n",
    "columns_to_consider = list(set(df.columns) - set(exclude_columns))"
   ]
  },
  {
   "cell_type": "code",
   "execution_count": 127,
   "id": "0e7bfb99",
   "metadata": {
    "tags": []
   },
   "outputs": [
    {
     "name": "stdout",
     "output_type": "stream",
     "text": [
      "Number of duplicate entries:  20282\n"
     ]
    }
   ],
   "source": [
    "# Check duplicates \n",
    "print(\"Number of duplicate entries: \", df.duplicated(subset = columns_to_consider).sum())"
   ]
  },
  {
   "cell_type": "markdown",
   "id": "29435236",
   "metadata": {},
   "source": [
    "It is very unlikely that two or more rows that share the same value for every column except for trip_id and taxi_id are no duplicates. So we decide to drop these additional duplicate rows:"
   ]
  },
  {
   "cell_type": "code",
   "execution_count": 128,
   "id": "5f07becb",
   "metadata": {
    "tags": []
   },
   "outputs": [],
   "source": [
    "df = df.drop_duplicates(subset = columns_to_consider, keep='first')"
   ]
  },
  {
   "cell_type": "code",
   "execution_count": 129,
   "id": "aa8157d3",
   "metadata": {
    "tags": []
   },
   "outputs": [
    {
     "name": "stdout",
     "output_type": "stream",
     "text": [
      "There still are 6362021 rows in the dataset\n"
     ]
    }
   ],
   "source": [
    "print('There still are ' + str(df.shape[0]) + ' rows in the dataset')"
   ]
  },
  {
   "cell_type": "markdown",
   "id": "35913cab-4b5c-411a-b643-6967ebffabd8",
   "metadata": {},
   "source": [
    "#### 1.2.3 Checking and handling NAN values "
   ]
  },
  {
   "cell_type": "code",
   "execution_count": 130,
   "id": "5c408596-7164-4de5-8667-ee1f288ef766",
   "metadata": {
    "ExecuteTime": {
     "end_time": "2024-07-04T18:19:43.664214Z",
     "start_time": "2024-07-04T18:19:42.528131Z"
    },
    "tags": []
   },
   "outputs": [
    {
     "name": "stdout",
     "output_type": "stream",
     "text": [
      "General shape of dataframe: (6362021, 24)\n",
      "trip_id                             0\n",
      "taxi_id                           353\n",
      "trip_start_timestamp                0\n",
      "trip_end_timestamp                210\n",
      "trip_seconds                     1333\n",
      "trip_miles                         56\n",
      "pickup_census_tract           3745802\n",
      "dropoff_census_tract          3694176\n",
      "pickup_community_area          512313\n",
      "dropoff_community_area         631574\n",
      "fare                             3512\n",
      "tips                             3512\n",
      "tolls                            3512\n",
      "extras                           3512\n",
      "trip_total                       3512\n",
      "payment_type                        0\n",
      "company                             0\n",
      "pickup_centroid_latitude       510051\n",
      "pickup_centroid_longitude      510051\n",
      "pickup_centroid_location       510051\n",
      "dropoff_centroid_latitude      595868\n",
      "dropoff_centroid_longitude     595868\n",
      "dropoff_centroid_location      595868\n",
      "trip_hours                       1333\n",
      "dtype: int64\n"
     ]
    }
   ],
   "source": [
    "# Look into NAN values\n",
    "print(f\"General shape of dataframe: {df.shape}\")\n",
    "print(df.isna().sum())"
   ]
  },
  {
   "cell_type": "markdown",
   "id": "639ba5bb",
   "metadata": {},
   "source": [
    "##### taxi_id:\n",
    "We drop the 353 rows with NAN values, since its only a very small amount and there is no possibility to derive the missing values:"
   ]
  },
  {
   "cell_type": "code",
   "execution_count": 131,
   "id": "d7543c6b",
   "metadata": {
    "tags": []
   },
   "outputs": [],
   "source": [
    "df = df.drop(df[( df['taxi_id'].isna() )].index)"
   ]
  },
  {
   "cell_type": "markdown",
   "id": "509285d7",
   "metadata": {},
   "source": [
    "##### trip_end_timestamp:"
   ]
  },
  {
   "cell_type": "code",
   "execution_count": 132,
   "id": "9b1554a3-1313-44cd-9d3c-682dc2473a77",
   "metadata": {
    "tags": []
   },
   "outputs": [
    {
     "name": "stdout",
     "output_type": "stream",
     "text": [
      "Nr. of rows where trip_end_timestamp is missing:\n",
      "209\n",
      "Nr. of rows where trip_end_timestamp is missing and also trip_seconds:\n",
      "209\n"
     ]
    }
   ],
   "source": [
    "print('Nr. of rows where trip_end_timestamp is missing:')\n",
    "print(df[( df['trip_end_timestamp'].isna() )].shape[0])\n",
    "\n",
    "print('Nr. of rows where trip_end_timestamp is missing and also trip_seconds:')\n",
    "print(df[( df['trip_end_timestamp'].isna() ) & ( df['trip_seconds'].isna() )].shape[0])"
   ]
  },
  {
   "cell_type": "markdown",
   "id": "ea0735a8",
   "metadata": {},
   "source": [
    "For every where trip_end_timestamp is missing, also trip_seconds is missing. So we can't calculate it and will drop these rows:"
   ]
  },
  {
   "cell_type": "code",
   "execution_count": 133,
   "id": "e716cbcd",
   "metadata": {
    "tags": []
   },
   "outputs": [],
   "source": [
    "df = df.drop(df[( df['trip_end_timestamp'].isna() )].index)"
   ]
  },
  {
   "cell_type": "markdown",
   "id": "d2ce248c",
   "metadata": {},
   "source": [
    "##### trip_seconds:"
   ]
  },
  {
   "cell_type": "markdown",
   "id": "e071074f",
   "metadata": {},
   "source": [
    "For the rows with missing trip_seconds we can now calculate it from trip_start_timestamp and trip_end_timestamp (note that it is not an exact value, because the time stamps are rounded to 15 minutes):"
   ]
  },
  {
   "cell_type": "code",
   "execution_count": 134,
   "id": "d08b075c",
   "metadata": {
    "tags": []
   },
   "outputs": [
    {
     "name": "stdout",
     "output_type": "stream",
     "text": [
      "Nr. of rows where trip_seconds is missing:\n",
      "1123\n"
     ]
    }
   ],
   "source": [
    "print('Nr. of rows where trip_seconds is missing:')\n",
    "print(df[( df['trip_seconds'].isna() )].shape[0])"
   ]
  },
  {
   "cell_type": "code",
   "execution_count": 135,
   "id": "3492da31",
   "metadata": {
    "ExecuteTime": {
     "end_time": "2024-07-04T18:24:58.430112Z",
     "start_time": "2024-07-04T18:24:58.383870Z"
    },
    "jupyter": {
     "outputs_hidden": false
    },
    "tags": []
   },
   "outputs": [],
   "source": [
    "mask = df['trip_seconds'].isna()\n",
    "# Note that this is an estimate, as the time stamps are rounded to the nearest quarter of an hour.\n",
    "df.loc[mask, 'trip_seconds'] = (df.loc[mask, 'trip_end_timestamp'] - df.loc[mask, 'trip_start_timestamp']).dt.total_seconds()\n",
    "\n",
    "# also calculate the missing trip_hours from the new trip_seconds\n",
    "df['trip_hours'] = df['trip_seconds'] / 3600"
   ]
  },
  {
   "cell_type": "markdown",
   "id": "6b21a0da",
   "metadata": {},
   "source": [
    "##### trip_miles:\n",
    "We will drop rows with missing values, since there are only 56 of them and we don't see any possibility to derive it from the pickup and dropoff information since it does not contain information about the actual route of the trip:"
   ]
  },
  {
   "cell_type": "code",
   "execution_count": 136,
   "id": "7c503e18",
   "metadata": {
    "tags": []
   },
   "outputs": [
    {
     "name": "stdout",
     "output_type": "stream",
     "text": [
      "Nr. of rows where trip_miles is missing:\n",
      "56\n"
     ]
    }
   ],
   "source": [
    "print('Nr. of rows where trip_miles is missing:')\n",
    "print(df[( df['trip_miles'].isna() )].shape[0])"
   ]
  },
  {
   "cell_type": "code",
   "execution_count": 137,
   "id": "3fff45c2",
   "metadata": {
    "tags": []
   },
   "outputs": [],
   "source": [
    "df = df.drop(df[( df['trip_miles'].isna() )].index)"
   ]
  },
  {
   "cell_type": "code",
   "execution_count": 138,
   "id": "3fe6ed07",
   "metadata": {
    "ExecuteTime": {
     "end_time": "2024-07-04T18:24:59.581228Z",
     "start_time": "2024-07-04T18:24:58.427392Z"
    },
    "jupyter": {
     "outputs_hidden": false
    },
    "tags": []
   },
   "outputs": [
    {
     "name": "stdout",
     "output_type": "stream",
     "text": [
      "trip_id                             0\n",
      "taxi_id                             0\n",
      "trip_start_timestamp                0\n",
      "trip_end_timestamp                  0\n",
      "trip_seconds                        0\n",
      "trip_miles                          0\n",
      "pickup_census_tract           3745273\n",
      "dropoff_census_tract          3693575\n",
      "pickup_community_area          511854\n",
      "dropoff_community_area         631009\n",
      "fare                             3509\n",
      "tips                             3509\n",
      "tolls                            3509\n",
      "extras                           3509\n",
      "trip_total                       3509\n",
      "payment_type                        0\n",
      "company                             0\n",
      "pickup_centroid_latitude       509592\n",
      "pickup_centroid_longitude      509592\n",
      "pickup_centroid_location       509592\n",
      "dropoff_centroid_latitude      595303\n",
      "dropoff_centroid_longitude     595303\n",
      "dropoff_centroid_location      595303\n",
      "trip_hours                          0\n",
      "dtype: int64\n"
     ]
    }
   ],
   "source": [
    "print(df.isna().sum())"
   ]
  },
  {
   "cell_type": "markdown",
   "id": "2e720ce8",
   "metadata": {},
   "source": [
    "##### fare to trip_total:"
   ]
  },
  {
   "cell_type": "code",
   "execution_count": 139,
   "id": "a114d2ad",
   "metadata": {
    "tags": []
   },
   "outputs": [
    {
     "name": "stdout",
     "output_type": "stream",
     "text": [
      "Nr of rows where everything from fare to trip_total is missing: 3509\n"
     ]
    }
   ],
   "source": [
    "print('Nr of rows where everything from fare to trip_total is missing: ' + str(df[( df['fare'].isna() ) & ( df['tips'].isna() ) & ( df['tolls'].isna() ) & ( df['extras'].isna() ) & ( df['trip_total'].isna() )].shape[0]))"
   ]
  },
  {
   "cell_type": "markdown",
   "id": "05dfff6e",
   "metadata": {},
   "source": [
    "This matches with the number of missing values in each of the single columns. So if one component of the total trip costs is missing, every other component is also missing. Since we have no possiblity to derive these values and there are only 3.512 of more than 6.000.000 rows affected, we drop these rows:"
   ]
  },
  {
   "cell_type": "code",
   "execution_count": 140,
   "id": "97ac9f63",
   "metadata": {
    "tags": []
   },
   "outputs": [],
   "source": [
    "df = df.drop(df[( df['trip_total'].isna() )].index)"
   ]
  },
  {
   "cell_type": "code",
   "execution_count": 141,
   "id": "73e5efbf",
   "metadata": {
    "tags": []
   },
   "outputs": [
    {
     "name": "stdout",
     "output_type": "stream",
     "text": [
      "trip_id                             0\n",
      "taxi_id                             0\n",
      "trip_start_timestamp                0\n",
      "trip_end_timestamp                  0\n",
      "trip_seconds                        0\n",
      "trip_miles                          0\n",
      "pickup_census_tract           3743504\n",
      "dropoff_census_tract          3691862\n",
      "pickup_community_area          511275\n",
      "dropoff_community_area         630443\n",
      "fare                                0\n",
      "tips                                0\n",
      "tolls                               0\n",
      "extras                              0\n",
      "trip_total                          0\n",
      "payment_type                        0\n",
      "company                             0\n",
      "pickup_centroid_latitude       509020\n",
      "pickup_centroid_longitude      509020\n",
      "pickup_centroid_location       509020\n",
      "dropoff_centroid_latitude      594770\n",
      "dropoff_centroid_longitude     594770\n",
      "dropoff_centroid_location      594770\n",
      "trip_hours                          0\n",
      "dtype: int64\n",
      "6357894\n"
     ]
    }
   ],
   "source": [
    "print(df.isna().sum())\n",
    "print(df.shape[0])"
   ]
  },
  {
   "cell_type": "markdown",
   "id": "31f19cf4-d8a9-470e-8803-408dfc7d82e4",
   "metadata": {},
   "source": [
    "Now we removed all nan values, except for the location related features. They will be handled later in section 1.3."
   ]
  },
  {
   "cell_type": "markdown",
   "id": "c336bd5e",
   "metadata": {},
   "source": [
    "#### 1.2.4 trip_total logic"
   ]
  },
  {
   "cell_type": "markdown",
   "id": "ec86d0dd",
   "metadata": {},
   "source": [
    "From the source of the dataset we know that fare, tips, tolls, and extras should add up to the amount trip_total states, whereby cash tips will generaly not be recorded. Check if this is true and if trip_total is valid:"
   ]
  },
  {
   "cell_type": "code",
   "execution_count": 142,
   "id": "e4400aa0",
   "metadata": {
    "tags": []
   },
   "outputs": [],
   "source": [
    "df_costs = df\n",
    "\n",
    "df_costs = df_costs[['fare', 'tips', 'tolls', 'extras', 'trip_total']].copy()"
   ]
  },
  {
   "cell_type": "code",
   "execution_count": 143,
   "id": "95c80083",
   "metadata": {
    "tags": []
   },
   "outputs": [],
   "source": [
    "def check_and_calculate_deviation_of_cost_components_to_total_amount(df_costs):\n",
    "    # columns to sum\n",
    "    columns_to_sum = ['fare', 'tips', 'tolls', 'extras']\n",
    "\n",
    "    # check if the sum of the specified columns equals the trip_total\n",
    "    check_sum = df_costs[columns_to_sum].sum(axis=1) == df_costs['trip_total']\n",
    "\n",
    "    # calculate the difference\n",
    "    sum_diff = df_costs['trip_total'] - df_costs[columns_to_sum].sum(axis=1)\n",
    "\n",
    "    return check_sum, sum_diff"
   ]
  },
  {
   "cell_type": "code",
   "execution_count": 144,
   "id": "46322853",
   "metadata": {
    "tags": []
   },
   "outputs": [],
   "source": [
    "check_sum, sum_diff = check_and_calculate_deviation_of_cost_components_to_total_amount(df_costs)\n",
    "\n",
    "df_costs['check_sum'] = check_sum\n",
    "df_costs['sum_diff'] = sum_diff"
   ]
  },
  {
   "cell_type": "code",
   "execution_count": 145,
   "id": "b2ef048c",
   "metadata": {
    "tags": []
   },
   "outputs": [
    {
     "name": "stdout",
     "output_type": "stream",
     "text": [
      "The trip_total deviates from the sum of the other cost related columns in 1842878 rows.\n"
     ]
    }
   ],
   "source": [
    "print('The trip_total deviates from the sum of the other cost related columns in ' + str(df_costs[~df_costs['check_sum']].shape[0]) + ' rows.')"
   ]
  },
  {
   "cell_type": "markdown",
   "id": "b861a11d",
   "metadata": {},
   "source": [
    "Check how large these differences are or if they could be just be caused by cash tips not recorded in the tips column but somehow consideration in the total_trip column for example if the drivers manually record it only in the total_trip amount:"
   ]
  },
  {
   "cell_type": "code",
   "execution_count": 146,
   "id": "1149b4d8",
   "metadata": {
    "tags": []
   },
   "outputs": [
    {
     "name": "stdout",
     "output_type": "stream",
     "text": [
      "count    1.842878e+06\n",
      "mean     5.424019e-01\n",
      "std      4.185221e-01\n",
      "min     -1.818989e-12\n",
      "25%      5.000000e-01\n",
      "50%      5.000000e-01\n",
      "75%      5.000000e-01\n",
      "max      2.500000e+01\n",
      "Name: sum_diff, dtype: float64\n"
     ]
    }
   ],
   "source": [
    "# only consider the rows where the sum is not matching\n",
    "print(df_costs[~df_costs['check_sum']]['sum_diff'].describe())"
   ]
  },
  {
   "cell_type": "markdown",
   "id": "7e0bc147",
   "metadata": {},
   "source": [
    "We can see that the deviation is not large in the mean. Also the largest deviation in to the negative is small. Only the maximum positiv deviation is a higher value. Check the distribution of the deviations by again only considering these rows, where the sum is not matching. The x-limits are derived from the stistics above:"
   ]
  },
  {
   "cell_type": "code",
   "execution_count": 147,
   "id": "f750576b",
   "metadata": {
    "tags": []
   },
   "outputs": [
    {
     "data": {
      "image/png": "[encoded data removed]",
      "text/plain": [
       "<Figure size 640x480 with 1 Axes>"
      ]
     },
     "metadata": {},
     "output_type": "display_data"
    }
   ],
   "source": [
    "plt.hist(df_costs[~df_costs['check_sum']]['sum_diff'], bins=200)\n",
    "plt.xlim(-2,26)\n",
    "plt.show()"
   ]
  },
  {
   "cell_type": "markdown",
   "id": "52e19912",
   "metadata": {},
   "source": [
    "Here we also see that most deviations are very small and under five dollars. Now only consider larger deviations of more than five dollars:"
   ]
  },
  {
   "cell_type": "code",
   "execution_count": 148,
   "id": "f797912f",
   "metadata": {},
   "outputs": [
    {
     "data": {
      "image/png": "[encoded data removed]",
      "text/plain": [
       "<Figure size 640x480 with 1 Axes>"
      ]
     },
     "metadata": {},
     "output_type": "display_data"
    }
   ],
   "source": [
    "plt.hist(df_costs[( df_costs['sum_diff'] > 5 ) | ( df_costs['sum_diff'] < -5 )]['sum_diff'], bins=100)\n",
    "plt.xlim(-2,26)\n",
    "plt.show()"
   ]
  },
  {
   "cell_type": "markdown",
   "id": "911c5e06",
   "metadata": {},
   "source": [
    "There are only 2 cases where the sum deviates more than five dollars. We evaluate all of these deviations as not critical, since they mostly are very small and could be the result of not separately recorded cash tips. We will also keep the rows with the larger deviations for now, since the adjustment for outliers is just about to follow in the next section."
   ]
  },
  {
   "cell_type": "markdown",
   "id": "be75af58-fa47-4934-8a41-568adfba6bf0",
   "metadata": {},
   "source": [
    "#### 1.2.5 Check For Outliers"
   ]
  },
  {
   "cell_type": "markdown",
   "id": "046955cb",
   "metadata": {},
   "source": [
    "For numeric values we can check for outliers. This affects trip_seconds, trip_miles, fare, tips, tolls, extras and trip_total. In the following we start by looking at the three most important columns trip_seconds, trip_miles and trip_total since the other ones are subvalues of trip_total:"
   ]
  },
  {
   "cell_type": "code",
   "execution_count": 149,
   "id": "54993af9",
   "metadata": {},
   "outputs": [],
   "source": [
    "# definition of plotting functions\n",
    "def three_feature_boxplots(df):\n",
    "    \n",
    "    fig, axs = plt.subplots(1, 3, figsize=(15, 5))\n",
    "\n",
    "    axs[0].boxplot(df['trip_seconds'])\n",
    "    axs[0].set_title('Boxplot for trip_seconds')\n",
    "    axs[0].set_xlabel('trip_seconds')\n",
    "    axs[0].set_ylabel('Values')\n",
    "    \n",
    "    axs[1].boxplot(df['trip_miles'])\n",
    "    axs[1].set_title('Boxplot for trip_miles')\n",
    "    axs[1].set_xlabel('trip_miles')\n",
    "    \n",
    "    axs[2].boxplot(df['trip_total'])\n",
    "    axs[2].set_title('Boxplot for trip_total')\n",
    "    axs[2].set_xlabel('trip_total')\n",
    "    \n",
    "    plt.tight_layout()\n",
    "    plt.show()\n",
    "\n",
    "def two_feature_boxplots(df):\n",
    "\n",
    "    fig, axs = plt.subplots(1, 2, figsize=(15, 5))\n",
    "\n",
    "    axs[0].boxplot(df['trip_seconds'])\n",
    "    axs[0].set_title('0 Miles Trips - Distribution Of trip_seconds')\n",
    "    axs[0].set_xlabel('trip_seconds')\n",
    "    axs[0].set_ylabel('Values')\n",
    "    \n",
    "    axs[1].boxplot(df['trip_total'])\n",
    "    axs[1].set_title('0 Miles Trips - Distribution Of trip_total')\n",
    "    axs[1].set_xlabel('trip_total')"
   ]
  },
  {
   "cell_type": "code",
   "execution_count": 150,
   "id": "dbaf4ba2",
   "metadata": {},
   "outputs": [
    {
     "data": {
      "image/png": "[encoded data removed]",
      "text/plain": [
       "<Figure size 1500x500 with 3 Axes>"
      ]
     },
     "metadata": {},
     "output_type": "display_data"
    }
   ],
   "source": [
    "three_feature_boxplots(df)"
   ]
  },
  {
   "cell_type": "markdown",
   "id": "74675e64",
   "metadata": {},
   "source": [
    "We notice that there are some outliers with very high values that seem very unrealistic (e.g. trip_seconds > 1,000,000 (277 hours) or miles > 2.000) and we should eliminate. But before doing that we also notice that the means are very close to zero which seems strange, so we investigate this in the following:"
   ]
  },
  {
   "cell_type": "code",
   "execution_count": 151,
   "id": "34c60b6f",
   "metadata": {},
   "outputs": [
    {
     "name": "stdout",
     "output_type": "stream",
     "text": [
      "Number of zero entries for trip_seconds:  147872\n",
      "Number of zero entries for trip_miles:  785016\n",
      "Number of zero entries for trip_total:  5522\n"
     ]
    }
   ],
   "source": [
    "# Number of equal zero entries\n",
    "print(\"Number of zero entries for trip_seconds: \", len(df[df[\"trip_seconds\"] == 0]))\n",
    "print(\"Number of zero entries for trip_miles: \", len(df[df[\"trip_miles\"] == 0]))\n",
    "print(\"Number of zero entries for trip_total: \", len(df[df[\"trip_total\"] == 0]))"
   ]
  },
  {
   "cell_type": "markdown",
   "id": "9025eb0a",
   "metadata": {},
   "source": [
    "There is a high number of trips with trip_miles or trip_seconds equalling zero (about 12% of 6,300,000 original entries in the case of trip_miles = 0). This does not fit to a typical taxi trip. A possible explanation could be that these are cancelled trips."
   ]
  },
  {
   "cell_type": "markdown",
   "id": "dfa903ed-3b38-468a-8262-e09e871dfb88",
   "metadata": {},
   "source": [
    "#### 1.2.5 a) Cancelled Trips Logic:\n",
    "We could consider a trip cancelled if\n",
    "- trip_miles = 0\n",
    "- trip_seconds = 0\n",
    "- pickup = dropoff (regarding centroid location) \n",
    "\n",
    "We don't consider trip_total cause there might be differing canceling charges depending on journey to the customer and potential waiting time (e.g. additional costs for amount of customers, idle time, etc.)"
   ]
  },
  {
   "cell_type": "code",
   "execution_count": 152,
   "id": "58d465ba-2449-40cd-95aa-80d773b06b89",
   "metadata": {},
   "outputs": [
    {
     "name": "stdout",
     "output_type": "stream",
     "text": [
      "Number of cancelled trips: 107371\n"
     ]
    }
   ],
   "source": [
    "condition_geolocation = (df['pickup_centroid_location'].notna()) & (df['dropoff_centroid_location'].notna()) & (df['pickup_centroid_location'].notna() == df['dropoff_centroid_location'].notna())\n",
    "\n",
    "condition = (condition_geolocation & ( df['trip_miles'] == 0 ) & ( df['trip_seconds'] == 0 )) \n",
    "\n",
    "df_cancelled = df[condition]\n",
    "print(f'Number of cancelled trips: {df_cancelled.shape[0]}')"
   ]
  },
  {
   "cell_type": "markdown",
   "id": "5f53a565-d7fc-46c6-be47-87611bd0c49c",
   "metadata": {},
   "source": [
    "This cancelled trips logic only explains about 107,000 of the 785,000 trips with 0 trip_miles. Since we dont have location data for every trip, this could be a possible explanation why the number is not higher. So we remove that condition for a cancelled trip:"
   ]
  },
  {
   "cell_type": "code",
   "execution_count": 153,
   "id": "0b371539-f18e-4865-8be7-413a520cfa80",
   "metadata": {},
   "outputs": [
    {
     "name": "stdout",
     "output_type": "stream",
     "text": [
      "Number of cancelled trips: 140933\n"
     ]
    }
   ],
   "source": [
    "condition = (( df['trip_miles'] == 0 ) & ( df['trip_seconds'] == 0 )) \n",
    "df_cancelled = df[condition]\n",
    "print(f'Number of cancelled trips: {df_cancelled.shape[0]}')"
   ]
  },
  {
   "cell_type": "markdown",
   "id": "3f90db3b-dc4b-4e6a-b123-95a7913be990",
   "metadata": {},
   "source": [
    "This can still only explain about 140,000 trips. We investigate the distribution of the trip_seconds of trips with 0 trip_miles. Maybe the trip_seconds count some waiting time before a trip is really cancelled:"
   ]
  },
  {
   "cell_type": "code",
   "execution_count": 154,
   "id": "362d99d8-626f-4f65-86ac-27e460b3ce0e",
   "metadata": {},
   "outputs": [],
   "source": [
    "df_miles_zero = df[df['trip_miles'] == 0]"
   ]
  },
  {
   "cell_type": "code",
   "execution_count": 155,
   "id": "bd72f334-6a94-4e0c-a833-429d09de7b25",
   "metadata": {},
   "outputs": [
    {
     "data": {
      "image/png": "[encoded data removed]",
      "text/plain": [
       "<Figure size 1500x500 with 2 Axes>"
      ]
     },
     "metadata": {},
     "output_type": "display_data"
    }
   ],
   "source": [
    "two_feature_boxplots(df_miles_zero)"
   ]
  },
  {
   "cell_type": "markdown",
   "id": "0b2043b3-f45e-465c-b0fd-440f096d0dc1",
   "metadata": {},
   "source": [
    "We observe that the median in both features is very close to zero, which could be an indication that the waiting-time hypothesis is true, the low total costs in most of the trips support our considerations. Furthermore there are some unrealistic outliers, trips that last longer than several hours. We further analyze the values and notice that the first 50% of smallest values of trip_seconds are smaller or equal 300 seconds, which is 5 minutes and seems short for a typical taxi trip:"
   ]
  },
  {
   "cell_type": "code",
   "execution_count": 156,
   "id": "0c73f2cc-4c56-489f-9f63-0363242bbfb8",
   "metadata": {},
   "outputs": [
    {
     "name": "stdout",
     "output_type": "stream",
     "text": [
      "count    785016.000000\n",
      "mean        622.521887\n",
      "std        3692.954513\n",
      "min           0.000000\n",
      "25%           7.000000\n",
      "50%         300.000000\n",
      "75%         720.000000\n",
      "max      594000.000000\n",
      "Name: trip_seconds, dtype: float64\n"
     ]
    }
   ],
   "source": [
    "print(df_miles_zero['trip_seconds'].describe())"
   ]
  },
  {
   "cell_type": "markdown",
   "id": "475c2f61-2c3b-4a90-b2c8-dd686068d28c",
   "metadata": {},
   "source": [
    "If we look at the distribution of trip_seconds of the not 0-miles trips, we observe that the values are much higher (50% = 960 seconds = 16 minutes):"
   ]
  },
  {
   "cell_type": "code",
   "execution_count": 157,
   "id": "9d5f1383-50f3-42a0-85cf-cb2108c665f6",
   "metadata": {},
   "outputs": [
    {
     "name": "stdout",
     "output_type": "stream",
     "text": [
      "count    5.572878e+06\n",
      "mean     1.313434e+03\n",
      "std      3.305609e+03\n",
      "min      0.000000e+00\n",
      "25%      5.300000e+02\n",
      "50%      9.600000e+02\n",
      "75%      1.713000e+03\n",
      "max      1.788300e+06\n",
      "Name: trip_seconds, dtype: float64\n"
     ]
    }
   ],
   "source": [
    "print(df[df['trip_miles']!=0]['trip_seconds'].describe())"
   ]
  },
  {
   "cell_type": "markdown",
   "id": "9fff0822-25e9-4919-8d35-17339069081b",
   "metadata": {},
   "source": [
    "So we relax the trip_seconds condition for cancelled trips to 300 seconds (=5 minutes) which seems like a realistic waiting-time for an ordered taxi before a trip is cancelled and can explain half of the 0-miles trips:"
   ]
  },
  {
   "cell_type": "code",
   "execution_count": 158,
   "id": "d8489fa6-5487-4887-b219-71c98edaf189",
   "metadata": {},
   "outputs": [
    {
     "name": "stdout",
     "output_type": "stream",
     "text": [
      "Number of cancelled trips: 398593\n"
     ]
    }
   ],
   "source": [
    "condition = (( df['trip_miles'] == 0 ) & ( df['trip_seconds'] <= 300 )) \n",
    "df_cancelled = df[condition]\n",
    "df_no_cancelled = df[~condition]\n",
    "print(f'Number of cancelled trips: {df_cancelled.shape[0]}')"
   ]
  },
  {
   "cell_type": "code",
   "execution_count": 159,
   "id": "3534e014-77fd-4bef-9dec-efa033effc73",
   "metadata": {},
   "outputs": [
    {
     "name": "stdout",
     "output_type": "stream",
     "text": [
      "Number of zero entries in trips that are not considered as cancelled:\n",
      "Number of zero entries for trip_seconds:  6939\n",
      "Number of zero entries for trip_miles:  386423\n",
      "Number of zero entries for trip_total:  2114\n"
     ]
    }
   ],
   "source": [
    "print('Number of zero entries in trips that are not considered as cancelled:')\n",
    "print(\"Number of zero entries for trip_seconds: \", len(df_no_cancelled[df_no_cancelled[\"trip_seconds\"] == 0]))\n",
    "print(\"Number of zero entries for trip_miles: \", len(df_no_cancelled[df_no_cancelled[\"trip_miles\"] == 0]))\n",
    "print(\"Number of zero entries for trip_total: \", len(df_no_cancelled[df_no_cancelled[\"trip_total\"] == 0]))"
   ]
  },
  {
   "cell_type": "markdown",
   "id": "7b199332-dca4-4a10-a614-925dccb0b9d8",
   "metadata": {},
   "source": [
    "We can neglect the zero entries w.r.t trip_seconds and trip_total since these are only a small fraction of our originally about 6,300,000 entries. But the zero entries for trip_miles are still 385,000 which is about 6% of the number of original entries. Looking at the distribution of trip_seconds and trip_total, we can't really explain them. In some cases we might still look at cancelled trips with longer waiting time than the assumed 5 minutes, in other cases the trip_miles might be zero due to recording or data transmission issues or the whole entry is debatable (e.g. in the case of more than 24 hours trip duration or cost of more than 8,000 dollars):"
   ]
  },
  {
   "cell_type": "code",
   "execution_count": 160,
   "id": "1a6ef101-9b7c-4ad0-8049-d65a74b3db46",
   "metadata": {},
   "outputs": [
    {
     "data": {
      "image/png": "[encoded data removed]",
      "text/plain": [
       "<Figure size 1500x500 with 2 Axes>"
      ]
     },
     "metadata": {},
     "output_type": "display_data"
    }
   ],
   "source": [
    "two_feature_boxplots(df_no_cancelled)"
   ]
  },
  {
   "cell_type": "markdown",
   "id": "d82f455b-8d5d-4411-96b6-79b65e724dda",
   "metadata": {},
   "source": [
    "##### Conclusion:\n",
    "In our further analysis tasks (descriptive, clustering, predicting) we only want to consider entries that seem to represent valid taxi trips. Cancelled trips dont play a significant role in our project scope. Thats why we remove the entries with 0-miles that we could classify as probably cancelled trips. Furthermore we also remove the rest of the entries that have 0-values for trip_miles, trip_seconds or trip_total, because we can't explain where these 0-values originate and we can't be sure if they are valid recordings or not. We want to avoid that these entries distort our later results:"
   ]
  },
  {
   "cell_type": "code",
   "execution_count": 161,
   "id": "b332a312-ab43-4291-8699-841f73361044",
   "metadata": {},
   "outputs": [],
   "source": [
    "df = df[(df['trip_miles'] > 0) & (df['trip_seconds'] > 0) & (df['trip_total'] > 0)]"
   ]
  },
  {
   "cell_type": "markdown",
   "id": "5df57682-6c93-4822-9840-17f6e8e8d11d",
   "metadata": {},
   "source": [
    "#### 1.2.5 b) Remove Outliers"
   ]
  },
  {
   "cell_type": "markdown",
   "id": "d4388af4-93be-43e9-8036-31348c18b1dd",
   "metadata": {},
   "source": [
    "Now we return back to the elimination of extreme values and outliers in our dataset:"
   ]
  },
  {
   "cell_type": "code",
   "execution_count": 162,
   "id": "3bb0887a-d041-4c30-83ba-da0ab3a30464",
   "metadata": {},
   "outputs": [],
   "source": [
    "df_outliers = df"
   ]
  },
  {
   "cell_type": "markdown",
   "id": "911b70c6-c818-4e12-9868-b797ff965b50",
   "metadata": {},
   "source": [
    "As a rule of thumb we consider everything that deviates more than 3-standard deviations from the mean as outlier:"
   ]
  },
  {
   "cell_type": "code",
   "execution_count": 163,
   "id": "1e877a98-59bc-454e-8ea8-7bab8b0070e9",
   "metadata": {
    "ExecuteTime": {
     "end_time": "2024-07-04T17:55:44.400599Z",
     "start_time": "2024-07-04T17:55:44.397396Z"
    },
    "tags": []
   },
   "outputs": [],
   "source": [
    "def drop_outliers(df, column, mean, std):\n",
    "    return df[(df[column] > mean - 3 * std) & (df[column] < mean + 3 * std)]"
   ]
  },
  {
   "cell_type": "markdown",
   "id": "0628ce40",
   "metadata": {},
   "source": [
    "Calculate outliers on the whole current dataset, before dropping rows that are outliers in another column:"
   ]
  },
  {
   "cell_type": "code",
   "execution_count": 164,
   "id": "a1843fad-a424-4307-bf6b-06d261390a2b",
   "metadata": {
    "ExecuteTime": {
     "end_time": "2024-07-04T17:55:46.231165Z",
     "start_time": "2024-07-04T17:55:44.403087Z"
    },
    "tags": []
   },
   "outputs": [],
   "source": [
    "std_trip_seconds = df_outliers['trip_seconds'].describe(include='all').loc['std']\n",
    "mean_trip_seconds = df_outliers['trip_seconds'].describe(include='all').loc['mean']\n",
    "\n",
    "std_trip_miles = df_outliers['trip_miles'].describe(include='all').loc['std']\n",
    "mean_trip_miles = df_outliers['trip_miles'].describe(include='all').loc['mean']\n",
    "\n",
    "std_fare = df_outliers['fare'].describe(include='all').loc['std']\n",
    "mean_fare = df_outliers['fare'].describe(include='all').loc['mean']\n",
    "\n",
    "std_tips = df_outliers['tips'].describe(include='all').loc['std']\n",
    "mean_tips = df_outliers['tips'].describe(include='all').loc['mean']\n",
    "\n",
    "std_tolls = df_outliers['tolls'].describe(include='all').loc['std']\n",
    "mean_tolls = df_outliers['tolls'].describe(include='all').loc['mean']\n",
    "\n",
    "std_extras = df_outliers['extras'].describe(include='all').loc['std']\n",
    "mean_extras = df_outliers['extras'].describe(include='all').loc['mean']\n",
    "\n",
    "std_trip_total = df_outliers['trip_total'].describe(include='all').loc['std']\n",
    "mean_trip_total = df_outliers['trip_total'].describe(include='all').loc['mean']"
   ]
  },
  {
   "cell_type": "code",
   "execution_count": 165,
   "id": "62b4a426",
   "metadata": {
    "tags": []
   },
   "outputs": [],
   "source": [
    "nr_rows_before = df_outliers.shape[0]"
   ]
  },
  {
   "cell_type": "code",
   "execution_count": 166,
   "id": "7d8a4022-a194-439b-8590-cac2ef188a5a",
   "metadata": {
    "ExecuteTime": {
     "end_time": "2024-07-04T17:55:49.362528Z",
     "start_time": "2024-07-04T17:55:46.235249Z"
    },
    "tags": []
   },
   "outputs": [],
   "source": [
    "# drop outliers\n",
    "df_outliers = drop_outliers(df_outliers, \"trip_seconds\", mean_trip_seconds, std_trip_seconds)\n",
    "df_outliers = drop_outliers(df_outliers, \"trip_miles\", mean_trip_miles, std_trip_miles)\n",
    "df_outliers = drop_outliers(df_outliers, \"fare\", mean_fare, std_fare)\n",
    "df_outliers = drop_outliers(df_outliers, \"tips\", mean_tips, std_tips)\n",
    "df_outliers = drop_outliers(df_outliers, \"tolls\", mean_tolls, std_tolls)\n",
    "df_outliers = drop_outliers(df_outliers, \"extras\", mean_extras, std_extras)\n",
    "df_outliers = drop_outliers(df_outliers, \"trip_total\", mean_trip_total, std_trip_total)"
   ]
  },
  {
   "cell_type": "code",
   "execution_count": 167,
   "id": "dd791283-e3be-4801-9fe4-7b01c1f55487",
   "metadata": {},
   "outputs": [
    {
     "data": {
      "image/png": "[encoded data removed]",
      "text/plain": [
       "<Figure size 1500x500 with 3 Axes>"
      ]
     },
     "metadata": {},
     "output_type": "display_data"
    }
   ],
   "source": [
    "three_feature_boxplots(df_outliers)"
   ]
  },
  {
   "cell_type": "markdown",
   "id": "c4c1d515-db71-4c1e-8d90-c156b78c3369",
   "metadata": {},
   "source": [
    "After removal of outliers, the values seem much more reasonable. The largest trip_seconds is about 11,000 seconds which is about 3 hours. Still a high value, but a realistic exception. The median is about 1,000 seconds which is about 16 minutes and seems reasonable. The range of 0-30 miles seems also reasonable, just as the range of 0-175 dollars for trip_total. "
   ]
  },
  {
   "cell_type": "code",
   "execution_count": 168,
   "id": "c44b6b8d-d2d8-4738-88fd-493b759b40a4",
   "metadata": {
    "ExecuteTime": {
     "end_time": "2024-07-04T17:55:49.370294Z",
     "start_time": "2024-07-04T17:55:49.361291Z"
    },
    "tags": []
   },
   "outputs": [
    {
     "name": "stdout",
     "output_type": "stream",
     "text": [
      "Number of removed entries after outlier elimination: 83379\n"
     ]
    }
   ],
   "source": [
    "nr_rows_after = df_outliers.shape[0]\n",
    "print('Number of removed entries after outlier elimination: ' + str(nr_rows_before - nr_rows_after))"
   ]
  },
  {
   "cell_type": "markdown",
   "id": "5afef74d",
   "metadata": {},
   "source": [
    "We dropped only about 80,000 from originally about 6,300,000 rows."
   ]
  },
  {
   "cell_type": "markdown",
   "id": "b7627190",
   "metadata": {},
   "source": [
    "Now check again for the difference in the sum of cost components and total_trip amount. The rows with larger deviations are removed:"
   ]
  },
  {
   "cell_type": "code",
   "execution_count": 169,
   "id": "69ab563d",
   "metadata": {
    "tags": []
   },
   "outputs": [
    {
     "name": "stdout",
     "output_type": "stream",
     "text": [
      "Nr of rows with deviations larger than five dollars: 0\n"
     ]
    }
   ],
   "source": [
    "check_sum, sum_diff = check_and_calculate_deviation_of_cost_components_to_total_amount(df_costs)\n",
    "\n",
    "df_outliers['sum_diff'] = sum_diff\n",
    "\n",
    "print('Nr of rows with deviations larger than five dollars: ' + str(df_outliers[(df_outliers['sum_diff'] > 5) | (df_outliers['sum_diff']  < -5)].shape[0]))"
   ]
  },
  {
   "cell_type": "code",
   "execution_count": 170,
   "id": "7d41684e",
   "metadata": {
    "tags": []
   },
   "outputs": [],
   "source": [
    "# continue working on the new dataset\n",
    "df_outliers = df_outliers.drop('sum_diff', axis=1)\n",
    "df = df_outliers"
   ]
  },
  {
   "cell_type": "markdown",
   "id": "96870ef9-34bb-4d72-b728-afd1fbbb1ad2",
   "metadata": {},
   "source": [
    "#### 1.2.6 Mph Logic"
   ]
  },
  {
   "cell_type": "markdown",
   "id": "4a5dd593-3a71-41e1-a517-f26f1187c192",
   "metadata": {},
   "source": [
    "We want to conduct some further validity check for the taxi trips and remove trips that have impossible trip_miles to trip_seconds ratios since this indicates some discrepancy in the data. To have some orientation for the speed limit in Chicago/Cook County, we took this as a source: https://www.arcgis.com/home/item.html?id=5e279cbe89794bcba87809d9ae95594d which resulted in a limit of 65 mph for our taxi data, as anything above is unrealistic. Note that there still can be some unreasonable trips although the mph is smaller than 65, but it gives us a rough orientation and everything above is with fairly high certainty not reasonable and should be removed:"
   ]
  },
  {
   "cell_type": "code",
   "execution_count": 171,
   "id": "7ae95e93-2e44-45a0-9ac1-652f33c8af0d",
   "metadata": {
    "ExecuteTime": {
     "end_time": "2024-07-01T11:55:22.242123Z",
     "start_time": "2024-07-01T11:55:22.187416Z"
    },
    "tags": []
   },
   "outputs": [],
   "source": [
    "df['mph'] = np.where(df['trip_hours'] != 0, df['trip_miles'] / df['trip_hours'], np.nan)"
   ]
  },
  {
   "cell_type": "code",
   "execution_count": 172,
   "id": "2b039f04-b640-4d84-b91d-49df3ad18e03",
   "metadata": {},
   "outputs": [
    {
     "data": {
      "text/plain": [
       "Text(0, 0.5, 'values')"
      ]
     },
     "execution_count": 172,
     "metadata": {},
     "output_type": "execute_result"
    },
    {
     "data": {
      "image/png": "[encoded data removed]",
      "text/plain": [
       "<Figure size 640x480 with 1 Axes>"
      ]
     },
     "metadata": {},
     "output_type": "display_data"
    }
   ],
   "source": [
    "plt.boxplot(df['mph'])\n",
    "plt.title('Distribution Of mph Values')\n",
    "plt.xlabel('mph')\n",
    "plt.ylabel('values')"
   ]
  },
  {
   "cell_type": "markdown",
   "id": "0957b240-48f4-4791-82cf-e5c20b1dd076",
   "metadata": {},
   "source": [
    "In the plot we see that there actually are some really exaggerated values. We remove them."
   ]
  },
  {
   "cell_type": "code",
   "execution_count": 173,
   "id": "6170b35f-4b43-4e0a-a3ec-c878bfea1e87",
   "metadata": {},
   "outputs": [],
   "source": [
    "nr_rows_before = df.shape[0]"
   ]
  },
  {
   "cell_type": "code",
   "execution_count": 174,
   "id": "921dacf1-2322-43f7-a106-d731aaae5417",
   "metadata": {
    "ExecuteTime": {
     "end_time": "2024-07-01T11:55:23.223863Z",
     "start_time": "2024-07-01T11:55:22.231903Z"
    },
    "scrolled": true,
    "tags": []
   },
   "outputs": [],
   "source": [
    "# keep only entries with mph <= 65\n",
    "df = df[(df[\"mph\"] <= 65)]"
   ]
  },
  {
   "cell_type": "code",
   "execution_count": 175,
   "id": "580050f8-a27b-4326-922a-dc060ad35d0e",
   "metadata": {},
   "outputs": [
    {
     "name": "stdout",
     "output_type": "stream",
     "text": [
      "Number of removed entries: 8564\n"
     ]
    }
   ],
   "source": [
    "nr_rows_after = df.shape[0]\n",
    "print(f'Number of removed entries: {nr_rows_before-nr_rows_after}')"
   ]
  },
  {
   "cell_type": "code",
   "execution_count": 176,
   "id": "725fca8d-6ed1-4c32-8022-1a3118682479",
   "metadata": {
    "ExecuteTime": {
     "end_time": "2024-07-01T11:55:23.245734Z",
     "start_time": "2024-07-01T11:55:23.227102Z"
    },
    "tags": []
   },
   "outputs": [],
   "source": [
    "df = df.drop('mph', axis=1)"
   ]
  },
  {
   "cell_type": "markdown",
   "id": "d4bc0e9a",
   "metadata": {},
   "source": [
    "#### 1.2.7 Prepare Different Temporal Discretization"
   ]
  },
  {
   "cell_type": "markdown",
   "id": "e157cdc3-971c-4e63-a8af-a502c582244e",
   "metadata": {},
   "source": [
    "In order to analyze the data with respect to different temporal resolutions, we create some extra time features, all derived from the trip_start_timestamp as it indicates the start time of the trip. Moreover we add sinus and cosinus representations of each of these features in order to have more uniform distances between each of the time steps, which can be necesseray for the cluster analysis:"
   ]
  },
  {
   "cell_type": "code",
   "execution_count": 177,
   "id": "306fd50f",
   "metadata": {
    "tags": []
   },
   "outputs": [],
   "source": [
    "df['1_hour_window'] = df['trip_start_timestamp'].dt.hour\n",
    "df['1_hour_window_sin'] = np.sin(df['1_hour_window']*(2.*np.pi/24))\n",
    "df['1_hour_window_cos'] = np.cos(df['1_hour_window']*(2.*np.pi/24))"
   ]
  },
  {
   "cell_type": "code",
   "execution_count": 178,
   "id": "e69f9846",
   "metadata": {
    "tags": []
   },
   "outputs": [],
   "source": [
    "df['4_hour_window'] = df['trip_start_timestamp'].dt.floor('4h').dt.hour\n",
    "df['4_hour_window_sin'] = np.sin(df['4_hour_window']*(2.*np.pi/24))\n",
    "df['4_hour_window_cos'] = np.cos(df['4_hour_window']*(2.*np.pi/24))"
   ]
  },
  {
   "cell_type": "code",
   "execution_count": 179,
   "id": "de95bcc7",
   "metadata": {
    "tags": []
   },
   "outputs": [],
   "source": [
    "df['6_hour_window'] = df['trip_start_timestamp'].dt.floor('6h').dt.hour\n",
    "df['6_hour_window_sin'] = np.sin(df['6_hour_window']*(2.*np.pi/24))\n",
    "df['6_hour_window_cos'] = np.cos(df['6_hour_window']*(2.*np.pi/24))"
   ]
  },
  {
   "cell_type": "code",
   "execution_count": 180,
   "id": "b94b3af5",
   "metadata": {},
   "outputs": [],
   "source": [
    "df['weekday']      = df['trip_start_timestamp'].dt.dayofweek\n",
    "df['weekday_sin']  = np.sin(df['weekday']*(2.*np.pi/7))\n",
    "df['weekday_cos']  = np.cos(df['weekday']*(2.*np.pi/7))"
   ]
  },
  {
   "cell_type": "code",
   "execution_count": 181,
   "id": "2e36610c",
   "metadata": {},
   "outputs": [],
   "source": [
    "def plot_sin_cos_features(sin_feature, cos_feature, cycle):\n",
    "\n",
    "    unique_points = df[[sin_feature, cos_feature]].drop_duplicates()\n",
    "\n",
    "    plt.figure(figsize=(10, 5))\n",
    "    plt.scatter(unique_points[sin_feature], unique_points[cos_feature], color='blue', alpha=0.5)\n",
    "    plt.title(cycle + ' Cycle')\n",
    "    plt.xlabel('Sinus')\n",
    "    plt.ylabel('Cosinus')\n",
    "    plt.grid(True)\n",
    "    plt.axis('equal')\n",
    "    plt.show()"
   ]
  },
  {
   "cell_type": "code",
   "execution_count": 182,
   "id": "a8780d90",
   "metadata": {},
   "outputs": [
    {
     "data": {
      "image/png": "[encoded data removed]",
      "text/plain": [
       "<Figure size 1000x500 with 1 Axes>"
      ]
     },
     "metadata": {},
     "output_type": "display_data"
    }
   ],
   "source": [
    "plot_sin_cos_features('1_hour_window_sin', '1_hour_window_cos', '1 Hour')"
   ]
  },
  {
   "cell_type": "code",
   "execution_count": 183,
   "id": "497c4640",
   "metadata": {},
   "outputs": [
    {
     "data": {
      "image/png": "[encoded data removed]",
      "text/plain": [
       "<Figure size 1000x500 with 1 Axes>"
      ]
     },
     "metadata": {},
     "output_type": "display_data"
    }
   ],
   "source": [
    "plot_sin_cos_features('4_hour_window_sin', '4_hour_window_cos', '4 Hour')"
   ]
  },
  {
   "cell_type": "code",
   "execution_count": 184,
   "id": "34e451bc",
   "metadata": {},
   "outputs": [
    {
     "data": {
      "image/png": "[encoded data removed]",
      "text/plain": [
       "<Figure size 1000x500 with 1 Axes>"
      ]
     },
     "metadata": {},
     "output_type": "display_data"
    }
   ],
   "source": [
    "plot_sin_cos_features('6_hour_window_sin', '6_hour_window_cos', '6 Hour')"
   ]
  },
  {
   "cell_type": "code",
   "execution_count": 185,
   "id": "83cadb55",
   "metadata": {},
   "outputs": [
    {
     "data": {
      "image/png": "[encoded data removed]",
      "text/plain": [
       "<Figure size 1000x500 with 1 Axes>"
      ]
     },
     "metadata": {},
     "output_type": "display_data"
    }
   ],
   "source": [
    "plot_sin_cos_features('weekday_sin', 'weekday_cos', 'Weekday')"
   ]
  },
  {
   "cell_type": "markdown",
   "id": "75ae2acb",
   "metadata": {},
   "source": [
    "### 1.2.8 Encode data"
   ]
  },
  {
   "cell_type": "markdown",
   "id": "d698be3d",
   "metadata": {},
   "source": [
    "We encode categorical string features to numerical values to make them usable for our enhanced analysis tasks. This affects in particular the columns \"taxi_id\", \"company\" and \"payment_type\". "
   ]
  },
  {
   "cell_type": "code",
   "execution_count": 186,
   "id": "a84f87a3",
   "metadata": {},
   "outputs": [],
   "source": [
    "def encode_and_save_mappings(df, columns, output_prefix='data/trips_mapping_'):\n",
    "    for column in columns:\n",
    "        df[f'{column}_encoded'] = pd.factorize(df[column])[0]\n",
    "        \n",
    "        mapping = df[[column, f'{column}_encoded']].drop_duplicates().sort_values(f'{column}_encoded')\n",
    "        mapping.to_csv(f'{output_prefix}{column.lower().replace(\" \", \"_\")}.csv', index=False)\n",
    "        \n",
    "        print(f\"Mapping for {column} saved to {output_prefix}{column.lower().replace(' ', '_')}.csv\")\n",
    "        print(f\"Check for correct mapping: \\nNumber of unique entries: {len(df[column].unique())} \\nNumber of mappings: {len(df[f'{column}_encoded'].unique())}\")\n",
    "    return df"
   ]
  },
  {
   "cell_type": "code",
   "execution_count": 187,
   "id": "f27d5b5c",
   "metadata": {},
   "outputs": [
    {
     "name": "stdout",
     "output_type": "stream",
     "text": [
      "Mapping for payment_type saved to data/trips_mapping_payment_type.csv\n",
      "Check for correct mapping: \n",
      "Number of unique entries: 7 \n",
      "Number of mappings: 7\n",
      "Mapping for company saved to data/trips_mapping_company.csv\n",
      "Check for correct mapping: \n",
      "Number of unique entries: 36 \n",
      "Number of mappings: 36\n",
      "Mapping for taxi_id saved to data/trips_mapping_taxi_id.csv\n",
      "Check for correct mapping: \n",
      "Number of unique entries: 2823 \n",
      "Number of mappings: 2823\n"
     ]
    }
   ],
   "source": [
    "columns_to_encode = ['payment_type', 'company', 'taxi_id']\n",
    "df = encode_and_save_mappings(df, columns_to_encode)"
   ]
  },
  {
   "cell_type": "markdown",
   "id": "785ae31a-6702-4030-aa0a-3445e3598a6c",
   "metadata": {
    "tags": []
   },
   "source": [
    "### 1.3.1 Merging Community Area Data"
   ]
  },
  {
   "cell_type": "markdown",
   "id": "2244c493",
   "metadata": {},
   "source": [
    "In order to obtain the names of the pickup and dropoff community areas and the community areas itself where it is missing while having centroid_location available, we merge our dataset with a community area dataset from https://data.cityofchicago.org/Facilities-Geographic-Boundaries/Boundaries-Community-Areas-current-/cauq-8yn6. "
   ]
  },
  {
   "cell_type": "code",
   "execution_count": 188,
   "id": "f31b48f4-aa98-49fb-9989-062a07ab44b1",
   "metadata": {
    "ExecuteTime": {
     "end_time": "2024-07-01T11:55:46.645352Z",
     "start_time": "2024-07-01T11:55:45.650468Z"
    },
    "tags": []
   },
   "outputs": [],
   "source": [
    "# Import prepped community df\n",
    "community_df = gp.read_file(\"data/prepped/community_df.geojson\")"
   ]
  },
  {
   "cell_type": "markdown",
   "id": "c0b0c82d",
   "metadata": {},
   "source": [
    "Merge the two datasets based on the coordinates. In our original dataset (df) we have coordinates (longitude and latitude) for each trip/row where it is available. From the Community Area dataset we have for each community area a multipolygon with coordinates that lie within this community area:"
   ]
  },
  {
   "cell_type": "code",
   "execution_count": 190,
   "id": "87c07be2-a309-4270-9370-4b47b812b05d",
   "metadata": {
    "ExecuteTime": {
     "end_time": "2024-07-01T11:56:44.558016Z",
     "start_time": "2024-07-01T11:55:54.996242Z"
    },
    "tags": []
   },
   "outputs": [],
   "source": [
    "def merge_with_community_df(df, community_df, lat_col, lon_col, community_col, area_number_col, prefix, suffix):\n",
    "    gdf = gp.GeoDataFrame(df, geometry=gp.points_from_xy(df[lon_col], df[lat_col]))\n",
    "    gdf = gdf.rename_geometry(f\"{prefix}_geometry\")\n",
    "\n",
    "    community_df = community_df.copy()\n",
    "    # comment in for keeping geometry column from community_df\n",
    "    #community_df[f\"{prefix}_geometry_{suffix}\"] = community_df['geometry']\n",
    "    \n",
    "    gdf.set_crs(epsg=4326, inplace=True)\n",
    "    community_df.to_crs(epsg=4326, inplace=True)\n",
    "\n",
    "    # Perform the spatial join\n",
    "    merged_gdf = gp.sjoin(gdf, community_df, how=\"left\", predicate=\"within\")\n",
    "\n",
    "    # Drop unnecessary columns\n",
    "    merged_gdf = merged_gdf.drop([f\"{prefix}_geometry\", \"index_right\"], axis=1)\n",
    "\n",
    "    # Rename columns\n",
    "    merged_gdf = merged_gdf.rename(columns={\n",
    "        community_col: f\"{prefix}_community\",\n",
    "        area_number_col: f\"{prefix}_area_number\"\n",
    "    })\n",
    "\n",
    "    return pd.DataFrame(merged_gdf)\n",
    "\n",
    "# Merge for pickup\n",
    "df_merged = merge_with_community_df(df, community_df, 'pickup_centroid_latitude', 'pickup_centroid_longitude', 'community', 'area_number', 'pickup', 'community')\n",
    "# Merge for dropoff\n",
    "df_merged = merge_with_community_df(df_merged, community_df, 'dropoff_centroid_latitude', 'dropoff_centroid_longitude', 'community', 'area_number', 'dropoff','community')"
   ]
  },
  {
   "cell_type": "code",
   "execution_count": 191,
   "id": "a76a32da-8a81-490d-a68e-cfebd5f93281",
   "metadata": {
    "ExecuteTime": {
     "end_time": "2024-07-01T12:01:20.092301Z",
     "start_time": "2024-07-01T12:01:18.522414Z"
    },
    "tags": []
   },
   "outputs": [
    {
     "data": {
      "text/plain": [
       "trip_id                             0\n",
       "taxi_id                             0\n",
       "trip_start_timestamp                0\n",
       "trip_end_timestamp                  0\n",
       "trip_seconds                        0\n",
       "trip_miles                          0\n",
       "pickup_census_tract           3245620\n",
       "dropoff_census_tract          3158086\n",
       "pickup_community_area          437351\n",
       "dropoff_community_area         493920\n",
       "fare                                0\n",
       "tips                                0\n",
       "tolls                               0\n",
       "extras                              0\n",
       "trip_total                          0\n",
       "payment_type                        0\n",
       "company                             0\n",
       "pickup_centroid_latitude       436760\n",
       "pickup_centroid_longitude      436760\n",
       "pickup_centroid_location       436760\n",
       "dropoff_centroid_latitude      461453\n",
       "dropoff_centroid_longitude     461453\n",
       "dropoff_centroid_location      461453\n",
       "trip_hours                          0\n",
       "1_hour_window                       0\n",
       "1_hour_window_sin                   0\n",
       "1_hour_window_cos                   0\n",
       "4_hour_window                       0\n",
       "4_hour_window_sin                   0\n",
       "4_hour_window_cos                   0\n",
       "6_hour_window                       0\n",
       "6_hour_window_sin                   0\n",
       "6_hour_window_cos                   0\n",
       "weekday                             0\n",
       "weekday_sin                         0\n",
       "weekday_cos                         0\n",
       "payment_type_encoded                0\n",
       "company_encoded                     0\n",
       "taxi_id_encoded                     0\n",
       "pickup_community               436767\n",
       "pickup_area_number             436767\n",
       "dropoff_community              461640\n",
       "dropoff_area_number            461640\n",
       "dtype: int64"
      ]
     },
     "execution_count": 191,
     "metadata": {},
     "output_type": "execute_result"
    }
   ],
   "source": [
    "df_merged.isna().sum()"
   ]
  },
  {
   "cell_type": "markdown",
   "id": "52ed66e6",
   "metadata": {},
   "source": [
    "pickup_community and dropoff_community (from the community area dataset) represent the same values as pickup_community_area and dropoff_community_area (from the original dataset). Since we merged them based on the longitude and latitude where it is available, we dont have further opportunities to derive missing values. The location data is necessary for our further analysis tasks, thats why we drop the rows without any location data:"
   ]
  },
  {
   "cell_type": "code",
   "execution_count": 192,
   "id": "604787b1-c4ac-49e8-af44-bd5db303380a",
   "metadata": {
    "ExecuteTime": {
     "end_time": "2024-07-01T12:34:36.513866Z",
     "start_time": "2024-07-01T12:34:35.190709Z"
    },
    "tags": []
   },
   "outputs": [],
   "source": [
    "condition = (df_merged['pickup_area_number'].notna()) & (df_merged['dropoff_area_number'].notna())\n",
    "\n",
    "df_merged = df_merged[condition]"
   ]
  },
  {
   "cell_type": "code",
   "execution_count": 193,
   "id": "10bc42da",
   "metadata": {
    "ExecuteTime": {
     "end_time": "2024-07-01T12:34:46.091649Z",
     "start_time": "2024-07-01T12:34:44.657612Z"
    },
    "jupyter": {
     "outputs_hidden": false
    },
    "tags": []
   },
   "outputs": [
    {
     "data": {
      "text/plain": [
       "trip_id                             0\n",
       "taxi_id                             0\n",
       "trip_start_timestamp                0\n",
       "trip_end_timestamp                  0\n",
       "trip_seconds                        0\n",
       "trip_miles                          0\n",
       "pickup_census_tract           2574851\n",
       "dropoff_census_tract          2574851\n",
       "pickup_community_area             553\n",
       "dropoff_community_area          26676\n",
       "fare                                0\n",
       "tips                                0\n",
       "tolls                               0\n",
       "extras                              0\n",
       "trip_total                          0\n",
       "payment_type                        0\n",
       "company                             0\n",
       "pickup_centroid_latitude            0\n",
       "pickup_centroid_longitude           0\n",
       "pickup_centroid_location            0\n",
       "dropoff_centroid_latitude           0\n",
       "dropoff_centroid_longitude          0\n",
       "dropoff_centroid_location           0\n",
       "trip_hours                          0\n",
       "1_hour_window                       0\n",
       "1_hour_window_sin                   0\n",
       "1_hour_window_cos                   0\n",
       "4_hour_window                       0\n",
       "4_hour_window_sin                   0\n",
       "4_hour_window_cos                   0\n",
       "6_hour_window                       0\n",
       "6_hour_window_sin                   0\n",
       "6_hour_window_cos                   0\n",
       "weekday                             0\n",
       "weekday_sin                         0\n",
       "weekday_cos                         0\n",
       "payment_type_encoded                0\n",
       "company_encoded                     0\n",
       "taxi_id_encoded                     0\n",
       "pickup_community                    0\n",
       "pickup_area_number                  0\n",
       "dropoff_community                   0\n",
       "dropoff_area_number                 0\n",
       "dtype: int64"
      ]
     },
     "execution_count": 193,
     "metadata": {},
     "output_type": "execute_result"
    }
   ],
   "source": [
    "df_merged.isna().sum()"
   ]
  },
  {
   "cell_type": "markdown",
   "id": "2c473eda",
   "metadata": {},
   "source": [
    "Drop the columns pickup_community_area and dropoff_community_area since we have more complete values in the pickup_community and dropoff_community columns form the merged dataset:"
   ]
  },
  {
   "cell_type": "code",
   "execution_count": 194,
   "id": "20ab46da-cba2-4b1d-8bd3-ccc0bf275bae",
   "metadata": {
    "ExecuteTime": {
     "end_time": "2024-07-01T12:44:31.936947Z",
     "start_time": "2024-07-01T12:44:30.589742Z"
    },
    "tags": []
   },
   "outputs": [],
   "source": [
    "df_merged = df_merged.drop(['pickup_community_area', 'dropoff_community_area'], axis=1)"
   ]
  },
  {
   "cell_type": "markdown",
   "id": "d95af70b-2289-4228-9c98-21e90a7be0b2",
   "metadata": {},
   "source": [
    "Now we dont have any nan values left, except for census tract, which is mising in many cases according to the data description from the official website due to privacy and location reasons. We will keep them because it is missing in the majority of cases:"
   ]
  },
  {
   "cell_type": "code",
   "execution_count": 195,
   "id": "d22816e0-f9cf-44cd-a731-721f4264d527",
   "metadata": {
    "ExecuteTime": {
     "end_time": "2024-07-01T12:44:40.636170Z",
     "start_time": "2024-07-01T12:44:40.488041Z"
    },
    "tags": []
   },
   "outputs": [
    {
     "data": {
      "text/plain": [
       "trip_id                             0\n",
       "taxi_id                             0\n",
       "trip_start_timestamp                0\n",
       "trip_end_timestamp                  0\n",
       "trip_seconds                        0\n",
       "trip_miles                          0\n",
       "pickup_census_tract           2574851\n",
       "dropoff_census_tract          2574851\n",
       "fare                                0\n",
       "tips                                0\n",
       "tolls                               0\n",
       "extras                              0\n",
       "trip_total                          0\n",
       "payment_type                        0\n",
       "company                             0\n",
       "pickup_centroid_latitude            0\n",
       "pickup_centroid_longitude           0\n",
       "pickup_centroid_location            0\n",
       "dropoff_centroid_latitude           0\n",
       "dropoff_centroid_longitude          0\n",
       "dropoff_centroid_location           0\n",
       "trip_hours                          0\n",
       "1_hour_window                       0\n",
       "1_hour_window_sin                   0\n",
       "1_hour_window_cos                   0\n",
       "4_hour_window                       0\n",
       "4_hour_window_sin                   0\n",
       "4_hour_window_cos                   0\n",
       "6_hour_window                       0\n",
       "6_hour_window_sin                   0\n",
       "6_hour_window_cos                   0\n",
       "weekday                             0\n",
       "weekday_sin                         0\n",
       "weekday_cos                         0\n",
       "payment_type_encoded                0\n",
       "company_encoded                     0\n",
       "taxi_id_encoded                     0\n",
       "pickup_community                    0\n",
       "pickup_area_number                  0\n",
       "dropoff_community                   0\n",
       "dropoff_area_number                 0\n",
       "dtype: int64"
      ]
     },
     "execution_count": 195,
     "metadata": {},
     "output_type": "execute_result"
    }
   ],
   "source": [
    "df_merged.isna().sum()"
   ]
  },
  {
   "cell_type": "markdown",
   "id": "da3640d5-06c0-4a70-903c-aa2ca3309cc2",
   "metadata": {},
   "source": [
    "For the spatial analysis we want to have the geometry column of the census tract for each entry for pickup and dropoff respecitvely. So we merge it with the census tract dataset and keep the respective columns:"
   ]
  },
  {
   "cell_type": "code",
   "execution_count": 196,
   "id": "56ac8005-66f9-41d8-a90c-0289c7964a90",
   "metadata": {},
   "outputs": [],
   "source": [
    "# Import prepped community df\n",
    "#census_df = gp.read_file(\"data/prepped/census_tracts_df.geojson\")"
   ]
  },
  {
   "cell_type": "code",
   "execution_count": 197,
   "id": "028b8ff8-9a30-484b-b9c4-f3ccace5a94c",
   "metadata": {},
   "outputs": [],
   "source": [
    "# def merge_with_census_df(df, census_df, lat_col, lon_col, prefix, suffix):\n",
    "#     gdf = gp.GeoDataFrame(df, geometry=gp.points_from_xy(df[lon_col], df[lat_col]))\n",
    "#     gdf = gdf.rename_geometry(f\"{prefix}_geometry\")\n",
    "    \n",
    "#     census_df = census_df.copy()\n",
    "#     census_df[f\"{prefix}_geometry_{suffix}\"] = census_df['geometry']\n",
    "    \n",
    "#     gdf.set_crs(epsg=4326, inplace=True)\n",
    "#     census_df.to_crs(epsg=4326, inplace=True)\n",
    "\n",
    "#     # Perform the spatial join\n",
    "#     merged_gdf = gp.sjoin(gdf, census_df, how=\"left\", predicate=\"within\")\n",
    "\n",
    "#     # Drop unnecessary columns\n",
    "#     merged_gdf = merged_gdf.drop([f\"{prefix}_geometry\", \"index_right\", 'commarea', 'geoid10'], axis=1)\n",
    "\n",
    "#     return pd.DataFrame(merged_gdf)\n",
    "\n",
    "# # Merge for pickup\n",
    "# df_merged = merge_with_census_df(df_merged, census_df, 'pickup_centroid_latitude', 'pickup_centroid_longitude', 'pickup', 'census')\n",
    "# # Merge for dropoff\n",
    "# df_merged = merge_with_census_df(df_merged, census_df, 'dropoff_centroid_latitude', 'dropoff_centroid_longitude', 'dropoff','census')"
   ]
  },
  {
   "cell_type": "code",
   "execution_count": 198,
   "id": "2dbada27-6add-45b8-b6dd-af1f74ed82ef",
   "metadata": {},
   "outputs": [],
   "source": [
    "# df_merged.isna().sum()"
   ]
  },
  {
   "cell_type": "markdown",
   "id": "6f4baa05-9b34-44c1-9bea-13bb6db2381c",
   "metadata": {},
   "source": [
    "The new nan values in the last two features result from one specific census tract which could not be found in the cenus tract dataset but some entries from the taxi trip data have that census tract assigned:"
   ]
  },
  {
   "cell_type": "code",
   "execution_count": 199,
   "id": "5ddba864-f666-440e-8f40-5e00a27ccd74",
   "metadata": {},
   "outputs": [],
   "source": [
    "# print(df_merged[df_merged['dropoff_geometry_census'].isna()]['dropoff_census_tract'].unique())\n",
    "# print(df_merged[df_merged['pickup_geometry_census'].isna()]['pickup_census_tract'].unique())"
   ]
  },
  {
   "cell_type": "markdown",
   "id": "d4c1850e-0016-491f-8582-216db2200af9",
   "metadata": {},
   "source": [
    "We keep them, because we have different location data available for them."
   ]
  },
  {
   "cell_type": "markdown",
   "id": "ef70e630-2020-4f25-9c95-49013352733b",
   "metadata": {},
   "source": [
    "### 1.3.2 Hexagons "
   ]
  },
  {
   "cell_type": "code",
   "execution_count": 200,
   "id": "0ac57c17-7797-417e-bc7e-81f5e53e5bc2",
   "metadata": {
    "tags": []
   },
   "outputs": [],
   "source": [
    "# Get hex ids\n",
    "def add_h3_ids(df, res):\n",
    "    df[f\"h3_res{res}_pickup\"] = np.vectorize(h3.geo_to_h3)(\n",
    "        df['pickup_centroid_latitude'], df['pickup_centroid_longitude'], res)\n",
    "    df[f\"h3_res{res}_dropoff\"] = np.vectorize(h3.geo_to_h3)(\n",
    "        df['dropoff_centroid_latitude'], df['dropoff_centroid_longitude'], res)\n",
    "    return df\n",
    "\n",
    "# Get poly from hex ids - vectorized form to save time\n",
    "def poly_from_hex(df, colname, res):\n",
    "    hex_ids = df[f\"h3_res{res}_{colname}\"].values\n",
    "    polygons = np.vectorize(lambda hex_id: Polygon(h3.h3_to_geo_boundary(hex_id, geo_json=True)))(hex_ids)\n",
    "    df[f\"poly_res{res}_{colname}\"] = polygons\n",
    "    return df\n",
    "\n",
    "# Get count for each trip happening in the same hexagon\n",
    "def get_poly_count(df, colname):\n",
    "    name = colname.split(\"_\")[1] + \"_\" + colname.split(\"_\")[2]\n",
    "    df[f\"count{name}\"] = df.groupby(colname)['trip_id'].transform('count')\n",
    "    return df"
   ]
  },
  {
   "cell_type": "code",
   "execution_count": 201,
   "id": "1ce2d96d-b681-4d80-b0c1-48515d111e68",
   "metadata": {
    "tags": []
   },
   "outputs": [],
   "source": [
    "# For hexagon resolution, adapted: https://towardsdatascience.com/exploring-location-data-using-a-hexagon-grid-3509b68b04a2 table\n",
    "df_merged = add_h3_ids(df_merged, 7)\n",
    "df_merged = add_h3_ids(df_merged, 8)"
   ]
  },
  {
   "cell_type": "markdown",
   "id": "f2ec8077-1a89-48c4-9968-cbfcf182f5df",
   "metadata": {},
   "source": [
    "#### Save Data"
   ]
  },
  {
   "cell_type": "code",
   "execution_count": 206,
   "id": "ad3fb529-a2ba-4136-b202-63a40c8431ac",
   "metadata": {},
   "outputs": [],
   "source": [
    "df_merged.to_parquet('data/prepped/prep_taxidata.parquet')"
   ]
  },
  {
   "cell_type": "code",
   "execution_count": 207,
   "id": "073af958-6bf7-49ad-b8f1-141a4877fa11",
   "metadata": {},
   "outputs": [],
   "source": [
    "# read in\n",
    "df = pd.read_parquet('data/prepped/prep_taxidata.parquet')"
   ]
  },
  {
   "cell_type": "code",
   "execution_count": null,
   "id": "81c016a7-42d2-4b48-ac31-b0772c56b6f7",
   "metadata": {},
   "outputs": [],
   "source": []
  }
 ],
 "metadata": {
  "kernelspec": {
   "display_name": "Python 3 (ipykernel)",
   "language": "python",
   "name": "python3"
  },
  "language_info": {
   "codemirror_mode": {
    "name": "ipython",
    "version": 3
   },
   "file_extension": ".py",
   "mimetype": "text/x-python",
   "name": "python",
   "nbconvert_exporter": "python",
   "pygments_lexer": "ipython3",
   "version": "3.10.9"
  },
  "toc-autonumbering": false,
  "toc-showcode": false,
  "toc-showmarkdowntxt": false
 },
 "nbformat": 4,
 "nbformat_minor": 5
}
