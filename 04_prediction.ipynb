{
 "cells": [
  {
   "cell_type": "code",
   "execution_count": 227,
   "id": "375e0294",
   "metadata": {
    "ExecuteTime": {
     "start_time": "2024-08-12T19:26:04.929313Z",
     "end_time": "2024-08-12T19:26:04.947397Z"
    }
   },
   "outputs": [],
   "source": [
    "# Basic Imports\n",
    "import os\n",
    "import pandas as pd\n",
    "import numpy as np\n",
    "import itertools\n",
    "import csv\n",
    "from pandas import Series, date_range\n",
    "\n",
    "# SVM-specific imports\n",
    "from sklearn.svm import SVR\n",
    "from sklearn.model_selection import train_test_split, GridSearchCV\n",
    "from sklearn.preprocessing import StandardScaler\n",
    "from joblib import dump, load\n",
    "\n",
    "# Neural network-specific imports\n",
    "import tensorflow as tf\n",
    "from tensorflow import keras\n",
    "from tensorflow.keras import layers\n",
    "from keras_tuner.tuners import RandomSearch\n",
    "from tensorflow.keras.callbacks import EarlyStopping\n",
    "\n",
    "# Imports for evaluation and visualisation\n",
    "import matplotlib.pyplot as plt\n",
    "from sklearn.metrics import mean_squared_error, r2_score"
   ]
  },
  {
   "cell_type": "code",
   "execution_count": 65,
   "id": "ada7d392",
   "metadata": {
    "ExecuteTime": {
     "start_time": "2024-08-11T21:57:07.029995Z",
     "end_time": "2024-08-11T21:57:07.050850Z"
    }
   },
   "outputs": [],
   "source": [
    "def load_data(filepath):\n",
    "    return pd.read_parquet(filepath)"
   ]
  },
  {
   "cell_type": "code",
   "execution_count": 66,
   "outputs": [],
   "source": [
    "def save_parameters_to_csv(params, file_path):\n",
    "    with open(file_path, \"w\", newline=\"\") as file:\n",
    "        writer = csv.DictWriter(file, fieldnames=params.keys())\n",
    "        writer.writeheader()\n",
    "        writer.writerow(params)\n",
    "    print(f'Parameters successfully saved to {file_path}' )"
   ],
   "metadata": {
    "collapsed": false,
    "ExecuteTime": {
     "start_time": "2024-08-11T21:57:07.037278Z",
     "end_time": "2024-08-11T21:57:07.052724Z"
    }
   }
  },
  {
   "cell_type": "code",
   "execution_count": 67,
   "outputs": [],
   "source": [
    "def save_metrics_to_csv(metrics, file_path):\n",
    "    with open(file_path, \"w\", newline=\"\") as file:\n",
    "        writer = csv.DictWriter(file, fieldnames=metrics.keys())\n",
    "        writer.writeheader()\n",
    "        writer.writerow(metrics)\n",
    "    print(f'Metrics saved to {file_path}')"
   ],
   "metadata": {
    "collapsed": false,
    "ExecuteTime": {
     "start_time": "2024-08-11T21:57:07.047463Z",
     "end_time": "2024-08-11T21:57:07.061100Z"
    }
   }
  },
  {
   "cell_type": "code",
   "execution_count": 68,
   "id": "e2e6ef3c",
   "metadata": {
    "ExecuteTime": {
     "start_time": "2024-08-11T21:57:07.054848Z",
     "end_time": "2024-08-11T21:57:07.061566Z"
    }
   },
   "outputs": [],
   "source": [
    "# Extract necessary features for model input\n",
    "def create_features(df):\n",
    "    df['week'] = df['trip_start_timestamp'].dt.isocalendar().week\n",
    "    df['2_hour_window'] = df['trip_start_timestamp'].dt.floor('2h').dt.hour\n",
    "    return df"
   ]
  },
  {
   "cell_type": "code",
   "execution_count": 69,
   "outputs": [],
   "source": [
    "def prepare_weather_metrics(df):\n",
    "    df['Temperature'] = df['Temperature'].str.extract('(\\d+)').astype(float)\n",
    "    df['Wind Speed'] = pd.to_numeric(df['Wind Speed'].str.extract('(\\d+)')[0], errors='coerce')\n",
    "    df['Humidity'] = df['Humidity'].str.replace(r'[^\\d%]', '', regex=True).str.replace('%', '').astype(float) / 100\n",
    "    df['Precip.'] = df['Precip.'].replace('Trace', 0).replace(r'[^\\d.]', '', regex=True).astype(float)\n",
    "    return df"
   ],
   "metadata": {
    "collapsed": false,
    "ExecuteTime": {
     "start_time": "2024-08-11T21:57:08.650672Z",
     "end_time": "2024-08-11T21:57:08.657439Z"
    }
   }
  },
  {
   "cell_type": "code",
   "execution_count": 124,
   "id": "5afa5388",
   "metadata": {
    "ExecuteTime": {
     "start_time": "2024-08-12T14:53:55.734020Z",
     "end_time": "2024-08-12T14:53:55.741512Z"
    }
   },
   "outputs": [],
   "source": [
    "def create_prediction_dataset(df, temporal_res, spatial_res):\n",
    "    # Define time window based on temporal resolution\n",
    "    time_window_col = f'{temporal_res}_hour_window' if temporal_res < 24 else 'weekday'\n",
    "\n",
    "    if spatial_res == 'census':\n",
    "        df = df.dropna(subset=['pickup_census_tract'])\n",
    "        pickup_column = f'pickup_census_tract'\n",
    "        spatial_print = 'census_tract'\n",
    "    else:\n",
    "        pickup_column = f'h3_res{spatial_res}_pickup'\n",
    "        spatial_print = f'h3_res_{spatial_res}'\n",
    "\n",
    "    grouping_columns = [pickup_column, 'week', time_window_col]\n",
    "\n",
    "    aggregations = {\n",
    "        'Temperature': 'mean',\n",
    "        'Humidity': 'mean',\n",
    "        'Precip.': 'mean',\n",
    "        'Wind Speed': 'mean',\n",
    "        'trip_id': 'count'\n",
    "    }\n",
    "\n",
    "    # Group and aggregate data\n",
    "    df_grouped = df.groupby(grouping_columns).agg(aggregations).reset_index()\n",
    "    df_grouped.rename(columns={'trip_id': 'demand'}, inplace=True)\n",
    "\n",
    "    # Encode categorical variable\n",
    "    df_encoded = pd.get_dummies(df_grouped, columns=[pickup_column], prefix=f'{pickup_column}')\n",
    "\n",
    "    print(f'\\nDataset prepared with \\nspatial resolution: {spatial_print} \\ntemporal resolution: {temporal_res}_h\\n')\n",
    "\n",
    "    return df_encoded"
   ]
  },
  {
   "cell_type": "markdown",
   "source": [
    "### Attempt to Embed H3 Resolutions\n",
    "In an effort to refine our data pre-processing steps and potentially improve the performance of the model, we explored an alternative to the traditional one-hot coding method for processing geographic H3 resolutions. Specifically, we experimented with embedding the H3 resolution indices using a neural network to capture more complex spatial relationships in a more compact representation.\n",
    "\n",
    "Despite the theoretical advantages of this method, our implementation encountered significant operational problems. The training was inefficient and exhibited a lack of convergence, meaning that the training process could not converge within a reasonable time frame.\n",
    "\n",
    "As a result, this approach was not included in our pipeline and we decided to revert to one-hot coding for the H3 resolutions."
   ],
   "metadata": {
    "collapsed": false
   }
  },
  {
   "cell_type": "code",
   "execution_count": 71,
   "outputs": [],
   "source": [
    "# h3_index_res7 = df_demand['h3_res7_pickup'].astype('category').cat.codes.values\n",
    "# num_h3_indices_res7 = np.max(h3_index_res7) + 1\n",
    "#\n",
    "# # Neural network for training embeddings for Resolution 7\n",
    "# embedding_dim = 10\n",
    "# model_res7 = Sequential([\n",
    "#     Embedding(input_dim=num_h3_indices_res7, output_dim=embedding_dim, input_length=1),\n",
    "#     Flatten(),\n",
    "#     Dense(64, activation='relu'),\n",
    "#     Dense(1)\n",
    "# ])\n",
    "# model_res7.compile(optimizer='adam', loss='mean_squared_error')\n",
    "# y_res7 = df_demand['demand_1_hour_window_h3_res7_pickup'].values\n",
    "# model_res7.fit(h3_index_res7, y_res7, epochs=5, batch_size=32, validation_split=0.2)\n",
    "#\n",
    "# # Extract embeddings for Resolution 7\n",
    "# embeddings_res7 = model_res7.layers[0].get_weights()[0]\n",
    "# for i in range(embedding_dim):\n",
    "#     df_demand[f'h3_res7_embedding_{i}'] = embeddings_res7[h3_index_res7, i]\n"
   ],
   "metadata": {
    "collapsed": false,
    "ExecuteTime": {
     "start_time": "2024-08-11T21:57:10.088405Z",
     "end_time": "2024-08-11T21:57:10.095130Z"
    }
   }
  },
  {
   "cell_type": "code",
   "execution_count": 72,
   "outputs": [],
   "source": [
    "def split_scale_data(df):\n",
    "    X = df.drop('demand', axis=1)\n",
    "    y = df[['demand']]\n",
    "\n",
    "    X_train,X_test,y_train,y_test = train_test_split(X,y,test_size=0.2, random_state=42)\n",
    "\n",
    "    scaler = StandardScaler()\n",
    "    X_train_scaled = scaler.fit_transform(X)\n",
    "    y_train_scaled = scaler.fit_transform(y).ravel()\n",
    "    X_test_scaled = scaler.fit_transform(X_test)\n",
    "    y_test_scaled = scaler.fit_transform(y_test).ravel()\n",
    "\n",
    "    return X_train_scaled,y_train_scaled,X_test_scaled,y_test_scaled,scaler"
   ],
   "metadata": {
    "collapsed": false,
    "ExecuteTime": {
     "start_time": "2024-08-11T21:57:11.476076Z",
     "end_time": "2024-08-11T21:57:11.479934Z"
    }
   }
  },
  {
   "cell_type": "markdown",
   "source": [
    "# SVM"
   ],
   "metadata": {
    "collapsed": false
   }
  },
  {
   "cell_type": "code",
   "execution_count": 73,
   "outputs": [],
   "source": [
    "def gridsearch(X_train,y_train, temporal_res, spatial_res, hyperparameters):\n",
    "    model = SVR()\n",
    "\n",
    "    print('Starting grid search...')\n",
    "    grid_search = GridSearchCV(\n",
    "        estimator = model,\n",
    "        param_grid = hyperparameters,\n",
    "        scoring = 'neg_root_mean_squared_error',\n",
    "        verbose = 3,\n",
    "    )\n",
    "    grid_search.fit(X_train, y_train)\n",
    "\n",
    "    best_params = grid_search.best_params_\n",
    "    best_model = grid_search.best_estimator_\n",
    "    best_score = grid_search.best_score_\n",
    "\n",
    "    model_path = f'data/models/model_spatial_{spatial_res}_temporal_{temporal_res}.joblib'\n",
    "    dump(best_model, model_path)\n",
    "\n",
    "    params_path = f'data/models/parameter_spatial_{spatial_res}_temporal_{temporal_res}.csv'\n",
    "    save_parameters_to_csv(best_params, params_path)\n",
    "\n",
    "    print(f'Best parameters: \\n{best_params}')\n",
    "    return best_model"
   ],
   "metadata": {
    "collapsed": false,
    "ExecuteTime": {
     "start_time": "2024-08-11T21:57:12.890555Z",
     "end_time": "2024-08-11T21:57:12.905058Z"
    }
   }
  },
  {
   "cell_type": "code",
   "execution_count": 74,
   "outputs": [],
   "source": [
    "def model_evaluation(model, scaler, X_test, y_test, temporal_res, spatial_res):\n",
    "    y_pred = model.predict(X_test)\n",
    "\n",
    "    mse = mean_squared_error(scaler.inverse_transform(y_test.reshape(-1, 1)),scaler.inverse_transform(y_pred.reshape(-1, 1)))\n",
    "    rmse = float(np.sqrt(mse))\n",
    "    r2 = r2_score(scaler.inverse_transform(y_test.reshape(-1, 1)),scaler.inverse_transform(y_pred.reshape(-1, 1)))\n",
    "\n",
    "    evaluation_dict = {\n",
    "        'mse' : mse,\n",
    "        'rmse' : rmse,\n",
    "        'r2' : r2,\n",
    "    }\n",
    "\n",
    "    metrrics_path = f'data/models/metrics_spatial_{spatial_res}_temporal_{temporal_res}.csv'\n",
    "    save_metrics_to_csv(evaluation_dict, metrrics_path)\n",
    "    print(f'Evaluation metrics: \\n{evaluation_dict}')\n"
   ],
   "metadata": {
    "collapsed": false,
    "ExecuteTime": {
     "start_time": "2024-08-11T21:57:14.355471Z",
     "end_time": "2024-08-11T21:57:14.361817Z"
    }
   }
  },
  {
   "cell_type": "markdown",
   "source": [
    "### Model Training Approach\n",
    "\n",
    "Due to the computationally intensive nature of our model training processes, we have decided to initially train all models on just 10% of the available data. This approach allows us to efficiently evaluate different models and their parameters without incurring the high computational cost of full dataset training.\n",
    "\n",
    "After this preliminary phase, we will identify the most promising model—based on performance metrics and parameter optimization—on this smaller dataset. Subsequently, we will proceed to train this model on the entire dataset. This step ensures that we leverage the most effective model configuration while optimizing our resources and time during the experimental phase.\n",
    "\n",
    "This strategy strikes a balance between computational efficiency and model accuracy, allowing us to iterate quickly and refine our approach based on preliminary results before committing to more resource-intensive training sessions."
   ],
   "metadata": {
    "collapsed": false
   }
  },
  {
   "cell_type": "code",
   "execution_count": 142,
   "outputs": [],
   "source": [
    "df = load_data('data/prepped/weather_taxi_merged_df.parquet')\n",
    "df = create_features(df)\n",
    "df = prepare_weather_metrics(df)"
   ],
   "metadata": {
    "collapsed": false,
    "ExecuteTime": {
     "start_time": "2024-08-12T15:07:13.214070Z",
     "end_time": "2024-08-12T15:07:48.791775Z"
    }
   }
  },
  {
   "cell_type": "code",
   "execution_count": 75,
   "id": "b71e87d4",
   "metadata": {
    "ExecuteTime": {
     "start_time": "2024-08-11T21:57:17.353941Z",
     "end_time": "2024-08-12T01:32:29.960228Z"
    }
   },
   "outputs": [
    {
     "name": "stdout",
     "output_type": "stream",
     "text": [
      "\n",
      "Dataset prepared with \n",
      "spatial resolution: h3_res_7 \n",
      "temporal resolution: 1_h\n",
      "\n",
      "Starting grid search...\n",
      "Fitting 5 folds for each of 16 candidates, totalling 80 fits\n",
      "[CV 1/5] END ..C=1, epsilon=0.1, kernel=linear;, score=-0.601 total time=   5.3s\n",
      "[CV 2/5] END ..C=1, epsilon=0.1, kernel=linear;, score=-0.619 total time=   4.8s\n",
      "[CV 3/5] END ..C=1, epsilon=0.1, kernel=linear;, score=-0.572 total time=   5.1s\n",
      "[CV 4/5] END ..C=1, epsilon=0.1, kernel=linear;, score=-0.581 total time=   5.4s\n",
      "[CV 5/5] END ..C=1, epsilon=0.1, kernel=linear;, score=-0.551 total time=   5.3s\n",
      "[CV 1/5] END C=1, epsilon=0.001, kernel=linear;, score=-0.606 total time=  53.4s\n",
      "[CV 2/5] END C=1, epsilon=0.001, kernel=linear;, score=-0.623 total time=  55.7s\n",
      "[CV 3/5] END C=1, epsilon=0.001, kernel=linear;, score=-0.580 total time=  57.5s\n",
      "[CV 4/5] END C=1, epsilon=0.001, kernel=linear;, score=-0.590 total time=  53.6s\n",
      "[CV 5/5] END C=1, epsilon=0.001, kernel=linear;, score=-0.558 total time=  54.5s\n",
      "[CV 1/5] END .C=10, epsilon=0.1, kernel=linear;, score=-0.601 total time=  32.5s\n",
      "[CV 2/5] END .C=10, epsilon=0.1, kernel=linear;, score=-0.619 total time=  28.0s\n",
      "[CV 3/5] END .C=10, epsilon=0.1, kernel=linear;, score=-0.572 total time=  29.3s\n",
      "[CV 4/5] END .C=10, epsilon=0.1, kernel=linear;, score=-0.581 total time=  33.0s\n",
      "[CV 5/5] END .C=10, epsilon=0.1, kernel=linear;, score=-0.551 total time=  27.8s\n",
      "[CV 1/5] END C=10, epsilon=0.001, kernel=linear;, score=-0.606 total time= 6.8min\n",
      "[CV 2/5] END C=10, epsilon=0.001, kernel=linear;, score=-0.623 total time= 7.3min\n",
      "[CV 3/5] END C=10, epsilon=0.001, kernel=linear;, score=-0.580 total time= 7.2min\n",
      "[CV 4/5] END C=10, epsilon=0.001, kernel=linear;, score=-0.590 total time= 6.6min\n",
      "[CV 5/5] END C=10, epsilon=0.001, kernel=linear;, score=-0.558 total time= 7.0min\n",
      "[CV 1/5] END .....C=1, epsilon=0.1, kernel=rbf;, score=-0.504 total time=   1.1s\n",
      "[CV 2/5] END .....C=1, epsilon=0.1, kernel=rbf;, score=-0.457 total time=   1.2s\n",
      "[CV 3/5] END .....C=1, epsilon=0.1, kernel=rbf;, score=-0.431 total time=   1.1s\n",
      "[CV 4/5] END .....C=1, epsilon=0.1, kernel=rbf;, score=-0.474 total time=   1.2s\n",
      "[CV 5/5] END .....C=1, epsilon=0.1, kernel=rbf;, score=-0.435 total time=   1.2s\n",
      "[CV 1/5] END ...C=1, epsilon=0.001, kernel=rbf;, score=-0.502 total time=   6.5s\n",
      "[CV 2/5] END ...C=1, epsilon=0.001, kernel=rbf;, score=-0.457 total time=   6.3s\n",
      "[CV 3/5] END ...C=1, epsilon=0.001, kernel=rbf;, score=-0.430 total time=   6.5s\n",
      "[CV 4/5] END ...C=1, epsilon=0.001, kernel=rbf;, score=-0.476 total time=   6.5s\n",
      "[CV 5/5] END ...C=1, epsilon=0.001, kernel=rbf;, score=-0.436 total time=   6.4s\n",
      "[CV 1/5] END ....C=10, epsilon=0.1, kernel=rbf;, score=-0.419 total time=   1.4s\n",
      "[CV 2/5] END ....C=10, epsilon=0.1, kernel=rbf;, score=-0.371 total time=   1.5s\n",
      "[CV 3/5] END ....C=10, epsilon=0.1, kernel=rbf;, score=-0.374 total time=   1.5s\n",
      "[CV 4/5] END ....C=10, epsilon=0.1, kernel=rbf;, score=-0.376 total time=   1.4s\n",
      "[CV 5/5] END ....C=10, epsilon=0.1, kernel=rbf;, score=-0.338 total time=   1.5s\n",
      "[CV 1/5] END ..C=10, epsilon=0.001, kernel=rbf;, score=-0.418 total time=  12.1s\n",
      "[CV 2/5] END ..C=10, epsilon=0.001, kernel=rbf;, score=-0.373 total time=  11.7s\n",
      "[CV 3/5] END ..C=10, epsilon=0.001, kernel=rbf;, score=-0.381 total time=  12.0s\n",
      "[CV 4/5] END ..C=10, epsilon=0.001, kernel=rbf;, score=-0.377 total time=  12.2s\n",
      "[CV 5/5] END ..C=10, epsilon=0.001, kernel=rbf;, score=-0.338 total time=  12.0s\n",
      "[CV 1/5] END C=1, degree=2, epsilon=0.1, kernel=poly;, score=-0.556 total time=   1.2s\n",
      "[CV 2/5] END C=1, degree=2, epsilon=0.1, kernel=poly;, score=-0.494 total time=   1.1s\n",
      "[CV 3/5] END C=1, degree=2, epsilon=0.1, kernel=poly;, score=-0.486 total time=   1.1s\n",
      "[CV 4/5] END C=1, degree=2, epsilon=0.1, kernel=poly;, score=-0.529 total time=   1.1s\n",
      "[CV 5/5] END C=1, degree=2, epsilon=0.1, kernel=poly;, score=-0.476 total time=   1.1s\n",
      "[CV 1/5] END C=1, degree=2, epsilon=0.001, kernel=poly;, score=-0.593 total time=   5.1s\n",
      "[CV 2/5] END C=1, degree=2, epsilon=0.001, kernel=poly;, score=-0.547 total time=   5.3s\n",
      "[CV 3/5] END C=1, degree=2, epsilon=0.001, kernel=poly;, score=-0.540 total time=   5.3s\n",
      "[CV 4/5] END C=1, degree=2, epsilon=0.001, kernel=poly;, score=-0.568 total time=   5.1s\n",
      "[CV 5/5] END C=1, degree=2, epsilon=0.001, kernel=poly;, score=-0.532 total time=   5.3s\n",
      "[CV 1/5] END C=1, degree=3, epsilon=0.1, kernel=poly;, score=-0.572 total time=   1.0s\n",
      "[CV 2/5] END C=1, degree=3, epsilon=0.1, kernel=poly;, score=-0.488 total time=   1.0s\n",
      "[CV 3/5] END C=1, degree=3, epsilon=0.1, kernel=poly;, score=-0.492 total time=   0.9s\n",
      "[CV 4/5] END C=1, degree=3, epsilon=0.1, kernel=poly;, score=-0.547 total time=   1.0s\n",
      "[CV 5/5] END C=1, degree=3, epsilon=0.1, kernel=poly;, score=-0.480 total time=   1.0s\n",
      "[CV 1/5] END C=1, degree=3, epsilon=0.001, kernel=poly;, score=-0.573 total time=   6.7s\n",
      "[CV 2/5] END C=1, degree=3, epsilon=0.001, kernel=poly;, score=-0.485 total time=   6.6s\n",
      "[CV 3/5] END C=1, degree=3, epsilon=0.001, kernel=poly;, score=-0.487 total time=   6.4s\n",
      "[CV 4/5] END C=1, degree=3, epsilon=0.001, kernel=poly;, score=-0.552 total time=   6.7s\n",
      "[CV 5/5] END C=1, degree=3, epsilon=0.001, kernel=poly;, score=-0.481 total time=   7.0s\n",
      "[CV 1/5] END C=10, degree=2, epsilon=0.1, kernel=poly;, score=-0.524 total time=   3.7s\n",
      "[CV 2/5] END C=10, degree=2, epsilon=0.1, kernel=poly;, score=-0.458 total time=   4.0s\n",
      "[CV 3/5] END C=10, degree=2, epsilon=0.1, kernel=poly;, score=-0.507 total time=   4.0s\n",
      "[CV 4/5] END C=10, degree=2, epsilon=0.1, kernel=poly;, score=-0.479 total time=   3.9s\n",
      "[CV 5/5] END C=10, degree=2, epsilon=0.1, kernel=poly;, score=-0.551 total time=   3.4s\n",
      "[CV 1/5] END C=10, degree=2, epsilon=0.001, kernel=poly;, score=-0.714 total time=  18.0s\n",
      "[CV 2/5] END C=10, degree=2, epsilon=0.001, kernel=poly;, score=-0.591 total time=  13.5s\n",
      "[CV 3/5] END C=10, degree=2, epsilon=0.001, kernel=poly;, score=-0.744 total time=  18.7s\n",
      "[CV 4/5] END C=10, degree=2, epsilon=0.001, kernel=poly;, score=-0.615 total time=  16.2s\n",
      "[CV 5/5] END C=10, degree=2, epsilon=0.001, kernel=poly;, score=-0.895 total time=  18.6s\n",
      "[CV 1/5] END C=10, degree=3, epsilon=0.1, kernel=poly;, score=-0.441 total time=   1.1s\n",
      "[CV 2/5] END C=10, degree=3, epsilon=0.1, kernel=poly;, score=-0.388 total time=   1.1s\n",
      "[CV 3/5] END C=10, degree=3, epsilon=0.1, kernel=poly;, score=-0.395 total time=   1.1s\n",
      "[CV 4/5] END C=10, degree=3, epsilon=0.1, kernel=poly;, score=-0.414 total time=   1.1s\n",
      "[CV 5/5] END C=10, degree=3, epsilon=0.1, kernel=poly;, score=-0.353 total time=   1.1s\n",
      "[CV 1/5] END C=10, degree=3, epsilon=0.001, kernel=poly;, score=-0.448 total time=  23.8s\n",
      "[CV 2/5] END C=10, degree=3, epsilon=0.001, kernel=poly;, score=-0.391 total time=  24.5s\n",
      "[CV 3/5] END C=10, degree=3, epsilon=0.001, kernel=poly;, score=-0.411 total time=  28.5s\n",
      "[CV 4/5] END C=10, degree=3, epsilon=0.001, kernel=poly;, score=-0.459 total time=  26.9s\n",
      "[CV 5/5] END C=10, degree=3, epsilon=0.001, kernel=poly;, score=-0.359 total time=  25.0s\n",
      "Parameters successfully saved to data/models/parameter_spatial_7_temporal_1.csv\n",
      "Best parameters: \n",
      "{'C': 10, 'epsilon': 0.1, 'kernel': 'rbf'}\n",
      "Metrics saved to data/models/metrics_spatial_7_temporal_1.csv\n",
      "Evaluation metrics: \n",
      "{'mse': 6189.253861063539, 'rmse': 78.67181109561123, 'r2': 0.8466717028153287}\n",
      "\n",
      "Dataset prepared with \n",
      "spatial resolution: h3_res_7 \n",
      "temporal resolution: 2_h\n",
      "\n",
      "Starting grid search...\n",
      "Fitting 5 folds for each of 16 candidates, totalling 80 fits\n",
      "[CV 1/5] END ..C=1, epsilon=0.1, kernel=linear;, score=-0.594 total time=   1.7s\n",
      "[CV 2/5] END ..C=1, epsilon=0.1, kernel=linear;, score=-0.488 total time=   2.3s\n",
      "[CV 3/5] END ..C=1, epsilon=0.1, kernel=linear;, score=-0.703 total time=   1.8s\n",
      "[CV 4/5] END ..C=1, epsilon=0.1, kernel=linear;, score=-0.619 total time=   1.8s\n",
      "[CV 5/5] END ..C=1, epsilon=0.1, kernel=linear;, score=-0.623 total time=   1.5s\n",
      "[CV 1/5] END C=1, epsilon=0.001, kernel=linear;, score=-0.600 total time=  14.5s\n",
      "[CV 2/5] END C=1, epsilon=0.001, kernel=linear;, score=-0.498 total time=  15.6s\n",
      "[CV 3/5] END C=1, epsilon=0.001, kernel=linear;, score=-0.710 total time=  15.5s\n",
      "[CV 4/5] END C=1, epsilon=0.001, kernel=linear;, score=-0.634 total time=  14.1s\n",
      "[CV 5/5] END C=1, epsilon=0.001, kernel=linear;, score=-0.635 total time=  15.1s\n",
      "[CV 1/5] END .C=10, epsilon=0.1, kernel=linear;, score=-0.594 total time=  10.1s\n",
      "[CV 2/5] END .C=10, epsilon=0.1, kernel=linear;, score=-0.488 total time=  10.9s\n",
      "[CV 3/5] END .C=10, epsilon=0.1, kernel=linear;, score=-0.703 total time=   8.6s\n",
      "[CV 4/5] END .C=10, epsilon=0.1, kernel=linear;, score=-0.619 total time=  11.3s\n",
      "[CV 5/5] END .C=10, epsilon=0.1, kernel=linear;, score=-0.623 total time=  10.3s\n",
      "[CV 1/5] END C=10, epsilon=0.001, kernel=linear;, score=-0.600 total time= 1.9min\n",
      "[CV 2/5] END C=10, epsilon=0.001, kernel=linear;, score=-0.498 total time= 2.0min\n",
      "[CV 3/5] END C=10, epsilon=0.001, kernel=linear;, score=-0.710 total time= 2.2min\n",
      "[CV 4/5] END C=10, epsilon=0.001, kernel=linear;, score=-0.634 total time= 2.2min\n",
      "[CV 5/5] END C=10, epsilon=0.001, kernel=linear;, score=-0.635 total time= 2.0min\n",
      "[CV 1/5] END .....C=1, epsilon=0.1, kernel=rbf;, score=-0.525 total time=   0.3s\n",
      "[CV 2/5] END .....C=1, epsilon=0.1, kernel=rbf;, score=-0.466 total time=   0.3s\n",
      "[CV 3/5] END .....C=1, epsilon=0.1, kernel=rbf;, score=-0.637 total time=   0.3s\n",
      "[CV 4/5] END .....C=1, epsilon=0.1, kernel=rbf;, score=-0.462 total time=   0.3s\n",
      "[CV 5/5] END .....C=1, epsilon=0.1, kernel=rbf;, score=-0.530 total time=   0.3s\n",
      "[CV 1/5] END ...C=1, epsilon=0.001, kernel=rbf;, score=-0.529 total time=   1.7s\n",
      "[CV 2/5] END ...C=1, epsilon=0.001, kernel=rbf;, score=-0.463 total time=   1.6s\n",
      "[CV 3/5] END ...C=1, epsilon=0.001, kernel=rbf;, score=-0.634 total time=   1.6s\n",
      "[CV 4/5] END ...C=1, epsilon=0.001, kernel=rbf;, score=-0.461 total time=   1.6s\n",
      "[CV 5/5] END ...C=1, epsilon=0.001, kernel=rbf;, score=-0.534 total time=   1.7s\n",
      "[CV 1/5] END ....C=10, epsilon=0.1, kernel=rbf;, score=-0.346 total time=   0.4s\n",
      "[CV 2/5] END ....C=10, epsilon=0.1, kernel=rbf;, score=-0.383 total time=   0.4s\n",
      "[CV 3/5] END ....C=10, epsilon=0.1, kernel=rbf;, score=-0.385 total time=   0.4s\n",
      "[CV 4/5] END ....C=10, epsilon=0.1, kernel=rbf;, score=-0.439 total time=   0.4s\n",
      "[CV 5/5] END ....C=10, epsilon=0.1, kernel=rbf;, score=-0.397 total time=   0.4s\n",
      "[CV 1/5] END ..C=10, epsilon=0.001, kernel=rbf;, score=-0.350 total time=   3.5s\n",
      "[CV 2/5] END ..C=10, epsilon=0.001, kernel=rbf;, score=-0.386 total time=   3.4s\n",
      "[CV 3/5] END ..C=10, epsilon=0.001, kernel=rbf;, score=-0.383 total time=   3.5s\n",
      "[CV 4/5] END ..C=10, epsilon=0.001, kernel=rbf;, score=-0.444 total time=   3.5s\n",
      "[CV 5/5] END ..C=10, epsilon=0.001, kernel=rbf;, score=-0.399 total time=   3.5s\n",
      "[CV 1/5] END C=1, degree=2, epsilon=0.1, kernel=poly;, score=-0.576 total time=   0.2s\n",
      "[CV 2/5] END C=1, degree=2, epsilon=0.1, kernel=poly;, score=-0.530 total time=   0.2s\n",
      "[CV 3/5] END C=1, degree=2, epsilon=0.1, kernel=poly;, score=-0.711 total time=   0.2s\n",
      "[CV 4/5] END C=1, degree=2, epsilon=0.1, kernel=poly;, score=-0.474 total time=   0.3s\n",
      "[CV 5/5] END C=1, degree=2, epsilon=0.1, kernel=poly;, score=-0.596 total time=   0.2s\n",
      "[CV 1/5] END C=1, degree=2, epsilon=0.001, kernel=poly;, score=-0.608 total time=   1.1s\n",
      "[CV 2/5] END C=1, degree=2, epsilon=0.001, kernel=poly;, score=-0.554 total time=   1.1s\n",
      "[CV 3/5] END C=1, degree=2, epsilon=0.001, kernel=poly;, score=-0.754 total time=   1.1s\n",
      "[CV 4/5] END C=1, degree=2, epsilon=0.001, kernel=poly;, score=-0.514 total time=   1.2s\n",
      "[CV 5/5] END C=1, degree=2, epsilon=0.001, kernel=poly;, score=-0.634 total time=   1.1s\n",
      "[CV 1/5] END C=1, degree=3, epsilon=0.1, kernel=poly;, score=-0.605 total time=   0.3s\n",
      "[CV 2/5] END C=1, degree=3, epsilon=0.1, kernel=poly;, score=-0.575 total time=   0.3s\n",
      "[CV 3/5] END C=1, degree=3, epsilon=0.1, kernel=poly;, score=-0.736 total time=   0.3s\n",
      "[CV 4/5] END C=1, degree=3, epsilon=0.1, kernel=poly;, score=-0.486 total time=   0.3s\n",
      "[CV 5/5] END C=1, degree=3, epsilon=0.1, kernel=poly;, score=-0.620 total time=   0.3s\n",
      "[CV 1/5] END C=1, degree=3, epsilon=0.001, kernel=poly;, score=-0.608 total time=   1.4s\n",
      "[CV 2/5] END C=1, degree=3, epsilon=0.001, kernel=poly;, score=-0.567 total time=   1.4s\n",
      "[CV 3/5] END C=1, degree=3, epsilon=0.001, kernel=poly;, score=-0.741 total time=   1.4s\n",
      "[CV 4/5] END C=1, degree=3, epsilon=0.001, kernel=poly;, score=-0.465 total time=   1.5s\n",
      "[CV 5/5] END C=1, degree=3, epsilon=0.001, kernel=poly;, score=-0.624 total time=   1.4s\n",
      "[CV 1/5] END C=10, degree=2, epsilon=0.1, kernel=poly;, score=-0.414 total time=   1.1s\n",
      "[CV 2/5] END C=10, degree=2, epsilon=0.1, kernel=poly;, score=-0.448 total time=   1.2s\n",
      "[CV 3/5] END C=10, degree=2, epsilon=0.1, kernel=poly;, score=-0.520 total time=   1.1s\n",
      "[CV 4/5] END C=10, degree=2, epsilon=0.1, kernel=poly;, score=-0.537 total time=   1.3s\n",
      "[CV 5/5] END C=10, degree=2, epsilon=0.1, kernel=poly;, score=-0.485 total time=   1.1s\n",
      "[CV 1/5] END C=10, degree=2, epsilon=0.001, kernel=poly;, score=-0.533 total time=   3.8s\n",
      "[CV 2/5] END C=10, degree=2, epsilon=0.001, kernel=poly;, score=-0.554 total time=   3.5s\n",
      "[CV 3/5] END C=10, degree=2, epsilon=0.001, kernel=poly;, score=-0.777 total time=   4.3s\n",
      "[CV 4/5] END C=10, degree=2, epsilon=0.001, kernel=poly;, score=-0.725 total time=   4.1s\n",
      "[CV 5/5] END C=10, degree=2, epsilon=0.001, kernel=poly;, score=-0.584 total time=   4.5s\n",
      "[CV 1/5] END C=10, degree=3, epsilon=0.1, kernel=poly;, score=-0.374 total time=   0.3s\n",
      "[CV 2/5] END C=10, degree=3, epsilon=0.1, kernel=poly;, score=-0.407 total time=   0.3s\n",
      "[CV 3/5] END C=10, degree=3, epsilon=0.1, kernel=poly;, score=-0.402 total time=   0.3s\n",
      "[CV 4/5] END C=10, degree=3, epsilon=0.1, kernel=poly;, score=-0.655 total time=   0.3s\n",
      "[CV 5/5] END C=10, degree=3, epsilon=0.1, kernel=poly;, score=-0.421 total time=   0.3s\n",
      "[CV 1/5] END C=10, degree=3, epsilon=0.001, kernel=poly;, score=-0.375 total time=   4.7s\n",
      "[CV 2/5] END C=10, degree=3, epsilon=0.001, kernel=poly;, score=-0.401 total time=   4.6s\n",
      "[CV 3/5] END C=10, degree=3, epsilon=0.001, kernel=poly;, score=-0.398 total time=   5.9s\n",
      "[CV 4/5] END C=10, degree=3, epsilon=0.001, kernel=poly;, score=-0.515 total time=   6.4s\n",
      "[CV 5/5] END C=10, degree=3, epsilon=0.001, kernel=poly;, score=-0.417 total time=   4.7s\n",
      "Parameters successfully saved to data/models/parameter_spatial_7_temporal_2.csv\n",
      "Best parameters: \n",
      "{'C': 10, 'epsilon': 0.1, 'kernel': 'rbf'}\n",
      "Metrics saved to data/models/metrics_spatial_7_temporal_2.csv\n",
      "Evaluation metrics: \n",
      "{'mse': 23027.206354216712, 'rmse': 151.74717906510392, 'r2': 0.8692364155092216}\n",
      "\n",
      "Dataset prepared with \n",
      "spatial resolution: h3_res_7 \n",
      "temporal resolution: 6_h\n",
      "\n",
      "Starting grid search...\n",
      "Fitting 5 folds for each of 16 candidates, totalling 80 fits\n",
      "[CV 1/5] END ..C=1, epsilon=0.1, kernel=linear;, score=-0.411 total time=   0.3s\n",
      "[CV 2/5] END ..C=1, epsilon=0.1, kernel=linear;, score=-0.542 total time=   0.3s\n",
      "[CV 3/5] END ..C=1, epsilon=0.1, kernel=linear;, score=-0.506 total time=   0.3s\n",
      "[CV 4/5] END ..C=1, epsilon=0.1, kernel=linear;, score=-0.499 total time=   0.3s\n",
      "[CV 5/5] END ..C=1, epsilon=0.1, kernel=linear;, score=-0.559 total time=   0.4s\n",
      "[CV 1/5] END C=1, epsilon=0.001, kernel=linear;, score=-0.407 total time=   1.9s\n",
      "[CV 2/5] END C=1, epsilon=0.001, kernel=linear;, score=-0.551 total time=   2.2s\n",
      "[CV 3/5] END C=1, epsilon=0.001, kernel=linear;, score=-0.530 total time=   2.5s\n",
      "[CV 4/5] END C=1, epsilon=0.001, kernel=linear;, score=-0.512 total time=   2.0s\n",
      "[CV 5/5] END C=1, epsilon=0.001, kernel=linear;, score=-0.568 total time=   2.3s\n",
      "[CV 1/5] END .C=10, epsilon=0.1, kernel=linear;, score=-0.411 total time=   2.4s\n",
      "[CV 2/5] END .C=10, epsilon=0.1, kernel=linear;, score=-0.542 total time=   2.3s\n",
      "[CV 3/5] END .C=10, epsilon=0.1, kernel=linear;, score=-0.506 total time=   2.2s\n",
      "[CV 4/5] END .C=10, epsilon=0.1, kernel=linear;, score=-0.499 total time=   2.2s\n",
      "[CV 5/5] END .C=10, epsilon=0.1, kernel=linear;, score=-0.559 total time=   2.5s\n",
      "[CV 1/5] END C=10, epsilon=0.001, kernel=linear;, score=-0.407 total time=  18.6s\n",
      "[CV 2/5] END C=10, epsilon=0.001, kernel=linear;, score=-0.551 total time=  17.0s\n",
      "[CV 3/5] END C=10, epsilon=0.001, kernel=linear;, score=-0.530 total time=  21.6s\n",
      "[CV 4/5] END C=10, epsilon=0.001, kernel=linear;, score=-0.512 total time=  14.9s\n",
      "[CV 5/5] END C=10, epsilon=0.001, kernel=linear;, score=-0.568 total time=  17.9s\n",
      "[CV 1/5] END .....C=1, epsilon=0.1, kernel=rbf;, score=-0.437 total time=   0.1s\n",
      "[CV 2/5] END .....C=1, epsilon=0.1, kernel=rbf;, score=-0.474 total time=   0.1s\n",
      "[CV 3/5] END .....C=1, epsilon=0.1, kernel=rbf;, score=-0.449 total time=   0.1s\n",
      "[CV 4/5] END .....C=1, epsilon=0.1, kernel=rbf;, score=-0.430 total time=   0.1s\n",
      "[CV 5/5] END .....C=1, epsilon=0.1, kernel=rbf;, score=-0.510 total time=   0.1s\n",
      "[CV 1/5] END ...C=1, epsilon=0.001, kernel=rbf;, score=-0.446 total time=   0.2s\n",
      "[CV 2/5] END ...C=1, epsilon=0.001, kernel=rbf;, score=-0.480 total time=   0.2s\n",
      "[CV 3/5] END ...C=1, epsilon=0.001, kernel=rbf;, score=-0.458 total time=   0.2s\n",
      "[CV 4/5] END ...C=1, epsilon=0.001, kernel=rbf;, score=-0.430 total time=   0.2s\n",
      "[CV 5/5] END ...C=1, epsilon=0.001, kernel=rbf;, score=-0.514 total time=   0.2s\n",
      "[CV 1/5] END ....C=10, epsilon=0.1, kernel=rbf;, score=-0.408 total time=   0.1s\n",
      "[CV 2/5] END ....C=10, epsilon=0.1, kernel=rbf;, score=-0.364 total time=   0.1s\n",
      "[CV 3/5] END ....C=10, epsilon=0.1, kernel=rbf;, score=-0.315 total time=   0.1s\n",
      "[CV 4/5] END ....C=10, epsilon=0.1, kernel=rbf;, score=-0.394 total time=   0.1s\n",
      "[CV 5/5] END ....C=10, epsilon=0.1, kernel=rbf;, score=-0.433 total time=   0.1s\n",
      "[CV 1/5] END ..C=10, epsilon=0.001, kernel=rbf;, score=-0.406 total time=   0.5s\n",
      "[CV 2/5] END ..C=10, epsilon=0.001, kernel=rbf;, score=-0.370 total time=   0.4s\n",
      "[CV 3/5] END ..C=10, epsilon=0.001, kernel=rbf;, score=-0.310 total time=   0.5s\n",
      "[CV 4/5] END ..C=10, epsilon=0.001, kernel=rbf;, score=-0.394 total time=   0.4s\n",
      "[CV 5/5] END ..C=10, epsilon=0.001, kernel=rbf;, score=-0.432 total time=   0.4s\n",
      "[CV 1/5] END C=1, degree=2, epsilon=0.1, kernel=poly;, score=-0.497 total time=   0.0s\n",
      "[CV 2/5] END C=1, degree=2, epsilon=0.1, kernel=poly;, score=-0.532 total time=   0.0s\n",
      "[CV 3/5] END C=1, degree=2, epsilon=0.1, kernel=poly;, score=-0.499 total time=   0.0s\n",
      "[CV 4/5] END C=1, degree=2, epsilon=0.1, kernel=poly;, score=-0.466 total time=   0.0s\n",
      "[CV 5/5] END C=1, degree=2, epsilon=0.1, kernel=poly;, score=-0.533 total time=   0.0s\n",
      "[CV 1/5] END C=1, degree=2, epsilon=0.001, kernel=poly;, score=-0.499 total time=   0.1s\n",
      "[CV 2/5] END C=1, degree=2, epsilon=0.001, kernel=poly;, score=-0.549 total time=   0.2s\n",
      "[CV 3/5] END C=1, degree=2, epsilon=0.001, kernel=poly;, score=-0.526 total time=   0.2s\n",
      "[CV 4/5] END C=1, degree=2, epsilon=0.001, kernel=poly;, score=-0.481 total time=   0.1s\n",
      "[CV 5/5] END C=1, degree=2, epsilon=0.001, kernel=poly;, score=-0.552 total time=   0.2s\n",
      "[CV 1/5] END C=1, degree=3, epsilon=0.1, kernel=poly;, score=-0.533 total time=   0.1s\n",
      "[CV 2/5] END C=1, degree=3, epsilon=0.1, kernel=poly;, score=-0.562 total time=   0.1s\n",
      "[CV 3/5] END C=1, degree=3, epsilon=0.1, kernel=poly;, score=-0.524 total time=   0.1s\n",
      "[CV 4/5] END C=1, degree=3, epsilon=0.1, kernel=poly;, score=-0.495 total time=   0.1s\n",
      "[CV 5/5] END C=1, degree=3, epsilon=0.1, kernel=poly;, score=-0.533 total time=   0.1s\n",
      "[CV 1/5] END C=1, degree=3, epsilon=0.001, kernel=poly;, score=-0.532 total time=   0.2s\n",
      "[CV 2/5] END C=1, degree=3, epsilon=0.001, kernel=poly;, score=-0.563 total time=   0.2s\n",
      "[CV 3/5] END C=1, degree=3, epsilon=0.001, kernel=poly;, score=-0.523 total time=   0.2s\n",
      "[CV 4/5] END C=1, degree=3, epsilon=0.001, kernel=poly;, score=-0.494 total time=   0.2s\n",
      "[CV 5/5] END C=1, degree=3, epsilon=0.001, kernel=poly;, score=-0.527 total time=   0.2s\n",
      "[CV 1/5] END C=10, degree=2, epsilon=0.1, kernel=poly;, score=-0.427 total time=   0.1s\n",
      "[CV 2/5] END C=10, degree=2, epsilon=0.1, kernel=poly;, score=-0.387 total time=   0.1s\n",
      "[CV 3/5] END C=10, degree=2, epsilon=0.1, kernel=poly;, score=-0.330 total time=   0.1s\n",
      "[CV 4/5] END C=10, degree=2, epsilon=0.1, kernel=poly;, score=-0.416 total time=   0.1s\n",
      "[CV 5/5] END C=10, degree=2, epsilon=0.1, kernel=poly;, score=-0.436 total time=   0.1s\n",
      "[CV 1/5] END C=10, degree=2, epsilon=0.001, kernel=poly;, score=-0.460 total time=   0.4s\n",
      "[CV 2/5] END C=10, degree=2, epsilon=0.001, kernel=poly;, score=-0.502 total time=   0.6s\n",
      "[CV 3/5] END C=10, degree=2, epsilon=0.001, kernel=poly;, score=-0.414 total time=   0.6s\n",
      "[CV 4/5] END C=10, degree=2, epsilon=0.001, kernel=poly;, score=-0.495 total time=   0.5s\n",
      "[CV 5/5] END C=10, degree=2, epsilon=0.001, kernel=poly;, score=-0.541 total time=   0.5s\n",
      "[CV 1/5] END C=10, degree=3, epsilon=0.1, kernel=poly;, score=-0.424 total time=   0.1s\n",
      "[CV 2/5] END C=10, degree=3, epsilon=0.1, kernel=poly;, score=-0.367 total time=   0.1s\n",
      "[CV 3/5] END C=10, degree=3, epsilon=0.1, kernel=poly;, score=-0.329 total time=   0.1s\n",
      "[CV 4/5] END C=10, degree=3, epsilon=0.1, kernel=poly;, score=-0.416 total time=   0.1s\n",
      "[CV 5/5] END C=10, degree=3, epsilon=0.1, kernel=poly;, score=-0.432 total time=   0.1s\n",
      "[CV 1/5] END C=10, degree=3, epsilon=0.001, kernel=poly;, score=-0.419 total time=   0.5s\n",
      "[CV 2/5] END C=10, degree=3, epsilon=0.001, kernel=poly;, score=-0.367 total time=   0.6s\n",
      "[CV 3/5] END C=10, degree=3, epsilon=0.001, kernel=poly;, score=-0.323 total time=   0.5s\n",
      "[CV 4/5] END C=10, degree=3, epsilon=0.001, kernel=poly;, score=-0.428 total time=   0.5s\n",
      "[CV 5/5] END C=10, degree=3, epsilon=0.001, kernel=poly;, score=-0.430 total time=   0.6s\n",
      "Parameters successfully saved to data/models/parameter_spatial_7_temporal_6.csv\n",
      "Best parameters: \n",
      "{'C': 10, 'epsilon': 0.001, 'kernel': 'rbf'}\n",
      "Metrics saved to data/models/metrics_spatial_7_temporal_6.csv\n",
      "Evaluation metrics: \n",
      "{'mse': 121565.79796216698, 'rmse': 348.66287149934243, 'r2': 0.6729339955926394}\n",
      "\n",
      "Dataset prepared with \n",
      "spatial resolution: h3_res_7 \n",
      "temporal resolution: 24_h\n",
      "\n",
      "Starting grid search...\n",
      "Fitting 5 folds for each of 16 candidates, totalling 80 fits\n",
      "[CV 1/5] END ..C=1, epsilon=0.1, kernel=linear;, score=-0.331 total time=   0.4s\n",
      "[CV 2/5] END ..C=1, epsilon=0.1, kernel=linear;, score=-0.325 total time=   0.4s\n",
      "[CV 3/5] END ..C=1, epsilon=0.1, kernel=linear;, score=-0.508 total time=   0.4s\n",
      "[CV 4/5] END ..C=1, epsilon=0.1, kernel=linear;, score=-0.272 total time=   0.3s\n",
      "[CV 5/5] END ..C=1, epsilon=0.1, kernel=linear;, score=-0.287 total time=   0.4s\n",
      "[CV 1/5] END C=1, epsilon=0.001, kernel=linear;, score=-0.331 total time=   7.2s\n",
      "[CV 2/5] END C=1, epsilon=0.001, kernel=linear;, score=-0.327 total time=   7.6s\n",
      "[CV 3/5] END C=1, epsilon=0.001, kernel=linear;, score=-0.520 total time=   7.1s\n",
      "[CV 4/5] END C=1, epsilon=0.001, kernel=linear;, score=-0.278 total time=   7.3s\n",
      "[CV 5/5] END C=1, epsilon=0.001, kernel=linear;, score=-0.288 total time=   9.4s\n",
      "[CV 1/5] END .C=10, epsilon=0.1, kernel=linear;, score=-0.331 total time=   2.0s\n",
      "[CV 2/5] END .C=10, epsilon=0.1, kernel=linear;, score=-0.325 total time=   2.2s\n",
      "[CV 3/5] END .C=10, epsilon=0.1, kernel=linear;, score=-0.508 total time=   2.2s\n",
      "[CV 4/5] END .C=10, epsilon=0.1, kernel=linear;, score=-0.272 total time=   2.2s\n",
      "[CV 5/5] END .C=10, epsilon=0.1, kernel=linear;, score=-0.287 total time=   2.6s\n",
      "[CV 1/5] END C=10, epsilon=0.001, kernel=linear;, score=-0.331 total time=  60.0s\n",
      "[CV 2/5] END C=10, epsilon=0.001, kernel=linear;, score=-0.327 total time= 1.1min\n",
      "[CV 3/5] END C=10, epsilon=0.001, kernel=linear;, score=-0.520 total time= 1.0min\n",
      "[CV 4/5] END C=10, epsilon=0.001, kernel=linear;, score=-0.278 total time=  58.0s\n",
      "[CV 5/5] END C=10, epsilon=0.001, kernel=linear;, score=-0.288 total time= 1.2min\n",
      "[CV 1/5] END .....C=1, epsilon=0.1, kernel=rbf;, score=-0.314 total time=   0.1s\n",
      "[CV 2/5] END .....C=1, epsilon=0.1, kernel=rbf;, score=-0.360 total time=   0.1s\n",
      "[CV 3/5] END .....C=1, epsilon=0.1, kernel=rbf;, score=-0.461 total time=   0.1s\n",
      "[CV 4/5] END .....C=1, epsilon=0.1, kernel=rbf;, score=-0.234 total time=   0.1s\n",
      "[CV 5/5] END .....C=1, epsilon=0.1, kernel=rbf;, score=-0.297 total time=   0.1s\n",
      "[CV 1/5] END ...C=1, epsilon=0.001, kernel=rbf;, score=-0.312 total time=   0.7s\n",
      "[CV 2/5] END ...C=1, epsilon=0.001, kernel=rbf;, score=-0.353 total time=   0.7s\n",
      "[CV 3/5] END ...C=1, epsilon=0.001, kernel=rbf;, score=-0.459 total time=   0.7s\n",
      "[CV 4/5] END ...C=1, epsilon=0.001, kernel=rbf;, score=-0.227 total time=   0.7s\n",
      "[CV 5/5] END ...C=1, epsilon=0.001, kernel=rbf;, score=-0.295 total time=   0.7s\n",
      "[CV 1/5] END ....C=10, epsilon=0.1, kernel=rbf;, score=-0.278 total time=   0.2s\n",
      "[CV 2/5] END ....C=10, epsilon=0.1, kernel=rbf;, score=-0.365 total time=   0.1s\n",
      "[CV 3/5] END ....C=10, epsilon=0.1, kernel=rbf;, score=-0.428 total time=   0.1s\n",
      "[CV 4/5] END ....C=10, epsilon=0.1, kernel=rbf;, score=-0.191 total time=   0.2s\n",
      "[CV 5/5] END ....C=10, epsilon=0.1, kernel=rbf;, score=-0.290 total time=   0.2s\n",
      "[CV 1/5] END ..C=10, epsilon=0.001, kernel=rbf;, score=-0.276 total time=   1.8s\n",
      "[CV 2/5] END ..C=10, epsilon=0.001, kernel=rbf;, score=-0.367 total time=   1.9s\n",
      "[CV 3/5] END ..C=10, epsilon=0.001, kernel=rbf;, score=-0.425 total time=   1.8s\n",
      "[CV 4/5] END ..C=10, epsilon=0.001, kernel=rbf;, score=-0.188 total time=   1.7s\n",
      "[CV 5/5] END ..C=10, epsilon=0.001, kernel=rbf;, score=-0.292 total time=   1.8s\n",
      "[CV 1/5] END C=1, degree=2, epsilon=0.1, kernel=poly;, score=-0.327 total time=   0.1s\n",
      "[CV 2/5] END C=1, degree=2, epsilon=0.1, kernel=poly;, score=-0.372 total time=   0.1s\n",
      "[CV 3/5] END C=1, degree=2, epsilon=0.1, kernel=poly;, score=-0.481 total time=   0.1s\n",
      "[CV 4/5] END C=1, degree=2, epsilon=0.1, kernel=poly;, score=-0.241 total time=   0.1s\n",
      "[CV 5/5] END C=1, degree=2, epsilon=0.1, kernel=poly;, score=-0.311 total time=   0.1s\n",
      "[CV 1/5] END C=1, degree=2, epsilon=0.001, kernel=poly;, score=-0.330 total time=   0.6s\n",
      "[CV 2/5] END C=1, degree=2, epsilon=0.001, kernel=poly;, score=-0.373 total time=   0.6s\n",
      "[CV 3/5] END C=1, degree=2, epsilon=0.001, kernel=poly;, score=-0.483 total time=   0.6s\n",
      "[CV 4/5] END C=1, degree=2, epsilon=0.001, kernel=poly;, score=-0.235 total time=   0.6s\n",
      "[CV 5/5] END C=1, degree=2, epsilon=0.001, kernel=poly;, score=-0.309 total time=   0.6s\n",
      "[CV 1/5] END C=1, degree=3, epsilon=0.1, kernel=poly;, score=-0.337 total time=   0.1s\n",
      "[CV 2/5] END C=1, degree=3, epsilon=0.1, kernel=poly;, score=-0.422 total time=   0.1s\n",
      "[CV 3/5] END C=1, degree=3, epsilon=0.1, kernel=poly;, score=-0.480 total time=   0.1s\n",
      "[CV 4/5] END C=1, degree=3, epsilon=0.1, kernel=poly;, score=-0.247 total time=   0.1s\n",
      "[CV 5/5] END C=1, degree=3, epsilon=0.1, kernel=poly;, score=-0.310 total time=   0.1s\n",
      "[CV 1/5] END C=1, degree=3, epsilon=0.001, kernel=poly;, score=-0.331 total time=   0.7s\n",
      "[CV 2/5] END C=1, degree=3, epsilon=0.001, kernel=poly;, score=-0.417 total time=   0.7s\n",
      "[CV 3/5] END C=1, degree=3, epsilon=0.001, kernel=poly;, score=-0.475 total time=   0.7s\n",
      "[CV 4/5] END C=1, degree=3, epsilon=0.001, kernel=poly;, score=-0.232 total time=   0.6s\n",
      "[CV 5/5] END C=1, degree=3, epsilon=0.001, kernel=poly;, score=-0.302 total time=   0.8s\n",
      "[CV 1/5] END C=10, degree=2, epsilon=0.1, kernel=poly;, score=-0.276 total time=   0.1s\n",
      "[CV 2/5] END C=10, degree=2, epsilon=0.1, kernel=poly;, score=-0.376 total time=   0.1s\n",
      "[CV 3/5] END C=10, degree=2, epsilon=0.1, kernel=poly;, score=-0.440 total time=   0.1s\n",
      "[CV 4/5] END C=10, degree=2, epsilon=0.1, kernel=poly;, score=-0.188 total time=   0.1s\n",
      "[CV 5/5] END C=10, degree=2, epsilon=0.1, kernel=poly;, score=-0.305 total time=   0.1s\n",
      "[CV 1/5] END C=10, degree=2, epsilon=0.001, kernel=poly;, score=-0.306 total time=   2.6s\n",
      "[CV 2/5] END C=10, degree=2, epsilon=0.001, kernel=poly;, score=-0.427 total time=   3.1s\n",
      "[CV 3/5] END C=10, degree=2, epsilon=0.001, kernel=poly;, score=-0.477 total time=   2.7s\n",
      "[CV 4/5] END C=10, degree=2, epsilon=0.001, kernel=poly;, score=-0.309 total time=   2.5s\n",
      "[CV 5/5] END C=10, degree=2, epsilon=0.001, kernel=poly;, score=-0.362 total time=   4.1s\n",
      "[CV 1/5] END C=10, degree=3, epsilon=0.1, kernel=poly;, score=-0.283 total time=   0.2s\n",
      "[CV 2/5] END C=10, degree=3, epsilon=0.1, kernel=poly;, score=-0.377 total time=   0.1s\n",
      "[CV 3/5] END C=10, degree=3, epsilon=0.1, kernel=poly;, score=-0.449 total time=   0.1s\n",
      "[CV 4/5] END C=10, degree=3, epsilon=0.1, kernel=poly;, score=-0.198 total time=   0.2s\n",
      "[CV 5/5] END C=10, degree=3, epsilon=0.1, kernel=poly;, score=-0.319 total time=   0.1s\n",
      "[CV 1/5] END C=10, degree=3, epsilon=0.001, kernel=poly;, score=-0.278 total time=   2.5s\n",
      "[CV 2/5] END C=10, degree=3, epsilon=0.001, kernel=poly;, score=-0.374 total time=   3.1s\n",
      "[CV 3/5] END C=10, degree=3, epsilon=0.001, kernel=poly;, score=-0.443 total time=   2.6s\n",
      "[CV 4/5] END C=10, degree=3, epsilon=0.001, kernel=poly;, score=-0.184 total time=   2.3s\n",
      "[CV 5/5] END C=10, degree=3, epsilon=0.001, kernel=poly;, score=-0.470 total time=   4.9s\n",
      "Parameters successfully saved to data/models/parameter_spatial_7_temporal_24.csv\n",
      "Best parameters: \n",
      "{'C': 10, 'epsilon': 0.001, 'kernel': 'rbf'}\n",
      "Metrics saved to data/models/metrics_spatial_7_temporal_24.csv\n",
      "Evaluation metrics: \n",
      "{'mse': 45881.270617193826, 'rmse': 214.1991377601549, 'r2': 0.8642779722227076}\n",
      "\n",
      "Dataset prepared with \n",
      "spatial resolution: h3_res_8 \n",
      "temporal resolution: 1_h\n",
      "\n",
      "Starting grid search...\n",
      "Fitting 5 folds for each of 16 candidates, totalling 80 fits\n",
      "[CV 1/5] END ..C=1, epsilon=0.1, kernel=linear;, score=-0.676 total time=  22.9s\n",
      "[CV 2/5] END ..C=1, epsilon=0.1, kernel=linear;, score=-0.632 total time=  20.4s\n",
      "[CV 3/5] END ..C=1, epsilon=0.1, kernel=linear;, score=-0.663 total time=  20.5s\n",
      "[CV 4/5] END ..C=1, epsilon=0.1, kernel=linear;, score=-0.617 total time=  17.2s\n",
      "[CV 5/5] END ..C=1, epsilon=0.1, kernel=linear;, score=-0.563 total time=  17.8s\n",
      "[CV 1/5] END C=1, epsilon=0.001, kernel=linear;, score=-0.681 total time= 1.4min\n",
      "[CV 2/5] END C=1, epsilon=0.001, kernel=linear;, score=-0.641 total time= 1.5min\n",
      "[CV 3/5] END C=1, epsilon=0.001, kernel=linear;, score=-0.673 total time= 1.6min\n",
      "[CV 4/5] END C=1, epsilon=0.001, kernel=linear;, score=-0.628 total time= 1.5min\n",
      "[CV 5/5] END C=1, epsilon=0.001, kernel=linear;, score=-0.571 total time= 1.5min\n",
      "[CV 1/5] END .C=10, epsilon=0.1, kernel=linear;, score=-0.675 total time= 1.5min\n",
      "[CV 2/5] END .C=10, epsilon=0.1, kernel=linear;, score=-0.632 total time= 1.6min\n",
      "[CV 3/5] END .C=10, epsilon=0.1, kernel=linear;, score=-0.663 total time= 1.4min\n",
      "[CV 4/5] END .C=10, epsilon=0.1, kernel=linear;, score=-0.617 total time= 1.6min\n",
      "[CV 5/5] END .C=10, epsilon=0.1, kernel=linear;, score=-0.563 total time= 1.6min\n",
      "[CV 1/5] END C=10, epsilon=0.001, kernel=linear;, score=-0.681 total time=11.1min\n",
      "[CV 2/5] END C=10, epsilon=0.001, kernel=linear;, score=-0.641 total time=11.7min\n",
      "[CV 3/5] END C=10, epsilon=0.001, kernel=linear;, score=-0.673 total time=11.3min\n",
      "[CV 4/5] END C=10, epsilon=0.001, kernel=linear;, score=-0.628 total time=11.7min\n",
      "[CV 5/5] END C=10, epsilon=0.001, kernel=linear;, score=-0.571 total time=11.0min\n",
      "[CV 1/5] END .....C=1, epsilon=0.1, kernel=rbf;, score=-0.590 total time=   6.2s\n",
      "[CV 2/5] END .....C=1, epsilon=0.1, kernel=rbf;, score=-0.531 total time=   6.2s\n",
      "[CV 3/5] END .....C=1, epsilon=0.1, kernel=rbf;, score=-0.565 total time=   6.2s\n",
      "[CV 4/5] END .....C=1, epsilon=0.1, kernel=rbf;, score=-0.524 total time=   6.2s\n",
      "[CV 5/5] END .....C=1, epsilon=0.1, kernel=rbf;, score=-0.486 total time=   6.2s\n",
      "[CV 1/5] END ...C=1, epsilon=0.001, kernel=rbf;, score=-0.596 total time=  19.9s\n",
      "[CV 2/5] END ...C=1, epsilon=0.001, kernel=rbf;, score=-0.536 total time=  20.2s\n",
      "[CV 3/5] END ...C=1, epsilon=0.001, kernel=rbf;, score=-0.567 total time=  19.9s\n",
      "[CV 4/5] END ...C=1, epsilon=0.001, kernel=rbf;, score=-0.529 total time=  19.8s\n",
      "[CV 5/5] END ...C=1, epsilon=0.001, kernel=rbf;, score=-0.489 total time=  20.5s\n",
      "[CV 1/5] END ....C=10, epsilon=0.1, kernel=rbf;, score=-0.461 total time=   6.9s\n",
      "[CV 2/5] END ....C=10, epsilon=0.1, kernel=rbf;, score=-0.407 total time=   6.8s\n",
      "[CV 3/5] END ....C=10, epsilon=0.1, kernel=rbf;, score=-0.454 total time=   6.8s\n",
      "[CV 4/5] END ....C=10, epsilon=0.1, kernel=rbf;, score=-0.415 total time=   7.1s\n",
      "[CV 5/5] END ....C=10, epsilon=0.1, kernel=rbf;, score=-0.413 total time=   6.7s\n",
      "[CV 1/5] END ..C=10, epsilon=0.001, kernel=rbf;, score=-0.464 total time=  25.5s\n",
      "[CV 2/5] END ..C=10, epsilon=0.001, kernel=rbf;, score=-0.408 total time=  24.7s\n",
      "[CV 3/5] END ..C=10, epsilon=0.001, kernel=rbf;, score=-0.454 total time=  24.3s\n",
      "[CV 4/5] END ..C=10, epsilon=0.001, kernel=rbf;, score=-0.418 total time=  24.7s\n",
      "[CV 5/5] END ..C=10, epsilon=0.001, kernel=rbf;, score=-0.414 total time=  24.8s\n",
      "[CV 1/5] END C=1, degree=2, epsilon=0.1, kernel=poly;, score=-0.658 total time=   6.2s\n",
      "[CV 2/5] END C=1, degree=2, epsilon=0.1, kernel=poly;, score=-0.593 total time=   5.7s\n",
      "[CV 3/5] END C=1, degree=2, epsilon=0.1, kernel=poly;, score=-0.627 total time=   5.5s\n",
      "[CV 4/5] END C=1, degree=2, epsilon=0.1, kernel=poly;, score=-0.587 total time=   5.7s\n",
      "[CV 5/5] END C=1, degree=2, epsilon=0.1, kernel=poly;, score=-0.538 total time=   5.8s\n",
      "[CV 1/5] END C=1, degree=2, epsilon=0.001, kernel=poly;, score=-0.674 total time=  16.9s\n",
      "[CV 2/5] END C=1, degree=2, epsilon=0.001, kernel=poly;, score=-0.615 total time=  16.9s\n",
      "[CV 3/5] END C=1, degree=2, epsilon=0.001, kernel=poly;, score=-0.649 total time=  16.9s\n",
      "[CV 4/5] END C=1, degree=2, epsilon=0.001, kernel=poly;, score=-0.607 total time=  17.0s\n",
      "[CV 5/5] END C=1, degree=2, epsilon=0.001, kernel=poly;, score=-0.556 total time=  17.0s\n",
      "[CV 1/5] END C=1, degree=3, epsilon=0.1, kernel=poly;, score=-0.720 total time=   6.1s\n",
      "[CV 2/5] END C=1, degree=3, epsilon=0.1, kernel=poly;, score=-0.650 total time=   6.2s\n",
      "[CV 3/5] END C=1, degree=3, epsilon=0.1, kernel=poly;, score=-0.683 total time=   6.0s\n",
      "[CV 4/5] END C=1, degree=3, epsilon=0.1, kernel=poly;, score=-0.640 total time=   6.1s\n",
      "[CV 5/5] END C=1, degree=3, epsilon=0.1, kernel=poly;, score=-0.588 total time=   6.0s\n",
      "[CV 1/5] END C=1, degree=3, epsilon=0.001, kernel=poly;, score=-0.721 total time=  18.8s\n",
      "[CV 2/5] END C=1, degree=3, epsilon=0.001, kernel=poly;, score=-0.652 total time=  19.5s\n",
      "[CV 3/5] END C=1, degree=3, epsilon=0.001, kernel=poly;, score=-0.682 total time=  19.9s\n",
      "[CV 4/5] END C=1, degree=3, epsilon=0.001, kernel=poly;, score=-0.642 total time=  18.7s\n",
      "[CV 5/5] END C=1, degree=3, epsilon=0.001, kernel=poly;, score=-0.593 total time=  20.0s\n",
      "[CV 1/5] END C=10, degree=2, epsilon=0.1, kernel=poly;, score=-0.537 total time=   9.9s\n",
      "[CV 2/5] END C=10, degree=2, epsilon=0.1, kernel=poly;, score=-0.484 total time=   9.6s\n",
      "[CV 3/5] END C=10, degree=2, epsilon=0.1, kernel=poly;, score=-0.529 total time=  10.6s\n",
      "[CV 4/5] END C=10, degree=2, epsilon=0.1, kernel=poly;, score=-0.482 total time=  10.8s\n",
      "[CV 5/5] END C=10, degree=2, epsilon=0.1, kernel=poly;, score=-0.483 total time=  10.3s\n",
      "[CV 1/5] END C=10, degree=2, epsilon=0.001, kernel=poly;, score=-0.592 total time=  22.4s\n",
      "[CV 2/5] END C=10, degree=2, epsilon=0.001, kernel=poly;, score=-0.543 total time=  22.1s\n",
      "[CV 3/5] END C=10, degree=2, epsilon=0.001, kernel=poly;, score=-0.587 total time=  24.0s\n",
      "[CV 4/5] END C=10, degree=2, epsilon=0.001, kernel=poly;, score=-0.539 total time=  22.1s\n",
      "[CV 5/5] END C=10, degree=2, epsilon=0.001, kernel=poly;, score=-0.544 total time=  22.2s\n",
      "[CV 1/5] END C=10, degree=3, epsilon=0.1, kernel=poly;, score=-0.510 total time=   5.6s\n",
      "[CV 2/5] END C=10, degree=3, epsilon=0.1, kernel=poly;, score=-0.450 total time=   5.9s\n",
      "[CV 3/5] END C=10, degree=3, epsilon=0.1, kernel=poly;, score=-0.503 total time=   6.9s\n",
      "[CV 4/5] END C=10, degree=3, epsilon=0.1, kernel=poly;, score=-0.472 total time=   6.5s\n",
      "[CV 5/5] END C=10, degree=3, epsilon=0.1, kernel=poly;, score=-0.482 total time=   6.0s\n",
      "[CV 1/5] END C=10, degree=3, epsilon=0.001, kernel=poly;, score=-0.511 total time=  28.2s\n",
      "[CV 2/5] END C=10, degree=3, epsilon=0.001, kernel=poly;, score=-0.451 total time=  26.8s\n",
      "[CV 3/5] END C=10, degree=3, epsilon=0.001, kernel=poly;, score=-0.501 total time=  28.3s\n",
      "[CV 4/5] END C=10, degree=3, epsilon=0.001, kernel=poly;, score=-0.478 total time=  27.0s\n",
      "[CV 5/5] END C=10, degree=3, epsilon=0.001, kernel=poly;, score=-0.564 total time=  31.3s\n",
      "Parameters successfully saved to data/models/parameter_spatial_8_temporal_1.csv\n",
      "Best parameters: \n",
      "{'C': 10, 'epsilon': 0.1, 'kernel': 'rbf'}\n",
      "Metrics saved to data/models/metrics_spatial_8_temporal_1.csv\n",
      "Evaluation metrics: \n",
      "{'mse': 2589.249702179434, 'rmse': 50.884670601070354, 'r2': 0.8364252188767627}\n",
      "\n",
      "Dataset prepared with \n",
      "spatial resolution: h3_res_8 \n",
      "temporal resolution: 2_h\n",
      "\n",
      "Starting grid search...\n",
      "Fitting 5 folds for each of 16 candidates, totalling 80 fits\n",
      "[CV 1/5] END ..C=1, epsilon=0.1, kernel=linear;, score=-0.632 total time=   5.4s\n",
      "[CV 2/5] END ..C=1, epsilon=0.1, kernel=linear;, score=-0.589 total time=   5.6s\n",
      "[CV 3/5] END ..C=1, epsilon=0.1, kernel=linear;, score=-0.594 total time=   6.1s\n",
      "[CV 4/5] END ..C=1, epsilon=0.1, kernel=linear;, score=-0.623 total time=   6.9s\n",
      "[CV 5/5] END ..C=1, epsilon=0.1, kernel=linear;, score=-0.586 total time=   6.2s\n",
      "[CV 1/5] END C=1, epsilon=0.001, kernel=linear;, score=-0.649 total time=  29.5s\n",
      "[CV 2/5] END C=1, epsilon=0.001, kernel=linear;, score=-0.603 total time=  28.6s\n",
      "[CV 3/5] END C=1, epsilon=0.001, kernel=linear;, score=-0.603 total time=  29.4s\n",
      "[CV 4/5] END C=1, epsilon=0.001, kernel=linear;, score=-0.633 total time=  28.8s\n",
      "[CV 5/5] END C=1, epsilon=0.001, kernel=linear;, score=-0.592 total time=  29.2s\n",
      "[CV 1/5] END .C=10, epsilon=0.1, kernel=linear;, score=-0.632 total time=  27.5s\n",
      "[CV 2/5] END .C=10, epsilon=0.1, kernel=linear;, score=-0.589 total time=  32.3s\n",
      "[CV 3/5] END .C=10, epsilon=0.1, kernel=linear;, score=-0.594 total time=  29.1s\n",
      "[CV 4/5] END .C=10, epsilon=0.1, kernel=linear;, score=-0.623 total time=  34.3s\n",
      "[CV 5/5] END .C=10, epsilon=0.1, kernel=linear;, score=-0.586 total time=  32.9s\n",
      "[CV 1/5] END C=10, epsilon=0.001, kernel=linear;, score=-0.649 total time= 3.4min\n",
      "[CV 2/5] END C=10, epsilon=0.001, kernel=linear;, score=-0.603 total time= 3.7min\n",
      "[CV 3/5] END C=10, epsilon=0.001, kernel=linear;, score=-0.603 total time= 3.9min\n",
      "[CV 4/5] END C=10, epsilon=0.001, kernel=linear;, score=-0.633 total time= 3.5min\n",
      "[CV 5/5] END C=10, epsilon=0.001, kernel=linear;, score=-0.592 total time= 3.8min\n",
      "[CV 1/5] END .....C=1, epsilon=0.1, kernel=rbf;, score=-0.568 total time=   2.0s\n",
      "[CV 2/5] END .....C=1, epsilon=0.1, kernel=rbf;, score=-0.538 total time=   2.0s\n",
      "[CV 3/5] END .....C=1, epsilon=0.1, kernel=rbf;, score=-0.541 total time=   2.0s\n",
      "[CV 4/5] END .....C=1, epsilon=0.1, kernel=rbf;, score=-0.595 total time=   2.1s\n",
      "[CV 5/5] END .....C=1, epsilon=0.1, kernel=rbf;, score=-0.545 total time=   2.1s\n",
      "[CV 1/5] END ...C=1, epsilon=0.001, kernel=rbf;, score=-0.572 total time=   6.8s\n",
      "[CV 2/5] END ...C=1, epsilon=0.001, kernel=rbf;, score=-0.545 total time=   6.6s\n",
      "[CV 3/5] END ...C=1, epsilon=0.001, kernel=rbf;, score=-0.544 total time=   6.6s\n",
      "[CV 4/5] END ...C=1, epsilon=0.001, kernel=rbf;, score=-0.597 total time=   6.6s\n",
      "[CV 5/5] END ...C=1, epsilon=0.001, kernel=rbf;, score=-0.547 total time=   6.4s\n",
      "[CV 1/5] END ....C=10, epsilon=0.1, kernel=rbf;, score=-0.454 total time=   2.2s\n",
      "[CV 2/5] END ....C=10, epsilon=0.1, kernel=rbf;, score=-0.412 total time=   2.1s\n",
      "[CV 3/5] END ....C=10, epsilon=0.1, kernel=rbf;, score=-0.368 total time=   2.3s\n",
      "[CV 4/5] END ....C=10, epsilon=0.1, kernel=rbf;, score=-0.468 total time=   2.3s\n",
      "[CV 5/5] END ....C=10, epsilon=0.1, kernel=rbf;, score=-0.409 total time=   2.2s\n",
      "[CV 1/5] END ..C=10, epsilon=0.001, kernel=rbf;, score=-0.461 total time=   8.3s\n",
      "[CV 2/5] END ..C=10, epsilon=0.001, kernel=rbf;, score=-0.413 total time=   8.4s\n",
      "[CV 3/5] END ..C=10, epsilon=0.001, kernel=rbf;, score=-0.367 total time=   8.4s\n",
      "[CV 4/5] END ..C=10, epsilon=0.001, kernel=rbf;, score=-0.470 total time=   8.2s\n",
      "[CV 5/5] END ..C=10, epsilon=0.001, kernel=rbf;, score=-0.412 total time=   8.2s\n",
      "[CV 1/5] END C=1, degree=2, epsilon=0.1, kernel=poly;, score=-0.617 total time=   1.6s\n",
      "[CV 2/5] END C=1, degree=2, epsilon=0.1, kernel=poly;, score=-0.585 total time=   1.6s\n",
      "[CV 3/5] END C=1, degree=2, epsilon=0.1, kernel=poly;, score=-0.584 total time=   1.5s\n",
      "[CV 4/5] END C=1, degree=2, epsilon=0.1, kernel=poly;, score=-0.683 total time=   1.6s\n",
      "[CV 5/5] END C=1, degree=2, epsilon=0.1, kernel=poly;, score=-0.612 total time=   1.7s\n",
      "[CV 1/5] END C=1, degree=2, epsilon=0.001, kernel=poly;, score=-0.636 total time=   5.9s\n",
      "[CV 2/5] END C=1, degree=2, epsilon=0.001, kernel=poly;, score=-0.595 total time=   6.5s\n",
      "[CV 3/5] END C=1, degree=2, epsilon=0.001, kernel=poly;, score=-0.597 total time=   6.7s\n",
      "[CV 4/5] END C=1, degree=2, epsilon=0.001, kernel=poly;, score=-0.698 total time=   6.6s\n",
      "[CV 5/5] END C=1, degree=2, epsilon=0.001, kernel=poly;, score=-0.620 total time=   6.4s\n",
      "[CV 1/5] END C=1, degree=3, epsilon=0.1, kernel=poly;, score=-0.652 total time=   2.3s\n",
      "[CV 2/5] END C=1, degree=3, epsilon=0.1, kernel=poly;, score=-0.638 total time=   2.2s\n",
      "[CV 3/5] END C=1, degree=3, epsilon=0.1, kernel=poly;, score=-0.629 total time=   2.4s\n",
      "[CV 4/5] END C=1, degree=3, epsilon=0.1, kernel=poly;, score=-0.745 total time=   2.4s\n",
      "[CV 5/5] END C=1, degree=3, epsilon=0.1, kernel=poly;, score=-0.677 total time=   2.3s\n",
      "[CV 1/5] END C=1, degree=3, epsilon=0.001, kernel=poly;, score=-0.651 total time=   6.7s\n",
      "[CV 2/5] END C=1, degree=3, epsilon=0.001, kernel=poly;, score=-0.639 total time=   6.7s\n",
      "[CV 3/5] END C=1, degree=3, epsilon=0.001, kernel=poly;, score=-0.625 total time=   6.6s\n",
      "[CV 4/5] END C=1, degree=3, epsilon=0.001, kernel=poly;, score=-0.746 total time=   6.8s\n",
      "[CV 5/5] END C=1, degree=3, epsilon=0.001, kernel=poly;, score=-0.676 total time=   6.6s\n",
      "[CV 1/5] END C=10, degree=2, epsilon=0.1, kernel=poly;, score=-0.505 total time=   3.2s\n",
      "[CV 2/5] END C=10, degree=2, epsilon=0.1, kernel=poly;, score=-0.485 total time=   3.2s\n",
      "[CV 3/5] END C=10, degree=2, epsilon=0.1, kernel=poly;, score=-0.443 total time=   3.4s\n",
      "[CV 4/5] END C=10, degree=2, epsilon=0.1, kernel=poly;, score=-0.522 total time=   3.0s\n",
      "[CV 5/5] END C=10, degree=2, epsilon=0.1, kernel=poly;, score=-0.462 total time=   3.2s\n",
      "[CV 1/5] END C=10, degree=2, epsilon=0.001, kernel=poly;, score=-0.592 total time=   8.4s\n",
      "[CV 2/5] END C=10, degree=2, epsilon=0.001, kernel=poly;, score=-0.547 total time=   8.8s\n",
      "[CV 3/5] END C=10, degree=2, epsilon=0.001, kernel=poly;, score=-0.525 total time=   8.7s\n",
      "[CV 4/5] END C=10, degree=2, epsilon=0.001, kernel=poly;, score=-0.572 total time=   8.6s\n",
      "[CV 5/5] END C=10, degree=2, epsilon=0.001, kernel=poly;, score=-0.525 total time=   8.1s\n",
      "[CV 1/5] END C=10, degree=3, epsilon=0.1, kernel=poly;, score=-0.470 total time=   2.1s\n",
      "[CV 2/5] END C=10, degree=3, epsilon=0.1, kernel=poly;, score=-0.472 total time=   2.0s\n",
      "[CV 3/5] END C=10, degree=3, epsilon=0.1, kernel=poly;, score=-0.429 total time=   1.9s\n",
      "[CV 4/5] END C=10, degree=3, epsilon=0.1, kernel=poly;, score=-0.521 total time=   1.9s\n",
      "[CV 5/5] END C=10, degree=3, epsilon=0.1, kernel=poly;, score=-0.458 total time=   1.8s\n",
      "[CV 1/5] END C=10, degree=3, epsilon=0.001, kernel=poly;, score=-0.470 total time=   9.0s\n",
      "[CV 2/5] END C=10, degree=3, epsilon=0.001, kernel=poly;, score=-0.475 total time=   8.6s\n",
      "[CV 3/5] END C=10, degree=3, epsilon=0.001, kernel=poly;, score=-0.427 total time=   9.1s\n",
      "[CV 4/5] END C=10, degree=3, epsilon=0.001, kernel=poly;, score=-0.517 total time=   8.8s\n",
      "[CV 5/5] END C=10, degree=3, epsilon=0.001, kernel=poly;, score=-0.457 total time=   8.4s\n",
      "Parameters successfully saved to data/models/parameter_spatial_8_temporal_2.csv\n",
      "Best parameters: \n",
      "{'C': 10, 'epsilon': 0.1, 'kernel': 'rbf'}\n",
      "Metrics saved to data/models/metrics_spatial_8_temporal_2.csv\n",
      "Evaluation metrics: \n",
      "{'mse': 7652.122395947806, 'rmse': 87.47641051133617, 'r2': 0.8330870585395603}\n",
      "\n",
      "Dataset prepared with \n",
      "spatial resolution: h3_res_8 \n",
      "temporal resolution: 6_h\n",
      "\n",
      "Starting grid search...\n",
      "Fitting 5 folds for each of 16 candidates, totalling 80 fits\n",
      "[CV 1/5] END ..C=1, epsilon=0.1, kernel=linear;, score=-0.621 total time=   1.0s\n",
      "[CV 2/5] END ..C=1, epsilon=0.1, kernel=linear;, score=-0.549 total time=   1.0s\n",
      "[CV 3/5] END ..C=1, epsilon=0.1, kernel=linear;, score=-0.593 total time=   1.2s\n",
      "[CV 4/5] END ..C=1, epsilon=0.1, kernel=linear;, score=-0.588 total time=   1.3s\n",
      "[CV 5/5] END ..C=1, epsilon=0.1, kernel=linear;, score=-0.455 total time=   1.2s\n",
      "[CV 1/5] END C=1, epsilon=0.001, kernel=linear;, score=-0.640 total time=   4.7s\n",
      "[CV 2/5] END C=1, epsilon=0.001, kernel=linear;, score=-0.559 total time=   5.8s\n",
      "[CV 3/5] END C=1, epsilon=0.001, kernel=linear;, score=-0.613 total time=   5.6s\n",
      "[CV 4/5] END C=1, epsilon=0.001, kernel=linear;, score=-0.608 total time=   6.0s\n",
      "[CV 5/5] END C=1, epsilon=0.001, kernel=linear;, score=-0.460 total time=   5.2s\n",
      "[CV 1/5] END .C=10, epsilon=0.1, kernel=linear;, score=-0.621 total time=   5.7s\n",
      "[CV 2/5] END .C=10, epsilon=0.1, kernel=linear;, score=-0.549 total time=   6.9s\n",
      "[CV 3/5] END .C=10, epsilon=0.1, kernel=linear;, score=-0.593 total time=   6.2s\n",
      "[CV 4/5] END .C=10, epsilon=0.1, kernel=linear;, score=-0.588 total time=   7.0s\n",
      "[CV 5/5] END .C=10, epsilon=0.1, kernel=linear;, score=-0.455 total time=   6.9s\n",
      "[CV 1/5] END C=10, epsilon=0.001, kernel=linear;, score=-0.640 total time=  43.8s\n",
      "[CV 2/5] END C=10, epsilon=0.001, kernel=linear;, score=-0.559 total time=  52.3s\n",
      "[CV 3/5] END C=10, epsilon=0.001, kernel=linear;, score=-0.613 total time=  47.3s\n",
      "[CV 4/5] END C=10, epsilon=0.001, kernel=linear;, score=-0.608 total time=  52.9s\n",
      "[CV 5/5] END C=10, epsilon=0.001, kernel=linear;, score=-0.460 total time=  42.7s\n",
      "[CV 1/5] END .....C=1, epsilon=0.1, kernel=rbf;, score=-0.586 total time=   0.3s\n",
      "[CV 2/5] END .....C=1, epsilon=0.1, kernel=rbf;, score=-0.555 total time=   0.3s\n",
      "[CV 3/5] END .....C=1, epsilon=0.1, kernel=rbf;, score=-0.626 total time=   0.3s\n",
      "[CV 4/5] END .....C=1, epsilon=0.1, kernel=rbf;, score=-0.562 total time=   0.3s\n",
      "[CV 5/5] END .....C=1, epsilon=0.1, kernel=rbf;, score=-0.471 total time=   0.3s\n",
      "[CV 1/5] END ...C=1, epsilon=0.001, kernel=rbf;, score=-0.596 total time=   0.9s\n",
      "[CV 2/5] END ...C=1, epsilon=0.001, kernel=rbf;, score=-0.558 total time=   0.8s\n",
      "[CV 3/5] END ...C=1, epsilon=0.001, kernel=rbf;, score=-0.630 total time=   0.9s\n",
      "[CV 4/5] END ...C=1, epsilon=0.001, kernel=rbf;, score=-0.574 total time=   0.9s\n",
      "[CV 5/5] END ...C=1, epsilon=0.001, kernel=rbf;, score=-0.474 total time=   0.9s\n",
      "[CV 1/5] END ....C=10, epsilon=0.1, kernel=rbf;, score=-0.469 total time=   0.4s\n",
      "[CV 2/5] END ....C=10, epsilon=0.1, kernel=rbf;, score=-0.451 total time=   0.4s\n",
      "[CV 3/5] END ....C=10, epsilon=0.1, kernel=rbf;, score=-0.442 total time=   0.4s\n",
      "[CV 4/5] END ....C=10, epsilon=0.1, kernel=rbf;, score=-0.429 total time=   0.4s\n",
      "[CV 5/5] END ....C=10, epsilon=0.1, kernel=rbf;, score=-0.357 total time=   0.4s\n",
      "[CV 1/5] END ..C=10, epsilon=0.001, kernel=rbf;, score=-0.468 total time=   1.3s\n",
      "[CV 2/5] END ..C=10, epsilon=0.001, kernel=rbf;, score=-0.446 total time=   1.3s\n",
      "[CV 3/5] END ..C=10, epsilon=0.001, kernel=rbf;, score=-0.447 total time=   1.3s\n",
      "[CV 4/5] END ..C=10, epsilon=0.001, kernel=rbf;, score=-0.435 total time=   1.3s\n",
      "[CV 5/5] END ..C=10, epsilon=0.001, kernel=rbf;, score=-0.359 total time=   1.2s\n",
      "[CV 1/5] END C=1, degree=2, epsilon=0.1, kernel=poly;, score=-0.699 total time=   0.3s\n",
      "[CV 2/5] END C=1, degree=2, epsilon=0.1, kernel=poly;, score=-0.652 total time=   0.3s\n",
      "[CV 3/5] END C=1, degree=2, epsilon=0.1, kernel=poly;, score=-0.724 total time=   0.3s\n",
      "[CV 4/5] END C=1, degree=2, epsilon=0.1, kernel=poly;, score=-0.633 total time=   0.3s\n",
      "[CV 5/5] END C=1, degree=2, epsilon=0.1, kernel=poly;, score=-0.583 total time=   0.3s\n",
      "[CV 1/5] END C=1, degree=2, epsilon=0.001, kernel=poly;, score=-0.701 total time=   0.8s\n",
      "[CV 2/5] END C=1, degree=2, epsilon=0.001, kernel=poly;, score=-0.648 total time=   0.8s\n",
      "[CV 3/5] END C=1, degree=2, epsilon=0.001, kernel=poly;, score=-0.730 total time=   0.7s\n",
      "[CV 4/5] END C=1, degree=2, epsilon=0.001, kernel=poly;, score=-0.636 total time=   0.8s\n",
      "[CV 5/5] END C=1, degree=2, epsilon=0.001, kernel=poly;, score=-0.584 total time=   0.7s\n",
      "[CV 1/5] END C=1, degree=3, epsilon=0.1, kernel=poly;, score=-0.772 total time=   0.3s\n",
      "[CV 2/5] END C=1, degree=3, epsilon=0.1, kernel=poly;, score=-0.718 total time=   0.4s\n",
      "[CV 3/5] END C=1, degree=3, epsilon=0.1, kernel=poly;, score=-0.796 total time=   0.4s\n",
      "[CV 4/5] END C=1, degree=3, epsilon=0.1, kernel=poly;, score=-0.698 total time=   0.3s\n",
      "[CV 5/5] END C=1, degree=3, epsilon=0.1, kernel=poly;, score=-0.663 total time=   0.4s\n",
      "[CV 1/5] END C=1, degree=3, epsilon=0.001, kernel=poly;, score=-0.774 total time=   0.8s\n",
      "[CV 2/5] END C=1, degree=3, epsilon=0.001, kernel=poly;, score=-0.720 total time=   0.7s\n",
      "[CV 3/5] END C=1, degree=3, epsilon=0.001, kernel=poly;, score=-0.793 total time=   0.7s\n",
      "[CV 4/5] END C=1, degree=3, epsilon=0.001, kernel=poly;, score=-0.703 total time=   0.7s\n",
      "[CV 5/5] END C=1, degree=3, epsilon=0.001, kernel=poly;, score=-0.665 total time=   0.7s\n",
      "[CV 1/5] END C=10, degree=2, epsilon=0.1, kernel=poly;, score=-0.520 total time=   0.3s\n",
      "[CV 2/5] END C=10, degree=2, epsilon=0.1, kernel=poly;, score=-0.473 total time=   0.3s\n",
      "[CV 3/5] END C=10, degree=2, epsilon=0.1, kernel=poly;, score=-0.516 total time=   0.3s\n",
      "[CV 4/5] END C=10, degree=2, epsilon=0.1, kernel=poly;, score=-0.478 total time=   0.3s\n",
      "[CV 5/5] END C=10, degree=2, epsilon=0.1, kernel=poly;, score=-0.399 total time=   0.3s\n",
      "[CV 1/5] END C=10, degree=2, epsilon=0.001, kernel=poly;, score=-0.575 total time=   1.0s\n",
      "[CV 2/5] END C=10, degree=2, epsilon=0.001, kernel=poly;, score=-0.509 total time=   1.0s\n",
      "[CV 3/5] END C=10, degree=2, epsilon=0.001, kernel=poly;, score=-0.562 total time=   1.1s\n",
      "[CV 4/5] END C=10, degree=2, epsilon=0.001, kernel=poly;, score=-0.520 total time=   1.1s\n",
      "[CV 5/5] END C=10, degree=2, epsilon=0.001, kernel=poly;, score=-0.434 total time=   1.0s\n",
      "[CV 1/5] END C=10, degree=3, epsilon=0.1, kernel=poly;, score=-0.556 total time=   0.3s\n",
      "[CV 2/5] END C=10, degree=3, epsilon=0.1, kernel=poly;, score=-0.493 total time=   0.4s\n",
      "[CV 3/5] END C=10, degree=3, epsilon=0.1, kernel=poly;, score=-0.539 total time=   0.3s\n",
      "[CV 4/5] END C=10, degree=3, epsilon=0.1, kernel=poly;, score=-0.515 total time=   0.4s\n",
      "[CV 5/5] END C=10, degree=3, epsilon=0.1, kernel=poly;, score=-0.432 total time=   0.4s\n",
      "[CV 1/5] END C=10, degree=3, epsilon=0.001, kernel=poly;, score=-0.548 total time=   1.1s\n",
      "[CV 2/5] END C=10, degree=3, epsilon=0.001, kernel=poly;, score=-0.485 total time=   1.1s\n",
      "[CV 3/5] END C=10, degree=3, epsilon=0.001, kernel=poly;, score=-0.530 total time=   1.0s\n",
      "[CV 4/5] END C=10, degree=3, epsilon=0.001, kernel=poly;, score=-0.512 total time=   1.1s\n",
      "[CV 5/5] END C=10, degree=3, epsilon=0.001, kernel=poly;, score=-0.435 total time=   1.2s\n",
      "Parameters successfully saved to data/models/parameter_spatial_8_temporal_6.csv\n",
      "Best parameters: \n",
      "{'C': 10, 'epsilon': 0.1, 'kernel': 'rbf'}\n",
      "Metrics saved to data/models/metrics_spatial_8_temporal_6.csv\n",
      "Evaluation metrics: \n",
      "{'mse': 65169.99829749584, 'rmse': 255.28415206881888, 'r2': 0.7824214052801426}\n",
      "\n",
      "Dataset prepared with \n",
      "spatial resolution: h3_res_8 \n",
      "temporal resolution: 24_h\n",
      "\n",
      "Starting grid search...\n",
      "Fitting 5 folds for each of 16 candidates, totalling 80 fits\n",
      "[CV 1/5] END ..C=1, epsilon=0.1, kernel=linear;, score=-0.389 total time=   2.2s\n",
      "[CV 2/5] END ..C=1, epsilon=0.1, kernel=linear;, score=-0.338 total time=   2.2s\n",
      "[CV 3/5] END ..C=1, epsilon=0.1, kernel=linear;, score=-0.355 total time=   2.3s\n",
      "[CV 4/5] END ..C=1, epsilon=0.1, kernel=linear;, score=-0.412 total time=   2.4s\n",
      "[CV 5/5] END ..C=1, epsilon=0.1, kernel=linear;, score=-0.372 total time=   2.7s\n",
      "[CV 1/5] END C=1, epsilon=0.001, kernel=linear;, score=-0.398 total time=  22.2s\n",
      "[CV 2/5] END C=1, epsilon=0.001, kernel=linear;, score=-0.334 total time=  20.9s\n",
      "[CV 3/5] END C=1, epsilon=0.001, kernel=linear;, score=-0.363 total time=  20.8s\n",
      "[CV 4/5] END C=1, epsilon=0.001, kernel=linear;, score=-0.419 total time=  21.6s\n",
      "[CV 5/5] END C=1, epsilon=0.001, kernel=linear;, score=-0.379 total time=  19.9s\n",
      "[CV 1/5] END .C=10, epsilon=0.1, kernel=linear;, score=-0.389 total time=  12.0s\n",
      "[CV 2/5] END .C=10, epsilon=0.1, kernel=linear;, score=-0.338 total time=   9.5s\n",
      "[CV 3/5] END .C=10, epsilon=0.1, kernel=linear;, score=-0.355 total time=  11.2s\n",
      "[CV 4/5] END .C=10, epsilon=0.1, kernel=linear;, score=-0.412 total time=  12.0s\n",
      "[CV 5/5] END .C=10, epsilon=0.1, kernel=linear;, score=-0.372 total time=  11.9s\n",
      "[CV 1/5] END C=10, epsilon=0.001, kernel=linear;, score=-0.398 total time= 2.8min\n",
      "[CV 2/5] END C=10, epsilon=0.001, kernel=linear;, score=-0.334 total time= 2.8min\n",
      "[CV 3/5] END C=10, epsilon=0.001, kernel=linear;, score=-0.363 total time= 2.8min\n",
      "[CV 4/5] END C=10, epsilon=0.001, kernel=linear;, score=-0.419 total time= 3.2min\n",
      "[CV 5/5] END C=10, epsilon=0.001, kernel=linear;, score=-0.379 total time= 2.7min\n",
      "[CV 1/5] END .....C=1, epsilon=0.1, kernel=rbf;, score=-0.366 total time=   0.6s\n",
      "[CV 2/5] END .....C=1, epsilon=0.1, kernel=rbf;, score=-0.349 total time=   0.7s\n",
      "[CV 3/5] END .....C=1, epsilon=0.1, kernel=rbf;, score=-0.335 total time=   0.6s\n",
      "[CV 4/5] END .....C=1, epsilon=0.1, kernel=rbf;, score=-0.436 total time=   0.6s\n",
      "[CV 5/5] END .....C=1, epsilon=0.1, kernel=rbf;, score=-0.345 total time=   0.6s\n",
      "[CV 1/5] END ...C=1, epsilon=0.001, kernel=rbf;, score=-0.367 total time=   2.9s\n",
      "[CV 2/5] END ...C=1, epsilon=0.001, kernel=rbf;, score=-0.345 total time=   2.9s\n",
      "[CV 3/5] END ...C=1, epsilon=0.001, kernel=rbf;, score=-0.334 total time=   2.8s\n",
      "[CV 4/5] END ...C=1, epsilon=0.001, kernel=rbf;, score=-0.442 total time=   2.9s\n",
      "[CV 5/5] END ...C=1, epsilon=0.001, kernel=rbf;, score=-0.347 total time=   2.8s\n",
      "[CV 1/5] END ....C=10, epsilon=0.1, kernel=rbf;, score=-0.335 total time=   0.8s\n",
      "[CV 2/5] END ....C=10, epsilon=0.1, kernel=rbf;, score=-0.299 total time=   0.9s\n",
      "[CV 3/5] END ....C=10, epsilon=0.1, kernel=rbf;, score=-0.317 total time=   0.8s\n",
      "[CV 4/5] END ....C=10, epsilon=0.1, kernel=rbf;, score=-0.369 total time=   0.8s\n",
      "[CV 5/5] END ....C=10, epsilon=0.1, kernel=rbf;, score=-0.297 total time=   0.9s\n",
      "[CV 1/5] END ..C=10, epsilon=0.001, kernel=rbf;, score=-0.332 total time=   3.9s\n",
      "[CV 2/5] END ..C=10, epsilon=0.001, kernel=rbf;, score=-0.295 total time=   3.9s\n",
      "[CV 3/5] END ..C=10, epsilon=0.001, kernel=rbf;, score=-0.316 total time=   4.0s\n",
      "[CV 4/5] END ..C=10, epsilon=0.001, kernel=rbf;, score=-0.375 total time=   3.8s\n",
      "[CV 5/5] END ..C=10, epsilon=0.001, kernel=rbf;, score=-0.298 total time=   4.0s\n",
      "[CV 1/5] END C=1, degree=2, epsilon=0.1, kernel=poly;, score=-0.432 total time=   0.6s\n",
      "[CV 2/5] END C=1, degree=2, epsilon=0.1, kernel=poly;, score=-0.431 total time=   0.6s\n",
      "[CV 3/5] END C=1, degree=2, epsilon=0.1, kernel=poly;, score=-0.403 total time=   0.7s\n",
      "[CV 4/5] END C=1, degree=2, epsilon=0.1, kernel=poly;, score=-0.502 total time=   0.7s\n",
      "[CV 5/5] END C=1, degree=2, epsilon=0.1, kernel=poly;, score=-0.371 total time=   0.7s\n",
      "[CV 1/5] END C=1, degree=2, epsilon=0.001, kernel=poly;, score=-0.431 total time=   2.8s\n",
      "[CV 2/5] END C=1, degree=2, epsilon=0.001, kernel=poly;, score=-0.432 total time=   2.9s\n",
      "[CV 3/5] END C=1, degree=2, epsilon=0.001, kernel=poly;, score=-0.397 total time=   3.2s\n",
      "[CV 4/5] END C=1, degree=2, epsilon=0.001, kernel=poly;, score=-0.500 total time=   3.1s\n",
      "[CV 5/5] END C=1, degree=2, epsilon=0.001, kernel=poly;, score=-0.374 total time=   3.0s\n",
      "[CV 1/5] END C=1, degree=3, epsilon=0.1, kernel=poly;, score=-0.498 total time=   0.9s\n",
      "[CV 2/5] END C=1, degree=3, epsilon=0.1, kernel=poly;, score=-0.489 total time=   0.9s\n",
      "[CV 3/5] END C=1, degree=3, epsilon=0.1, kernel=poly;, score=-0.479 total time=   0.9s\n",
      "[CV 4/5] END C=1, degree=3, epsilon=0.1, kernel=poly;, score=-0.559 total time=   0.9s\n",
      "[CV 5/5] END C=1, degree=3, epsilon=0.1, kernel=poly;, score=-0.408 total time=   0.9s\n",
      "[CV 1/5] END C=1, degree=3, epsilon=0.001, kernel=poly;, score=-0.493 total time=   2.7s\n",
      "[CV 2/5] END C=1, degree=3, epsilon=0.001, kernel=poly;, score=-0.486 total time=   2.5s\n",
      "[CV 3/5] END C=1, degree=3, epsilon=0.001, kernel=poly;, score=-0.477 total time=   2.4s\n",
      "[CV 4/5] END C=1, degree=3, epsilon=0.001, kernel=poly;, score=-0.559 total time=   2.6s\n",
      "[CV 5/5] END C=1, degree=3, epsilon=0.001, kernel=poly;, score=-0.404 total time=   2.5s\n",
      "[CV 1/5] END C=10, degree=2, epsilon=0.1, kernel=poly;, score=-0.342 total time=   0.6s\n",
      "[CV 2/5] END C=10, degree=2, epsilon=0.1, kernel=poly;, score=-0.305 total time=   0.6s\n",
      "[CV 3/5] END C=10, degree=2, epsilon=0.1, kernel=poly;, score=-0.323 total time=   0.6s\n",
      "[CV 4/5] END C=10, degree=2, epsilon=0.1, kernel=poly;, score=-0.375 total time=   0.6s\n",
      "[CV 5/5] END C=10, degree=2, epsilon=0.1, kernel=poly;, score=-0.311 total time=   0.6s\n",
      "[CV 1/5] END C=10, degree=2, epsilon=0.001, kernel=poly;, score=-0.364 total time=   3.8s\n",
      "[CV 2/5] END C=10, degree=2, epsilon=0.001, kernel=poly;, score=-0.321 total time=   4.1s\n",
      "[CV 3/5] END C=10, degree=2, epsilon=0.001, kernel=poly;, score=-0.336 total time=   4.0s\n",
      "[CV 4/5] END C=10, degree=2, epsilon=0.001, kernel=poly;, score=-0.399 total time=   4.4s\n",
      "[CV 5/5] END C=10, degree=2, epsilon=0.001, kernel=poly;, score=-0.345 total time=   4.5s\n",
      "[CV 1/5] END C=10, degree=3, epsilon=0.1, kernel=poly;, score=-0.352 total time=   0.8s\n",
      "[CV 2/5] END C=10, degree=3, epsilon=0.1, kernel=poly;, score=-0.320 total time=   0.8s\n",
      "[CV 3/5] END C=10, degree=3, epsilon=0.1, kernel=poly;, score=-0.328 total time=   0.8s\n",
      "[CV 4/5] END C=10, degree=3, epsilon=0.1, kernel=poly;, score=-0.394 total time=   0.8s\n",
      "[CV 5/5] END C=10, degree=3, epsilon=0.1, kernel=poly;, score=-0.330 total time=   0.8s\n",
      "[CV 1/5] END C=10, degree=3, epsilon=0.001, kernel=poly;, score=-0.345 total time=   3.6s\n",
      "[CV 2/5] END C=10, degree=3, epsilon=0.001, kernel=poly;, score=-0.312 total time=   3.7s\n",
      "[CV 3/5] END C=10, degree=3, epsilon=0.001, kernel=poly;, score=-0.318 total time=   3.7s\n",
      "[CV 4/5] END C=10, degree=3, epsilon=0.001, kernel=poly;, score=-0.390 total time=   3.9s\n",
      "[CV 5/5] END C=10, degree=3, epsilon=0.001, kernel=poly;, score=-0.328 total time=   3.8s\n",
      "Parameters successfully saved to data/models/parameter_spatial_8_temporal_24.csv\n",
      "Best parameters: \n",
      "{'C': 10, 'epsilon': 0.001, 'kernel': 'rbf'}\n",
      "Metrics saved to data/models/metrics_spatial_8_temporal_24.csv\n",
      "Evaluation metrics: \n",
      "{'mse': 7462.555451949017, 'rmse': 86.38608367062959, 'r2': 0.9202213560271524}\n"
     ]
    }
   ],
   "source": [
    "spatial_res = [7,8]\n",
    "temporal_res = [1,2,6,24]\n",
    "\n",
    "hyperparameters = [\n",
    "    {\n",
    "        'kernel': ['linear'],\n",
    "        'epsilon': [0.1, 0.001],\n",
    "        'C': [1,10]  # Fixed 'C' value for 'linear' kernel\n",
    "    },\n",
    "    {\n",
    "        'kernel': ['rbf'],\n",
    "        'epsilon': [0.1, 0.001],\n",
    "        'C': [1,10]  # Fixed 'C' value for 'rbf' kernel\n",
    "    },\n",
    "    {\n",
    "        'kernel': ['poly'],\n",
    "        'epsilon': [0.1, 0.001],\n",
    "        'C': [1, 10],  # Varying 'C' values for 'poly' kernel\n",
    "        'degree': [2, 3]  # 'degree' only applies to 'poly' kernel\n",
    "    }\n",
    "]\n",
    "\n",
    "for spatial_res, temporal_res in itertools.product(spatial_res, temporal_res):\n",
    "    df_pred = create_prediction_dataset(df, temporal_res, spatial_res)\n",
    "    df_pred = df_pred.sample(frac=0.1)\n",
    "    X_train_scaled,y_train_scaled,X_test_scaled,y_test_scaled,scaler = split_scale_data(df_pred)\n",
    "    model = gridsearch(X_train_scaled,y_train_scaled, temporal_res, spatial_res, hyperparameters)\n",
    "    model_evaluation(model, scaler, X_test_scaled, y_test_scaled, temporal_res, spatial_res)"
   ]
  },
  {
   "cell_type": "code",
   "execution_count": 148,
   "outputs": [],
   "source": [
    "def load_metrics_with_parameters(path, load_census_only=False):\n",
    "    metrics_list = []\n",
    "\n",
    "    for filename in os.listdir(path):\n",
    "        if filename.endswith('.csv') and 'metrics' in filename:\n",
    "            parts = filename.split('_')\n",
    "            spatial_res = parts[-3]\n",
    "            temporal_res = parts[-1].replace('.csv', '')\n",
    "\n",
    "            is_census = (spatial_res == 'census')\n",
    "            if (load_census_only and not is_census) or (not load_census_only and is_census):\n",
    "                continue\n",
    "\n",
    "            metrics_filepath = os.path.join(path, filename)\n",
    "            metrics = pd.read_csv(metrics_filepath)\n",
    "\n",
    "            if load_census_only:\n",
    "                spatial_print = 'census'\n",
    "            else:\n",
    "                spatial_print = f'res{spatial_res}'\n",
    "\n",
    "            model_name = f'{spatial_print}_{temporal_res}h'\n",
    "            metrics['model'] = model_name\n",
    "\n",
    "            params_filename = f'parameter_spatial_{spatial_res}_temporal_{temporal_res}.csv'\n",
    "            params_path = os.path.join(path, params_filename)\n",
    "            params = pd.read_csv(params_path)\n",
    "\n",
    "            for key, value in params.items():\n",
    "                metrics[key] = value.values[0]\n",
    "\n",
    "            metrics_list.append(metrics)\n",
    "\n",
    "    all_metrics = pd.concat(metrics_list, ignore_index=True)\n",
    "    column_order = ['model', 'C', 'epsilon', 'kernel', 'mse', 'rmse', 'r2']\n",
    "    all_metrics = all_metrics[column_order]\n",
    "    return all_metrics"
   ],
   "metadata": {
    "collapsed": false,
    "ExecuteTime": {
     "start_time": "2024-08-12T15:38:36.565653Z",
     "end_time": "2024-08-12T15:38:36.574408Z"
    }
   }
  },
  {
   "cell_type": "code",
   "execution_count": 101,
   "outputs": [],
   "source": [
    "def find_best_model(metrics_with_params_df, criterion):\n",
    "    if criterion == 'r2':\n",
    "        best = metrics_with_params_df.loc[metrics_with_params_df['r2'].idxmax()]\n",
    "    elif criterion == 'rmse':\n",
    "        best = metrics_with_params_df.loc[metrics_with_params_df['rmse'].idxmin()]\n",
    "    elif criterion == 'mse':\n",
    "        best = metrics_with_params_df.loc[metrics_with_params_df['mse'].idxmin()]\n",
    "    else:\n",
    "        raise ValueError(\"Criterion not recognized. Use 'r2' or 'rmse' or 'mse'.\")\n",
    "    return best"
   ],
   "metadata": {
    "collapsed": false,
    "ExecuteTime": {
     "start_time": "2024-08-12T01:58:31.039538Z",
     "end_time": "2024-08-12T01:58:31.048177Z"
    }
   }
  },
  {
   "cell_type": "code",
   "execution_count": 102,
   "outputs": [],
   "source": [
    "def display_best_model(best_model, criterion):\n",
    "    print(f'\\nBest Model Based on {criterion}:')\n",
    "    print(best_model.to_string())"
   ],
   "metadata": {
    "collapsed": false,
    "ExecuteTime": {
     "start_time": "2024-08-12T01:58:33.659705Z",
     "end_time": "2024-08-12T01:58:33.667511Z"
    }
   }
  },
  {
   "cell_type": "code",
   "execution_count": 103,
   "outputs": [
    {
     "name": "stdout",
     "output_type": "stream",
     "text": [
      "All Model Evaluation Metrics and Parameters:\n",
      "      model   C  epsilon kernel            mse        rmse        r2\n",
      "0  res8_24h  10    0.001    rbf    7462.555452   86.386084  0.920221\n",
      "1  res7_24h  10    0.001    rbf   45881.270617  214.199138  0.864278\n",
      "2   res8_6h  10    0.100    rbf   65169.998297  255.284152  0.782421\n",
      "3   res7_6h  10    0.001    rbf  121565.797962  348.662871  0.672934\n",
      "4   res7_2h  10    0.100    rbf   23027.206354  151.747179  0.869236\n",
      "5   res8_1h  10    0.100    rbf    2589.249702   50.884671  0.836425\n",
      "6   res7_1h  10    0.100    rbf    6189.253861   78.671811  0.846672\n",
      "7   res8_2h  10    0.100    rbf    7652.122396   87.476411  0.833087\n"
     ]
    }
   ],
   "source": [
    "models_path = 'data/models/'\n",
    "\n",
    "all_metrics_with_params = load_metrics_with_parameters(models_path)\n",
    "\n",
    "print('All Model Evaluation Metrics and Parameters:')\n",
    "print(all_metrics_with_params.to_string())"
   ],
   "metadata": {
    "collapsed": false,
    "ExecuteTime": {
     "start_time": "2024-08-12T01:58:37.539125Z",
     "end_time": "2024-08-12T01:58:37.605493Z"
    }
   }
  },
  {
   "cell_type": "code",
   "execution_count": 107,
   "outputs": [
    {
     "name": "stdout",
     "output_type": "stream",
     "text": [
      "\n",
      "Best Model Based on rmse:\n",
      "model          res8_1h\n",
      "C                   10\n",
      "epsilon            0.1\n",
      "kernel             rbf\n",
      "mse        2589.249702\n",
      "rmse         50.884671\n",
      "r2            0.836425\n"
     ]
    }
   ],
   "source": [
    "criterion = 'rmse'\n",
    "best_model = find_best_model(all_metrics_with_params, criterion)\n",
    "display_best_model(best_model, criterion)"
   ],
   "metadata": {
    "collapsed": false,
    "ExecuteTime": {
     "start_time": "2024-08-12T01:59:31.334226Z",
     "end_time": "2024-08-12T01:59:31.342287Z"
    }
   }
  },
  {
   "cell_type": "code",
   "execution_count": 108,
   "outputs": [
    {
     "name": "stdout",
     "output_type": "stream",
     "text": [
      "\n",
      "Best Model Based on r2:\n",
      "model         res8_24h\n",
      "C                   10\n",
      "epsilon          0.001\n",
      "kernel             rbf\n",
      "mse        7462.555452\n",
      "rmse         86.386084\n",
      "r2            0.920221\n"
     ]
    }
   ],
   "source": [
    "criterion = 'r2'\n",
    "best_model = find_best_model(all_metrics_with_params, criterion)\n",
    "display_best_model(best_model, criterion)"
   ],
   "metadata": {
    "collapsed": false,
    "ExecuteTime": {
     "start_time": "2024-08-12T01:59:41.865141Z",
     "end_time": "2024-08-12T01:59:41.877786Z"
    }
   }
  },
  {
   "cell_type": "code",
   "execution_count": 110,
   "outputs": [
    {
     "name": "stdout",
     "output_type": "stream",
     "text": [
      "\n",
      "Dataset prepared with \n",
      "spatial resolution: h3_res_8 \n",
      "temporal resolution: 1_h\n",
      "\n",
      "Starting grid search...\n",
      "Fitting 5 folds for each of 1 candidates, totalling 5 fits\n",
      "[CV 1/5] END ....C=10, epsilon=0.1, kernel=rbf;, score=-0.420 total time=20.6min\n",
      "[CV 2/5] END ....C=10, epsilon=0.1, kernel=rbf;, score=-1.863 total time=12.6min\n",
      "[CV 3/5] END ....C=10, epsilon=0.1, kernel=rbf;, score=-0.458 total time=20.8min\n",
      "[CV 4/5] END ....C=10, epsilon=0.1, kernel=rbf;, score=-0.461 total time=21.2min\n",
      "[CV 5/5] END ....C=10, epsilon=0.1, kernel=rbf;, score=-1.011 total time=19.2min\n",
      "Parameters successfully saved to data/models/parameter_spatial_8_temporal_1.csv\n",
      "Best parameters: \n",
      "{'C': 10, 'epsilon': 0.1, 'kernel': 'rbf'}\n",
      "Metrics saved to data/models/metrics_spatial_8_temporal_1.csv\n",
      "Evaluation metrics: \n",
      "{'mse': 1840.3858950592596, 'rmse': 42.8997190557148, 'r2': 0.8481705195220307}\n"
     ]
    }
   ],
   "source": [
    "spatial_res = 8\n",
    "temporal_res = 1\n",
    "\n",
    "best_param_h3_rmse = [{\n",
    "        'kernel': ['rbf'],\n",
    "        'epsilon': [0.1],\n",
    "        'C': [10]\n",
    "    }]\n",
    "\n",
    "df_pred = create_prediction_dataset(df, temporal_res, spatial_res)\n",
    "X_train_scaled,y_train_scaled,X_test_scaled,y_test_scaled,scaler = split_scale_data(df_pred)\n",
    "model = gridsearch(X_train_scaled,y_train_scaled, temporal_res, spatial_res, best_param_h3_rmse)\n",
    "model_evaluation(model, scaler, X_test_scaled, y_test_scaled, temporal_res, spatial_res)"
   ],
   "metadata": {
    "collapsed": false,
    "ExecuteTime": {
     "start_time": "2024-08-12T02:05:39.156079Z",
     "end_time": "2024-08-12T05:19:53.594755Z"
    }
   }
  },
  {
   "cell_type": "code",
   "execution_count": null,
   "outputs": [
    {
     "name": "stdout",
     "output_type": "stream",
     "text": [
      "\n",
      "Dataset prepared with \n",
      "spatial resolution: h3_res_8 \n",
      "temporal resolution: 24_h\n",
      "\n",
      "Starting grid search...\n",
      "Fitting 5 folds for each of 1 candidates, totalling 5 fits\n",
      "[CV 1/5] END ..C=10, epsilon=0.001, kernel=rbf;, score=-0.410 total time=14.4min\n",
      "[CV 2/5] END ..C=10, epsilon=0.001, kernel=rbf;, score=-1.942 total time=15.4min\n",
      "[CV 3/5] END ..C=10, epsilon=0.001, kernel=rbf;, score=-0.460 total time=15.6min\n",
      "[CV 4/5] END ..C=10, epsilon=0.001, kernel=rbf;, score=-0.402 total time=14.4min\n",
      "[CV 5/5] END ..C=10, epsilon=0.001, kernel=rbf;, score=-0.999 total time=15.9min\n"
     ]
    }
   ],
   "source": [
    "spatial_res = 8\n",
    "temporal_res = 24\n",
    "\n",
    "best_param_h3_r2 = [{\n",
    "        'kernel': ['rbf'],\n",
    "        'epsilon': [0.001],\n",
    "        'C': [10]\n",
    "    }]\n",
    "\n",
    "df_pred = create_prediction_dataset(df, temporal_res, spatial_res)\n",
    "X_train_scaled,y_train_scaled,X_test_scaled,y_test_scaled,scaler = split_scale_data(df_pred)\n",
    "model = gridsearch(X_train_scaled,y_train_scaled, temporal_res, spatial_res, best_param_h3_r2)\n",
    "model_evaluation(model, scaler, X_test_scaled, y_test_scaled, temporal_res, spatial_res)"
   ],
   "metadata": {
    "collapsed": false,
    "pycharm": {
     "is_executing": true
    }
   }
  },
  {
   "cell_type": "markdown",
   "source": [
    "### Change from H3 to Census tract\n",
    "To improve comparability, we changed the spatial resolution from H3 indices to census tracts. This step allows a more detailed examination of the geographical patterns and their influence on the model predictions."
   ],
   "metadata": {
    "collapsed": false
   }
  },
  {
   "cell_type": "code",
   "execution_count": 144,
   "outputs": [
    {
     "name": "stdout",
     "output_type": "stream",
     "text": [
      "\n",
      "Dataset prepared with \n",
      "spatial resolution: census_tract \n",
      "temporal resolution: 1_h\n",
      "\n",
      "Starting grid search...\n",
      "Fitting 5 folds for each of 16 candidates, totalling 80 fits\n",
      "[CV 1/5] END ..C=1, epsilon=0.1, kernel=linear;, score=-1.024 total time=   0.0s\n",
      "[CV 2/5] END ..C=1, epsilon=0.1, kernel=linear;, score=-0.904 total time=   0.0s\n",
      "[CV 3/5] END ..C=1, epsilon=0.1, kernel=linear;, score=-0.695 total time=   0.1s\n",
      "[CV 4/5] END ..C=1, epsilon=0.1, kernel=linear;, score=-0.681 total time=   0.0s\n",
      "[CV 5/5] END ..C=1, epsilon=0.1, kernel=linear;, score=-0.490 total time=   0.1s\n",
      "[CV 1/5] END C=1, epsilon=0.001, kernel=linear;, score=-1.039 total time=   0.1s\n",
      "[CV 2/5] END C=1, epsilon=0.001, kernel=linear;, score=-0.917 total time=   0.1s\n",
      "[CV 3/5] END C=1, epsilon=0.001, kernel=linear;, score=-0.723 total time=   0.1s\n",
      "[CV 4/5] END C=1, epsilon=0.001, kernel=linear;, score=-0.691 total time=   0.1s\n",
      "[CV 5/5] END C=1, epsilon=0.001, kernel=linear;, score=-0.513 total time=   0.1s\n",
      "[CV 1/5] END .C=10, epsilon=0.1, kernel=linear;, score=-1.024 total time=   0.2s\n",
      "[CV 2/5] END .C=10, epsilon=0.1, kernel=linear;, score=-0.904 total time=   0.2s\n",
      "[CV 3/5] END .C=10, epsilon=0.1, kernel=linear;, score=-0.695 total time=   0.3s\n",
      "[CV 4/5] END .C=10, epsilon=0.1, kernel=linear;, score=-0.681 total time=   0.3s\n",
      "[CV 5/5] END .C=10, epsilon=0.1, kernel=linear;, score=-0.490 total time=   0.2s\n",
      "[CV 1/5] END C=10, epsilon=0.001, kernel=linear;, score=-1.039 total time=   0.6s\n",
      "[CV 2/5] END C=10, epsilon=0.001, kernel=linear;, score=-0.917 total time=   1.0s\n",
      "[CV 3/5] END C=10, epsilon=0.001, kernel=linear;, score=-0.723 total time=   0.9s\n",
      "[CV 4/5] END C=10, epsilon=0.001, kernel=linear;, score=-0.691 total time=   0.6s\n",
      "[CV 5/5] END C=10, epsilon=0.001, kernel=linear;, score=-0.513 total time=   0.4s\n",
      "[CV 1/5] END .....C=1, epsilon=0.1, kernel=rbf;, score=-1.012 total time=   0.0s\n",
      "[CV 2/5] END .....C=1, epsilon=0.1, kernel=rbf;, score=-0.854 total time=   0.0s\n",
      "[CV 3/5] END .....C=1, epsilon=0.1, kernel=rbf;, score=-0.609 total time=   0.0s\n",
      "[CV 4/5] END .....C=1, epsilon=0.1, kernel=rbf;, score=-0.675 total time=   0.0s\n",
      "[CV 5/5] END .....C=1, epsilon=0.1, kernel=rbf;, score=-0.440 total time=   0.0s\n",
      "[CV 1/5] END ...C=1, epsilon=0.001, kernel=rbf;, score=-1.013 total time=   0.0s\n",
      "[CV 2/5] END ...C=1, epsilon=0.001, kernel=rbf;, score=-0.854 total time=   0.0s\n",
      "[CV 3/5] END ...C=1, epsilon=0.001, kernel=rbf;, score=-0.640 total time=   0.0s\n",
      "[CV 4/5] END ...C=1, epsilon=0.001, kernel=rbf;, score=-0.687 total time=   0.0s\n",
      "[CV 5/5] END ...C=1, epsilon=0.001, kernel=rbf;, score=-0.449 total time=   0.0s\n",
      "[CV 1/5] END ....C=10, epsilon=0.1, kernel=rbf;, score=-0.828 total time=   0.0s\n",
      "[CV 2/5] END ....C=10, epsilon=0.1, kernel=rbf;, score=-0.662 total time=   0.0s\n",
      "[CV 3/5] END ....C=10, epsilon=0.1, kernel=rbf;, score=-0.565 total time=   0.0s\n",
      "[CV 4/5] END ....C=10, epsilon=0.1, kernel=rbf;, score=-0.526 total time=   0.0s\n",
      "[CV 5/5] END ....C=10, epsilon=0.1, kernel=rbf;, score=-0.438 total time=   0.0s\n",
      "[CV 1/5] END ..C=10, epsilon=0.001, kernel=rbf;, score=-0.832 total time=   0.0s\n",
      "[CV 2/5] END ..C=10, epsilon=0.001, kernel=rbf;, score=-0.656 total time=   0.0s\n",
      "[CV 3/5] END ..C=10, epsilon=0.001, kernel=rbf;, score=-0.573 total time=   0.0s\n",
      "[CV 4/5] END ..C=10, epsilon=0.001, kernel=rbf;, score=-0.534 total time=   0.0s\n",
      "[CV 5/5] END ..C=10, epsilon=0.001, kernel=rbf;, score=-0.437 total time=   0.0s\n",
      "[CV 1/5] END C=1, degree=2, epsilon=0.1, kernel=poly;, score=-1.172 total time=   0.0s\n",
      "[CV 2/5] END C=1, degree=2, epsilon=0.1, kernel=poly;, score=-0.957 total time=   0.0s\n",
      "[CV 3/5] END C=1, degree=2, epsilon=0.1, kernel=poly;, score=-0.686 total time=   0.0s\n",
      "[CV 4/5] END C=1, degree=2, epsilon=0.1, kernel=poly;, score=-0.883 total time=   0.0s\n",
      "[CV 5/5] END C=1, degree=2, epsilon=0.1, kernel=poly;, score=-0.560 total time=   0.0s\n",
      "[CV 1/5] END C=1, degree=2, epsilon=0.001, kernel=poly;, score=-1.181 total time=   0.0s\n",
      "[CV 2/5] END C=1, degree=2, epsilon=0.001, kernel=poly;, score=-0.954 total time=   0.0s\n",
      "[CV 3/5] END C=1, degree=2, epsilon=0.001, kernel=poly;, score=-0.696 total time=   0.0s\n",
      "[CV 4/5] END C=1, degree=2, epsilon=0.001, kernel=poly;, score=-0.882 total time=   0.0s\n",
      "[CV 5/5] END C=1, degree=2, epsilon=0.001, kernel=poly;, score=-0.562 total time=   0.0s\n",
      "[CV 1/5] END C=1, degree=3, epsilon=0.1, kernel=poly;, score=-1.234 total time=   0.0s\n",
      "[CV 2/5] END C=1, degree=3, epsilon=0.1, kernel=poly;, score=-1.031 total time=   0.0s\n",
      "[CV 3/5] END C=1, degree=3, epsilon=0.1, kernel=poly;, score=-0.717 total time=   0.0s\n",
      "[CV 4/5] END C=1, degree=3, epsilon=0.1, kernel=poly;, score=-0.951 total time=   0.0s\n",
      "[CV 5/5] END C=1, degree=3, epsilon=0.1, kernel=poly;, score=-0.599 total time=   0.0s\n",
      "[CV 1/5] END C=1, degree=3, epsilon=0.001, kernel=poly;, score=-1.242 total time=   0.0s\n",
      "[CV 2/5] END C=1, degree=3, epsilon=0.001, kernel=poly;, score=-1.042 total time=   0.0s\n",
      "[CV 3/5] END C=1, degree=3, epsilon=0.001, kernel=poly;, score=-0.729 total time=   0.0s\n",
      "[CV 4/5] END C=1, degree=3, epsilon=0.001, kernel=poly;, score=-0.957 total time=   0.0s\n",
      "[CV 5/5] END C=1, degree=3, epsilon=0.001, kernel=poly;, score=-0.604 total time=   0.0s\n",
      "[CV 1/5] END C=10, degree=2, epsilon=0.1, kernel=poly;, score=-0.960 total time=   0.0s\n",
      "[CV 2/5] END C=10, degree=2, epsilon=0.1, kernel=poly;, score=-0.771 total time=   0.0s\n",
      "[CV 3/5] END C=10, degree=2, epsilon=0.1, kernel=poly;, score=-0.624 total time=   0.0s\n",
      "[CV 4/5] END C=10, degree=2, epsilon=0.1, kernel=poly;, score=-0.664 total time=   0.0s\n",
      "[CV 5/5] END C=10, degree=2, epsilon=0.1, kernel=poly;, score=-0.471 total time=   0.0s\n",
      "[CV 1/5] END C=10, degree=2, epsilon=0.001, kernel=poly;, score=-0.975 total time=   0.0s\n",
      "[CV 2/5] END C=10, degree=2, epsilon=0.001, kernel=poly;, score=-0.790 total time=   0.0s\n",
      "[CV 3/5] END C=10, degree=2, epsilon=0.001, kernel=poly;, score=-0.636 total time=   0.0s\n",
      "[CV 4/5] END C=10, degree=2, epsilon=0.001, kernel=poly;, score=-0.686 total time=   0.0s\n",
      "[CV 5/5] END C=10, degree=2, epsilon=0.001, kernel=poly;, score=-0.484 total time=   0.0s\n",
      "[CV 1/5] END C=10, degree=3, epsilon=0.1, kernel=poly;, score=-1.034 total time=   0.0s\n",
      "[CV 2/5] END C=10, degree=3, epsilon=0.1, kernel=poly;, score=-0.849 total time=   0.0s\n",
      "[CV 3/5] END C=10, degree=3, epsilon=0.1, kernel=poly;, score=-0.652 total time=   0.0s\n",
      "[CV 4/5] END C=10, degree=3, epsilon=0.1, kernel=poly;, score=-0.778 total time=   0.0s\n",
      "[CV 5/5] END C=10, degree=3, epsilon=0.1, kernel=poly;, score=-0.495 total time=   0.0s\n",
      "[CV 1/5] END C=10, degree=3, epsilon=0.001, kernel=poly;, score=-1.034 total time=   0.0s\n",
      "[CV 2/5] END C=10, degree=3, epsilon=0.001, kernel=poly;, score=-0.851 total time=   0.0s\n",
      "[CV 3/5] END C=10, degree=3, epsilon=0.001, kernel=poly;, score=-0.666 total time=   0.0s\n",
      "[CV 4/5] END C=10, degree=3, epsilon=0.001, kernel=poly;, score=-0.784 total time=   0.0s\n",
      "[CV 5/5] END C=10, degree=3, epsilon=0.001, kernel=poly;, score=-0.501 total time=   0.0s\n",
      "Parameters successfully saved to data/models/parameter_spatial_census_temporal_1.csv\n",
      "Best parameters: \n",
      "{'C': 10, 'epsilon': 0.1, 'kernel': 'rbf'}\n",
      "Metrics saved to data/models/metrics_spatial_census_temporal_1.csv\n",
      "Evaluation metrics: \n",
      "{'mse': 2376.7741838484676, 'rmse': 48.75217106805058, 'r2': 0.6787298470788932}\n",
      "\n",
      "Dataset prepared with \n",
      "spatial resolution: census_tract \n",
      "temporal resolution: 2_h\n",
      "\n",
      "Starting grid search...\n",
      "Fitting 5 folds for each of 16 candidates, totalling 80 fits\n",
      "[CV 1/5] END ..C=1, epsilon=0.1, kernel=linear;, score=-0.916 total time=   0.0s\n",
      "[CV 2/5] END ..C=1, epsilon=0.1, kernel=linear;, score=-0.554 total time=   0.0s\n",
      "[CV 3/5] END ..C=1, epsilon=0.1, kernel=linear;, score=-0.592 total time=   0.0s\n",
      "[CV 4/5] END ..C=1, epsilon=0.1, kernel=linear;, score=-0.562 total time=   0.0s\n",
      "[CV 5/5] END ..C=1, epsilon=0.1, kernel=linear;, score=-1.575 total time=   0.0s\n",
      "[CV 1/5] END C=1, epsilon=0.001, kernel=linear;, score=-0.936 total time=   0.0s\n",
      "[CV 2/5] END C=1, epsilon=0.001, kernel=linear;, score=-0.578 total time=   0.0s\n",
      "[CV 3/5] END C=1, epsilon=0.001, kernel=linear;, score=-0.621 total time=   0.1s\n",
      "[CV 4/5] END C=1, epsilon=0.001, kernel=linear;, score=-0.582 total time=   0.1s\n",
      "[CV 5/5] END C=1, epsilon=0.001, kernel=linear;, score=-1.609 total time=   0.1s\n",
      "[CV 1/5] END .C=10, epsilon=0.1, kernel=linear;, score=-0.916 total time=   0.2s\n",
      "[CV 2/5] END .C=10, epsilon=0.1, kernel=linear;, score=-0.554 total time=   0.1s\n",
      "[CV 3/5] END .C=10, epsilon=0.1, kernel=linear;, score=-0.592 total time=   0.3s\n",
      "[CV 4/5] END .C=10, epsilon=0.1, kernel=linear;, score=-0.562 total time=   0.1s\n",
      "[CV 5/5] END .C=10, epsilon=0.1, kernel=linear;, score=-1.575 total time=   0.2s\n",
      "[CV 1/5] END C=10, epsilon=0.001, kernel=linear;, score=-0.936 total time=   0.3s\n",
      "[CV 2/5] END C=10, epsilon=0.001, kernel=linear;, score=-0.578 total time=   0.3s\n",
      "[CV 3/5] END C=10, epsilon=0.001, kernel=linear;, score=-0.621 total time=   0.4s\n",
      "[CV 4/5] END C=10, epsilon=0.001, kernel=linear;, score=-0.582 total time=   0.7s\n",
      "[CV 5/5] END C=10, epsilon=0.001, kernel=linear;, score=-1.610 total time=   0.5s\n",
      "[CV 1/5] END .....C=1, epsilon=0.1, kernel=rbf;, score=-0.896 total time=   0.0s\n",
      "[CV 2/5] END .....C=1, epsilon=0.1, kernel=rbf;, score=-0.516 total time=   0.0s\n",
      "[CV 3/5] END .....C=1, epsilon=0.1, kernel=rbf;, score=-0.508 total time=   0.0s\n",
      "[CV 4/5] END .....C=1, epsilon=0.1, kernel=rbf;, score=-0.550 total time=   0.0s\n",
      "[CV 5/5] END .....C=1, epsilon=0.1, kernel=rbf;, score=-1.522 total time=   0.0s\n",
      "[CV 1/5] END ...C=1, epsilon=0.001, kernel=rbf;, score=-0.910 total time=   0.0s\n",
      "[CV 2/5] END ...C=1, epsilon=0.001, kernel=rbf;, score=-0.542 total time=   0.0s\n",
      "[CV 3/5] END ...C=1, epsilon=0.001, kernel=rbf;, score=-0.523 total time=   0.0s\n",
      "[CV 4/5] END ...C=1, epsilon=0.001, kernel=rbf;, score=-0.539 total time=   0.0s\n",
      "[CV 5/5] END ...C=1, epsilon=0.001, kernel=rbf;, score=-1.544 total time=   0.0s\n",
      "[CV 1/5] END ....C=10, epsilon=0.1, kernel=rbf;, score=-0.745 total time=   0.0s\n",
      "[CV 2/5] END ....C=10, epsilon=0.1, kernel=rbf;, score=-0.462 total time=   0.0s\n",
      "[CV 3/5] END ....C=10, epsilon=0.1, kernel=rbf;, score=-0.362 total time=   0.0s\n",
      "[CV 4/5] END ....C=10, epsilon=0.1, kernel=rbf;, score=-0.561 total time=   0.0s\n",
      "[CV 5/5] END ....C=10, epsilon=0.1, kernel=rbf;, score=-1.488 total time=   0.0s\n",
      "[CV 1/5] END ..C=10, epsilon=0.001, kernel=rbf;, score=-0.753 total time=   0.0s\n",
      "[CV 2/5] END ..C=10, epsilon=0.001, kernel=rbf;, score=-0.456 total time=   0.0s\n",
      "[CV 3/5] END ..C=10, epsilon=0.001, kernel=rbf;, score=-0.368 total time=   0.0s\n",
      "[CV 4/5] END ..C=10, epsilon=0.001, kernel=rbf;, score=-0.569 total time=   0.0s\n",
      "[CV 5/5] END ..C=10, epsilon=0.001, kernel=rbf;, score=-1.514 total time=   0.0s\n",
      "[CV 1/5] END C=1, degree=2, epsilon=0.1, kernel=poly;, score=-0.937 total time=   0.0s\n",
      "[CV 2/5] END C=1, degree=2, epsilon=0.1, kernel=poly;, score=-0.645 total time=   0.0s\n",
      "[CV 3/5] END C=1, degree=2, epsilon=0.1, kernel=poly;, score=-0.571 total time=   0.0s\n",
      "[CV 4/5] END C=1, degree=2, epsilon=0.1, kernel=poly;, score=-0.620 total time=   0.0s\n",
      "[CV 5/5] END C=1, degree=2, epsilon=0.1, kernel=poly;, score=-1.582 total time=   0.0s\n",
      "[CV 1/5] END C=1, degree=2, epsilon=0.001, kernel=poly;, score=-0.955 total time=   0.0s\n",
      "[CV 2/5] END C=1, degree=2, epsilon=0.001, kernel=poly;, score=-0.655 total time=   0.0s\n",
      "[CV 3/5] END C=1, degree=2, epsilon=0.001, kernel=poly;, score=-0.577 total time=   0.0s\n",
      "[CV 4/5] END C=1, degree=2, epsilon=0.001, kernel=poly;, score=-0.631 total time=   0.0s\n",
      "[CV 5/5] END C=1, degree=2, epsilon=0.001, kernel=poly;, score=-1.592 total time=   0.0s\n",
      "[CV 1/5] END C=1, degree=3, epsilon=0.1, kernel=poly;, score=-0.955 total time=   0.0s\n",
      "[CV 2/5] END C=1, degree=3, epsilon=0.1, kernel=poly;, score=-0.692 total time=   0.0s\n",
      "[CV 3/5] END C=1, degree=3, epsilon=0.1, kernel=poly;, score=-0.553 total time=   0.0s\n",
      "[CV 4/5] END C=1, degree=3, epsilon=0.1, kernel=poly;, score=-0.673 total time=   0.0s\n",
      "[CV 5/5] END C=1, degree=3, epsilon=0.1, kernel=poly;, score=-1.602 total time=   0.0s\n",
      "[CV 1/5] END C=1, degree=3, epsilon=0.001, kernel=poly;, score=-0.971 total time=   0.0s\n",
      "[CV 2/5] END C=1, degree=3, epsilon=0.001, kernel=poly;, score=-0.700 total time=   0.0s\n",
      "[CV 3/5] END C=1, degree=3, epsilon=0.001, kernel=poly;, score=-0.559 total time=   0.0s\n",
      "[CV 4/5] END C=1, degree=3, epsilon=0.001, kernel=poly;, score=-0.690 total time=   0.0s\n",
      "[CV 5/5] END C=1, degree=3, epsilon=0.001, kernel=poly;, score=-1.614 total time=   0.0s\n",
      "[CV 1/5] END C=10, degree=2, epsilon=0.1, kernel=poly;, score=-0.788 total time=   0.0s\n",
      "[CV 2/5] END C=10, degree=2, epsilon=0.1, kernel=poly;, score=-0.567 total time=   0.0s\n",
      "[CV 3/5] END C=10, degree=2, epsilon=0.1, kernel=poly;, score=-0.497 total time=   0.0s\n",
      "[CV 4/5] END C=10, degree=2, epsilon=0.1, kernel=poly;, score=-0.562 total time=   0.0s\n",
      "[CV 5/5] END C=10, degree=2, epsilon=0.1, kernel=poly;, score=-1.561 total time=   0.0s\n",
      "[CV 1/5] END C=10, degree=2, epsilon=0.001, kernel=poly;, score=-0.805 total time=   0.0s\n",
      "[CV 2/5] END C=10, degree=2, epsilon=0.001, kernel=poly;, score=-0.554 total time=   0.0s\n",
      "[CV 3/5] END C=10, degree=2, epsilon=0.001, kernel=poly;, score=-0.512 total time=   0.0s\n",
      "[CV 4/5] END C=10, degree=2, epsilon=0.001, kernel=poly;, score=-0.569 total time=   0.0s\n",
      "[CV 5/5] END C=10, degree=2, epsilon=0.001, kernel=poly;, score=-1.578 total time=   0.0s\n",
      "[CV 1/5] END C=10, degree=3, epsilon=0.1, kernel=poly;, score=-0.820 total time=   0.0s\n",
      "[CV 2/5] END C=10, degree=3, epsilon=0.1, kernel=poly;, score=-0.604 total time=   0.0s\n",
      "[CV 3/5] END C=10, degree=3, epsilon=0.1, kernel=poly;, score=-0.535 total time=   0.0s\n",
      "[CV 4/5] END C=10, degree=3, epsilon=0.1, kernel=poly;, score=-0.560 total time=   0.0s\n",
      "[CV 5/5] END C=10, degree=3, epsilon=0.1, kernel=poly;, score=-1.539 total time=   0.0s\n",
      "[CV 1/5] END C=10, degree=3, epsilon=0.001, kernel=poly;, score=-0.835 total time=   0.0s\n",
      "[CV 2/5] END C=10, degree=3, epsilon=0.001, kernel=poly;, score=-0.590 total time=   0.0s\n",
      "[CV 3/5] END C=10, degree=3, epsilon=0.001, kernel=poly;, score=-0.557 total time=   0.0s\n",
      "[CV 4/5] END C=10, degree=3, epsilon=0.001, kernel=poly;, score=-0.553 total time=   0.0s\n",
      "[CV 5/5] END C=10, degree=3, epsilon=0.001, kernel=poly;, score=-1.554 total time=   0.0s\n",
      "Parameters successfully saved to data/models/parameter_spatial_census_temporal_2.csv\n",
      "Best parameters: \n",
      "{'C': 10, 'epsilon': 0.1, 'kernel': 'rbf'}\n",
      "Metrics saved to data/models/metrics_spatial_census_temporal_2.csv\n",
      "Evaluation metrics: \n",
      "{'mse': 36399.00204635757, 'rmse': 190.7852249162853, 'r2': 0.4064528549753261}\n",
      "\n",
      "Dataset prepared with \n",
      "spatial resolution: census_tract \n",
      "temporal resolution: 6_h\n",
      "\n",
      "Starting grid search...\n",
      "Fitting 5 folds for each of 16 candidates, totalling 80 fits\n",
      "[CV 1/5] END ..C=1, epsilon=0.1, kernel=linear;, score=-1.310 total time=   0.0s\n",
      "[CV 2/5] END ..C=1, epsilon=0.1, kernel=linear;, score=-0.435 total time=   0.0s\n",
      "[CV 3/5] END ..C=1, epsilon=0.1, kernel=linear;, score=-1.535 total time=   0.0s\n",
      "[CV 4/5] END ..C=1, epsilon=0.1, kernel=linear;, score=-0.817 total time=   0.0s\n",
      "[CV 5/5] END ..C=1, epsilon=0.1, kernel=linear;, score=-0.415 total time=   0.0s\n",
      "[CV 1/5] END C=1, epsilon=0.001, kernel=linear;, score=-1.335 total time=   0.0s\n",
      "[CV 2/5] END C=1, epsilon=0.001, kernel=linear;, score=-0.436 total time=   0.0s\n",
      "[CV 3/5] END C=1, epsilon=0.001, kernel=linear;, score=-1.543 total time=   0.0s\n",
      "[CV 4/5] END C=1, epsilon=0.001, kernel=linear;, score=-0.837 total time=   0.0s\n",
      "[CV 5/5] END C=1, epsilon=0.001, kernel=linear;, score=-0.438 total time=   0.0s\n",
      "[CV 1/5] END .C=10, epsilon=0.1, kernel=linear;, score=-1.310 total time=   0.0s\n",
      "[CV 2/5] END .C=10, epsilon=0.1, kernel=linear;, score=-0.435 total time=   0.0s\n",
      "[CV 3/5] END .C=10, epsilon=0.1, kernel=linear;, score=-1.539 total time=   0.1s\n",
      "[CV 4/5] END .C=10, epsilon=0.1, kernel=linear;, score=-0.816 total time=   0.0s\n",
      "[CV 5/5] END .C=10, epsilon=0.1, kernel=linear;, score=-0.415 total time=   0.0s\n",
      "[CV 1/5] END C=10, epsilon=0.001, kernel=linear;, score=-1.335 total time=   0.1s\n",
      "[CV 2/5] END C=10, epsilon=0.001, kernel=linear;, score=-0.436 total time=   0.1s\n",
      "[CV 3/5] END C=10, epsilon=0.001, kernel=linear;, score=-1.543 total time=   0.1s\n",
      "[CV 4/5] END C=10, epsilon=0.001, kernel=linear;, score=-0.837 total time=   0.1s\n",
      "[CV 5/5] END C=10, epsilon=0.001, kernel=linear;, score=-0.437 total time=   0.1s\n",
      "[CV 1/5] END .....C=1, epsilon=0.1, kernel=rbf;, score=-1.337 total time=   0.0s\n",
      "[CV 2/5] END .....C=1, epsilon=0.1, kernel=rbf;, score=-0.360 total time=   0.0s\n",
      "[CV 3/5] END .....C=1, epsilon=0.1, kernel=rbf;, score=-1.497 total time=   0.0s\n",
      "[CV 4/5] END .....C=1, epsilon=0.1, kernel=rbf;, score=-0.816 total time=   0.0s\n",
      "[CV 5/5] END .....C=1, epsilon=0.1, kernel=rbf;, score=-0.376 total time=   0.0s\n",
      "[CV 1/5] END ...C=1, epsilon=0.001, kernel=rbf;, score=-1.361 total time=   0.0s\n",
      "[CV 2/5] END ...C=1, epsilon=0.001, kernel=rbf;, score=-0.355 total time=   0.0s\n",
      "[CV 3/5] END ...C=1, epsilon=0.001, kernel=rbf;, score=-1.510 total time=   0.0s\n",
      "[CV 4/5] END ...C=1, epsilon=0.001, kernel=rbf;, score=-0.846 total time=   0.0s\n",
      "[CV 5/5] END ...C=1, epsilon=0.001, kernel=rbf;, score=-0.353 total time=   0.0s\n",
      "[CV 1/5] END ....C=10, epsilon=0.1, kernel=rbf;, score=-1.316 total time=   0.0s\n",
      "[CV 2/5] END ....C=10, epsilon=0.1, kernel=rbf;, score=-0.405 total time=   0.0s\n",
      "[CV 3/5] END ....C=10, epsilon=0.1, kernel=rbf;, score=-1.527 total time=   0.0s\n",
      "[CV 4/5] END ....C=10, epsilon=0.1, kernel=rbf;, score=-0.820 total time=   0.0s\n",
      "[CV 5/5] END ....C=10, epsilon=0.1, kernel=rbf;, score=-0.406 total time=   0.0s\n",
      "[CV 1/5] END ..C=10, epsilon=0.001, kernel=rbf;, score=-1.326 total time=   0.0s\n",
      "[CV 2/5] END ..C=10, epsilon=0.001, kernel=rbf;, score=-0.365 total time=   0.0s\n",
      "[CV 3/5] END ..C=10, epsilon=0.001, kernel=rbf;, score=-1.547 total time=   0.0s\n",
      "[CV 4/5] END ..C=10, epsilon=0.001, kernel=rbf;, score=-0.818 total time=   0.0s\n",
      "[CV 5/5] END ..C=10, epsilon=0.001, kernel=rbf;, score=-0.360 total time=   0.0s\n",
      "[CV 1/5] END C=1, degree=2, epsilon=0.1, kernel=poly;, score=-1.342 total time=   0.0s\n",
      "[CV 2/5] END C=1, degree=2, epsilon=0.1, kernel=poly;, score=-0.370 total time=   0.0s\n",
      "[CV 3/5] END C=1, degree=2, epsilon=0.1, kernel=poly;, score=-1.494 total time=   0.0s\n",
      "[CV 4/5] END C=1, degree=2, epsilon=0.1, kernel=poly;, score=-0.841 total time=   0.0s\n",
      "[CV 5/5] END C=1, degree=2, epsilon=0.1, kernel=poly;, score=-0.329 total time=   0.0s\n",
      "[CV 1/5] END C=1, degree=2, epsilon=0.001, kernel=poly;, score=-1.363 total time=   0.0s\n",
      "[CV 2/5] END C=1, degree=2, epsilon=0.001, kernel=poly;, score=-0.363 total time=   0.0s\n",
      "[CV 3/5] END C=1, degree=2, epsilon=0.001, kernel=poly;, score=-1.509 total time=   0.0s\n",
      "[CV 4/5] END C=1, degree=2, epsilon=0.001, kernel=poly;, score=-0.853 total time=   0.0s\n",
      "[CV 5/5] END C=1, degree=2, epsilon=0.001, kernel=poly;, score=-0.300 total time=   0.0s\n",
      "[CV 1/5] END C=1, degree=3, epsilon=0.1, kernel=poly;, score=-1.352 total time=   0.0s\n",
      "[CV 2/5] END C=1, degree=3, epsilon=0.1, kernel=poly;, score=-0.384 total time=   0.0s\n",
      "[CV 3/5] END C=1, degree=3, epsilon=0.1, kernel=poly;, score=-1.504 total time=   0.0s\n",
      "[CV 4/5] END C=1, degree=3, epsilon=0.1, kernel=poly;, score=-0.856 total time=   0.0s\n",
      "[CV 5/5] END C=1, degree=3, epsilon=0.1, kernel=poly;, score=-0.302 total time=   0.0s\n",
      "[CV 1/5] END C=1, degree=3, epsilon=0.001, kernel=poly;, score=-1.370 total time=   0.0s\n",
      "[CV 2/5] END C=1, degree=3, epsilon=0.001, kernel=poly;, score=-0.378 total time=   0.0s\n",
      "[CV 3/5] END C=1, degree=3, epsilon=0.001, kernel=poly;, score=-1.515 total time=   0.0s\n",
      "[CV 4/5] END C=1, degree=3, epsilon=0.001, kernel=poly;, score=-0.861 total time=   0.0s\n",
      "[CV 5/5] END C=1, degree=3, epsilon=0.001, kernel=poly;, score=-0.284 total time=   0.0s\n",
      "[CV 1/5] END C=10, degree=2, epsilon=0.1, kernel=poly;, score=-1.321 total time=   0.0s\n",
      "[CV 2/5] END C=10, degree=2, epsilon=0.1, kernel=poly;, score=-0.388 total time=   0.0s\n",
      "[CV 3/5] END C=10, degree=2, epsilon=0.1, kernel=poly;, score=-1.511 total time=   0.0s\n",
      "[CV 4/5] END C=10, degree=2, epsilon=0.1, kernel=poly;, score=-0.829 total time=   0.0s\n",
      "[CV 5/5] END C=10, degree=2, epsilon=0.1, kernel=poly;, score=-0.422 total time=   0.0s\n",
      "[CV 1/5] END C=10, degree=2, epsilon=0.001, kernel=poly;, score=-1.340 total time=   0.0s\n",
      "[CV 2/5] END C=10, degree=2, epsilon=0.001, kernel=poly;, score=-0.388 total time=   0.0s\n",
      "[CV 3/5] END C=10, degree=2, epsilon=0.001, kernel=poly;, score=-1.525 total time=   0.0s\n",
      "[CV 4/5] END C=10, degree=2, epsilon=0.001, kernel=poly;, score=-0.833 total time=   0.0s\n",
      "[CV 5/5] END C=10, degree=2, epsilon=0.001, kernel=poly;, score=-0.386 total time=   0.0s\n",
      "[CV 1/5] END C=10, degree=3, epsilon=0.1, kernel=poly;, score=-1.324 total time=   0.0s\n",
      "[CV 2/5] END C=10, degree=3, epsilon=0.1, kernel=poly;, score=-0.362 total time=   0.0s\n",
      "[CV 3/5] END C=10, degree=3, epsilon=0.1, kernel=poly;, score=-1.501 total time=   0.0s\n",
      "[CV 4/5] END C=10, degree=3, epsilon=0.1, kernel=poly;, score=-0.825 total time=   0.0s\n",
      "[CV 5/5] END C=10, degree=3, epsilon=0.1, kernel=poly;, score=-0.422 total time=   0.0s\n",
      "[CV 1/5] END C=10, degree=3, epsilon=0.001, kernel=poly;, score=-1.340 total time=   0.0s\n",
      "[CV 2/5] END C=10, degree=3, epsilon=0.001, kernel=poly;, score=-0.336 total time=   0.0s\n",
      "[CV 3/5] END C=10, degree=3, epsilon=0.001, kernel=poly;, score=-1.514 total time=   0.0s\n",
      "[CV 4/5] END C=10, degree=3, epsilon=0.001, kernel=poly;, score=-0.828 total time=   0.0s\n",
      "[CV 5/5] END C=10, degree=3, epsilon=0.001, kernel=poly;, score=-0.414 total time=   0.0s\n",
      "Parameters successfully saved to data/models/parameter_spatial_census_temporal_6.csv\n",
      "Best parameters: \n",
      "{'C': 1, 'degree': 2, 'epsilon': 0.1, 'kernel': 'poly'}\n",
      "Metrics saved to data/models/metrics_spatial_census_temporal_6.csv\n",
      "Evaluation metrics: \n",
      "{'mse': 253723.17240963594, 'rmse': 503.7094126672996, 'r2': 0.27969837536557385}\n",
      "\n",
      "Dataset prepared with \n",
      "spatial resolution: census_tract \n",
      "temporal resolution: 24_h\n",
      "\n",
      "Starting grid search...\n",
      "Fitting 5 folds for each of 16 candidates, totalling 80 fits\n",
      "[CV 1/5] END ..C=1, epsilon=0.1, kernel=linear;, score=-0.786 total time=   0.0s\n",
      "[CV 2/5] END ..C=1, epsilon=0.1, kernel=linear;, score=-0.456 total time=   0.0s\n",
      "[CV 3/5] END ..C=1, epsilon=0.1, kernel=linear;, score=-0.815 total time=   0.0s\n",
      "[CV 4/5] END ..C=1, epsilon=0.1, kernel=linear;, score=-0.583 total time=   0.0s\n",
      "[CV 5/5] END ..C=1, epsilon=0.1, kernel=linear;, score=-0.300 total time=   0.0s\n",
      "[CV 1/5] END C=1, epsilon=0.001, kernel=linear;, score=-0.775 total time=   0.1s\n",
      "[CV 2/5] END C=1, epsilon=0.001, kernel=linear;, score=-0.465 total time=   0.0s\n",
      "[CV 3/5] END C=1, epsilon=0.001, kernel=linear;, score=-0.826 total time=   0.0s\n",
      "[CV 4/5] END C=1, epsilon=0.001, kernel=linear;, score=-0.568 total time=   0.1s\n",
      "[CV 5/5] END C=1, epsilon=0.001, kernel=linear;, score=-0.316 total time=   0.0s\n",
      "[CV 1/5] END .C=10, epsilon=0.1, kernel=linear;, score=-0.786 total time=   0.1s\n",
      "[CV 2/5] END .C=10, epsilon=0.1, kernel=linear;, score=-0.456 total time=   0.1s\n",
      "[CV 3/5] END .C=10, epsilon=0.1, kernel=linear;, score=-0.815 total time=   0.1s\n",
      "[CV 4/5] END .C=10, epsilon=0.1, kernel=linear;, score=-0.583 total time=   0.1s\n",
      "[CV 5/5] END .C=10, epsilon=0.1, kernel=linear;, score=-0.300 total time=   0.0s\n",
      "[CV 1/5] END C=10, epsilon=0.001, kernel=linear;, score=-0.775 total time=   0.7s\n",
      "[CV 2/5] END C=10, epsilon=0.001, kernel=linear;, score=-0.463 total time=   0.6s\n",
      "[CV 3/5] END C=10, epsilon=0.001, kernel=linear;, score=-0.826 total time=   0.3s\n",
      "[CV 4/5] END C=10, epsilon=0.001, kernel=linear;, score=-0.568 total time=   0.7s\n",
      "[CV 5/5] END C=10, epsilon=0.001, kernel=linear;, score=-0.316 total time=   0.4s\n",
      "[CV 1/5] END .....C=1, epsilon=0.1, kernel=rbf;, score=-0.844 total time=   0.0s\n",
      "[CV 2/5] END .....C=1, epsilon=0.1, kernel=rbf;, score=-0.469 total time=   0.0s\n",
      "[CV 3/5] END .....C=1, epsilon=0.1, kernel=rbf;, score=-0.664 total time=   0.0s\n",
      "[CV 4/5] END .....C=1, epsilon=0.1, kernel=rbf;, score=-0.681 total time=   0.0s\n",
      "[CV 5/5] END .....C=1, epsilon=0.1, kernel=rbf;, score=-0.596 total time=   0.0s\n",
      "[CV 1/5] END ...C=1, epsilon=0.001, kernel=rbf;, score=-0.829 total time=   0.0s\n",
      "[CV 2/5] END ...C=1, epsilon=0.001, kernel=rbf;, score=-0.447 total time=   0.0s\n",
      "[CV 3/5] END ...C=1, epsilon=0.001, kernel=rbf;, score=-0.673 total time=   0.0s\n",
      "[CV 4/5] END ...C=1, epsilon=0.001, kernel=rbf;, score=-0.675 total time=   0.0s\n",
      "[CV 5/5] END ...C=1, epsilon=0.001, kernel=rbf;, score=-0.608 total time=   0.0s\n",
      "[CV 1/5] END ....C=10, epsilon=0.1, kernel=rbf;, score=-0.767 total time=   0.0s\n",
      "[CV 2/5] END ....C=10, epsilon=0.1, kernel=rbf;, score=-0.486 total time=   0.0s\n",
      "[CV 3/5] END ....C=10, epsilon=0.1, kernel=rbf;, score=-0.696 total time=   0.0s\n",
      "[CV 4/5] END ....C=10, epsilon=0.1, kernel=rbf;, score=-0.476 total time=   0.0s\n",
      "[CV 5/5] END ....C=10, epsilon=0.1, kernel=rbf;, score=-0.316 total time=   0.0s\n",
      "[CV 1/5] END ..C=10, epsilon=0.001, kernel=rbf;, score=-0.752 total time=   0.0s\n",
      "[CV 2/5] END ..C=10, epsilon=0.001, kernel=rbf;, score=-0.457 total time=   0.0s\n",
      "[CV 3/5] END ..C=10, epsilon=0.001, kernel=rbf;, score=-0.694 total time=   0.0s\n",
      "[CV 4/5] END ..C=10, epsilon=0.001, kernel=rbf;, score=-0.452 total time=   0.0s\n",
      "[CV 5/5] END ..C=10, epsilon=0.001, kernel=rbf;, score=-0.299 total time=   0.0s\n",
      "[CV 1/5] END C=1, degree=2, epsilon=0.1, kernel=poly;, score=-0.948 total time=   0.0s\n",
      "[CV 2/5] END C=1, degree=2, epsilon=0.1, kernel=poly;, score=-0.562 total time=   0.0s\n",
      "[CV 3/5] END C=1, degree=2, epsilon=0.1, kernel=poly;, score=-0.883 total time=   0.0s\n",
      "[CV 4/5] END C=1, degree=2, epsilon=0.1, kernel=poly;, score=-0.826 total time=   0.0s\n",
      "[CV 5/5] END C=1, degree=2, epsilon=0.1, kernel=poly;, score=-0.759 total time=   0.0s\n",
      "[CV 1/5] END C=1, degree=2, epsilon=0.001, kernel=poly;, score=-0.948 total time=   0.0s\n",
      "[CV 2/5] END C=1, degree=2, epsilon=0.001, kernel=poly;, score=-0.558 total time=   0.0s\n",
      "[CV 3/5] END C=1, degree=2, epsilon=0.001, kernel=poly;, score=-0.897 total time=   0.0s\n",
      "[CV 4/5] END C=1, degree=2, epsilon=0.001, kernel=poly;, score=-0.821 total time=   0.0s\n",
      "[CV 5/5] END C=1, degree=2, epsilon=0.001, kernel=poly;, score=-0.767 total time=   0.0s\n",
      "[CV 1/5] END C=1, degree=3, epsilon=0.1, kernel=poly;, score=-1.034 total time=   0.0s\n",
      "[CV 2/5] END C=1, degree=3, epsilon=0.1, kernel=poly;, score=-0.620 total time=   0.0s\n",
      "[CV 3/5] END C=1, degree=3, epsilon=0.1, kernel=poly;, score=-0.981 total time=   0.0s\n",
      "[CV 4/5] END C=1, degree=3, epsilon=0.1, kernel=poly;, score=-0.878 total time=   0.0s\n",
      "[CV 5/5] END C=1, degree=3, epsilon=0.1, kernel=poly;, score=-0.858 total time=   0.0s\n",
      "[CV 1/5] END C=1, degree=3, epsilon=0.001, kernel=poly;, score=-1.033 total time=   0.0s\n",
      "[CV 2/5] END C=1, degree=3, epsilon=0.001, kernel=poly;, score=-0.617 total time=   0.0s\n",
      "[CV 3/5] END C=1, degree=3, epsilon=0.001, kernel=poly;, score=-0.985 total time=   0.0s\n",
      "[CV 4/5] END C=1, degree=3, epsilon=0.001, kernel=poly;, score=-0.874 total time=   0.0s\n",
      "[CV 5/5] END C=1, degree=3, epsilon=0.001, kernel=poly;, score=-0.859 total time=   0.0s\n",
      "[CV 1/5] END C=10, degree=2, epsilon=0.1, kernel=poly;, score=-0.786 total time=   0.0s\n",
      "[CV 2/5] END C=10, degree=2, epsilon=0.1, kernel=poly;, score=-0.524 total time=   0.0s\n",
      "[CV 3/5] END C=10, degree=2, epsilon=0.1, kernel=poly;, score=-0.767 total time=   0.0s\n",
      "[CV 4/5] END C=10, degree=2, epsilon=0.1, kernel=poly;, score=-0.662 total time=   0.0s\n",
      "[CV 5/5] END C=10, degree=2, epsilon=0.1, kernel=poly;, score=-0.418 total time=   0.0s\n",
      "[CV 1/5] END C=10, degree=2, epsilon=0.001, kernel=poly;, score=-0.769 total time=   0.0s\n",
      "[CV 2/5] END C=10, degree=2, epsilon=0.001, kernel=poly;, score=-0.516 total time=   0.0s\n",
      "[CV 3/5] END C=10, degree=2, epsilon=0.001, kernel=poly;, score=-0.775 total time=   0.0s\n",
      "[CV 4/5] END C=10, degree=2, epsilon=0.001, kernel=poly;, score=-0.653 total time=   0.0s\n",
      "[CV 5/5] END C=10, degree=2, epsilon=0.001, kernel=poly;, score=-0.417 total time=   0.0s\n",
      "[CV 1/5] END C=10, degree=3, epsilon=0.1, kernel=poly;, score=-0.788 total time=   0.0s\n",
      "[CV 2/5] END C=10, degree=3, epsilon=0.1, kernel=poly;, score=-0.572 total time=   0.0s\n",
      "[CV 3/5] END C=10, degree=3, epsilon=0.1, kernel=poly;, score=-0.719 total time=   0.0s\n",
      "[CV 4/5] END C=10, degree=3, epsilon=0.1, kernel=poly;, score=-0.751 total time=   0.0s\n",
      "[CV 5/5] END C=10, degree=3, epsilon=0.1, kernel=poly;, score=-0.504 total time=   0.0s\n",
      "[CV 1/5] END C=10, degree=3, epsilon=0.001, kernel=poly;, score=-0.779 total time=   0.0s\n",
      "[CV 2/5] END C=10, degree=3, epsilon=0.001, kernel=poly;, score=-0.567 total time=   0.0s\n",
      "[CV 3/5] END C=10, degree=3, epsilon=0.001, kernel=poly;, score=-0.715 total time=   0.0s\n",
      "[CV 4/5] END C=10, degree=3, epsilon=0.001, kernel=poly;, score=-0.741 total time=   0.0s\n",
      "[CV 5/5] END C=10, degree=3, epsilon=0.001, kernel=poly;, score=-0.496 total time=   0.0s\n",
      "Parameters successfully saved to data/models/parameter_spatial_census_temporal_24.csv\n",
      "Best parameters: \n",
      "{'C': 10, 'epsilon': 0.001, 'kernel': 'rbf'}\n",
      "Metrics saved to data/models/metrics_spatial_census_temporal_24.csv\n",
      "Evaluation metrics: \n",
      "{'mse': 7241.051937733754, 'rmse': 85.09437077582602, 'r2': 0.7406227300769166}\n"
     ]
    }
   ],
   "source": [
    "spatial_res = 'census'\n",
    "temporal_res = [1,2,6,24]\n",
    "\n",
    "hyperparameters = [\n",
    "    {\n",
    "        'kernel': ['linear'],\n",
    "        'epsilon': [0.1, 0.001],\n",
    "        'C': [1,10]  # Fixed 'C' value for 'linear' kernel\n",
    "    },\n",
    "    {\n",
    "        'kernel': ['rbf'],\n",
    "        'epsilon': [0.1, 0.001],\n",
    "        'C': [1,10]  # Fixed 'C' value for 'rbf' kernel\n",
    "    },\n",
    "    {\n",
    "        'kernel': ['poly'],\n",
    "        'epsilon': [0.1, 0.001],\n",
    "        'C': [1, 10],  # Varying 'C' values for 'poly' kernel\n",
    "        'degree': [2, 3]  # 'degree' only applies to 'poly' kernel\n",
    "    }\n",
    "]\n",
    "\n",
    "for spatial_res, temporal_res in itertools.product([spatial_res], temporal_res):\n",
    "    df_pred = create_prediction_dataset(df, temporal_res, spatial_res)\n",
    "    df_pred = df_pred.sample(frac=0.1)\n",
    "    X_train_scaled,y_train_scaled,X_test_scaled,y_test_scaled,scaler = split_scale_data(df_pred)\n",
    "    model = gridsearch(X_train_scaled,y_train_scaled, temporal_res, spatial_res, hyperparameters)\n",
    "    model_evaluation(model, scaler, X_test_scaled, y_test_scaled, temporal_res, spatial_res)"
   ],
   "metadata": {
    "collapsed": false,
    "ExecuteTime": {
     "start_time": "2024-08-12T15:12:36.562262Z",
     "end_time": "2024-08-12T15:12:56.914142Z"
    }
   }
  },
  {
   "cell_type": "code",
   "execution_count": 150,
   "outputs": [
    {
     "name": "stdout",
     "output_type": "stream",
     "text": [
      "All Model Evaluation Metrics and Parameters:\n",
      "        model   C  epsilon kernel            mse        rmse        r2\n",
      "0   census_2h  10    0.100    rbf   36399.002046  190.785225  0.406453\n",
      "1  census_24h  10    0.001    rbf    7241.051938   85.094371  0.740623\n",
      "2   census_1h  10    0.100    rbf    2376.774184   48.752171  0.678730\n",
      "3   census_6h   1    0.100   poly  253723.172410  503.709413  0.279698\n"
     ]
    }
   ],
   "source": [
    "models_path = 'data/models/'\n",
    "\n",
    "all_metrics_with_params = load_metrics_with_parameters(models_path, load_census_only=True)\n",
    "\n",
    "print('All Model Evaluation Metrics and Parameters:')\n",
    "print(all_metrics_with_params.to_string())"
   ],
   "metadata": {
    "collapsed": false,
    "ExecuteTime": {
     "start_time": "2024-08-12T15:38:58.652596Z",
     "end_time": "2024-08-12T15:38:58.698244Z"
    }
   }
  },
  {
   "cell_type": "code",
   "execution_count": 152,
   "outputs": [
    {
     "name": "stdout",
     "output_type": "stream",
     "text": [
      "\n",
      "Best Model Based on r2:\n",
      "model       census_24h\n",
      "C                   10\n",
      "epsilon          0.001\n",
      "kernel             rbf\n",
      "mse        7241.051938\n",
      "rmse         85.094371\n",
      "r2            0.740623\n"
     ]
    }
   ],
   "source": [
    "criterion = 'rmse'\n",
    "best_model = find_best_model(all_metrics_with_params, criterion)\n",
    "display_best_model(best_model, criterion)"
   ],
   "metadata": {
    "collapsed": false,
    "ExecuteTime": {
     "start_time": "2024-08-12T15:40:22.277689Z",
     "end_time": "2024-08-12T15:40:22.286660Z"
    }
   }
  },
  {
   "cell_type": "code",
   "execution_count": 153,
   "outputs": [
    {
     "name": "stdout",
     "output_type": "stream",
     "text": [
      "\n",
      "Best Model Based on r2:\n",
      "model       census_24h\n",
      "C                   10\n",
      "epsilon          0.001\n",
      "kernel             rbf\n",
      "mse        7241.051938\n",
      "rmse         85.094371\n",
      "r2            0.740623\n"
     ]
    }
   ],
   "source": [
    "criterion = 'r2'\n",
    "best_model = find_best_model(all_metrics_with_params, criterion)\n",
    "display_best_model(best_model, criterion)"
   ],
   "metadata": {
    "collapsed": false,
    "ExecuteTime": {
     "start_time": "2024-08-12T16:21:09.094472Z",
     "end_time": "2024-08-12T16:21:09.101935Z"
    }
   }
  },
  {
   "cell_type": "code",
   "execution_count": 209,
   "outputs": [],
   "source": [
    "def plot_prediction_vs_reality(y_pred, y_test):\n",
    "    y_pred = y_pred.flatten()\n",
    "\n",
    "    y_pred_series = pd.Series(y_pred, index=y_test.index)\n",
    "    y_pred_series_sorted = y_pred_series.sort_index()\n",
    "    y_test_sorted = y_test.sort_index()\n",
    "\n",
    "    fig, ax = plt.subplots(figsize=(20, 10), dpi=80)\n",
    "    ax.plot(y_test_sorted, label='True Values', linewidth=2, color='darkblue')\n",
    "    ax.plot(y_pred_series_sorted, label='Predictions', linewidth=1, alpha=0.6, color='lightgreen')\n",
    "    ax.set_ylabel('Total Demand')\n",
    "    ax.set_xlabel('Index')\n",
    "    ax.legend()\n",
    "    plt.show()\n",
    "\n",
    "    mse = mean_squared_error(y_test, y_pred)\n",
    "    rmse = float(np.sqrt(mse))\n",
    "    print(f'Mean Squared Error: {mse}')\n",
    "    print(f'Root Mean Squared Error: {rmse}')"
   ],
   "metadata": {
    "collapsed": false,
    "ExecuteTime": {
     "start_time": "2024-08-12T18:14:11.681702Z",
     "end_time": "2024-08-12T18:14:11.690140Z"
    }
   }
  },
  {
   "cell_type": "code",
   "execution_count": 210,
   "outputs": [
    {
     "name": "stdout",
     "output_type": "stream",
     "text": [
      "\n",
      "Dataset prepared with \n",
      "spatial resolution: h3_res_8 \n",
      "temporal resolution: 1_h\n",
      "\n"
     ]
    },
    {
     "data": {
      "text/plain": "<Figure size 1600x800 with 1 Axes>",
      "image/png": "[encoded data removed]"
     },
     "metadata": {},
     "output_type": "display_data"
    },
    {
     "name": "stdout",
     "output_type": "stream",
     "text": [
      "Mean Squared Error: 0.15182948047796926\n",
      "Root Mean Squared Error: 0.38965302575235994\n"
     ]
    }
   ],
   "source": [
    "model_path = 'data/models/model_spatial_8_temporal_1.joblib'\n",
    "model = load(model_path)\n",
    "\n",
    "spatial_res = 8\n",
    "temporal_res = 1\n",
    "\n",
    "df_plot = create_prediction_dataset(df, temporal_res, spatial_res)\n",
    "_, _, X_test_scaled, y_test_scaled, _ = split_scale_data(df_plot)\n",
    "\n",
    "y_pred = model.predict(X_test_scaled)\n",
    "dates = date_range(start='2022-01-01', periods=len(y_test_scaled), freq='D')\n",
    "y_test_series = Series(y_test_scaled.flatten(), index=dates)\n",
    "\n",
    "plot_prediction_vs_reality(y_pred, y_test_series)"
   ],
   "metadata": {
    "collapsed": false,
    "ExecuteTime": {
     "start_time": "2024-08-12T18:14:14.625630Z",
     "end_time": "2024-08-12T18:17:22.365783Z"
    }
   }
  },
  {
   "cell_type": "markdown",
   "source": [
    "### Preliminary conclusion SVM\n",
    "\n",
    "After a rigorous evaluation phase using only 10% of our dataset, we have identified the most promising models based on their performance metrics and parameter optimization. The selected models for full training are: `res_8_1h`, `res_8_24h`, and `census_24h`. These models showed the best potential in terms of accuracy and robustness during our preliminary assessments.\n",
    "\n",
    "The results from the scaled-down dataset are as follows:\n",
    "\n",
    "- **res_8_1h**: Achieved an RMSE of 50.88 and an R² of 0.84.\n",
    "- **res_8_24h**: Showcased an RMSE of 86.38 with an R² of 0.92.\n",
    "- **census_1h**:  Achieved an RMSE of 48.75 with an R² of 0.68.\n",
    "- **census_24h**: Recorded an RMSE of 85.09 and an R² of 0.74.\n",
    "\n",
    "Although `census_24h` lags slightly behind `res_8_24h`, its lower R² reflects the challenges in modelling accuracy and explainability. This is partly due to the fact that census data is only available for half of the dataset. The project's descriptive analysis shows significant gaps in the availability of census data, particularly in the western regions of the city, which limits the effectiveness of the model in these areas. This uneven distribution of data could lead to under-representation in the model's predictions, affecting its overall accuracy and reliability in reflecting actual demand variations across all regions."
   ],
   "metadata": {
    "collapsed": false
   }
  },
  {
   "cell_type": "markdown",
   "source": [
    "## Neural Network\n",
    "### Training Approach\n",
    "\n",
    "As we continue to enhance the predictive capabilities of our models, we employ neural networks due to their exceptional ability to decipher complex spatial and temporal dynamics inherent in our data.\n",
    "\n",
    "Using the Keras Tuner, we systematically explore a range of hyperparameters to tailor the most effective network architecture for our needs. This exploration includes adjusting the number of hidden layers, the number of units per layer, dropout rates, and regularization techniques to optimize performance and prevent overfitting.\n",
    "\n",
    "We do this with 15% of the data set. This allows us to quickly evaluate the effectiveness of different configurations without incurring the high computational costs associated with larger datasets. This phase serves as a preliminary filter to identify the most promising model configurations based on their performance metrics.\n",
    "\n",
    "Once we have determined the optimal configuration through our preliminary tests, we apply this configuration to train models on the entire dataset. This approach ensures that we can exploit the full potential of our data and maximise the accuracy and generalisability of our models."
   ],
   "metadata": {
    "collapsed": false
   }
  },
  {
   "cell_type": "code",
   "execution_count": 398,
   "outputs": [],
   "source": [
    "def build_model(hp):\n",
    "    model = keras.Sequential()\n",
    "    # Input\n",
    "    model.add(layers.Dense(\n",
    "        units=hp.Int('units_first_layer', min_value=32, max_value=128, step=32),\n",
    "        activation='relu',\n",
    "        input_dim=X_train_scaled.shape[1],\n",
    "        kernel_regularizer=keras.regularizers.l2(\n",
    "            hp.Float('l2_first_layer', min_value=0.001, max_value=0.01, sampling='LOG'\n",
    "                     ))\n",
    "    ))\n",
    "    model.add(layers.Dropout(hp.Float('dropout_first_layer', min_value=0.1, max_value=0.5, step=0.1)))\n",
    "\n",
    "    # Hidden Layer\n",
    "    for i in range(hp.Int('num_hidden_layers', 1, 6)):\n",
    "        model.add(layers.Dense(units=hp.Int(f'units_layer_{i+1}', min_value=8, max_value=128, step=8),\n",
    "                               activation='relu', kernel_regularizer=keras.regularizers.l2(hp.Float(f'l2_reg_layer_{i+1}', min_value=0.001, max_value=0.01, sampling='LOG'))))\n",
    "        model.add(layers.Dropout(hp.Float(f'dropout_layer_{i+1}', min_value=0.1, max_value=0.5, step=0.1)))\n",
    "\n",
    "    # Output\n",
    "    model.add(layers.Dense(1, activation='linear'))\n",
    "\n",
    "    # Optimizer\n",
    "    if hp.Choice('optimizer', ['adam', 'sgd']) == 'adam':\n",
    "        optimizer = keras.optimizers.Adam(\n",
    "            learning_rate=hp.Float('learning_rate', min_value=1e-4, max_value=1e-2, sampling='LOG')\n",
    "        )\n",
    "    else:\n",
    "        optimizer = keras.optimizers.SGD(\n",
    "            learning_rate=hp.Float('learning_rate', min_value=1e-4, max_value=1e-2, sampling='LOG'),\n",
    "            momentum=hp.Float('momentum', min_value=0.0, max_value=0.9)\n",
    "        )\n",
    "\n",
    "    model.compile(optimizer=optimizer, loss='mean_squared_error', metrics=['mean_squared_error'])\n",
    "    return model"
   ],
   "metadata": {
    "collapsed": false,
    "ExecuteTime": {
     "start_time": "2024-08-13T08:27:53.096458Z",
     "end_time": "2024-08-13T08:27:53.138844Z"
    }
   }
  },
  {
   "cell_type": "code",
   "execution_count": 399,
   "outputs": [
    {
     "name": "stdout",
     "output_type": "stream",
     "text": [
      "\n",
      "Dataset prepared with \n",
      "spatial resolution: h3_res_8 \n",
      "temporal resolution: 1_h\n",
      "\n"
     ]
    }
   ],
   "source": [
    "spatial_res = 8\n",
    "temporal_res = 1\n",
    "\n",
    "df_nn = create_prediction_dataset(df, temporal_res, spatial_res)\n",
    "df_nn_sample = df_nn.sample(frac=0.15)\n",
    "X_train_scaled, y_train_scaled, X_test_scaled, y_test_scaled, scaler = split_scale_data(df_nn_sample)"
   ],
   "metadata": {
    "collapsed": false,
    "ExecuteTime": {
     "start_time": "2024-08-13T08:27:56.965132Z",
     "end_time": "2024-08-13T08:27:58.714007Z"
    }
   }
  },
  {
   "cell_type": "code",
   "execution_count": 400,
   "outputs": [
    {
     "name": "stdout",
     "output_type": "stream",
     "text": [
      "Trial 50 Complete [00h 01m 10s]\n",
      "val_mean_squared_error: 0.13290666043758392\n",
      "\n",
      "Best val_mean_squared_error So Far: 0.09538448601961136\n",
      "Total elapsed time: 01h 04m 10s\n"
     ]
    }
   ],
   "source": [
    "tuner = RandomSearch(\n",
    "    build_model,\n",
    "    objective='val_mean_squared_error',\n",
    "    max_trials=50,\n",
    "    executions_per_trial=2,\n",
    "    directory='keras_tuner_dir',\n",
    "    project_name='nn_hyperparam_opt',\n",
    "    overwrite=True\n",
    ")\n",
    "\n",
    "tuner.search(X_train_scaled, y_train_scaled, epochs=20, validation_split=0.2, verbose=1)"
   ],
   "metadata": {
    "collapsed": false,
    "ExecuteTime": {
     "start_time": "2024-08-13T08:27:58.711881Z",
     "end_time": "2024-08-13T09:32:08.379513Z"
    }
   }
  },
  {
   "cell_type": "code",
   "execution_count": 401,
   "outputs": [
    {
     "name": "stdout",
     "output_type": "stream",
     "text": [
      "Best Hyperparameters:\n",
      "Units in first Layer: 64\n",
      "Number of Hidden Layers: 3\n",
      "Units of Layer 1: 128\n",
      "Units of Layer 2: 104\n",
      "Units of Layer 3: 32\n",
      "Optimizer: adam\n",
      "Learning Rate: 0.0008120090241872257\n"
     ]
    }
   ],
   "source": [
    "best_hp = tuner.get_best_hyperparameters(num_trials=1)[0]\n",
    "print('Best Hyperparameters:')\n",
    "print(f'Units in first Layer: {best_hp.get(\"units_first_layer\")}')\n",
    "print(f'Number of Hidden Layers: {best_hp.get(\"num_hidden_layers\")}')\n",
    "for i in range(best_hp.get(\"num_hidden_layers\")):\n",
    "    print(f'Units of Layer {i+1}: {best_hp.get(f\"units_layer_{i+1}\")}')\n",
    "print(f'Optimizer: {best_hp.get(\"optimizer\")}')\n",
    "print(f'Learning Rate: {best_hp.get(\"learning_rate\")}')\n",
    "if best_hp.get(\"optimizer\") == 'sgd':\n",
    "    print(f'Momentum: {best_hp.get(\"momentum\")}')"
   ],
   "metadata": {
    "collapsed": false,
    "ExecuteTime": {
     "start_time": "2024-08-13T09:32:08.383901Z",
     "end_time": "2024-08-13T09:32:08.431769Z"
    }
   }
  },
  {
   "cell_type": "code",
   "execution_count": 402,
   "outputs": [],
   "source": [
    "def build_final_model(best_hp):\n",
    "    model = keras.Sequential()\n",
    "    # Input\n",
    "    model.add(layers.Dense(\n",
    "        units=best_hp.get('units_first_layer'),\n",
    "        activation='relu',\n",
    "        input_dim=X_train_scaled.shape[1],\n",
    "        kernel_regularizer=keras.regularizers.l2(best_hp.get('l2_first_layer'))\n",
    "    ))\n",
    "    model.add(layers.Dropout(best_hp.get('dropout_first_layer')))\n",
    "\n",
    "    # Hidden Layer\n",
    "    for i in range(best_hp.get('num_hidden_layers')):\n",
    "        model.add(layers.Dense(\n",
    "            units=best_hp.get(f'units_layer_{i+1}'),\n",
    "            activation='relu',\n",
    "            kernel_regularizer=keras.regularizers.l2(best_hp.get(f'l2_reg_layer_{i+1}'))\n",
    "        ))\n",
    "        model.add(layers.Dropout(best_hp.get(f'dropout_layer_{i+1}')))\n",
    "\n",
    "    # Output\n",
    "    model.add(layers.Dense(1, activation='linear'))\n",
    "\n",
    "    if best_hp.get('optimizer') == 'adam':\n",
    "        optimizer = keras.optimizers.Adam(learning_rate=best_hp.get('learning_rate'))\n",
    "    else:\n",
    "        optimizer = keras.optimizers.SGD(\n",
    "            learning_rate=best_hp.get('learning_rate'),\n",
    "            momentum=best_hp.get('momentum')\n",
    "        )\n",
    "\n",
    "    model.compile(optimizer=optimizer, loss='mean_squared_error', metrics=['mean_squared_error'])\n",
    "    return model"
   ],
   "metadata": {
    "collapsed": false,
    "ExecuteTime": {
     "start_time": "2024-08-13T09:32:08.394239Z",
     "end_time": "2024-08-13T09:32:08.443162Z"
    }
   }
  },
  {
   "cell_type": "code",
   "execution_count": 403,
   "outputs": [],
   "source": [
    "def train_model(X_train_scaled, y_train_scaled, best_hp, early_stopping, spatial_unit):\n",
    "    final_model = build_final_model(best_hp)\n",
    "    history = final_model.fit(\n",
    "        X_train_scaled,\n",
    "        y_train_scaled,\n",
    "        epochs=100,\n",
    "        batch_size=32,\n",
    "        validation_split=0.2,\n",
    "        verbose=1,\n",
    "        callbacks=[early_stopping]\n",
    "    )\n",
    "    final_model.save(f'data/models/final_model_{spatial_unit}.h5')\n",
    "    return final_model, history"
   ],
   "metadata": {
    "collapsed": false,
    "ExecuteTime": {
     "start_time": "2024-08-13T09:32:08.400224Z",
     "end_time": "2024-08-13T09:32:08.443278Z"
    }
   }
  },
  {
   "cell_type": "code",
   "execution_count": 404,
   "outputs": [],
   "source": [
    "early_stopping = EarlyStopping(\n",
    "    monitor='val_loss',\n",
    "    min_delta=0.001,\n",
    "    patience=10,\n",
    "    verbose=1,\n",
    "    restore_best_weights=True\n",
    ")"
   ],
   "metadata": {
    "collapsed": false,
    "ExecuteTime": {
     "start_time": "2024-08-13T09:32:08.407662Z",
     "end_time": "2024-08-13T09:32:08.443316Z"
    }
   }
  },
  {
   "cell_type": "code",
   "execution_count": 405,
   "outputs": [],
   "source": [
    "X_train_scaled, y_train_scaled, X_test_scaled, y_test_scaled, scaler = split_scale_data(df_nn)"
   ],
   "metadata": {
    "collapsed": false,
    "ExecuteTime": {
     "start_time": "2024-08-13T09:32:08.414407Z",
     "end_time": "2024-08-13T09:32:10.121077Z"
    }
   }
  },
  {
   "cell_type": "code",
   "execution_count": 406,
   "outputs": [
    {
     "name": "stdout",
     "output_type": "stream",
     "text": [
      "Epoch 1/100\n",
      "2715/2715 [==============================] - 11s 3ms/step - loss: 0.5099 - mean_squared_error: 0.2548 - val_loss: 3.4098 - val_mean_squared_error: 3.3119\n",
      "Epoch 2/100\n",
      "2715/2715 [==============================] - 9s 3ms/step - loss: 0.1996 - mean_squared_error: 0.1318 - val_loss: 3.1246 - val_mean_squared_error: 3.0719\n",
      "Epoch 3/100\n",
      "2715/2715 [==============================] - 9s 3ms/step - loss: 0.1665 - mean_squared_error: 0.1185 - val_loss: 2.3345 - val_mean_squared_error: 2.2905\n",
      "Epoch 4/100\n",
      "2715/2715 [==============================] - 9s 3ms/step - loss: 0.1572 - mean_squared_error: 0.1138 - val_loss: 2.4220 - val_mean_squared_error: 2.3794\n",
      "Epoch 5/100\n",
      "2715/2715 [==============================] - 9s 3ms/step - loss: 0.1511 - mean_squared_error: 0.1090 - val_loss: 2.1027 - val_mean_squared_error: 2.0610\n",
      "Epoch 6/100\n",
      "2715/2715 [==============================] - 9s 3ms/step - loss: 0.1491 - mean_squared_error: 0.1078 - val_loss: 1.9455 - val_mean_squared_error: 1.9042\n",
      "Epoch 7/100\n",
      "2715/2715 [==============================] - 10s 4ms/step - loss: 0.1490 - mean_squared_error: 0.1082 - val_loss: 1.7800 - val_mean_squared_error: 1.7410\n",
      "Epoch 8/100\n",
      "2715/2715 [==============================] - 10s 4ms/step - loss: 0.1478 - mean_squared_error: 0.1074 - val_loss: 1.5413 - val_mean_squared_error: 1.5025\n",
      "Epoch 9/100\n",
      "2715/2715 [==============================] - 11s 4ms/step - loss: 0.1470 - mean_squared_error: 0.1073 - val_loss: 1.4272 - val_mean_squared_error: 1.3853\n",
      "Epoch 10/100\n",
      "2715/2715 [==============================] - 10s 4ms/step - loss: 0.1456 - mean_squared_error: 0.1056 - val_loss: 1.7491 - val_mean_squared_error: 1.7105\n",
      "Epoch 11/100\n",
      "2715/2715 [==============================] - 11s 4ms/step - loss: 0.1444 - mean_squared_error: 0.1043 - val_loss: 1.2514 - val_mean_squared_error: 1.2122\n",
      "Epoch 12/100\n",
      "2715/2715 [==============================] - 10s 4ms/step - loss: 0.1467 - mean_squared_error: 0.1065 - val_loss: 1.1724 - val_mean_squared_error: 1.1324\n",
      "Epoch 13/100\n",
      "2715/2715 [==============================] - 11s 4ms/step - loss: 0.1434 - mean_squared_error: 0.1035 - val_loss: 1.2981 - val_mean_squared_error: 1.2585\n",
      "Epoch 14/100\n",
      "2715/2715 [==============================] - 12s 4ms/step - loss: 0.1399 - mean_squared_error: 0.1011 - val_loss: 1.1922 - val_mean_squared_error: 1.1527\n",
      "Epoch 15/100\n",
      "2715/2715 [==============================] - 12s 5ms/step - loss: 0.1430 - mean_squared_error: 0.1036 - val_loss: 1.1937 - val_mean_squared_error: 1.1541\n",
      "Epoch 16/100\n",
      "2715/2715 [==============================] - 12s 4ms/step - loss: 0.1424 - mean_squared_error: 0.1037 - val_loss: 1.2074 - val_mean_squared_error: 1.1680\n",
      "Epoch 17/100\n",
      "2715/2715 [==============================] - 13s 5ms/step - loss: 0.1427 - mean_squared_error: 0.1042 - val_loss: 1.1992 - val_mean_squared_error: 1.1614\n",
      "Epoch 18/100\n",
      "2715/2715 [==============================] - 14s 5ms/step - loss: 0.1422 - mean_squared_error: 0.1034 - val_loss: 1.1660 - val_mean_squared_error: 1.1275\n",
      "Epoch 19/100\n",
      "2715/2715 [==============================] - 15s 6ms/step - loss: 0.1409 - mean_squared_error: 0.1028 - val_loss: 1.2046 - val_mean_squared_error: 1.1650\n",
      "Epoch 20/100\n",
      "2715/2715 [==============================] - 15s 5ms/step - loss: 0.1426 - mean_squared_error: 0.1038 - val_loss: 1.1947 - val_mean_squared_error: 1.1563\n",
      "Epoch 21/100\n",
      "2715/2715 [==============================] - 15s 6ms/step - loss: 0.1418 - mean_squared_error: 0.1035 - val_loss: 1.2035 - val_mean_squared_error: 1.1640\n",
      "Epoch 22/100\n",
      "2715/2715 [==============================] - 16s 6ms/step - loss: 0.1431 - mean_squared_error: 0.1041 - val_loss: 1.1981 - val_mean_squared_error: 1.1586\n",
      "Epoch 23/100\n",
      "2715/2715 [==============================] - 13s 5ms/step - loss: 0.1452 - mean_squared_error: 0.1066 - val_loss: 1.1966 - val_mean_squared_error: 1.1599\n",
      "Epoch 24/100\n",
      "2715/2715 [==============================] - 12s 5ms/step - loss: 0.1376 - mean_squared_error: 0.0997 - val_loss: 1.1918 - val_mean_squared_error: 1.1512\n",
      "Epoch 25/100\n",
      "2715/2715 [==============================] - 16s 6ms/step - loss: 0.1412 - mean_squared_error: 0.1028 - val_loss: 1.1901 - val_mean_squared_error: 1.1521\n",
      "Epoch 26/100\n",
      "2715/2715 [==============================] - 16s 6ms/step - loss: 0.1432 - mean_squared_error: 0.1044 - val_loss: 1.1894 - val_mean_squared_error: 1.1521\n",
      "Epoch 27/100\n",
      "2715/2715 [==============================] - 16s 6ms/step - loss: 0.1396 - mean_squared_error: 0.1025 - val_loss: 1.1962 - val_mean_squared_error: 1.1589\n",
      "Epoch 28/100\n",
      "2708/2715 [============================>.] - ETA: 0s - loss: 0.1426 - mean_squared_error: 0.1046Restoring model weights from the end of the best epoch: 18.\n",
      "2715/2715 [==============================] - 15s 6ms/step - loss: 0.1426 - mean_squared_error: 0.1046 - val_loss: 1.1852 - val_mean_squared_error: 1.1475\n",
      "Epoch 28: early stopping\n"
     ]
    },
    {
     "name": "stderr",
     "output_type": "stream",
     "text": [
      "/Users/mariusbernahrndt/.pyenv/versions/3.10.4/lib/python3.10/site-packages/keras/src/engine/training.py:3079: UserWarning: You are saving your model as an HDF5 file via `model.save()`. This file format is considered legacy. We recommend using instead the native Keras format, e.g. `model.save('my_model.keras')`.\n",
      "  saving_api.save_model(\n"
     ]
    }
   ],
   "source": [
    "final_model, history = train_model(X_train_scaled, y_train_scaled, best_hp, early_stopping, 'H3')"
   ],
   "metadata": {
    "collapsed": false,
    "ExecuteTime": {
     "start_time": "2024-08-13T09:32:10.124131Z",
     "end_time": "2024-08-13T09:37:53.491216Z"
    }
   }
  },
  {
   "cell_type": "code",
   "execution_count": 407,
   "outputs": [],
   "source": [
    "def plot_training_history(history):\n",
    "    plt.plot(history.history['loss'], label='Training Loss')\n",
    "    plt.plot(history.history['val_loss'], label='Validation Loss')\n",
    "    plt.title('Model Loss Progression During Training')\n",
    "    plt.ylabel('Loss')\n",
    "    plt.xlabel('Epoch')\n",
    "    plt.legend()\n",
    "    plt.show()"
   ],
   "metadata": {
    "collapsed": false,
    "ExecuteTime": {
     "start_time": "2024-08-13T09:37:53.492657Z",
     "end_time": "2024-08-13T09:37:53.497994Z"
    }
   }
  },
  {
   "cell_type": "code",
   "execution_count": 408,
   "outputs": [
    {
     "data": {
      "text/plain": "<Figure size 640x480 with 1 Axes>",
      "image/png": "[encoded data removed]"
     },
     "metadata": {},
     "output_type": "display_data"
    }
   ],
   "source": [
    "plot_training_history(history)"
   ],
   "metadata": {
    "collapsed": false,
    "ExecuteTime": {
     "start_time": "2024-08-13T09:37:53.503014Z",
     "end_time": "2024-08-13T09:37:53.697049Z"
    }
   }
  },
  {
   "cell_type": "code",
   "execution_count": 409,
   "outputs": [],
   "source": [
    "def evaluate_model(final_model, X_test_scaled, y_test_scaled, scaler):\n",
    "    test_loss, test_acc = final_model.evaluate(X_test_scaled, y_test_scaled, verbose=2)\n",
    "    print(f'Test Loss: {test_loss}')\n",
    "    print(f'Test Accuracy: {test_acc}')\n",
    "\n",
    "    y_pred = final_model.predict(X_test_scaled).flatten()\n",
    "    y_pred_rescaled = scaler.inverse_transform(y_pred.reshape(-1, 1)).flatten()\n",
    "    y_test_rescaled = scaler.inverse_transform(y_test_scaled.reshape(-1, 1)).flatten()\n",
    "\n",
    "    mse = mean_squared_error(y_test_rescaled, y_pred_rescaled)\n",
    "    rmse = np.sqrt(mse)\n",
    "    r2 = r2_score(y_test_rescaled, y_pred_rescaled)\n",
    "\n",
    "    print(f'Metrics for Neural Network:')\n",
    "    print(f'MSE: {mse}')\n",
    "    print(f'RMSE: {rmse}')\n",
    "    print(f'R2 Score: {r2}')"
   ],
   "metadata": {
    "collapsed": false,
    "ExecuteTime": {
     "start_time": "2024-08-13T09:37:53.699269Z",
     "end_time": "2024-08-13T09:37:53.704057Z"
    }
   }
  },
  {
   "cell_type": "code",
   "execution_count": 410,
   "outputs": [
    {
     "name": "stdout",
     "output_type": "stream",
     "text": [
      "679/679 - 1s - loss: 0.3166 - mean_squared_error: 0.2781 - 1s/epoch - 2ms/step\n",
      "Test Loss: 0.31660449504852295\n",
      "Test Accuracy: 0.27813029289245605\n",
      "679/679 [==============================] - 2s 2ms/step\n",
      "Metrics for Neural Network:\n",
      "MSE: 3371.324953943531\n",
      "RMSE: 58.063111817603534\n",
      "R2 Score: 0.7218700069078838\n"
     ]
    }
   ],
   "source": [
    "evaluate_model(final_model, X_test_scaled, y_test_scaled, scaler)"
   ],
   "metadata": {
    "collapsed": false,
    "ExecuteTime": {
     "start_time": "2024-08-13T09:37:53.712383Z",
     "end_time": "2024-08-13T09:37:57.004301Z"
    }
   }
  },
  {
   "cell_type": "markdown",
   "source": [
    "### Change from H3 to Census tract"
   ],
   "metadata": {
    "collapsed": false
   }
  },
  {
   "cell_type": "code",
   "execution_count": 416,
   "outputs": [
    {
     "name": "stdout",
     "output_type": "stream",
     "text": [
      "\n",
      "Dataset prepared with \n",
      "spatial resolution: census_tract \n",
      "temporal resolution: 1_h\n",
      "\n"
     ]
    }
   ],
   "source": [
    "spatial_res = 'census'\n",
    "temporal_res = 1\n",
    "\n",
    "df_nn = create_prediction_dataset(df, temporal_res, spatial_res)\n",
    "df_nn_sample = df_nn.sample(frac=0.15)\n",
    "X_train_scaled, y_train_scaled, X_test_scaled, y_test_scaled, scaler = split_scale_data(df_nn_sample)"
   ],
   "metadata": {
    "collapsed": false,
    "ExecuteTime": {
     "start_time": "2024-08-13T09:44:03.168977Z",
     "end_time": "2024-08-13T09:44:05.470755Z"
    }
   }
  },
  {
   "cell_type": "code",
   "execution_count": 421,
   "outputs": [
    {
     "name": "stdout",
     "output_type": "stream",
     "text": [
      "Trial 50 Complete [00h 03m 53s]\n",
      "val_loss: 3.6684062480926514\n",
      "\n",
      "Best val_loss So Far: 2.582455635070801\n",
      "Total elapsed time: 02h 59m 15s\n"
     ]
    }
   ],
   "source": [
    "tuner = RandomSearch(\n",
    "    build_model,\n",
    "    objective='val_loss',\n",
    "    max_trials=50,\n",
    "    executions_per_trial=2,\n",
    "    directory='keras_tuner_dir',\n",
    "    project_name='nn_hyperparam_opt',\n",
    "    overwrite=True\n",
    ")\n",
    "\n",
    "tuner.search(X_train_scaled, y_train_scaled, epochs=20, validation_split=0.2, verbose=1)"
   ],
   "metadata": {
    "collapsed": false,
    "ExecuteTime": {
     "start_time": "2024-08-13T10:47:15.501011Z",
     "end_time": "2024-08-13T13:47:49.731573Z"
    }
   }
  },
  {
   "cell_type": "code",
   "execution_count": 422,
   "outputs": [
    {
     "name": "stdout",
     "output_type": "stream",
     "text": [
      "Epoch 1/100\n",
      "1071/1071 [==============================] - 8s 6ms/step - loss: 1.6661 - mean_squared_error: 0.4465 - val_loss: 3.3117 - val_mean_squared_error: 2.5385\n",
      "Epoch 2/100\n",
      "1071/1071 [==============================] - 5s 4ms/step - loss: 0.7509 - mean_squared_error: 0.2036 - val_loss: 3.0604 - val_mean_squared_error: 2.6840\n",
      "Epoch 3/100\n",
      "1071/1071 [==============================] - 6s 5ms/step - loss: 0.4232 - mean_squared_error: 0.1469 - val_loss: 3.2492 - val_mean_squared_error: 3.0506\n",
      "Epoch 4/100\n",
      "1071/1071 [==============================] - 5s 5ms/step - loss: 0.2825 - mean_squared_error: 0.1277 - val_loss: 3.1732 - val_mean_squared_error: 3.0533\n",
      "Epoch 5/100\n",
      "1071/1071 [==============================] - 6s 6ms/step - loss: 0.2172 - mean_squared_error: 0.1173 - val_loss: 3.3966 - val_mean_squared_error: 3.3123\n",
      "Epoch 6/100\n",
      "1071/1071 [==============================] - 6s 6ms/step - loss: 0.1826 - mean_squared_error: 0.1082 - val_loss: 3.1601 - val_mean_squared_error: 3.0930\n",
      "Epoch 7/100\n",
      "1071/1071 [==============================] - 6s 6ms/step - loss: 0.1660 - mean_squared_error: 0.1037 - val_loss: 2.9870 - val_mean_squared_error: 2.9281\n",
      "Epoch 8/100\n",
      "1071/1071 [==============================] - 6s 5ms/step - loss: 0.1577 - mean_squared_error: 0.1011 - val_loss: 3.1711 - val_mean_squared_error: 3.1162\n",
      "Epoch 9/100\n",
      "1071/1071 [==============================] - 5s 5ms/step - loss: 0.1496 - mean_squared_error: 0.0956 - val_loss: 2.9769 - val_mean_squared_error: 2.9249\n",
      "Epoch 10/100\n",
      "1071/1071 [==============================] - 6s 5ms/step - loss: 0.1461 - mean_squared_error: 0.0941 - val_loss: 3.0261 - val_mean_squared_error: 2.9758\n",
      "Epoch 11/100\n",
      "1071/1071 [==============================] - 6s 6ms/step - loss: 0.1424 - mean_squared_error: 0.0920 - val_loss: 3.2048 - val_mean_squared_error: 3.1570\n",
      "Epoch 12/100\n",
      "1071/1071 [==============================] - 6s 6ms/step - loss: 0.1401 - mean_squared_error: 0.0910 - val_loss: 3.2628 - val_mean_squared_error: 3.2139\n",
      "Epoch 13/100\n",
      "1071/1071 [==============================] - 6s 5ms/step - loss: 0.1384 - mean_squared_error: 0.0903 - val_loss: 3.0559 - val_mean_squared_error: 3.0085\n",
      "Epoch 14/100\n",
      "1071/1071 [==============================] - 5s 5ms/step - loss: 0.1349 - mean_squared_error: 0.0875 - val_loss: 3.0968 - val_mean_squared_error: 3.0496\n",
      "Epoch 15/100\n",
      "1071/1071 [==============================] - 5s 5ms/step - loss: 0.1332 - mean_squared_error: 0.0862 - val_loss: 3.1679 - val_mean_squared_error: 3.1225\n",
      "Epoch 16/100\n",
      "1071/1071 [==============================] - 6s 6ms/step - loss: 0.1329 - mean_squared_error: 0.0863 - val_loss: 3.2932 - val_mean_squared_error: 3.2482\n",
      "Epoch 17/100\n",
      "1071/1071 [==============================] - 5s 5ms/step - loss: 0.1306 - mean_squared_error: 0.0848 - val_loss: 3.3727 - val_mean_squared_error: 3.3277\n",
      "Epoch 18/100\n",
      "1071/1071 [==============================] - 5s 5ms/step - loss: 0.1328 - mean_squared_error: 0.0875 - val_loss: 3.5169 - val_mean_squared_error: 3.4698\n",
      "Epoch 19/100\n",
      "1061/1071 [============================>.] - ETA: 0s - loss: 0.1298 - mean_squared_error: 0.0847Restoring model weights from the end of the best epoch: 9.\n",
      "1071/1071 [==============================] - 6s 6ms/step - loss: 0.1295 - mean_squared_error: 0.0844 - val_loss: 3.3356 - val_mean_squared_error: 3.2906\n",
      "Epoch 19: early stopping\n"
     ]
    },
    {
     "name": "stderr",
     "output_type": "stream",
     "text": [
      "/Users/mariusbernahrndt/.pyenv/versions/3.10.4/lib/python3.10/site-packages/keras/src/engine/training.py:3079: UserWarning: You are saving your model as an HDF5 file via `model.save()`. This file format is considered legacy. We recommend using instead the native Keras format, e.g. `model.save('my_model.keras')`.\n",
      "  saving_api.save_model(\n"
     ]
    }
   ],
   "source": [
    "best_hp = tuner.get_best_hyperparameters(num_trials=1)[0]\n",
    "X_train_scaled, y_train_scaled, X_test_scaled, y_test_scaled, scaler = split_scale_data(df_nn)\n",
    "final_model, history = train_model(X_train_scaled, y_train_scaled, best_hp, early_stopping, 'Census')"
   ],
   "metadata": {
    "collapsed": false,
    "ExecuteTime": {
     "start_time": "2024-08-13T13:46:30.526947Z",
     "end_time": "2024-08-13T13:48:21.432789Z"
    }
   }
  },
  {
   "cell_type": "code",
   "execution_count": 423,
   "outputs": [
    {
     "data": {
      "text/plain": "<Figure size 640x480 with 1 Axes>",
      "image/png": "[encoded data removed]"
     },
     "metadata": {},
     "output_type": "display_data"
    }
   ],
   "source": [
    "plot_training_history(history)"
   ],
   "metadata": {
    "collapsed": false,
    "ExecuteTime": {
     "start_time": "2024-08-13T13:48:20.026231Z",
     "end_time": "2024-08-13T13:48:21.433432Z"
    }
   }
  },
  {
   "cell_type": "code",
   "execution_count": 424,
   "outputs": [
    {
     "name": "stdout",
     "output_type": "stream",
     "text": [
      "268/268 - 0s - loss: 0.7022 - mean_squared_error: 0.6502 - 389ms/epoch - 1ms/step\n",
      "Test Loss: 0.7022459506988525\n",
      "Test Accuracy: 0.6502004265785217\n",
      "268/268 [==============================] - 1s 2ms/step\n",
      "Metrics for Neural Network:\n",
      "MSE: 7143.868944723809\n",
      "RMSE: 84.52141116145548\n",
      "R2 Score: 0.3497995495867615\n"
     ]
    }
   ],
   "source": [
    "evaluate_model(final_model, X_test_scaled, y_test_scaled, scaler)"
   ],
   "metadata": {
    "collapsed": false,
    "ExecuteTime": {
     "start_time": "2024-08-13T13:48:20.177676Z",
     "end_time": "2024-08-13T13:48:21.817438Z"
    }
   }
  },
  {
   "cell_type": "markdown",
   "source": [
    "### Preliminary conclusion Neural Network\n",
    "After the hyperparameter tuning phase with 15% of our dataset, we identified promising neural network configurations. These are specifically tailored to the spatial resolutions `res_8_1h` and `census`.\n",
    "\n",
    "For the model configuration `res_8_1h`, the mean square error of the model's neural network reached an RMSE of 58.06 and an R² value of 0.72. This performance highlights the model's ability to explain a significant proportion of the variance in the dataset and emphasises its effectiveness.\n",
    "\n",
    "In contrast, the `census` configuration had an RMSE of 84.52, with a significantly lower R² value of 0.35. Although these figures are less impressive compared to the res_8_1h model, they still provide valuable insights, particularly to illustrate the complexity and impact of using different spatial resolutions on the prediction results."
   ],
   "metadata": {
    "collapsed": false
   }
  },
  {
   "cell_type": "markdown",
   "source": [
    "## Conclusion\n",
    "In this project, we investigated support vector regression (SVR) and neural networks (NN) for predictive modelling. SVR offers excellent interpretability and stable performance on different dataset sizes, but requires longer training times. In contrast, neural networks offer fast training capabilities and efficiently process large data sets, but require complicated tuning of hyperparameters to prevent overfitting and ensure model reliability.\n",
    "\n",
    "Despite the fast training benefits of NNs, their setup is complex due to the extensive tuning required, especially given the numerous architectural decisions. SVR, while slower, delivers consistent performance and is less sensitive to the size of the dataset. It is noteworthy that the performance indicators did not change significantly when the amount of data was changed, although the training time increased considerably.\n",
    "\n",
    "Ultimately, the choice between SVR and NNs should depend on the specific requirements of the project, including considerations of computational resources and data complexity. For our purposes, SVR proves to be the more robust option due to its predictability and lower dependence on dataset variations.\n",
    "\n"
   ],
   "metadata": {
    "collapsed": false
   }
  },
  {
   "cell_type": "code",
   "execution_count": null,
   "outputs": [],
   "source": [],
   "metadata": {
    "collapsed": false
   }
  }
 ],
 "metadata": {
  "kernelspec": {
   "display_name": "Python 3 (ipykernel)",
   "language": "python",
   "name": "python3"
  },
  "language_info": {
   "codemirror_mode": {
    "name": "ipython",
    "version": 3
   },
   "file_extension": ".py",
   "mimetype": "text/x-python",
   "name": "python",
   "nbconvert_exporter": "python",
   "pygments_lexer": "ipython3",
   "version": "3.10.9"
  }
 },
 "nbformat": 4,
 "nbformat_minor": 5
}
