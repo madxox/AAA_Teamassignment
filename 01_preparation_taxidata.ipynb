{
 "cells": [
  {
   "cell_type": "markdown",
   "id": "dc44b7ae7599b956",
   "metadata": {},
   "source": [
    "## 1.0a Taxi Data - Preprocessing"
   ]
  },
  {
   "cell_type": "markdown",
   "id": "f4662e21-9b19-40fc-8797-bfc543d4f9c3",
   "metadata": {},
   "source": [
    "In this first notebook, the main dataframe is preprocessed. This includes:\n",
    "- Read and display datafile\n",
    "- Checking data logic & removing invalid data\n",
    "- Changing its datatypes\n",
    "- Dropping trivial or null columns/rows\n",
    "- Splitting the data into subsets and saving them for further work"
   ]
  },
  {
   "cell_type": "markdown",
   "id": "d86dda84-d670-437b-bc0e-4c874d709a45",
   "metadata": {
    "tags": []
   },
   "source": [
    "As the original data is rather large in size, it is not included in the repository. Instead, when wanting to run this notebook, it is necessary to:\n",
    "1. Download the data from https://data.cityofchicago.org/Transportation/Taxi-Trips/wrvz-psew#column-menu where you specify via Actions->Query Data->Trip Start Timestamp // In Between // 2022 Jan 01 12:00:00 AM AND 2022 Dec 31 11:59:59 PM\n",
    "2. Rename the file to \"taxidata\"\n",
    "3. Run the code cell below and add the data to the following directory"
   ]
  },
  {
   "cell_type": "code",
   "execution_count": 43,
   "id": "0d5efe0c-aa7b-4222-9d5b-98e1d38ed437",
   "metadata": {
    "ExecuteTime": {
     "start_time": "2024-07-04T18:19:06.533879Z",
     "end_time": "2024-07-04T18:19:06.544800Z"
    },
    "tags": []
   },
   "outputs": [],
   "source": [
    "import os\n",
    "# this directory for the original data file\n",
    "os.makedirs('./data', exist_ok=True)\n",
    "# this directory to later save the prepared data\n",
    "os.makedirs('./data/prepped', exist_ok=True)"
   ]
  },
  {
   "cell_type": "code",
   "execution_count": 44,
   "id": "dc92b812d1290ab",
   "metadata": {
    "ExecuteTime": {
     "start_time": "2024-07-04T18:19:09.322232Z",
     "end_time": "2024-07-04T18:19:09.342057Z"
    },
    "tags": []
   },
   "outputs": [],
   "source": [
    "# Standard libraries\n",
    "import pandas as pd\n",
    "import numpy as np\n",
    "\n",
    "# Geospatial libraries\n",
    "from h3 import h3 \n",
    "import geopandas as gp\n",
    "from shapely.geometry.polygon import Polygon"
   ]
  },
  {
   "cell_type": "markdown",
   "id": "1937f9e5-5bfb-4597-a3d2-2aca16ea1772",
   "metadata": {},
   "source": [
    "### 1.1 Read and display datafile"
   ]
  },
  {
   "cell_type": "markdown",
   "source": [
    "Data file not included in the project, needs to be downloaded individually. This step can take a few minutes due to size of the original file"
   ],
   "metadata": {
    "collapsed": false
   }
  },
  {
   "cell_type": "code",
   "execution_count": 45,
   "id": "3939294bd434c611",
   "metadata": {
    "ExecuteTime": {
     "start_time": "2024-07-04T18:19:09.327422Z",
     "end_time": "2024-07-04T18:19:41.256970Z"
    },
    "tags": []
   },
   "outputs": [],
   "source": [
    "df = pd.read_csv(\"data/taxidata.csv\")"
   ]
  },
  {
   "cell_type": "code",
   "execution_count": 46,
   "id": "18fc4c99-ad27-4b7b-9bd9-52895492b7dd",
   "metadata": {
    "ExecuteTime": {
     "start_time": "2024-07-04T18:19:41.273425Z",
     "end_time": "2024-07-04T18:19:41.296642Z"
    }
   },
   "outputs": [
    {
     "data": {
      "text/plain": "                                    trip_id  \\\n0  4404c6835b9e74e9f74d70f235200a8ce09db14a   \n1  466473fd2a196ebe92fb2983cb7e8af32e39aa1f   \n2  3f5cd3f78e5cab455606a31372a95d3204b2fb3f   \n\n                                             taxi_id     trip_start_timestamp  \\\n0  7e179f8ef66ae99ec2d1ec89224e0b7ee5469fe5627f6d...  2022-12-31T23:45:00.000   \n1  d1d88b89ceb6d753007b6e795e3c24f4bea905a51e9d47...  2022-12-31T23:45:00.000   \n2  847cf962bd6f62040673e6c24c24940aeb2d7fdaa54677...  2022-12-31T23:45:00.000   \n\n        trip_end_timestamp  trip_seconds  trip_miles  pickup_census_tract  \\\n0  2023-01-01T00:15:00.000        2081.0        4.42                  NaN   \n1  2023-01-01T00:00:00.000         812.0        0.00                  NaN   \n2  2023-01-01T00:00:00.000         600.0        0.90                  NaN   \n\n   dropoff_census_tract  pickup_community_area  dropoff_community_area  ...  \\\n0                   NaN                    2.0                     3.0  ...   \n1                   NaN                    8.0                    24.0  ...   \n2                   NaN                    8.0                     8.0  ...   \n\n   extras  trip_total  payment_type                    company  \\\n0     0.0       20.50        Prcard                  Flash Cab   \n1     0.0       16.57        Mobile                  Flash Cab   \n2     3.0       12.00   Credit Card  Taxi Affiliation Services   \n\n   pickup_centroid_latitude pickup_centroid_longitude  \\\n0                 42.001571                -87.695013   \n1                 41.899602                -87.633308   \n2                 41.899602                -87.633308   \n\n              pickup_centroid_location  dropoff_centroid_latitude  \\\n0  POINT (-87.6950125892 42.001571027)                  41.965812   \n1  POINT (-87.6333080367 41.899602111)                  41.901207   \n2  POINT (-87.6333080367 41.899602111)                  41.899602   \n\n   dropoff_centroid_longitude             dropoff_centroid_location  \n0                  -87.655879    POINT (-87.6558787862 41.96581197)  \n1                  -87.676356  POINT (-87.6763559892 41.9012069941)  \n2                  -87.633308   POINT (-87.6333080367 41.899602111)  \n\n[3 rows x 23 columns]",
      "text/html": "<div>\n<style scoped>\n    .dataframe tbody tr th:only-of-type {\n        vertical-align: middle;\n    }\n\n    .dataframe tbody tr th {\n        vertical-align: top;\n    }\n\n    .dataframe thead th {\n        text-align: right;\n    }\n</style>\n<table border=\"1\" class=\"dataframe\">\n  <thead>\n    <tr style=\"text-align: right;\">\n      <th></th>\n      <th>trip_id</th>\n      <th>taxi_id</th>\n      <th>trip_start_timestamp</th>\n      <th>trip_end_timestamp</th>\n      <th>trip_seconds</th>\n      <th>trip_miles</th>\n      <th>pickup_census_tract</th>\n      <th>dropoff_census_tract</th>\n      <th>pickup_community_area</th>\n      <th>dropoff_community_area</th>\n      <th>...</th>\n      <th>extras</th>\n      <th>trip_total</th>\n      <th>payment_type</th>\n      <th>company</th>\n      <th>pickup_centroid_latitude</th>\n      <th>pickup_centroid_longitude</th>\n      <th>pickup_centroid_location</th>\n      <th>dropoff_centroid_latitude</th>\n      <th>dropoff_centroid_longitude</th>\n      <th>dropoff_centroid_location</th>\n    </tr>\n  </thead>\n  <tbody>\n    <tr>\n      <th>0</th>\n      <td>4404c6835b9e74e9f74d70f235200a8ce09db14a</td>\n      <td>7e179f8ef66ae99ec2d1ec89224e0b7ee5469fe5627f6d...</td>\n      <td>2022-12-31T23:45:00.000</td>\n      <td>2023-01-01T00:15:00.000</td>\n      <td>2081.0</td>\n      <td>4.42</td>\n      <td>NaN</td>\n      <td>NaN</td>\n      <td>2.0</td>\n      <td>3.0</td>\n      <td>...</td>\n      <td>0.0</td>\n      <td>20.50</td>\n      <td>Prcard</td>\n      <td>Flash Cab</td>\n      <td>42.001571</td>\n      <td>-87.695013</td>\n      <td>POINT (-87.6950125892 42.001571027)</td>\n      <td>41.965812</td>\n      <td>-87.655879</td>\n      <td>POINT (-87.6558787862 41.96581197)</td>\n    </tr>\n    <tr>\n      <th>1</th>\n      <td>466473fd2a196ebe92fb2983cb7e8af32e39aa1f</td>\n      <td>d1d88b89ceb6d753007b6e795e3c24f4bea905a51e9d47...</td>\n      <td>2022-12-31T23:45:00.000</td>\n      <td>2023-01-01T00:00:00.000</td>\n      <td>812.0</td>\n      <td>0.00</td>\n      <td>NaN</td>\n      <td>NaN</td>\n      <td>8.0</td>\n      <td>24.0</td>\n      <td>...</td>\n      <td>0.0</td>\n      <td>16.57</td>\n      <td>Mobile</td>\n      <td>Flash Cab</td>\n      <td>41.899602</td>\n      <td>-87.633308</td>\n      <td>POINT (-87.6333080367 41.899602111)</td>\n      <td>41.901207</td>\n      <td>-87.676356</td>\n      <td>POINT (-87.6763559892 41.9012069941)</td>\n    </tr>\n    <tr>\n      <th>2</th>\n      <td>3f5cd3f78e5cab455606a31372a95d3204b2fb3f</td>\n      <td>847cf962bd6f62040673e6c24c24940aeb2d7fdaa54677...</td>\n      <td>2022-12-31T23:45:00.000</td>\n      <td>2023-01-01T00:00:00.000</td>\n      <td>600.0</td>\n      <td>0.90</td>\n      <td>NaN</td>\n      <td>NaN</td>\n      <td>8.0</td>\n      <td>8.0</td>\n      <td>...</td>\n      <td>3.0</td>\n      <td>12.00</td>\n      <td>Credit Card</td>\n      <td>Taxi Affiliation Services</td>\n      <td>41.899602</td>\n      <td>-87.633308</td>\n      <td>POINT (-87.6333080367 41.899602111)</td>\n      <td>41.899602</td>\n      <td>-87.633308</td>\n      <td>POINT (-87.6333080367 41.899602111)</td>\n    </tr>\n  </tbody>\n</table>\n<p>3 rows × 23 columns</p>\n</div>"
     },
     "execution_count": 46,
     "metadata": {},
     "output_type": "execute_result"
    }
   ],
   "source": [
    "df.head(3)"
   ]
  },
  {
   "cell_type": "code",
   "execution_count": 47,
   "id": "a3225e02-5946-45f8-88b3-fb936b834f58",
   "metadata": {
    "tags": [],
    "ExecuteTime": {
     "start_time": "2024-07-04T18:19:41.281555Z",
     "end_time": "2024-07-04T18:19:41.298698Z"
    }
   },
   "outputs": [
    {
     "data": {
      "text/plain": "trip_id                        object\ntaxi_id                        object\ntrip_start_timestamp           object\ntrip_end_timestamp             object\ntrip_seconds                  float64\ntrip_miles                    float64\npickup_census_tract           float64\ndropoff_census_tract          float64\npickup_community_area         float64\ndropoff_community_area        float64\nfare                          float64\ntips                          float64\ntolls                         float64\nextras                        float64\ntrip_total                    float64\npayment_type                   object\ncompany                        object\npickup_centroid_latitude      float64\npickup_centroid_longitude     float64\npickup_centroid_location       object\ndropoff_centroid_latitude     float64\ndropoff_centroid_longitude    float64\ndropoff_centroid_location      object\ndtype: object"
     },
     "execution_count": 47,
     "metadata": {},
     "output_type": "execute_result"
    }
   ],
   "source": [
    "# Data types\n",
    "df.dtypes"
   ]
  },
  {
   "cell_type": "code",
   "execution_count": 48,
   "id": "fbe9cc29-01f4-4b67-ab91-bddd0fccde1c",
   "metadata": {
    "ExecuteTime": {
     "start_time": "2024-07-04T18:19:41.430892Z",
     "end_time": "2024-07-04T18:19:42.503630Z"
    }
   },
   "outputs": [
    {
     "name": "stdout",
     "output_type": "stream",
     "text": [
      "Min date: 2022-01-01 00:00:00\n",
      "Max date: 2022-12-31 23:45:00\n"
     ]
    }
   ],
   "source": [
    "# Convert time types to check if entries are from correct range\n",
    "df[\"trip_start_timestamp\"] = pd.to_datetime(df[\"trip_start_timestamp\"])\n",
    "df[\"trip_end_timestamp\"] = pd.to_datetime(df[\"trip_end_timestamp\"])\n",
    "\n",
    "# In range of 2022:\n",
    "print(f\"Min date: {df['trip_start_timestamp'].min()}\")\n",
    "print(f\"Max date: {df['trip_start_timestamp'].max()}\")\n",
    "\n",
    "# Convert other \n",
    "df[\"trip_seconds\"] =  pd.to_numeric(df['trip_seconds'])"
   ]
  },
  {
   "cell_type": "markdown",
   "id": "932d1bc8bee4a2ef",
   "metadata": {},
   "source": [
    "Make sure these are the right dates, here it should say **2022-01-01 00:00:00** and **2022-12-31 23:45:00**. "
   ]
  },
  {
   "cell_type": "code",
   "execution_count": 49,
   "id": "1ceca55b-7530-4876-b362-726e4ea3c04c",
   "metadata": {
    "tags": [],
    "ExecuteTime": {
     "start_time": "2024-07-04T18:19:42.501373Z",
     "end_time": "2024-07-04T18:19:42.548014Z"
    }
   },
   "outputs": [],
   "source": [
    "# Convert trip duration to hours\n",
    "df['trip_hours'] = df['trip_seconds'] / 3600"
   ]
  },
  {
   "cell_type": "code",
   "execution_count": 50,
   "id": "5c408596-7164-4de5-8667-ee1f288ef766",
   "metadata": {
    "ExecuteTime": {
     "start_time": "2024-07-04T18:19:42.528131Z",
     "end_time": "2024-07-04T18:19:43.664214Z"
    },
    "tags": []
   },
   "outputs": [
    {
     "name": "stdout",
     "output_type": "stream",
     "text": [
      "General shape of dataframe: (6382425, 24)\n",
      "trip_id                             0\n",
      "taxi_id                           354\n",
      "trip_start_timestamp                0\n",
      "trip_end_timestamp                212\n",
      "trip_seconds                     1465\n",
      "trip_miles                         56\n",
      "pickup_census_tract           3758594\n",
      "dropoff_census_tract          3707094\n",
      "pickup_community_area          513853\n",
      "dropoff_community_area         633684\n",
      "fare                             3536\n",
      "tips                             3536\n",
      "tolls                            3536\n",
      "extras                           3536\n",
      "trip_total                       3536\n",
      "payment_type                        0\n",
      "company                             0\n",
      "pickup_centroid_latitude       511551\n",
      "pickup_centroid_longitude      511551\n",
      "pickup_centroid_location       511551\n",
      "dropoff_centroid_latitude      597931\n",
      "dropoff_centroid_longitude     597931\n",
      "dropoff_centroid_location      597931\n",
      "trip_hours                       1465\n",
      "dtype: int64\n"
     ]
    }
   ],
   "source": [
    "# Look into null values\n",
    "print(f\"General shape of dataframe: {df.shape}\")\n",
    "print(df.isna().sum())"
   ]
  },
  {
   "cell_type": "code",
   "execution_count": 55,
   "outputs": [],
   "source": [
    "invalid_time = df[df['trip_end_timestamp'] < df['trip_start_timestamp']].index\n",
    "\n",
    "df = df.drop(invalid_time)"
   ],
   "metadata": {
    "collapsed": false,
    "ExecuteTime": {
     "start_time": "2024-07-04T18:24:56.585896Z",
     "end_time": "2024-07-04T18:24:58.384086Z"
    }
   }
  },
  {
   "cell_type": "code",
   "execution_count": 56,
   "outputs": [],
   "source": [
    "mask = df['trip_seconds'].isna()\n",
    "df.loc[mask, 'trip_seconds'] = (df.loc[mask, 'trip_end_timestamp'] - df.loc[mask, 'trip_start_timestamp']).dt.total_seconds()"
   ],
   "metadata": {
    "collapsed": false,
    "ExecuteTime": {
     "start_time": "2024-07-04T18:24:58.383870Z",
     "end_time": "2024-07-04T18:24:58.430112Z"
    }
   }
  },
  {
   "cell_type": "code",
   "execution_count": 57,
   "outputs": [
    {
     "name": "stdout",
     "output_type": "stream",
     "text": [
      "trip_id                             0\n",
      "taxi_id                           354\n",
      "trip_start_timestamp                0\n",
      "trip_end_timestamp                212\n",
      "trip_seconds                      212\n",
      "trip_miles                         56\n",
      "pickup_census_tract           3758493\n",
      "dropoff_census_tract          3706993\n",
      "pickup_community_area          513818\n",
      "dropoff_community_area         633644\n",
      "fare                             3533\n",
      "tips                             3533\n",
      "tolls                            3533\n",
      "extras                           3533\n",
      "trip_total                       3533\n",
      "payment_type                        0\n",
      "company                             0\n",
      "pickup_centroid_latitude       511516\n",
      "pickup_centroid_longitude      511516\n",
      "pickup_centroid_location       511516\n",
      "dropoff_centroid_latitude      597891\n",
      "dropoff_centroid_longitude     597891\n",
      "dropoff_centroid_location      597891\n",
      "trip_hours                       1343\n",
      "dtype: int64\n"
     ]
    }
   ],
   "source": [
    "print(df.isna().sum())"
   ],
   "metadata": {
    "collapsed": false,
    "ExecuteTime": {
     "start_time": "2024-07-04T18:24:58.427392Z",
     "end_time": "2024-07-04T18:24:59.581228Z"
    }
   }
  },
  {
   "cell_type": "markdown",
   "id": "a6e0c83e-5275-40ec-a492-35cb5bb880cd",
   "metadata": {},
   "source": [
    "### 1.2 Checking data logic & removing invalid data"
   ]
  },
  {
   "cell_type": "markdown",
   "id": "562fcc8e-36e8-4972-9b6f-cf696ee43cf2",
   "metadata": {
    "tags": []
   },
   "source": [
    "#### 1.2.1 Duplicate entries"
   ]
  },
  {
   "cell_type": "code",
   "execution_count": 9,
   "id": "4e09e0c3-9c12-4582-8f66-65b5b16f74d4",
   "metadata": {
    "tags": [],
    "ExecuteTime": {
     "start_time": "2024-07-04T17:52:37.669629Z",
     "end_time": "2024-07-04T17:52:42.927848Z"
    }
   },
   "outputs": [
    {
     "name": "stdout",
     "output_type": "stream",
     "text": [
      "Number of duplicate entries:  21772\n"
     ]
    }
   ],
   "source": [
    "# Check duplicates \n",
    "print(\"Number of duplicate entries: \", df.duplicated(subset = [\n",
    "    'taxi_id',\n",
    "    'trip_start_timestamp',\n",
    "    'trip_end_timestamp',\n",
    "    'trip_seconds',\n",
    "    'trip_miles',\n",
    "    'pickup_census_tract',\n",
    "    'dropoff_census_tract',\n",
    "    'pickup_community_area',\n",
    "    'dropoff_community_area',\n",
    "    'pickup_centroid_latitude',\n",
    "    'pickup_centroid_longitude',\n",
    "    'pickup_centroid_location',\n",
    "    'dropoff_centroid_latitude',\n",
    "    'dropoff_centroid_longitude',\n",
    "    'dropoff_centroid_location',\n",
    "]).sum())"
   ]
  },
  {
   "cell_type": "code",
   "execution_count": 10,
   "id": "1a84b6c6-279b-4e05-b028-d097122254dd",
   "metadata": {
    "tags": [],
    "ExecuteTime": {
     "start_time": "2024-07-04T17:52:42.929123Z",
     "end_time": "2024-07-04T17:52:49.516032Z"
    }
   },
   "outputs": [
    {
     "data": {
      "text/plain": "(6360653, 24)"
     },
     "execution_count": 10,
     "metadata": {},
     "output_type": "execute_result"
    }
   ],
   "source": [
    "df = df.drop_duplicates(subset = [\n",
    "    'taxi_id',\n",
    "    'trip_start_timestamp',\n",
    "    'trip_end_timestamp',\n",
    "    'trip_seconds',\n",
    "    'trip_miles',\n",
    "    'pickup_census_tract',\n",
    "    'dropoff_census_tract',\n",
    "    'pickup_community_area',\n",
    "    'dropoff_community_area',\n",
    "    'pickup_centroid_latitude',\n",
    "    'pickup_centroid_longitude',\n",
    "    'pickup_centroid_location',\n",
    "    'dropoff_centroid_latitude',\n",
    "    'dropoff_centroid_longitude',\n",
    "    'dropoff_centroid_location',\n",
    "], keep='first')\n",
    "df.shape"
   ]
  },
  {
   "cell_type": "markdown",
   "id": "be75af58-fa47-4934-8a41-568adfba6bf0",
   "metadata": {},
   "source": [
    "#### 1.2.2 Drop Outliers"
   ]
  },
  {
   "cell_type": "code",
   "execution_count": 20,
   "id": "04550351-88cd-4104-b1bf-ea3863be1488",
   "metadata": {
    "tags": [],
    "ExecuteTime": {
     "start_time": "2024-07-04T17:55:41.386195Z",
     "end_time": "2024-07-04T17:55:41.388039Z"
    }
   },
   "outputs": [],
   "source": [
    "df_outliers = df"
   ]
  },
  {
   "cell_type": "code",
   "execution_count": 21,
   "id": "1e877a98-59bc-454e-8ea8-7bab8b0070e9",
   "metadata": {
    "tags": [],
    "ExecuteTime": {
     "start_time": "2024-07-04T17:55:44.397396Z",
     "end_time": "2024-07-04T17:55:44.400599Z"
    }
   },
   "outputs": [],
   "source": [
    "def drop_outliers(df, column, mean, std):\n",
    "    return df[(df[column] > mean - 3 * std) & (df[column] < mean + 3 * std)]"
   ]
  },
  {
   "cell_type": "code",
   "execution_count": 22,
   "id": "a1843fad-a424-4307-bf6b-06d261390a2b",
   "metadata": {
    "tags": [],
    "ExecuteTime": {
     "start_time": "2024-07-04T17:55:44.403087Z",
     "end_time": "2024-07-04T17:55:46.231165Z"
    }
   },
   "outputs": [],
   "source": [
    "std_trip_seconds = df_outliers['trip_seconds'].describe(include='all').loc['std']\n",
    "mean_trip_seconds = df_outliers['trip_seconds'].describe(include='all').loc['mean']\n",
    "\n",
    "std_trip_miles = df_outliers['trip_miles'].describe(include='all').loc['std']\n",
    "mean_trip_miles = df_outliers['trip_miles'].describe(include='all').loc['mean']\n",
    "\n",
    "std_trip_total = df_outliers['trip_total'].describe(include='all').loc['std']\n",
    "mean_trip_total = df_outliers['trip_total'].describe(include='all').loc['mean']"
   ]
  },
  {
   "cell_type": "code",
   "execution_count": 23,
   "id": "7d8a4022-a194-439b-8590-cac2ef188a5a",
   "metadata": {
    "tags": [],
    "ExecuteTime": {
     "start_time": "2024-07-04T17:55:46.235249Z",
     "end_time": "2024-07-04T17:55:49.362528Z"
    }
   },
   "outputs": [],
   "source": [
    "df_outliers = drop_outliers(df_outliers, \"trip_seconds\", mean_trip_seconds, std_trip_seconds)\n",
    "df_outliers = drop_outliers(df_outliers, \"trip_miles\", mean_trip_miles, std_trip_miles)\n",
    "df_outliers = drop_outliers(df_outliers, \"trip_total\", mean_trip_total, std_trip_total)"
   ]
  },
  {
   "cell_type": "code",
   "execution_count": 24,
   "id": "c44b6b8d-d2d8-4738-88fd-493b759b40a4",
   "metadata": {
    "tags": [],
    "ExecuteTime": {
     "start_time": "2024-07-04T17:55:49.361291Z",
     "end_time": "2024-07-04T17:55:49.370294Z"
    }
   },
   "outputs": [
    {
     "data": {
      "text/plain": "(6306811, 24)"
     },
     "execution_count": 24,
     "metadata": {},
     "output_type": "execute_result"
    }
   ],
   "source": [
    "df_outliers.shape"
   ]
  },
  {
   "cell_type": "code",
   "execution_count": 25,
   "id": "dbab2890-eea1-4cba-a9b1-b7180356038f",
   "metadata": {
    "tags": [],
    "ExecuteTime": {
     "start_time": "2024-07-04T17:55:55.983908Z",
     "end_time": "2024-07-04T17:55:56.308141Z"
    }
   },
   "outputs": [
    {
     "name": "stdout",
     "output_type": "stream",
     "text": [
      "Number of zero entries for trip_seconds:  147287\n",
      "Number of zero entries for trip_miles:  781031\n",
      "Number of zero entries for trip_total:  5325\n"
     ]
    }
   ],
   "source": [
    "# Number of equal zero entries after dropping\n",
    "print(\"Number of zero entries for trip_seconds: \", len(df_outliers[df_outliers[\"trip_seconds\"] == 0]))\n",
    "print(\"Number of zero entries for trip_miles: \", len(df_outliers[df_outliers[\"trip_miles\"] == 0]))\n",
    "print(\"Number of zero entries for trip_total: \", len(df_outliers[df_outliers[\"trip_total\"] == 0]))"
   ]
  },
  {
   "cell_type": "markdown",
   "id": "96870ef9-34bb-4d72-b728-afd1fbbb1ad2",
   "metadata": {},
   "source": [
    "#### 1.2.2 Mph Logic"
   ]
  },
  {
   "cell_type": "markdown",
   "id": "4a5dd593-3a71-41e1-a517-f26f1187c192",
   "metadata": {},
   "source": [
    "To have some orientation for the speed limit in Chicago/Cook County, we took this as a source: https://www.arcgis.com/home/item.html?id=5e279cbe89794bcba87809d9ae95594d which resulted in a limit of 65 mph for our taxi data, as anything above is unrealistic."
   ]
  },
  {
   "cell_type": "code",
   "execution_count": 18,
   "id": "7ae95e93-2e44-45a0-9ac1-652f33c8af0d",
   "metadata": {
    "tags": [],
    "ExecuteTime": {
     "start_time": "2024-07-01T11:55:22.187416Z",
     "end_time": "2024-07-01T11:55:22.242123Z"
    }
   },
   "outputs": [],
   "source": [
    "df_outliers['mph'] = np.where(df_outliers['trip_hours'] != 0, df_outliers['trip_miles'] / df_outliers['trip_hours'], np.nan)"
   ]
  },
  {
   "cell_type": "code",
   "execution_count": 19,
   "id": "921dacf1-2322-43f7-a106-d731aaae5417",
   "metadata": {
    "tags": [],
    "ExecuteTime": {
     "start_time": "2024-07-01T11:55:22.231903Z",
     "end_time": "2024-07-01T11:55:23.223863Z"
    }
   },
   "outputs": [],
   "source": [
    "df_outliers = df_outliers[(df_outliers[\"mph\"] <= 65)]"
   ]
  },
  {
   "cell_type": "code",
   "execution_count": 20,
   "id": "725fca8d-6ed1-4c32-8022-1a3118682479",
   "metadata": {
    "ExecuteTime": {
     "start_time": "2024-07-01T11:55:23.227102Z",
     "end_time": "2024-07-01T11:55:23.245734Z"
    }
   },
   "outputs": [
    {
     "data": {
      "text/plain": "65.0"
     },
     "execution_count": 20,
     "metadata": {},
     "output_type": "execute_result"
    }
   ],
   "source": [
    "df_outliers[\"mph\"].max()"
   ]
  },
  {
   "cell_type": "code",
   "execution_count": 20,
   "id": "a56aa377-b644-4382-bb02-aeb00150caa4",
   "metadata": {
    "ExecuteTime": {
     "start_time": "2024-07-01T11:55:26.105992Z",
     "end_time": "2024-07-01T11:55:26.119348Z"
    }
   },
   "outputs": [],
   "source": []
  },
  {
   "cell_type": "code",
   "execution_count": 21,
   "id": "a54cf01f-cc8e-429e-b943-770eea6827c9",
   "metadata": {
    "ExecuteTime": {
     "start_time": "2024-07-01T11:55:26.112319Z",
     "end_time": "2024-07-01T11:55:26.119867Z"
    }
   },
   "outputs": [],
   "source": [
    "## change order\n",
    "## duration \n",
    "## kmh"
   ]
  },
  {
   "cell_type": "code",
   "execution_count": 21,
   "id": "7d5af93d-6aaf-4fd7-8f8f-66f8634c0d77",
   "metadata": {
    "ExecuteTime": {
     "start_time": "2024-07-01T11:55:26.122812Z",
     "end_time": "2024-07-01T11:55:26.142584Z"
    }
   },
   "outputs": [],
   "source": []
  },
  {
   "cell_type": "markdown",
   "id": "e03f5adc-a895-4cf4-9687-0a6701f0ef92",
   "metadata": {},
   "source": [
    "#### 1.2.2 Tips Logic"
   ]
  },
  {
   "cell_type": "markdown",
   "id": "0da91cd8-df23-4be7-87e5-e418994d758a",
   "metadata": {},
   "source": [
    "Through some research we found that the base fare of any taxi ride is $3.25 (https://www.chicago.gov/content/dam/city/depts/bacp/publicvehicleinfo/Chicabs/chicagotaxiplacard20200629.pdf). Hence, entries where the **\"trip_total\" is smaller than 3.25** are dropped."
   ]
  },
  {
   "cell_type": "code",
   "execution_count": 22,
   "id": "0c51a2ea-14d2-4181-8dc3-d163b72d1648",
   "metadata": {
    "ExecuteTime": {
     "start_time": "2024-07-01T11:55:29.095861Z",
     "end_time": "2024-07-01T11:55:29.175567Z"
    }
   },
   "outputs": [
    {
     "name": "stdout",
     "output_type": "stream",
     "text": [
      "Number of entries with below $3.25 trip total:  99404\n"
     ]
    }
   ],
   "source": [
    "print(\"Number of entries with below $3.25 trip total: \", len(df_outliers[df_outliers[\"trip_total\"] <= 3.25]))"
   ]
  },
  {
   "cell_type": "code",
   "execution_count": 23,
   "id": "1422f7b0-538b-440a-9966-ad708a488ade",
   "metadata": {
    "ExecuteTime": {
     "start_time": "2024-07-01T11:55:29.178223Z",
     "end_time": "2024-07-01T11:55:30.348746Z"
    }
   },
   "outputs": [],
   "source": [
    "df_outliers = df_outliers[df_outliers[\"trip_total\"] > 3.25]"
   ]
  },
  {
   "cell_type": "code",
   "execution_count": 24,
   "id": "6d2bd383-0b22-4866-8072-b5c7166879fb",
   "metadata": {
    "ExecuteTime": {
     "start_time": "2024-07-01T11:55:30.384587Z",
     "end_time": "2024-07-01T11:55:30.405738Z"
    }
   },
   "outputs": [
    {
     "data": {
      "text/plain": "3.26"
     },
     "execution_count": 24,
     "metadata": {},
     "output_type": "execute_result"
    }
   ],
   "source": [
    "df_outliers[\"trip_total\"].min()"
   ]
  },
  {
   "cell_type": "code",
   "execution_count": 24,
   "id": "841d6a33-b4b0-4d8b-ad15-50f0192c6ba4",
   "metadata": {
    "ExecuteTime": {
     "start_time": "2024-07-01T11:55:33.301185Z",
     "end_time": "2024-07-01T11:55:33.331575Z"
    }
   },
   "outputs": [],
   "source": []
  },
  {
   "cell_type": "markdown",
   "id": "0ee2b655-4587-4bfe-b988-6fc579dd5c39",
   "metadata": {
    "tags": []
   },
   "source": [
    "#### 1.2.3 Cancelled Trips Logic"
   ]
  },
  {
   "cell_type": "markdown",
   "id": "7c2bac55-bfec-4b0d-b90c-d3e06320a23c",
   "metadata": {
    "tags": []
   },
   "source": [
    "We consider a trip cancelled if\n",
    "- trip_miles = 0\n",
    "- trip_seconds = 0\n",
    "- pickup = dropoff (regarding lat, lng, census tract and centroid location)"
   ]
  },
  {
   "cell_type": "code",
   "execution_count": 25,
   "id": "2b98f0b2-ffb2-46f0-923d-8aa7555c260b",
   "metadata": {
    "tags": [],
    "ExecuteTime": {
     "start_time": "2024-07-01T11:55:36.361072Z",
     "end_time": "2024-07-01T11:55:36.535039Z"
    }
   },
   "outputs": [
    {
     "name": "stdout",
     "output_type": "stream",
     "text": [
      "570298\n"
     ]
    }
   ],
   "source": [
    "print(len(df_outliers[df_outliers['trip_miles']==0]))"
   ]
  },
  {
   "cell_type": "code",
   "execution_count": 26,
   "id": "73c152dd-fae9-4fbe-a824-a834f4c77f26",
   "metadata": {
    "tags": [],
    "ExecuteTime": {
     "start_time": "2024-07-01T11:55:36.533457Z",
     "end_time": "2024-07-01T11:55:37.356102Z"
    }
   },
   "outputs": [],
   "source": [
    "# Filter out trips that match any \"cancelled\"-condition\n",
    "condition_census_tract = (df_outliers['pickup_census_tract'].notna() & df_outliers['dropoff_census_tract'].notna())\n",
    "\n",
    "condition_geolocation = (\n",
    "    (df_outliers['pickup_centroid_latitude'].notna() & df_outliers['dropoff_centroid_latitude'].notna()) &\n",
    "    (df_outliers['pickup_centroid_longitude'].notna() & df_outliers['dropoff_centroid_longitude'].notna())\n",
    ")\n",
    "\n",
    "condition_community_area = df_outliers['pickup_community_area'].notna() & df_outliers['dropoff_community_area'].notna()\n",
    "\n",
    "condition = (condition_census_tract | condition_geolocation|  condition_community_area) \n",
    "\n",
    "df_cancelled = df_outliers[condition]"
   ]
  },
  {
   "cell_type": "code",
   "execution_count": 27,
   "id": "7fa67d13-40f7-43df-b076-34fad0d2ae6a",
   "metadata": {
    "tags": [],
    "ExecuteTime": {
     "start_time": "2024-07-01T11:55:37.359122Z",
     "end_time": "2024-07-01T11:55:37.370645Z"
    }
   },
   "outputs": [
    {
     "data": {
      "text/plain": "(5257291, 25)"
     },
     "execution_count": 27,
     "metadata": {},
     "output_type": "execute_result"
    }
   ],
   "source": [
    "df_cancelled.shape"
   ]
  },
  {
   "cell_type": "code",
   "execution_count": 28,
   "id": "fb6efa54-eb8e-4978-ad12-4720fcf23ace",
   "metadata": {
    "tags": [],
    "ExecuteTime": {
     "start_time": "2024-07-01T11:55:37.365569Z",
     "end_time": "2024-07-01T11:55:37.541314Z"
    }
   },
   "outputs": [
    {
     "data": {
      "text/plain": "(524407, 25)"
     },
     "execution_count": 28,
     "metadata": {},
     "output_type": "execute_result"
    }
   ],
   "source": [
    "df_cancelled[df_cancelled[\"trip_miles\"]== 0].shape"
   ]
  },
  {
   "cell_type": "markdown",
   "id": "e96197c5-6380-4bdc-8f17-80a1762ed278",
   "metadata": {},
   "source": []
  },
  {
   "cell_type": "code",
   "execution_count": 28,
   "id": "a0eb312e-6fda-42e1-aa62-63b9570f1a09",
   "metadata": {
    "ExecuteTime": {
     "start_time": "2024-07-01T11:55:41.742832Z",
     "end_time": "2024-07-01T11:55:41.747079Z"
    }
   },
   "outputs": [],
   "source": []
  },
  {
   "cell_type": "markdown",
   "id": "785ae31a-6702-4030-aa0a-3445e3598a6c",
   "metadata": {
    "tags": []
   },
   "source": [
    "#### 1.2.4 Merging Census Data"
   ]
  },
  {
   "cell_type": "code",
   "execution_count": 29,
   "id": "f31b48f4-aa98-49fb-9989-062a07ab44b1",
   "metadata": {
    "tags": [],
    "ExecuteTime": {
     "start_time": "2024-07-01T11:55:45.650468Z",
     "end_time": "2024-07-01T11:55:46.645352Z"
    }
   },
   "outputs": [],
   "source": [
    "# Import prepped dfs\n",
    "community_df = gp.read_file(\"data/prepped/community_df.geojson\")\n",
    "census_df = gp.read_file(\"data/prepped/census_tracts_df.geojson\")"
   ]
  },
  {
   "cell_type": "code",
   "execution_count": 30,
   "id": "8773249d-ce7c-4aa7-a617-72f9bfb94579",
   "metadata": {
    "tags": [],
    "ExecuteTime": {
     "start_time": "2024-07-01T11:55:50.701039Z",
     "end_time": "2024-07-01T11:55:50.707425Z"
    }
   },
   "outputs": [
    {
     "data": {
      "text/plain": "         community area_number  \\\n0          DOUGLAS          35   \n1          OAKLAND          36   \n2      FULLER PARK          37   \n3  GRAND BOULEVARD          38   \n4          KENWOOD          39   \n\n                                            geometry  \n0  MULTIPOLYGON (((-87.60914 41.84469, -87.60915 ...  \n1  MULTIPOLYGON (((-87.59215 41.81693, -87.59231 ...  \n2  MULTIPOLYGON (((-87.62880 41.80189, -87.62879 ...  \n3  MULTIPOLYGON (((-87.60671 41.81681, -87.60670 ...  \n4  MULTIPOLYGON (((-87.59215 41.81693, -87.59215 ...  ",
      "text/html": "<div>\n<style scoped>\n    .dataframe tbody tr th:only-of-type {\n        vertical-align: middle;\n    }\n\n    .dataframe tbody tr th {\n        vertical-align: top;\n    }\n\n    .dataframe thead th {\n        text-align: right;\n    }\n</style>\n<table border=\"1\" class=\"dataframe\">\n  <thead>\n    <tr style=\"text-align: right;\">\n      <th></th>\n      <th>community</th>\n      <th>area_number</th>\n      <th>geometry</th>\n    </tr>\n  </thead>\n  <tbody>\n    <tr>\n      <th>0</th>\n      <td>DOUGLAS</td>\n      <td>35</td>\n      <td>MULTIPOLYGON (((-87.60914 41.84469, -87.60915 ...</td>\n    </tr>\n    <tr>\n      <th>1</th>\n      <td>OAKLAND</td>\n      <td>36</td>\n      <td>MULTIPOLYGON (((-87.59215 41.81693, -87.59231 ...</td>\n    </tr>\n    <tr>\n      <th>2</th>\n      <td>FULLER PARK</td>\n      <td>37</td>\n      <td>MULTIPOLYGON (((-87.62880 41.80189, -87.62879 ...</td>\n    </tr>\n    <tr>\n      <th>3</th>\n      <td>GRAND BOULEVARD</td>\n      <td>38</td>\n      <td>MULTIPOLYGON (((-87.60671 41.81681, -87.60670 ...</td>\n    </tr>\n    <tr>\n      <th>4</th>\n      <td>KENWOOD</td>\n      <td>39</td>\n      <td>MULTIPOLYGON (((-87.59215 41.81693, -87.59215 ...</td>\n    </tr>\n  </tbody>\n</table>\n</div>"
     },
     "execution_count": 30,
     "metadata": {},
     "output_type": "execute_result"
    }
   ],
   "source": [
    "community_df.head()"
   ]
  },
  {
   "cell_type": "code",
   "execution_count": 31,
   "id": "87c07be2-a309-4270-9370-4b47b812b05d",
   "metadata": {
    "tags": [],
    "ExecuteTime": {
     "start_time": "2024-07-01T11:55:54.996242Z",
     "end_time": "2024-07-01T11:56:44.558016Z"
    }
   },
   "outputs": [],
   "source": [
    "def merge_geodata(df, lat_col, lon_col, community_col, area_number_col, prefix):\n",
    "    gdf = gp.GeoDataFrame(df, geometry=gp.points_from_xy(df[lon_col], df[lat_col]))\n",
    "    gdf = gdf.rename_geometry(f\"{prefix}_geometry\")\n",
    "    \n",
    "    gdf.set_crs(epsg=4326, inplace=True)\n",
    "    community_df.to_crs(epsg=4326, inplace=True)\n",
    "\n",
    "    # Perform the spatial join\n",
    "    merged_gdf = gp.sjoin(gdf, community_df, how=\"left\", predicate=\"within\")\n",
    "\n",
    "    # Drop unnecessary columns\n",
    "    merged_gdf = merged_gdf.drop([f\"{prefix}_geometry\", \"index_right\"], axis=1)\n",
    "\n",
    "    # Rename columns\n",
    "    merged_gdf = merged_gdf.rename(columns={\n",
    "        community_col: f\"{prefix}_community\",\n",
    "        area_number_col: f\"{prefix}_area_number\"\n",
    "    })\n",
    "\n",
    "    return pd.DataFrame(merged_gdf)\n",
    "\n",
    "# Merge for pickup\n",
    "merged_pickup_df = merge_geodata(df_cancelled, 'pickup_centroid_latitude', 'pickup_centroid_longitude', 'community', 'area_number', 'pickup')\n",
    "# Merge for dropoff\n",
    "merged_dropoff_df = merge_geodata(merged_pickup_df, 'dropoff_centroid_latitude', 'dropoff_centroid_longitude', 'community', 'area_number', 'dropoff')"
   ]
  },
  {
   "cell_type": "code",
   "execution_count": 32,
   "id": "995aadf3-add5-4530-89b3-936c942954c2",
   "metadata": {
    "tags": [],
    "ExecuteTime": {
     "start_time": "2024-07-01T11:56:52.507628Z",
     "end_time": "2024-07-01T11:56:54.578376Z"
    }
   },
   "outputs": [
    {
     "data": {
      "text/plain": "                                          trip_id  \\\n0        4404c6835b9e74e9f74d70f235200a8ce09db14a   \n1        466473fd2a196ebe92fb2983cb7e8af32e39aa1f   \n2        3f5cd3f78e5cab455606a31372a95d3204b2fb3f   \n3        38292159642750da7b20419330566f9eb0961cde   \n4        3e01498f8ff771ad7eb37e4844cef20201b6c339   \n...                                           ...   \n6382420  54d812a0b88f8f9707825261014b3563a0a60ace   \n6382421  7125b9e03a0f16c2dfb5eaf73ed057dc51eb68ef   \n6382422  52d1bd00d97eaed338bd98faf80c5709e22fef3d   \n6382423  0f0c856e620e6b4dfd2bb1e921d966dd179eeca1   \n6382424  50719da0933d6056acca25c91c253012288c70c6   \n\n                                                   taxi_id  \\\n0        7e179f8ef66ae99ec2d1ec89224e0b7ee5469fe5627f6d...   \n1        d1d88b89ceb6d753007b6e795e3c24f4bea905a51e9d47...   \n2        847cf962bd6f62040673e6c24c24940aeb2d7fdaa54677...   \n3        81092e4881f56106fae845c3ae4492f8b3c3213c33c920...   \n4        4ae32e2eb244ce143800e0c40055e537cc50e3358a07ce...   \n...                                                    ...   \n6382420  f98ae5e71fdda8806710af321dce58002146886c013f41...   \n6382421  8eca35a570101ad24c638f1f43eecce9d0cb7843e13a75...   \n6382422  b5e2695a2f44b9bce7a0a86148ac418802f0067be1f6d4...   \n6382423  b21050ab3ad3d0972fd6378f6bf4d0251a8a7af42e6e0e...   \n6382424  d9293712880e8a69bed187b718a3f5ef512c5263984006...   \n\n        trip_start_timestamp  trip_end_timestamp  trip_seconds  trip_miles  \\\n0        2022-12-31 23:45:00 2023-01-01 00:15:00        2081.0        4.42   \n1        2022-12-31 23:45:00 2023-01-01 00:00:00         812.0        0.00   \n2        2022-12-31 23:45:00 2023-01-01 00:00:00         600.0        0.90   \n3        2022-12-31 23:45:00 2023-01-01 00:00:00         546.0        0.85   \n4        2022-12-31 23:45:00 2023-01-01 00:00:00         574.0        0.33   \n...                      ...                 ...           ...         ...   \n6382420  2022-01-01 00:00:00 2022-01-01 00:00:00         536.0        4.83   \n6382421  2022-01-01 00:00:00 2022-01-01 00:15:00         897.0        2.07   \n6382422  2022-01-01 00:00:00 2022-01-01 00:00:00         598.0        6.64   \n6382423  2022-01-01 00:00:00 2022-01-01 00:00:00          33.0        0.17   \n6382424  2022-01-01 00:00:00 2022-01-01 00:00:00         501.0        0.65   \n\n         pickup_census_tract  dropoff_census_tract  pickup_community_area  \\\n0                        NaN                   NaN                    2.0   \n1                        NaN                   NaN                    8.0   \n2                        NaN                   NaN                    8.0   \n3                        NaN                   NaN                    8.0   \n4                        NaN                   NaN                    8.0   \n...                      ...                   ...                    ...   \n6382420                  NaN                   NaN                   28.0   \n6382421                  NaN                   NaN                    8.0   \n6382422                  NaN                   NaN                    8.0   \n6382423                  NaN                   NaN                    3.0   \n6382424                  NaN                   NaN                    8.0   \n\n         dropoff_community_area  ...             pickup_centroid_location  \\\n0                           3.0  ...  POINT (-87.6950125892 42.001571027)   \n1                          24.0  ...  POINT (-87.6333080367 41.899602111)   \n2                           8.0  ...  POINT (-87.6333080367 41.899602111)   \n3                           8.0  ...  POINT (-87.6333080367 41.899602111)   \n4                           8.0  ...  POINT (-87.6333080367 41.899602111)   \n...                         ...  ...                                  ...   \n6382420                    22.0  ...  POINT (-87.6635175498 41.874005383)   \n6382421                    32.0  ...  POINT (-87.6333080367 41.899602111)   \n6382422                    77.0  ...  POINT (-87.6333080367 41.899602111)   \n6382423                     3.0  ...   POINT (-87.6558787862 41.96581197)   \n6382424                     8.0  ...  POINT (-87.6333080367 41.899602111)   \n\n         dropoff_centroid_latitude  dropoff_centroid_longitude  \\\n0                        41.965812                  -87.655879   \n1                        41.901207                  -87.676356   \n2                        41.899602                  -87.633308   \n3                        41.899602                  -87.633308   \n4                        41.899602                  -87.633308   \n...                            ...                         ...   \n6382420                  41.922761                  -87.699155   \n6382421                  41.878866                  -87.625192   \n6382422                  41.986712                  -87.663416   \n6382423                  41.965812                  -87.655879   \n6382424                  41.899602                  -87.633308   \n\n                    dropoff_centroid_location  trip_hours        mph  \\\n0          POINT (-87.6558787862 41.96581197)    0.578056   7.646324   \n1        POINT (-87.6763559892 41.9012069941)    0.225556   0.000000   \n2         POINT (-87.6333080367 41.899602111)    0.166667   5.400000   \n3         POINT (-87.6333080367 41.899602111)    0.151667   5.604396   \n4         POINT (-87.6333080367 41.899602111)    0.159444   2.069686   \n...                                       ...         ...        ...   \n6382420  POINT (-87.6991553432 41.9227606205)    0.148889  32.440299   \n6382421  POINT (-87.6251921424 41.8788655841)    0.249167   8.307692   \n6382422  POINT (-87.6634164054 41.9867117999)    0.166111  39.973244   \n6382423    POINT (-87.6558787862 41.96581197)    0.009167  18.545455   \n6382424   POINT (-87.6333080367 41.899602111)    0.139167   4.670659   \n\n        pickup_community  pickup_area_number  dropoff_community  \\\n0             WEST RIDGE                   2             UPTOWN   \n1        NEAR NORTH SIDE                   8          WEST TOWN   \n2        NEAR NORTH SIDE                   8    NEAR NORTH SIDE   \n3        NEAR NORTH SIDE                   8    NEAR NORTH SIDE   \n4        NEAR NORTH SIDE                   8    NEAR NORTH SIDE   \n...                  ...                 ...                ...   \n6382420   NEAR WEST SIDE                  28       LOGAN SQUARE   \n6382421  NEAR NORTH SIDE                   8               LOOP   \n6382422  NEAR NORTH SIDE                   8          EDGEWATER   \n6382423           UPTOWN                   3             UPTOWN   \n6382424  NEAR NORTH SIDE                   8    NEAR NORTH SIDE   \n\n        dropoff_area_number  \n0                         3  \n1                        24  \n2                         8  \n3                         8  \n4                         8  \n...                     ...  \n6382420                  22  \n6382421                  32  \n6382422                  77  \n6382423                   3  \n6382424                   8  \n\n[5257291 rows x 29 columns]",
      "text/html": "<div>\n<style scoped>\n    .dataframe tbody tr th:only-of-type {\n        vertical-align: middle;\n    }\n\n    .dataframe tbody tr th {\n        vertical-align: top;\n    }\n\n    .dataframe thead th {\n        text-align: right;\n    }\n</style>\n<table border=\"1\" class=\"dataframe\">\n  <thead>\n    <tr style=\"text-align: right;\">\n      <th></th>\n      <th>trip_id</th>\n      <th>taxi_id</th>\n      <th>trip_start_timestamp</th>\n      <th>trip_end_timestamp</th>\n      <th>trip_seconds</th>\n      <th>trip_miles</th>\n      <th>pickup_census_tract</th>\n      <th>dropoff_census_tract</th>\n      <th>pickup_community_area</th>\n      <th>dropoff_community_area</th>\n      <th>...</th>\n      <th>pickup_centroid_location</th>\n      <th>dropoff_centroid_latitude</th>\n      <th>dropoff_centroid_longitude</th>\n      <th>dropoff_centroid_location</th>\n      <th>trip_hours</th>\n      <th>mph</th>\n      <th>pickup_community</th>\n      <th>pickup_area_number</th>\n      <th>dropoff_community</th>\n      <th>dropoff_area_number</th>\n    </tr>\n  </thead>\n  <tbody>\n    <tr>\n      <th>0</th>\n      <td>4404c6835b9e74e9f74d70f235200a8ce09db14a</td>\n      <td>7e179f8ef66ae99ec2d1ec89224e0b7ee5469fe5627f6d...</td>\n      <td>2022-12-31 23:45:00</td>\n      <td>2023-01-01 00:15:00</td>\n      <td>2081.0</td>\n      <td>4.42</td>\n      <td>NaN</td>\n      <td>NaN</td>\n      <td>2.0</td>\n      <td>3.0</td>\n      <td>...</td>\n      <td>POINT (-87.6950125892 42.001571027)</td>\n      <td>41.965812</td>\n      <td>-87.655879</td>\n      <td>POINT (-87.6558787862 41.96581197)</td>\n      <td>0.578056</td>\n      <td>7.646324</td>\n      <td>WEST RIDGE</td>\n      <td>2</td>\n      <td>UPTOWN</td>\n      <td>3</td>\n    </tr>\n    <tr>\n      <th>1</th>\n      <td>466473fd2a196ebe92fb2983cb7e8af32e39aa1f</td>\n      <td>d1d88b89ceb6d753007b6e795e3c24f4bea905a51e9d47...</td>\n      <td>2022-12-31 23:45:00</td>\n      <td>2023-01-01 00:00:00</td>\n      <td>812.0</td>\n      <td>0.00</td>\n      <td>NaN</td>\n      <td>NaN</td>\n      <td>8.0</td>\n      <td>24.0</td>\n      <td>...</td>\n      <td>POINT (-87.6333080367 41.899602111)</td>\n      <td>41.901207</td>\n      <td>-87.676356</td>\n      <td>POINT (-87.6763559892 41.9012069941)</td>\n      <td>0.225556</td>\n      <td>0.000000</td>\n      <td>NEAR NORTH SIDE</td>\n      <td>8</td>\n      <td>WEST TOWN</td>\n      <td>24</td>\n    </tr>\n    <tr>\n      <th>2</th>\n      <td>3f5cd3f78e5cab455606a31372a95d3204b2fb3f</td>\n      <td>847cf962bd6f62040673e6c24c24940aeb2d7fdaa54677...</td>\n      <td>2022-12-31 23:45:00</td>\n      <td>2023-01-01 00:00:00</td>\n      <td>600.0</td>\n      <td>0.90</td>\n      <td>NaN</td>\n      <td>NaN</td>\n      <td>8.0</td>\n      <td>8.0</td>\n      <td>...</td>\n      <td>POINT (-87.6333080367 41.899602111)</td>\n      <td>41.899602</td>\n      <td>-87.633308</td>\n      <td>POINT (-87.6333080367 41.899602111)</td>\n      <td>0.166667</td>\n      <td>5.400000</td>\n      <td>NEAR NORTH SIDE</td>\n      <td>8</td>\n      <td>NEAR NORTH SIDE</td>\n      <td>8</td>\n    </tr>\n    <tr>\n      <th>3</th>\n      <td>38292159642750da7b20419330566f9eb0961cde</td>\n      <td>81092e4881f56106fae845c3ae4492f8b3c3213c33c920...</td>\n      <td>2022-12-31 23:45:00</td>\n      <td>2023-01-01 00:00:00</td>\n      <td>546.0</td>\n      <td>0.85</td>\n      <td>NaN</td>\n      <td>NaN</td>\n      <td>8.0</td>\n      <td>8.0</td>\n      <td>...</td>\n      <td>POINT (-87.6333080367 41.899602111)</td>\n      <td>41.899602</td>\n      <td>-87.633308</td>\n      <td>POINT (-87.6333080367 41.899602111)</td>\n      <td>0.151667</td>\n      <td>5.604396</td>\n      <td>NEAR NORTH SIDE</td>\n      <td>8</td>\n      <td>NEAR NORTH SIDE</td>\n      <td>8</td>\n    </tr>\n    <tr>\n      <th>4</th>\n      <td>3e01498f8ff771ad7eb37e4844cef20201b6c339</td>\n      <td>4ae32e2eb244ce143800e0c40055e537cc50e3358a07ce...</td>\n      <td>2022-12-31 23:45:00</td>\n      <td>2023-01-01 00:00:00</td>\n      <td>574.0</td>\n      <td>0.33</td>\n      <td>NaN</td>\n      <td>NaN</td>\n      <td>8.0</td>\n      <td>8.0</td>\n      <td>...</td>\n      <td>POINT (-87.6333080367 41.899602111)</td>\n      <td>41.899602</td>\n      <td>-87.633308</td>\n      <td>POINT (-87.6333080367 41.899602111)</td>\n      <td>0.159444</td>\n      <td>2.069686</td>\n      <td>NEAR NORTH SIDE</td>\n      <td>8</td>\n      <td>NEAR NORTH SIDE</td>\n      <td>8</td>\n    </tr>\n    <tr>\n      <th>...</th>\n      <td>...</td>\n      <td>...</td>\n      <td>...</td>\n      <td>...</td>\n      <td>...</td>\n      <td>...</td>\n      <td>...</td>\n      <td>...</td>\n      <td>...</td>\n      <td>...</td>\n      <td>...</td>\n      <td>...</td>\n      <td>...</td>\n      <td>...</td>\n      <td>...</td>\n      <td>...</td>\n      <td>...</td>\n      <td>...</td>\n      <td>...</td>\n      <td>...</td>\n      <td>...</td>\n    </tr>\n    <tr>\n      <th>6382420</th>\n      <td>54d812a0b88f8f9707825261014b3563a0a60ace</td>\n      <td>f98ae5e71fdda8806710af321dce58002146886c013f41...</td>\n      <td>2022-01-01 00:00:00</td>\n      <td>2022-01-01 00:00:00</td>\n      <td>536.0</td>\n      <td>4.83</td>\n      <td>NaN</td>\n      <td>NaN</td>\n      <td>28.0</td>\n      <td>22.0</td>\n      <td>...</td>\n      <td>POINT (-87.6635175498 41.874005383)</td>\n      <td>41.922761</td>\n      <td>-87.699155</td>\n      <td>POINT (-87.6991553432 41.9227606205)</td>\n      <td>0.148889</td>\n      <td>32.440299</td>\n      <td>NEAR WEST SIDE</td>\n      <td>28</td>\n      <td>LOGAN SQUARE</td>\n      <td>22</td>\n    </tr>\n    <tr>\n      <th>6382421</th>\n      <td>7125b9e03a0f16c2dfb5eaf73ed057dc51eb68ef</td>\n      <td>8eca35a570101ad24c638f1f43eecce9d0cb7843e13a75...</td>\n      <td>2022-01-01 00:00:00</td>\n      <td>2022-01-01 00:15:00</td>\n      <td>897.0</td>\n      <td>2.07</td>\n      <td>NaN</td>\n      <td>NaN</td>\n      <td>8.0</td>\n      <td>32.0</td>\n      <td>...</td>\n      <td>POINT (-87.6333080367 41.899602111)</td>\n      <td>41.878866</td>\n      <td>-87.625192</td>\n      <td>POINT (-87.6251921424 41.8788655841)</td>\n      <td>0.249167</td>\n      <td>8.307692</td>\n      <td>NEAR NORTH SIDE</td>\n      <td>8</td>\n      <td>LOOP</td>\n      <td>32</td>\n    </tr>\n    <tr>\n      <th>6382422</th>\n      <td>52d1bd00d97eaed338bd98faf80c5709e22fef3d</td>\n      <td>b5e2695a2f44b9bce7a0a86148ac418802f0067be1f6d4...</td>\n      <td>2022-01-01 00:00:00</td>\n      <td>2022-01-01 00:00:00</td>\n      <td>598.0</td>\n      <td>6.64</td>\n      <td>NaN</td>\n      <td>NaN</td>\n      <td>8.0</td>\n      <td>77.0</td>\n      <td>...</td>\n      <td>POINT (-87.6333080367 41.899602111)</td>\n      <td>41.986712</td>\n      <td>-87.663416</td>\n      <td>POINT (-87.6634164054 41.9867117999)</td>\n      <td>0.166111</td>\n      <td>39.973244</td>\n      <td>NEAR NORTH SIDE</td>\n      <td>8</td>\n      <td>EDGEWATER</td>\n      <td>77</td>\n    </tr>\n    <tr>\n      <th>6382423</th>\n      <td>0f0c856e620e6b4dfd2bb1e921d966dd179eeca1</td>\n      <td>b21050ab3ad3d0972fd6378f6bf4d0251a8a7af42e6e0e...</td>\n      <td>2022-01-01 00:00:00</td>\n      <td>2022-01-01 00:00:00</td>\n      <td>33.0</td>\n      <td>0.17</td>\n      <td>NaN</td>\n      <td>NaN</td>\n      <td>3.0</td>\n      <td>3.0</td>\n      <td>...</td>\n      <td>POINT (-87.6558787862 41.96581197)</td>\n      <td>41.965812</td>\n      <td>-87.655879</td>\n      <td>POINT (-87.6558787862 41.96581197)</td>\n      <td>0.009167</td>\n      <td>18.545455</td>\n      <td>UPTOWN</td>\n      <td>3</td>\n      <td>UPTOWN</td>\n      <td>3</td>\n    </tr>\n    <tr>\n      <th>6382424</th>\n      <td>50719da0933d6056acca25c91c253012288c70c6</td>\n      <td>d9293712880e8a69bed187b718a3f5ef512c5263984006...</td>\n      <td>2022-01-01 00:00:00</td>\n      <td>2022-01-01 00:00:00</td>\n      <td>501.0</td>\n      <td>0.65</td>\n      <td>NaN</td>\n      <td>NaN</td>\n      <td>8.0</td>\n      <td>8.0</td>\n      <td>...</td>\n      <td>POINT (-87.6333080367 41.899602111)</td>\n      <td>41.899602</td>\n      <td>-87.633308</td>\n      <td>POINT (-87.6333080367 41.899602111)</td>\n      <td>0.139167</td>\n      <td>4.670659</td>\n      <td>NEAR NORTH SIDE</td>\n      <td>8</td>\n      <td>NEAR NORTH SIDE</td>\n      <td>8</td>\n    </tr>\n  </tbody>\n</table>\n<p>5257291 rows × 29 columns</p>\n</div>"
     },
     "execution_count": 32,
     "metadata": {},
     "output_type": "execute_result"
    }
   ],
   "source": [
    "merged_dropoff_df"
   ]
  },
  {
   "cell_type": "code",
   "execution_count": 33,
   "id": "40582c5e-8af6-4ce4-af49-779526fb89cf",
   "metadata": {
    "tags": [],
    "ExecuteTime": {
     "start_time": "2024-07-01T11:58:15.410646Z",
     "end_time": "2024-07-01T11:58:15.421194Z"
    }
   },
   "outputs": [
    {
     "data": {
      "text/plain": "(5257291, 29)"
     },
     "execution_count": 33,
     "metadata": {},
     "output_type": "execute_result"
    }
   ],
   "source": [
    "merged_dropoff_df.shape"
   ]
  },
  {
   "cell_type": "code",
   "execution_count": 35,
   "id": "a76a32da-8a81-490d-a68e-cfebd5f93281",
   "metadata": {
    "ExecuteTime": {
     "start_time": "2024-07-01T12:01:18.522414Z",
     "end_time": "2024-07-01T12:01:20.092301Z"
    }
   },
   "outputs": [
    {
     "data": {
      "text/plain": "trip_id                             0\ntaxi_id                             1\ntrip_start_timestamp                0\ntrip_end_timestamp                  0\ntrip_seconds                        0\ntrip_miles                          0\npickup_census_tract           2841436\ndropoff_census_tract          2841436\npickup_community_area            1365\ndropoff_community_area          33496\nfare                                0\ntips                                0\ntolls                               0\nextras                              0\ntrip_total                          0\npayment_type                        0\ncompany                             0\npickup_centroid_latitude          283\npickup_centroid_longitude         283\npickup_centroid_location          283\ndropoff_centroid_latitude        5157\ndropoff_centroid_longitude       5157\ndropoff_centroid_location        5157\ntrip_hours                          0\nmph                                 0\npickup_community                  288\npickup_area_number                288\ndropoff_community                5331\ndropoff_area_number              5331\ndtype: int64"
     },
     "execution_count": 35,
     "metadata": {},
     "output_type": "execute_result"
    }
   ],
   "source": [
    "merged_dropoff_df.isna().sum()"
   ]
  },
  {
   "cell_type": "code",
   "execution_count": 37,
   "id": "8aac44c7-d2ef-41af-8b7c-667cddc0ecdd",
   "metadata": {},
   "outputs": [],
   "source": [
    "## MERGE HERE --------------------"
   ]
  },
  {
   "cell_type": "code",
   "execution_count": 51,
   "id": "604787b1-c4ac-49e8-af44-bd5db303380a",
   "metadata": {
    "ExecuteTime": {
     "start_time": "2024-07-01T12:34:35.190709Z",
     "end_time": "2024-07-01T12:34:36.513866Z"
    }
   },
   "outputs": [],
   "source": [
    "condition = ~(merged_dropoff_df['pickup_area_number'].isna() | merged_dropoff_df['dropoff_area_number'].isna())\n",
    "\n",
    "df_merged = merged_dropoff_df[condition]"
   ]
  },
  {
   "cell_type": "code",
   "execution_count": 52,
   "outputs": [
    {
     "data": {
      "text/plain": "trip_id                             0\ntaxi_id                             1\ntrip_start_timestamp                0\ntrip_end_timestamp                  0\ntrip_seconds                        0\ntrip_miles                          0\npickup_census_tract           2841436\ndropoff_census_tract          2841436\npickup_community_area            1074\ndropoff_community_area          28335\nfare                                0\ntips                                0\ntolls                               0\nextras                              0\ntrip_total                          0\npayment_type                        0\ncompany                             0\npickup_centroid_latitude            0\npickup_centroid_longitude           0\npickup_centroid_location            0\ndropoff_centroid_latitude           0\ndropoff_centroid_longitude          0\ndropoff_centroid_location           0\ntrip_hours                          0\nmph                                 0\npickup_community                    0\npickup_area_number                  0\ndropoff_community                   0\ndropoff_area_number                 0\ndtype: int64"
     },
     "execution_count": 52,
     "metadata": {},
     "output_type": "execute_result"
    }
   ],
   "source": [
    "df_merged.isna().sum()"
   ],
   "metadata": {
    "collapsed": false,
    "ExecuteTime": {
     "start_time": "2024-07-01T12:34:44.657612Z",
     "end_time": "2024-07-01T12:34:46.091649Z"
    }
   }
  },
  {
   "cell_type": "code",
   "execution_count": 53,
   "outputs": [
    {
     "data": {
      "text/plain": "                                          trip_id  \\\n0        4404c6835b9e74e9f74d70f235200a8ce09db14a   \n1        466473fd2a196ebe92fb2983cb7e8af32e39aa1f   \n2        3f5cd3f78e5cab455606a31372a95d3204b2fb3f   \n3        38292159642750da7b20419330566f9eb0961cde   \n4        3e01498f8ff771ad7eb37e4844cef20201b6c339   \n...                                           ...   \n6382420  54d812a0b88f8f9707825261014b3563a0a60ace   \n6382421  7125b9e03a0f16c2dfb5eaf73ed057dc51eb68ef   \n6382422  52d1bd00d97eaed338bd98faf80c5709e22fef3d   \n6382423  0f0c856e620e6b4dfd2bb1e921d966dd179eeca1   \n6382424  50719da0933d6056acca25c91c253012288c70c6   \n\n                                                   taxi_id  \\\n0        7e179f8ef66ae99ec2d1ec89224e0b7ee5469fe5627f6d...   \n1        d1d88b89ceb6d753007b6e795e3c24f4bea905a51e9d47...   \n2        847cf962bd6f62040673e6c24c24940aeb2d7fdaa54677...   \n3        81092e4881f56106fae845c3ae4492f8b3c3213c33c920...   \n4        4ae32e2eb244ce143800e0c40055e537cc50e3358a07ce...   \n...                                                    ...   \n6382420  f98ae5e71fdda8806710af321dce58002146886c013f41...   \n6382421  8eca35a570101ad24c638f1f43eecce9d0cb7843e13a75...   \n6382422  b5e2695a2f44b9bce7a0a86148ac418802f0067be1f6d4...   \n6382423  b21050ab3ad3d0972fd6378f6bf4d0251a8a7af42e6e0e...   \n6382424  d9293712880e8a69bed187b718a3f5ef512c5263984006...   \n\n        trip_start_timestamp  trip_end_timestamp  trip_seconds  trip_miles  \\\n0        2022-12-31 23:45:00 2023-01-01 00:15:00        2081.0        4.42   \n1        2022-12-31 23:45:00 2023-01-01 00:00:00         812.0        0.00   \n2        2022-12-31 23:45:00 2023-01-01 00:00:00         600.0        0.90   \n3        2022-12-31 23:45:00 2023-01-01 00:00:00         546.0        0.85   \n4        2022-12-31 23:45:00 2023-01-01 00:00:00         574.0        0.33   \n...                      ...                 ...           ...         ...   \n6382420  2022-01-01 00:00:00 2022-01-01 00:00:00         536.0        4.83   \n6382421  2022-01-01 00:00:00 2022-01-01 00:15:00         897.0        2.07   \n6382422  2022-01-01 00:00:00 2022-01-01 00:00:00         598.0        6.64   \n6382423  2022-01-01 00:00:00 2022-01-01 00:00:00          33.0        0.17   \n6382424  2022-01-01 00:00:00 2022-01-01 00:00:00         501.0        0.65   \n\n         pickup_census_tract  dropoff_census_tract  pickup_community_area  \\\n0                        NaN                   NaN                    2.0   \n1                        NaN                   NaN                    8.0   \n2                        NaN                   NaN                    8.0   \n3                        NaN                   NaN                    8.0   \n4                        NaN                   NaN                    8.0   \n...                      ...                   ...                    ...   \n6382420                  NaN                   NaN                   28.0   \n6382421                  NaN                   NaN                    8.0   \n6382422                  NaN                   NaN                    8.0   \n6382423                  NaN                   NaN                    3.0   \n6382424                  NaN                   NaN                    8.0   \n\n         dropoff_community_area  ...             pickup_centroid_location  \\\n0                           3.0  ...  POINT (-87.6950125892 42.001571027)   \n1                          24.0  ...  POINT (-87.6333080367 41.899602111)   \n2                           8.0  ...  POINT (-87.6333080367 41.899602111)   \n3                           8.0  ...  POINT (-87.6333080367 41.899602111)   \n4                           8.0  ...  POINT (-87.6333080367 41.899602111)   \n...                         ...  ...                                  ...   \n6382420                    22.0  ...  POINT (-87.6635175498 41.874005383)   \n6382421                    32.0  ...  POINT (-87.6333080367 41.899602111)   \n6382422                    77.0  ...  POINT (-87.6333080367 41.899602111)   \n6382423                     3.0  ...   POINT (-87.6558787862 41.96581197)   \n6382424                     8.0  ...  POINT (-87.6333080367 41.899602111)   \n\n         dropoff_centroid_latitude  dropoff_centroid_longitude  \\\n0                        41.965812                  -87.655879   \n1                        41.901207                  -87.676356   \n2                        41.899602                  -87.633308   \n3                        41.899602                  -87.633308   \n4                        41.899602                  -87.633308   \n...                            ...                         ...   \n6382420                  41.922761                  -87.699155   \n6382421                  41.878866                  -87.625192   \n6382422                  41.986712                  -87.663416   \n6382423                  41.965812                  -87.655879   \n6382424                  41.899602                  -87.633308   \n\n                    dropoff_centroid_location  trip_hours        mph  \\\n0          POINT (-87.6558787862 41.96581197)    0.578056   7.646324   \n1        POINT (-87.6763559892 41.9012069941)    0.225556   0.000000   \n2         POINT (-87.6333080367 41.899602111)    0.166667   5.400000   \n3         POINT (-87.6333080367 41.899602111)    0.151667   5.604396   \n4         POINT (-87.6333080367 41.899602111)    0.159444   2.069686   \n...                                       ...         ...        ...   \n6382420  POINT (-87.6991553432 41.9227606205)    0.148889  32.440299   \n6382421  POINT (-87.6251921424 41.8788655841)    0.249167   8.307692   \n6382422  POINT (-87.6634164054 41.9867117999)    0.166111  39.973244   \n6382423    POINT (-87.6558787862 41.96581197)    0.009167  18.545455   \n6382424   POINT (-87.6333080367 41.899602111)    0.139167   4.670659   \n\n        pickup_community  pickup_area_number  dropoff_community  \\\n0             WEST RIDGE                   2             UPTOWN   \n1        NEAR NORTH SIDE                   8          WEST TOWN   \n2        NEAR NORTH SIDE                   8    NEAR NORTH SIDE   \n3        NEAR NORTH SIDE                   8    NEAR NORTH SIDE   \n4        NEAR NORTH SIDE                   8    NEAR NORTH SIDE   \n...                  ...                 ...                ...   \n6382420   NEAR WEST SIDE                  28       LOGAN SQUARE   \n6382421  NEAR NORTH SIDE                   8               LOOP   \n6382422  NEAR NORTH SIDE                   8          EDGEWATER   \n6382423           UPTOWN                   3             UPTOWN   \n6382424  NEAR NORTH SIDE                   8    NEAR NORTH SIDE   \n\n        dropoff_area_number  \n0                         3  \n1                        24  \n2                         8  \n3                         8  \n4                         8  \n...                     ...  \n6382420                  22  \n6382421                  32  \n6382422                  77  \n6382423                   3  \n6382424                   8  \n\n[5251900 rows x 29 columns]",
      "text/html": "<div>\n<style scoped>\n    .dataframe tbody tr th:only-of-type {\n        vertical-align: middle;\n    }\n\n    .dataframe tbody tr th {\n        vertical-align: top;\n    }\n\n    .dataframe thead th {\n        text-align: right;\n    }\n</style>\n<table border=\"1\" class=\"dataframe\">\n  <thead>\n    <tr style=\"text-align: right;\">\n      <th></th>\n      <th>trip_id</th>\n      <th>taxi_id</th>\n      <th>trip_start_timestamp</th>\n      <th>trip_end_timestamp</th>\n      <th>trip_seconds</th>\n      <th>trip_miles</th>\n      <th>pickup_census_tract</th>\n      <th>dropoff_census_tract</th>\n      <th>pickup_community_area</th>\n      <th>dropoff_community_area</th>\n      <th>...</th>\n      <th>pickup_centroid_location</th>\n      <th>dropoff_centroid_latitude</th>\n      <th>dropoff_centroid_longitude</th>\n      <th>dropoff_centroid_location</th>\n      <th>trip_hours</th>\n      <th>mph</th>\n      <th>pickup_community</th>\n      <th>pickup_area_number</th>\n      <th>dropoff_community</th>\n      <th>dropoff_area_number</th>\n    </tr>\n  </thead>\n  <tbody>\n    <tr>\n      <th>0</th>\n      <td>4404c6835b9e74e9f74d70f235200a8ce09db14a</td>\n      <td>7e179f8ef66ae99ec2d1ec89224e0b7ee5469fe5627f6d...</td>\n      <td>2022-12-31 23:45:00</td>\n      <td>2023-01-01 00:15:00</td>\n      <td>2081.0</td>\n      <td>4.42</td>\n      <td>NaN</td>\n      <td>NaN</td>\n      <td>2.0</td>\n      <td>3.0</td>\n      <td>...</td>\n      <td>POINT (-87.6950125892 42.001571027)</td>\n      <td>41.965812</td>\n      <td>-87.655879</td>\n      <td>POINT (-87.6558787862 41.96581197)</td>\n      <td>0.578056</td>\n      <td>7.646324</td>\n      <td>WEST RIDGE</td>\n      <td>2</td>\n      <td>UPTOWN</td>\n      <td>3</td>\n    </tr>\n    <tr>\n      <th>1</th>\n      <td>466473fd2a196ebe92fb2983cb7e8af32e39aa1f</td>\n      <td>d1d88b89ceb6d753007b6e795e3c24f4bea905a51e9d47...</td>\n      <td>2022-12-31 23:45:00</td>\n      <td>2023-01-01 00:00:00</td>\n      <td>812.0</td>\n      <td>0.00</td>\n      <td>NaN</td>\n      <td>NaN</td>\n      <td>8.0</td>\n      <td>24.0</td>\n      <td>...</td>\n      <td>POINT (-87.6333080367 41.899602111)</td>\n      <td>41.901207</td>\n      <td>-87.676356</td>\n      <td>POINT (-87.6763559892 41.9012069941)</td>\n      <td>0.225556</td>\n      <td>0.000000</td>\n      <td>NEAR NORTH SIDE</td>\n      <td>8</td>\n      <td>WEST TOWN</td>\n      <td>24</td>\n    </tr>\n    <tr>\n      <th>2</th>\n      <td>3f5cd3f78e5cab455606a31372a95d3204b2fb3f</td>\n      <td>847cf962bd6f62040673e6c24c24940aeb2d7fdaa54677...</td>\n      <td>2022-12-31 23:45:00</td>\n      <td>2023-01-01 00:00:00</td>\n      <td>600.0</td>\n      <td>0.90</td>\n      <td>NaN</td>\n      <td>NaN</td>\n      <td>8.0</td>\n      <td>8.0</td>\n      <td>...</td>\n      <td>POINT (-87.6333080367 41.899602111)</td>\n      <td>41.899602</td>\n      <td>-87.633308</td>\n      <td>POINT (-87.6333080367 41.899602111)</td>\n      <td>0.166667</td>\n      <td>5.400000</td>\n      <td>NEAR NORTH SIDE</td>\n      <td>8</td>\n      <td>NEAR NORTH SIDE</td>\n      <td>8</td>\n    </tr>\n    <tr>\n      <th>3</th>\n      <td>38292159642750da7b20419330566f9eb0961cde</td>\n      <td>81092e4881f56106fae845c3ae4492f8b3c3213c33c920...</td>\n      <td>2022-12-31 23:45:00</td>\n      <td>2023-01-01 00:00:00</td>\n      <td>546.0</td>\n      <td>0.85</td>\n      <td>NaN</td>\n      <td>NaN</td>\n      <td>8.0</td>\n      <td>8.0</td>\n      <td>...</td>\n      <td>POINT (-87.6333080367 41.899602111)</td>\n      <td>41.899602</td>\n      <td>-87.633308</td>\n      <td>POINT (-87.6333080367 41.899602111)</td>\n      <td>0.151667</td>\n      <td>5.604396</td>\n      <td>NEAR NORTH SIDE</td>\n      <td>8</td>\n      <td>NEAR NORTH SIDE</td>\n      <td>8</td>\n    </tr>\n    <tr>\n      <th>4</th>\n      <td>3e01498f8ff771ad7eb37e4844cef20201b6c339</td>\n      <td>4ae32e2eb244ce143800e0c40055e537cc50e3358a07ce...</td>\n      <td>2022-12-31 23:45:00</td>\n      <td>2023-01-01 00:00:00</td>\n      <td>574.0</td>\n      <td>0.33</td>\n      <td>NaN</td>\n      <td>NaN</td>\n      <td>8.0</td>\n      <td>8.0</td>\n      <td>...</td>\n      <td>POINT (-87.6333080367 41.899602111)</td>\n      <td>41.899602</td>\n      <td>-87.633308</td>\n      <td>POINT (-87.6333080367 41.899602111)</td>\n      <td>0.159444</td>\n      <td>2.069686</td>\n      <td>NEAR NORTH SIDE</td>\n      <td>8</td>\n      <td>NEAR NORTH SIDE</td>\n      <td>8</td>\n    </tr>\n    <tr>\n      <th>...</th>\n      <td>...</td>\n      <td>...</td>\n      <td>...</td>\n      <td>...</td>\n      <td>...</td>\n      <td>...</td>\n      <td>...</td>\n      <td>...</td>\n      <td>...</td>\n      <td>...</td>\n      <td>...</td>\n      <td>...</td>\n      <td>...</td>\n      <td>...</td>\n      <td>...</td>\n      <td>...</td>\n      <td>...</td>\n      <td>...</td>\n      <td>...</td>\n      <td>...</td>\n      <td>...</td>\n    </tr>\n    <tr>\n      <th>6382420</th>\n      <td>54d812a0b88f8f9707825261014b3563a0a60ace</td>\n      <td>f98ae5e71fdda8806710af321dce58002146886c013f41...</td>\n      <td>2022-01-01 00:00:00</td>\n      <td>2022-01-01 00:00:00</td>\n      <td>536.0</td>\n      <td>4.83</td>\n      <td>NaN</td>\n      <td>NaN</td>\n      <td>28.0</td>\n      <td>22.0</td>\n      <td>...</td>\n      <td>POINT (-87.6635175498 41.874005383)</td>\n      <td>41.922761</td>\n      <td>-87.699155</td>\n      <td>POINT (-87.6991553432 41.9227606205)</td>\n      <td>0.148889</td>\n      <td>32.440299</td>\n      <td>NEAR WEST SIDE</td>\n      <td>28</td>\n      <td>LOGAN SQUARE</td>\n      <td>22</td>\n    </tr>\n    <tr>\n      <th>6382421</th>\n      <td>7125b9e03a0f16c2dfb5eaf73ed057dc51eb68ef</td>\n      <td>8eca35a570101ad24c638f1f43eecce9d0cb7843e13a75...</td>\n      <td>2022-01-01 00:00:00</td>\n      <td>2022-01-01 00:15:00</td>\n      <td>897.0</td>\n      <td>2.07</td>\n      <td>NaN</td>\n      <td>NaN</td>\n      <td>8.0</td>\n      <td>32.0</td>\n      <td>...</td>\n      <td>POINT (-87.6333080367 41.899602111)</td>\n      <td>41.878866</td>\n      <td>-87.625192</td>\n      <td>POINT (-87.6251921424 41.8788655841)</td>\n      <td>0.249167</td>\n      <td>8.307692</td>\n      <td>NEAR NORTH SIDE</td>\n      <td>8</td>\n      <td>LOOP</td>\n      <td>32</td>\n    </tr>\n    <tr>\n      <th>6382422</th>\n      <td>52d1bd00d97eaed338bd98faf80c5709e22fef3d</td>\n      <td>b5e2695a2f44b9bce7a0a86148ac418802f0067be1f6d4...</td>\n      <td>2022-01-01 00:00:00</td>\n      <td>2022-01-01 00:00:00</td>\n      <td>598.0</td>\n      <td>6.64</td>\n      <td>NaN</td>\n      <td>NaN</td>\n      <td>8.0</td>\n      <td>77.0</td>\n      <td>...</td>\n      <td>POINT (-87.6333080367 41.899602111)</td>\n      <td>41.986712</td>\n      <td>-87.663416</td>\n      <td>POINT (-87.6634164054 41.9867117999)</td>\n      <td>0.166111</td>\n      <td>39.973244</td>\n      <td>NEAR NORTH SIDE</td>\n      <td>8</td>\n      <td>EDGEWATER</td>\n      <td>77</td>\n    </tr>\n    <tr>\n      <th>6382423</th>\n      <td>0f0c856e620e6b4dfd2bb1e921d966dd179eeca1</td>\n      <td>b21050ab3ad3d0972fd6378f6bf4d0251a8a7af42e6e0e...</td>\n      <td>2022-01-01 00:00:00</td>\n      <td>2022-01-01 00:00:00</td>\n      <td>33.0</td>\n      <td>0.17</td>\n      <td>NaN</td>\n      <td>NaN</td>\n      <td>3.0</td>\n      <td>3.0</td>\n      <td>...</td>\n      <td>POINT (-87.6558787862 41.96581197)</td>\n      <td>41.965812</td>\n      <td>-87.655879</td>\n      <td>POINT (-87.6558787862 41.96581197)</td>\n      <td>0.009167</td>\n      <td>18.545455</td>\n      <td>UPTOWN</td>\n      <td>3</td>\n      <td>UPTOWN</td>\n      <td>3</td>\n    </tr>\n    <tr>\n      <th>6382424</th>\n      <td>50719da0933d6056acca25c91c253012288c70c6</td>\n      <td>d9293712880e8a69bed187b718a3f5ef512c5263984006...</td>\n      <td>2022-01-01 00:00:00</td>\n      <td>2022-01-01 00:00:00</td>\n      <td>501.0</td>\n      <td>0.65</td>\n      <td>NaN</td>\n      <td>NaN</td>\n      <td>8.0</td>\n      <td>8.0</td>\n      <td>...</td>\n      <td>POINT (-87.6333080367 41.899602111)</td>\n      <td>41.899602</td>\n      <td>-87.633308</td>\n      <td>POINT (-87.6333080367 41.899602111)</td>\n      <td>0.139167</td>\n      <td>4.670659</td>\n      <td>NEAR NORTH SIDE</td>\n      <td>8</td>\n      <td>NEAR NORTH SIDE</td>\n      <td>8</td>\n    </tr>\n  </tbody>\n</table>\n<p>5251900 rows × 29 columns</p>\n</div>"
     },
     "execution_count": 53,
     "metadata": {},
     "output_type": "execute_result"
    }
   ],
   "source": [
    "df_merged"
   ],
   "metadata": {
    "collapsed": false,
    "ExecuteTime": {
     "start_time": "2024-07-01T12:36:02.225218Z",
     "end_time": "2024-07-01T12:36:04.408683Z"
    }
   }
  },
  {
   "cell_type": "code",
   "execution_count": 38,
   "id": "d5651371-d4f1-4cd4-aa75-e69ac5d00e3b",
   "metadata": {},
   "outputs": [],
   "source": [
    "## MERGE END -----------"
   ]
  },
  {
   "cell_type": "code",
   "execution_count": 39,
   "id": "e7f0b230-6447-4965-9fbe-b9dc42377816",
   "metadata": {},
   "outputs": [],
   "source": [
    "## if merged add rest of function"
   ]
  },
  {
   "cell_type": "code",
   "execution_count": null,
   "id": "8e819230-5d66-425a-b1ab-ba1b199a6ac3",
   "metadata": {},
   "outputs": [],
   "source": []
  },
  {
   "cell_type": "code",
   "execution_count": 58,
   "id": "20ab46da-cba2-4b1d-8bd3-ccc0bf275bae",
   "metadata": {
    "ExecuteTime": {
     "start_time": "2024-07-01T12:44:30.589742Z",
     "end_time": "2024-07-01T12:44:31.936947Z"
    }
   },
   "outputs": [],
   "source": [
    "df_merged = df_merged.drop(['pickup_community_area', 'dropoff_community_area'], axis=1)"
   ]
  },
  {
   "cell_type": "code",
   "execution_count": 59,
   "id": "d22816e0-f9cf-44cd-a731-721f4264d527",
   "metadata": {
    "ExecuteTime": {
     "start_time": "2024-07-01T12:44:40.488041Z",
     "end_time": "2024-07-01T12:44:40.636170Z"
    }
   },
   "outputs": [
    {
     "data": {
      "text/plain": "trip_id                             0\ntaxi_id                             1\ntrip_start_timestamp                0\ntrip_end_timestamp                  0\ntrip_seconds                        0\ntrip_miles                          0\npickup_census_tract           2841436\ndropoff_census_tract          2841436\nfare                                0\ntips                                0\ntolls                               0\nextras                              0\ntrip_total                          0\npayment_type                        0\ncompany                             0\npickup_centroid_latitude            0\npickup_centroid_longitude           0\npickup_centroid_location            0\ndropoff_centroid_latitude           0\ndropoff_centroid_longitude          0\ndropoff_centroid_location           0\ntrip_hours                          0\nmph                                 0\npickup_community                    0\npickup_area_number                  0\ndropoff_community                   0\ndropoff_area_number                 0\ndtype: int64"
     },
     "execution_count": 59,
     "metadata": {},
     "output_type": "execute_result"
    }
   ],
   "source": [
    "df_merged.isna().sum()"
   ]
  },
  {
   "cell_type": "markdown",
   "id": "78571336-ba0c-4fe9-8217-b3ad9b3273fa",
   "metadata": {
    "tags": []
   },
   "source": [
    "### 1.3 Checking null values"
   ]
  },
  {
   "cell_type": "code",
   "execution_count": 63,
   "id": "ce3f1d21-c79b-4249-b915-dea204ba84f2",
   "metadata": {
    "tags": [],
    "ExecuteTime": {
     "start_time": "2024-07-01T12:47:45.912112Z",
     "end_time": "2024-07-01T12:47:47.582915Z"
    }
   },
   "outputs": [],
   "source": [
    "df_merged = df_merged.dropna(subset=['taxi_id'])"
   ]
  },
  {
   "cell_type": "code",
   "execution_count": 64,
   "outputs": [
    {
     "data": {
      "text/plain": "trip_id                             0\ntaxi_id                             0\ntrip_start_timestamp                0\ntrip_end_timestamp                  0\ntrip_seconds                        0\ntrip_miles                          0\npickup_census_tract           2841435\ndropoff_census_tract          2841435\nfare                                0\ntips                                0\ntolls                               0\nextras                              0\ntrip_total                          0\npayment_type                        0\ncompany                             0\npickup_centroid_latitude            0\npickup_centroid_longitude           0\npickup_centroid_location            0\ndropoff_centroid_latitude           0\ndropoff_centroid_longitude          0\ndropoff_centroid_location           0\ntrip_hours                          0\nmph                                 0\npickup_community                    0\npickup_area_number                  0\ndropoff_community                   0\ndropoff_area_number                 0\ndtype: int64"
     },
     "execution_count": 64,
     "metadata": {},
     "output_type": "execute_result"
    }
   ],
   "source": [
    "df_merged.isna().sum()"
   ],
   "metadata": {
    "collapsed": false,
    "ExecuteTime": {
     "start_time": "2024-07-01T12:48:05.146634Z",
     "end_time": "2024-07-01T12:48:05.295172Z"
    }
   }
  },
  {
   "cell_type": "markdown",
   "id": "a72c8041-f26f-4167-9085-bc4160f1c321",
   "metadata": {},
   "source": [
    "#### 1.3.1 Time null values"
   ]
  },
  {
   "cell_type": "code",
   "execution_count": null,
   "id": "e772d0cc-b4ef-4352-acb3-5207d1b177d4",
   "metadata": {},
   "outputs": [],
   "source": [
    "# If start and end time are the same then trip seconds would still "
   ]
  },
  {
   "cell_type": "code",
   "execution_count": null,
   "id": "22395abc-a63c-44a5-a44b-f965550ca7e7",
   "metadata": {
    "tags": []
   },
   "outputs": [],
   "source": [
    "# Drop entries where trip seconds are null and time is equal\n",
    "print(\"Entries where no trip seconds but start and end time are also equal \", len(df[df[\"trip_seconds\"].isna() & (df[\"trip_start_timestamp\"] ==  df[\"trip_end_timestamp\"])]))\n",
    "print(\"Entries where no trip seconds but start and end time different \", len(df[df[\"trip_seconds\"].isna() & (df[\"trip_start_timestamp\"] !=  df[\"trip_end_timestamp\"])]))"
   ]
  },
  {
   "cell_type": "code",
   "execution_count": null,
   "id": "f5f059cb-b79a-4ddf-8565-583b8c4531e7",
   "metadata": {
    "tags": []
   },
   "outputs": [],
   "source": [
    "# Drop where cannot be calculated:\n",
    "#df = df[~(df[\"trip_seconds\"].isna() & (df[\"trip_start_timestamp\"] ==  df[\"trip_end_timestamp\"]))]\n",
    "\n",
    "# Else calculate the trip seconds:\n",
    "# temp_trip = df[df[\"trip_seconds\"].isna() & (df[\"trip_start_timestamp\"] !=  df[\"trip_end_timestamp\"])].copy()\n",
    "# temp_trip[\"calculated_trip_seconds\"] = (temp_trip[\"trip_end_timestamp\"] - temp_trip[\"trip_start_timestamp\"]).dt.seconds\n",
    "# df[\"trip_seconds\"].fillna(temp_trip[\"calculated_trip_seconds\"], inplace=True)\n",
    "\n",
    "# df[\"trip_seconds\"].isna().sum()"
   ]
  },
  {
   "cell_type": "markdown",
   "id": "164865f1-9141-4678-b077-aaa4259cebc8",
   "metadata": {
    "tags": []
   },
   "source": [
    "#### Save Data"
   ]
  },
  {
   "cell_type": "code",
   "execution_count": 67,
   "outputs": [],
   "source": [
    "df_merged.to_csv('data/prepped/prep_taxidata.csv')"
   ],
   "metadata": {
    "collapsed": false,
    "ExecuteTime": {
     "start_time": "2024-07-01T12:55:37.045014Z",
     "end_time": "2024-07-01T12:57:40.212786Z"
    }
   }
  },
  {
   "cell_type": "markdown",
   "id": "ef70e630-2020-4f25-9c95-49013352733b",
   "metadata": {},
   "source": [
    "### 1.4 Hexagons - res8 and res7 takes too long (deswegen erstmal ausgeklammert)"
   ]
  },
  {
   "cell_type": "code",
   "execution_count": null,
   "id": "0ac57c17-7797-417e-bc7e-81f5e53e5bc2",
   "metadata": {
    "tags": []
   },
   "outputs": [],
   "source": [
    "# Get hex ids\n",
    "def add_h3_ids(df, res):\n",
    "    df[f\"h3_res{res}_pickup\"] = np.vectorize(h3.geo_to_h3)(\n",
    "        df['pickup_centroid_latitude'], df['pickup_centroid_longitude'], res)\n",
    "    df[f\"h3_res{res}_dropoff\"] = np.vectorize(h3.geo_to_h3)(\n",
    "        df['dropoff_centroid_latitude'], df['dropoff_centroid_longitude'], res)\n",
    "    return df\n",
    "\n",
    "# Get poly from hex ids - vectorized form to save time\n",
    "def poly_from_hex(df, colname, res):\n",
    "    hex_ids = df[f\"h3_res{res}_{colname}\"].values\n",
    "    polygons = np.vectorize(lambda hex_id: Polygon(h3.h3_to_geo_boundary(hex_id, geo_json=True)))(hex_ids)\n",
    "    df[f\"poly_res{res}_{colname}\"] = polygons\n",
    "    return df\n",
    "\n",
    "# Get count for each trip happening in the same hexagon\n",
    "def get_poly_count(df, colname):\n",
    "    name = colname.split(\"_\")[1] + \"_\" + colname.split(\"_\")[2]\n",
    "    df[f\"count{name}\"] = df.groupby(colname)['trip_id'].transform('count')\n",
    "    return df"
   ]
  },
  {
   "cell_type": "code",
   "execution_count": null,
   "id": "1ce2d96d-b681-4d80-b0c1-48515d111e68",
   "metadata": {
    "tags": []
   },
   "outputs": [],
   "source": [
    "# For hexagon resolution, adapted: https://towardsdatascience.com/exploring-location-data-using-a-hexagon-grid-3509b68b04a2 table\n",
    "# hex_df = add_h3_ids(df, 7)\n",
    "#hex_df = add_h3_ids(df, 8)"
   ]
  },
  {
   "cell_type": "code",
   "execution_count": null,
   "id": "e7a2f39e-987c-477c-b0da-2eea61025182",
   "metadata": {
    "tags": []
   },
   "outputs": [],
   "source": [
    "# Entries where hex id is 0, we cannot use for visualization, hence drop\n",
    "## TODO: maybe if census tract is given/community area, we can use this to merge with later census data to get hexagons for these entries? \n",
    "print(\"Number of hex ids equal to 0: \",len(hex_df[(hex_df[\"h3_res7_pickup\"] == \"0\") | (hex_df[\"h3_res7_dropoff\"] == \"0\")]))\n",
    "\n",
    "hex_df_clear = hex_df[(hex_df[\"h3_res7_pickup\"] != \"0\") & (hex_df[\"h3_res7_dropoff\"] != \"0\")]"
   ]
  },
  {
   "cell_type": "code",
   "execution_count": null,
   "id": "43b52166-f3d3-4d3d-90f0-d4a981fa658b",
   "metadata": {
    "tags": []
   },
   "outputs": [],
   "source": [
    "hex_df_clear.head(2)"
   ]
  },
  {
   "cell_type": "code",
   "execution_count": null,
   "id": "aff0bb44-45d9-4b9d-8bd9-1a4aff320efb",
   "metadata": {
    "tags": []
   },
   "outputs": [],
   "source": [
    "# Get polygon from hex ids\n",
    "#hex_df_poly = poly_from_hex(hex_df_clear, \"pickup\", 7)\n",
    "#hex_df_poly = poly_from_hex(hex_df_clear, \"dropoff\", 7)\n",
    "# hex_df_poly = poly_from_hex(hex_df_clear, \"pickup\", 8)\n",
    "# hex_df_poly = poly_from_hex(hex_df_clear, \"dropoff\", 8)"
   ]
  },
  {
   "cell_type": "code",
   "execution_count": null,
   "id": "0a30c791-c4c1-49be-ba6a-5f890a46037e",
   "metadata": {
    "tags": []
   },
   "outputs": [],
   "source": [
    "hex_df_poly.head(2)"
   ]
  },
  {
   "cell_type": "code",
   "execution_count": null,
   "id": "60a943e1-e4cb-466e-a17a-78179b8048df",
   "metadata": {
    "tags": []
   },
   "outputs": [],
   "source": [
    "# Get count for each polygon\n",
    "# hex_df_poly = get_poly_count(hex_df_poly, \"poly_res7_pickup\")\n",
    "#hex_df_poly = get_poly_count(hex_df_poly, \"poly_res7_dropoff\")\n",
    "# hex_df_poly = get_poly_count(hex_df_poly, \"poly_res8_pickup\")\n",
    "# hex_df_poly = get_poly_count(hex_df_poly, \"poly_res8_dropoff\")"
   ]
  },
  {
   "cell_type": "code",
   "execution_count": null,
   "id": "5d5d60fa-0967-4553-ab5b-f2a5cc73bfcf",
   "metadata": {
    "tags": []
   },
   "outputs": [],
   "source": [
    "#hex_df_clear.head(1)"
   ]
  },
  {
   "cell_type": "code",
   "execution_count": null,
   "id": "9712d7c7-6567-4060-aa5b-fc4fb1166911",
   "metadata": {
    "tags": []
   },
   "outputs": [],
   "source": [
    "# Make a geodf out of it for simple plotting\n",
    "gdf_res7_pickup = gp.GeoDataFrame(hex_df_clear, geometry=hex_df_poly['poly_res7_pickup'], crs='EPSG:4326')\n",
    "gdf_res7_dropoff = gp.GeoDataFrame(hex_df_clear, geometry=hex_df_poly['poly_res7_dropoff'], crs='EPSG:4326')\n",
    "# gdf_res8_pickup = gp.GeoDataFrame(hex_df_clear, geometry=hex_df_poly['poly_res8_pickup'], crs='EPSG:4326')\n",
    "# gdf_res8_dropoff = gp.GeoDataFrame(hex_df_clear, geometry=hex_df_poly['poly_res8_dropoff'], crs='EPSG:4326')\n",
    "\n",
    "#Visualize\n",
    "# fig, axs = plt.subplots(nrows = 1, ncols = 2, figsize=(10, 10))\n",
    "\n",
    "# titles = [\"Hex resolution 7\", \n",
    "#           # \"Hex resolution 8\"\n",
    "#          ]\n",
    "# dfs = [gdf_res7_pickup, gdf_res7_dropoff,  \n",
    "#        # gdf_res8_pickup, gdf_res8_dropoff\n",
    "#       ]\n",
    "\n",
    "# axs = axs.flatten()\n",
    "# for ind in range(0, 3):\n",
    "#     dfs[ind].plot(column=\"count\", ax=axs[ind], legend=True)\n",
    "#     axs[ind].set_title(titles[ind])\n",
    "\n",
    "# plt.tight_layout()\n",
    "# plt.show()"
   ]
  },
  {
   "cell_type": "code",
   "execution_count": null,
   "id": "7ebbb1a1-ebca-47ad-b240-6824b8a0ade0",
   "metadata": {
    "tags": []
   },
   "outputs": [],
   "source": [
    "# df_pickup_res8['geometry'] = df_pickup_res7.apply(lambda x: Polygon(h3.h3_to_geo_boundary(x[\"h3_pickup_res8\"], geo_json=True)), axis=1)\n",
    "# trips_starts_geo = gp.GeoDataFrame(df_pickup_res7, geometry=df_pickup_res7['geometry'], crs='EPSG:4326')\n",
    "# trips_starts_geo.head()"
   ]
  },
  {
   "cell_type": "code",
   "execution_count": null,
   "id": "8430b373-57b6-41ad-8c46-8bb2800bec3e",
   "metadata": {
    "tags": []
   },
   "outputs": [],
   "source": [
    "# trips_starts_geo.plot(column='count')"
   ]
  },
  {
   "cell_type": "code",
   "execution_count": 1,
   "outputs": [],
   "source": [
    "# print(df_outliers)"
   ],
   "metadata": {
    "collapsed": false,
    "ExecuteTime": {
     "start_time": "2024-07-04T17:30:38.600714Z",
     "end_time": "2024-07-04T17:30:38.603405Z"
    }
   }
  },
  {
   "cell_type": "code",
   "execution_count": null,
   "outputs": [],
   "source": [],
   "metadata": {
    "collapsed": false
   }
  }
 ],
 "metadata": {
  "kernelspec": {
   "display_name": "Python 3 (ipykernel)",
   "language": "python",
   "name": "python3"
  },
  "language_info": {
   "codemirror_mode": {
    "name": "ipython",
    "version": 3
   },
   "file_extension": ".py",
   "mimetype": "text/x-python",
   "name": "python",
   "nbconvert_exporter": "python",
   "pygments_lexer": "ipython3",
   "version": "3.11.4"
  },
  "toc-autonumbering": false,
  "toc-showcode": false,
  "toc-showmarkdowntxt": false
 },
 "nbformat": 4,
 "nbformat_minor": 5
}
