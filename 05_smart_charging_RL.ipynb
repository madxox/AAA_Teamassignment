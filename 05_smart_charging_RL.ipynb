{
 "cells": [
  {
   "cell_type": "code",
   "execution_count": 1,
   "id": "4e48f13d",
   "metadata": {},
   "outputs": [],
   "source": [
    "import numpy as np\n",
    "import gymnasium as gym\n",
    "import random\n",
    "import math"
   ]
  },
  {
   "cell_type": "markdown",
   "id": "6be020c8-6f1b-4107-a3f8-3aef686ab94d",
   "metadata": {},
   "source": [
    "### Create Environment"
   ]
  },
  {
   "cell_type": "code",
   "execution_count": null,
   "id": "97102382-8868-45ac-b609-756aabfc1159",
   "metadata": {},
   "outputs": [],
   "source": [
    "class SmartCharging(gym.env):\n",
    "\n",
    "    def __init__(self, render_mode=None):\n",
    "\n",
    "        # action - kw: zero(0) - 0, low(1) - 7, medium(2) - 14, high(3) - 22\n",
    "        self.actions_to_kw = [0, 7, 14, 22]\n",
    "        self.action_space = spaces.Discrete(4)\n",
    "        \n",
    "        # average EV capacity 72 kWh: https://ev-database.org/cheatsheet/useable-battery-capacity-electric-car\n",
    "        self.battery_capacity = 72\n",
    "        # time steps: 0 - 2 p.m., 1 - 2:15 p.m., ... , 7 - 3:45 p.m., 8 - 4 p.m.\n",
    "        self.time_step = 0\n",
    "        self.observation_space = np.array([spaces.Box(0, self.capacity, shape=(1,)), spaces.Box(0, 8, shape=(1,))])\n",
    "        \n",
    "        # 15 minute charging slots\n",
    "        self.time_slot = 0.25\n",
    "        # random start battery status in kWh to simulate energy left from previous shift\n",
    "        self.battery_status = random.randint(0,self.battery_capacity)\n",
    "\n",
    "    def _get_obs(self):\n",
    "        return {\"battery status\": self.battery_status, \"time step\": self.time_step}\n",
    "\n",
    "    def step(self, action):\n",
    "\n",
    "        terminated = False\n",
    "        \n",
    "        if self.time_step = 8:\n",
    "            \n",
    "            energy_demand = np.random.normal(loc=30, scale=5)\n",
    "            penalty_factor = 10\n",
    "            \n",
    "            if energy_demand > self.battery_status:\n",
    "                \n",
    "                self.battery_status = 0\n",
    "                # to really penalize running out of energy, make penalty as high as maximum charging costs. Still open what time coefficient is\n",
    "                sum_of_time_coeffs = 2\n",
    "                reward = (-1) * sum_of_time_coeffs * math.exp(self.actions_to_kw[3]) * penalty_factor\n",
    "            else:\n",
    "                \n",
    "                self.battery_status -= energy_demand\n",
    "                reward = 0\n",
    "\n",
    "            terminated = True\n",
    "        else:\n",
    "            \n",
    "            charged_kWh = self.time_slot * self.actions_to_kw[action]\n",
    "            time_coeff = self.time_slot # open question: What does the coefficient represent?\n",
    "            \n",
    "            if self.battery_status + charged_kWh > self.battery_capacity:\n",
    "                \n",
    "                charged_kWh = self.battery_capacity - self.battery_status\n",
    "                time_coeff = charged_kWh/self.actions_to_kw[action]\n",
    "                \n",
    "                \n",
    "            self.battery_status += charged_kWh\n",
    "            self.time_step += 1\n",
    "            \n",
    "            reward = (-1) * time_coeff * math.exp(self.actions_to_kw[action])\n",
    "        \n",
    "        return self._get_obs_(), reward, terminated\n",
    "\n",
    "    def reset(self, seed=None, options=None):\n",
    "        \n",
    "        self.battery_status = random.randint(0,self.battery_capacity)\n",
    "        self.time_step = 0\n",
    "        \n",
    "        return self._get_obs_()\n",
    "        "
   ]
  }
 ],
 "metadata": {
  "kernelspec": {
   "display_name": "Python 3 (ipykernel)",
   "language": "python",
   "name": "python3"
  },
  "language_info": {
   "codemirror_mode": {
    "name": "ipython",
    "version": 3
   },
   "file_extension": ".py",
   "mimetype": "text/x-python",
   "name": "python",
   "nbconvert_exporter": "python",
   "pygments_lexer": "ipython3",
   "version": "3.9.18"
  }
 },
 "nbformat": 4,
 "nbformat_minor": 5
}
