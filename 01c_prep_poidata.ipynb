{
 "cells": [
  {
   "cell_type": "markdown",
   "id": "0de5ada5-621d-4f28-b31e-ed77171b92f1",
   "metadata": {
    "tags": []
   },
   "source": [
    "## 01c POI Data - Preprocessing"
   ]
  },
  {
   "cell_type": "code",
   "execution_count": 1,
   "id": "6aa65cb5-962b-4ef3-9365-27a08e79efbe",
   "metadata": {
    "tags": []
   },
   "outputs": [],
   "source": [
    "#Imports\n",
    "import osmnx as ox\n",
    "import folium\n",
    "import geopandas as gp\n",
    "import pandas as pd"
   ]
  },
  {
   "cell_type": "code",
   "execution_count": 82,
   "id": "14003889-f43f-442c-949a-ee21c3aef490",
   "metadata": {
    "tags": []
   },
   "outputs": [],
   "source": [
    "# POIs in OSM are called amenities\n",
    "amenity_pois = ox.features_from_place({'city': 'Chicago'}, {'amenity': True})\n",
    "\n",
    "# Next to amenities is an extra section for public transport, this could also be interesting for us\n",
    "# https://wiki.openstreetmap.org/wiki/Map_features#Addresses\n",
    "transport_pois = ox.features_from_place({'city': 'Chicago'}, {'public_transport': True})"
   ]
  },
  {
   "cell_type": "code",
   "execution_count": 83,
   "id": "1c5ddba4-1fba-452a-9265-52ced80b39d6",
   "metadata": {
    "tags": []
   },
   "outputs": [],
   "source": [
    "# Pick fields of interest, drop unnecessary column \"element_type\" and reset index\n",
    "amenity_pois = amenity_pois[[\"amenity\", \"name\", \"geometry\", \"public_transport\"]].reset_index().set_index(\"osmid\").drop(\"element_type\", axis = 1)"
   ]
  },
  {
   "cell_type": "code",
   "execution_count": 88,
   "id": "1cb0e108-aff0-4103-8726-f3cc838645a0",
   "metadata": {
    "tags": []
   },
   "outputs": [
    {
     "name": "stdout",
     "output_type": "stream",
     "text": [
      "EPSG:3435\n"
     ]
    },
    {
     "data": {
      "text/html": [
       "<div>\n",
       "<style scoped>\n",
       "    .dataframe tbody tr th:only-of-type {\n",
       "        vertical-align: middle;\n",
       "    }\n",
       "\n",
       "    .dataframe tbody tr th {\n",
       "        vertical-align: top;\n",
       "    }\n",
       "\n",
       "    .dataframe thead th {\n",
       "        text-align: right;\n",
       "    }\n",
       "</style>\n",
       "<table border=\"1\" class=\"dataframe\">\n",
       "  <thead>\n",
       "    <tr style=\"text-align: right;\">\n",
       "      <th></th>\n",
       "      <th>amenity</th>\n",
       "      <th>name</th>\n",
       "      <th>geometry</th>\n",
       "      <th>public_transport</th>\n",
       "    </tr>\n",
       "    <tr>\n",
       "      <th>osmid</th>\n",
       "      <th></th>\n",
       "      <th></th>\n",
       "      <th></th>\n",
       "      <th></th>\n",
       "    </tr>\n",
       "  </thead>\n",
       "  <tbody>\n",
       "    <tr>\n",
       "      <th>20217109</th>\n",
       "      <td>ferry_terminal</td>\n",
       "      <td>Shoreline Sightseeing</td>\n",
       "      <td>POINT (1177794.409 1902995.829)</td>\n",
       "      <td>station</td>\n",
       "    </tr>\n",
       "    <tr>\n",
       "      <th>20217442</th>\n",
       "      <td>ferry_terminal</td>\n",
       "      <td>Union Station/Willis Tower - Shoreline Water T...</td>\n",
       "      <td>POINT (1173679.176 1899287.730)</td>\n",
       "      <td>station</td>\n",
       "    </tr>\n",
       "    <tr>\n",
       "      <th>258490031</th>\n",
       "      <td>parking</td>\n",
       "      <td>NaN</td>\n",
       "      <td>POINT (1171804.787 1925571.513)</td>\n",
       "      <td>NaN</td>\n",
       "    </tr>\n",
       "  </tbody>\n",
       "</table>\n",
       "</div>"
      ],
      "text/plain": [
       "                  amenity                                               name  \\\n",
       "osmid                                                                          \n",
       "20217109   ferry_terminal                              Shoreline Sightseeing   \n",
       "20217442   ferry_terminal  Union Station/Willis Tower - Shoreline Water T...   \n",
       "258490031         parking                                                NaN   \n",
       "\n",
       "                                  geometry public_transport  \n",
       "osmid                                                        \n",
       "20217109   POINT (1177794.409 1902995.829)          station  \n",
       "20217442   POINT (1173679.176 1899287.730)          station  \n",
       "258490031  POINT (1171804.787 1925571.513)              NaN  "
      ]
     },
     "execution_count": 88,
     "metadata": {},
     "output_type": "execute_result"
    }
   ],
   "source": [
    "# Set CRS - necessary for getting accurate long and lat of Chicago \n",
    "amenity_gdf = gp.GeoDataFrame(amenity_pois)\n",
    "amenity_gdf = amenity_gdf.to_crs(3435)\n",
    "print(amenity_gdf.crs)\n",
    "amenity_gdf.head(3)"
   ]
  },
  {
   "cell_type": "code",
   "execution_count": 89,
   "id": "f77890dd-98e7-4f58-ad4f-0a9aa8802f25",
   "metadata": {
    "tags": []
   },
   "outputs": [
    {
     "name": "stdout",
     "output_type": "stream",
     "text": [
      "Unique amenities in Chicago: 126\n",
      "Amenities in Chicago and their count:\n",
      "parking: 7025\n",
      "parking_space: 4970\n",
      "restaurant: 2236\n",
      "place_of_worship: 1861\n",
      "fast_food: 1330\n",
      "school: 1185\n",
      "bicycle_parking: 1116\n",
      "bench: 960\n",
      "bicycle_rental: 888\n",
      "bar: 844\n",
      "cafe: 768\n",
      "bank: 457\n",
      "fuel: 421\n",
      "parking_entrance: 409\n",
      "shelter: 279\n",
      "post_box: 275\n",
      "loading_dock: 248\n",
      "toilets: 235\n",
      "fountain: 213\n",
      "social_facility: 211\n",
      "drinking_water: 190\n",
      "pharmacy: 177\n",
      "clinic: 170\n",
      "waste_basket: 167\n",
      "vending_machine: 115\n",
      "ice_cream: 115\n",
      "library: 107\n",
      "atm: 105\n",
      "fire_station: 103\n",
      "dentist: 101\n",
      "post_office: 97\n",
      "pub: 97\n",
      "studio: 94\n",
      "theatre: 87\n",
      "car_wash: 70\n",
      "community_centre: 61\n",
      "charging_station: 59\n",
      "university: 52\n",
      "childcare: 46\n",
      "ferry_terminal: 45\n",
      "doctors: 45\n",
      "hospital: 40\n",
      "arts_centre: 38\n",
      "police: 38\n",
      "veterinary: 37\n",
      "events_venue: 36\n",
      "social_centre: 35\n",
      "money_transfer: 31\n",
      "recycling: 30\n",
      "college: 28\n",
      "kindergarten: 26\n",
      "cinema: 24\n",
      "car_rental: 23\n",
      "bus_station: 22\n",
      "nightclub: 20\n",
      "post_depot: 20\n",
      "bicycle_repair_station: 20\n",
      "public_bookcase: 18\n",
      "bureau_de_change: 18\n",
      "animal_shelter: 18\n",
      "taxi: 18\n",
      "food_court: 17\n",
      "clock: 16\n",
      "music_school: 13\n",
      "dojo: 12\n",
      "shower: 12\n",
      "marketplace: 11\n",
      "waste_disposal: 11\n",
      "driving_school: 10\n",
      "parcel_locker: 10\n",
      "courthouse: 9\n",
      "waste_transfer_station: 8\n",
      "boat_rental: 7\n",
      "conference_centre: 7\n",
      "language_school: 6\n",
      "device_charging_station: 5\n",
      "stripclub: 4\n",
      "prison: 4\n",
      "animal_boarding: 4\n",
      "nursing_home: 4\n",
      "boat_storage: 3\n",
      "library_dropoff: 2\n",
      "weighbridge: 2\n",
      "car_sharing: 2\n",
      "payment_centre: 2\n",
      "research_institute: 2\n",
      "dressing_room: 2\n",
      "vacuum_cleaner: 2\n",
      "binoculars: 2\n",
      "grave_yard: 2\n",
      "pumping_station: 1\n",
      "planetarium: 1\n",
      "mortuary: 1\n",
      "lifeguard: 1\n",
      "dog daycare and boarding: 1\n",
      "ranger_station: 1\n",
      "monastery: 1\n",
      "flight_school: 1\n",
      "townhall: 1\n",
      "vehicle_inspection: 1\n",
      "fraternity: 1\n",
      "construction: 1\n",
      "motorcycle_parking: 1\n",
      "training: 1\n",
      "Junk Removal Chicago: 1\n",
      "fixme: 1\n",
      "books: 1\n",
      "vacant: 1\n",
      "public_bath: 1\n",
      "payment_terminal: 1\n",
      "photo_booth: 1\n",
      "grit_bin: 1\n",
      "internet_cafe: 1\n",
      "biergarten: 1\n",
      "compressed_air: 1\n",
      "give_box: 1\n",
      "watering_place: 1\n",
      "fast_food;ice_cream: 1\n",
      "prep_school: 1\n",
      "tool_library: 1\n",
      "letter_box: 1\n",
      "food_sharing: 1\n",
      "freeshop: 1\n",
      "casino: 1\n",
      "table: 1\n",
      "exhibition_centre: 1\n"
     ]
    }
   ],
   "source": [
    "print(f\"Unique amenities in Chicago: {len(amenity_gdf['amenity'].unique())}\")\n",
    "\n",
    "amenity_counts = amenity_gdf['amenity'].value_counts()\n",
    "print(\"Amenities in Chicago and their count:\")\n",
    "for amenity, count in amenity_counts.items():\n",
    "    print(f\"{amenity}: {count}\")"
   ]
  },
  {
   "cell_type": "code",
   "execution_count": 90,
   "id": "60bfe70e-8d73-4c82-8cb7-13416e31d8b1",
   "metadata": {
    "tags": []
   },
   "outputs": [],
   "source": [
    "# The amenities which have a count of < 3 are very specifc, we drop those ------------?-------------\n",
    "items = amenity_gdf['amenity'].value_counts().to_dict().items()\n",
    "\n",
    "# Filtering only those rows where duplicate entries occur more than n\n",
    "n = 2\n",
    "amenity_gdf = amenity_gdf[amenity_gdf['amenity'].isin([key for key, val in items if val > n])]"
   ]
  },
  {
   "cell_type": "code",
   "execution_count": 101,
   "id": "b5458e2d-2040-4814-b4fc-21de9dac017a",
   "metadata": {
    "tags": []
   },
   "outputs": [
    {
     "ename": "ValueError",
     "evalue": "Columns must be same length as key",
     "output_type": "error",
     "traceback": [
      "\u001b[1;31m---------------------------------------------------------------------------\u001b[0m",
      "\u001b[1;31mValueError\u001b[0m                                Traceback (most recent call last)",
      "\u001b[1;32m~\\AppData\\Local\\Temp\\ipykernel_18064\\3495485098.py\u001b[0m in \u001b[0;36m?\u001b[1;34m()\u001b[0m\n\u001b[0;32m      7\u001b[0m     \u001b[1;32melse\u001b[0m\u001b[1;33m:\u001b[0m\u001b[1;33m\u001b[0m\u001b[1;33m\u001b[0m\u001b[0m\n\u001b[0;32m      8\u001b[0m         \u001b[0mcentroid\u001b[0m \u001b[1;33m=\u001b[0m \u001b[0mp\u001b[0m\u001b[1;33m.\u001b[0m\u001b[0mcentroid\u001b[0m\u001b[1;33m\u001b[0m\u001b[1;33m\u001b[0m\u001b[0m\n\u001b[0;32m      9\u001b[0m         \u001b[1;32mreturn\u001b[0m \u001b[1;33m(\u001b[0m\u001b[0mcentroid\u001b[0m\u001b[1;33m.\u001b[0m\u001b[0mx\u001b[0m\u001b[1;33m,\u001b[0m \u001b[0mcentroid\u001b[0m\u001b[1;33m.\u001b[0m\u001b[0my\u001b[0m\u001b[1;33m)\u001b[0m\u001b[1;33m\u001b[0m\u001b[1;33m\u001b[0m\u001b[0m\n\u001b[0;32m     10\u001b[0m \u001b[1;33m\u001b[0m\u001b[0m\n\u001b[1;32m---> 11\u001b[1;33m \u001b[0mamenity_gdf\u001b[0m\u001b[1;33m[\u001b[0m\u001b[1;33m[\u001b[0m\u001b[1;34m'lon'\u001b[0m\u001b[1;33m,\u001b[0m \u001b[1;34m'lat'\u001b[0m\u001b[1;33m]\u001b[0m\u001b[1;33m]\u001b[0m \u001b[1;33m=\u001b[0m \u001b[0mamenity_gdf\u001b[0m\u001b[1;33m[\u001b[0m\u001b[1;34m'geometry'\u001b[0m\u001b[1;33m]\u001b[0m\u001b[1;33m.\u001b[0m\u001b[0mapply\u001b[0m\u001b[1;33m(\u001b[0m\u001b[1;32mlambda\u001b[0m \u001b[0mp\u001b[0m\u001b[1;33m:\u001b[0m \u001b[0mget_lat_lon\u001b[0m\u001b[1;33m(\u001b[0m\u001b[0mp\u001b[0m\u001b[1;33m)\u001b[0m\u001b[1;33m)\u001b[0m\u001b[1;33m\u001b[0m\u001b[1;33m\u001b[0m\u001b[0m\n\u001b[0m\u001b[0;32m     12\u001b[0m \u001b[0mamenity_gdf\u001b[0m\u001b[1;33m.\u001b[0m\u001b[0mhead\u001b[0m\u001b[1;33m(\u001b[0m\u001b[1;36m3\u001b[0m\u001b[1;33m)\u001b[0m\u001b[1;33m\u001b[0m\u001b[1;33m\u001b[0m\u001b[0m\n",
      "\u001b[1;32m~\\AppData\\Local\\Programs\\Python\\Python311\\Lib\\site-packages\\geopandas\\geodataframe.py\u001b[0m in \u001b[0;36m?\u001b[1;34m(self, key, value)\u001b[0m\n\u001b[0;32m   1524\u001b[0m                 warnings.warn(\n\u001b[0;32m   1525\u001b[0m                     \u001b[1;34m\"Geometry column does not contain geometry.\"\u001b[0m\u001b[1;33m,\u001b[0m\u001b[1;33m\u001b[0m\u001b[1;33m\u001b[0m\u001b[0m\n\u001b[0;32m   1526\u001b[0m                     \u001b[0mstacklevel\u001b[0m\u001b[1;33m=\u001b[0m\u001b[1;36m2\u001b[0m\u001b[1;33m,\u001b[0m\u001b[1;33m\u001b[0m\u001b[1;33m\u001b[0m\u001b[0m\n\u001b[0;32m   1527\u001b[0m                 )\n\u001b[1;32m-> 1528\u001b[1;33m         \u001b[0msuper\u001b[0m\u001b[1;33m(\u001b[0m\u001b[1;33m)\u001b[0m\u001b[1;33m.\u001b[0m\u001b[0m__setitem__\u001b[0m\u001b[1;33m(\u001b[0m\u001b[0mkey\u001b[0m\u001b[1;33m,\u001b[0m \u001b[0mvalue\u001b[0m\u001b[1;33m)\u001b[0m\u001b[1;33m\u001b[0m\u001b[1;33m\u001b[0m\u001b[0m\n\u001b[0m",
      "\u001b[1;32m~\\AppData\\Local\\Programs\\Python\\Python311\\Lib\\site-packages\\pandas\\core\\frame.py\u001b[0m in \u001b[0;36m?\u001b[1;34m(self, key, value)\u001b[0m\n\u001b[0;32m   4075\u001b[0m \u001b[1;33m\u001b[0m\u001b[0m\n\u001b[0;32m   4076\u001b[0m         \u001b[1;32mif\u001b[0m \u001b[0misinstance\u001b[0m\u001b[1;33m(\u001b[0m\u001b[0mkey\u001b[0m\u001b[1;33m,\u001b[0m \u001b[0mDataFrame\u001b[0m\u001b[1;33m)\u001b[0m \u001b[1;32mor\u001b[0m \u001b[0mgetattr\u001b[0m\u001b[1;33m(\u001b[0m\u001b[0mkey\u001b[0m\u001b[1;33m,\u001b[0m \u001b[1;34m\"ndim\"\u001b[0m\u001b[1;33m,\u001b[0m \u001b[1;32mNone\u001b[0m\u001b[1;33m)\u001b[0m \u001b[1;33m==\u001b[0m \u001b[1;36m2\u001b[0m\u001b[1;33m:\u001b[0m\u001b[1;33m\u001b[0m\u001b[1;33m\u001b[0m\u001b[0m\n\u001b[0;32m   4077\u001b[0m             \u001b[0mself\u001b[0m\u001b[1;33m.\u001b[0m\u001b[0m_setitem_frame\u001b[0m\u001b[1;33m(\u001b[0m\u001b[0mkey\u001b[0m\u001b[1;33m,\u001b[0m \u001b[0mvalue\u001b[0m\u001b[1;33m)\u001b[0m\u001b[1;33m\u001b[0m\u001b[1;33m\u001b[0m\u001b[0m\n\u001b[0;32m   4078\u001b[0m         \u001b[1;32melif\u001b[0m \u001b[0misinstance\u001b[0m\u001b[1;33m(\u001b[0m\u001b[0mkey\u001b[0m\u001b[1;33m,\u001b[0m \u001b[1;33m(\u001b[0m\u001b[0mSeries\u001b[0m\u001b[1;33m,\u001b[0m \u001b[0mnp\u001b[0m\u001b[1;33m.\u001b[0m\u001b[0mndarray\u001b[0m\u001b[1;33m,\u001b[0m \u001b[0mlist\u001b[0m\u001b[1;33m,\u001b[0m \u001b[0mIndex\u001b[0m\u001b[1;33m)\u001b[0m\u001b[1;33m)\u001b[0m\u001b[1;33m:\u001b[0m\u001b[1;33m\u001b[0m\u001b[1;33m\u001b[0m\u001b[0m\n\u001b[1;32m-> 4079\u001b[1;33m             \u001b[0mself\u001b[0m\u001b[1;33m.\u001b[0m\u001b[0m_setitem_array\u001b[0m\u001b[1;33m(\u001b[0m\u001b[0mkey\u001b[0m\u001b[1;33m,\u001b[0m \u001b[0mvalue\u001b[0m\u001b[1;33m)\u001b[0m\u001b[1;33m\u001b[0m\u001b[1;33m\u001b[0m\u001b[0m\n\u001b[0m\u001b[0;32m   4080\u001b[0m         \u001b[1;32melif\u001b[0m \u001b[0misinstance\u001b[0m\u001b[1;33m(\u001b[0m\u001b[0mvalue\u001b[0m\u001b[1;33m,\u001b[0m \u001b[0mDataFrame\u001b[0m\u001b[1;33m)\u001b[0m\u001b[1;33m:\u001b[0m\u001b[1;33m\u001b[0m\u001b[1;33m\u001b[0m\u001b[0m\n\u001b[0;32m   4081\u001b[0m             \u001b[0mself\u001b[0m\u001b[1;33m.\u001b[0m\u001b[0m_set_item_frame_value\u001b[0m\u001b[1;33m(\u001b[0m\u001b[0mkey\u001b[0m\u001b[1;33m,\u001b[0m \u001b[0mvalue\u001b[0m\u001b[1;33m)\u001b[0m\u001b[1;33m\u001b[0m\u001b[1;33m\u001b[0m\u001b[0m\n\u001b[0;32m   4082\u001b[0m         elif (\n",
      "\u001b[1;32m~\\AppData\\Local\\Programs\\Python\\Python311\\Lib\\site-packages\\pandas\\core\\frame.py\u001b[0m in \u001b[0;36m?\u001b[1;34m(self, key, value)\u001b[0m\n\u001b[0;32m   4134\u001b[0m                 \u001b[0mvalue\u001b[0m \u001b[1;33m=\u001b[0m \u001b[0mDataFrame\u001b[0m\u001b[1;33m(\u001b[0m\u001b[0mvalue\u001b[0m\u001b[1;33m)\u001b[0m\u001b[1;33m.\u001b[0m\u001b[0mvalues\u001b[0m\u001b[1;33m\u001b[0m\u001b[1;33m\u001b[0m\u001b[0m\n\u001b[0;32m   4135\u001b[0m                 \u001b[1;32mreturn\u001b[0m \u001b[0mself\u001b[0m\u001b[1;33m.\u001b[0m\u001b[0m_setitem_array\u001b[0m\u001b[1;33m(\u001b[0m\u001b[0mkey\u001b[0m\u001b[1;33m,\u001b[0m \u001b[0mvalue\u001b[0m\u001b[1;33m)\u001b[0m\u001b[1;33m\u001b[0m\u001b[1;33m\u001b[0m\u001b[0m\n\u001b[0;32m   4136\u001b[0m \u001b[1;33m\u001b[0m\u001b[0m\n\u001b[0;32m   4137\u001b[0m             \u001b[1;32melse\u001b[0m\u001b[1;33m:\u001b[0m\u001b[1;33m\u001b[0m\u001b[1;33m\u001b[0m\u001b[0m\n\u001b[1;32m-> 4138\u001b[1;33m                 \u001b[0mself\u001b[0m\u001b[1;33m.\u001b[0m\u001b[0m_iset_not_inplace\u001b[0m\u001b[1;33m(\u001b[0m\u001b[0mkey\u001b[0m\u001b[1;33m,\u001b[0m \u001b[0mvalue\u001b[0m\u001b[1;33m)\u001b[0m\u001b[1;33m\u001b[0m\u001b[1;33m\u001b[0m\u001b[0m\n\u001b[0m",
      "\u001b[1;32m~\\AppData\\Local\\Programs\\Python\\Python311\\Lib\\site-packages\\pandas\\core\\frame.py\u001b[0m in \u001b[0;36m?\u001b[1;34m(self, key, value)\u001b[0m\n\u001b[0;32m   4153\u001b[0m                 \u001b[1;32mreturn\u001b[0m \u001b[0mobj\u001b[0m\u001b[1;33m[\u001b[0m\u001b[0mi\u001b[0m\u001b[1;33m]\u001b[0m\u001b[1;33m\u001b[0m\u001b[1;33m\u001b[0m\u001b[0m\n\u001b[0;32m   4154\u001b[0m \u001b[1;33m\u001b[0m\u001b[0m\n\u001b[0;32m   4155\u001b[0m         \u001b[1;32mif\u001b[0m \u001b[0mself\u001b[0m\u001b[1;33m.\u001b[0m\u001b[0mcolumns\u001b[0m\u001b[1;33m.\u001b[0m\u001b[0mis_unique\u001b[0m\u001b[1;33m:\u001b[0m\u001b[1;33m\u001b[0m\u001b[1;33m\u001b[0m\u001b[0m\n\u001b[0;32m   4156\u001b[0m             \u001b[1;32mif\u001b[0m \u001b[0mnp\u001b[0m\u001b[1;33m.\u001b[0m\u001b[0mshape\u001b[0m\u001b[1;33m(\u001b[0m\u001b[0mvalue\u001b[0m\u001b[1;33m)\u001b[0m\u001b[1;33m[\u001b[0m\u001b[1;33m-\u001b[0m\u001b[1;36m1\u001b[0m\u001b[1;33m]\u001b[0m \u001b[1;33m!=\u001b[0m \u001b[0mlen\u001b[0m\u001b[1;33m(\u001b[0m\u001b[0mkey\u001b[0m\u001b[1;33m)\u001b[0m\u001b[1;33m:\u001b[0m\u001b[1;33m\u001b[0m\u001b[1;33m\u001b[0m\u001b[0m\n\u001b[1;32m-> 4157\u001b[1;33m                 \u001b[1;32mraise\u001b[0m \u001b[0mValueError\u001b[0m\u001b[1;33m(\u001b[0m\u001b[1;34m\"Columns must be same length as key\"\u001b[0m\u001b[1;33m)\u001b[0m\u001b[1;33m\u001b[0m\u001b[1;33m\u001b[0m\u001b[0m\n\u001b[0m\u001b[0;32m   4158\u001b[0m \u001b[1;33m\u001b[0m\u001b[0m\n\u001b[0;32m   4159\u001b[0m             \u001b[1;32mfor\u001b[0m \u001b[0mi\u001b[0m\u001b[1;33m,\u001b[0m \u001b[0mcol\u001b[0m \u001b[1;32min\u001b[0m \u001b[0menumerate\u001b[0m\u001b[1;33m(\u001b[0m\u001b[0mkey\u001b[0m\u001b[1;33m)\u001b[0m\u001b[1;33m:\u001b[0m\u001b[1;33m\u001b[0m\u001b[1;33m\u001b[0m\u001b[0m\n\u001b[0;32m   4160\u001b[0m                 \u001b[0mself\u001b[0m\u001b[1;33m[\u001b[0m\u001b[0mcol\u001b[0m\u001b[1;33m]\u001b[0m \u001b[1;33m=\u001b[0m \u001b[0migetitem\u001b[0m\u001b[1;33m(\u001b[0m\u001b[0mvalue\u001b[0m\u001b[1;33m,\u001b[0m \u001b[0mi\u001b[0m\u001b[1;33m)\u001b[0m\u001b[1;33m\u001b[0m\u001b[1;33m\u001b[0m\u001b[0m\n",
      "\u001b[1;31mValueError\u001b[0m: Columns must be same length as key"
     ]
    }
   ],
   "source": [
    "# Get latitude and longitude for each row\n",
    "# amenity_gdf['lat'] = amenity_gdf[\"geometry\"].apply(lambda p: p.y)\n",
    "# amenity_gdf['lon'] = amenity_gdf[\"geometry\"].apply(lambda p: p.x)\n",
    "def get_lat_lon(p):\n",
    "    if p.geom_type == 'Point':\n",
    "        return (p.x, p.y)\n",
    "    else:\n",
    "        centroid = p.centroid\n",
    "        return (centroid.x, centroid.y)\n",
    "        \n",
    "amenity_gdf[['lon', 'lat']] = amenity_gdf['geometry'].apply(lambda p: get_lat_lon(p))\n",
    "amenity_gdf.head(3)"
   ]
  }
 ],
 "metadata": {
  "kernelspec": {
   "display_name": "Python 3 (ipykernel)",
   "language": "python",
   "name": "python3"
  },
  "language_info": {
   "codemirror_mode": {
    "name": "ipython",
    "version": 3
   },
   "file_extension": ".py",
   "mimetype": "text/x-python",
   "name": "python",
   "nbconvert_exporter": "python",
   "pygments_lexer": "ipython3",
   "version": "3.11.4"
  }
 },
 "nbformat": 4,
 "nbformat_minor": 5
}
