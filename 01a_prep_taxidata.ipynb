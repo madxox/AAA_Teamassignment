{
 "cells": [
  {
   "cell_type": "markdown",
   "id": "dc44b7ae7599b956",
   "metadata": {},
   "source": [
    "## 1.0a Taxi Data - Preprocessing"
   ]
  },
  {
   "cell_type": "markdown",
   "id": "f4662e21-9b19-40fc-8797-bfc543d4f9c3",
   "metadata": {},
   "source": [
    "In this first notebook, the main dataframe is preprocessed. This includes:\n",
    "- Loading the data\n",
    "- Changing its datatypes\n",
    "- Dropping trivial or null columns/rows\n",
    "- Splitting the data into subsets and saving them for further work"
   ]
  },
  {
   "cell_type": "markdown",
   "id": "d86dda84-d670-437b-bc0e-4c874d709a45",
   "metadata": {
    "tags": []
   },
   "source": [
    "As the original data is rather large in size, it is not included in the repository. Instead, when wanting to run this notebook, it is necessary to:\n",
    "1. Download the data from https://data.cityofchicago.org/Transportation/Taxi-Trips/wrvz-psew#column-menu where you specify via Actions->Query Data->Trip Start Timestamp // In Between // 2022 Jan 01 12:00:00 AM AND 2022 Dec 31 11:59:59 PM\n",
    "2. Rename the file to \"taxidata\"\n",
    "3. Run the code cell below and add the data to the following directory"
   ]
  },
  {
   "cell_type": "code",
   "execution_count": 1,
   "id": "0d5efe0c-aa7b-4222-9d5b-98e1d38ed437",
   "metadata": {
    "ExecuteTime": {
     "end_time": "2024-05-11T12:34:36.475194Z",
     "start_time": "2024-05-11T12:34:36.450421Z"
    },
    "tags": []
   },
   "outputs": [],
   "source": [
    "import os\n",
    "# this directory for the original data file\n",
    "os.makedirs('./data', exist_ok=True)\n",
    "# this directory to later save the prepared data\n",
    "os.makedirs('./data/prepped', exist_ok=True)"
   ]
  },
  {
   "cell_type": "code",
   "execution_count": 2,
   "id": "dc92b812d1290ab",
   "metadata": {
    "ExecuteTime": {
     "end_time": "2024-05-11T12:34:36.491758Z",
     "start_time": "2024-05-11T12:34:36.478209Z"
    },
    "tags": []
   },
   "outputs": [],
   "source": [
    "# Standard libraries - run pip install if necessary\n",
    "import pandas as pd\n",
    "import numpy as np\n",
    "import matplotlib.pyplot as plt\n",
    "import seaborn as sns\n",
    "\n",
    "from datetime import datetime\n",
    "\n",
    "# Geospatial libraries\n",
    "from h3 import h3 \n",
    "import geopandas as gp\n",
    "import folium\n",
    "from shapely.ops import unary_union\n",
    "from shapely.geometry.polygon import Polygon\n",
    "## Color for map \n",
    "import branca\n",
    "import branca.colormap as cm"
   ]
  },
  {
   "cell_type": "markdown",
   "id": "1937f9e5-5bfb-4597-a3d2-2aca16ea1772",
   "metadata": {},
   "source": [
    "### 1.1 Read and display datafile"
   ]
  },
  {
   "cell_type": "code",
   "execution_count": 3,
   "id": "3939294bd434c611",
   "metadata": {
    "ExecuteTime": {
     "end_time": "2024-05-11T12:35:35.524949Z",
     "start_time": "2024-05-11T12:34:36.497771Z"
    },
    "tags": []
   },
   "outputs": [],
   "source": [
    "# Data file not included in the project, needs to be downloaded individually. This step can take a few minutes due to size of the original file\n",
    "df = pd.read_csv(\"data/taxidata.csv\")"
   ]
  },
  {
   "cell_type": "code",
   "execution_count": 4,
   "id": "18fc4c99-ad27-4b7b-9bd9-52895492b7dd",
   "metadata": {},
   "outputs": [
    {
     "data": {
      "text/html": [
       "<div>\n",
       "<style scoped>\n",
       "    .dataframe tbody tr th:only-of-type {\n",
       "        vertical-align: middle;\n",
       "    }\n",
       "\n",
       "    .dataframe tbody tr th {\n",
       "        vertical-align: top;\n",
       "    }\n",
       "\n",
       "    .dataframe thead th {\n",
       "        text-align: right;\n",
       "    }\n",
       "</style>\n",
       "<table border=\"1\" class=\"dataframe\">\n",
       "  <thead>\n",
       "    <tr style=\"text-align: right;\">\n",
       "      <th></th>\n",
       "      <th>trip_id</th>\n",
       "      <th>taxi_id</th>\n",
       "      <th>trip_start_timestamp</th>\n",
       "      <th>trip_end_timestamp</th>\n",
       "      <th>trip_seconds</th>\n",
       "      <th>trip_miles</th>\n",
       "      <th>pickup_census_tract</th>\n",
       "      <th>dropoff_census_tract</th>\n",
       "      <th>pickup_community_area</th>\n",
       "      <th>dropoff_community_area</th>\n",
       "      <th>...</th>\n",
       "      <th>extras</th>\n",
       "      <th>trip_total</th>\n",
       "      <th>payment_type</th>\n",
       "      <th>company</th>\n",
       "      <th>pickup_centroid_latitude</th>\n",
       "      <th>pickup_centroid_longitude</th>\n",
       "      <th>pickup_centroid_location</th>\n",
       "      <th>dropoff_centroid_latitude</th>\n",
       "      <th>dropoff_centroid_longitude</th>\n",
       "      <th>dropoff_centroid_location</th>\n",
       "    </tr>\n",
       "  </thead>\n",
       "  <tbody>\n",
       "    <tr>\n",
       "      <th>0</th>\n",
       "      <td>4404c6835b9e74e9f74d70f235200a8ce09db14a</td>\n",
       "      <td>7e179f8ef66ae99ec2d1ec89224e0b7ee5469fe5627f6d...</td>\n",
       "      <td>2022-12-31T23:45:00.000</td>\n",
       "      <td>2023-01-01T00:15:00.000</td>\n",
       "      <td>2081.0</td>\n",
       "      <td>4.42</td>\n",
       "      <td>NaN</td>\n",
       "      <td>NaN</td>\n",
       "      <td>2.0</td>\n",
       "      <td>3.0</td>\n",
       "      <td>...</td>\n",
       "      <td>0.0</td>\n",
       "      <td>20.50</td>\n",
       "      <td>Prcard</td>\n",
       "      <td>Flash Cab</td>\n",
       "      <td>42.001571</td>\n",
       "      <td>-87.695013</td>\n",
       "      <td>POINT (-87.6950125892 42.001571027)</td>\n",
       "      <td>41.965812</td>\n",
       "      <td>-87.655879</td>\n",
       "      <td>POINT (-87.6558787862 41.96581197)</td>\n",
       "    </tr>\n",
       "    <tr>\n",
       "      <th>1</th>\n",
       "      <td>466473fd2a196ebe92fb2983cb7e8af32e39aa1f</td>\n",
       "      <td>d1d88b89ceb6d753007b6e795e3c24f4bea905a51e9d47...</td>\n",
       "      <td>2022-12-31T23:45:00.000</td>\n",
       "      <td>2023-01-01T00:00:00.000</td>\n",
       "      <td>812.0</td>\n",
       "      <td>0.00</td>\n",
       "      <td>NaN</td>\n",
       "      <td>NaN</td>\n",
       "      <td>8.0</td>\n",
       "      <td>24.0</td>\n",
       "      <td>...</td>\n",
       "      <td>0.0</td>\n",
       "      <td>16.57</td>\n",
       "      <td>Mobile</td>\n",
       "      <td>Flash Cab</td>\n",
       "      <td>41.899602</td>\n",
       "      <td>-87.633308</td>\n",
       "      <td>POINT (-87.6333080367 41.899602111)</td>\n",
       "      <td>41.901207</td>\n",
       "      <td>-87.676356</td>\n",
       "      <td>POINT (-87.6763559892 41.9012069941)</td>\n",
       "    </tr>\n",
       "    <tr>\n",
       "      <th>2</th>\n",
       "      <td>3f5cd3f78e5cab455606a31372a95d3204b2fb3f</td>\n",
       "      <td>847cf962bd6f62040673e6c24c24940aeb2d7fdaa54677...</td>\n",
       "      <td>2022-12-31T23:45:00.000</td>\n",
       "      <td>2023-01-01T00:00:00.000</td>\n",
       "      <td>600.0</td>\n",
       "      <td>0.90</td>\n",
       "      <td>NaN</td>\n",
       "      <td>NaN</td>\n",
       "      <td>8.0</td>\n",
       "      <td>8.0</td>\n",
       "      <td>...</td>\n",
       "      <td>3.0</td>\n",
       "      <td>12.00</td>\n",
       "      <td>Credit Card</td>\n",
       "      <td>Taxi Affiliation Services</td>\n",
       "      <td>41.899602</td>\n",
       "      <td>-87.633308</td>\n",
       "      <td>POINT (-87.6333080367 41.899602111)</td>\n",
       "      <td>41.899602</td>\n",
       "      <td>-87.633308</td>\n",
       "      <td>POINT (-87.6333080367 41.899602111)</td>\n",
       "    </tr>\n",
       "    <tr>\n",
       "      <th>3</th>\n",
       "      <td>38292159642750da7b20419330566f9eb0961cde</td>\n",
       "      <td>81092e4881f56106fae845c3ae4492f8b3c3213c33c920...</td>\n",
       "      <td>2022-12-31T23:45:00.000</td>\n",
       "      <td>2023-01-01T00:00:00.000</td>\n",
       "      <td>546.0</td>\n",
       "      <td>0.85</td>\n",
       "      <td>NaN</td>\n",
       "      <td>NaN</td>\n",
       "      <td>8.0</td>\n",
       "      <td>8.0</td>\n",
       "      <td>...</td>\n",
       "      <td>0.0</td>\n",
       "      <td>6.50</td>\n",
       "      <td>Cash</td>\n",
       "      <td>Taxicab Insurance Agency Llc</td>\n",
       "      <td>41.899602</td>\n",
       "      <td>-87.633308</td>\n",
       "      <td>POINT (-87.6333080367 41.899602111)</td>\n",
       "      <td>41.899602</td>\n",
       "      <td>-87.633308</td>\n",
       "      <td>POINT (-87.6333080367 41.899602111)</td>\n",
       "    </tr>\n",
       "    <tr>\n",
       "      <th>4</th>\n",
       "      <td>3e01498f8ff771ad7eb37e4844cef20201b6c339</td>\n",
       "      <td>4ae32e2eb244ce143800e0c40055e537cc50e3358a07ce...</td>\n",
       "      <td>2022-12-31T23:45:00.000</td>\n",
       "      <td>2023-01-01T00:00:00.000</td>\n",
       "      <td>574.0</td>\n",
       "      <td>0.33</td>\n",
       "      <td>NaN</td>\n",
       "      <td>NaN</td>\n",
       "      <td>8.0</td>\n",
       "      <td>8.0</td>\n",
       "      <td>...</td>\n",
       "      <td>0.0</td>\n",
       "      <td>6.25</td>\n",
       "      <td>Cash</td>\n",
       "      <td>City Service</td>\n",
       "      <td>41.899602</td>\n",
       "      <td>-87.633308</td>\n",
       "      <td>POINT (-87.6333080367 41.899602111)</td>\n",
       "      <td>41.899602</td>\n",
       "      <td>-87.633308</td>\n",
       "      <td>POINT (-87.6333080367 41.899602111)</td>\n",
       "    </tr>\n",
       "  </tbody>\n",
       "</table>\n",
       "<p>5 rows × 23 columns</p>\n",
       "</div>"
      ],
      "text/plain": [
       "                                    trip_id  \\\n",
       "0  4404c6835b9e74e9f74d70f235200a8ce09db14a   \n",
       "1  466473fd2a196ebe92fb2983cb7e8af32e39aa1f   \n",
       "2  3f5cd3f78e5cab455606a31372a95d3204b2fb3f   \n",
       "3  38292159642750da7b20419330566f9eb0961cde   \n",
       "4  3e01498f8ff771ad7eb37e4844cef20201b6c339   \n",
       "\n",
       "                                             taxi_id     trip_start_timestamp  \\\n",
       "0  7e179f8ef66ae99ec2d1ec89224e0b7ee5469fe5627f6d...  2022-12-31T23:45:00.000   \n",
       "1  d1d88b89ceb6d753007b6e795e3c24f4bea905a51e9d47...  2022-12-31T23:45:00.000   \n",
       "2  847cf962bd6f62040673e6c24c24940aeb2d7fdaa54677...  2022-12-31T23:45:00.000   \n",
       "3  81092e4881f56106fae845c3ae4492f8b3c3213c33c920...  2022-12-31T23:45:00.000   \n",
       "4  4ae32e2eb244ce143800e0c40055e537cc50e3358a07ce...  2022-12-31T23:45:00.000   \n",
       "\n",
       "        trip_end_timestamp  trip_seconds  trip_miles  pickup_census_tract  \\\n",
       "0  2023-01-01T00:15:00.000        2081.0        4.42                  NaN   \n",
       "1  2023-01-01T00:00:00.000         812.0        0.00                  NaN   \n",
       "2  2023-01-01T00:00:00.000         600.0        0.90                  NaN   \n",
       "3  2023-01-01T00:00:00.000         546.0        0.85                  NaN   \n",
       "4  2023-01-01T00:00:00.000         574.0        0.33                  NaN   \n",
       "\n",
       "   dropoff_census_tract  pickup_community_area  dropoff_community_area  ...  \\\n",
       "0                   NaN                    2.0                     3.0  ...   \n",
       "1                   NaN                    8.0                    24.0  ...   \n",
       "2                   NaN                    8.0                     8.0  ...   \n",
       "3                   NaN                    8.0                     8.0  ...   \n",
       "4                   NaN                    8.0                     8.0  ...   \n",
       "\n",
       "   extras  trip_total  payment_type                       company  \\\n",
       "0     0.0       20.50        Prcard                     Flash Cab   \n",
       "1     0.0       16.57        Mobile                     Flash Cab   \n",
       "2     3.0       12.00   Credit Card     Taxi Affiliation Services   \n",
       "3     0.0        6.50          Cash  Taxicab Insurance Agency Llc   \n",
       "4     0.0        6.25          Cash                  City Service   \n",
       "\n",
       "   pickup_centroid_latitude pickup_centroid_longitude  \\\n",
       "0                 42.001571                -87.695013   \n",
       "1                 41.899602                -87.633308   \n",
       "2                 41.899602                -87.633308   \n",
       "3                 41.899602                -87.633308   \n",
       "4                 41.899602                -87.633308   \n",
       "\n",
       "              pickup_centroid_location  dropoff_centroid_latitude  \\\n",
       "0  POINT (-87.6950125892 42.001571027)                  41.965812   \n",
       "1  POINT (-87.6333080367 41.899602111)                  41.901207   \n",
       "2  POINT (-87.6333080367 41.899602111)                  41.899602   \n",
       "3  POINT (-87.6333080367 41.899602111)                  41.899602   \n",
       "4  POINT (-87.6333080367 41.899602111)                  41.899602   \n",
       "\n",
       "   dropoff_centroid_longitude             dropoff_centroid_location  \n",
       "0                  -87.655879    POINT (-87.6558787862 41.96581197)  \n",
       "1                  -87.676356  POINT (-87.6763559892 41.9012069941)  \n",
       "2                  -87.633308   POINT (-87.6333080367 41.899602111)  \n",
       "3                  -87.633308   POINT (-87.6333080367 41.899602111)  \n",
       "4                  -87.633308   POINT (-87.6333080367 41.899602111)  \n",
       "\n",
       "[5 rows x 23 columns]"
      ]
     },
     "execution_count": 4,
     "metadata": {},
     "output_type": "execute_result"
    }
   ],
   "source": [
    "df.head()"
   ]
  },
  {
   "cell_type": "code",
   "execution_count": 5,
   "id": "a3225e02-5946-45f8-88b3-fb936b834f58",
   "metadata": {
    "tags": []
   },
   "outputs": [
    {
     "data": {
      "text/plain": [
       "trip_id                        object\n",
       "taxi_id                        object\n",
       "trip_start_timestamp           object\n",
       "trip_end_timestamp             object\n",
       "trip_seconds                  float64\n",
       "trip_miles                    float64\n",
       "pickup_census_tract           float64\n",
       "dropoff_census_tract          float64\n",
       "pickup_community_area         float64\n",
       "dropoff_community_area        float64\n",
       "fare                          float64\n",
       "tips                          float64\n",
       "tolls                         float64\n",
       "extras                        float64\n",
       "trip_total                    float64\n",
       "payment_type                   object\n",
       "company                        object\n",
       "pickup_centroid_latitude      float64\n",
       "pickup_centroid_longitude     float64\n",
       "pickup_centroid_location       object\n",
       "dropoff_centroid_latitude     float64\n",
       "dropoff_centroid_longitude    float64\n",
       "dropoff_centroid_location      object\n",
       "dtype: object"
      ]
     },
     "execution_count": 5,
     "metadata": {},
     "output_type": "execute_result"
    }
   ],
   "source": [
    "# Data types\n",
    "df.dtypes"
   ]
  },
  {
   "cell_type": "code",
   "execution_count": 6,
   "id": "fbe9cc29-01f4-4b67-ab91-bddd0fccde1c",
   "metadata": {
    "ExecuteTime": {
     "end_time": "2024-05-11T12:51:33.284221Z",
     "start_time": "2024-05-11T12:51:31.635530Z"
    }
   },
   "outputs": [
    {
     "name": "stdout",
     "output_type": "stream",
     "text": [
      "Min date: 2022-01-01 00:00:00\n",
      "Max date: 2022-12-31 23:45:00\n"
     ]
    }
   ],
   "source": [
    "# Convert time types to check if entries are from correct range\n",
    "df[\"trip_start_timestamp\"] = pd.to_datetime(df[\"trip_start_timestamp\"])\n",
    "df[\"trip_end_timestamp\"] = pd.to_datetime(df[\"trip_end_timestamp\"])\n",
    "\n",
    "# Convert other \n",
    "df[\"trip_seconds\"] =  pd.to_numeric(df['trip_seconds'])\n",
    "\n",
    "# In range of 2022:\n",
    "print(f\"Min date: {df['trip_start_timestamp'].min()}\")\n",
    "print(f\"Max date: {df['trip_start_timestamp'].max()}\")"
   ]
  },
  {
   "cell_type": "markdown",
   "id": "932d1bc8bee4a2ef",
   "metadata": {},
   "source": [
    "Make sure these are the right dates, here it should say **2022-01-01 00:00:00** and **2022-12-31 23:45:00**. "
   ]
  },
  {
   "cell_type": "code",
   "execution_count": 7,
   "id": "5c408596-7164-4de5-8667-ee1f288ef766",
   "metadata": {
    "ExecuteTime": {
     "end_time": "2024-05-11T12:53:06.606105Z",
     "start_time": "2024-05-11T12:53:04.986922Z"
    },
    "tags": []
   },
   "outputs": [
    {
     "name": "stdout",
     "output_type": "stream",
     "text": [
      "General shape of dataframe: (6382425, 23)\n",
      "trip_id                             0\n",
      "taxi_id                           354\n",
      "trip_start_timestamp                0\n",
      "trip_end_timestamp                212\n",
      "trip_seconds                     1465\n",
      "trip_miles                         56\n",
      "pickup_census_tract           3758594\n",
      "dropoff_census_tract          3707094\n",
      "pickup_community_area          513853\n",
      "dropoff_community_area         633684\n",
      "fare                             3536\n",
      "tips                             3536\n",
      "tolls                            3536\n",
      "extras                           3536\n",
      "trip_total                       3536\n",
      "payment_type                        0\n",
      "company                             0\n",
      "pickup_centroid_latitude       511551\n",
      "pickup_centroid_longitude      511551\n",
      "pickup_centroid_location       511551\n",
      "dropoff_centroid_latitude      597931\n",
      "dropoff_centroid_longitude     597931\n",
      "dropoff_centroid_location      597931\n",
      "dtype: int64\n"
     ]
    }
   ],
   "source": [
    "# Look into null values\n",
    "print(f\"General shape of dataframe: {df.shape}\")\n",
    "print(df.isna().sum())"
   ]
  },
  {
   "cell_type": "code",
   "execution_count": 8,
   "id": "4e1e1a8f-8d2d-4c79-8b2e-7e5dcde9708a",
   "metadata": {
    "tags": []
   },
   "outputs": [
    {
     "data": {
      "text/plain": [
       "Index(['trip_id', 'taxi_id', 'trip_start_timestamp', 'trip_end_timestamp',\n",
       "       'trip_seconds', 'trip_miles', 'pickup_census_tract',\n",
       "       'dropoff_census_tract', 'pickup_community_area',\n",
       "       'dropoff_community_area', 'fare', 'tips', 'tolls', 'extras',\n",
       "       'trip_total', 'payment_type', 'company', 'pickup_centroid_latitude',\n",
       "       'pickup_centroid_longitude', 'pickup_centroid_location',\n",
       "       'dropoff_centroid_latitude', 'dropoff_centroid_longitude',\n",
       "       'dropoff_centroid_location'],\n",
       "      dtype='object')"
      ]
     },
     "execution_count": 8,
     "metadata": {},
     "output_type": "execute_result"
    }
   ],
   "source": [
    "df.columns"
   ]
  },
  {
   "cell_type": "code",
   "execution_count": 9,
   "id": "f2d5e336-6110-4e99-8738-7c78857aff66",
   "metadata": {
    "tags": []
   },
   "outputs": [
    {
     "data": {
      "text/plain": [
       "trip_id                               object\n",
       "taxi_id                               object\n",
       "trip_start_timestamp          datetime64[ns]\n",
       "trip_end_timestamp            datetime64[ns]\n",
       "trip_seconds                         float64\n",
       "trip_miles                           float64\n",
       "pickup_census_tract                  float64\n",
       "dropoff_census_tract                 float64\n",
       "pickup_community_area                float64\n",
       "dropoff_community_area               float64\n",
       "fare                                 float64\n",
       "tips                                 float64\n",
       "tolls                                float64\n",
       "extras                               float64\n",
       "trip_total                           float64\n",
       "payment_type                          object\n",
       "company                               object\n",
       "pickup_centroid_latitude             float64\n",
       "pickup_centroid_longitude            float64\n",
       "pickup_centroid_location              object\n",
       "dropoff_centroid_latitude            float64\n",
       "dropoff_centroid_longitude           float64\n",
       "dropoff_centroid_location             object\n",
       "dtype: object"
      ]
     },
     "execution_count": 9,
     "metadata": {},
     "output_type": "execute_result"
    }
   ],
   "source": [
    "df.dtypes"
   ]
  },
  {
   "cell_type": "code",
   "execution_count": 10,
   "id": "6202756d-5534-406d-b9f4-35e8ff790b9a",
   "metadata": {
    "tags": []
   },
   "outputs": [],
   "source": [
    "# Convert trip duration to hours/km for easier visualization later\n",
    "df['trip_km'] = df['trip_miles'] * 1.609344\n",
    "df['trip_hours'] = df['trip_seconds'] / 3600"
   ]
  },
  {
   "cell_type": "code",
   "execution_count": 11,
   "id": "51fee0f9-c265-4bf4-9745-925a194bc8b1",
   "metadata": {
    "tags": []
   },
   "outputs": [],
   "source": [
    "# ------------------ Columns we do/will not work with can be dropped here ------------------\n",
    "# print(\"number of entries where column tolls is filled\", len(df[df[\"tolls\"] > 0]), \"percentage of positive values in this column: \",  (len(df[df[\"tolls\"] > 0])/len(df))) tolls 0.001 entries filled"
   ]
  },
  {
   "cell_type": "code",
   "execution_count": 12,
   "id": "f048418a-025b-44f8-aa54-ae9064bcc11c",
   "metadata": {
    "tags": []
   },
   "outputs": [
    {
     "data": {
      "text/html": [
       "<div>\n",
       "<style scoped>\n",
       "    .dataframe tbody tr th:only-of-type {\n",
       "        vertical-align: middle;\n",
       "    }\n",
       "\n",
       "    .dataframe tbody tr th {\n",
       "        vertical-align: top;\n",
       "    }\n",
       "\n",
       "    .dataframe thead th {\n",
       "        text-align: right;\n",
       "    }\n",
       "</style>\n",
       "<table border=\"1\" class=\"dataframe\">\n",
       "  <thead>\n",
       "    <tr style=\"text-align: right;\">\n",
       "      <th></th>\n",
       "      <th>trip_id</th>\n",
       "      <th>taxi_id</th>\n",
       "      <th>trip_start_timestamp</th>\n",
       "      <th>trip_end_timestamp</th>\n",
       "      <th>trip_seconds</th>\n",
       "      <th>trip_miles</th>\n",
       "      <th>pickup_census_tract</th>\n",
       "      <th>dropoff_census_tract</th>\n",
       "      <th>pickup_community_area</th>\n",
       "      <th>dropoff_community_area</th>\n",
       "      <th>...</th>\n",
       "      <th>payment_type</th>\n",
       "      <th>company</th>\n",
       "      <th>pickup_centroid_latitude</th>\n",
       "      <th>pickup_centroid_longitude</th>\n",
       "      <th>pickup_centroid_location</th>\n",
       "      <th>dropoff_centroid_latitude</th>\n",
       "      <th>dropoff_centroid_longitude</th>\n",
       "      <th>dropoff_centroid_location</th>\n",
       "      <th>trip_km</th>\n",
       "      <th>trip_hours</th>\n",
       "    </tr>\n",
       "  </thead>\n",
       "  <tbody>\n",
       "    <tr>\n",
       "      <th>0</th>\n",
       "      <td>4404c6835b9e74e9f74d70f235200a8ce09db14a</td>\n",
       "      <td>7e179f8ef66ae99ec2d1ec89224e0b7ee5469fe5627f6d...</td>\n",
       "      <td>2022-12-31 23:45:00</td>\n",
       "      <td>2023-01-01 00:15:00</td>\n",
       "      <td>2081.0</td>\n",
       "      <td>4.42</td>\n",
       "      <td>NaN</td>\n",
       "      <td>NaN</td>\n",
       "      <td>2.0</td>\n",
       "      <td>3.0</td>\n",
       "      <td>...</td>\n",
       "      <td>Prcard</td>\n",
       "      <td>Flash Cab</td>\n",
       "      <td>42.001571</td>\n",
       "      <td>-87.695013</td>\n",
       "      <td>POINT (-87.6950125892 42.001571027)</td>\n",
       "      <td>41.965812</td>\n",
       "      <td>-87.655879</td>\n",
       "      <td>POINT (-87.6558787862 41.96581197)</td>\n",
       "      <td>7.113300</td>\n",
       "      <td>0.578056</td>\n",
       "    </tr>\n",
       "    <tr>\n",
       "      <th>1</th>\n",
       "      <td>466473fd2a196ebe92fb2983cb7e8af32e39aa1f</td>\n",
       "      <td>d1d88b89ceb6d753007b6e795e3c24f4bea905a51e9d47...</td>\n",
       "      <td>2022-12-31 23:45:00</td>\n",
       "      <td>2023-01-01 00:00:00</td>\n",
       "      <td>812.0</td>\n",
       "      <td>0.00</td>\n",
       "      <td>NaN</td>\n",
       "      <td>NaN</td>\n",
       "      <td>8.0</td>\n",
       "      <td>24.0</td>\n",
       "      <td>...</td>\n",
       "      <td>Mobile</td>\n",
       "      <td>Flash Cab</td>\n",
       "      <td>41.899602</td>\n",
       "      <td>-87.633308</td>\n",
       "      <td>POINT (-87.6333080367 41.899602111)</td>\n",
       "      <td>41.901207</td>\n",
       "      <td>-87.676356</td>\n",
       "      <td>POINT (-87.6763559892 41.9012069941)</td>\n",
       "      <td>0.000000</td>\n",
       "      <td>0.225556</td>\n",
       "    </tr>\n",
       "    <tr>\n",
       "      <th>2</th>\n",
       "      <td>3f5cd3f78e5cab455606a31372a95d3204b2fb3f</td>\n",
       "      <td>847cf962bd6f62040673e6c24c24940aeb2d7fdaa54677...</td>\n",
       "      <td>2022-12-31 23:45:00</td>\n",
       "      <td>2023-01-01 00:00:00</td>\n",
       "      <td>600.0</td>\n",
       "      <td>0.90</td>\n",
       "      <td>NaN</td>\n",
       "      <td>NaN</td>\n",
       "      <td>8.0</td>\n",
       "      <td>8.0</td>\n",
       "      <td>...</td>\n",
       "      <td>Credit Card</td>\n",
       "      <td>Taxi Affiliation Services</td>\n",
       "      <td>41.899602</td>\n",
       "      <td>-87.633308</td>\n",
       "      <td>POINT (-87.6333080367 41.899602111)</td>\n",
       "      <td>41.899602</td>\n",
       "      <td>-87.633308</td>\n",
       "      <td>POINT (-87.6333080367 41.899602111)</td>\n",
       "      <td>1.448410</td>\n",
       "      <td>0.166667</td>\n",
       "    </tr>\n",
       "    <tr>\n",
       "      <th>3</th>\n",
       "      <td>38292159642750da7b20419330566f9eb0961cde</td>\n",
       "      <td>81092e4881f56106fae845c3ae4492f8b3c3213c33c920...</td>\n",
       "      <td>2022-12-31 23:45:00</td>\n",
       "      <td>2023-01-01 00:00:00</td>\n",
       "      <td>546.0</td>\n",
       "      <td>0.85</td>\n",
       "      <td>NaN</td>\n",
       "      <td>NaN</td>\n",
       "      <td>8.0</td>\n",
       "      <td>8.0</td>\n",
       "      <td>...</td>\n",
       "      <td>Cash</td>\n",
       "      <td>Taxicab Insurance Agency Llc</td>\n",
       "      <td>41.899602</td>\n",
       "      <td>-87.633308</td>\n",
       "      <td>POINT (-87.6333080367 41.899602111)</td>\n",
       "      <td>41.899602</td>\n",
       "      <td>-87.633308</td>\n",
       "      <td>POINT (-87.6333080367 41.899602111)</td>\n",
       "      <td>1.367942</td>\n",
       "      <td>0.151667</td>\n",
       "    </tr>\n",
       "    <tr>\n",
       "      <th>4</th>\n",
       "      <td>3e01498f8ff771ad7eb37e4844cef20201b6c339</td>\n",
       "      <td>4ae32e2eb244ce143800e0c40055e537cc50e3358a07ce...</td>\n",
       "      <td>2022-12-31 23:45:00</td>\n",
       "      <td>2023-01-01 00:00:00</td>\n",
       "      <td>574.0</td>\n",
       "      <td>0.33</td>\n",
       "      <td>NaN</td>\n",
       "      <td>NaN</td>\n",
       "      <td>8.0</td>\n",
       "      <td>8.0</td>\n",
       "      <td>...</td>\n",
       "      <td>Cash</td>\n",
       "      <td>City Service</td>\n",
       "      <td>41.899602</td>\n",
       "      <td>-87.633308</td>\n",
       "      <td>POINT (-87.6333080367 41.899602111)</td>\n",
       "      <td>41.899602</td>\n",
       "      <td>-87.633308</td>\n",
       "      <td>POINT (-87.6333080367 41.899602111)</td>\n",
       "      <td>0.531084</td>\n",
       "      <td>0.159444</td>\n",
       "    </tr>\n",
       "  </tbody>\n",
       "</table>\n",
       "<p>5 rows × 25 columns</p>\n",
       "</div>"
      ],
      "text/plain": [
       "                                    trip_id  \\\n",
       "0  4404c6835b9e74e9f74d70f235200a8ce09db14a   \n",
       "1  466473fd2a196ebe92fb2983cb7e8af32e39aa1f   \n",
       "2  3f5cd3f78e5cab455606a31372a95d3204b2fb3f   \n",
       "3  38292159642750da7b20419330566f9eb0961cde   \n",
       "4  3e01498f8ff771ad7eb37e4844cef20201b6c339   \n",
       "\n",
       "                                             taxi_id trip_start_timestamp  \\\n",
       "0  7e179f8ef66ae99ec2d1ec89224e0b7ee5469fe5627f6d...  2022-12-31 23:45:00   \n",
       "1  d1d88b89ceb6d753007b6e795e3c24f4bea905a51e9d47...  2022-12-31 23:45:00   \n",
       "2  847cf962bd6f62040673e6c24c24940aeb2d7fdaa54677...  2022-12-31 23:45:00   \n",
       "3  81092e4881f56106fae845c3ae4492f8b3c3213c33c920...  2022-12-31 23:45:00   \n",
       "4  4ae32e2eb244ce143800e0c40055e537cc50e3358a07ce...  2022-12-31 23:45:00   \n",
       "\n",
       "   trip_end_timestamp  trip_seconds  trip_miles  pickup_census_tract  \\\n",
       "0 2023-01-01 00:15:00        2081.0        4.42                  NaN   \n",
       "1 2023-01-01 00:00:00         812.0        0.00                  NaN   \n",
       "2 2023-01-01 00:00:00         600.0        0.90                  NaN   \n",
       "3 2023-01-01 00:00:00         546.0        0.85                  NaN   \n",
       "4 2023-01-01 00:00:00         574.0        0.33                  NaN   \n",
       "\n",
       "   dropoff_census_tract  pickup_community_area  dropoff_community_area  ...  \\\n",
       "0                   NaN                    2.0                     3.0  ...   \n",
       "1                   NaN                    8.0                    24.0  ...   \n",
       "2                   NaN                    8.0                     8.0  ...   \n",
       "3                   NaN                    8.0                     8.0  ...   \n",
       "4                   NaN                    8.0                     8.0  ...   \n",
       "\n",
       "   payment_type                       company  pickup_centroid_latitude  \\\n",
       "0        Prcard                     Flash Cab                 42.001571   \n",
       "1        Mobile                     Flash Cab                 41.899602   \n",
       "2   Credit Card     Taxi Affiliation Services                 41.899602   \n",
       "3          Cash  Taxicab Insurance Agency Llc                 41.899602   \n",
       "4          Cash                  City Service                 41.899602   \n",
       "\n",
       "   pickup_centroid_longitude             pickup_centroid_location  \\\n",
       "0                 -87.695013  POINT (-87.6950125892 42.001571027)   \n",
       "1                 -87.633308  POINT (-87.6333080367 41.899602111)   \n",
       "2                 -87.633308  POINT (-87.6333080367 41.899602111)   \n",
       "3                 -87.633308  POINT (-87.6333080367 41.899602111)   \n",
       "4                 -87.633308  POINT (-87.6333080367 41.899602111)   \n",
       "\n",
       "  dropoff_centroid_latitude dropoff_centroid_longitude  \\\n",
       "0                 41.965812                 -87.655879   \n",
       "1                 41.901207                 -87.676356   \n",
       "2                 41.899602                 -87.633308   \n",
       "3                 41.899602                 -87.633308   \n",
       "4                 41.899602                 -87.633308   \n",
       "\n",
       "              dropoff_centroid_location   trip_km trip_hours  \n",
       "0    POINT (-87.6558787862 41.96581197)  7.113300   0.578056  \n",
       "1  POINT (-87.6763559892 41.9012069941)  0.000000   0.225556  \n",
       "2   POINT (-87.6333080367 41.899602111)  1.448410   0.166667  \n",
       "3   POINT (-87.6333080367 41.899602111)  1.367942   0.151667  \n",
       "4   POINT (-87.6333080367 41.899602111)  0.531084   0.159444  \n",
       "\n",
       "[5 rows x 25 columns]"
      ]
     },
     "execution_count": 12,
     "metadata": {},
     "output_type": "execute_result"
    }
   ],
   "source": [
    "df.head()"
   ]
  },
  {
   "cell_type": "markdown",
   "id": "a6e0c83e-5275-40ec-a492-35cb5bb880cd",
   "metadata": {},
   "source": [
    "### 1.2 Checking data logic & removing invalid data"
   ]
  },
  {
   "cell_type": "markdown",
   "id": "562fcc8e-36e8-4972-9b6f-cf696ee43cf2",
   "metadata": {
    "tags": []
   },
   "source": [
    "#### 1.2.1 Duplicate entries"
   ]
  },
  {
   "cell_type": "code",
   "execution_count": 13,
   "id": "4e09e0c3-9c12-4582-8f66-65b5b16f74d4",
   "metadata": {
    "tags": []
   },
   "outputs": [
    {
     "name": "stdout",
     "output_type": "stream",
     "text": [
      "Number of duplicate entries:  21772\n"
     ]
    }
   ],
   "source": [
    "# Check duplicates \n",
    "print(\"Number of duplicate entries: \", df.duplicated(subset = ['taxi_id', 'trip_start_timestamp', 'trip_end_timestamp', 'trip_seconds', 'trip_miles', \n",
    "                                                              'pickup_census_tract','dropoff_census_tract','pickup_community_area', 'dropoff_community_area',\n",
    "                                                              'pickup_centroid_latitude','pickup_centroid_longitude','pickup_centroid_location','dropoff_centroid_latitude',\n",
    "                                                              'dropoff_centroid_longitude','dropoff_centroid_location']).sum())"
   ]
  },
  {
   "cell_type": "code",
   "execution_count": 14,
   "id": "1a84b6c6-279b-4e05-b028-d097122254dd",
   "metadata": {
    "tags": []
   },
   "outputs": [
    {
     "data": {
      "text/plain": [
       "(6360653, 25)"
      ]
     },
     "execution_count": 14,
     "metadata": {},
     "output_type": "execute_result"
    }
   ],
   "source": [
    "df = df.drop_duplicates(subset = ['taxi_id', 'trip_start_timestamp', 'trip_end_timestamp', 'trip_seconds', 'trip_miles', \n",
    "                                                              'pickup_census_tract','dropoff_census_tract','pickup_community_area', 'dropoff_community_area',\n",
    "                                                              'pickup_centroid_latitude','pickup_centroid_longitude','pickup_centroid_location','dropoff_centroid_latitude',\n",
    "                                                              'dropoff_centroid_longitude','dropoff_centroid_location'], keep='first')\n",
    "df.shape"
   ]
  },
  {
   "cell_type": "markdown",
   "id": "c3920c51-f8c9-49e7-ba87-860e95f90aeb",
   "metadata": {
    "tags": []
   },
   "source": [
    "#### 1.2.2 Time Logic - TODO"
   ]
  },
  {
   "cell_type": "markdown",
   "id": "c00ae330-c2b5-4a4f-ad08-401352ce8222",
   "metadata": {},
   "source": [
    "First do some start/end time checks"
   ]
  },
  {
   "cell_type": "code",
   "execution_count": 15,
   "id": "2e151cdd-84f6-413f-ba74-13bf5ceef5e5",
   "metadata": {
    "tags": []
   },
   "outputs": [
    {
     "name": "stdout",
     "output_type": "stream",
     "text": [
      "Number of rows where starttime > endtime: 122\n"
     ]
    }
   ],
   "source": [
    "print(f\"Number of rows where starttime > endtime: {len(df[df['trip_start_timestamp'] > df['trip_end_timestamp']])}\")"
   ]
  },
  {
   "cell_type": "code",
   "execution_count": 16,
   "id": "fc459229-1cdc-48ae-8a54-d83a2be09cf7",
   "metadata": {
    "tags": []
   },
   "outputs": [],
   "source": [
    "# Drop where <=\n",
    "## Time equality allowed since trips are only saved in specific time interval (trip could have been too short for right recording of the time)\n",
    "df = df[df[\"trip_start_timestamp\"] <= df[\"trip_end_timestamp\"]]"
   ]
  },
  {
   "cell_type": "code",
   "execution_count": 17,
   "id": "d0cd6162-e8fd-4f8a-9cef-bc1afcb6517f",
   "metadata": {
    "tags": []
   },
   "outputs": [
    {
     "name": "stdout",
     "output_type": "stream",
     "text": [
      "Number of rows where starttime equals endtime, trip seconds and miles = 0, and dropoff/pickup location and census are the same: 47447\n"
     ]
    }
   ],
   "source": [
    "# Entries where start = endtime, trip miles = seconds = 0, dropoff = pickup coordinates (centroids & census)\n",
    "print(\"Number of rows where starttime equals endtime, trip seconds and miles = 0, and dropoff/pickup location and census are the same:\", len(df[(df['trip_start_timestamp'] == df['trip_end_timestamp']) &\n",
    "(df['trip_seconds'] == 0) & (df['trip_miles'] == 0) & (df['pickup_centroid_location'] == df['dropoff_centroid_location']) & (df['pickup_census_tract'] == df['dropoff_census_tract'])]))"
   ]
  },
  {
   "cell_type": "code",
   "execution_count": 18,
   "id": "20e39e42-e810-452b-8b42-0886a5157880",
   "metadata": {
    "tags": []
   },
   "outputs": [],
   "source": [
    "# TODO: Drop these? or more checks\n",
    "df = df[~((df['trip_start_timestamp'] == df['trip_end_timestamp']) &\n",
    "(df['trip_seconds'] == 0) & (df['trip_miles'] == 0) & (df['pickup_centroid_location'] == df['dropoff_centroid_location']) & (df['pickup_census_tract'] == df['dropoff_census_tract']))]"
   ]
  },
  {
   "cell_type": "markdown",
   "id": "f247ff5d-0131-4f1d-b4c8-2b4dfe90fac0",
   "metadata": {
    "tags": []
   },
   "source": [
    "Look at the \"trip_seconds\" column next."
   ]
  },
  {
   "cell_type": "code",
   "execution_count": 19,
   "id": "b8fc4e4e-69f4-451f-92df-73daba87807a",
   "metadata": {
    "tags": []
   },
   "outputs": [
    {
     "name": "stdout",
     "output_type": "stream",
     "text": [
      "Max trip seconds: 86341.0\n",
      "Number of rows with unreasonable trip_seconds (more than 4h): 7052\n"
     ]
    }
   ],
   "source": [
    "# Maximal time duration\n",
    "## Looking at googlemaps/the county's neighborhoods, from most northern to most southern trip it takes around 1h 20min + traffic at most 4h? (worst traffic fridays between 4 p.m. and 5 p.m.)\n",
    "print(\"Max trip seconds:\", df[\"trip_seconds\"].max()) # Max is 86341 sec ~ 1 day \n",
    "print(\"Number of rows with unreasonable trip_seconds (more than 4h):\", len(df[(df['trip_seconds'] > 14400)]))"
   ]
  },
  {
   "cell_type": "code",
   "execution_count": 20,
   "id": "2b5abf98-1de0-4520-9396-8fec797f955e",
   "metadata": {
    "tags": []
   },
   "outputs": [
    {
     "data": {
      "image/png": "[encoded data removed]",
      "text/plain": [
       "<Figure size 500x700 with 1 Axes>"
      ]
     },
     "metadata": {},
     "output_type": "display_data"
    }
   ],
   "source": [
    "fig, ax = plt.subplots(figsize=(5,7))\n",
    "ax.scatter(df['trip_km'], df['trip_hours'])\n",
    "ax.set_xlabel('Trip distance in km')\n",
    "ax.set_ylabel('Trip time in hours')\n",
    "ax.set_title(\"Trip time against hours (full dataset)\")\n",
    "plt.show()"
   ]
  },
  {
   "cell_type": "markdown",
   "id": "28dc3b80-2857-4545-bc0c-e6e4593437cd",
   "metadata": {},
   "source": [
    "From this we can see a lot of trips that do not have a lot of miles but time that has passed. This could be due to the specific time intervals trips take place in. For instance, if a trip is less than 15 min long, this would not be recorded properly and instead have assigned 0 miles or 0 sec trip time. Still, we should **disregard** extreme outliers, e.g. such that have **trip_total > 3h (10.800 sec)** (for the time consider the most northern & southern neighborhoods of Cook county, which is approx. 1,2h long and in worst traffic scenario (e.g. Fridays at 4.00 to 5.00pm) => we get 3h)"
   ]
  },
  {
   "cell_type": "code",
   "execution_count": 21,
   "id": "9870ff59-468e-4c77-aa7f-2ed577973ad5",
   "metadata": {
    "tags": []
   },
   "outputs": [
    {
     "name": "stdout",
     "output_type": "stream",
     "text": [
      "Number of affected rows:  186\n"
     ]
    },
    {
     "data": {
      "image/png": "[encoded data removed]",
      "text/plain": [
       "<Figure size 500x700 with 1 Axes>"
      ]
     },
     "metadata": {},
     "output_type": "display_data"
    }
   ],
   "source": [
    "# TODO/DISCUSS: Which entries should we drop? Drop miles + seconds or only unreasonable seconds?\n",
    "print(\"Number of affected rows: \", len(df[(df[\"trip_seconds\"] > 10800) & (df[\"trip_km\"] > 180)]))\n",
    "# Logical AND/OR ?\n",
    "df = df[(df[\"trip_seconds\"] <= 10800) & (df[\"trip_km\"] <= 180)]\n",
    "\n",
    "fig, ax = plt.subplots(figsize=(5,7))\n",
    "ax.scatter(df[\"trip_km\"], df[\"trip_hours\"])\n",
    "ax.set_xlabel('Trip distance in km')\n",
    "ax.set_ylabel('Trip time in hours')\n",
    "ax.set_title(\"Trip time against hours (w dropped entries)\")\n",
    "plt.show()"
   ]
  },
  {
   "cell_type": "markdown",
   "id": "0ee2b655-4587-4bfe-b988-6fc579dd5c39",
   "metadata": {
    "tags": []
   },
   "source": [
    "#### 1.2.3 Trip Logic - TODO"
   ]
  },
  {
   "cell_type": "code",
   "execution_count": 22,
   "id": "573ffe69-1167-40b2-ba2d-3a489ee6a660",
   "metadata": {
    "tags": []
   },
   "outputs": [
    {
     "name": "stdout",
     "output_type": "stream",
     "text": [
      "Number of rows with negative values in trip_seconds: 0\n",
      "Number of rows with negative values in trip_miles: 0\n",
      "Number of rows with negative values in fare: 0\n",
      "Number of rows with negative values in tips: 0\n",
      "Number of rows with negative values in tolls: 0\n",
      "Number of rows with negative values in extras: 0\n",
      "Number of rows with negative values in trip_total: 0\n"
     ]
    }
   ],
   "source": [
    "cols = ['trip_seconds', 'trip_miles', 'fare', 'tips', 'tolls', 'extras', 'trip_total']\n",
    "for col in cols:\n",
    "        print(f\"Number of rows with negative values in {col}: {len(df[df[col] < 0])}\")"
   ]
  },
  {
   "cell_type": "code",
   "execution_count": 23,
   "id": "7727d998-2c43-4c3c-882a-b7ca66ec21b1",
   "metadata": {
    "tags": []
   },
   "outputs": [
    {
     "name": "stdout",
     "output_type": "stream",
     "text": [
      "Number of rows where trip_total does not match sum of fare, tips, tolls, and extras: 1844768\n"
     ]
    }
   ],
   "source": [
    "# This can be explained through missing values for one of the columns, so we can still include them\n",
    "other_total = df[df['trip_total'] != df['fare'] + df['tips'] + df['tolls'] + df['extras']]\n",
    "print(f\"Number of rows where trip_total does not match sum of fare, tips, tolls, and extras: {len(other_total)}\")\n",
    "# df[df['trip_total'] != df['fare'] + df['tips'] + df['tolls'] + df['extras']]"
   ]
  },
  {
   "cell_type": "code",
   "execution_count": 24,
   "id": "24146c07-6c7e-440a-8175-459f455f9474",
   "metadata": {
    "tags": []
   },
   "outputs": [
    {
     "name": "stdout",
     "output_type": "stream",
     "text": [
      "Number of rows with no census and no community (PICKUP): 507118\n",
      "Number of rows with no census and no community (DROPOFF): 586044\n",
      "\n",
      "\n",
      "Number of rows with no census and no community (BOTH):  224130\n",
      "Number of rows with no community DROPOFF and no community PICKUP: 225948\n"
     ]
    }
   ],
   "source": [
    "# TODO: Do some checks concerning...\n",
    "print(f\"Number of rows with no census and no community (PICKUP): {len(df[df['pickup_census_tract'].isna() & df['pickup_community_area'].isna()])}\")\n",
    "print(f\"Number of rows with no census and no community (DROPOFF): {len(df[df['dropoff_census_tract'].isna() & df['dropoff_community_area'].isna()])}\")\n",
    "# Rows we should drop\n",
    "print(\"\\n\")\n",
    "print(\"Number of rows with no census and no community (BOTH): \",len(df[df['pickup_census_tract'].isna() \n",
    "                                                                       & df['pickup_community_area'].isna() & df['dropoff_census_tract'].isna() & df['dropoff_community_area'].isna()]))\n",
    "print(f\"Number of rows with no community DROPOFF and no community PICKUP: {len(df[df['pickup_centroid_location'].isna() & df['dropoff_centroid_location'].isna()])}\")\n"
   ]
  },
  {
   "cell_type": "markdown",
   "id": "78571336-ba0c-4fe9-8217-b3ad9b3273fa",
   "metadata": {
    "tags": []
   },
   "source": [
    "### 1.3 Checking null values"
   ]
  },
  {
   "cell_type": "code",
   "execution_count": 25,
   "id": "36139b18-a9f4-401b-aa55-e63b73371c5f",
   "metadata": {
    "tags": []
   },
   "outputs": [
    {
     "data": {
      "text/plain": [
       "trip_id                             0\n",
       "taxi_id                           347\n",
       "trip_start_timestamp                0\n",
       "trip_end_timestamp                  0\n",
       "trip_seconds                        0\n",
       "trip_miles                          0\n",
       "pickup_census_tract           3737624\n",
       "dropoff_census_tract          3685880\n",
       "pickup_community_area          509905\n",
       "dropoff_community_area         628415\n",
       "fare                             3331\n",
       "tips                             3331\n",
       "tolls                            3331\n",
       "extras                           3331\n",
       "trip_total                       3331\n",
       "payment_type                        0\n",
       "company                             0\n",
       "pickup_centroid_latitude       507782\n",
       "pickup_centroid_longitude      507782\n",
       "pickup_centroid_location       507782\n",
       "dropoff_centroid_latitude      592875\n",
       "dropoff_centroid_longitude     592875\n",
       "dropoff_centroid_location      592875\n",
       "trip_km                             0\n",
       "trip_hours                          0\n",
       "dtype: int64"
      ]
     },
     "execution_count": 25,
     "metadata": {},
     "output_type": "execute_result"
    }
   ],
   "source": [
    "df.isna().sum()"
   ]
  },
  {
   "cell_type": "markdown",
   "id": "a72c8041-f26f-4167-9085-bc4160f1c321",
   "metadata": {},
   "source": [
    "#### 1.3.1 Time null values"
   ]
  },
  {
   "cell_type": "code",
   "execution_count": 26,
   "id": "22395abc-a63c-44a5-a44b-f965550ca7e7",
   "metadata": {
    "tags": []
   },
   "outputs": [
    {
     "name": "stdout",
     "output_type": "stream",
     "text": [
      "Entries where no trip seconds but start and end time are also equal  0\n",
      "Entries where no trip seconds but start and end time different  0\n"
     ]
    }
   ],
   "source": [
    "# Drop entries where trip seconds are null and time is equal\n",
    "print(\"Entries where no trip seconds but start and end time are also equal \", len(df[df[\"trip_seconds\"].isna() & (df[\"trip_start_timestamp\"] ==  df[\"trip_end_timestamp\"])]))\n",
    "print(\"Entries where no trip seconds but start and end time different \", len(df[df[\"trip_seconds\"].isna() & (df[\"trip_start_timestamp\"] !=  df[\"trip_end_timestamp\"])]))"
   ]
  },
  {
   "cell_type": "code",
   "execution_count": 27,
   "id": "f5f059cb-b79a-4ddf-8565-583b8c4531e7",
   "metadata": {
    "tags": []
   },
   "outputs": [
    {
     "data": {
      "text/plain": [
       "0"
      ]
     },
     "execution_count": 27,
     "metadata": {},
     "output_type": "execute_result"
    }
   ],
   "source": [
    "# Drop where cannot be calculated:\n",
    "df = df[~(df[\"trip_seconds\"].isna() & (df[\"trip_start_timestamp\"] ==  df[\"trip_end_timestamp\"]))]\n",
    "\n",
    "# Else calculate the trip seconds:\n",
    "temp_trip = df[df[\"trip_seconds\"].isna() & (df[\"trip_start_timestamp\"] !=  df[\"trip_end_timestamp\"])].copy()\n",
    "temp_trip[\"calculated_trip_seconds\"] = (temp_trip[\"trip_end_timestamp\"] - temp_trip[\"trip_start_timestamp\"]).dt.seconds\n",
    "df[\"trip_seconds\"].fillna(temp_trip[\"calculated_trip_seconds\"], inplace=True)\n",
    "\n",
    "df[\"trip_seconds\"].isna().sum()"
   ]
  },
  {
   "cell_type": "markdown",
   "id": "164865f1-9141-4678-b077-aaa4259cebc8",
   "metadata": {
    "tags": []
   },
   "source": [
    "#### Further checks..."
   ]
  },
  {
   "cell_type": "markdown",
   "id": "ef70e630-2020-4f25-9c95-49013352733b",
   "metadata": {},
   "source": [
    "### 1.4 Hexagons - res8 and res7 takes too long (deswegen erstmal ausgeklammert)"
   ]
  },
  {
   "cell_type": "code",
   "execution_count": 33,
   "id": "0ac57c17-7797-417e-bc7e-81f5e53e5bc2",
   "metadata": {
    "tags": []
   },
   "outputs": [],
   "source": [
    "# Get hex ids\n",
    "def add_h3_ids(df, res):\n",
    "    df[f\"h3_res{res}_pickup\"] = np.vectorize(h3.geo_to_h3)(\n",
    "        df['pickup_centroid_latitude'], df['pickup_centroid_longitude'], res)\n",
    "    df[f\"h3_res{res}_dropoff\"] = np.vectorize(h3.geo_to_h3)(\n",
    "        df['dropoff_centroid_latitude'], df['dropoff_centroid_longitude'], res)\n",
    "    return df\n",
    "\n",
    "# Get poly from hex ids - vectorized form to save time\n",
    "def poly_from_hex(df, colname, res):\n",
    "    hex_ids = df[f\"h3_res{res}_{colname}\"].values\n",
    "    polygons = np.vectorize(lambda hex_id: Polygon(h3.h3_to_geo_boundary(hex_id, geo_json=True)))(hex_ids)\n",
    "    df[f\"poly_res{res}_{colname}\"] = polygons\n",
    "    return df\n",
    "\n",
    "# Get count for each trip happening in the same hexagon\n",
    "def get_poly_count(df, colname):\n",
    "    name = colname.split(\"_\")[1] + \"_\" + colname.split(\"_\")[2]\n",
    "    df[f\"count{name}\"] = df.groupby(colname)['trip_id'].transform('count')\n",
    "    return df"
   ]
  },
  {
   "cell_type": "code",
   "execution_count": 29,
   "id": "1ce2d96d-b681-4d80-b0c1-48515d111e68",
   "metadata": {
    "tags": []
   },
   "outputs": [],
   "source": [
    "# For hexagon resolution, adapted: https://towardsdatascience.com/exploring-location-data-using-a-hexagon-grid-3509b68b04a2 table\n",
    "hex_df = add_h3_ids(df, 7)\n",
    "#hex_df = add_h3_ids(df, 8)"
   ]
  },
  {
   "cell_type": "code",
   "execution_count": 30,
   "id": "e7a2f39e-987c-477c-b0da-2eea61025182",
   "metadata": {
    "tags": []
   },
   "outputs": [
    {
     "name": "stdout",
     "output_type": "stream",
     "text": [
      "Number of hex ids equal to 0:  874709\n"
     ]
    }
   ],
   "source": [
    "# Entries where hex id is 0, we cannot use for visualization, hence drop\n",
    "## TODO: maybe if census tract is given/community area, we can use this to merge with later census data to get hexagons for these entries? \n",
    "print(\"Number of hex ids equal to 0: \",len(hex_df[(hex_df[\"h3_res7_pickup\"] == \"0\") | (hex_df[\"h3_res7_dropoff\"] == \"0\")]))\n",
    "\n",
    "hex_df_clear = hex_df[(hex_df[\"h3_res7_pickup\"] != \"0\") & (hex_df[\"h3_res7_dropoff\"] != \"0\")]"
   ]
  },
  {
   "cell_type": "code",
   "execution_count": 31,
   "id": "43b52166-f3d3-4d3d-90f0-d4a981fa658b",
   "metadata": {
    "tags": []
   },
   "outputs": [
    {
     "data": {
      "text/html": [
       "<div>\n",
       "<style scoped>\n",
       "    .dataframe tbody tr th:only-of-type {\n",
       "        vertical-align: middle;\n",
       "    }\n",
       "\n",
       "    .dataframe tbody tr th {\n",
       "        vertical-align: top;\n",
       "    }\n",
       "\n",
       "    .dataframe thead th {\n",
       "        text-align: right;\n",
       "    }\n",
       "</style>\n",
       "<table border=\"1\" class=\"dataframe\">\n",
       "  <thead>\n",
       "    <tr style=\"text-align: right;\">\n",
       "      <th></th>\n",
       "      <th>trip_id</th>\n",
       "      <th>taxi_id</th>\n",
       "      <th>trip_start_timestamp</th>\n",
       "      <th>trip_end_timestamp</th>\n",
       "      <th>trip_seconds</th>\n",
       "      <th>trip_miles</th>\n",
       "      <th>pickup_census_tract</th>\n",
       "      <th>dropoff_census_tract</th>\n",
       "      <th>pickup_community_area</th>\n",
       "      <th>dropoff_community_area</th>\n",
       "      <th>...</th>\n",
       "      <th>pickup_centroid_location</th>\n",
       "      <th>dropoff_centroid_latitude</th>\n",
       "      <th>dropoff_centroid_longitude</th>\n",
       "      <th>dropoff_centroid_location</th>\n",
       "      <th>trip_km</th>\n",
       "      <th>trip_hours</th>\n",
       "      <th>h3_res7_pickup</th>\n",
       "      <th>h3_res7_dropoff</th>\n",
       "      <th>h3_res8_pickup</th>\n",
       "      <th>h3_res8_dropoff</th>\n",
       "    </tr>\n",
       "  </thead>\n",
       "  <tbody>\n",
       "    <tr>\n",
       "      <th>0</th>\n",
       "      <td>4404c6835b9e74e9f74d70f235200a8ce09db14a</td>\n",
       "      <td>7e179f8ef66ae99ec2d1ec89224e0b7ee5469fe5627f6d...</td>\n",
       "      <td>2022-12-31 23:45:00</td>\n",
       "      <td>2023-01-01 00:15:00</td>\n",
       "      <td>2081.0</td>\n",
       "      <td>4.42</td>\n",
       "      <td>NaN</td>\n",
       "      <td>NaN</td>\n",
       "      <td>2.0</td>\n",
       "      <td>3.0</td>\n",
       "      <td>...</td>\n",
       "      <td>POINT (-87.6950125892 42.001571027)</td>\n",
       "      <td>41.965812</td>\n",
       "      <td>-87.655879</td>\n",
       "      <td>POINT (-87.6558787862 41.96581197)</td>\n",
       "      <td>7.1133</td>\n",
       "      <td>0.578056</td>\n",
       "      <td>872664d8effffff</td>\n",
       "      <td>872664d89ffffff</td>\n",
       "      <td>882664d8e1fffff</td>\n",
       "      <td>882664d897fffff</td>\n",
       "    </tr>\n",
       "    <tr>\n",
       "      <th>1</th>\n",
       "      <td>466473fd2a196ebe92fb2983cb7e8af32e39aa1f</td>\n",
       "      <td>d1d88b89ceb6d753007b6e795e3c24f4bea905a51e9d47...</td>\n",
       "      <td>2022-12-31 23:45:00</td>\n",
       "      <td>2023-01-01 00:00:00</td>\n",
       "      <td>812.0</td>\n",
       "      <td>0.00</td>\n",
       "      <td>NaN</td>\n",
       "      <td>NaN</td>\n",
       "      <td>8.0</td>\n",
       "      <td>24.0</td>\n",
       "      <td>...</td>\n",
       "      <td>POINT (-87.6333080367 41.899602111)</td>\n",
       "      <td>41.901207</td>\n",
       "      <td>-87.676356</td>\n",
       "      <td>POINT (-87.6763559892 41.9012069941)</td>\n",
       "      <td>0.0000</td>\n",
       "      <td>0.225556</td>\n",
       "      <td>872664c1effffff</td>\n",
       "      <td>872664cacffffff</td>\n",
       "      <td>882664c1edfffff</td>\n",
       "      <td>882664cac3fffff</td>\n",
       "    </tr>\n",
       "  </tbody>\n",
       "</table>\n",
       "<p>2 rows × 29 columns</p>\n",
       "</div>"
      ],
      "text/plain": [
       "                                    trip_id  \\\n",
       "0  4404c6835b9e74e9f74d70f235200a8ce09db14a   \n",
       "1  466473fd2a196ebe92fb2983cb7e8af32e39aa1f   \n",
       "\n",
       "                                             taxi_id trip_start_timestamp  \\\n",
       "0  7e179f8ef66ae99ec2d1ec89224e0b7ee5469fe5627f6d...  2022-12-31 23:45:00   \n",
       "1  d1d88b89ceb6d753007b6e795e3c24f4bea905a51e9d47...  2022-12-31 23:45:00   \n",
       "\n",
       "   trip_end_timestamp  trip_seconds  trip_miles  pickup_census_tract  \\\n",
       "0 2023-01-01 00:15:00        2081.0        4.42                  NaN   \n",
       "1 2023-01-01 00:00:00         812.0        0.00                  NaN   \n",
       "\n",
       "   dropoff_census_tract  pickup_community_area  dropoff_community_area  ...  \\\n",
       "0                   NaN                    2.0                     3.0  ...   \n",
       "1                   NaN                    8.0                    24.0  ...   \n",
       "\n",
       "              pickup_centroid_location  dropoff_centroid_latitude  \\\n",
       "0  POINT (-87.6950125892 42.001571027)                  41.965812   \n",
       "1  POINT (-87.6333080367 41.899602111)                  41.901207   \n",
       "\n",
       "   dropoff_centroid_longitude             dropoff_centroid_location  trip_km  \\\n",
       "0                  -87.655879    POINT (-87.6558787862 41.96581197)   7.1133   \n",
       "1                  -87.676356  POINT (-87.6763559892 41.9012069941)   0.0000   \n",
       "\n",
       "  trip_hours   h3_res7_pickup  h3_res7_dropoff   h3_res8_pickup  \\\n",
       "0   0.578056  872664d8effffff  872664d89ffffff  882664d8e1fffff   \n",
       "1   0.225556  872664c1effffff  872664cacffffff  882664c1edfffff   \n",
       "\n",
       "   h3_res8_dropoff  \n",
       "0  882664d897fffff  \n",
       "1  882664cac3fffff  \n",
       "\n",
       "[2 rows x 29 columns]"
      ]
     },
     "execution_count": 31,
     "metadata": {},
     "output_type": "execute_result"
    }
   ],
   "source": [
    "hex_df_clear.head(2)"
   ]
  },
  {
   "cell_type": "code",
   "execution_count": 34,
   "id": "aff0bb44-45d9-4b9d-8bd9-1a4aff320efb",
   "metadata": {
    "tags": []
   },
   "outputs": [
    {
     "name": "stderr",
     "output_type": "stream",
     "text": [
      "C:\\Users\\25mad\\AppData\\Local\\Temp\\ipykernel_29720\\3325588696.py:13: SettingWithCopyWarning: \n",
      "A value is trying to be set on a copy of a slice from a DataFrame.\n",
      "Try using .loc[row_indexer,col_indexer] = value instead\n",
      "\n",
      "See the caveats in the documentation: https://pandas.pydata.org/pandas-docs/stable/user_guide/indexing.html#returning-a-view-versus-a-copy\n",
      "  df[f\"poly_res{res}_{colname}\"] = polygons\n",
      "\n",
      "KeyboardInterrupt\n",
      "\n"
     ]
    }
   ],
   "source": [
    "# Get polygon from hex ids\n",
    "hex_df_poly = poly_from_hex(hex_df_clear, \"pickup\", 7)\n",
    "#hex_df_poly = poly_from_hex(hex_df_clear, \"dropoff\", 7)\n",
    "# hex_df_poly = poly_from_hex(hex_df_clear, \"pickup\", 8)\n",
    "# hex_df_poly = poly_from_hex(hex_df_clear, \"dropoff\", 8)"
   ]
  },
  {
   "cell_type": "code",
   "execution_count": 38,
   "id": "0a30c791-c4c1-49be-ba6a-5f890a46037e",
   "metadata": {
    "tags": []
   },
   "outputs": [
    {
     "data": {
      "text/html": [
       "<div>\n",
       "<style scoped>\n",
       "    .dataframe tbody tr th:only-of-type {\n",
       "        vertical-align: middle;\n",
       "    }\n",
       "\n",
       "    .dataframe tbody tr th {\n",
       "        vertical-align: top;\n",
       "    }\n",
       "\n",
       "    .dataframe thead th {\n",
       "        text-align: right;\n",
       "    }\n",
       "</style>\n",
       "<table border=\"1\" class=\"dataframe\">\n",
       "  <thead>\n",
       "    <tr style=\"text-align: right;\">\n",
       "      <th></th>\n",
       "      <th>trip_id</th>\n",
       "      <th>taxi_id</th>\n",
       "      <th>trip_start_timestamp</th>\n",
       "      <th>trip_end_timestamp</th>\n",
       "      <th>trip_seconds</th>\n",
       "      <th>trip_miles</th>\n",
       "      <th>pickup_census_tract</th>\n",
       "      <th>dropoff_census_tract</th>\n",
       "      <th>pickup_community_area</th>\n",
       "      <th>dropoff_community_area</th>\n",
       "      <th>...</th>\n",
       "      <th>dropoff_centroid_longitude</th>\n",
       "      <th>dropoff_centroid_location</th>\n",
       "      <th>trip_km</th>\n",
       "      <th>trip_hours</th>\n",
       "      <th>h3_res7_pickup</th>\n",
       "      <th>h3_res7_dropoff</th>\n",
       "      <th>h3_res8_pickup</th>\n",
       "      <th>h3_res8_dropoff</th>\n",
       "      <th>poly_res7_pickup</th>\n",
       "      <th>poly_res7_dropoff</th>\n",
       "    </tr>\n",
       "  </thead>\n",
       "  <tbody>\n",
       "    <tr>\n",
       "      <th>0</th>\n",
       "      <td>4404c6835b9e74e9f74d70f235200a8ce09db14a</td>\n",
       "      <td>7e179f8ef66ae99ec2d1ec89224e0b7ee5469fe5627f6d...</td>\n",
       "      <td>2022-12-31 23:45:00</td>\n",
       "      <td>2023-01-01 00:15:00</td>\n",
       "      <td>2081.0</td>\n",
       "      <td>4.42</td>\n",
       "      <td>NaN</td>\n",
       "      <td>NaN</td>\n",
       "      <td>2.0</td>\n",
       "      <td>3.0</td>\n",
       "      <td>...</td>\n",
       "      <td>-87.655879</td>\n",
       "      <td>POINT (-87.6558787862 41.96581197)</td>\n",
       "      <td>7.1133</td>\n",
       "      <td>0.578056</td>\n",
       "      <td>872664d8effffff</td>\n",
       "      <td>872664d89ffffff</td>\n",
       "      <td>882664d8e1fffff</td>\n",
       "      <td>882664d897fffff</td>\n",
       "      <td>POLYGON ((-87.69707061396723 42.01260288298376...</td>\n",
       "      <td>POLYGON ((-87.65510606950835 41.98050464017767...</td>\n",
       "    </tr>\n",
       "    <tr>\n",
       "      <th>1</th>\n",
       "      <td>466473fd2a196ebe92fb2983cb7e8af32e39aa1f</td>\n",
       "      <td>d1d88b89ceb6d753007b6e795e3c24f4bea905a51e9d47...</td>\n",
       "      <td>2022-12-31 23:45:00</td>\n",
       "      <td>2023-01-01 00:00:00</td>\n",
       "      <td>812.0</td>\n",
       "      <td>0.00</td>\n",
       "      <td>NaN</td>\n",
       "      <td>NaN</td>\n",
       "      <td>8.0</td>\n",
       "      <td>24.0</td>\n",
       "      <td>...</td>\n",
       "      <td>-87.676356</td>\n",
       "      <td>POINT (-87.6763559892 41.9012069941)</td>\n",
       "      <td>0.0000</td>\n",
       "      <td>0.225556</td>\n",
       "      <td>872664c1effffff</td>\n",
       "      <td>872664cacffffff</td>\n",
       "      <td>882664c1edfffff</td>\n",
       "      <td>882664cac3fffff</td>\n",
       "      <td>POLYGON ((-87.63048927308355 41.90755371098675...</td>\n",
       "      <td>POLYGON ((-87.68099468459282 41.91921142279649...</td>\n",
       "    </tr>\n",
       "  </tbody>\n",
       "</table>\n",
       "<p>2 rows × 31 columns</p>\n",
       "</div>"
      ],
      "text/plain": [
       "                                    trip_id  \\\n",
       "0  4404c6835b9e74e9f74d70f235200a8ce09db14a   \n",
       "1  466473fd2a196ebe92fb2983cb7e8af32e39aa1f   \n",
       "\n",
       "                                             taxi_id trip_start_timestamp  \\\n",
       "0  7e179f8ef66ae99ec2d1ec89224e0b7ee5469fe5627f6d...  2022-12-31 23:45:00   \n",
       "1  d1d88b89ceb6d753007b6e795e3c24f4bea905a51e9d47...  2022-12-31 23:45:00   \n",
       "\n",
       "   trip_end_timestamp  trip_seconds  trip_miles  pickup_census_tract  \\\n",
       "0 2023-01-01 00:15:00        2081.0        4.42                  NaN   \n",
       "1 2023-01-01 00:00:00         812.0        0.00                  NaN   \n",
       "\n",
       "   dropoff_census_tract  pickup_community_area  dropoff_community_area  ...  \\\n",
       "0                   NaN                    2.0                     3.0  ...   \n",
       "1                   NaN                    8.0                    24.0  ...   \n",
       "\n",
       "   dropoff_centroid_longitude             dropoff_centroid_location  trip_km  \\\n",
       "0                  -87.655879    POINT (-87.6558787862 41.96581197)   7.1133   \n",
       "1                  -87.676356  POINT (-87.6763559892 41.9012069941)   0.0000   \n",
       "\n",
       "   trip_hours   h3_res7_pickup  h3_res7_dropoff   h3_res8_pickup  \\\n",
       "0    0.578056  872664d8effffff  872664d89ffffff  882664d8e1fffff   \n",
       "1    0.225556  872664c1effffff  872664cacffffff  882664c1edfffff   \n",
       "\n",
       "   h3_res8_dropoff                                   poly_res7_pickup  \\\n",
       "0  882664d897fffff  POLYGON ((-87.69707061396723 42.01260288298376...   \n",
       "1  882664cac3fffff  POLYGON ((-87.63048927308355 41.90755371098675...   \n",
       "\n",
       "                                   poly_res7_dropoff  \n",
       "0  POLYGON ((-87.65510606950835 41.98050464017767...  \n",
       "1  POLYGON ((-87.68099468459282 41.91921142279649...  \n",
       "\n",
       "[2 rows x 31 columns]"
      ]
     },
     "execution_count": 38,
     "metadata": {},
     "output_type": "execute_result"
    }
   ],
   "source": [
    "hex_df_poly.head(2)"
   ]
  },
  {
   "cell_type": "code",
   "execution_count": null,
   "id": "60a943e1-e4cb-466e-a17a-78179b8048df",
   "metadata": {
    "tags": []
   },
   "outputs": [],
   "source": [
    "# Get count for each polygon\n",
    "hex_df_poly = get_poly_count(hex_df_poly, \"poly_res7_pickup\")\n",
    "#hex_df_poly = get_poly_count(hex_df_poly, \"poly_res7_dropoff\")\n",
    "# hex_df_poly = get_poly_count(hex_df_poly, \"poly_res8_pickup\")\n",
    "# hex_df_poly = get_poly_count(hex_df_poly, \"poly_res8_dropoff\")"
   ]
  },
  {
   "cell_type": "code",
   "execution_count": null,
   "id": "5d5d60fa-0967-4553-ab5b-f2a5cc73bfcf",
   "metadata": {
    "tags": []
   },
   "outputs": [],
   "source": [
    "#hex_df_clear.head(1)"
   ]
  },
  {
   "cell_type": "code",
   "execution_count": null,
   "id": "9712d7c7-6567-4060-aa5b-fc4fb1166911",
   "metadata": {
    "tags": []
   },
   "outputs": [],
   "source": [
    "# Make a geodf out of it for simple plotting\n",
    "gdf_res7_pickup = gp.GeoDataFrame(hex_df_clear, geometry=hex_df_poly['poly_res7_pickup'], crs='EPSG:4326')\n",
    "gdf_res7_dropoff = gp.GeoDataFrame(hex_df_clear, geometry=hex_df_poly['poly_res7_dropoff'], crs='EPSG:4326')\n",
    "# gdf_res8_pickup = gp.GeoDataFrame(hex_df_clear, geometry=hex_df_poly['poly_res8_pickup'], crs='EPSG:4326')\n",
    "# gdf_res8_dropoff = gp.GeoDataFrame(hex_df_clear, geometry=hex_df_poly['poly_res8_dropoff'], crs='EPSG:4326')\n",
    "\n",
    "#Visualize\n",
    "# fig, axs = plt.subplots(nrows = 1, ncols = 2, figsize=(10, 10))\n",
    "\n",
    "# titles = [\"Hex resolution 7\", \n",
    "#           # \"Hex resolution 8\"\n",
    "#          ]\n",
    "# dfs = [gdf_res7_pickup, gdf_res7_dropoff,  \n",
    "#        # gdf_res8_pickup, gdf_res8_dropoff\n",
    "#       ]\n",
    "\n",
    "# axs = axs.flatten()\n",
    "# for ind in range(0, 3):\n",
    "#     dfs[ind].plot(column=\"count\", ax=axs[ind], legend=True)\n",
    "#     axs[ind].set_title(titles[ind])\n",
    "\n",
    "# plt.tight_layout()\n",
    "# plt.show()"
   ]
  },
  {
   "cell_type": "code",
   "execution_count": null,
   "id": "7ebbb1a1-ebca-47ad-b240-6824b8a0ade0",
   "metadata": {
    "tags": []
   },
   "outputs": [],
   "source": [
    "df_pickup_res8['geometry'] = df_pickup_res7.apply(lambda x: Polygon(h3.h3_to_geo_boundary(x[\"h3_pickup_res8\"], geo_json=True)), axis=1)\n",
    "trips_starts_geo = gp.GeoDataFrame(df_pickup_res7, geometry=df_pickup_res7['geometry'], crs='EPSG:4326')\n",
    "trips_starts_geo.head()"
   ]
  },
  {
   "cell_type": "code",
   "execution_count": null,
   "id": "8430b373-57b6-41ad-8c46-8bb2800bec3e",
   "metadata": {
    "tags": []
   },
   "outputs": [],
   "source": [
    "trips_starts_geo.plot(column='count')"
   ]
  },
  {
   "cell_type": "code",
   "execution_count": null,
   "id": "091b1663-fa48-440c-805e-7622bc3bec46",
   "metadata": {
    "tags": []
   },
   "outputs": [],
   "source": [
    "# TODO: save data?"
   ]
  },
  {
   "cell_type": "markdown",
   "id": "1b1cd634-bd3d-4b49-befa-91a030f9f32e",
   "metadata": {},
   "source": [
    "### 1.5 Census Data"
   ]
  },
  {
   "cell_type": "markdown",
   "id": "2da17c5d-c26b-4f61-a872-440297688e76",
   "metadata": {
    "tags": []
   },
   "source": [
    "Census tracts are \"geographic entities within counties\". Represented within the string of numbers, are the state, the county, and the tract code.\n",
    "For more info on census read here: https://transition.fcc.gov/form477/Geo/more_about_census_tracts.pdf. Entries generally follow the structure of 17031...., where:\n",
    "- 17 is the state of Illinois\n",
    "- 031 stands for Cook County\n",
    "- And the last four digits make up the district within the county\n",
    "\n",
    "In order to use given census data within our data, we additionally get data from https://data.cityofchicago.org/Facilities-Geographic-Boundaries/Boundaries-Community-Areas-current-/cauq-8yn6, where Wikipedia offers also the corresponding names of each neighborhood area: https://en.wikipedia.org/wiki/Community_areas_in_Chicago#References. As these files are fairly small, we included them in the repository."
   ]
  },
  {
   "cell_type": "code",
   "execution_count": null,
   "id": "c24f8545-3b39-4d72-a377-f572661d3562",
   "metadata": {
    "tags": []
   },
   "outputs": [],
   "source": [
    "census = gp.read_file(\"data/Boundaries - Census Tracts - 2010.geojson\")\n",
    "# Area names\n",
    "area = gp.read_file(\"data/chicago_area.csv\")\n",
    "print(census.info())\n",
    "census.head(3)"
   ]
  },
  {
   "cell_type": "markdown",
   "id": "c60a5dc0-7c14-4886-9965-d14797dfac4a",
   "metadata": {
    "tags": []
   },
   "source": [
    "We can see that most important columns from this dataframe are \"commarea\" and \"geoid10\" which correspond to the dropoff/pickup community area and dropoff/pickup census tract columns of our main frame."
   ]
  },
  {
   "cell_type": "code",
   "execution_count": null,
   "id": "26d365a7-38d7-42c0-826b-6be7b7f21b49",
   "metadata": {
    "tags": []
   },
   "outputs": [],
   "source": [
    "# Drop columns, rename for merge\n",
    "census = census.drop(columns= ['statefp10', 'name10', 'commarea_n', 'namelsad10', 'notes', 'tractce10', 'countyfp10',])\n",
    "\n",
    "area = area.drop([\"geometry\"], axis=1)\n",
    "area = area.rename(columns={\"dropoff_community_area\": \"commarea\"})"
   ]
  },
  {
   "cell_type": "code",
   "execution_count": null,
   "id": "3a84555a-22e5-4b97-abd0-7c6553670bce",
   "metadata": {
    "tags": []
   },
   "outputs": [],
   "source": [
    "# Merge dfs\n",
    "df_census = census.merge(area, how=\"left\", on=\"commarea\")\n",
    "df_census[\"commarea\"] = df_census[\"commarea\"].astype(int)\n",
    "df_census = df_census.rename(columns={\"geoid10\": \"geoid\"})\n",
    "print(df_census.dtypes)\n",
    "df_census.head()"
   ]
  },
  {
   "cell_type": "code",
   "execution_count": null,
   "id": "eaf4d1f5-17d3-4b0d-abdf-f36f39c8bde9",
   "metadata": {
    "tags": []
   },
   "outputs": [],
   "source": [
    "#TODO: Maybe change to other color https://python-visualization.github.io/folium/latest/advanced_guide/colormaps.html#Draw-a-ColorMap-on-a-map\n",
    "colormap = cm.linear.Set1_09.scale(df_census['commarea'].min(), df_census['commarea'].max()).to_step(df_census['commarea'].max()) \n",
    "\n",
    "colormap.caption = \"Colorscale for different community areas\"\n",
    "colormap"
   ]
  },
  {
   "cell_type": "code",
   "execution_count": null,
   "id": "e2f75ec3-d512-4698-b196-0668af0178cb",
   "metadata": {
    "tags": []
   },
   "outputs": [],
   "source": [
    "m = folium.Map(location = [41.88065, -87.62642], zoom_start=10, control_scale= True, width=600, height=700)\n",
    "\n",
    "folium.GeoJson(df_census,\n",
    "               tooltip=folium.GeoJsonTooltip(fields=['community_name']),\n",
    "              style_function=lambda feature: {\n",
    "                'fillColor': colormap(int(feature['properties']['commarea'])),\n",
    "                'color': \"white\", \n",
    "                'weight':0.5, #border size\n",
    "                'fillOpacity':0.9,\n",
    "              }\n",
    "              ).add_to(m)\n",
    "m.add_child(colormap) # Can also be left out\n",
    "m"
   ]
  },
  {
   "cell_type": "code",
   "execution_count": null,
   "id": "59dc5842-e5b7-41d6-8382-85e3186cf736",
   "metadata": {
    "tags": []
   },
   "outputs": [],
   "source": [
    "df[df[\"pickup_census_tract\"].notna()].head()"
   ]
  },
  {
   "cell_type": "code",
   "execution_count": null,
   "id": "d6d1e448-e0f6-4e2c-84d6-13276c097bfa",
   "metadata": {
    "tags": []
   },
   "outputs": [],
   "source": [
    "df_census.head()"
   ]
  },
  {
   "cell_type": "code",
   "execution_count": null,
   "id": "9cab347e-82cd-4670-bf98-21466726bae1",
   "metadata": {
    "tags": []
   },
   "outputs": [],
   "source": [
    "# Number of unique census tracts in our main df\n",
    "uni = np.unique(np.concatenate(( df['pickup_census_tract'].unique(), df['dropoff_census_tract'].unique())))\n",
    "uni = uni[~np.isnan(uni)]\n",
    "print(len(uni)) \n",
    "\n",
    "# Number of unique census tracts in boundary df\n",
    "print(len(df_census[\"geoid\"].unique()))"
   ]
  },
  {
   "cell_type": "code",
   "execution_count": null,
   "id": "6111bc98-27a6-41c4-b3d2-d0165bf4ce8a",
   "metadata": {
    "tags": []
   },
   "outputs": [],
   "source": [
    "# TODO: merge on census_tract if possible else use commarea"
   ]
  },
  {
   "cell_type": "code",
   "execution_count": null,
   "id": "f0a16c9d-acc4-4336-856b-061ffab04a68",
   "metadata": {
    "tags": []
   },
   "outputs": [],
   "source": [
    "# Instead of having neighborhoods split up into multiple sections, apply unary_union to merge polygons into one\n",
    "merged_polygons = df_census.groupby('commarea')['geometry'].apply(unary_union).reset_index()\n",
    "\n",
    "result = merged_polygons.merge(df_census[['commarea', 'community_name', \"geoid\"]], on='commarea', how=\"right\").drop_duplicates()\n",
    "# To also get the geoIDs as some df entries do not have commarea but census tract given\n",
    "# result = result.merge(df_census[\"geoid\"], on=\"commarea\", how=\"right\")\n",
    "\n",
    "\n",
    "neighborhood_df = result.set_geometry(\"geometry\", crs = \"EPSG:4326\")"
   ]
  },
  {
   "cell_type": "code",
   "execution_count": null,
   "id": "b5c2b6b4-64b4-4698-970c-58570ac018dc",
   "metadata": {
    "tags": []
   },
   "outputs": [],
   "source": [
    "m = folium.Map(location = [41.88065, -87.62642], zoom_start=10, control_scale= True, width=600, height=700)\n",
    "\n",
    "folium.GeoJson(neighborhood_df,\n",
    "               tooltip=folium.GeoJsonTooltip(fields=['community_name']),\n",
    "              style_function=lambda feature: {\n",
    "                'fillColor': colormap(int(feature['properties']['commarea'])),\n",
    "                'color': \"white\", \n",
    "                'weight':0.5, #border size\n",
    "                'fillOpacity':0.9,\n",
    "              }\n",
    "              ).add_to(m)\n",
    "m"
   ]
  },
  {
   "cell_type": "code",
   "execution_count": null,
   "id": "318ab933-011a-441e-8d22-514648f672c3",
   "metadata": {
    "tags": []
   },
   "outputs": [],
   "source": [
    "# Save prepared data\n",
    "neighborhood_df.to_file('data/prepped/census_tracts_df.geojson', driver = 'GeoJSON')"
   ]
  },
  {
   "cell_type": "code",
   "execution_count": null,
   "id": "570d761c-1e09-4fb3-97ec-3eacc4a38b00",
   "metadata": {
    "tags": []
   },
   "outputs": [],
   "source": [
    "# Can merge main frame on geoid - commarea but can be done later on as well"
   ]
  }
 ],
 "metadata": {
  "kernelspec": {
   "display_name": "Python 3 (ipykernel)",
   "language": "python",
   "name": "python3"
  },
  "language_info": {
   "codemirror_mode": {
    "name": "ipython",
    "version": 3
   },
   "file_extension": ".py",
   "mimetype": "text/x-python",
   "name": "python",
   "nbconvert_exporter": "python",
   "pygments_lexer": "ipython3",
   "version": "3.11.4"
  },
  "toc-autonumbering": false,
  "toc-showcode": false,
  "toc-showmarkdowntxt": false
 },
 "nbformat": 4,
 "nbformat_minor": 5
}
