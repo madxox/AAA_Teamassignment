{
 "cells": [
  {
   "cell_type": "markdown",
   "id": "dc44b7ae7599b956",
   "metadata": {},
   "source": [
    "## 1.0a Taxi Data - Preprocessing"
   ]
  },
  {
   "cell_type": "markdown",
   "id": "f4662e21-9b19-40fc-8797-bfc543d4f9c3",
   "metadata": {},
   "source": [
    "In this first notebook, the main dataframe is preprocessed. This includes:\n",
    "- Loading the data\n",
    "- Changing its datatypes\n",
    "- Dropping trivial or null columns/rows\n",
    "- Splitting the data into subsets and saving them for further work"
   ]
  },
  {
   "cell_type": "markdown",
   "id": "d86dda84-d670-437b-bc0e-4c874d709a45",
   "metadata": {
    "tags": []
   },
   "source": [
    "As the original data is rather large in size, it is not included in the repository. Instead, when wanting to run this notebook, it is necessary to:\n",
    "1. Download the data from https://data.cityofchicago.org/Transportation/Taxi-Trips/wrvz-psew#column-menu where you specify via Actions->Query Data->Trip Start Timestamp // In Between // 2022 Jan 01 12:00:00 AM AND 2022 Dec 31 11:59:59 PM\n",
    "2. Rename the file to \"taxidata\"\n",
    "3. Run the code cell below and add the data to the following directory"
   ]
  },
  {
   "cell_type": "code",
   "execution_count": 3,
   "id": "0d5efe0c-aa7b-4222-9d5b-98e1d38ed437",
   "metadata": {
    "ExecuteTime": {
     "end_time": "2024-05-11T12:34:36.475194Z",
     "start_time": "2024-05-11T12:34:36.450421Z"
    },
    "tags": []
   },
   "outputs": [],
   "source": [
    "import os\n",
    "# this directory for the original data file\n",
    "os.makedirs('./data', exist_ok=True)\n",
    "# this directory to later save the prepared data\n",
    "os.makedirs('./data/prepped', exist_ok=True)"
   ]
  },
  {
   "cell_type": "code",
   "execution_count": 4,
   "id": "dc92b812d1290ab",
   "metadata": {
    "ExecuteTime": {
     "end_time": "2024-05-11T12:34:36.491758Z",
     "start_time": "2024-05-11T12:34:36.478209Z"
    },
    "tags": []
   },
   "outputs": [],
   "source": [
    "# Standard libraries - run pip install if necessary\n",
    "import pandas as pd\n",
    "import numpy as np\n",
    "import matplotlib.pyplot as plt\n",
    "import seaborn as sns\n",
    "\n",
    "from datetime import datetime\n",
    "\n",
    "# Geospatial libraries\n",
    "from h3 import h3 \n",
    "import geopandas as gp\n",
    "import folium\n",
    "from shapely.ops import unary_union\n",
    "from shapely.geometry.polygon import Polygon\n",
    "## Color for map \n",
    "import branca\n",
    "import branca.colormap as cm"
   ]
  },
  {
   "cell_type": "markdown",
   "id": "1937f9e5-5bfb-4597-a3d2-2aca16ea1772",
   "metadata": {},
   "source": [
    "### 1.1 Read and display datafile"
   ]
  },
  {
   "cell_type": "code",
   "execution_count": 5,
   "id": "3939294bd434c611",
   "metadata": {
    "ExecuteTime": {
     "end_time": "2024-05-11T12:35:35.524949Z",
     "start_time": "2024-05-11T12:34:36.497771Z"
    },
    "tags": []
   },
   "outputs": [],
   "source": [
    "# Data file not included in the project, needs to be downloaded individually. This step can take a few minutes due to size of the original file\n",
    "df = pd.read_csv(\"data/taxidata.csv\")"
   ]
  },
  {
   "cell_type": "code",
   "execution_count": 6,
   "id": "18fc4c99-ad27-4b7b-9bd9-52895492b7dd",
   "metadata": {},
   "outputs": [
    {
     "data": {
      "text/html": [
       "<div>\n",
       "<style scoped>\n",
       "    .dataframe tbody tr th:only-of-type {\n",
       "        vertical-align: middle;\n",
       "    }\n",
       "\n",
       "    .dataframe tbody tr th {\n",
       "        vertical-align: top;\n",
       "    }\n",
       "\n",
       "    .dataframe thead th {\n",
       "        text-align: right;\n",
       "    }\n",
       "</style>\n",
       "<table border=\"1\" class=\"dataframe\">\n",
       "  <thead>\n",
       "    <tr style=\"text-align: right;\">\n",
       "      <th></th>\n",
       "      <th>trip_id</th>\n",
       "      <th>taxi_id</th>\n",
       "      <th>trip_start_timestamp</th>\n",
       "      <th>trip_end_timestamp</th>\n",
       "      <th>trip_seconds</th>\n",
       "      <th>trip_miles</th>\n",
       "      <th>pickup_census_tract</th>\n",
       "      <th>dropoff_census_tract</th>\n",
       "      <th>pickup_community_area</th>\n",
       "      <th>dropoff_community_area</th>\n",
       "      <th>...</th>\n",
       "      <th>extras</th>\n",
       "      <th>trip_total</th>\n",
       "      <th>payment_type</th>\n",
       "      <th>company</th>\n",
       "      <th>pickup_centroid_latitude</th>\n",
       "      <th>pickup_centroid_longitude</th>\n",
       "      <th>pickup_centroid_location</th>\n",
       "      <th>dropoff_centroid_latitude</th>\n",
       "      <th>dropoff_centroid_longitude</th>\n",
       "      <th>dropoff_centroid_location</th>\n",
       "    </tr>\n",
       "  </thead>\n",
       "  <tbody>\n",
       "    <tr>\n",
       "      <th>0</th>\n",
       "      <td>4404c6835b9e74e9f74d70f235200a8ce09db14a</td>\n",
       "      <td>7e179f8ef66ae99ec2d1ec89224e0b7ee5469fe5627f6d...</td>\n",
       "      <td>2022-12-31T23:45:00.000</td>\n",
       "      <td>2023-01-01T00:15:00.000</td>\n",
       "      <td>2081.0</td>\n",
       "      <td>4.42</td>\n",
       "      <td>NaN</td>\n",
       "      <td>NaN</td>\n",
       "      <td>2.0</td>\n",
       "      <td>3.0</td>\n",
       "      <td>...</td>\n",
       "      <td>0.0</td>\n",
       "      <td>20.50</td>\n",
       "      <td>Prcard</td>\n",
       "      <td>Flash Cab</td>\n",
       "      <td>42.001571</td>\n",
       "      <td>-87.695013</td>\n",
       "      <td>POINT (-87.6950125892 42.001571027)</td>\n",
       "      <td>41.965812</td>\n",
       "      <td>-87.655879</td>\n",
       "      <td>POINT (-87.6558787862 41.96581197)</td>\n",
       "    </tr>\n",
       "    <tr>\n",
       "      <th>1</th>\n",
       "      <td>466473fd2a196ebe92fb2983cb7e8af32e39aa1f</td>\n",
       "      <td>d1d88b89ceb6d753007b6e795e3c24f4bea905a51e9d47...</td>\n",
       "      <td>2022-12-31T23:45:00.000</td>\n",
       "      <td>2023-01-01T00:00:00.000</td>\n",
       "      <td>812.0</td>\n",
       "      <td>0.00</td>\n",
       "      <td>NaN</td>\n",
       "      <td>NaN</td>\n",
       "      <td>8.0</td>\n",
       "      <td>24.0</td>\n",
       "      <td>...</td>\n",
       "      <td>0.0</td>\n",
       "      <td>16.57</td>\n",
       "      <td>Mobile</td>\n",
       "      <td>Flash Cab</td>\n",
       "      <td>41.899602</td>\n",
       "      <td>-87.633308</td>\n",
       "      <td>POINT (-87.6333080367 41.899602111)</td>\n",
       "      <td>41.901207</td>\n",
       "      <td>-87.676356</td>\n",
       "      <td>POINT (-87.6763559892 41.9012069941)</td>\n",
       "    </tr>\n",
       "    <tr>\n",
       "      <th>2</th>\n",
       "      <td>3f5cd3f78e5cab455606a31372a95d3204b2fb3f</td>\n",
       "      <td>847cf962bd6f62040673e6c24c24940aeb2d7fdaa54677...</td>\n",
       "      <td>2022-12-31T23:45:00.000</td>\n",
       "      <td>2023-01-01T00:00:00.000</td>\n",
       "      <td>600.0</td>\n",
       "      <td>0.90</td>\n",
       "      <td>NaN</td>\n",
       "      <td>NaN</td>\n",
       "      <td>8.0</td>\n",
       "      <td>8.0</td>\n",
       "      <td>...</td>\n",
       "      <td>3.0</td>\n",
       "      <td>12.00</td>\n",
       "      <td>Credit Card</td>\n",
       "      <td>Taxi Affiliation Services</td>\n",
       "      <td>41.899602</td>\n",
       "      <td>-87.633308</td>\n",
       "      <td>POINT (-87.6333080367 41.899602111)</td>\n",
       "      <td>41.899602</td>\n",
       "      <td>-87.633308</td>\n",
       "      <td>POINT (-87.6333080367 41.899602111)</td>\n",
       "    </tr>\n",
       "  </tbody>\n",
       "</table>\n",
       "<p>3 rows × 23 columns</p>\n",
       "</div>"
      ],
      "text/plain": [
       "                                    trip_id  \\\n",
       "0  4404c6835b9e74e9f74d70f235200a8ce09db14a   \n",
       "1  466473fd2a196ebe92fb2983cb7e8af32e39aa1f   \n",
       "2  3f5cd3f78e5cab455606a31372a95d3204b2fb3f   \n",
       "\n",
       "                                             taxi_id     trip_start_timestamp  \\\n",
       "0  7e179f8ef66ae99ec2d1ec89224e0b7ee5469fe5627f6d...  2022-12-31T23:45:00.000   \n",
       "1  d1d88b89ceb6d753007b6e795e3c24f4bea905a51e9d47...  2022-12-31T23:45:00.000   \n",
       "2  847cf962bd6f62040673e6c24c24940aeb2d7fdaa54677...  2022-12-31T23:45:00.000   \n",
       "\n",
       "        trip_end_timestamp  trip_seconds  trip_miles  pickup_census_tract  \\\n",
       "0  2023-01-01T00:15:00.000        2081.0        4.42                  NaN   \n",
       "1  2023-01-01T00:00:00.000         812.0        0.00                  NaN   \n",
       "2  2023-01-01T00:00:00.000         600.0        0.90                  NaN   \n",
       "\n",
       "   dropoff_census_tract  pickup_community_area  dropoff_community_area  ...  \\\n",
       "0                   NaN                    2.0                     3.0  ...   \n",
       "1                   NaN                    8.0                    24.0  ...   \n",
       "2                   NaN                    8.0                     8.0  ...   \n",
       "\n",
       "   extras  trip_total  payment_type                    company  \\\n",
       "0     0.0       20.50        Prcard                  Flash Cab   \n",
       "1     0.0       16.57        Mobile                  Flash Cab   \n",
       "2     3.0       12.00   Credit Card  Taxi Affiliation Services   \n",
       "\n",
       "   pickup_centroid_latitude pickup_centroid_longitude  \\\n",
       "0                 42.001571                -87.695013   \n",
       "1                 41.899602                -87.633308   \n",
       "2                 41.899602                -87.633308   \n",
       "\n",
       "              pickup_centroid_location  dropoff_centroid_latitude  \\\n",
       "0  POINT (-87.6950125892 42.001571027)                  41.965812   \n",
       "1  POINT (-87.6333080367 41.899602111)                  41.901207   \n",
       "2  POINT (-87.6333080367 41.899602111)                  41.899602   \n",
       "\n",
       "   dropoff_centroid_longitude             dropoff_centroid_location  \n",
       "0                  -87.655879    POINT (-87.6558787862 41.96581197)  \n",
       "1                  -87.676356  POINT (-87.6763559892 41.9012069941)  \n",
       "2                  -87.633308   POINT (-87.6333080367 41.899602111)  \n",
       "\n",
       "[3 rows x 23 columns]"
      ]
     },
     "execution_count": 6,
     "metadata": {},
     "output_type": "execute_result"
    }
   ],
   "source": [
    "df.head(3)"
   ]
  },
  {
   "cell_type": "code",
   "execution_count": 7,
   "id": "a3225e02-5946-45f8-88b3-fb936b834f58",
   "metadata": {
    "tags": []
   },
   "outputs": [
    {
     "data": {
      "text/plain": [
       "trip_id                        object\n",
       "taxi_id                        object\n",
       "trip_start_timestamp           object\n",
       "trip_end_timestamp             object\n",
       "trip_seconds                  float64\n",
       "trip_miles                    float64\n",
       "pickup_census_tract           float64\n",
       "dropoff_census_tract          float64\n",
       "pickup_community_area         float64\n",
       "dropoff_community_area        float64\n",
       "fare                          float64\n",
       "tips                          float64\n",
       "tolls                         float64\n",
       "extras                        float64\n",
       "trip_total                    float64\n",
       "payment_type                   object\n",
       "company                        object\n",
       "pickup_centroid_latitude      float64\n",
       "pickup_centroid_longitude     float64\n",
       "pickup_centroid_location       object\n",
       "dropoff_centroid_latitude     float64\n",
       "dropoff_centroid_longitude    float64\n",
       "dropoff_centroid_location      object\n",
       "dtype: object"
      ]
     },
     "execution_count": 7,
     "metadata": {},
     "output_type": "execute_result"
    }
   ],
   "source": [
    "# Data types\n",
    "df.dtypes"
   ]
  },
  {
   "cell_type": "code",
   "execution_count": 8,
   "id": "fbe9cc29-01f4-4b67-ab91-bddd0fccde1c",
   "metadata": {
    "ExecuteTime": {
     "end_time": "2024-05-11T12:51:33.284221Z",
     "start_time": "2024-05-11T12:51:31.635530Z"
    }
   },
   "outputs": [
    {
     "name": "stdout",
     "output_type": "stream",
     "text": [
      "Min date: 2022-01-01 00:00:00\n",
      "Max date: 2022-12-31 23:45:00\n"
     ]
    }
   ],
   "source": [
    "# Convert time types to check if entries are from correct range\n",
    "df[\"trip_start_timestamp\"] = pd.to_datetime(df[\"trip_start_timestamp\"])\n",
    "df[\"trip_end_timestamp\"] = pd.to_datetime(df[\"trip_end_timestamp\"])\n",
    "\n",
    "# In range of 2022:\n",
    "print(f\"Min date: {df['trip_start_timestamp'].min()}\")\n",
    "print(f\"Max date: {df['trip_start_timestamp'].max()}\")\n",
    "\n",
    "# Convert other \n",
    "df[\"trip_seconds\"] =  pd.to_numeric(df['trip_seconds'])"
   ]
  },
  {
   "cell_type": "markdown",
   "id": "932d1bc8bee4a2ef",
   "metadata": {},
   "source": [
    "Make sure these are the right dates, here it should say **2022-01-01 00:00:00** and **2022-12-31 23:45:00**. "
   ]
  },
  {
   "cell_type": "code",
   "execution_count": 9,
   "id": "1ceca55b-7530-4876-b362-726e4ea3c04c",
   "metadata": {
    "tags": []
   },
   "outputs": [],
   "source": [
    "# Convert trip duration to hours\n",
    "df['trip_hours'] = df['trip_seconds'] / 3600"
   ]
  },
  {
   "cell_type": "code",
   "execution_count": 10,
   "id": "5c408596-7164-4de5-8667-ee1f288ef766",
   "metadata": {
    "ExecuteTime": {
     "end_time": "2024-05-11T12:53:06.606105Z",
     "start_time": "2024-05-11T12:53:04.986922Z"
    },
    "tags": []
   },
   "outputs": [
    {
     "name": "stdout",
     "output_type": "stream",
     "text": [
      "General shape of dataframe: (6382425, 24)\n",
      "trip_id                             0\n",
      "taxi_id                           354\n",
      "trip_start_timestamp                0\n",
      "trip_end_timestamp                212\n",
      "trip_seconds                     1465\n",
      "trip_miles                         56\n",
      "pickup_census_tract           3758594\n",
      "dropoff_census_tract          3707094\n",
      "pickup_community_area          513853\n",
      "dropoff_community_area         633684\n",
      "fare                             3536\n",
      "tips                             3536\n",
      "tolls                            3536\n",
      "extras                           3536\n",
      "trip_total                       3536\n",
      "payment_type                        0\n",
      "company                             0\n",
      "pickup_centroid_latitude       511551\n",
      "pickup_centroid_longitude      511551\n",
      "pickup_centroid_location       511551\n",
      "dropoff_centroid_latitude      597931\n",
      "dropoff_centroid_longitude     597931\n",
      "dropoff_centroid_location      597931\n",
      "trip_hours                       1465\n",
      "dtype: int64\n"
     ]
    }
   ],
   "source": [
    "# Look into null values\n",
    "print(f\"General shape of dataframe: {df.shape}\")\n",
    "print(df.isna().sum())"
   ]
  },
  {
   "cell_type": "code",
   "execution_count": 11,
   "id": "51fee0f9-c265-4bf4-9745-925a194bc8b1",
   "metadata": {
    "tags": []
   },
   "outputs": [],
   "source": [
    "# ------------------ Columns we do/will not work with can be dropped here ------------------"
   ]
  },
  {
   "cell_type": "markdown",
   "id": "a6e0c83e-5275-40ec-a492-35cb5bb880cd",
   "metadata": {},
   "source": [
    "### 1.2 Checking data logic & removing invalid data"
   ]
  },
  {
   "cell_type": "markdown",
   "id": "562fcc8e-36e8-4972-9b6f-cf696ee43cf2",
   "metadata": {
    "tags": []
   },
   "source": [
    "#### 1.2.1 Duplicate entries"
   ]
  },
  {
   "cell_type": "code",
   "execution_count": 12,
   "id": "4e09e0c3-9c12-4582-8f66-65b5b16f74d4",
   "metadata": {
    "tags": []
   },
   "outputs": [
    {
     "name": "stdout",
     "output_type": "stream",
     "text": [
      "Number of duplicate entries:  21772\n"
     ]
    }
   ],
   "source": [
    "# Check duplicates \n",
    "print(\"Number of duplicate entries: \", df.duplicated(subset = ['taxi_id', 'trip_start_timestamp', 'trip_end_timestamp', 'trip_seconds', 'trip_miles', \n",
    "                                                              'pickup_census_tract','dropoff_census_tract','pickup_community_area', 'dropoff_community_area',\n",
    "                                                              'pickup_centroid_latitude','pickup_centroid_longitude','pickup_centroid_location','dropoff_centroid_latitude',\n",
    "                                                              'dropoff_centroid_longitude','dropoff_centroid_location']).sum())"
   ]
  },
  {
   "cell_type": "code",
   "execution_count": 13,
   "id": "1a84b6c6-279b-4e05-b028-d097122254dd",
   "metadata": {
    "tags": []
   },
   "outputs": [
    {
     "data": {
      "text/plain": [
       "(6360653, 24)"
      ]
     },
     "execution_count": 13,
     "metadata": {},
     "output_type": "execute_result"
    }
   ],
   "source": [
    "df = df.drop_duplicates(subset = ['taxi_id', 'trip_start_timestamp', 'trip_end_timestamp', 'trip_seconds', 'trip_miles', \n",
    "                                                              'pickup_census_tract','dropoff_census_tract','pickup_community_area', 'dropoff_community_area',\n",
    "                                                              'pickup_centroid_latitude','pickup_centroid_longitude','pickup_centroid_location','dropoff_centroid_latitude',\n",
    "                                                              'dropoff_centroid_longitude','dropoff_centroid_location'], keep='first')\n",
    "df.shape"
   ]
  },
  {
   "cell_type": "markdown",
   "id": "be75af58-fa47-4934-8a41-568adfba6bf0",
   "metadata": {},
   "source": [
    "#### 1.2.2 Drop Outliers"
   ]
  },
  {
   "cell_type": "code",
   "execution_count": 14,
   "id": "04550351-88cd-4104-b1bf-ea3863be1488",
   "metadata": {
    "tags": []
   },
   "outputs": [],
   "source": [
    "df_outliers = df"
   ]
  },
  {
   "cell_type": "code",
   "execution_count": 15,
   "id": "1e877a98-59bc-454e-8ea8-7bab8b0070e9",
   "metadata": {
    "tags": []
   },
   "outputs": [],
   "source": [
    "def drop_outliers(df, column, mean, std):\n",
    "    return df[(df[column] > mean - 3 * std) & (df[column] < mean + 3 * std)]"
   ]
  },
  {
   "cell_type": "code",
   "execution_count": 16,
   "id": "a1843fad-a424-4307-bf6b-06d261390a2b",
   "metadata": {
    "tags": []
   },
   "outputs": [],
   "source": [
    "std_trip_seconds = df_outliers['trip_seconds'].describe(include='all').loc['std']\n",
    "mean_trip_seconds = df_outliers['trip_seconds'].describe(include='all').loc['mean']\n",
    "\n",
    "std_trip_miles = df_outliers['trip_miles'].describe(include='all').loc['std']\n",
    "mean_trip_miles = df_outliers['trip_miles'].describe(include='all').loc['mean']\n",
    "\n",
    "std_trip_total = df_outliers['trip_total'].describe(include='all').loc['std']\n",
    "mean_trip_total = df_outliers['trip_total'].describe(include='all').loc['mean']"
   ]
  },
  {
   "cell_type": "code",
   "execution_count": 17,
   "id": "7d8a4022-a194-439b-8590-cac2ef188a5a",
   "metadata": {
    "tags": []
   },
   "outputs": [],
   "source": [
    "df_outliers = drop_outliers(df_outliers, \"trip_seconds\", mean_trip_seconds, std_trip_seconds)\n",
    "df_outliers = drop_outliers(df_outliers, \"trip_miles\", mean_trip_miles, std_trip_miles)\n",
    "df_outliers = drop_outliers(df_outliers, \"trip_total\", mean_trip_total, std_trip_total)"
   ]
  },
  {
   "cell_type": "code",
   "execution_count": 18,
   "id": "c44b6b8d-d2d8-4738-88fd-493b759b40a4",
   "metadata": {
    "tags": []
   },
   "outputs": [
    {
     "data": {
      "text/plain": [
       "(6306811, 24)"
      ]
     },
     "execution_count": 18,
     "metadata": {},
     "output_type": "execute_result"
    }
   ],
   "source": [
    "df_outliers.shape"
   ]
  },
  {
   "cell_type": "code",
   "execution_count": 21,
   "id": "dbab2890-eea1-4cba-a9b1-b7180356038f",
   "metadata": {
    "tags": []
   },
   "outputs": [
    {
     "name": "stdout",
     "output_type": "stream",
     "text": [
      "Number of zero entries for trip_seconds:  147287\n",
      "Number of zero entries for trip_miles:  781031\n",
      "Number of zero entries for trip_total:  5325\n"
     ]
    }
   ],
   "source": [
    "# Number of equal zero entries after dropping\n",
    "print(\"Number of zero entries for trip_seconds: \", len(df_outliers[df_outliers[\"trip_seconds\"] == 0]))\n",
    "print(\"Number of zero entries for trip_miles: \", len(df_outliers[df_outliers[\"trip_miles\"] == 0]))\n",
    "print(\"Number of zero entries for trip_total: \", len(df_outliers[df_outliers[\"trip_total\"] == 0]))"
   ]
  },
  {
   "cell_type": "code",
   "execution_count": null,
   "id": "50eb56a2-1cef-460b-8964-36b7a83a0979",
   "metadata": {},
   "outputs": [],
   "source": []
  },
  {
   "cell_type": "markdown",
   "id": "96870ef9-34bb-4d72-b728-afd1fbbb1ad2",
   "metadata": {},
   "source": [
    "#### 1.2.2 Mph Logic"
   ]
  },
  {
   "cell_type": "markdown",
   "id": "4a5dd593-3a71-41e1-a517-f26f1187c192",
   "metadata": {},
   "source": [
    "To have some orientation for the speed limit in Chicago/Cook County, we took this as a source: https://www.arcgis.com/home/item.html?id=5e279cbe89794bcba87809d9ae95594d which resulted in a limit of 65 mph for our taxi data, as anything above is unrealistic."
   ]
  },
  {
   "cell_type": "code",
   "execution_count": 22,
   "id": "7ae95e93-2e44-45a0-9ac1-652f33c8af0d",
   "metadata": {
    "tags": []
   },
   "outputs": [],
   "source": [
    "df_outliers['mph'] = np.where(df_outliers['trip_hours'] != 0, df_outliers['trip_miles'] / df_outliers['trip_hours'], np.nan)"
   ]
  },
  {
   "cell_type": "code",
   "execution_count": 23,
   "id": "921dacf1-2322-43f7-a106-d731aaae5417",
   "metadata": {
    "tags": []
   },
   "outputs": [],
   "source": [
    "df_outliers = df_outliers[(df_outliers[\"mph\"] <= 65)]"
   ]
  },
  {
   "cell_type": "code",
   "execution_count": 24,
   "id": "725fca8d-6ed1-4c32-8022-1a3118682479",
   "metadata": {},
   "outputs": [
    {
     "data": {
      "text/plain": [
       "65.0"
      ]
     },
     "execution_count": 24,
     "metadata": {},
     "output_type": "execute_result"
    }
   ],
   "source": [
    "df_outliers[\"mph\"].max()"
   ]
  },
  {
   "cell_type": "code",
   "execution_count": null,
   "id": "a56aa377-b644-4382-bb02-aeb00150caa4",
   "metadata": {},
   "outputs": [],
   "source": []
  },
  {
   "cell_type": "code",
   "execution_count": null,
   "id": "a54cf01f-cc8e-429e-b943-770eea6827c9",
   "metadata": {},
   "outputs": [],
   "source": [
    "## change order\n",
    "## duration \n",
    "## kmh"
   ]
  },
  {
   "cell_type": "code",
   "execution_count": null,
   "id": "7d5af93d-6aaf-4fd7-8f8f-66f8634c0d77",
   "metadata": {},
   "outputs": [],
   "source": []
  },
  {
   "cell_type": "markdown",
   "id": "e03f5adc-a895-4cf4-9687-0a6701f0ef92",
   "metadata": {},
   "source": [
    "#### 1.2.2 Tips Logic"
   ]
  },
  {
   "cell_type": "markdown",
   "id": "0da91cd8-df23-4be7-87e5-e418994d758a",
   "metadata": {},
   "source": [
    "Through some research we found that the base fare of any taxi ride is $3.25 (https://www.chicago.gov/content/dam/city/depts/bacp/publicvehicleinfo/Chicabs/chicagotaxiplacard20200629.pdf). Hence, entries where the **\"trip_total\" is smaller than 3.25** are dropped."
   ]
  },
  {
   "cell_type": "code",
   "execution_count": 25,
   "id": "0c51a2ea-14d2-4181-8dc3-d163b72d1648",
   "metadata": {},
   "outputs": [
    {
     "name": "stdout",
     "output_type": "stream",
     "text": [
      "Number of entries with below $3.25 trip total:  99404\n"
     ]
    }
   ],
   "source": [
    "print(\"Number of entries with below $3.25 trip total: \", len(df_outliers[df_outliers[\"trip_total\"] <= 3.25]))"
   ]
  },
  {
   "cell_type": "code",
   "execution_count": 26,
   "id": "1422f7b0-538b-440a-9966-ad708a488ade",
   "metadata": {},
   "outputs": [],
   "source": [
    "df_outliers = df_outliers[df_outliers[\"trip_total\"] > 3.25]"
   ]
  },
  {
   "cell_type": "code",
   "execution_count": 27,
   "id": "6d2bd383-0b22-4866-8072-b5c7166879fb",
   "metadata": {},
   "outputs": [
    {
     "data": {
      "text/plain": [
       "3.26"
      ]
     },
     "execution_count": 27,
     "metadata": {},
     "output_type": "execute_result"
    }
   ],
   "source": [
    "df_outliers[\"trip_total\"].min()"
   ]
  },
  {
   "cell_type": "code",
   "execution_count": null,
   "id": "841d6a33-b4b0-4d8b-ad15-50f0192c6ba4",
   "metadata": {},
   "outputs": [],
   "source": []
  },
  {
   "cell_type": "markdown",
   "id": "0ee2b655-4587-4bfe-b988-6fc579dd5c39",
   "metadata": {
    "tags": []
   },
   "source": [
    "#### 1.2.3 Cancelled Trips Logic"
   ]
  },
  {
   "cell_type": "markdown",
   "id": "7c2bac55-bfec-4b0d-b90c-d3e06320a23c",
   "metadata": {
    "tags": []
   },
   "source": [
    "We consider a trip cancelled if\n",
    "- trip_miles = 0\n",
    "- trip_seconds = 0\n",
    "- pickup = dropoff (regarding lat, lng, census tract and centroid location)"
   ]
  },
  {
   "cell_type": "code",
   "execution_count": 29,
   "id": "2b98f0b2-ffb2-46f0-923d-8aa7555c260b",
   "metadata": {
    "tags": []
   },
   "outputs": [
    {
     "name": "stdout",
     "output_type": "stream",
     "text": [
      "570298\n"
     ]
    }
   ],
   "source": [
    "print(len(df_outliers[df_outliers['trip_miles']==0]))"
   ]
  },
  {
   "cell_type": "code",
   "execution_count": 44,
   "id": "73c152dd-fae9-4fbe-a824-a834f4c77f26",
   "metadata": {
    "tags": []
   },
   "outputs": [],
   "source": [
    "# Filter out trips that match any \"cancelled\"-condition\n",
    "condition_census_tract = (df_outliers['pickup_census_tract'].notna() & df_outliers['dropoff_census_tract'].notna())\n",
    "\n",
    "condition_geolocation = (\n",
    "    (df_outliers['pickup_centroid_latitude'].notna() & df_outliers['dropoff_centroid_latitude'].notna()) &\n",
    "    (df_outliers['pickup_centroid_longitude'].notna() & df_outliers['dropoff_centroid_longitude'].notna())\n",
    ")\n",
    "\n",
    "condition_community_area = df_outliers['pickup_community_area'].notna() & df_outliers['dropoff_community_area'].notna()\n",
    "\n",
    "condition = (condition_census_tract | condition_geolocation|  condition_community_area) \n",
    "\n",
    "df_cancelled = df_outliers[condition]"
   ]
  },
  {
   "cell_type": "code",
   "execution_count": 45,
   "id": "7fa67d13-40f7-43df-b076-34fad0d2ae6a",
   "metadata": {
    "tags": []
   },
   "outputs": [
    {
     "data": {
      "text/plain": [
       "(5257291, 25)"
      ]
     },
     "execution_count": 45,
     "metadata": {},
     "output_type": "execute_result"
    }
   ],
   "source": [
    "df_cancelled.shape"
   ]
  },
  {
   "cell_type": "code",
   "execution_count": 46,
   "id": "fb6efa54-eb8e-4978-ad12-4720fcf23ace",
   "metadata": {
    "tags": []
   },
   "outputs": [
    {
     "data": {
      "text/plain": [
       "(524407, 25)"
      ]
     },
     "execution_count": 46,
     "metadata": {},
     "output_type": "execute_result"
    }
   ],
   "source": [
    "df_cancelled[df_cancelled[\"trip_miles\"]== 0].shape"
   ]
  },
  {
   "cell_type": "markdown",
   "id": "e96197c5-6380-4bdc-8f17-80a1762ed278",
   "metadata": {},
   "source": [
    "For the rest of the trips, where trip_miles equals 0 but any of the pickup and dropoff data is given, we use the census data to fill in any missing entries. We use as merging points **geoid** for **\"dropoff/pickup census tract\"** and **commarea** for **dropoff/pickup community area**."
   ]
  },
  {
   "cell_type": "markdown",
   "id": "785ae31a-6702-4030-aa0a-3445e3598a6c",
   "metadata": {},
   "source": [
    "#### 1.2.4 Merging Census Data"
   ]
  },
  {
   "cell_type": "code",
   "execution_count": 47,
   "id": "f9555b70-fea7-4546-ae78-9637e39e8eaf",
   "metadata": {},
   "outputs": [
    {
     "data": {
      "text/html": [
       "<div>\n",
       "<style scoped>\n",
       "    .dataframe tbody tr th:only-of-type {\n",
       "        vertical-align: middle;\n",
       "    }\n",
       "\n",
       "    .dataframe tbody tr th {\n",
       "        vertical-align: top;\n",
       "    }\n",
       "\n",
       "    .dataframe thead th {\n",
       "        text-align: right;\n",
       "    }\n",
       "</style>\n",
       "<table border=\"1\" class=\"dataframe\">\n",
       "  <thead>\n",
       "    <tr style=\"text-align: right;\">\n",
       "      <th></th>\n",
       "      <th>commarea</th>\n",
       "      <th>community_name</th>\n",
       "      <th>geoid</th>\n",
       "      <th>geometry</th>\n",
       "    </tr>\n",
       "  </thead>\n",
       "  <tbody>\n",
       "    <tr>\n",
       "      <th>0</th>\n",
       "      <td>44</td>\n",
       "      <td>Chatham</td>\n",
       "      <td>17031842400</td>\n",
       "      <td>POLYGON ((-87.60518 41.72272, -87.60552 41.722...</td>\n",
       "    </tr>\n",
       "    <tr>\n",
       "      <th>1</th>\n",
       "      <td>59</td>\n",
       "      <td>McKinley Park</td>\n",
       "      <td>17031840300</td>\n",
       "      <td>POLYGON ((-87.67551 41.82310, -87.67607 41.823...</td>\n",
       "    </tr>\n",
       "    <tr>\n",
       "      <th>2</th>\n",
       "      <td>34</td>\n",
       "      <td>Armour Square</td>\n",
       "      <td>17031841100</td>\n",
       "      <td>POLYGON ((-87.62947 41.83097, -87.62938 41.830...</td>\n",
       "    </tr>\n",
       "  </tbody>\n",
       "</table>\n",
       "</div>"
      ],
      "text/plain": [
       "   commarea community_name        geoid  \\\n",
       "0        44        Chatham  17031842400   \n",
       "1        59  McKinley Park  17031840300   \n",
       "2        34  Armour Square  17031841100   \n",
       "\n",
       "                                            geometry  \n",
       "0  POLYGON ((-87.60518 41.72272, -87.60552 41.722...  \n",
       "1  POLYGON ((-87.67551 41.82310, -87.67607 41.823...  \n",
       "2  POLYGON ((-87.62947 41.83097, -87.62938 41.830...  "
      ]
     },
     "execution_count": 47,
     "metadata": {},
     "output_type": "execute_result"
    }
   ],
   "source": [
    "# Load prepped census dataframe\n",
    "census_df = gp.read_file(\"data/prepped/census_tracts_df.geojson\")\n",
    "census_df.head(3)"
   ]
  },
  {
   "cell_type": "code",
   "execution_count": 48,
   "id": "3c037af5-0ae7-4e7a-8476-bb15783d6d04",
   "metadata": {},
   "outputs": [
    {
     "data": {
      "text/html": [
       "<div>\n",
       "<style scoped>\n",
       "    .dataframe tbody tr th:only-of-type {\n",
       "        vertical-align: middle;\n",
       "    }\n",
       "\n",
       "    .dataframe tbody tr th {\n",
       "        vertical-align: top;\n",
       "    }\n",
       "\n",
       "    .dataframe thead th {\n",
       "        text-align: right;\n",
       "    }\n",
       "</style>\n",
       "<table border=\"1\" class=\"dataframe\">\n",
       "  <thead>\n",
       "    <tr style=\"text-align: right;\">\n",
       "      <th></th>\n",
       "      <th>pickup_census_tract</th>\n",
       "      <th>dropoff_census_tract</th>\n",
       "      <th>pickup_community_area</th>\n",
       "      <th>dropoff_community_area</th>\n",
       "    </tr>\n",
       "  </thead>\n",
       "  <tbody>\n",
       "    <tr>\n",
       "      <th>8</th>\n",
       "      <td>1.703108e+10</td>\n",
       "      <td>1.703184e+10</td>\n",
       "      <td>8.0</td>\n",
       "      <td>32.0</td>\n",
       "    </tr>\n",
       "    <tr>\n",
       "      <th>10</th>\n",
       "      <td>1.703132e+10</td>\n",
       "      <td>1.703132e+10</td>\n",
       "      <td>32.0</td>\n",
       "      <td>32.0</td>\n",
       "    </tr>\n",
       "    <tr>\n",
       "      <th>16</th>\n",
       "      <td>1.703108e+10</td>\n",
       "      <td>1.703108e+10</td>\n",
       "      <td>8.0</td>\n",
       "      <td>8.0</td>\n",
       "    </tr>\n",
       "  </tbody>\n",
       "</table>\n",
       "</div>"
      ],
      "text/plain": [
       "    pickup_census_tract  dropoff_census_tract  pickup_community_area  \\\n",
       "8          1.703108e+10          1.703184e+10                    8.0   \n",
       "10         1.703132e+10          1.703132e+10                   32.0   \n",
       "16         1.703108e+10          1.703108e+10                    8.0   \n",
       "\n",
       "    dropoff_community_area  \n",
       "8                     32.0  \n",
       "10                    32.0  \n",
       "16                     8.0  "
      ]
     },
     "execution_count": 48,
     "metadata": {},
     "output_type": "execute_result"
    }
   ],
   "source": [
    "df_cancelled[df_cancelled[\"pickup_census_tract\"].notna()][[\"pickup_census_tract\",\"dropoff_census_tract\", \"pickup_community_area\", \"dropoff_community_area\" ]].head(3)"
   ]
  },
  {
   "cell_type": "code",
   "execution_count": 58,
   "id": "eaf7ceca-df45-4c9b-b252-eb79ca4e7695",
   "metadata": {
    "tags": []
   },
   "outputs": [],
   "source": [
    "df_prepmerge = df_cancelled"
   ]
  },
  {
   "cell_type": "code",
   "execution_count": 72,
   "id": "6a6186f1-3ea1-44c4-bcf5-4f59a6884120",
   "metadata": {
    "tags": []
   },
   "outputs": [],
   "source": [
    "# Change scientic notation to normal\n",
    "df_prepmerge.loc[:, 'pickup_geoid'] = df_prepmerge['pickup_census_tract'].apply(lambda x: '{:.0f}'.format(x) if pd.notna(x) else np.nan)\n",
    "df_prepmerge.loc[:, 'dropoff_geoid'] = df_prepmerge['dropoff_census_tract'].apply(lambda x: '{:.0f}'.format(x) if pd.notna(x) else np.nan)"
   ]
  },
  {
   "cell_type": "code",
   "execution_count": 75,
   "id": "029498f1-5a4a-405e-b721-33bba1485d82",
   "metadata": {
    "tags": []
   },
   "outputs": [
    {
     "data": {
      "text/html": [
       "<div>\n",
       "<style scoped>\n",
       "    .dataframe tbody tr th:only-of-type {\n",
       "        vertical-align: middle;\n",
       "    }\n",
       "\n",
       "    .dataframe tbody tr th {\n",
       "        vertical-align: top;\n",
       "    }\n",
       "\n",
       "    .dataframe thead th {\n",
       "        text-align: right;\n",
       "    }\n",
       "</style>\n",
       "<table border=\"1\" class=\"dataframe\">\n",
       "  <thead>\n",
       "    <tr style=\"text-align: right;\">\n",
       "      <th></th>\n",
       "      <th>pickup_census_tract</th>\n",
       "      <th>dropoff_census_tract</th>\n",
       "      <th>pickup_community_area</th>\n",
       "      <th>dropoff_community_area</th>\n",
       "      <th>pickup_geoid</th>\n",
       "      <th>dropoff_geoid</th>\n",
       "    </tr>\n",
       "  </thead>\n",
       "  <tbody>\n",
       "    <tr>\n",
       "      <th>8</th>\n",
       "      <td>1.703108e+10</td>\n",
       "      <td>1.703184e+10</td>\n",
       "      <td>8.0</td>\n",
       "      <td>32.0</td>\n",
       "      <td>17031081700</td>\n",
       "      <td>17031839100</td>\n",
       "    </tr>\n",
       "    <tr>\n",
       "      <th>10</th>\n",
       "      <td>1.703132e+10</td>\n",
       "      <td>1.703132e+10</td>\n",
       "      <td>32.0</td>\n",
       "      <td>32.0</td>\n",
       "      <td>17031320100</td>\n",
       "      <td>17031320100</td>\n",
       "    </tr>\n",
       "    <tr>\n",
       "      <th>16</th>\n",
       "      <td>1.703108e+10</td>\n",
       "      <td>1.703108e+10</td>\n",
       "      <td>8.0</td>\n",
       "      <td>8.0</td>\n",
       "      <td>17031081700</td>\n",
       "      <td>17031081700</td>\n",
       "    </tr>\n",
       "  </tbody>\n",
       "</table>\n",
       "</div>"
      ],
      "text/plain": [
       "    pickup_census_tract  dropoff_census_tract  pickup_community_area  \\\n",
       "8          1.703108e+10          1.703184e+10                    8.0   \n",
       "10         1.703132e+10          1.703132e+10                   32.0   \n",
       "16         1.703108e+10          1.703108e+10                    8.0   \n",
       "\n",
       "    dropoff_community_area pickup_geoid dropoff_geoid  \n",
       "8                     32.0  17031081700   17031839100  \n",
       "10                    32.0  17031320100   17031320100  \n",
       "16                     8.0  17031081700   17031081700  "
      ]
     },
     "execution_count": 75,
     "metadata": {},
     "output_type": "execute_result"
    }
   ],
   "source": [
    "df_prepmerge[df_prepmerge[\"pickup_census_tract\"].notna()][['pickup_census_tract', 'dropoff_census_tract',\"pickup_community_area\", \"dropoff_community_area\", \"pickup_geoid\", \"dropoff_geoid\"]].head(3)"
   ]
  },
  {
   "cell_type": "code",
   "execution_count": 107,
   "id": "bbeff1eb-b9d4-4b2c-afc9-e9d53e78282e",
   "metadata": {
    "tags": []
   },
   "outputs": [],
   "source": [
    "# make not null example dataframe (3 rows for testing)\n",
    "test_df = df_prepmerge[df_prepmerge[\"pickup_census_tract\"].notna()].head(3)"
   ]
  },
  {
   "cell_type": "code",
   "execution_count": 108,
   "id": "470dad71-e298-4d96-8b3a-42249c5ddde8",
   "metadata": {
    "tags": []
   },
   "outputs": [],
   "source": [
    "# example of merge just for when geoid given (==condition_census_tract)\n",
    "def merge_on(df, df_to_merge, left_col, right_col, name):\n",
    "    merged_df = pd.merge(df, df_to_merge, left_on=left_col, right_on=right_col, how='left')\n",
    "    merged_df.rename(columns={\n",
    "        'commarea': f'{name}_commarea',\n",
    "        'community_name': f'{name}_community_name',\n",
    "        'geometry': f'{name}_geometry'\n",
    "    }, inplace=True)\n",
    "    \n",
    "    # drop the col we used to merge\n",
    "    merged_df = merged_df.drop(right_col, axis=1)\n",
    "    \n",
    "    return merged_df"
   ]
  },
  {
   "cell_type": "code",
   "execution_count": 109,
   "id": "f537dd79-d212-4c7c-9cf4-73ca24aa587d",
   "metadata": {
    "tags": []
   },
   "outputs": [
    {
     "data": {
      "text/html": [
       "<div>\n",
       "<style scoped>\n",
       "    .dataframe tbody tr th:only-of-type {\n",
       "        vertical-align: middle;\n",
       "    }\n",
       "\n",
       "    .dataframe tbody tr th {\n",
       "        vertical-align: top;\n",
       "    }\n",
       "\n",
       "    .dataframe thead th {\n",
       "        text-align: right;\n",
       "    }\n",
       "</style>\n",
       "<table border=\"1\" class=\"dataframe\">\n",
       "  <thead>\n",
       "    <tr style=\"text-align: right;\">\n",
       "      <th></th>\n",
       "      <th>trip_id</th>\n",
       "      <th>taxi_id</th>\n",
       "      <th>trip_start_timestamp</th>\n",
       "      <th>trip_end_timestamp</th>\n",
       "      <th>trip_seconds</th>\n",
       "      <th>trip_miles</th>\n",
       "      <th>pickup_census_tract</th>\n",
       "      <th>dropoff_census_tract</th>\n",
       "      <th>pickup_community_area</th>\n",
       "      <th>dropoff_community_area</th>\n",
       "      <th>...</th>\n",
       "      <th>rewritten_pickup</th>\n",
       "      <th>rewritten_dropoff</th>\n",
       "      <th>pickup_geoid</th>\n",
       "      <th>dropoff_geoid</th>\n",
       "      <th>pickup_commarea</th>\n",
       "      <th>pickup_community_name</th>\n",
       "      <th>pickup_geometry</th>\n",
       "      <th>dropoff_commarea</th>\n",
       "      <th>dropoff_community_name</th>\n",
       "      <th>dropoff_geometry</th>\n",
       "    </tr>\n",
       "  </thead>\n",
       "  <tbody>\n",
       "    <tr>\n",
       "      <th>0</th>\n",
       "      <td>3186be22cdd5d17def50e44eca6be9ec9b0a9974</td>\n",
       "      <td>4f78222d267c08ee7267810e5f3f2241dc61bf1396d036...</td>\n",
       "      <td>2022-12-31 23:45:00</td>\n",
       "      <td>2022-12-31 23:45:00</td>\n",
       "      <td>540.0</td>\n",
       "      <td>0.7</td>\n",
       "      <td>1.703108e+10</td>\n",
       "      <td>1.703184e+10</td>\n",
       "      <td>8.0</td>\n",
       "      <td>32.0</td>\n",
       "      <td>...</td>\n",
       "      <td>17031081700</td>\n",
       "      <td>17031839100</td>\n",
       "      <td>17031081700</td>\n",
       "      <td>17031839100</td>\n",
       "      <td>8</td>\n",
       "      <td>Near North Side</td>\n",
       "      <td>POLYGON ((-87.62983 41.88751, -87.63073 41.887...</td>\n",
       "      <td>32</td>\n",
       "      <td>Loop</td>\n",
       "      <td>POLYGON ((-87.60535 41.87420, -87.60533 41.873...</td>\n",
       "    </tr>\n",
       "    <tr>\n",
       "      <th>1</th>\n",
       "      <td>2c7c880f01cbf322beb00a78f937b638ccee016b</td>\n",
       "      <td>44d82604888573a1d067dd0e6b1290e08eec36e9eafe32...</td>\n",
       "      <td>2022-12-31 23:45:00</td>\n",
       "      <td>2022-12-31 23:45:00</td>\n",
       "      <td>120.0</td>\n",
       "      <td>0.3</td>\n",
       "      <td>1.703132e+10</td>\n",
       "      <td>1.703132e+10</td>\n",
       "      <td>32.0</td>\n",
       "      <td>32.0</td>\n",
       "      <td>...</td>\n",
       "      <td>17031320100</td>\n",
       "      <td>17031320100</td>\n",
       "      <td>17031320100</td>\n",
       "      <td>17031320100</td>\n",
       "      <td>32</td>\n",
       "      <td>Loop</td>\n",
       "      <td>POLYGON ((-87.60535 41.87420, -87.60533 41.873...</td>\n",
       "      <td>32</td>\n",
       "      <td>Loop</td>\n",
       "      <td>POLYGON ((-87.60535 41.87420, -87.60533 41.873...</td>\n",
       "    </tr>\n",
       "    <tr>\n",
       "      <th>2</th>\n",
       "      <td>1d104fd39db4351c83f3736b079ed37f64e7528e</td>\n",
       "      <td>f7702c24e158419dab2ab9901f181b533f0d43392b52bc...</td>\n",
       "      <td>2022-12-31 23:45:00</td>\n",
       "      <td>2022-12-31 23:45:00</td>\n",
       "      <td>15.0</td>\n",
       "      <td>0.0</td>\n",
       "      <td>1.703108e+10</td>\n",
       "      <td>1.703108e+10</td>\n",
       "      <td>8.0</td>\n",
       "      <td>8.0</td>\n",
       "      <td>...</td>\n",
       "      <td>17031081700</td>\n",
       "      <td>17031081700</td>\n",
       "      <td>17031081700</td>\n",
       "      <td>17031081700</td>\n",
       "      <td>8</td>\n",
       "      <td>Near North Side</td>\n",
       "      <td>POLYGON ((-87.62983 41.88751, -87.63073 41.887...</td>\n",
       "      <td>8</td>\n",
       "      <td>Near North Side</td>\n",
       "      <td>POLYGON ((-87.62983 41.88751, -87.63073 41.887...</td>\n",
       "    </tr>\n",
       "  </tbody>\n",
       "</table>\n",
       "<p>3 rows × 35 columns</p>\n",
       "</div>"
      ],
      "text/plain": [
       "                                    trip_id  \\\n",
       "0  3186be22cdd5d17def50e44eca6be9ec9b0a9974   \n",
       "1  2c7c880f01cbf322beb00a78f937b638ccee016b   \n",
       "2  1d104fd39db4351c83f3736b079ed37f64e7528e   \n",
       "\n",
       "                                             taxi_id trip_start_timestamp  \\\n",
       "0  4f78222d267c08ee7267810e5f3f2241dc61bf1396d036...  2022-12-31 23:45:00   \n",
       "1  44d82604888573a1d067dd0e6b1290e08eec36e9eafe32...  2022-12-31 23:45:00   \n",
       "2  f7702c24e158419dab2ab9901f181b533f0d43392b52bc...  2022-12-31 23:45:00   \n",
       "\n",
       "   trip_end_timestamp  trip_seconds  trip_miles  pickup_census_tract  \\\n",
       "0 2022-12-31 23:45:00         540.0         0.7         1.703108e+10   \n",
       "1 2022-12-31 23:45:00         120.0         0.3         1.703132e+10   \n",
       "2 2022-12-31 23:45:00          15.0         0.0         1.703108e+10   \n",
       "\n",
       "   dropoff_census_tract  pickup_community_area  dropoff_community_area  ...  \\\n",
       "0          1.703184e+10                    8.0                    32.0  ...   \n",
       "1          1.703132e+10                   32.0                    32.0  ...   \n",
       "2          1.703108e+10                    8.0                     8.0  ...   \n",
       "\n",
       "   rewritten_pickup  rewritten_dropoff  pickup_geoid  dropoff_geoid  \\\n",
       "0       17031081700        17031839100   17031081700    17031839100   \n",
       "1       17031320100        17031320100   17031320100    17031320100   \n",
       "2       17031081700        17031081700   17031081700    17031081700   \n",
       "\n",
       "   pickup_commarea pickup_community_name  \\\n",
       "0                8       Near North Side   \n",
       "1               32                  Loop   \n",
       "2                8       Near North Side   \n",
       "\n",
       "                                     pickup_geometry  dropoff_commarea  \\\n",
       "0  POLYGON ((-87.62983 41.88751, -87.63073 41.887...                32   \n",
       "1  POLYGON ((-87.60535 41.87420, -87.60533 41.873...                32   \n",
       "2  POLYGON ((-87.62983 41.88751, -87.63073 41.887...                 8   \n",
       "\n",
       "   dropoff_community_name                                   dropoff_geometry  \n",
       "0                    Loop  POLYGON ((-87.60535 41.87420, -87.60533 41.873...  \n",
       "1                    Loop  POLYGON ((-87.60535 41.87420, -87.60533 41.873...  \n",
       "2         Near North Side  POLYGON ((-87.62983 41.88751, -87.63073 41.887...  \n",
       "\n",
       "[3 rows x 35 columns]"
      ]
     },
     "execution_count": 109,
     "metadata": {},
     "output_type": "execute_result"
    }
   ],
   "source": [
    "test_df = merge_on(test_df, census_df, \"pickup_geoid\", \"geoid\", \"pickup\")\n",
    "test_df = merge_on(test_df, census_df, \"dropoff_geoid\", \"geoid\", \"dropoff\")\n",
    "test_df.head()"
   ]
  },
  {
   "cell_type": "code",
   "execution_count": null,
   "id": "a76a32da-8a81-490d-a68e-cfebd5f93281",
   "metadata": {},
   "outputs": [],
   "source": []
  },
  {
   "cell_type": "code",
   "execution_count": null,
   "id": "8aac44c7-d2ef-41af-8b7c-667cddc0ecdd",
   "metadata": {},
   "outputs": [],
   "source": [
    "## MERGE HERE --------------------"
   ]
  },
  {
   "cell_type": "code",
   "execution_count": null,
   "id": "082b60e6-4786-42af-977c-579711cde085",
   "metadata": {},
   "outputs": [],
   "source": []
  },
  {
   "cell_type": "code",
   "execution_count": null,
   "id": "604787b1-c4ac-49e8-af44-bd5db303380a",
   "metadata": {},
   "outputs": [],
   "source": []
  },
  {
   "cell_type": "code",
   "execution_count": null,
   "id": "d5651371-d4f1-4cd4-aa75-e69ac5d00e3b",
   "metadata": {},
   "outputs": [],
   "source": [
    "## MERGE END -----------"
   ]
  },
  {
   "cell_type": "code",
   "execution_count": null,
   "id": "e7f0b230-6447-4965-9fbe-b9dc42377816",
   "metadata": {},
   "outputs": [],
   "source": [
    "## if merged add rest of function"
   ]
  },
  {
   "cell_type": "code",
   "execution_count": null,
   "id": "ae7516c4-a710-4d56-9740-c9123d2f19f5",
   "metadata": {},
   "outputs": [],
   "source": [
    "def calculate_distance(row):\n",
    "    if row['trip_miles'] == 0:\n",
    "        if condition_geolocation:\n",
    "            pickup_point = (row['pickup_centroid_latitude'], row['pickup_centroid_longitude'])\n",
    "            dropoff_point = (row['dropoff_centroid_latitude'], row['dropoff_centroid_longitude'])\n",
    "            return geodesic(pickup_point, dropoff_point).miles\n",
    "        else if condition_census_tract:\n",
    "            ##\n",
    "        else if condition_community_area:\n",
    "            ##\n",
    "    else:\n",
    "        return row['trip_miles']"
   ]
  },
  {
   "cell_type": "code",
   "execution_count": null,
   "id": "8e819230-5d66-425a-b1ab-ba1b199a6ac3",
   "metadata": {},
   "outputs": [],
   "source": []
  },
  {
   "cell_type": "code",
   "execution_count": null,
   "id": "20ab46da-cba2-4b1d-8bd3-ccc0bf275bae",
   "metadata": {},
   "outputs": [],
   "source": []
  },
  {
   "cell_type": "code",
   "execution_count": null,
   "id": "d22816e0-f9cf-44cd-a731-721f4264d527",
   "metadata": {},
   "outputs": [],
   "source": []
  },
  {
   "cell_type": "markdown",
   "id": "78571336-ba0c-4fe9-8217-b3ad9b3273fa",
   "metadata": {
    "tags": []
   },
   "source": [
    "### 1.3 Checking null values"
   ]
  },
  {
   "cell_type": "code",
   "execution_count": 252,
   "id": "36139b18-a9f4-401b-aa55-e63b73371c5f",
   "metadata": {
    "tags": []
   },
   "outputs": [
    {
     "data": {
      "text/plain": [
       "trip_id                             0\n",
       "taxi_id                             1\n",
       "trip_start_timestamp                0\n",
       "trip_end_timestamp                  0\n",
       "trip_seconds                        0\n",
       "trip_miles                          0\n",
       "pickup_census_tract           2841436\n",
       "dropoff_census_tract          2841436\n",
       "pickup_community_area            1365\n",
       "dropoff_community_area          33496\n",
       "fare                                0\n",
       "tips                                0\n",
       "tolls                               0\n",
       "extras                              0\n",
       "trip_total                          0\n",
       "payment_type                        0\n",
       "company                             0\n",
       "pickup_centroid_latitude          283\n",
       "pickup_centroid_longitude         283\n",
       "pickup_centroid_location          283\n",
       "dropoff_centroid_latitude        5157\n",
       "dropoff_centroid_longitude       5157\n",
       "dropoff_centroid_location        5157\n",
       "trip_km                             0\n",
       "trip_hours                          0\n",
       "mph                                 0\n",
       "dtype: int64"
      ]
     },
     "execution_count": 252,
     "metadata": {},
     "output_type": "execute_result"
    }
   ],
   "source": [
    "df_cancelled.isna().sum()"
   ]
  },
  {
   "cell_type": "markdown",
   "id": "a72c8041-f26f-4167-9085-bc4160f1c321",
   "metadata": {},
   "source": [
    "#### 1.3.1 Time null values"
   ]
  },
  {
   "cell_type": "code",
   "execution_count": 40,
   "id": "e772d0cc-b4ef-4352-acb3-5207d1b177d4",
   "metadata": {},
   "outputs": [],
   "source": [
    "# If start and end time are the same then trip seconds would still "
   ]
  },
  {
   "cell_type": "code",
   "execution_count": 41,
   "id": "22395abc-a63c-44a5-a44b-f965550ca7e7",
   "metadata": {
    "tags": []
   },
   "outputs": [
    {
     "name": "stdout",
     "output_type": "stream",
     "text": [
      "Entries where no trip seconds but start and end time are also equal  0\n",
      "Entries where no trip seconds but start and end time different  0\n"
     ]
    }
   ],
   "source": [
    "# Drop entries where trip seconds are null and time is equal\n",
    "print(\"Entries where no trip seconds but start and end time are also equal \", len(df[df[\"trip_seconds\"].isna() & (df[\"trip_start_timestamp\"] ==  df[\"trip_end_timestamp\"])]))\n",
    "print(\"Entries where no trip seconds but start and end time different \", len(df[df[\"trip_seconds\"].isna() & (df[\"trip_start_timestamp\"] !=  df[\"trip_end_timestamp\"])]))"
   ]
  },
  {
   "cell_type": "code",
   "execution_count": 42,
   "id": "f5f059cb-b79a-4ddf-8565-583b8c4531e7",
   "metadata": {
    "tags": []
   },
   "outputs": [
    {
     "data": {
      "text/plain": [
       "0"
      ]
     },
     "execution_count": 42,
     "metadata": {},
     "output_type": "execute_result"
    }
   ],
   "source": [
    "# Drop where cannot be calculated:\n",
    "df = df[~(df[\"trip_seconds\"].isna() & (df[\"trip_start_timestamp\"] ==  df[\"trip_end_timestamp\"]))]\n",
    "\n",
    "# Else calculate the trip seconds:\n",
    "temp_trip = df[df[\"trip_seconds\"].isna() & (df[\"trip_start_timestamp\"] !=  df[\"trip_end_timestamp\"])].copy()\n",
    "temp_trip[\"calculated_trip_seconds\"] = (temp_trip[\"trip_end_timestamp\"] - temp_trip[\"trip_start_timestamp\"]).dt.seconds\n",
    "df[\"trip_seconds\"].fillna(temp_trip[\"calculated_trip_seconds\"], inplace=True)\n",
    "\n",
    "df[\"trip_seconds\"].isna().sum()"
   ]
  },
  {
   "cell_type": "markdown",
   "id": "164865f1-9141-4678-b077-aaa4259cebc8",
   "metadata": {
    "tags": []
   },
   "source": [
    "#### Further checks..."
   ]
  },
  {
   "cell_type": "markdown",
   "id": "ef70e630-2020-4f25-9c95-49013352733b",
   "metadata": {},
   "source": [
    "### 1.4 Hexagons - res8 and res7 takes too long (deswegen erstmal ausgeklammert)"
   ]
  },
  {
   "cell_type": "code",
   "execution_count": 43,
   "id": "0ac57c17-7797-417e-bc7e-81f5e53e5bc2",
   "metadata": {
    "tags": []
   },
   "outputs": [],
   "source": [
    "# Get hex ids\n",
    "def add_h3_ids(df, res):\n",
    "    df[f\"h3_res{res}_pickup\"] = np.vectorize(h3.geo_to_h3)(\n",
    "        df['pickup_centroid_latitude'], df['pickup_centroid_longitude'], res)\n",
    "    df[f\"h3_res{res}_dropoff\"] = np.vectorize(h3.geo_to_h3)(\n",
    "        df['dropoff_centroid_latitude'], df['dropoff_centroid_longitude'], res)\n",
    "    return df\n",
    "\n",
    "# Get poly from hex ids - vectorized form to save time\n",
    "def poly_from_hex(df, colname, res):\n",
    "    hex_ids = df[f\"h3_res{res}_{colname}\"].values\n",
    "    polygons = np.vectorize(lambda hex_id: Polygon(h3.h3_to_geo_boundary(hex_id, geo_json=True)))(hex_ids)\n",
    "    df[f\"poly_res{res}_{colname}\"] = polygons\n",
    "    return df\n",
    "\n",
    "# Get count for each trip happening in the same hexagon\n",
    "def get_poly_count(df, colname):\n",
    "    name = colname.split(\"_\")[1] + \"_\" + colname.split(\"_\")[2]\n",
    "    df[f\"count{name}\"] = df.groupby(colname)['trip_id'].transform('count')\n",
    "    return df"
   ]
  },
  {
   "cell_type": "code",
   "execution_count": 1,
   "id": "1ce2d96d-b681-4d80-b0c1-48515d111e68",
   "metadata": {
    "tags": []
   },
   "outputs": [],
   "source": [
    "# For hexagon resolution, adapted: https://towardsdatascience.com/exploring-location-data-using-a-hexagon-grid-3509b68b04a2 table\n",
    "# hex_df = add_h3_ids(df, 7)\n",
    "#hex_df = add_h3_ids(df, 8)"
   ]
  },
  {
   "cell_type": "code",
   "execution_count": 45,
   "id": "e7a2f39e-987c-477c-b0da-2eea61025182",
   "metadata": {
    "tags": []
   },
   "outputs": [
    {
     "name": "stdout",
     "output_type": "stream",
     "text": [
      "Number of hex ids equal to 0:  871484\n"
     ]
    }
   ],
   "source": [
    "# Entries where hex id is 0, we cannot use for visualization, hence drop\n",
    "## TODO: maybe if census tract is given/community area, we can use this to merge with later census data to get hexagons for these entries? \n",
    "print(\"Number of hex ids equal to 0: \",len(hex_df[(hex_df[\"h3_res7_pickup\"] == \"0\") | (hex_df[\"h3_res7_dropoff\"] == \"0\")]))\n",
    "\n",
    "hex_df_clear = hex_df[(hex_df[\"h3_res7_pickup\"] != \"0\") & (hex_df[\"h3_res7_dropoff\"] != \"0\")]"
   ]
  },
  {
   "cell_type": "code",
   "execution_count": 46,
   "id": "43b52166-f3d3-4d3d-90f0-d4a981fa658b",
   "metadata": {
    "tags": []
   },
   "outputs": [
    {
     "data": {
      "text/html": [
       "<div>\n",
       "<style scoped>\n",
       "    .dataframe tbody tr th:only-of-type {\n",
       "        vertical-align: middle;\n",
       "    }\n",
       "\n",
       "    .dataframe tbody tr th {\n",
       "        vertical-align: top;\n",
       "    }\n",
       "\n",
       "    .dataframe thead th {\n",
       "        text-align: right;\n",
       "    }\n",
       "</style>\n",
       "<table border=\"1\" class=\"dataframe\">\n",
       "  <thead>\n",
       "    <tr style=\"text-align: right;\">\n",
       "      <th></th>\n",
       "      <th>trip_id</th>\n",
       "      <th>taxi_id</th>\n",
       "      <th>trip_start_timestamp</th>\n",
       "      <th>trip_end_timestamp</th>\n",
       "      <th>trip_seconds</th>\n",
       "      <th>trip_miles</th>\n",
       "      <th>pickup_census_tract</th>\n",
       "      <th>dropoff_census_tract</th>\n",
       "      <th>pickup_community_area</th>\n",
       "      <th>dropoff_community_area</th>\n",
       "      <th>...</th>\n",
       "      <th>pickup_centroid_location</th>\n",
       "      <th>dropoff_centroid_latitude</th>\n",
       "      <th>dropoff_centroid_longitude</th>\n",
       "      <th>dropoff_centroid_location</th>\n",
       "      <th>trip_km</th>\n",
       "      <th>trip_hours</th>\n",
       "      <th>Check</th>\n",
       "      <th>kmh</th>\n",
       "      <th>h3_res7_pickup</th>\n",
       "      <th>h3_res7_dropoff</th>\n",
       "    </tr>\n",
       "  </thead>\n",
       "  <tbody>\n",
       "    <tr>\n",
       "      <th>0</th>\n",
       "      <td>4404c6835b9e74e9f74d70f235200a8ce09db14a</td>\n",
       "      <td>7e179f8ef66ae99ec2d1ec89224e0b7ee5469fe5627f6d...</td>\n",
       "      <td>2022-12-31 23:45:00</td>\n",
       "      <td>2023-01-01 00:15:00</td>\n",
       "      <td>2081.0</td>\n",
       "      <td>4.42</td>\n",
       "      <td>NaN</td>\n",
       "      <td>NaN</td>\n",
       "      <td>2.0</td>\n",
       "      <td>3.0</td>\n",
       "      <td>...</td>\n",
       "      <td>POINT (-87.6950125892 42.001571027)</td>\n",
       "      <td>41.965812</td>\n",
       "      <td>-87.655879</td>\n",
       "      <td>POINT (-87.6558787862 41.96581197)</td>\n",
       "      <td>7.1133</td>\n",
       "      <td>0.578056</td>\n",
       "      <td>True</td>\n",
       "      <td>12.305565</td>\n",
       "      <td>872664d8effffff</td>\n",
       "      <td>872664d89ffffff</td>\n",
       "    </tr>\n",
       "    <tr>\n",
       "      <th>1</th>\n",
       "      <td>466473fd2a196ebe92fb2983cb7e8af32e39aa1f</td>\n",
       "      <td>d1d88b89ceb6d753007b6e795e3c24f4bea905a51e9d47...</td>\n",
       "      <td>2022-12-31 23:45:00</td>\n",
       "      <td>2023-01-01 00:00:00</td>\n",
       "      <td>812.0</td>\n",
       "      <td>0.00</td>\n",
       "      <td>NaN</td>\n",
       "      <td>NaN</td>\n",
       "      <td>8.0</td>\n",
       "      <td>24.0</td>\n",
       "      <td>...</td>\n",
       "      <td>POINT (-87.6333080367 41.899602111)</td>\n",
       "      <td>41.901207</td>\n",
       "      <td>-87.676356</td>\n",
       "      <td>POINT (-87.6763559892 41.9012069941)</td>\n",
       "      <td>0.0000</td>\n",
       "      <td>0.225556</td>\n",
       "      <td>True</td>\n",
       "      <td>0.000000</td>\n",
       "      <td>872664c1effffff</td>\n",
       "      <td>872664cacffffff</td>\n",
       "    </tr>\n",
       "  </tbody>\n",
       "</table>\n",
       "<p>2 rows × 29 columns</p>\n",
       "</div>"
      ],
      "text/plain": [
       "                                    trip_id  \\\n",
       "0  4404c6835b9e74e9f74d70f235200a8ce09db14a   \n",
       "1  466473fd2a196ebe92fb2983cb7e8af32e39aa1f   \n",
       "\n",
       "                                             taxi_id trip_start_timestamp  \\\n",
       "0  7e179f8ef66ae99ec2d1ec89224e0b7ee5469fe5627f6d...  2022-12-31 23:45:00   \n",
       "1  d1d88b89ceb6d753007b6e795e3c24f4bea905a51e9d47...  2022-12-31 23:45:00   \n",
       "\n",
       "   trip_end_timestamp  trip_seconds  trip_miles  pickup_census_tract  \\\n",
       "0 2023-01-01 00:15:00        2081.0        4.42                  NaN   \n",
       "1 2023-01-01 00:00:00         812.0        0.00                  NaN   \n",
       "\n",
       "   dropoff_census_tract  pickup_community_area  dropoff_community_area  ...  \\\n",
       "0                   NaN                    2.0                     3.0  ...   \n",
       "1                   NaN                    8.0                    24.0  ...   \n",
       "\n",
       "              pickup_centroid_location  dropoff_centroid_latitude  \\\n",
       "0  POINT (-87.6950125892 42.001571027)                  41.965812   \n",
       "1  POINT (-87.6333080367 41.899602111)                  41.901207   \n",
       "\n",
       "   dropoff_centroid_longitude             dropoff_centroid_location  trip_km  \\\n",
       "0                  -87.655879    POINT (-87.6558787862 41.96581197)   7.1133   \n",
       "1                  -87.676356  POINT (-87.6763559892 41.9012069941)   0.0000   \n",
       "\n",
       "  trip_hours Check        kmh   h3_res7_pickup  h3_res7_dropoff  \n",
       "0   0.578056  True  12.305565  872664d8effffff  872664d89ffffff  \n",
       "1   0.225556  True   0.000000  872664c1effffff  872664cacffffff  \n",
       "\n",
       "[2 rows x 29 columns]"
      ]
     },
     "execution_count": 46,
     "metadata": {},
     "output_type": "execute_result"
    }
   ],
   "source": [
    "hex_df_clear.head(2)"
   ]
  },
  {
   "cell_type": "code",
   "execution_count": 47,
   "id": "aff0bb44-45d9-4b9d-8bd9-1a4aff320efb",
   "metadata": {
    "tags": []
   },
   "outputs": [
    {
     "name": "stderr",
     "output_type": "stream",
     "text": [
      "\n",
      "KeyboardInterrupt\n",
      "\n"
     ]
    }
   ],
   "source": [
    "# Get polygon from hex ids\n",
    "#hex_df_poly = poly_from_hex(hex_df_clear, \"pickup\", 7)\n",
    "#hex_df_poly = poly_from_hex(hex_df_clear, \"dropoff\", 7)\n",
    "# hex_df_poly = poly_from_hex(hex_df_clear, \"pickup\", 8)\n",
    "# hex_df_poly = poly_from_hex(hex_df_clear, \"dropoff\", 8)"
   ]
  },
  {
   "cell_type": "code",
   "execution_count": null,
   "id": "0a30c791-c4c1-49be-ba6a-5f890a46037e",
   "metadata": {
    "tags": []
   },
   "outputs": [],
   "source": [
    "hex_df_poly.head(2)"
   ]
  },
  {
   "cell_type": "code",
   "execution_count": null,
   "id": "60a943e1-e4cb-466e-a17a-78179b8048df",
   "metadata": {
    "tags": []
   },
   "outputs": [],
   "source": [
    "# Get count for each polygon\n",
    "# hex_df_poly = get_poly_count(hex_df_poly, \"poly_res7_pickup\")\n",
    "#hex_df_poly = get_poly_count(hex_df_poly, \"poly_res7_dropoff\")\n",
    "# hex_df_poly = get_poly_count(hex_df_poly, \"poly_res8_pickup\")\n",
    "# hex_df_poly = get_poly_count(hex_df_poly, \"poly_res8_dropoff\")"
   ]
  },
  {
   "cell_type": "code",
   "execution_count": null,
   "id": "5d5d60fa-0967-4553-ab5b-f2a5cc73bfcf",
   "metadata": {
    "tags": []
   },
   "outputs": [],
   "source": [
    "#hex_df_clear.head(1)"
   ]
  },
  {
   "cell_type": "code",
   "execution_count": null,
   "id": "9712d7c7-6567-4060-aa5b-fc4fb1166911",
   "metadata": {
    "tags": []
   },
   "outputs": [],
   "source": [
    "# Make a geodf out of it for simple plotting\n",
    "gdf_res7_pickup = gp.GeoDataFrame(hex_df_clear, geometry=hex_df_poly['poly_res7_pickup'], crs='EPSG:4326')\n",
    "gdf_res7_dropoff = gp.GeoDataFrame(hex_df_clear, geometry=hex_df_poly['poly_res7_dropoff'], crs='EPSG:4326')\n",
    "# gdf_res8_pickup = gp.GeoDataFrame(hex_df_clear, geometry=hex_df_poly['poly_res8_pickup'], crs='EPSG:4326')\n",
    "# gdf_res8_dropoff = gp.GeoDataFrame(hex_df_clear, geometry=hex_df_poly['poly_res8_dropoff'], crs='EPSG:4326')\n",
    "\n",
    "#Visualize\n",
    "# fig, axs = plt.subplots(nrows = 1, ncols = 2, figsize=(10, 10))\n",
    "\n",
    "# titles = [\"Hex resolution 7\", \n",
    "#           # \"Hex resolution 8\"\n",
    "#          ]\n",
    "# dfs = [gdf_res7_pickup, gdf_res7_dropoff,  \n",
    "#        # gdf_res8_pickup, gdf_res8_dropoff\n",
    "#       ]\n",
    "\n",
    "# axs = axs.flatten()\n",
    "# for ind in range(0, 3):\n",
    "#     dfs[ind].plot(column=\"count\", ax=axs[ind], legend=True)\n",
    "#     axs[ind].set_title(titles[ind])\n",
    "\n",
    "# plt.tight_layout()\n",
    "# plt.show()"
   ]
  },
  {
   "cell_type": "code",
   "execution_count": null,
   "id": "7ebbb1a1-ebca-47ad-b240-6824b8a0ade0",
   "metadata": {
    "tags": []
   },
   "outputs": [],
   "source": [
    "# df_pickup_res8['geometry'] = df_pickup_res7.apply(lambda x: Polygon(h3.h3_to_geo_boundary(x[\"h3_pickup_res8\"], geo_json=True)), axis=1)\n",
    "# trips_starts_geo = gp.GeoDataFrame(df_pickup_res7, geometry=df_pickup_res7['geometry'], crs='EPSG:4326')\n",
    "# trips_starts_geo.head()"
   ]
  },
  {
   "cell_type": "code",
   "execution_count": null,
   "id": "8430b373-57b6-41ad-8c46-8bb2800bec3e",
   "metadata": {
    "tags": []
   },
   "outputs": [],
   "source": [
    "# trips_starts_geo.plot(column='count')"
   ]
  }
 ],
 "metadata": {
  "kernelspec": {
   "display_name": "Python 3 (ipykernel)",
   "language": "python",
   "name": "python3"
  },
  "language_info": {
   "codemirror_mode": {
    "name": "ipython",
    "version": 3
   },
   "file_extension": ".py",
   "mimetype": "text/x-python",
   "name": "python",
   "nbconvert_exporter": "python",
   "pygments_lexer": "ipython3",
   "version": "3.11.4"
  },
  "toc-autonumbering": false,
  "toc-showcode": false,
  "toc-showmarkdowntxt": false
 },
 "nbformat": 4,
 "nbformat_minor": 5
}
