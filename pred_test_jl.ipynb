{
 "cells": [
  {
   "cell_type": "code",
   "execution_count": 195,
   "id": "375e0294",
   "metadata": {},
   "outputs": [],
   "source": [
    "import os\n",
    "import pandas as pd\n",
    "import numpy as np\n",
    "import matplotlib.pyplot as plt\n",
    "\n",
    "# Geospatial libraries\n",
    "from h3 import h3 \n",
    "import geopandas as gp\n",
    "from shapely.geometry.polygon import Polygon\n",
    "\n",
    "from sklearn.model_selection import train_test_split\n",
    "from sklearn.preprocessing import StandardScaler\n",
    "\n",
    "from sklearn.svm import SVR\n",
    "from sklearn.metrics import mean_squared_error, r2_score\n",
    "from sklearn.pipeline import Pipeline\n",
    "from sklearn.model_selection import GridSearchCV\n",
    "from joblib import dump, load\n",
    "import itertools\n",
    "import csv"
   ]
  },
  {
   "cell_type": "code",
   "execution_count": 196,
   "id": "ada7d392",
   "metadata": {},
   "outputs": [],
   "source": [
    "df = pd.read_parquet('data/prepped/weather_taxi_merged_df.parquet')"
   ]
  },
  {
   "cell_type": "code",
   "execution_count": 197,
   "id": "e2e6ef3c",
   "metadata": {},
   "outputs": [],
   "source": [
    "# create necessary features\n",
    "df['week'] = df['trip_start_timestamp'].dt.isocalendar().week\n",
    "df['2_hour_window'] = df['trip_start_timestamp'].dt.floor('2h').dt.hour"
   ]
  },
  {
   "cell_type": "code",
   "execution_count": 208,
   "id": "5afa5388",
   "metadata": {},
   "outputs": [],
   "source": [
    "def create_prediction_dataset(df, temporal_resolution, spatial_resolution):\n",
    "    \n",
    "    if temporal_resolution < 24: \n",
    "        \n",
    "        features = [f'h3_res{spatial_resolution}_pickup', 'week', 'weekday', f'{temporal_resolution}_hour_window',\n",
    "                    'Temperature','Humidity','Precip.','Wind Speed', 'trip_id']\n",
    "        df_pred = df.groupby([f'h3_res{spatial_resolution}_pickup','week','weekday',f'{temporal_resolution}_hour_window']).agg({\n",
    "            'Temperature':'mean',\n",
    "            'Humidity':'mean',\n",
    "            'Precip.':'mean',\n",
    "            'Wind Speed':'mean',\n",
    "            'trip_id':'count',\n",
    "        }).reset_index()\n",
    "    else:\n",
    "        \n",
    "        features = [f'h3_res{spatial_resolution}_pickup', 'week', 'weekday','Temperature','Humidity','Precip.',\n",
    "                    'Wind Speed', 'trip_id']\n",
    "        df_pred = df.groupby([f'h3_res{spatial_resolution}_pickup','week','weekday']).agg({\n",
    "            'Temperature':'mean',\n",
    "            'Humidity':'mean',\n",
    "            'Precip.':'mean',\n",
    "            'Wind Speed':'mean',\n",
    "            'trip_id':'count',\n",
    "        }).reset_index()\n",
    "    \n",
    "    df_pred.rename(columns={'trip_id':'demand'}, inplace=True)\n",
    "    df_dummy = pd.get_dummies(df_pred[f'h3_res{spatial_resolution}_pickup'],prefix=f'h3_res{spatial_resolution}')\n",
    "    df_encoded = pd.concat([df_pred,df_dummy], axis=1)\n",
    "    df_encoded = df_encoded.drop(f'h3_res{spatial_resolution}_pickup', axis=1)\n",
    "    \n",
    "    print(f'dataset temporal: {temporal_resolution} spatial: {spatial_resolution}')\n",
    "    \n",
    "    return df_encoded\n",
    "\n",
    "def split_scale_data(df):\n",
    "    \n",
    "    X = df.drop('demand', axis=1)\n",
    "    y = df[['demand']]\n",
    "    \n",
    "    X_train,X_test,y_train,y_test = train_test_split(X,y,test_size=0.2, random_state=42)\n",
    "    \n",
    "    scaler = StandardScaler()\n",
    "    X_train_scaled = scaler.fit_transform(X)\n",
    "    y_train_scaled = scaler.fit_transform(y).ravel()\n",
    "    X_test_scaled = scaler.fit_transform(X_test)\n",
    "    y_test_scaled = scaler.fit_transform(y_test).ravel()\n",
    "    \n",
    "    return X_train_scaled,y_train_scaled,X_test_scaled,y_test_scaled,scaler #evtl scaler für inverse scaling\n",
    "\n",
    "def gridsearch(X_train_scaled,y_train_scaled, temporal_resolution, spatial_resolution):\n",
    "    \n",
    "#     hyperparameters = {\n",
    "#         'kernel': ['linear', 'poly', 'rbf'],\n",
    "#         'epsilon': [0.1, 0.01, 0.001],\n",
    "#         'C': [1, 10],\n",
    "#         'degree': [2, 3],  # Dies wird ignoriert, es sei denn, der Kernel ist 'poly'\n",
    "#     }\n",
    "    hyperparameters = [\n",
    "    {\n",
    "        'kernel': ['linear'],\n",
    "        'epsilon': [0.1, 0.001],\n",
    "        'C': [1,10]  # Fixed 'C' value for 'linear' kernel\n",
    "    },\n",
    "    {\n",
    "        'kernel': ['rbf'],\n",
    "        'epsilon': [0.1, 0.001],\n",
    "        'C': [1,10]  # Fixed 'C' value for 'rbf' kernel\n",
    "    },\n",
    "    {\n",
    "        'kernel': ['poly'],\n",
    "        'epsilon': [0.1, 0.001],\n",
    "        'C': [1, 10],  # Varying 'C' values for 'poly' kernel\n",
    "        'degree': [2, 3]  # 'degree' only applies to 'poly' kernel\n",
    "    }\n",
    "]\n",
    "    model = SVR()\n",
    "    \n",
    "    print('start gridsearch')\n",
    "    grid_search = GridSearchCV(estimator=model, param_grid=hyperparameters, scoring='neg_root_mean_squared_error', verbose=3)\n",
    "    grid_search.fit(X_train_scaled, y_train_scaled)\n",
    "    \n",
    "    best_parameters = grid_search.best_params_\n",
    "    best_model = grid_search.best_estimator_\n",
    "    best_score = grid_search.best_score_\n",
    "    \n",
    "    dump(best_model, f\"data/models/model_spatial_{spatial_resolution}_temporal_{temporal_resolution}.joblib\")\n",
    "    \n",
    "    with open(f\"data/models/parameter_spatial_{spatial_resolution}_temporal_{temporal_resolution}.csv\", \"w\", newline=\"\") as f:\n",
    "        w = csv.DictWriter(f, best_parameters.keys())\n",
    "        w.writeheader()\n",
    "        w.writerow(best_parameters)\n",
    "    \n",
    "    print(f'best parameters: {best_parameters}')\n",
    "    \n",
    "    return best_model\n",
    "    \n",
    "def model_evaluation(model, scaler, X_test_scaled, y_test_scaled, temporal_resolution, spatial_resolution):\n",
    "    \n",
    "    y_pred = model.predict(X_test_scaled)\n",
    "    \n",
    "    evaluation_dict = {\n",
    "        'mse' : mean_squared_error(scaler.inverse_transform(y_test_scaled.reshape(-1, 1)),scaler.inverse_transform(y_pred.reshape(-1, 1))),\n",
    "        'rmse' : np.sqrt(mse),\n",
    "        'r2' : r2_score(scaler.inverse_transform(y_test_scaled.reshape(-1, 1)),scaler.inverse_transform(y_pred.reshape(-1, 1))),\n",
    "    }\n",
    "    with open(f\"data/models/metrics_spatial_{spatial_resolution}_temporal_{temporal_resolution}.csv\", \"w\", newline=\"\") as f:\n",
    "        w = csv.DictWriter(f, evaluation_dict.keys())\n",
    "        w.writeheader()\n",
    "        w.writerow(evaluation_dict)\n",
    "    print(f'metrics: {evaluation_dict}')\n",
    "    "
   ]
  },
  {
   "cell_type": "code",
   "execution_count": null,
   "id": "b71e87d4",
   "metadata": {},
   "outputs": [
    {
     "name": "stdout",
     "output_type": "stream",
     "text": [
      "dataset temporal: 1 spatial: 7\n",
      "start gridsearch\n",
      "Fitting 5 folds for each of 24 candidates, totalling 120 fits\n",
      "[CV 1/5] END ..C=1, epsilon=0.1, kernel=linear;, score=-0.577 total time=   2.1s\n",
      "[CV 2/5] END ..C=1, epsilon=0.1, kernel=linear;, score=-0.726 total time=   1.9s\n",
      "[CV 3/5] END ..C=1, epsilon=0.1, kernel=linear;, score=-0.823 total time=   1.8s\n",
      "[CV 4/5] END ..C=1, epsilon=0.1, kernel=linear;, score=-0.577 total time=   1.8s\n",
      "[CV 5/5] END ..C=1, epsilon=0.1, kernel=linear;, score=-0.726 total time=   2.0s\n",
      "[CV 1/5] END .C=1, epsilon=0.01, kernel=linear;, score=-0.586 total time=   8.9s\n",
      "[CV 2/5] END .C=1, epsilon=0.01, kernel=linear;, score=-0.729 total time=   8.8s\n",
      "[CV 3/5] END .C=1, epsilon=0.01, kernel=linear;, score=-0.830 total time=   8.4s\n",
      "[CV 4/5] END .C=1, epsilon=0.01, kernel=linear;, score=-0.582 total time=   8.9s\n",
      "[CV 5/5] END .C=1, epsilon=0.01, kernel=linear;, score=-0.735 total time=   9.1s\n",
      "[CV 1/5] END C=1, epsilon=0.001, kernel=linear;, score=-0.586 total time=  11.1s\n",
      "[CV 2/5] END C=1, epsilon=0.001, kernel=linear;, score=-0.730 total time=  10.1s\n",
      "[CV 3/5] END C=1, epsilon=0.001, kernel=linear;, score=-0.830 total time=  10.8s\n",
      "[CV 4/5] END C=1, epsilon=0.001, kernel=linear;, score=-0.582 total time=  10.7s\n",
      "[CV 5/5] END C=1, epsilon=0.001, kernel=linear;, score=-0.735 total time=  10.9s\n",
      "[CV 1/5] END .C=10, epsilon=0.1, kernel=linear;, score=-0.577 total time=  14.8s\n",
      "[CV 2/5] END .C=10, epsilon=0.1, kernel=linear;, score=-0.726 total time=  14.9s\n",
      "[CV 3/5] END .C=10, epsilon=0.1, kernel=linear;, score=-0.823 total time=  12.8s\n",
      "[CV 4/5] END .C=10, epsilon=0.1, kernel=linear;, score=-0.577 total time=  14.3s\n",
      "[CV 5/5] END .C=10, epsilon=0.1, kernel=linear;, score=-0.726 total time=  13.4s\n",
      "[CV 1/5] END C=10, epsilon=0.01, kernel=linear;, score=-0.586 total time= 1.2min\n",
      "[CV 2/5] END C=10, epsilon=0.01, kernel=linear;, score=-0.729 total time= 1.1min\n",
      "[CV 3/5] END C=10, epsilon=0.01, kernel=linear;, score=-0.830 total time= 1.1min\n",
      "[CV 4/5] END C=10, epsilon=0.01, kernel=linear;, score=-0.582 total time= 1.3min\n",
      "[CV 5/5] END C=10, epsilon=0.01, kernel=linear;, score=-0.735 total time= 1.2min\n",
      "[CV 1/5] END C=10, epsilon=0.001, kernel=linear;, score=-0.586 total time= 1.4min\n",
      "[CV 2/5] END C=10, epsilon=0.001, kernel=linear;, score=-0.730 total time= 1.4min\n",
      "[CV 3/5] END C=10, epsilon=0.001, kernel=linear;, score=-0.830 total time= 1.4min\n",
      "[CV 4/5] END C=10, epsilon=0.001, kernel=linear;, score=-0.582 total time= 1.4min\n",
      "[CV 5/5] END C=10, epsilon=0.001, kernel=linear;, score=-0.735 total time= 1.5min\n",
      "[CV 1/5] END .....C=1, epsilon=0.1, kernel=rbf;, score=-0.495 total time=   0.4s\n",
      "[CV 2/5] END .....C=1, epsilon=0.1, kernel=rbf;, score=-0.650 total time=   0.4s\n",
      "[CV 3/5] END .....C=1, epsilon=0.1, kernel=rbf;, score=-0.725 total time=   0.4s\n",
      "[CV 4/5] END .....C=1, epsilon=0.1, kernel=rbf;, score=-0.490 total time=   0.5s\n",
      "[CV 5/5] END .....C=1, epsilon=0.1, kernel=rbf;, score=-0.612 total time=   0.3s\n",
      "[CV 1/5] END ....C=1, epsilon=0.01, kernel=rbf;, score=-0.490 total time=   1.0s\n",
      "[CV 2/5] END ....C=1, epsilon=0.01, kernel=rbf;, score=-0.653 total time=   1.0s\n",
      "[CV 3/5] END ....C=1, epsilon=0.01, kernel=rbf;, score=-0.730 total time=   1.1s\n",
      "[CV 4/5] END ....C=1, epsilon=0.01, kernel=rbf;, score=-0.489 total time=   1.0s\n",
      "[CV 5/5] END ....C=1, epsilon=0.01, kernel=rbf;, score=-0.614 total time=   1.2s\n",
      "[CV 1/5] END ...C=1, epsilon=0.001, kernel=rbf;, score=-0.490 total time=   1.3s\n",
      "[CV 2/5] END ...C=1, epsilon=0.001, kernel=rbf;, score=-0.653 total time=   1.1s\n",
      "[CV 3/5] END ...C=1, epsilon=0.001, kernel=rbf;, score=-0.731 total time=   1.3s\n",
      "[CV 4/5] END ...C=1, epsilon=0.001, kernel=rbf;, score=-0.489 total time=   1.1s\n",
      "[CV 5/5] END ...C=1, epsilon=0.001, kernel=rbf;, score=-0.615 total time=   1.4s\n",
      "[CV 1/5] END ....C=10, epsilon=0.1, kernel=rbf;, score=-0.413 total time=   0.5s\n",
      "[CV 2/5] END ....C=10, epsilon=0.1, kernel=rbf;, score=-0.514 total time=   0.7s\n",
      "[CV 3/5] END ....C=10, epsilon=0.1, kernel=rbf;, score=-0.623 total time=   0.4s\n",
      "[CV 4/5] END ....C=10, epsilon=0.1, kernel=rbf;, score=-0.440 total time=   0.4s\n",
      "[CV 5/5] END ....C=10, epsilon=0.1, kernel=rbf;, score=-0.489 total time=   0.6s\n",
      "[CV 1/5] END ...C=10, epsilon=0.01, kernel=rbf;, score=-0.410 total time=   2.1s\n",
      "[CV 2/5] END ...C=10, epsilon=0.01, kernel=rbf;, score=-0.519 total time=   2.0s\n",
      "[CV 3/5] END ...C=10, epsilon=0.01, kernel=rbf;, score=-0.627 total time=   2.6s\n",
      "[CV 4/5] END ...C=10, epsilon=0.01, kernel=rbf;, score=-0.437 total time=   2.5s\n",
      "[CV 5/5] END ...C=10, epsilon=0.01, kernel=rbf;, score=-0.492 total time=   1.9s\n",
      "[CV 1/5] END ..C=10, epsilon=0.001, kernel=rbf;, score=-0.411 total time=   2.6s\n",
      "[CV 2/5] END ..C=10, epsilon=0.001, kernel=rbf;, score=-0.520 total time=   3.0s\n",
      "[CV 3/5] END ..C=10, epsilon=0.001, kernel=rbf;, score=-0.627 total time=   3.5s\n",
      "[CV 4/5] END ..C=10, epsilon=0.001, kernel=rbf;, score=-0.438 total time=   3.5s\n",
      "[CV 5/5] END ..C=10, epsilon=0.001, kernel=rbf;, score=-0.493 total time=   3.4s\n",
      "[CV 1/5] END C=1, degree=2, epsilon=0.1, kernel=poly;, score=-0.552 total time=   0.4s\n",
      "[CV 2/5] END C=1, degree=2, epsilon=0.1, kernel=poly;, score=-0.705 total time=   0.2s\n",
      "[CV 3/5] END C=1, degree=2, epsilon=0.1, kernel=poly;, score=-0.789 total time=   0.2s\n",
      "[CV 4/5] END C=1, degree=2, epsilon=0.1, kernel=poly;, score=-0.536 total time=   0.2s\n",
      "[CV 5/5] END C=1, degree=2, epsilon=0.1, kernel=poly;, score=-0.685 total time=   0.3s\n",
      "[CV 1/5] END C=1, degree=2, epsilon=0.01, kernel=poly;, score=-0.571 total time=   1.0s\n",
      "[CV 2/5] END C=1, degree=2, epsilon=0.01, kernel=poly;, score=-0.724 total time=   0.8s\n",
      "[CV 3/5] END C=1, degree=2, epsilon=0.01, kernel=poly;, score=-0.816 total time=   1.0s\n",
      "[CV 4/5] END C=1, degree=2, epsilon=0.01, kernel=poly;, score=-0.558 total time=   0.8s\n",
      "[CV 5/5] END C=1, degree=2, epsilon=0.01, kernel=poly;, score=-0.710 total time=   0.9s\n",
      "[CV 1/5] END C=1, degree=2, epsilon=0.001, kernel=poly;, score=-0.571 total time=   1.1s\n",
      "[CV 2/5] END C=1, degree=2, epsilon=0.001, kernel=poly;, score=-0.725 total time=   1.1s\n",
      "[CV 3/5] END C=1, degree=2, epsilon=0.001, kernel=poly;, score=-0.817 total time=   1.2s\n",
      "[CV 4/5] END C=1, degree=2, epsilon=0.001, kernel=poly;, score=-0.559 total time=   1.1s\n",
      "[CV 5/5] END C=1, degree=2, epsilon=0.001, kernel=poly;, score=-0.711 total time=   1.1s\n",
      "[CV 1/5] END C=1, degree=3, epsilon=0.1, kernel=poly;, score=-0.594 total time=   0.2s\n",
      "[CV 2/5] END C=1, degree=3, epsilon=0.1, kernel=poly;, score=-0.754 total time=   0.3s\n",
      "[CV 3/5] END C=1, degree=3, epsilon=0.1, kernel=poly;, score=-0.833 total time=   0.4s\n",
      "[CV 4/5] END C=1, degree=3, epsilon=0.1, kernel=poly;, score=-0.560 total time=   0.4s\n",
      "[CV 5/5] END C=1, degree=3, epsilon=0.1, kernel=poly;, score=-0.723 total time=   0.2s\n",
      "[CV 1/5] END C=1, degree=3, epsilon=0.01, kernel=poly;, score=-0.594 total time=   0.9s\n",
      "[CV 2/5] END C=1, degree=3, epsilon=0.01, kernel=poly;, score=-0.750 total time=   0.9s\n",
      "[CV 3/5] END C=1, degree=3, epsilon=0.01, kernel=poly;, score=-0.829 total time=   1.3s\n",
      "[CV 4/5] END C=1, degree=3, epsilon=0.01, kernel=poly;, score=-0.561 total time=   1.0s\n",
      "[CV 5/5] END C=1, degree=3, epsilon=0.01, kernel=poly;, score=-0.724 total time=   1.0s\n",
      "[CV 1/5] END C=1, degree=3, epsilon=0.001, kernel=poly;, score=-0.595 total time=   1.3s\n",
      "[CV 2/5] END C=1, degree=3, epsilon=0.001, kernel=poly;, score=-0.750 total time=   1.1s\n",
      "[CV 3/5] END C=1, degree=3, epsilon=0.001, kernel=poly;, score=-0.829 total time=   1.2s\n",
      "[CV 4/5] END C=1, degree=3, epsilon=0.001, kernel=poly;, score=-0.561 total time=   1.5s\n",
      "[CV 5/5] END C=1, degree=3, epsilon=0.001, kernel=poly;, score=-0.725 total time=   1.8s\n",
      "[CV 1/5] END C=10, degree=2, epsilon=0.1, kernel=poly;, score=-0.471 total time=   1.7s\n",
      "[CV 2/5] END C=10, degree=2, epsilon=0.1, kernel=poly;, score=-0.587 total time=   1.0s\n",
      "[CV 3/5] END C=10, degree=2, epsilon=0.1, kernel=poly;, score=-0.705 total time=   1.5s\n",
      "[CV 4/5] END C=10, degree=2, epsilon=0.1, kernel=poly;, score=-0.503 total time=   1.7s\n",
      "[CV 5/5] END C=10, degree=2, epsilon=0.1, kernel=poly;, score=-0.545 total time=   1.3s\n",
      "[CV 1/5] END C=10, degree=2, epsilon=0.01, kernel=poly;, score=-0.510 total time=   3.1s\n",
      "[CV 2/5] END C=10, degree=2, epsilon=0.01, kernel=poly;, score=-0.637 total time=   2.8s\n"
     ]
    },
    {
     "name": "stdout",
     "output_type": "stream",
     "text": [
      "[CV 3/5] END C=10, degree=2, epsilon=0.01, kernel=poly;, score=-0.750 total time=   3.9s\n",
      "[CV 4/5] END C=10, degree=2, epsilon=0.01, kernel=poly;, score=-0.559 total time=   3.7s\n",
      "[CV 5/5] END C=10, degree=2, epsilon=0.01, kernel=poly;, score=-0.583 total time=   4.3s\n",
      "[CV 1/5] END C=10, degree=2, epsilon=0.001, kernel=poly;, score=-0.510 total time=   3.7s\n",
      "[CV 2/5] END C=10, degree=2, epsilon=0.001, kernel=poly;, score=-0.638 total time=   3.8s\n",
      "[CV 3/5] END C=10, degree=2, epsilon=0.001, kernel=poly;, score=-0.753 total time=   5.3s\n",
      "[CV 4/5] END C=10, degree=2, epsilon=0.001, kernel=poly;, score=-0.561 total time=   4.4s\n",
      "[CV 5/5] END C=10, degree=2, epsilon=0.001, kernel=poly;, score=-0.585 total time=   4.5s\n",
      "[CV 1/5] END C=10, degree=3, epsilon=0.1, kernel=poly;, score=-0.415 total time=   0.5s\n",
      "[CV 2/5] END C=10, degree=3, epsilon=0.1, kernel=poly;, score=-0.538 total time=   0.3s\n",
      "[CV 3/5] END C=10, degree=3, epsilon=0.1, kernel=poly;, score=-0.658 total time=   0.4s\n",
      "[CV 4/5] END C=10, degree=3, epsilon=0.1, kernel=poly;, score=-0.450 total time=   0.3s\n",
      "[CV 5/5] END C=10, degree=3, epsilon=0.1, kernel=poly;, score=-0.505 total time=   0.4s\n",
      "[CV 1/5] END C=10, degree=3, epsilon=0.01, kernel=poly;, score=-0.416 total time=   3.5s\n",
      "[CV 2/5] END C=10, degree=3, epsilon=0.01, kernel=poly;, score=-0.537 total time=   3.1s\n",
      "[CV 3/5] END C=10, degree=3, epsilon=0.01, kernel=poly;, score=-0.664 total time=   3.6s\n",
      "[CV 4/5] END C=10, degree=3, epsilon=0.01, kernel=poly;, score=-0.448 total time=   3.2s\n",
      "[CV 5/5] END C=10, degree=3, epsilon=0.01, kernel=poly;, score=-0.507 total time=   3.4s\n",
      "[CV 1/5] END C=10, degree=3, epsilon=0.001, kernel=poly;, score=-0.418 total time=   5.6s\n",
      "[CV 2/5] END C=10, degree=3, epsilon=0.001, kernel=poly;, score=-0.537 total time=   5.4s\n",
      "[CV 3/5] END C=10, degree=3, epsilon=0.001, kernel=poly;, score=-0.666 total time=   5.5s\n",
      "[CV 4/5] END C=10, degree=3, epsilon=0.001, kernel=poly;, score=-0.448 total time=   6.2s\n",
      "[CV 5/5] END C=10, degree=3, epsilon=0.001, kernel=poly;, score=-0.507 total time=   6.0s\n",
      "best parameters: {'C': 10, 'epsilon': 0.1, 'kernel': 'rbf'}\n",
      "metrics: {'mse': 262.26700060247595, 'rmse': 98.31394215647823, 'r2': 0.7134474156273336}\n",
      "dataset temporal: 2 spatial: 7\n",
      "start gridsearch\n",
      "Fitting 5 folds for each of 24 candidates, totalling 120 fits\n",
      "[CV 1/5] END ..C=1, epsilon=0.1, kernel=linear;, score=-0.599 total time=   0.6s\n",
      "[CV 2/5] END ..C=1, epsilon=0.1, kernel=linear;, score=-0.752 total time=   0.6s\n",
      "[CV 3/5] END ..C=1, epsilon=0.1, kernel=linear;, score=-0.625 total time=   1.0s\n",
      "[CV 4/5] END ..C=1, epsilon=0.1, kernel=linear;, score=-0.542 total time=   0.6s\n",
      "[CV 5/5] END ..C=1, epsilon=0.1, kernel=linear;, score=-0.555 total time=   0.6s\n",
      "[CV 1/5] END .C=1, epsilon=0.01, kernel=linear;, score=-0.607 total time=   3.2s\n",
      "[CV 2/5] END .C=1, epsilon=0.01, kernel=linear;, score=-0.754 total time=   3.9s\n",
      "[CV 3/5] END .C=1, epsilon=0.01, kernel=linear;, score=-0.631 total time=   4.3s\n",
      "[CV 4/5] END .C=1, epsilon=0.01, kernel=linear;, score=-0.548 total time=   3.2s\n",
      "[CV 5/5] END .C=1, epsilon=0.01, kernel=linear;, score=-0.561 total time=   3.1s\n",
      "[CV 1/5] END C=1, epsilon=0.001, kernel=linear;, score=-0.607 total time=   4.2s\n",
      "[CV 2/5] END C=1, epsilon=0.001, kernel=linear;, score=-0.754 total time=   4.4s\n",
      "[CV 3/5] END C=1, epsilon=0.001, kernel=linear;, score=-0.632 total time=   5.2s\n",
      "[CV 4/5] END C=1, epsilon=0.001, kernel=linear;, score=-0.548 total time=   4.3s\n",
      "[CV 5/5] END C=1, epsilon=0.001, kernel=linear;, score=-0.562 total time=   4.6s\n"
     ]
    }
   ],
   "source": [
    "spatial_resolutions = [7,8]\n",
    "temporal_resolutions = [1,2,6,24]\n",
    "\n",
    "for spatial_resolution, temporal_resolution in itertools.product(spatial_resolutions, temporal_resolutions):\n",
    "    \n",
    "    df_pred = create_prediction_dataset(df, temporal_resolution, spatial_resolution)\n",
    "    \n",
    "    df_pred = df_pred.sample(frac=0.01)\n",
    "    \n",
    "    X_train_scaled,y_train_scaled,X_test_scaled,y_test_scaled,scaler = split_scale_data(df_pred)\n",
    "    \n",
    "    model = gridsearch(X_train_scaled,y_train_scaled, temporal_resolution, spatial_resolution)\n",
    "    \n",
    "    model_evaluation(model, scaler, X_test_scaled, y_test_scaled, temporal_resolution, spatial_resolution)"
   ]
  },
  {
   "cell_type": "code",
   "execution_count": 184,
   "id": "9f565355",
   "metadata": {},
   "outputs": [],
   "source": [
    "X = df_sample.drop('demand', axis=1)\n",
    "y = df_sample[['demand']]"
   ]
  },
  {
   "cell_type": "code",
   "execution_count": 185,
   "id": "1ea318e1",
   "metadata": {},
   "outputs": [
    {
     "data": {
      "text/plain": [
       "(9560, 1)"
      ]
     },
     "execution_count": 185,
     "metadata": {},
     "output_type": "execute_result"
    }
   ],
   "source": [
    "y.shape"
   ]
  },
  {
   "cell_type": "code",
   "execution_count": 186,
   "id": "8077a173",
   "metadata": {},
   "outputs": [],
   "source": [
    "X = df_sample.drop('demand', axis=1)\n",
    "y = df_sample[['demand']]\n",
    "X_train,X_test,y_train,y_test = train_test_split(X,y,test_size=0.2, random_state=42)"
   ]
  },
  {
   "cell_type": "code",
   "execution_count": 187,
   "id": "145034c5",
   "metadata": {},
   "outputs": [],
   "source": [
    "X = df_sample.drop('demand', axis=1)\n",
    "y = df_sample[['demand']]\n",
    "X_train,X_test,y_train,y_test = train_test_split(X,y,test_size=0.2, random_state=42)\n",
    "scaler = StandardScaler()\n",
    "X_train_scaled = scaler.fit_transform(X_train)\n",
    "y_train_scaled = scaler.fit_transform(y_train).ravel()\n",
    "X_test_scaled = scaler.fit_transform(X_test)\n",
    "y_test_scaled = scaler.fit_transform(y_test).ravel()"
   ]
  },
  {
   "cell_type": "code",
   "execution_count": 188,
   "id": "78dfb207",
   "metadata": {},
   "outputs": [
    {
     "data": {
      "text/plain": [
       "(7648,)"
      ]
     },
     "execution_count": 188,
     "metadata": {},
     "output_type": "execute_result"
    }
   ],
   "source": [
    "y_train_scaled.shape"
   ]
  },
  {
   "cell_type": "code",
   "execution_count": 189,
   "id": "0d85c833",
   "metadata": {},
   "outputs": [
    {
     "data": {
      "text/html": [
       "<style>#sk-container-id-14 {color: black;background-color: white;}#sk-container-id-14 pre{padding: 0;}#sk-container-id-14 div.sk-toggleable {background-color: white;}#sk-container-id-14 label.sk-toggleable__label {cursor: pointer;display: block;width: 100%;margin-bottom: 0;padding: 0.3em;box-sizing: border-box;text-align: center;}#sk-container-id-14 label.sk-toggleable__label-arrow:before {content: \"▸\";float: left;margin-right: 0.25em;color: #696969;}#sk-container-id-14 label.sk-toggleable__label-arrow:hover:before {color: black;}#sk-container-id-14 div.sk-estimator:hover label.sk-toggleable__label-arrow:before {color: black;}#sk-container-id-14 div.sk-toggleable__content {max-height: 0;max-width: 0;overflow: hidden;text-align: left;background-color: #f0f8ff;}#sk-container-id-14 div.sk-toggleable__content pre {margin: 0.2em;color: black;border-radius: 0.25em;background-color: #f0f8ff;}#sk-container-id-14 input.sk-toggleable__control:checked~div.sk-toggleable__content {max-height: 200px;max-width: 100%;overflow: auto;}#sk-container-id-14 input.sk-toggleable__control:checked~label.sk-toggleable__label-arrow:before {content: \"▾\";}#sk-container-id-14 div.sk-estimator input.sk-toggleable__control:checked~label.sk-toggleable__label {background-color: #d4ebff;}#sk-container-id-14 div.sk-label input.sk-toggleable__control:checked~label.sk-toggleable__label {background-color: #d4ebff;}#sk-container-id-14 input.sk-hidden--visually {border: 0;clip: rect(1px 1px 1px 1px);clip: rect(1px, 1px, 1px, 1px);height: 1px;margin: -1px;overflow: hidden;padding: 0;position: absolute;width: 1px;}#sk-container-id-14 div.sk-estimator {font-family: monospace;background-color: #f0f8ff;border: 1px dotted black;border-radius: 0.25em;box-sizing: border-box;margin-bottom: 0.5em;}#sk-container-id-14 div.sk-estimator:hover {background-color: #d4ebff;}#sk-container-id-14 div.sk-parallel-item::after {content: \"\";width: 100%;border-bottom: 1px solid gray;flex-grow: 1;}#sk-container-id-14 div.sk-label:hover label.sk-toggleable__label {background-color: #d4ebff;}#sk-container-id-14 div.sk-serial::before {content: \"\";position: absolute;border-left: 1px solid gray;box-sizing: border-box;top: 0;bottom: 0;left: 50%;z-index: 0;}#sk-container-id-14 div.sk-serial {display: flex;flex-direction: column;align-items: center;background-color: white;padding-right: 0.2em;padding-left: 0.2em;position: relative;}#sk-container-id-14 div.sk-item {position: relative;z-index: 1;}#sk-container-id-14 div.sk-parallel {display: flex;align-items: stretch;justify-content: center;background-color: white;position: relative;}#sk-container-id-14 div.sk-item::before, #sk-container-id-14 div.sk-parallel-item::before {content: \"\";position: absolute;border-left: 1px solid gray;box-sizing: border-box;top: 0;bottom: 0;left: 50%;z-index: -1;}#sk-container-id-14 div.sk-parallel-item {display: flex;flex-direction: column;z-index: 1;position: relative;background-color: white;}#sk-container-id-14 div.sk-parallel-item:first-child::after {align-self: flex-end;width: 50%;}#sk-container-id-14 div.sk-parallel-item:last-child::after {align-self: flex-start;width: 50%;}#sk-container-id-14 div.sk-parallel-item:only-child::after {width: 0;}#sk-container-id-14 div.sk-dashed-wrapped {border: 1px dashed gray;margin: 0 0.4em 0.5em 0.4em;box-sizing: border-box;padding-bottom: 0.4em;background-color: white;}#sk-container-id-14 div.sk-label label {font-family: monospace;font-weight: bold;display: inline-block;line-height: 1.2em;}#sk-container-id-14 div.sk-label-container {text-align: center;}#sk-container-id-14 div.sk-container {/* jupyter's `normalize.less` sets `[hidden] { display: none; }` but bootstrap.min.css set `[hidden] { display: none !important; }` so we also need the `!important` here to be able to override the default hidden behavior on the sphinx rendered scikit-learn.org. See: https://github.com/scikit-learn/scikit-learn/issues/21755 */display: inline-block !important;position: relative;}#sk-container-id-14 div.sk-text-repr-fallback {display: none;}</style><div id=\"sk-container-id-14\" class=\"sk-top-container\"><div class=\"sk-text-repr-fallback\"><pre>SVR(kernel=&#x27;linear&#x27;)</pre><b>In a Jupyter environment, please rerun this cell to show the HTML representation or trust the notebook. <br />On GitHub, the HTML representation is unable to render, please try loading this page with nbviewer.org.</b></div><div class=\"sk-container\" hidden><div class=\"sk-item\"><div class=\"sk-estimator sk-toggleable\"><input class=\"sk-toggleable__control sk-hidden--visually\" id=\"sk-estimator-id-14\" type=\"checkbox\" checked><label for=\"sk-estimator-id-14\" class=\"sk-toggleable__label sk-toggleable__label-arrow\">SVR</label><div class=\"sk-toggleable__content\"><pre>SVR(kernel=&#x27;linear&#x27;)</pre></div></div></div></div></div>"
      ],
      "text/plain": [
       "SVR(kernel='linear')"
      ]
     },
     "execution_count": 189,
     "metadata": {},
     "output_type": "execute_result"
    }
   ],
   "source": [
    "model = SVR(kernel='linear')\n",
    "model.fit(X_train_scaled,y_train_scaled)\n",
    "y_pred = model.predict(X_test_scaled)"
   ]
  },
  {
   "cell_type": "code",
   "execution_count": 190,
   "id": "76d114d5",
   "metadata": {},
   "outputs": [],
   "source": [
    "y_pred = model.predict(X_test_scaled)"
   ]
  },
  {
   "cell_type": "code",
   "execution_count": 191,
   "id": "c1a08dfc",
   "metadata": {},
   "outputs": [
    {
     "data": {
      "text/plain": [
       "9665.631222347347"
      ]
     },
     "metadata": {},
     "output_type": "display_data"
    },
    {
     "data": {
      "text/plain": [
       "98.31394215647823"
      ]
     },
     "metadata": {},
     "output_type": "display_data"
    },
    {
     "data": {
      "text/plain": [
       "0.7368093225613284"
      ]
     },
     "metadata": {},
     "output_type": "display_data"
    }
   ],
   "source": [
    "mse = mean_squared_error(scaler.inverse_transform(y_test_scaled.reshape(-1, 1)),scaler.inverse_transform(y_pred.reshape(-1, 1)))\n",
    "display(mse)\n",
    "display(np.sqrt(mse))\n",
    "display(r2_score(scaler.inverse_transform(y_test_scaled.reshape(-1, 1)),scaler.inverse_transform(y_pred.reshape(-1, 1))))"
   ]
  },
  {
   "cell_type": "code",
   "execution_count": null,
   "id": "359971d1",
   "metadata": {},
   "outputs": [],
   "source": []
  }
 ],
 "metadata": {
  "kernelspec": {
   "display_name": "Python 3 (ipykernel)",
   "language": "python",
   "name": "python3"
  },
  "language_info": {
   "codemirror_mode": {
    "name": "ipython",
    "version": 3
   },
   "file_extension": ".py",
   "mimetype": "text/x-python",
   "name": "python",
   "nbconvert_exporter": "python",
   "pygments_lexer": "ipython3",
   "version": "3.10.9"
  }
 },
 "nbformat": 4,
 "nbformat_minor": 5
}
