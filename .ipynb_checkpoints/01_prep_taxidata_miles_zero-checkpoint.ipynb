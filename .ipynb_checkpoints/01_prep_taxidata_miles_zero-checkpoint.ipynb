{
 "cells": [
  {
   "cell_type": "markdown",
   "id": "dc44b7ae7599b956",
   "metadata": {},
   "source": [
    "## Meeting 03.06. Data Preprocessing"
   ]
  },
  {
   "cell_type": "code",
   "execution_count": 1,
   "id": "0d5efe0c-aa7b-4222-9d5b-98e1d38ed437",
   "metadata": {
    "ExecuteTime": {
     "end_time": "2024-05-11T12:34:36.475194Z",
     "start_time": "2024-05-11T12:34:36.450421Z"
    },
    "tags": []
   },
   "outputs": [],
   "source": [
    "import os\n",
    "# this directory for the original data file\n",
    "os.makedirs('./data', exist_ok=True)\n",
    "# this directory to later save the prepared data\n",
    "os.makedirs('./data/prepped', exist_ok=True)"
   ]
  },
  {
   "cell_type": "code",
   "execution_count": 2,
   "id": "dc92b812d1290ab",
   "metadata": {
    "ExecuteTime": {
     "end_time": "2024-05-11T12:34:36.491758Z",
     "start_time": "2024-05-11T12:34:36.478209Z"
    },
    "tags": []
   },
   "outputs": [],
   "source": [
    "# Standard libraries - run pip install if necessary\n",
    "import pandas as pd\n",
    "import numpy as np\n",
    "import matplotlib.pyplot as plt\n",
    "import seaborn as sns\n",
    "\n",
    "from datetime import datetime\n"
   ]
  },
  {
   "cell_type": "markdown",
   "id": "1937f9e5-5bfb-4597-a3d2-2aca16ea1772",
   "metadata": {},
   "source": [
    "### 1.1 Read and display datafile"
   ]
  },
  {
   "cell_type": "code",
   "execution_count": 3,
   "id": "3939294bd434c611",
   "metadata": {
    "ExecuteTime": {
     "end_time": "2024-05-11T12:35:35.524949Z",
     "start_time": "2024-05-11T12:34:36.497771Z"
    },
    "tags": []
   },
   "outputs": [],
   "source": [
    "# Data file not included in the project, needs to be downloaded individually. This step can take a few minutes due to size of the original file\n",
    "df = pd.read_csv(\"data/taxidata.csv\")"
   ]
  },
  {
   "cell_type": "code",
   "execution_count": 5,
   "id": "5e9688ab",
   "metadata": {},
   "outputs": [
    {
     "name": "stdout",
     "output_type": "stream",
     "text": [
      "Min date: 2022-01-01 00:00:00\n",
      "Max date: 2022-12-31 23:45:00\n"
     ]
    }
   ],
   "source": [
    "# Convert time types to check if entries are from correct range\n",
    "df[\"trip_start_timestamp\"] = pd.to_datetime(df[\"trip_start_timestamp\"])\n",
    "df[\"trip_end_timestamp\"] = pd.to_datetime(df[\"trip_end_timestamp\"])\n",
    "\n",
    "# Convert other \n",
    "df[\"trip_seconds\"] =  pd.to_numeric(df['trip_seconds'])\n",
    "\n",
    "# In range of 2022:\n",
    "print(f\"Min date: {df['trip_start_timestamp'].min()}\")\n",
    "print(f\"Max date: {df['trip_start_timestamp'].max()}\")"
   ]
  },
  {
   "cell_type": "code",
   "execution_count": 6,
   "id": "df8ef0b2",
   "metadata": {},
   "outputs": [],
   "source": [
    "# Convert trip duration to hours/km for easier visualization later\n",
    "df['trip_km'] = df['trip_miles'] * 1.609344\n",
    "df['trip_hours'] = df['trip_seconds'] / 3600"
   ]
  },
  {
   "cell_type": "code",
   "execution_count": 7,
   "id": "c11ba6bc",
   "metadata": {},
   "outputs": [
    {
     "name": "stdout",
     "output_type": "stream",
     "text": [
      "          fare  tips  tolls  extras  trip_total\n",
      "0        20.50  0.00    0.0     0.0       20.50\n",
      "1        13.84  2.73    0.0     0.0       16.57\n",
      "2         7.00  2.00    0.0     3.0       12.00\n",
      "3         6.50  0.00    0.0     0.0        6.50\n",
      "4         6.25  0.00    0.0     0.0        6.25\n",
      "...        ...   ...    ...     ...         ...\n",
      "6382419  30.00  0.00    0.0     0.0       30.00\n",
      "6382420  14.75  0.00    0.0     0.0       14.75\n",
      "6382421   9.75  0.00    0.0     1.5       11.25\n",
      "6382423  63.27  0.00    0.0     0.0       63.27\n",
      "6382424   6.25  0.00    0.0     2.0        8.25\n",
      "\n",
      "[4533086 rows x 5 columns]\n",
      "          fare  tips  tolls  extras  trip_total\n",
      "9        24.50  6.25    0.0     0.0       31.25\n",
      "12       20.00  4.50    0.0     2.0       27.00\n",
      "16        3.25  0.00    0.0    11.0       14.75\n",
      "19        6.00  3.00    0.0     1.0       10.50\n",
      "20       18.75  4.81    0.0     0.0       24.06\n",
      "...        ...   ...    ...     ...         ...\n",
      "6382396  23.00  5.20    0.0     2.5       31.20\n",
      "6382409  12.80  2.90    0.0     0.0       15.70\n",
      "6382411  23.00  5.88    0.0     0.0       29.38\n",
      "6382413  43.50  9.80    0.0     5.0       58.80\n",
      "6382422  18.50  4.00    0.0     1.0       24.00\n",
      "\n",
      "[1849339 rows x 5 columns]\n"
     ]
    }
   ],
   "source": [
    "# Columns to sum\n",
    "columns_to_sum = ['fare', 'tips', 'tolls', 'extras']\n",
    "\n",
    "# Check if the sum of columns 'A', 'B', and 'C' equals the 'Sum' column\n",
    "df['Check'] = df[columns_to_sum].sum(axis=1) == df['trip_total']\n",
    "\n",
    "# Select rows where the condition is not met\n",
    "df_not_matching = df[~df['Check']]\n",
    "df_matching = df[df['Check']]\n",
    "\n",
    "print(df_matching[['fare', 'tips', 'tolls', 'extras','trip_total']])\n",
    "print(df_not_matching[['fare', 'tips', 'tolls', 'extras','trip_total']])"
   ]
  },
  {
   "cell_type": "markdown",
   "id": "ae517895",
   "metadata": {},
   "source": [
    "##### For 1.849.339 the sum of ['fare', 'tips', 'tolls', 'extras'] does not match 'trip_total', but it should according to the description of the column on the website. For 'tips' they say: 'The tip for the trip. Cash tips generally will not be recorded.'. Maybe they are not recorded in the 'tips' column but somehow in the 'total_trip' - however."
   ]
  },
  {
   "cell_type": "code",
   "execution_count": 8,
   "id": "3b262715",
   "metadata": {},
   "outputs": [
    {
     "name": "stderr",
     "output_type": "stream",
     "text": [
      "C:\\Users\\Jonathan Langer\\AppData\\Local\\Temp\\ipykernel_5244\\929282203.py:1: SettingWithCopyWarning: \n",
      "A value is trying to be set on a copy of a slice from a DataFrame.\n",
      "Try using .loc[row_indexer,col_indexer] = value instead\n",
      "\n",
      "See the caveats in the documentation: https://pandas.pydata.org/pandas-docs/stable/user_guide/indexing.html#returning-a-view-versus-a-copy\n",
      "  df_not_matching['diff'] = df_not_matching[columns_to_sum].sum(axis=1) - df_not_matching['trip_total']\n"
     ]
    }
   ],
   "source": [
    "df_not_matching['diff'] = df_not_matching[columns_to_sum].sum(axis=1) - df_not_matching['trip_total']"
   ]
  },
  {
   "cell_type": "code",
   "execution_count": 9,
   "id": "2dc71da7",
   "metadata": {},
   "outputs": [
    {
     "name": "stdout",
     "output_type": "stream",
     "text": [
      "count    1.845803e+06\n",
      "mean    -5.422637e-01\n",
      "std      4.182485e-01\n",
      "min     -2.500000e+01\n",
      "25%     -5.000000e-01\n",
      "50%     -5.000000e-01\n",
      "75%     -5.000000e-01\n",
      "max      1.818989e-12\n",
      "Name: diff, dtype: float64\n"
     ]
    }
   ],
   "source": [
    "print(df_not_matching['diff'].describe())"
   ]
  },
  {
   "cell_type": "code",
   "execution_count": 11,
   "id": "4c990912",
   "metadata": {},
   "outputs": [],
   "source": [
    "std = df_not_matching['diff'].describe(include='all').loc['std']"
   ]
  },
  {
   "cell_type": "code",
   "execution_count": 12,
   "id": "43a9cd4c",
   "metadata": {},
   "outputs": [
    {
     "data": {
      "text/html": [
       "<div>\n",
       "<style scoped>\n",
       "    .dataframe tbody tr th:only-of-type {\n",
       "        vertical-align: middle;\n",
       "    }\n",
       "\n",
       "    .dataframe tbody tr th {\n",
       "        vertical-align: top;\n",
       "    }\n",
       "\n",
       "    .dataframe thead th {\n",
       "        text-align: right;\n",
       "    }\n",
       "</style>\n",
       "<table border=\"1\" class=\"dataframe\">\n",
       "  <thead>\n",
       "    <tr style=\"text-align: right;\">\n",
       "      <th></th>\n",
       "      <th>trip_id</th>\n",
       "      <th>taxi_id</th>\n",
       "      <th>trip_start_timestamp</th>\n",
       "      <th>trip_end_timestamp</th>\n",
       "      <th>trip_seconds</th>\n",
       "      <th>trip_miles</th>\n",
       "      <th>pickup_census_tract</th>\n",
       "      <th>dropoff_census_tract</th>\n",
       "      <th>pickup_community_area</th>\n",
       "      <th>dropoff_community_area</th>\n",
       "      <th>...</th>\n",
       "      <th>pickup_centroid_latitude</th>\n",
       "      <th>pickup_centroid_longitude</th>\n",
       "      <th>pickup_centroid_location</th>\n",
       "      <th>dropoff_centroid_latitude</th>\n",
       "      <th>dropoff_centroid_longitude</th>\n",
       "      <th>dropoff_centroid_location</th>\n",
       "      <th>trip_km</th>\n",
       "      <th>trip_hours</th>\n",
       "      <th>Check</th>\n",
       "      <th>diff</th>\n",
       "    </tr>\n",
       "  </thead>\n",
       "  <tbody>\n",
       "    <tr>\n",
       "      <th>55857</th>\n",
       "      <td>a7610ff8f0dd7d7f88f8d04d7b1026d769996638</td>\n",
       "      <td>4ab868a2a19b95f50f355eb8d0d7638f1912b37f49ebd6...</td>\n",
       "      <td>2022-12-28 19:00:00</td>\n",
       "      <td>2022-12-28 19:15:00</td>\n",
       "      <td>814.0</td>\n",
       "      <td>7.49</td>\n",
       "      <td>NaN</td>\n",
       "      <td>NaN</td>\n",
       "      <td>3.0</td>\n",
       "      <td>32.0</td>\n",
       "      <td>...</td>\n",
       "      <td>41.965812</td>\n",
       "      <td>-87.655879</td>\n",
       "      <td>POINT (-87.6558787862 41.96581197)</td>\n",
       "      <td>41.878866</td>\n",
       "      <td>-87.625192</td>\n",
       "      <td>POINT (-87.6251921424 41.8788655841)</td>\n",
       "      <td>12.053987</td>\n",
       "      <td>0.226111</td>\n",
       "      <td>False</td>\n",
       "      <td>-1.95</td>\n",
       "    </tr>\n",
       "    <tr>\n",
       "      <th>74894</th>\n",
       "      <td>61e40e17db1cfab7e1499a2abfacfad1bdc26c35</td>\n",
       "      <td>13016372e777da1289d557edbe4ce2be8a68e77bc64768...</td>\n",
       "      <td>2022-12-27 13:45:00</td>\n",
       "      <td>2022-12-27 14:30:00</td>\n",
       "      <td>2527.0</td>\n",
       "      <td>16.40</td>\n",
       "      <td>NaN</td>\n",
       "      <td>NaN</td>\n",
       "      <td>7.0</td>\n",
       "      <td>76.0</td>\n",
       "      <td>...</td>\n",
       "      <td>41.922686</td>\n",
       "      <td>-87.649489</td>\n",
       "      <td>POINT (-87.6494887289 41.9226862843)</td>\n",
       "      <td>41.980264</td>\n",
       "      <td>-87.913625</td>\n",
       "      <td>POINT (-87.913624596 41.9802643146)</td>\n",
       "      <td>26.393242</td>\n",
       "      <td>0.701944</td>\n",
       "      <td>False</td>\n",
       "      <td>-1.95</td>\n",
       "    </tr>\n",
       "    <tr>\n",
       "      <th>89047</th>\n",
       "      <td>3bdafedf93fc7dc344e4ee57413a09ac46257fec</td>\n",
       "      <td>1a248eb87ae578f15af2a14c2eb7b4b264f6babab9ad9c...</td>\n",
       "      <td>2022-12-26 09:15:00</td>\n",
       "      <td>2022-12-26 09:15:00</td>\n",
       "      <td>156.0</td>\n",
       "      <td>0.47</td>\n",
       "      <td>NaN</td>\n",
       "      <td>NaN</td>\n",
       "      <td>8.0</td>\n",
       "      <td>8.0</td>\n",
       "      <td>...</td>\n",
       "      <td>41.899602</td>\n",
       "      <td>-87.633308</td>\n",
       "      <td>POINT (-87.6333080367 41.899602111)</td>\n",
       "      <td>41.899602</td>\n",
       "      <td>-87.633308</td>\n",
       "      <td>POINT (-87.6333080367 41.899602111)</td>\n",
       "      <td>0.756392</td>\n",
       "      <td>0.043333</td>\n",
       "      <td>False</td>\n",
       "      <td>-1.95</td>\n",
       "    </tr>\n",
       "    <tr>\n",
       "      <th>97501</th>\n",
       "      <td>41f8e8ea4a530edf22a8bf18094140efc5e38b78</td>\n",
       "      <td>d41ab2be597b82c3e6b0b0ecccf98883a84db0d9aed4f6...</td>\n",
       "      <td>2022-12-24 19:30:00</td>\n",
       "      <td>2022-12-24 21:00:00</td>\n",
       "      <td>4750.0</td>\n",
       "      <td>87.29</td>\n",
       "      <td>NaN</td>\n",
       "      <td>NaN</td>\n",
       "      <td>56.0</td>\n",
       "      <td>NaN</td>\n",
       "      <td>...</td>\n",
       "      <td>41.792592</td>\n",
       "      <td>-87.769615</td>\n",
       "      <td>POINT (-87.7696154528 41.7925923603)</td>\n",
       "      <td>NaN</td>\n",
       "      <td>NaN</td>\n",
       "      <td>NaN</td>\n",
       "      <td>140.479638</td>\n",
       "      <td>1.319444</td>\n",
       "      <td>False</td>\n",
       "      <td>-1.50</td>\n",
       "    </tr>\n",
       "    <tr>\n",
       "      <th>104424</th>\n",
       "      <td>eba93b8e1a89ef53b988122cd9e4fce4b70b4627</td>\n",
       "      <td>734a9df762115dd5478c4d03400c8712f440f72a6b606d...</td>\n",
       "      <td>2022-12-24 06:45:00</td>\n",
       "      <td>2022-12-24 07:00:00</td>\n",
       "      <td>910.0</td>\n",
       "      <td>4.51</td>\n",
       "      <td>NaN</td>\n",
       "      <td>NaN</td>\n",
       "      <td>8.0</td>\n",
       "      <td>28.0</td>\n",
       "      <td>...</td>\n",
       "      <td>41.899602</td>\n",
       "      <td>-87.633308</td>\n",
       "      <td>POINT (-87.6333080367 41.899602111)</td>\n",
       "      <td>41.874005</td>\n",
       "      <td>-87.663518</td>\n",
       "      <td>POINT (-87.6635175498 41.874005383)</td>\n",
       "      <td>7.258141</td>\n",
       "      <td>0.252778</td>\n",
       "      <td>False</td>\n",
       "      <td>-1.95</td>\n",
       "    </tr>\n",
       "    <tr>\n",
       "      <th>...</th>\n",
       "      <td>...</td>\n",
       "      <td>...</td>\n",
       "      <td>...</td>\n",
       "      <td>...</td>\n",
       "      <td>...</td>\n",
       "      <td>...</td>\n",
       "      <td>...</td>\n",
       "      <td>...</td>\n",
       "      <td>...</td>\n",
       "      <td>...</td>\n",
       "      <td>...</td>\n",
       "      <td>...</td>\n",
       "      <td>...</td>\n",
       "      <td>...</td>\n",
       "      <td>...</td>\n",
       "      <td>...</td>\n",
       "      <td>...</td>\n",
       "      <td>...</td>\n",
       "      <td>...</td>\n",
       "      <td>...</td>\n",
       "      <td>...</td>\n",
       "    </tr>\n",
       "    <tr>\n",
       "      <th>6375868</th>\n",
       "      <td>e981977319a4b637d81182d9cb69e41a33e754cf</td>\n",
       "      <td>ab31561a5548b1d49b0352bb8d00d18c0e136d5f674c1c...</td>\n",
       "      <td>2022-01-01 18:30:00</td>\n",
       "      <td>2022-01-01 18:45:00</td>\n",
       "      <td>695.0</td>\n",
       "      <td>2.36</td>\n",
       "      <td>NaN</td>\n",
       "      <td>NaN</td>\n",
       "      <td>7.0</td>\n",
       "      <td>6.0</td>\n",
       "      <td>...</td>\n",
       "      <td>41.922686</td>\n",
       "      <td>-87.649489</td>\n",
       "      <td>POINT (-87.6494887289 41.9226862843)</td>\n",
       "      <td>41.944227</td>\n",
       "      <td>-87.655998</td>\n",
       "      <td>POINT (-87.6559981815 41.9442266014)</td>\n",
       "      <td>3.798052</td>\n",
       "      <td>0.193056</td>\n",
       "      <td>False</td>\n",
       "      <td>-1.95</td>\n",
       "    </tr>\n",
       "    <tr>\n",
       "      <th>6376620</th>\n",
       "      <td>3a9de10af5724bdb7df57d5d7843768046fb82d2</td>\n",
       "      <td>398e9ade4dcb28cfd9fc422739cf04efedce1853f93cc7...</td>\n",
       "      <td>2022-01-01 16:15:00</td>\n",
       "      <td>2022-01-01 16:15:00</td>\n",
       "      <td>834.0</td>\n",
       "      <td>5.12</td>\n",
       "      <td>NaN</td>\n",
       "      <td>NaN</td>\n",
       "      <td>24.0</td>\n",
       "      <td>33.0</td>\n",
       "      <td>...</td>\n",
       "      <td>41.901207</td>\n",
       "      <td>-87.676356</td>\n",
       "      <td>POINT (-87.6763559892 41.9012069941)</td>\n",
       "      <td>41.857184</td>\n",
       "      <td>-87.620335</td>\n",
       "      <td>POINT (-87.6203346241 41.8571838585)</td>\n",
       "      <td>8.239841</td>\n",
       "      <td>0.231667</td>\n",
       "      <td>False</td>\n",
       "      <td>-1.95</td>\n",
       "    </tr>\n",
       "    <tr>\n",
       "      <th>6378124</th>\n",
       "      <td>794525be3585b82b7569b7664f14ec9c499865c7</td>\n",
       "      <td>f6858e3bb618a392ec3c5f9674bdc03598943806e369eb...</td>\n",
       "      <td>2022-01-01 12:45:00</td>\n",
       "      <td>2022-01-01 12:45:00</td>\n",
       "      <td>439.0</td>\n",
       "      <td>0.00</td>\n",
       "      <td>NaN</td>\n",
       "      <td>NaN</td>\n",
       "      <td>24.0</td>\n",
       "      <td>8.0</td>\n",
       "      <td>...</td>\n",
       "      <td>41.901207</td>\n",
       "      <td>-87.676356</td>\n",
       "      <td>POINT (-87.6763559892 41.9012069941)</td>\n",
       "      <td>41.899602</td>\n",
       "      <td>-87.633308</td>\n",
       "      <td>POINT (-87.6333080367 41.899602111)</td>\n",
       "      <td>0.000000</td>\n",
       "      <td>0.121944</td>\n",
       "      <td>False</td>\n",
       "      <td>-1.95</td>\n",
       "    </tr>\n",
       "    <tr>\n",
       "      <th>6380498</th>\n",
       "      <td>02610ad16abe0f0518b07bf4f043c07033482ff4</td>\n",
       "      <td>b50eb90cadd2a392b75b725c90d6784b429ca6854e0947...</td>\n",
       "      <td>2022-01-01 03:30:00</td>\n",
       "      <td>2022-01-01 03:30:00</td>\n",
       "      <td>345.0</td>\n",
       "      <td>1.46</td>\n",
       "      <td>NaN</td>\n",
       "      <td>NaN</td>\n",
       "      <td>24.0</td>\n",
       "      <td>7.0</td>\n",
       "      <td>...</td>\n",
       "      <td>41.901207</td>\n",
       "      <td>-87.676356</td>\n",
       "      <td>POINT (-87.6763559892 41.9012069941)</td>\n",
       "      <td>41.922686</td>\n",
       "      <td>-87.649489</td>\n",
       "      <td>POINT (-87.6494887289 41.9226862843)</td>\n",
       "      <td>2.349642</td>\n",
       "      <td>0.095833</td>\n",
       "      <td>False</td>\n",
       "      <td>-1.95</td>\n",
       "    </tr>\n",
       "    <tr>\n",
       "      <th>6382394</th>\n",
       "      <td>1bdf3aad92c723d99a344bfb8ec2df8ef5188fb5</td>\n",
       "      <td>87ff9e63139e6268b8e4a6f74ccc421217794c892a5636...</td>\n",
       "      <td>2022-01-01 00:00:00</td>\n",
       "      <td>2022-01-01 00:00:00</td>\n",
       "      <td>62.0</td>\n",
       "      <td>0.12</td>\n",
       "      <td>NaN</td>\n",
       "      <td>NaN</td>\n",
       "      <td>3.0</td>\n",
       "      <td>3.0</td>\n",
       "      <td>...</td>\n",
       "      <td>41.965812</td>\n",
       "      <td>-87.655879</td>\n",
       "      <td>POINT (-87.6558787862 41.96581197)</td>\n",
       "      <td>41.965812</td>\n",
       "      <td>-87.655879</td>\n",
       "      <td>POINT (-87.6558787862 41.96581197)</td>\n",
       "      <td>0.193121</td>\n",
       "      <td>0.017222</td>\n",
       "      <td>False</td>\n",
       "      <td>-1.95</td>\n",
       "    </tr>\n",
       "  </tbody>\n",
       "</table>\n",
       "<p>65693 rows × 27 columns</p>\n",
       "</div>"
      ],
      "text/plain": [
       "                                          trip_id  \\\n",
       "55857    a7610ff8f0dd7d7f88f8d04d7b1026d769996638   \n",
       "74894    61e40e17db1cfab7e1499a2abfacfad1bdc26c35   \n",
       "89047    3bdafedf93fc7dc344e4ee57413a09ac46257fec   \n",
       "97501    41f8e8ea4a530edf22a8bf18094140efc5e38b78   \n",
       "104424   eba93b8e1a89ef53b988122cd9e4fce4b70b4627   \n",
       "...                                           ...   \n",
       "6375868  e981977319a4b637d81182d9cb69e41a33e754cf   \n",
       "6376620  3a9de10af5724bdb7df57d5d7843768046fb82d2   \n",
       "6378124  794525be3585b82b7569b7664f14ec9c499865c7   \n",
       "6380498  02610ad16abe0f0518b07bf4f043c07033482ff4   \n",
       "6382394  1bdf3aad92c723d99a344bfb8ec2df8ef5188fb5   \n",
       "\n",
       "                                                   taxi_id  \\\n",
       "55857    4ab868a2a19b95f50f355eb8d0d7638f1912b37f49ebd6...   \n",
       "74894    13016372e777da1289d557edbe4ce2be8a68e77bc64768...   \n",
       "89047    1a248eb87ae578f15af2a14c2eb7b4b264f6babab9ad9c...   \n",
       "97501    d41ab2be597b82c3e6b0b0ecccf98883a84db0d9aed4f6...   \n",
       "104424   734a9df762115dd5478c4d03400c8712f440f72a6b606d...   \n",
       "...                                                    ...   \n",
       "6375868  ab31561a5548b1d49b0352bb8d00d18c0e136d5f674c1c...   \n",
       "6376620  398e9ade4dcb28cfd9fc422739cf04efedce1853f93cc7...   \n",
       "6378124  f6858e3bb618a392ec3c5f9674bdc03598943806e369eb...   \n",
       "6380498  b50eb90cadd2a392b75b725c90d6784b429ca6854e0947...   \n",
       "6382394  87ff9e63139e6268b8e4a6f74ccc421217794c892a5636...   \n",
       "\n",
       "        trip_start_timestamp  trip_end_timestamp  trip_seconds  trip_miles  \\\n",
       "55857    2022-12-28 19:00:00 2022-12-28 19:15:00         814.0        7.49   \n",
       "74894    2022-12-27 13:45:00 2022-12-27 14:30:00        2527.0       16.40   \n",
       "89047    2022-12-26 09:15:00 2022-12-26 09:15:00         156.0        0.47   \n",
       "97501    2022-12-24 19:30:00 2022-12-24 21:00:00        4750.0       87.29   \n",
       "104424   2022-12-24 06:45:00 2022-12-24 07:00:00         910.0        4.51   \n",
       "...                      ...                 ...           ...         ...   \n",
       "6375868  2022-01-01 18:30:00 2022-01-01 18:45:00         695.0        2.36   \n",
       "6376620  2022-01-01 16:15:00 2022-01-01 16:15:00         834.0        5.12   \n",
       "6378124  2022-01-01 12:45:00 2022-01-01 12:45:00         439.0        0.00   \n",
       "6380498  2022-01-01 03:30:00 2022-01-01 03:30:00         345.0        1.46   \n",
       "6382394  2022-01-01 00:00:00 2022-01-01 00:00:00          62.0        0.12   \n",
       "\n",
       "         pickup_census_tract  dropoff_census_tract  pickup_community_area  \\\n",
       "55857                    NaN                   NaN                    3.0   \n",
       "74894                    NaN                   NaN                    7.0   \n",
       "89047                    NaN                   NaN                    8.0   \n",
       "97501                    NaN                   NaN                   56.0   \n",
       "104424                   NaN                   NaN                    8.0   \n",
       "...                      ...                   ...                    ...   \n",
       "6375868                  NaN                   NaN                    7.0   \n",
       "6376620                  NaN                   NaN                   24.0   \n",
       "6378124                  NaN                   NaN                   24.0   \n",
       "6380498                  NaN                   NaN                   24.0   \n",
       "6382394                  NaN                   NaN                    3.0   \n",
       "\n",
       "         dropoff_community_area  ...  pickup_centroid_latitude  \\\n",
       "55857                      32.0  ...                 41.965812   \n",
       "74894                      76.0  ...                 41.922686   \n",
       "89047                       8.0  ...                 41.899602   \n",
       "97501                       NaN  ...                 41.792592   \n",
       "104424                     28.0  ...                 41.899602   \n",
       "...                         ...  ...                       ...   \n",
       "6375868                     6.0  ...                 41.922686   \n",
       "6376620                    33.0  ...                 41.901207   \n",
       "6378124                     8.0  ...                 41.901207   \n",
       "6380498                     7.0  ...                 41.901207   \n",
       "6382394                     3.0  ...                 41.965812   \n",
       "\n",
       "         pickup_centroid_longitude              pickup_centroid_location  \\\n",
       "55857                   -87.655879    POINT (-87.6558787862 41.96581197)   \n",
       "74894                   -87.649489  POINT (-87.6494887289 41.9226862843)   \n",
       "89047                   -87.633308   POINT (-87.6333080367 41.899602111)   \n",
       "97501                   -87.769615  POINT (-87.7696154528 41.7925923603)   \n",
       "104424                  -87.633308   POINT (-87.6333080367 41.899602111)   \n",
       "...                            ...                                   ...   \n",
       "6375868                 -87.649489  POINT (-87.6494887289 41.9226862843)   \n",
       "6376620                 -87.676356  POINT (-87.6763559892 41.9012069941)   \n",
       "6378124                 -87.676356  POINT (-87.6763559892 41.9012069941)   \n",
       "6380498                 -87.676356  POINT (-87.6763559892 41.9012069941)   \n",
       "6382394                 -87.655879    POINT (-87.6558787862 41.96581197)   \n",
       "\n",
       "         dropoff_centroid_latitude  dropoff_centroid_longitude  \\\n",
       "55857                    41.878866                  -87.625192   \n",
       "74894                    41.980264                  -87.913625   \n",
       "89047                    41.899602                  -87.633308   \n",
       "97501                          NaN                         NaN   \n",
       "104424                   41.874005                  -87.663518   \n",
       "...                            ...                         ...   \n",
       "6375868                  41.944227                  -87.655998   \n",
       "6376620                  41.857184                  -87.620335   \n",
       "6378124                  41.899602                  -87.633308   \n",
       "6380498                  41.922686                  -87.649489   \n",
       "6382394                  41.965812                  -87.655879   \n",
       "\n",
       "                    dropoff_centroid_location     trip_km  trip_hours  Check  \\\n",
       "55857    POINT (-87.6251921424 41.8788655841)   12.053987    0.226111  False   \n",
       "74894     POINT (-87.913624596 41.9802643146)   26.393242    0.701944  False   \n",
       "89047     POINT (-87.6333080367 41.899602111)    0.756392    0.043333  False   \n",
       "97501                                     NaN  140.479638    1.319444  False   \n",
       "104424    POINT (-87.6635175498 41.874005383)    7.258141    0.252778  False   \n",
       "...                                       ...         ...         ...    ...   \n",
       "6375868  POINT (-87.6559981815 41.9442266014)    3.798052    0.193056  False   \n",
       "6376620  POINT (-87.6203346241 41.8571838585)    8.239841    0.231667  False   \n",
       "6378124   POINT (-87.6333080367 41.899602111)    0.000000    0.121944  False   \n",
       "6380498  POINT (-87.6494887289 41.9226862843)    2.349642    0.095833  False   \n",
       "6382394    POINT (-87.6558787862 41.96581197)    0.193121    0.017222  False   \n",
       "\n",
       "         diff  \n",
       "55857   -1.95  \n",
       "74894   -1.95  \n",
       "89047   -1.95  \n",
       "97501   -1.50  \n",
       "104424  -1.95  \n",
       "...       ...  \n",
       "6375868 -1.95  \n",
       "6376620 -1.95  \n",
       "6378124 -1.95  \n",
       "6380498 -1.95  \n",
       "6382394 -1.95  \n",
       "\n",
       "[65693 rows x 27 columns]"
      ]
     },
     "execution_count": 12,
     "metadata": {},
     "output_type": "execute_result"
    }
   ],
   "source": [
    "df_not_matching[np.abs(df_not_matching['diff']) > 3*std]"
   ]
  },
  {
   "cell_type": "markdown",
   "id": "4e743ff7",
   "metadata": {},
   "source": [
    "##### Maximum difference between ['fare', 'tips', 'tolls', 'extras'] and 'trip_total' is ca. 7 dollars, ca. 2 dollars in the mean. For most of the cases 'trip_total' is greater than the sum of the other variables. "
   ]
  },
  {
   "cell_type": "markdown",
   "id": "3f6089f1",
   "metadata": {},
   "source": [
    "#### Obviously too man rowas are affected. What to do? just trust in 'trip_total' and drop ['fare', 'tips', 'tolls', 'extras']? For which tasks could ['fare', 'tips', 'tolls', 'extras'] be relevant? I think maximum for task 3 - cluster analysis (customer types). The other tasks refer more to spatial and temporal aspects. Another idea could be that if we use one of these variables, we emphasize that there are some differences which we cant explain and which might limit the meaningfulness of our results. "
   ]
  },
  {
   "cell_type": "code",
   "execution_count": 73,
   "id": "888736d2",
   "metadata": {},
   "outputs": [
    {
     "name": "stdout",
     "output_type": "stream",
     "text": [
      "Number of unique values in 'company': 38\n",
      "Unique values in 'company': ['Flash Cab' 'Taxi Affiliation Services' 'Taxicab Insurance Agency Llc'\n",
      " 'City Service' 'Taxicab Insurance Agency, LLC' 'Sun Taxi'\n",
      " 'Choice Taxi Association' 'Globe Taxi' 'Chicago Independents'\n",
      " 'Star North Taxi Management Llc' 'Blue Ribbon Taxi Association'\n",
      " '5 Star Taxi' 'Medallion Leasin' 'Patriot Taxi Dba Peace Taxi Associat'\n",
      " 'Koam Taxi Association' 'Top Cab Affiliation' 'U Taxicab'\n",
      " '312 Medallion Management Corp' '4053 - 40193 Adwar H. Nikola'\n",
      " 'Chicago Taxicab' 'Top Cab' 'Setare Inc' '3556 - 36214 RC Andrews Cab'\n",
      " '6574 - Babylon Express Inc.' 'Metro Jet Taxi A.' 'Leonard Cab Co'\n",
      " '5062 - 34841 Sam Mestas' 'Petani Cab Corp' '4787 - 56058 Reny Cab Co'\n",
      " '4623 - 27290 Jay Kim' '2733 - 74600 Benny Jona' '24 Seven Taxi'\n",
      " 'KOAM Taxi Association' 'Blue Ribbon Taxi Association Inc.'\n",
      " 'Chicago Medallion Management' '3620 - 52292 David K. Cab Corp.'\n",
      " 'Nova Taxi Affiliation Llc' 'Chicago Carriage Cab Corp']\n"
     ]
    }
   ],
   "source": [
    "column_of_interest = 'company'\n",
    "\n",
    "# Get the number of unique values\n",
    "num_unique_values = df[column_of_interest].nunique()\n",
    "\n",
    "# Get the array of unique values\n",
    "unique_values = df[column_of_interest].unique()\n",
    "\n",
    "print(f\"Number of unique values in '{column_of_interest}': {num_unique_values}\")\n",
    "print(f\"Unique values in '{column_of_interest}': {unique_values}\")"
   ]
  },
  {
   "cell_type": "code",
   "execution_count": 10,
   "id": "8764dee4",
   "metadata": {},
   "outputs": [],
   "source": [
    "print(df_not_matching[df_not_matching['payment_type']=='Credit Card'].shape)\n",
    "print(df_not_matching[df_not_matching['payment_type']=='Mobile'].shape)\n",
    "print(df_not_matching[df_not_matching['payment_type']=='Cash'].shape)\n",
    "print(df_not_matching[df_not_matching['payment_type']=='Prcard'].shape)\n",
    "print(df_not_matching[df_not_matching['payment_type']=='Unknown'].shape)\n",
    "print(df_not_matching[df_not_matching['payment_type']=='No Charge'].shape)\n",
    "print(df_not_matching[df_not_matching['payment_type']=='Prepaid'].shape)"
   ]
  },
  {
   "cell_type": "code",
   "execution_count": 11,
   "id": "b09f923b",
   "metadata": {},
   "outputs": [],
   "source": [
    "check same for df['trip_miles']==0"
   ]
  },
  {
   "cell_type": "markdown",
   "id": "a6e0c83e-5275-40ec-a492-35cb5bb880cd",
   "metadata": {},
   "source": [
    "### 1.2 Checking data logic & removing invalid data"
   ]
  },
  {
   "cell_type": "markdown",
   "id": "562fcc8e-36e8-4972-9b6f-cf696ee43cf2",
   "metadata": {
    "tags": []
   },
   "source": [
    "#### 1.2.1 Duplicate entries"
   ]
  },
  {
   "cell_type": "code",
   "execution_count": 14,
   "id": "4e09e0c3-9c12-4582-8f66-65b5b16f74d4",
   "metadata": {
    "tags": []
   },
   "outputs": [
    {
     "name": "stdout",
     "output_type": "stream",
     "text": [
      "Number of duplicate entries:  21772\n"
     ]
    }
   ],
   "source": [
    "# Check duplicates \n",
    "print(\"Number of duplicate entries: \", df.duplicated(subset = ['taxi_id', 'trip_start_timestamp', 'trip_end_timestamp', 'trip_seconds', 'trip_miles', \n",
    "                                                              'pickup_census_tract','dropoff_census_tract','pickup_community_area', 'dropoff_community_area',\n",
    "                                                              'pickup_centroid_latitude','pickup_centroid_longitude','pickup_centroid_location','dropoff_centroid_latitude',\n",
    "                                                              'dropoff_centroid_longitude','dropoff_centroid_location']).sum())"
   ]
  },
  {
   "cell_type": "code",
   "execution_count": 15,
   "id": "1a84b6c6-279b-4e05-b028-d097122254dd",
   "metadata": {
    "tags": []
   },
   "outputs": [
    {
     "data": {
      "text/plain": [
       "(6360653, 26)"
      ]
     },
     "execution_count": 15,
     "metadata": {},
     "output_type": "execute_result"
    }
   ],
   "source": [
    "df = df.drop_duplicates(subset = ['taxi_id', 'trip_start_timestamp', 'trip_end_timestamp', 'trip_seconds', 'trip_miles', \n",
    "                                                              'pickup_census_tract','dropoff_census_tract','pickup_community_area', 'dropoff_community_area',\n",
    "                                                              'pickup_centroid_latitude','pickup_centroid_longitude','pickup_centroid_location','dropoff_centroid_latitude',\n",
    "                                                              'dropoff_centroid_longitude','dropoff_centroid_location'], keep='first')\n",
    "df.shape"
   ]
  },
  {
   "cell_type": "code",
   "execution_count": 16,
   "id": "bf128e13",
   "metadata": {},
   "outputs": [],
   "source": [
    "df['kmh'] = np.where(df['trip_hours'] != 0, df['trip_km'] / df['trip_hours'], np.nan)"
   ]
  },
  {
   "cell_type": "code",
   "execution_count": 17,
   "id": "5590b350",
   "metadata": {},
   "outputs": [
    {
     "name": "stdout",
     "output_type": "stream",
     "text": [
      "count    6.211460e+06\n",
      "mean     3.382633e+01\n",
      "std      3.043221e+03\n",
      "min      0.000000e+00\n",
      "25%      1.305730e+01\n",
      "50%      2.134498e+01\n",
      "75%      3.905000e+01\n",
      "max      6.047255e+06\n",
      "Name: kmh, dtype: float64\n"
     ]
    }
   ],
   "source": [
    "print(df['kmh'].describe())"
   ]
  },
  {
   "cell_type": "code",
   "execution_count": 18,
   "id": "c0015c96",
   "metadata": {
    "scrolled": true
   },
   "outputs": [
    {
     "name": "stdout",
     "output_type": "stream",
     "text": [
      "(12901, 27)\n"
     ]
    }
   ],
   "source": [
    "print(df[df['kmh'] >= 100].shape)"
   ]
  },
  {
   "cell_type": "code",
   "execution_count": 19,
   "id": "55378689",
   "metadata": {
    "scrolled": true
   },
   "outputs": [
    {
     "name": "stdout",
     "output_type": "stream",
     "text": [
      "                                          trip_id  \\\n",
      "0        4404c6835b9e74e9f74d70f235200a8ce09db14a   \n",
      "1        466473fd2a196ebe92fb2983cb7e8af32e39aa1f   \n",
      "2        3f5cd3f78e5cab455606a31372a95d3204b2fb3f   \n",
      "3        38292159642750da7b20419330566f9eb0961cde   \n",
      "4        3e01498f8ff771ad7eb37e4844cef20201b6c339   \n",
      "...                                           ...   \n",
      "6382420  54d812a0b88f8f9707825261014b3563a0a60ace   \n",
      "6382421  7125b9e03a0f16c2dfb5eaf73ed057dc51eb68ef   \n",
      "6382422  52d1bd00d97eaed338bd98faf80c5709e22fef3d   \n",
      "6382423  0f0c856e620e6b4dfd2bb1e921d966dd179eeca1   \n",
      "6382424  50719da0933d6056acca25c91c253012288c70c6   \n",
      "\n",
      "                                                   taxi_id  \\\n",
      "0        7e179f8ef66ae99ec2d1ec89224e0b7ee5469fe5627f6d...   \n",
      "1        d1d88b89ceb6d753007b6e795e3c24f4bea905a51e9d47...   \n",
      "2        847cf962bd6f62040673e6c24c24940aeb2d7fdaa54677...   \n",
      "3        81092e4881f56106fae845c3ae4492f8b3c3213c33c920...   \n",
      "4        4ae32e2eb244ce143800e0c40055e537cc50e3358a07ce...   \n",
      "...                                                    ...   \n",
      "6382420  f98ae5e71fdda8806710af321dce58002146886c013f41...   \n",
      "6382421  8eca35a570101ad24c638f1f43eecce9d0cb7843e13a75...   \n",
      "6382422  b5e2695a2f44b9bce7a0a86148ac418802f0067be1f6d4...   \n",
      "6382423  b21050ab3ad3d0972fd6378f6bf4d0251a8a7af42e6e0e...   \n",
      "6382424  d9293712880e8a69bed187b718a3f5ef512c5263984006...   \n",
      "\n",
      "        trip_start_timestamp  trip_end_timestamp  trip_seconds  trip_miles  \\\n",
      "0        2022-12-31 23:45:00 2023-01-01 00:15:00        2081.0        4.42   \n",
      "1        2022-12-31 23:45:00 2023-01-01 00:00:00         812.0        0.00   \n",
      "2        2022-12-31 23:45:00 2023-01-01 00:00:00         600.0        0.90   \n",
      "3        2022-12-31 23:45:00 2023-01-01 00:00:00         546.0        0.85   \n",
      "4        2022-12-31 23:45:00 2023-01-01 00:00:00         574.0        0.33   \n",
      "...                      ...                 ...           ...         ...   \n",
      "6382420  2022-01-01 00:00:00 2022-01-01 00:00:00         536.0        4.83   \n",
      "6382421  2022-01-01 00:00:00 2022-01-01 00:15:00         897.0        2.07   \n",
      "6382422  2022-01-01 00:00:00 2022-01-01 00:00:00         598.0        6.64   \n",
      "6382423  2022-01-01 00:00:00 2022-01-01 00:00:00          33.0        0.17   \n",
      "6382424  2022-01-01 00:00:00 2022-01-01 00:00:00         501.0        0.65   \n",
      "\n",
      "         pickup_census_tract  dropoff_census_tract  pickup_community_area  \\\n",
      "0                        NaN                   NaN                    2.0   \n",
      "1                        NaN                   NaN                    8.0   \n",
      "2                        NaN                   NaN                    8.0   \n",
      "3                        NaN                   NaN                    8.0   \n",
      "4                        NaN                   NaN                    8.0   \n",
      "...                      ...                   ...                    ...   \n",
      "6382420                  NaN                   NaN                   28.0   \n",
      "6382421                  NaN                   NaN                    8.0   \n",
      "6382422                  NaN                   NaN                    8.0   \n",
      "6382423                  NaN                   NaN                    3.0   \n",
      "6382424                  NaN                   NaN                    8.0   \n",
      "\n",
      "         dropoff_community_area  ...  pickup_centroid_latitude  \\\n",
      "0                           3.0  ...                 42.001571   \n",
      "1                          24.0  ...                 41.899602   \n",
      "2                           8.0  ...                 41.899602   \n",
      "3                           8.0  ...                 41.899602   \n",
      "4                           8.0  ...                 41.899602   \n",
      "...                         ...  ...                       ...   \n",
      "6382420                    22.0  ...                 41.874005   \n",
      "6382421                    32.0  ...                 41.899602   \n",
      "6382422                    77.0  ...                 41.899602   \n",
      "6382423                     3.0  ...                 41.965812   \n",
      "6382424                     8.0  ...                 41.899602   \n",
      "\n",
      "         pickup_centroid_longitude             pickup_centroid_location  \\\n",
      "0                       -87.695013  POINT (-87.6950125892 42.001571027)   \n",
      "1                       -87.633308  POINT (-87.6333080367 41.899602111)   \n",
      "2                       -87.633308  POINT (-87.6333080367 41.899602111)   \n",
      "3                       -87.633308  POINT (-87.6333080367 41.899602111)   \n",
      "4                       -87.633308  POINT (-87.6333080367 41.899602111)   \n",
      "...                            ...                                  ...   \n",
      "6382420                 -87.663518  POINT (-87.6635175498 41.874005383)   \n",
      "6382421                 -87.633308  POINT (-87.6333080367 41.899602111)   \n",
      "6382422                 -87.633308  POINT (-87.6333080367 41.899602111)   \n",
      "6382423                 -87.655879   POINT (-87.6558787862 41.96581197)   \n",
      "6382424                 -87.633308  POINT (-87.6333080367 41.899602111)   \n",
      "\n",
      "         dropoff_centroid_latitude  dropoff_centroid_longitude  \\\n",
      "0                        41.965812                  -87.655879   \n",
      "1                        41.901207                  -87.676356   \n",
      "2                        41.899602                  -87.633308   \n",
      "3                        41.899602                  -87.633308   \n",
      "4                        41.899602                  -87.633308   \n",
      "...                            ...                         ...   \n",
      "6382420                  41.922761                  -87.699155   \n",
      "6382421                  41.878866                  -87.625192   \n",
      "6382422                  41.986712                  -87.663416   \n",
      "6382423                  41.965812                  -87.655879   \n",
      "6382424                  41.899602                  -87.633308   \n",
      "\n",
      "                    dropoff_centroid_location    trip_km  trip_hours  Check  \\\n",
      "0          POINT (-87.6558787862 41.96581197)   7.113300    0.578056   True   \n",
      "1        POINT (-87.6763559892 41.9012069941)   0.000000    0.225556   True   \n",
      "2         POINT (-87.6333080367 41.899602111)   1.448410    0.166667   True   \n",
      "3         POINT (-87.6333080367 41.899602111)   1.367942    0.151667   True   \n",
      "4         POINT (-87.6333080367 41.899602111)   0.531084    0.159444   True   \n",
      "...                                       ...        ...         ...    ...   \n",
      "6382420  POINT (-87.6991553432 41.9227606205)   7.773132    0.148889   True   \n",
      "6382421  POINT (-87.6251921424 41.8788655841)   3.331342    0.249167   True   \n",
      "6382422  POINT (-87.6634164054 41.9867117999)  10.686044    0.166111  False   \n",
      "6382423    POINT (-87.6558787862 41.96581197)   0.273588    0.009167   True   \n",
      "6382424   POINT (-87.6333080367 41.899602111)   1.046074    0.139167   True   \n",
      "\n",
      "               kmh  \n",
      "0        12.305565  \n",
      "1         0.000000  \n",
      "2         8.690458  \n",
      "3         9.019400  \n",
      "4         3.330837  \n",
      "...            ...  \n",
      "6382420  52.207600  \n",
      "6382421  13.369935  \n",
      "6382422  64.330701  \n",
      "6382423  29.846016  \n",
      "6382424   7.516697  \n",
      "\n",
      "[6198559 rows x 27 columns]\n"
     ]
    }
   ],
   "source": [
    "print(df[(df['kmh'] <= 100)])"
   ]
  },
  {
   "cell_type": "markdown",
   "id": "4ce9577e",
   "metadata": {},
   "source": [
    "#### Find some generous threshold to drop rows where kmh is not reasonable. maybe 70 or 80 because we are in the city? Or 100, because this is the general speed limit on highways (I believe) so of course in the city it will be less, but then it is no threshold out of the blue?"
   ]
  },
  {
   "cell_type": "markdown",
   "id": "75e1c228",
   "metadata": {},
   "source": [
    "##### And an alternative to dropping trips that last longer than 4 hours (to e.g. not lose round trips) we could set a minimum kmh that should be reached? "
   ]
  },
  {
   "cell_type": "code",
   "execution_count": 20,
   "id": "c0670374",
   "metadata": {},
   "outputs": [
    {
     "name": "stdout",
     "output_type": "stream",
     "text": [
      "(1178540, 27)\n"
     ]
    }
   ],
   "source": [
    "print(df[(df['kmh'] <= 10)].shape)"
   ]
  },
  {
   "cell_type": "markdown",
   "id": "a77974d3",
   "metadata": {},
   "source": [
    "But there are many even under 10 kmh. Because there are many with trip_km == 0:"
   ]
  },
  {
   "cell_type": "code",
   "execution_count": 21,
   "id": "2405eeff",
   "metadata": {},
   "outputs": [
    {
     "name": "stdout",
     "output_type": "stream",
     "text": [
      "1          16.57\n",
      "15          7.25\n",
      "16         14.75\n",
      "22         15.00\n",
      "29          3.25\n",
      "           ...  \n",
      "6382407    17.35\n",
      "6382408     3.25\n",
      "6382409    15.70\n",
      "6382411    29.38\n",
      "6382417    11.25\n",
      "Name: trip_total, Length: 784587, dtype: float64\n"
     ]
    }
   ],
   "source": [
    "print(df[(df['trip_km'] == 0)]['trip_total'])"
   ]
  },
  {
   "cell_type": "markdown",
   "id": "04d7a8b3",
   "metadata": {},
   "source": [
    "#### But how can it be that there are so many trips with trip_km == 0 (784587)? More than: \n",
    "\n",
    "Number of rows with no census and no community (PICKUP): 507118\n",
    "\n",
    "Number of rows with no census and no community (DROPOFF): 586044\n",
    "\n",
    "\n",
    "Number of rows with no census and no community (BOTH):  224130\n",
    "\n",
    "Number of rows with no community DROPOFF and no community PICKUP: 225948\n",
    "\n",
    "So are they related to each other or not?"
   ]
  },
  {
   "cell_type": "code",
   "execution_count": 22,
   "id": "41e2639b",
   "metadata": {},
   "outputs": [
    {
     "data": {
      "text/html": [
       "<div>\n",
       "<style scoped>\n",
       "    .dataframe tbody tr th:only-of-type {\n",
       "        vertical-align: middle;\n",
       "    }\n",
       "\n",
       "    .dataframe tbody tr th {\n",
       "        vertical-align: top;\n",
       "    }\n",
       "\n",
       "    .dataframe thead th {\n",
       "        text-align: right;\n",
       "    }\n",
       "</style>\n",
       "<table border=\"1\" class=\"dataframe\">\n",
       "  <thead>\n",
       "    <tr style=\"text-align: right;\">\n",
       "      <th></th>\n",
       "      <th>trip_id</th>\n",
       "      <th>taxi_id</th>\n",
       "      <th>trip_start_timestamp</th>\n",
       "      <th>trip_end_timestamp</th>\n",
       "      <th>trip_seconds</th>\n",
       "      <th>trip_miles</th>\n",
       "      <th>pickup_census_tract</th>\n",
       "      <th>dropoff_census_tract</th>\n",
       "      <th>pickup_community_area</th>\n",
       "      <th>dropoff_community_area</th>\n",
       "      <th>...</th>\n",
       "      <th>pickup_centroid_latitude</th>\n",
       "      <th>pickup_centroid_longitude</th>\n",
       "      <th>pickup_centroid_location</th>\n",
       "      <th>dropoff_centroid_latitude</th>\n",
       "      <th>dropoff_centroid_longitude</th>\n",
       "      <th>dropoff_centroid_location</th>\n",
       "      <th>trip_km</th>\n",
       "      <th>trip_hours</th>\n",
       "      <th>Check</th>\n",
       "      <th>kmh</th>\n",
       "    </tr>\n",
       "  </thead>\n",
       "  <tbody>\n",
       "    <tr>\n",
       "      <th>0</th>\n",
       "      <td>4404c6835b9e74e9f74d70f235200a8ce09db14a</td>\n",
       "      <td>7e179f8ef66ae99ec2d1ec89224e0b7ee5469fe5627f6d...</td>\n",
       "      <td>2022-12-31 23:45:00</td>\n",
       "      <td>2023-01-01 00:15:00</td>\n",
       "      <td>2081.0</td>\n",
       "      <td>4.42</td>\n",
       "      <td>NaN</td>\n",
       "      <td>NaN</td>\n",
       "      <td>2.0</td>\n",
       "      <td>3.0</td>\n",
       "      <td>...</td>\n",
       "      <td>42.001571</td>\n",
       "      <td>-87.695013</td>\n",
       "      <td>POINT (-87.6950125892 42.001571027)</td>\n",
       "      <td>41.965812</td>\n",
       "      <td>-87.655879</td>\n",
       "      <td>POINT (-87.6558787862 41.96581197)</td>\n",
       "      <td>7.113300</td>\n",
       "      <td>0.578056</td>\n",
       "      <td>True</td>\n",
       "      <td>12.305565</td>\n",
       "    </tr>\n",
       "    <tr>\n",
       "      <th>1</th>\n",
       "      <td>466473fd2a196ebe92fb2983cb7e8af32e39aa1f</td>\n",
       "      <td>d1d88b89ceb6d753007b6e795e3c24f4bea905a51e9d47...</td>\n",
       "      <td>2022-12-31 23:45:00</td>\n",
       "      <td>2023-01-01 00:00:00</td>\n",
       "      <td>812.0</td>\n",
       "      <td>0.00</td>\n",
       "      <td>NaN</td>\n",
       "      <td>NaN</td>\n",
       "      <td>8.0</td>\n",
       "      <td>24.0</td>\n",
       "      <td>...</td>\n",
       "      <td>41.899602</td>\n",
       "      <td>-87.633308</td>\n",
       "      <td>POINT (-87.6333080367 41.899602111)</td>\n",
       "      <td>41.901207</td>\n",
       "      <td>-87.676356</td>\n",
       "      <td>POINT (-87.6763559892 41.9012069941)</td>\n",
       "      <td>0.000000</td>\n",
       "      <td>0.225556</td>\n",
       "      <td>True</td>\n",
       "      <td>0.000000</td>\n",
       "    </tr>\n",
       "    <tr>\n",
       "      <th>2</th>\n",
       "      <td>3f5cd3f78e5cab455606a31372a95d3204b2fb3f</td>\n",
       "      <td>847cf962bd6f62040673e6c24c24940aeb2d7fdaa54677...</td>\n",
       "      <td>2022-12-31 23:45:00</td>\n",
       "      <td>2023-01-01 00:00:00</td>\n",
       "      <td>600.0</td>\n",
       "      <td>0.90</td>\n",
       "      <td>NaN</td>\n",
       "      <td>NaN</td>\n",
       "      <td>8.0</td>\n",
       "      <td>8.0</td>\n",
       "      <td>...</td>\n",
       "      <td>41.899602</td>\n",
       "      <td>-87.633308</td>\n",
       "      <td>POINT (-87.6333080367 41.899602111)</td>\n",
       "      <td>41.899602</td>\n",
       "      <td>-87.633308</td>\n",
       "      <td>POINT (-87.6333080367 41.899602111)</td>\n",
       "      <td>1.448410</td>\n",
       "      <td>0.166667</td>\n",
       "      <td>True</td>\n",
       "      <td>8.690458</td>\n",
       "    </tr>\n",
       "    <tr>\n",
       "      <th>3</th>\n",
       "      <td>38292159642750da7b20419330566f9eb0961cde</td>\n",
       "      <td>81092e4881f56106fae845c3ae4492f8b3c3213c33c920...</td>\n",
       "      <td>2022-12-31 23:45:00</td>\n",
       "      <td>2023-01-01 00:00:00</td>\n",
       "      <td>546.0</td>\n",
       "      <td>0.85</td>\n",
       "      <td>NaN</td>\n",
       "      <td>NaN</td>\n",
       "      <td>8.0</td>\n",
       "      <td>8.0</td>\n",
       "      <td>...</td>\n",
       "      <td>41.899602</td>\n",
       "      <td>-87.633308</td>\n",
       "      <td>POINT (-87.6333080367 41.899602111)</td>\n",
       "      <td>41.899602</td>\n",
       "      <td>-87.633308</td>\n",
       "      <td>POINT (-87.6333080367 41.899602111)</td>\n",
       "      <td>1.367942</td>\n",
       "      <td>0.151667</td>\n",
       "      <td>True</td>\n",
       "      <td>9.019400</td>\n",
       "    </tr>\n",
       "    <tr>\n",
       "      <th>4</th>\n",
       "      <td>3e01498f8ff771ad7eb37e4844cef20201b6c339</td>\n",
       "      <td>4ae32e2eb244ce143800e0c40055e537cc50e3358a07ce...</td>\n",
       "      <td>2022-12-31 23:45:00</td>\n",
       "      <td>2023-01-01 00:00:00</td>\n",
       "      <td>574.0</td>\n",
       "      <td>0.33</td>\n",
       "      <td>NaN</td>\n",
       "      <td>NaN</td>\n",
       "      <td>8.0</td>\n",
       "      <td>8.0</td>\n",
       "      <td>...</td>\n",
       "      <td>41.899602</td>\n",
       "      <td>-87.633308</td>\n",
       "      <td>POINT (-87.6333080367 41.899602111)</td>\n",
       "      <td>41.899602</td>\n",
       "      <td>-87.633308</td>\n",
       "      <td>POINT (-87.6333080367 41.899602111)</td>\n",
       "      <td>0.531084</td>\n",
       "      <td>0.159444</td>\n",
       "      <td>True</td>\n",
       "      <td>3.330837</td>\n",
       "    </tr>\n",
       "  </tbody>\n",
       "</table>\n",
       "<p>5 rows × 27 columns</p>\n",
       "</div>"
      ],
      "text/plain": [
       "                                    trip_id  \\\n",
       "0  4404c6835b9e74e9f74d70f235200a8ce09db14a   \n",
       "1  466473fd2a196ebe92fb2983cb7e8af32e39aa1f   \n",
       "2  3f5cd3f78e5cab455606a31372a95d3204b2fb3f   \n",
       "3  38292159642750da7b20419330566f9eb0961cde   \n",
       "4  3e01498f8ff771ad7eb37e4844cef20201b6c339   \n",
       "\n",
       "                                             taxi_id trip_start_timestamp  \\\n",
       "0  7e179f8ef66ae99ec2d1ec89224e0b7ee5469fe5627f6d...  2022-12-31 23:45:00   \n",
       "1  d1d88b89ceb6d753007b6e795e3c24f4bea905a51e9d47...  2022-12-31 23:45:00   \n",
       "2  847cf962bd6f62040673e6c24c24940aeb2d7fdaa54677...  2022-12-31 23:45:00   \n",
       "3  81092e4881f56106fae845c3ae4492f8b3c3213c33c920...  2022-12-31 23:45:00   \n",
       "4  4ae32e2eb244ce143800e0c40055e537cc50e3358a07ce...  2022-12-31 23:45:00   \n",
       "\n",
       "   trip_end_timestamp  trip_seconds  trip_miles  pickup_census_tract  \\\n",
       "0 2023-01-01 00:15:00        2081.0        4.42                  NaN   \n",
       "1 2023-01-01 00:00:00         812.0        0.00                  NaN   \n",
       "2 2023-01-01 00:00:00         600.0        0.90                  NaN   \n",
       "3 2023-01-01 00:00:00         546.0        0.85                  NaN   \n",
       "4 2023-01-01 00:00:00         574.0        0.33                  NaN   \n",
       "\n",
       "   dropoff_census_tract  pickup_community_area  dropoff_community_area  ...  \\\n",
       "0                   NaN                    2.0                     3.0  ...   \n",
       "1                   NaN                    8.0                    24.0  ...   \n",
       "2                   NaN                    8.0                     8.0  ...   \n",
       "3                   NaN                    8.0                     8.0  ...   \n",
       "4                   NaN                    8.0                     8.0  ...   \n",
       "\n",
       "   pickup_centroid_latitude  pickup_centroid_longitude  \\\n",
       "0                 42.001571                 -87.695013   \n",
       "1                 41.899602                 -87.633308   \n",
       "2                 41.899602                 -87.633308   \n",
       "3                 41.899602                 -87.633308   \n",
       "4                 41.899602                 -87.633308   \n",
       "\n",
       "              pickup_centroid_location  dropoff_centroid_latitude  \\\n",
       "0  POINT (-87.6950125892 42.001571027)                  41.965812   \n",
       "1  POINT (-87.6333080367 41.899602111)                  41.901207   \n",
       "2  POINT (-87.6333080367 41.899602111)                  41.899602   \n",
       "3  POINT (-87.6333080367 41.899602111)                  41.899602   \n",
       "4  POINT (-87.6333080367 41.899602111)                  41.899602   \n",
       "\n",
       "   dropoff_centroid_longitude             dropoff_centroid_location   trip_km  \\\n",
       "0                  -87.655879    POINT (-87.6558787862 41.96581197)  7.113300   \n",
       "1                  -87.676356  POINT (-87.6763559892 41.9012069941)  0.000000   \n",
       "2                  -87.633308   POINT (-87.6333080367 41.899602111)  1.448410   \n",
       "3                  -87.633308   POINT (-87.6333080367 41.899602111)  1.367942   \n",
       "4                  -87.633308   POINT (-87.6333080367 41.899602111)  0.531084   \n",
       "\n",
       "   trip_hours  Check        kmh  \n",
       "0    0.578056   True  12.305565  \n",
       "1    0.225556   True   0.000000  \n",
       "2    0.166667   True   8.690458  \n",
       "3    0.151667   True   9.019400  \n",
       "4    0.159444   True   3.330837  \n",
       "\n",
       "[5 rows x 27 columns]"
      ]
     },
     "execution_count": 22,
     "metadata": {},
     "output_type": "execute_result"
    }
   ],
   "source": [
    "df.head()"
   ]
  },
  {
   "cell_type": "code",
   "execution_count": 82,
   "id": "b2a819cb",
   "metadata": {},
   "outputs": [],
   "source": [
    "df_test = df.drop(columns=['trip_id','taxi_id'])"
   ]
  },
  {
   "cell_type": "code",
   "execution_count": 24,
   "id": "fc1d8cd4",
   "metadata": {},
   "outputs": [
    {
     "name": "stdout",
     "output_type": "stream",
     "text": [
      "(0, 23)\n",
      "(0, 23)\n"
     ]
    }
   ],
   "source": [
    "print(df_test[(df_test['trip_km']!=0) & (df_test['trip_miles'] == 0)].shape)\n",
    "print(df_test[(df_test['trip_km']==0) & (df_test['trip_miles']!=0)].shape)"
   ]
  },
  {
   "cell_type": "code",
   "execution_count": 25,
   "id": "727a6c02",
   "metadata": {},
   "outputs": [
    {
     "name": "stdout",
     "output_type": "stream",
     "text": [
      "(698024, 23)\n"
     ]
    }
   ],
   "source": [
    "print(df_test[(df_test['trip_km']==0) & (df_test['Check'])].shape)"
   ]
  },
  {
   "cell_type": "code",
   "execution_count": 26,
   "id": "af14a40f",
   "metadata": {},
   "outputs": [
    {
     "name": "stdout",
     "output_type": "stream",
     "text": [
      "(86563, 23)\n"
     ]
    }
   ],
   "source": [
    "print(df_test[(df_test['trip_km']==0) & (~df_test['Check'])].shape)"
   ]
  },
  {
   "cell_type": "markdown",
   "id": "ad31a4a8",
   "metadata": {},
   "source": [
    "##### Location Data:\n",
    "\n",
    "- <ins>pickup/dropoff_census_tract:</ins> Can be missing for two reasons - 1. Privacy 2. Outside Chicago: \"This column often will be blank for locations outside Chicago\" -> not necessarily\n",
    "- <ins>pickup/dropoff_community_area:</ins> Can be missing for one reason: Outside Chicago: \"This column will be blank for locations outside Chicago\" -> necessarily\n",
    "- <ins>\"centroid columns\"</ins>: Location of respective census_tract or when missing then of community_area: Consequently \"These columns often will be blank for locations outside Chicago\""
   ]
  },
  {
   "cell_type": "markdown",
   "id": "258c8837",
   "metadata": {},
   "source": [
    "For 666 pickup_centroid_location is NaN despite one of census_tract or community_area is available:"
   ]
  },
  {
   "cell_type": "code",
   "execution_count": 27,
   "id": "8cf07a2b",
   "metadata": {},
   "outputs": [
    {
     "name": "stdout",
     "output_type": "stream",
     "text": [
      "(666, 23)\n"
     ]
    }
   ],
   "source": [
    "print(df_test[(df_test['pickup_centroid_location'].isna()) & ((~df_test['pickup_census_tract'].isna()) | (~df_test['pickup_community_area'].isna()))].shape)\n"
   ]
  },
  {
   "cell_type": "markdown",
   "id": "277427ed",
   "metadata": {},
   "source": [
    "6.837 for the same with dropoff:"
   ]
  },
  {
   "cell_type": "code",
   "execution_count": 28,
   "id": "d254c16c",
   "metadata": {},
   "outputs": [
    {
     "name": "stdout",
     "output_type": "stream",
     "text": [
      "(6837, 23)\n"
     ]
    }
   ],
   "source": [
    "print(df_test[(df_test['dropoff_centroid_location'].isna()) & ((~df_test['dropoff_census_tract'].isna()) | (~df_test['dropoff_community_area'].isna()))].shape)\n"
   ]
  },
  {
   "cell_type": "code",
   "execution_count": 29,
   "id": "3dda53d3",
   "metadata": {},
   "outputs": [
    {
     "name": "stdout",
     "output_type": "stream",
     "text": [
      "(149746, 23)\n"
     ]
    }
   ],
   "source": [
    "print(df_test[(df_test['pickup_census_tract'].isna()) & (~df_test['dropoff_census_tract'].isna())].shape)"
   ]
  },
  {
   "cell_type": "code",
   "execution_count": 30,
   "id": "0c90ff75",
   "metadata": {},
   "outputs": [
    {
     "name": "stdout",
     "output_type": "stream",
     "text": [
      "(98119, 23)\n"
     ]
    }
   ],
   "source": [
    "print(df_test[(~df_test['pickup_census_tract'].isna()) & (df_test['dropoff_census_tract'].isna())].shape)"
   ]
  },
  {
   "cell_type": "code",
   "execution_count": 31,
   "id": "0ab33d01",
   "metadata": {},
   "outputs": [
    {
     "name": "stdout",
     "output_type": "stream",
     "text": [
      "(3595758, 23)\n"
     ]
    }
   ],
   "source": [
    "print(df_test[(df_test['pickup_census_tract'].isna()) & (df_test['dropoff_census_tract'].isna())].shape)"
   ]
  },
  {
   "cell_type": "markdown",
   "id": "ca1d7953",
   "metadata": {},
   "source": [
    "##### For 784.587 entries trip_miles is 0:"
   ]
  },
  {
   "cell_type": "markdown",
   "id": "c8a1862f",
   "metadata": {},
   "source": [
    "##### Stornierte Fahrten - miles = 0, seconds = 0, pickup=dropoff:"
   ]
  },
  {
   "cell_type": "code",
   "execution_count": 83,
   "id": "a3e66d21",
   "metadata": {},
   "outputs": [
    {
     "name": "stdout",
     "output_type": "stream",
     "text": [
      "(784587, 25)\n"
     ]
    }
   ],
   "source": [
    "print(df_test[df_test['trip_miles']==0].shape)"
   ]
  },
  {
   "cell_type": "code",
   "execution_count": 76,
   "id": "904c8eab",
   "metadata": {},
   "outputs": [
    {
     "name": "stdout",
     "output_type": "stream",
     "text": [
      "(105621, 25)\n"
     ]
    }
   ],
   "source": [
    "print(df_test[(df_test['trip_miles']==0) & (df_test['trip_seconds']==0) & (df_test['pickup_centroid_location'] == df_test['dropoff_centroid_location']) & (~df_test['dropoff_centroid_location'].isna()) & (~df_test['pickup_centroid_location'].isna())].shape)\n"
   ]
  },
  {
   "cell_type": "code",
   "execution_count": 79,
   "id": "6bbd4e18",
   "metadata": {},
   "outputs": [],
   "source": [
    "df_miles_zero = df_test[~((df_test['trip_miles']==0) & (df_test['trip_seconds']==0) & (df_test['pickup_centroid_location'] == df_test['dropoff_centroid_location']) & (~df_test['dropoff_centroid_location'].isna()) & (~df_test['pickup_centroid_location'].isna()))]\n"
   ]
  },
  {
   "cell_type": "code",
   "execution_count": 87,
   "id": "3fbbbd70",
   "metadata": {},
   "outputs": [],
   "source": [
    "#noch nicht erklärbare miles 0"
   ]
  },
  {
   "cell_type": "code",
   "execution_count": 85,
   "id": "bd9eb8ea",
   "metadata": {},
   "outputs": [],
   "source": [
    "df_miles_zero = df_miles_zero[df_miles_zero['trip_miles']==0]"
   ]
  },
  {
   "cell_type": "code",
   "execution_count": 86,
   "id": "124515b5",
   "metadata": {},
   "outputs": [
    {
     "name": "stdout",
     "output_type": "stream",
     "text": [
      "(678966, 25)\n"
     ]
    }
   ],
   "source": [
    "print(df_miles_zero.shape)"
   ]
  },
  {
   "cell_type": "code",
   "execution_count": null,
   "id": "732878a7",
   "metadata": {},
   "outputs": [],
   "source": []
  },
  {
   "cell_type": "code",
   "execution_count": null,
   "id": "eb417362",
   "metadata": {},
   "outputs": [],
   "source": []
  },
  {
   "cell_type": "code",
   "execution_count": null,
   "id": "a1a0e8fc",
   "metadata": {},
   "outputs": [],
   "source": []
  },
  {
   "cell_type": "code",
   "execution_count": 64,
   "id": "8608fbaf",
   "metadata": {},
   "outputs": [
    {
     "name": "stdout",
     "output_type": "stream",
     "text": [
      "          fare  tips  tolls  extras  trip_total payment_type  trip_seconds  \\\n",
      "24478    60.00   0.0    0.0     0.0       60.00         Cash           0.0   \n",
      "24490     4.75   0.0    0.0     0.0        4.75         Cash         240.0   \n",
      "24498     3.75   0.0    0.0     0.0        3.75         Cash         120.0   \n",
      "24514     3.25   0.0    0.0     0.0        3.25         Cash          60.0   \n",
      "24520    10.50   0.0    0.0     2.5       13.00         Cash         480.0   \n",
      "...        ...   ...    ...     ...         ...          ...           ...   \n",
      "6374385   3.25   0.0    0.0     0.0        3.25         Cash           4.0   \n",
      "6374390   3.25   0.0    0.0     0.0        3.25         Cash          14.0   \n",
      "6374429   3.25   0.0    0.0     0.0        3.25         Cash          60.0   \n",
      "6374432   3.25   0.0    0.0     0.0        3.25         Cash           0.0   \n",
      "6374433   7.75   0.0    0.0     0.0        7.75         Cash         600.0   \n",
      "\n",
      "        trip_start_timestamp  \n",
      "24478    2022-12-30 23:45:00  \n",
      "24490    2022-12-30 23:45:00  \n",
      "24498    2022-12-30 23:45:00  \n",
      "24514    2022-12-30 23:45:00  \n",
      "24520    2022-12-30 23:45:00  \n",
      "...                      ...  \n",
      "6374385  2022-01-02 00:30:00  \n",
      "6374390  2022-01-02 00:30:00  \n",
      "6374429  2022-01-02 00:15:00  \n",
      "6374432  2022-01-02 00:15:00  \n",
      "6374433  2022-01-02 00:15:00  \n",
      "\n",
      "[355061 rows x 8 columns]\n"
     ]
    }
   ],
   "source": [
    "print(df_test[(df_test['trip_miles']==0) & (df_test['payment_type']=='Cash') & (df_test['trip_start_timestamp'] < '2022-12-31') & (df_test['trip_start_timestamp'] > '2022-01-02')][['fare', 'tips', 'tolls', 'extras','trip_total','payment_type', 'trip_seconds', 'trip_start_timestamp']])\n"
   ]
  },
  {
   "cell_type": "code",
   "execution_count": 54,
   "id": "f2c9c966",
   "metadata": {
    "scrolled": false
   },
   "outputs": [
    {
     "name": "stdout",
     "output_type": "stream",
     "text": [
      "          fare  tips  tolls  extras  trip_total  trip_seconds  \\\n",
      "29        3.25  0.00    0.0     0.0        3.25           0.0   \n",
      "43        3.25  0.00    0.0     0.0        3.25           0.0   \n",
      "58       50.00  0.00    0.0     0.0       50.00           0.0   \n",
      "101       3.25  0.00    0.0     0.0        3.25           0.0   \n",
      "179       3.25  0.00    0.0     0.0        3.25           0.0   \n",
      "...        ...   ...    ...     ...         ...           ...   \n",
      "6382188  67.25  0.00    0.0     0.0       67.25           0.0   \n",
      "6382335   3.25  4.15    0.0    17.0       24.40           0.0   \n",
      "6382386   3.25  0.00    0.0     0.0        3.25           0.0   \n",
      "6382399   3.25  0.00    0.0     0.0        3.25           0.0   \n",
      "6382408   3.25  0.00    0.0     0.0        3.25           0.0   \n",
      "\n",
      "        trip_start_timestamp  \n",
      "29       2022-12-31 23:45:00  \n",
      "43       2022-12-31 23:45:00  \n",
      "58       2022-12-31 23:45:00  \n",
      "101      2022-12-31 23:45:00  \n",
      "179      2022-12-31 23:30:00  \n",
      "...                      ...  \n",
      "6382188  2022-01-01 00:30:00  \n",
      "6382335  2022-01-01 00:15:00  \n",
      "6382386  2022-01-01 00:00:00  \n",
      "6382399  2022-01-01 00:00:00  \n",
      "6382408  2022-01-01 00:00:00  \n",
      "\n",
      "[140766 rows x 7 columns]\n"
     ]
    }
   ],
   "source": [
    "print(df_test[(df_test['trip_miles']==0) & (df_test['trip_seconds']==0)][['fare', 'tips', 'tolls', 'extras','trip_total', 'trip_seconds', 'trip_start_timestamp']])"
   ]
  },
  {
   "cell_type": "code",
   "execution_count": 48,
   "id": "d310cb8a",
   "metadata": {},
   "outputs": [
    {
     "name": "stdout",
     "output_type": "stream",
     "text": [
      "(784587, 25)\n"
     ]
    }
   ],
   "source": [
    "print(df_test[(df_test['trip_miles']==0)].shape)"
   ]
  },
  {
   "cell_type": "code",
   "execution_count": 49,
   "id": "551e7253",
   "metadata": {
    "scrolled": true
   },
   "outputs": [
    {
     "name": "stdout",
     "output_type": "stream",
     "text": [
      "(147135, 25)\n"
     ]
    }
   ],
   "source": [
    "print(df_test[(df_test['trip_miles']==0) & (df_test['trip_total']==3.25)].shape)"
   ]
  },
  {
   "cell_type": "code",
   "execution_count": 50,
   "id": "b6819c8d",
   "metadata": {},
   "outputs": [
    {
     "name": "stdout",
     "output_type": "stream",
     "text": [
      "(177026, 25)\n"
     ]
    }
   ],
   "source": [
    "print(df_test[(df_test['trip_total']==3.25)].shape)"
   ]
  },
  {
   "cell_type": "markdown",
   "id": "d7187d0b",
   "metadata": {},
   "source": [
    "##### Only for 89.893 of that (12%) pickup_centroid_location or dropoff_centroid_location is NaN:"
   ]
  },
  {
   "cell_type": "code",
   "execution_count": null,
   "id": "daa3d224",
   "metadata": {},
   "outputs": [],
   "source": [
    "print(df_test[(df_test['trip_miles']==0) & ((df_test['pickup_centroid_location'].isna()) | (df_test['dropoff_centroid_location'].isna()))].shape)"
   ]
  },
  {
   "cell_type": "code",
   "execution_count": null,
   "id": "3e493670",
   "metadata": {},
   "outputs": [],
   "source": [
    "print(df_test[(df_test['trip_miles']==0) & ((df_test['pickup_census_tract'].isna()) | (df_test['dropoff_census_tract'].isna()))].shape)\n"
   ]
  },
  {
   "cell_type": "code",
   "execution_count": null,
   "id": "9b383969",
   "metadata": {},
   "outputs": [],
   "source": [
    "print(df_test[(df_test['trip_miles']==0) & ((df_test['pickup_community_area'].isna()) | (df_test['dropoff_community_area'].isna()))].shape)\n",
    "\n"
   ]
  },
  {
   "cell_type": "code",
   "execution_count": null,
   "id": "5ab49e3b",
   "metadata": {},
   "outputs": [],
   "source": [
    "df_test[(df_test['trip_miles']==0)].isna().sum()"
   ]
  },
  {
   "cell_type": "code",
   "execution_count": null,
   "id": "bb5e577e",
   "metadata": {},
   "outputs": [],
   "source": [
    "df_test[(df_test['trip_miles']==0)].head()"
   ]
  },
  {
   "cell_type": "code",
   "execution_count": null,
   "id": "84153f5e",
   "metadata": {},
   "outputs": [],
   "source": [
    "print(df_test[(df_test['trip_miles']==0) & \n",
    "( (df_test['pickup_census_tract'].isna()) \n",
    "| (df_test['dropoff_census_tract'].isna()) ) & (df_test['Check'])].shape)\n",
    "\n"
   ]
  },
  {
   "cell_type": "code",
   "execution_count": null,
   "id": "ed0574d9",
   "metadata": {},
   "outputs": [],
   "source": [
    "print(df_test[(df_test['trip_miles']==0) & \n",
    "((df_test['pickup_community_area'].isna()) & (df_test['pickup_census_tract'].isna()) & (df_test['pickup_centroid_location'].isna())) \n",
    "| ((df_test['dropoff_community_area'].isna()) & (df_test['dropoff_census_tract'].isna()) & (df_test['dropoff_centroid_location'].isna()))].shape)\n"
   ]
  },
  {
   "cell_type": "code",
   "execution_count": null,
   "id": "96202672",
   "metadata": {},
   "outputs": [],
   "source": [
    "print(df_test[(df_test['trip_miles']==0) & \n",
    "((~df_test['pickup_community_area'].isna()) & (~df_test['pickup_census_tract'].isna()) & (~df_test['pickup_centroid_location'].isna())) \n",
    "& ((~df_test['dropoff_community_area'].isna()) & (~df_test['dropoff_census_tract'].isna()) & (~df_test['dropoff_centroid_location'].isna()))].shape)\n"
   ]
  },
  {
   "cell_type": "code",
   "execution_count": null,
   "id": "d9cb03d1",
   "metadata": {},
   "outputs": [],
   "source": [
    "df_test.head()"
   ]
  },
  {
   "cell_type": "code",
   "execution_count": null,
   "id": "702f2a7e",
   "metadata": {},
   "outputs": [],
   "source": [
    "import pandas as pd\n",
    "from sklearn.tree import DecisionTreeClassifier\n",
    "from sklearn.model_selection import train_test_split\n",
    "from sklearn import tree\n",
    "import matplotlib.pyplot as plt\n",
    "\n",
    "# Load your dataframe\n",
    "# df = pd.read_csv('your_dataframe.csv')\n",
    "df_test = df_test.dropna(subset=[\"trip_miles\"])\n",
    "\n",
    "# Define target and features\n",
    "target_column = 'trip_miles'\n",
    "features = df_test.drop(columns=[target_column,'trip_km','kmh','payment_type','company','pickup_centroid_location','dropoff_centroid_location'])\n",
    "target = df_test[target_column]\n",
    "\n",
    "# Split the data\n",
    "X_train, X_test, y_train, y_test = train_test_split(features, target, test_size=0.3, random_state=42)\n",
    "\n",
    "# Initialize and train the decision tree\n",
    "clf = DecisionTreeClassifier(random_state=42)\n",
    "clf.fit(X_train, y_train)\n",
    "\n",
    "# Visualize the decision tree\n",
    "plt.figure(figsize=(20,10))\n",
    "tree.plot_tree(clf, feature_names=features.columns, class_names=['Non-Zero', 'Zero'], filled=True)\n",
    "plt.show()\n",
    "\n",
    "# Get feature importances\n",
    "feature_importances = pd.DataFrame(clf.feature_importances_, index=features.columns, columns=['importance']).sort_values('importance', ascending=False)\n",
    "print(feature_importances)\n"
   ]
  },
  {
   "cell_type": "code",
   "execution_count": null,
   "id": "9da4f6c1",
   "metadata": {},
   "outputs": [],
   "source": []
  },
  {
   "cell_type": "code",
   "execution_count": null,
   "id": "e7cf4e42",
   "metadata": {},
   "outputs": [],
   "source": []
  }
 ],
 "metadata": {
  "kernelspec": {
   "display_name": "Python 3 (ipykernel)",
   "language": "python",
   "name": "python3"
  },
  "language_info": {
   "codemirror_mode": {
    "name": "ipython",
    "version": 3
   },
   "file_extension": ".py",
   "mimetype": "text/x-python",
   "name": "python",
   "nbconvert_exporter": "python",
   "pygments_lexer": "ipython3",
   "version": "3.9.18"
  },
  "toc-autonumbering": false,
  "toc-showcode": false,
  "toc-showmarkdowntxt": false
 },
 "nbformat": 4,
 "nbformat_minor": 5
}
