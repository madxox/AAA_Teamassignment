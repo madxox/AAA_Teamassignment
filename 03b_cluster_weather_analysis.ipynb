{
 "cells": [
  {
   "cell_type": "markdown",
   "id": "181010c5-520c-4d88-be02-e42e54f0c59f",
   "metadata": {
    "tags": []
   },
   "source": [
    "# 3.0 Cluster Analysis Weather Df"
   ]
  },
  {
   "cell_type": "code",
   "execution_count": 2,
   "id": "1e2088d7-c57c-437f-a747-b5c184feeef8",
   "metadata": {
    "tags": []
   },
   "outputs": [],
   "source": [
    "# Standard libraries - run pip install if necessary\n",
    "import pandas as pd\n",
    "import numpy as np\n",
    "import matplotlib.pyplot as plt\n",
    "import seaborn as sns\n",
    "from sklearn.metrics import silhouette_score, silhouette_samples\n",
    "import matplotlib.ticker as ticker\n",
    "from sklearn.decomposition import PCA\n",
    "\n",
    "from datetime import datetime\n",
    "\n",
    "# Geospatial libraries\n",
    "from h3 import h3 \n",
    "import geopandas as gp\n",
    "import folium\n",
    "from shapely.ops import unary_union\n",
    "from shapely.geometry.polygon import Polygon\n",
    "## Color for map \n",
    "import branca\n",
    "import branca.colormap as cm\n",
    "\n",
    "from sklearn.preprocessing import StandardScaler\n",
    "from sklearn.cluster import KMeans\n",
    "from sklearn.metrics import silhouette_score\n",
    "from sklearn.cluster import MiniBatchKMeans\n",
    "\n",
    "# progress bar\n",
    "from tqdm import tqdm\n",
    "tqdm.pandas()"
   ]
  },
  {
   "cell_type": "code",
   "execution_count": null,
   "id": "9bc88398-b81c-4f26-b119-63f59404c3a2",
   "metadata": {},
   "outputs": [],
   "source": [
    "weather_df = pd.read_csv(\"data/prepped/weather_taxi_merged_df.csv\")\n",
    "weather_df.shape"
   ]
  },
  {
   "cell_type": "code",
   "execution_count": null,
   "id": "2377ecc4-3e40-488e-a4fc-1e7159bcc2d8",
   "metadata": {},
   "outputs": [],
   "source": [
    "weather_df.columns"
   ]
  },
  {
   "cell_type": "code",
   "execution_count": null,
   "id": "25d53dc7-dd22-43bf-92df-744d4106fa2b",
   "metadata": {},
   "outputs": [],
   "source": [
    "# Drop columns\n",
    "columns_to_drop = ['Unnamed: 0.1', 'Unnamed: 0', 'trip_id', 'taxi_id',\n",
    "                   'trip_start_timestamp', 'trip_end_timestamp', 'payment_type', 'company', 'pickup_centroid_latitude', 'pickup_centroid_longitude',\n",
    "                   'pickup_centroid_location', 'dropoff_centroid_latitude', 'dropoff_centroid_longitude', 'dropoff_centroid_location',\n",
    "                   # Weather cols to drop\n",
    "                  'Date', 'Time', 'Dew Point', 'Wind', 'Wind Speed', 'Wind Gust', 'Pressure',\n",
    "                  ]\n",
    "weather_df_prep = weather_df.drop(columns_to_drop, axis=1)\n",
    "weather_df_prep.head(3)"
   ]
  },
  {
   "cell_type": "code",
   "execution_count": null,
   "id": "30c7854a-67d6-461f-86a5-1b1067cedf45",
   "metadata": {},
   "outputs": [],
   "source": []
  }
 ],
 "metadata": {
  "kernelspec": {
   "display_name": "Python 3 (ipykernel)",
   "language": "python",
   "name": "python3"
  },
  "language_info": {
   "codemirror_mode": {
    "name": "ipython",
    "version": 3
   },
   "file_extension": ".py",
   "mimetype": "text/x-python",
   "name": "python",
   "nbconvert_exporter": "python",
   "pygments_lexer": "ipython3",
   "version": "3.11.4"
  }
 },
 "nbformat": 4,
 "nbformat_minor": 5
}
