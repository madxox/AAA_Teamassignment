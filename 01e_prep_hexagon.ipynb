{
 "cells": [
  {
   "cell_type": "markdown",
   "id": "3287c812-4604-4d03-9153-14aae5a1524d",
   "metadata": {},
   "source": [
    "## 1.0e Adding Hexagons"
   ]
  },
  {
   "cell_type": "code",
   "execution_count": 1,
   "id": "e45d9d98-4ffb-4ec7-b1ed-01243431ed56",
   "metadata": {
    "tags": []
   },
   "outputs": [],
   "source": [
    "# Standard libraries - run pip install if necessary\n",
    "import pandas as pd\n",
    "import numpy as np\n",
    "import matplotlib.pyplot as plt\n",
    "import seaborn as sns\n",
    "\n",
    "from datetime import datetime\n",
    "\n",
    "# Geospatial libraries\n",
    "from h3 import h3 \n",
    "import geopandas as gp\n",
    "import folium\n",
    "from shapely.ops import unary_union\n",
    "from shapely.geometry.polygon import Polygon\n",
    "## Color for map \n",
    "import branca\n",
    "import branca.colormap as cm"
   ]
  },
  {
   "cell_type": "code",
   "execution_count": 10,
   "id": "f09e7c76-079e-49a5-b776-e02579265f42",
   "metadata": {
    "tags": []
   },
   "outputs": [],
   "source": [
    "df = pd.read_csv(\"data/prepped/prep_taxidata.csv\")"
   ]
  },
  {
   "cell_type": "code",
   "execution_count": 11,
   "id": "a7189713-a6c2-4e45-b842-40cae3c92807",
   "metadata": {
    "tags": []
   },
   "outputs": [
    {
     "data": {
      "text/html": [
       "<div>\n",
       "<style scoped>\n",
       "    .dataframe tbody tr th:only-of-type {\n",
       "        vertical-align: middle;\n",
       "    }\n",
       "\n",
       "    .dataframe tbody tr th {\n",
       "        vertical-align: top;\n",
       "    }\n",
       "\n",
       "    .dataframe thead th {\n",
       "        text-align: right;\n",
       "    }\n",
       "</style>\n",
       "<table border=\"1\" class=\"dataframe\">\n",
       "  <thead>\n",
       "    <tr style=\"text-align: right;\">\n",
       "      <th></th>\n",
       "      <th>Unnamed: 0</th>\n",
       "      <th>trip_id</th>\n",
       "      <th>taxi_id</th>\n",
       "      <th>trip_start_timestamp</th>\n",
       "      <th>trip_end_timestamp</th>\n",
       "      <th>trip_seconds</th>\n",
       "      <th>trip_miles</th>\n",
       "      <th>pickup_census_tract</th>\n",
       "      <th>dropoff_census_tract</th>\n",
       "      <th>fare</th>\n",
       "      <th>...</th>\n",
       "      <th>pickup_centroid_location</th>\n",
       "      <th>dropoff_centroid_latitude</th>\n",
       "      <th>dropoff_centroid_longitude</th>\n",
       "      <th>dropoff_centroid_location</th>\n",
       "      <th>trip_hours</th>\n",
       "      <th>mph</th>\n",
       "      <th>pickup_community</th>\n",
       "      <th>pickup_area_number</th>\n",
       "      <th>dropoff_community</th>\n",
       "      <th>dropoff_area_number</th>\n",
       "    </tr>\n",
       "  </thead>\n",
       "  <tbody>\n",
       "    <tr>\n",
       "      <th>0</th>\n",
       "      <td>0</td>\n",
       "      <td>4404c6835b9e74e9f74d70f235200a8ce09db14a</td>\n",
       "      <td>7e179f8ef66ae99ec2d1ec89224e0b7ee5469fe5627f6d...</td>\n",
       "      <td>2022-12-31 23:45:00</td>\n",
       "      <td>2023-01-01 00:15:00</td>\n",
       "      <td>2081.0</td>\n",
       "      <td>4.42</td>\n",
       "      <td>NaN</td>\n",
       "      <td>NaN</td>\n",
       "      <td>20.50</td>\n",
       "      <td>...</td>\n",
       "      <td>POINT (-87.6950125892 42.001571027)</td>\n",
       "      <td>41.965812</td>\n",
       "      <td>-87.655879</td>\n",
       "      <td>POINT (-87.6558787862 41.96581197)</td>\n",
       "      <td>0.578056</td>\n",
       "      <td>7.646324</td>\n",
       "      <td>WEST RIDGE</td>\n",
       "      <td>2</td>\n",
       "      <td>UPTOWN</td>\n",
       "      <td>3</td>\n",
       "    </tr>\n",
       "    <tr>\n",
       "      <th>1</th>\n",
       "      <td>1</td>\n",
       "      <td>466473fd2a196ebe92fb2983cb7e8af32e39aa1f</td>\n",
       "      <td>d1d88b89ceb6d753007b6e795e3c24f4bea905a51e9d47...</td>\n",
       "      <td>2022-12-31 23:45:00</td>\n",
       "      <td>2023-01-01 00:00:00</td>\n",
       "      <td>812.0</td>\n",
       "      <td>0.00</td>\n",
       "      <td>NaN</td>\n",
       "      <td>NaN</td>\n",
       "      <td>13.84</td>\n",
       "      <td>...</td>\n",
       "      <td>POINT (-87.6333080367 41.899602111)</td>\n",
       "      <td>41.901207</td>\n",
       "      <td>-87.676356</td>\n",
       "      <td>POINT (-87.6763559892 41.9012069941)</td>\n",
       "      <td>0.225556</td>\n",
       "      <td>0.000000</td>\n",
       "      <td>NEAR NORTH SIDE</td>\n",
       "      <td>8</td>\n",
       "      <td>WEST TOWN</td>\n",
       "      <td>24</td>\n",
       "    </tr>\n",
       "    <tr>\n",
       "      <th>2</th>\n",
       "      <td>2</td>\n",
       "      <td>3f5cd3f78e5cab455606a31372a95d3204b2fb3f</td>\n",
       "      <td>847cf962bd6f62040673e6c24c24940aeb2d7fdaa54677...</td>\n",
       "      <td>2022-12-31 23:45:00</td>\n",
       "      <td>2023-01-01 00:00:00</td>\n",
       "      <td>600.0</td>\n",
       "      <td>0.90</td>\n",
       "      <td>NaN</td>\n",
       "      <td>NaN</td>\n",
       "      <td>7.00</td>\n",
       "      <td>...</td>\n",
       "      <td>POINT (-87.6333080367 41.899602111)</td>\n",
       "      <td>41.899602</td>\n",
       "      <td>-87.633308</td>\n",
       "      <td>POINT (-87.6333080367 41.899602111)</td>\n",
       "      <td>0.166667</td>\n",
       "      <td>5.400000</td>\n",
       "      <td>NEAR NORTH SIDE</td>\n",
       "      <td>8</td>\n",
       "      <td>NEAR NORTH SIDE</td>\n",
       "      <td>8</td>\n",
       "    </tr>\n",
       "  </tbody>\n",
       "</table>\n",
       "<p>3 rows × 28 columns</p>\n",
       "</div>"
      ],
      "text/plain": [
       "   Unnamed: 0                                   trip_id  \\\n",
       "0           0  4404c6835b9e74e9f74d70f235200a8ce09db14a   \n",
       "1           1  466473fd2a196ebe92fb2983cb7e8af32e39aa1f   \n",
       "2           2  3f5cd3f78e5cab455606a31372a95d3204b2fb3f   \n",
       "\n",
       "                                             taxi_id trip_start_timestamp  \\\n",
       "0  7e179f8ef66ae99ec2d1ec89224e0b7ee5469fe5627f6d...  2022-12-31 23:45:00   \n",
       "1  d1d88b89ceb6d753007b6e795e3c24f4bea905a51e9d47...  2022-12-31 23:45:00   \n",
       "2  847cf962bd6f62040673e6c24c24940aeb2d7fdaa54677...  2022-12-31 23:45:00   \n",
       "\n",
       "    trip_end_timestamp  trip_seconds  trip_miles  pickup_census_tract  \\\n",
       "0  2023-01-01 00:15:00        2081.0        4.42                  NaN   \n",
       "1  2023-01-01 00:00:00         812.0        0.00                  NaN   \n",
       "2  2023-01-01 00:00:00         600.0        0.90                  NaN   \n",
       "\n",
       "   dropoff_census_tract   fare  ...             pickup_centroid_location  \\\n",
       "0                   NaN  20.50  ...  POINT (-87.6950125892 42.001571027)   \n",
       "1                   NaN  13.84  ...  POINT (-87.6333080367 41.899602111)   \n",
       "2                   NaN   7.00  ...  POINT (-87.6333080367 41.899602111)   \n",
       "\n",
       "   dropoff_centroid_latitude  dropoff_centroid_longitude  \\\n",
       "0                  41.965812                  -87.655879   \n",
       "1                  41.901207                  -87.676356   \n",
       "2                  41.899602                  -87.633308   \n",
       "\n",
       "              dropoff_centroid_location trip_hours       mph  \\\n",
       "0    POINT (-87.6558787862 41.96581197)   0.578056  7.646324   \n",
       "1  POINT (-87.6763559892 41.9012069941)   0.225556  0.000000   \n",
       "2   POINT (-87.6333080367 41.899602111)   0.166667  5.400000   \n",
       "\n",
       "   pickup_community  pickup_area_number dropoff_community  dropoff_area_number  \n",
       "0        WEST RIDGE                   2            UPTOWN                    3  \n",
       "1   NEAR NORTH SIDE                   8         WEST TOWN                   24  \n",
       "2   NEAR NORTH SIDE                   8   NEAR NORTH SIDE                    8  \n",
       "\n",
       "[3 rows x 28 columns]"
      ]
     },
     "execution_count": 11,
     "metadata": {},
     "output_type": "execute_result"
    }
   ],
   "source": [
    "df.head(3)"
   ]
  },
  {
   "cell_type": "code",
   "execution_count": 12,
   "id": "eaae150c-ce40-4bea-9da6-07f6df4b206b",
   "metadata": {
    "tags": []
   },
   "outputs": [],
   "source": [
    "# Drop index col\n",
    "df = df.drop(\"Unnamed: 0\", axis=1)"
   ]
  },
  {
   "cell_type": "code",
   "execution_count": 14,
   "id": "7041a2b6-8cac-4155-8ccf-54c88f5cc3e5",
   "metadata": {
    "tags": []
   },
   "outputs": [
    {
     "data": {
      "text/plain": [
       "(5251899, 27)"
      ]
     },
     "execution_count": 14,
     "metadata": {},
     "output_type": "execute_result"
    }
   ],
   "source": [
    "df.shape"
   ]
  },
  {
   "cell_type": "code",
   "execution_count": 15,
   "id": "0701d2ce-7b40-4796-b3e8-407ae2b3a1e5",
   "metadata": {
    "tags": []
   },
   "outputs": [],
   "source": [
    "# Get hex ids\n",
    "def add_h3_ids(df, res):\n",
    "    df[f\"h3_res{res}_pickup\"] = np.vectorize(h3.geo_to_h3)(\n",
    "        df['pickup_centroid_latitude'], df['pickup_centroid_longitude'], res)\n",
    "    df[f\"h3_res{res}_dropoff\"] = np.vectorize(h3.geo_to_h3)(\n",
    "        df['dropoff_centroid_latitude'], df['dropoff_centroid_longitude'], res)\n",
    "    return df\n",
    "\n",
    "# Get poly from hex ids - vectorized form to save time\n",
    "def poly_from_hex(df, colname, res):\n",
    "    hex_ids = df[f\"h3_res{res}_{colname}\"].values\n",
    "    polygons = np.vectorize(lambda hex_id: Polygon(h3.h3_to_geo_boundary(hex_id, geo_json=True)))(hex_ids)\n",
    "    df[f\"poly_res{res}_{colname}\"] = polygons\n",
    "    return df\n",
    "\n",
    "# Get count for each trip happening in the same hexagon\n",
    "def get_poly_count(df, colname):\n",
    "    name = colname.split(\"_\")[1] + \"_\" + colname.split(\"_\")[2]\n",
    "    df[f\"count{name}\"] = df.groupby(colname)['trip_id'].transform('count')\n",
    "    return df"
   ]
  },
  {
   "cell_type": "markdown",
   "id": "515d6d11-b465-4702-8e61-83396d3b671d",
   "metadata": {},
   "source": [
    "To decide on an appropriate size of the hexagons, we adapted the table from https://towardsdatascience.com/exploring-location-data-using-a-hexagon-grid-3509b68b04a2 as a guide. Hence, we found that for the size of the community areas, it would be best to go with a hexagon size of 7 or 8. "
   ]
  },
  {
   "cell_type": "code",
   "execution_count": 17,
   "id": "0a3d81ab-b2f8-4c2f-8870-ffbed36d5d06",
   "metadata": {
    "tags": []
   },
   "outputs": [],
   "source": [
    "hex_df = add_h3_ids(df, 7)\n",
    "hex_df = add_h3_ids(df, 8)"
   ]
  },
  {
   "cell_type": "code",
   "execution_count": 20,
   "id": "61c56c16-e776-4420-84e2-5c20ab2ba894",
   "metadata": {
    "tags": []
   },
   "outputs": [
    {
     "data": {
      "text/html": [
       "<div>\n",
       "<style scoped>\n",
       "    .dataframe tbody tr th:only-of-type {\n",
       "        vertical-align: middle;\n",
       "    }\n",
       "\n",
       "    .dataframe tbody tr th {\n",
       "        vertical-align: top;\n",
       "    }\n",
       "\n",
       "    .dataframe thead th {\n",
       "        text-align: right;\n",
       "    }\n",
       "</style>\n",
       "<table border=\"1\" class=\"dataframe\">\n",
       "  <thead>\n",
       "    <tr style=\"text-align: right;\">\n",
       "      <th></th>\n",
       "      <th>trip_id</th>\n",
       "      <th>taxi_id</th>\n",
       "      <th>trip_start_timestamp</th>\n",
       "      <th>trip_end_timestamp</th>\n",
       "      <th>trip_seconds</th>\n",
       "      <th>trip_miles</th>\n",
       "      <th>pickup_census_tract</th>\n",
       "      <th>dropoff_census_tract</th>\n",
       "      <th>fare</th>\n",
       "      <th>tips</th>\n",
       "      <th>...</th>\n",
       "      <th>trip_hours</th>\n",
       "      <th>mph</th>\n",
       "      <th>pickup_community</th>\n",
       "      <th>pickup_area_number</th>\n",
       "      <th>dropoff_community</th>\n",
       "      <th>dropoff_area_number</th>\n",
       "      <th>h3_res7_pickup</th>\n",
       "      <th>h3_res7_dropoff</th>\n",
       "      <th>h3_res8_pickup</th>\n",
       "      <th>h3_res8_dropoff</th>\n",
       "    </tr>\n",
       "  </thead>\n",
       "  <tbody>\n",
       "    <tr>\n",
       "      <th>0</th>\n",
       "      <td>4404c6835b9e74e9f74d70f235200a8ce09db14a</td>\n",
       "      <td>7e179f8ef66ae99ec2d1ec89224e0b7ee5469fe5627f6d...</td>\n",
       "      <td>2022-12-31 23:45:00</td>\n",
       "      <td>2023-01-01 00:15:00</td>\n",
       "      <td>2081.0</td>\n",
       "      <td>4.42</td>\n",
       "      <td>NaN</td>\n",
       "      <td>NaN</td>\n",
       "      <td>20.50</td>\n",
       "      <td>0.00</td>\n",
       "      <td>...</td>\n",
       "      <td>0.578056</td>\n",
       "      <td>7.646324</td>\n",
       "      <td>WEST RIDGE</td>\n",
       "      <td>2</td>\n",
       "      <td>UPTOWN</td>\n",
       "      <td>3</td>\n",
       "      <td>872664d8effffff</td>\n",
       "      <td>872664d89ffffff</td>\n",
       "      <td>882664d8e1fffff</td>\n",
       "      <td>882664d897fffff</td>\n",
       "    </tr>\n",
       "    <tr>\n",
       "      <th>1</th>\n",
       "      <td>466473fd2a196ebe92fb2983cb7e8af32e39aa1f</td>\n",
       "      <td>d1d88b89ceb6d753007b6e795e3c24f4bea905a51e9d47...</td>\n",
       "      <td>2022-12-31 23:45:00</td>\n",
       "      <td>2023-01-01 00:00:00</td>\n",
       "      <td>812.0</td>\n",
       "      <td>0.00</td>\n",
       "      <td>NaN</td>\n",
       "      <td>NaN</td>\n",
       "      <td>13.84</td>\n",
       "      <td>2.73</td>\n",
       "      <td>...</td>\n",
       "      <td>0.225556</td>\n",
       "      <td>0.000000</td>\n",
       "      <td>NEAR NORTH SIDE</td>\n",
       "      <td>8</td>\n",
       "      <td>WEST TOWN</td>\n",
       "      <td>24</td>\n",
       "      <td>872664c1effffff</td>\n",
       "      <td>872664cacffffff</td>\n",
       "      <td>882664c1edfffff</td>\n",
       "      <td>882664cac3fffff</td>\n",
       "    </tr>\n",
       "    <tr>\n",
       "      <th>2</th>\n",
       "      <td>3f5cd3f78e5cab455606a31372a95d3204b2fb3f</td>\n",
       "      <td>847cf962bd6f62040673e6c24c24940aeb2d7fdaa54677...</td>\n",
       "      <td>2022-12-31 23:45:00</td>\n",
       "      <td>2023-01-01 00:00:00</td>\n",
       "      <td>600.0</td>\n",
       "      <td>0.90</td>\n",
       "      <td>NaN</td>\n",
       "      <td>NaN</td>\n",
       "      <td>7.00</td>\n",
       "      <td>2.00</td>\n",
       "      <td>...</td>\n",
       "      <td>0.166667</td>\n",
       "      <td>5.400000</td>\n",
       "      <td>NEAR NORTH SIDE</td>\n",
       "      <td>8</td>\n",
       "      <td>NEAR NORTH SIDE</td>\n",
       "      <td>8</td>\n",
       "      <td>872664c1effffff</td>\n",
       "      <td>872664c1effffff</td>\n",
       "      <td>882664c1edfffff</td>\n",
       "      <td>882664c1edfffff</td>\n",
       "    </tr>\n",
       "    <tr>\n",
       "      <th>3</th>\n",
       "      <td>38292159642750da7b20419330566f9eb0961cde</td>\n",
       "      <td>81092e4881f56106fae845c3ae4492f8b3c3213c33c920...</td>\n",
       "      <td>2022-12-31 23:45:00</td>\n",
       "      <td>2023-01-01 00:00:00</td>\n",
       "      <td>546.0</td>\n",
       "      <td>0.85</td>\n",
       "      <td>NaN</td>\n",
       "      <td>NaN</td>\n",
       "      <td>6.50</td>\n",
       "      <td>0.00</td>\n",
       "      <td>...</td>\n",
       "      <td>0.151667</td>\n",
       "      <td>5.604396</td>\n",
       "      <td>NEAR NORTH SIDE</td>\n",
       "      <td>8</td>\n",
       "      <td>NEAR NORTH SIDE</td>\n",
       "      <td>8</td>\n",
       "      <td>872664c1effffff</td>\n",
       "      <td>872664c1effffff</td>\n",
       "      <td>882664c1edfffff</td>\n",
       "      <td>882664c1edfffff</td>\n",
       "    </tr>\n",
       "    <tr>\n",
       "      <th>4</th>\n",
       "      <td>3e01498f8ff771ad7eb37e4844cef20201b6c339</td>\n",
       "      <td>4ae32e2eb244ce143800e0c40055e537cc50e3358a07ce...</td>\n",
       "      <td>2022-12-31 23:45:00</td>\n",
       "      <td>2023-01-01 00:00:00</td>\n",
       "      <td>574.0</td>\n",
       "      <td>0.33</td>\n",
       "      <td>NaN</td>\n",
       "      <td>NaN</td>\n",
       "      <td>6.25</td>\n",
       "      <td>0.00</td>\n",
       "      <td>...</td>\n",
       "      <td>0.159444</td>\n",
       "      <td>2.069686</td>\n",
       "      <td>NEAR NORTH SIDE</td>\n",
       "      <td>8</td>\n",
       "      <td>NEAR NORTH SIDE</td>\n",
       "      <td>8</td>\n",
       "      <td>872664c1effffff</td>\n",
       "      <td>872664c1effffff</td>\n",
       "      <td>882664c1edfffff</td>\n",
       "      <td>882664c1edfffff</td>\n",
       "    </tr>\n",
       "  </tbody>\n",
       "</table>\n",
       "<p>5 rows × 31 columns</p>\n",
       "</div>"
      ],
      "text/plain": [
       "                                    trip_id  \\\n",
       "0  4404c6835b9e74e9f74d70f235200a8ce09db14a   \n",
       "1  466473fd2a196ebe92fb2983cb7e8af32e39aa1f   \n",
       "2  3f5cd3f78e5cab455606a31372a95d3204b2fb3f   \n",
       "3  38292159642750da7b20419330566f9eb0961cde   \n",
       "4  3e01498f8ff771ad7eb37e4844cef20201b6c339   \n",
       "\n",
       "                                             taxi_id trip_start_timestamp  \\\n",
       "0  7e179f8ef66ae99ec2d1ec89224e0b7ee5469fe5627f6d...  2022-12-31 23:45:00   \n",
       "1  d1d88b89ceb6d753007b6e795e3c24f4bea905a51e9d47...  2022-12-31 23:45:00   \n",
       "2  847cf962bd6f62040673e6c24c24940aeb2d7fdaa54677...  2022-12-31 23:45:00   \n",
       "3  81092e4881f56106fae845c3ae4492f8b3c3213c33c920...  2022-12-31 23:45:00   \n",
       "4  4ae32e2eb244ce143800e0c40055e537cc50e3358a07ce...  2022-12-31 23:45:00   \n",
       "\n",
       "    trip_end_timestamp  trip_seconds  trip_miles  pickup_census_tract  \\\n",
       "0  2023-01-01 00:15:00        2081.0        4.42                  NaN   \n",
       "1  2023-01-01 00:00:00         812.0        0.00                  NaN   \n",
       "2  2023-01-01 00:00:00         600.0        0.90                  NaN   \n",
       "3  2023-01-01 00:00:00         546.0        0.85                  NaN   \n",
       "4  2023-01-01 00:00:00         574.0        0.33                  NaN   \n",
       "\n",
       "   dropoff_census_tract   fare  tips  ...  trip_hours       mph  \\\n",
       "0                   NaN  20.50  0.00  ...    0.578056  7.646324   \n",
       "1                   NaN  13.84  2.73  ...    0.225556  0.000000   \n",
       "2                   NaN   7.00  2.00  ...    0.166667  5.400000   \n",
       "3                   NaN   6.50  0.00  ...    0.151667  5.604396   \n",
       "4                   NaN   6.25  0.00  ...    0.159444  2.069686   \n",
       "\n",
       "   pickup_community pickup_area_number dropoff_community  dropoff_area_number  \\\n",
       "0        WEST RIDGE                  2            UPTOWN                    3   \n",
       "1   NEAR NORTH SIDE                  8         WEST TOWN                   24   \n",
       "2   NEAR NORTH SIDE                  8   NEAR NORTH SIDE                    8   \n",
       "3   NEAR NORTH SIDE                  8   NEAR NORTH SIDE                    8   \n",
       "4   NEAR NORTH SIDE                  8   NEAR NORTH SIDE                    8   \n",
       "\n",
       "    h3_res7_pickup  h3_res7_dropoff   h3_res8_pickup  h3_res8_dropoff  \n",
       "0  872664d8effffff  872664d89ffffff  882664d8e1fffff  882664d897fffff  \n",
       "1  872664c1effffff  872664cacffffff  882664c1edfffff  882664cac3fffff  \n",
       "2  872664c1effffff  872664c1effffff  882664c1edfffff  882664c1edfffff  \n",
       "3  872664c1effffff  872664c1effffff  882664c1edfffff  882664c1edfffff  \n",
       "4  872664c1effffff  872664c1effffff  882664c1edfffff  882664c1edfffff  \n",
       "\n",
       "[5 rows x 31 columns]"
      ]
     },
     "execution_count": 20,
     "metadata": {},
     "output_type": "execute_result"
    }
   ],
   "source": [
    "hex_df.head()"
   ]
  },
  {
   "cell_type": "code",
   "execution_count": 21,
   "id": "d1984f45-7ce9-4733-b24b-c02f91628cc0",
   "metadata": {
    "tags": []
   },
   "outputs": [
    {
     "data": {
      "text/plain": [
       "(5251899, 31)"
      ]
     },
     "execution_count": 21,
     "metadata": {},
     "output_type": "execute_result"
    }
   ],
   "source": [
    "hex_df.shape"
   ]
  },
  {
   "cell_type": "code",
   "execution_count": 23,
   "id": "1a38357a-27ba-4f3f-bbea-306cd040b5f9",
   "metadata": {
    "tags": []
   },
   "outputs": [
    {
     "name": "stdout",
     "output_type": "stream",
     "text": [
      "Number of hex ids equal to 0:  0\n"
     ]
    }
   ],
   "source": [
    "# Check if unusable data is given:\n",
    "print(\"Number of hex ids equal to 0: \",len(hex_df[(hex_df[\"h3_res7_pickup\"] == \"0\") | (hex_df[\"h3_res7_dropoff\"] == \"0\")]))"
   ]
  },
  {
   "cell_type": "code",
   "execution_count": 24,
   "id": "b27ab52d-9189-487d-a8b8-714c9e01f093",
   "metadata": {
    "tags": []
   },
   "outputs": [
    {
     "name": "stderr",
     "output_type": "stream",
     "text": [
      "\n",
      "KeyboardInterrupt\n",
      "\n"
     ]
    }
   ],
   "source": [
    "# Get polygon from hex ids\n",
    "hex_df_poly = poly_from_hex(hex_df, \"pickup\", 7)"
   ]
  },
  {
   "cell_type": "code",
   "execution_count": null,
   "id": "36f95b01-f72c-49c1-abd2-ff58c925d489",
   "metadata": {},
   "outputs": [],
   "source": [
    "hex_df_poly = poly_from_hex(hex_df, \"dropoff\", 7)"
   ]
  },
  {
   "cell_type": "code",
   "execution_count": null,
   "id": "f1000c6a-a20c-4386-b4a6-d88bc850ca88",
   "metadata": {},
   "outputs": [],
   "source": [
    "hex_df_poly = poly_from_hex(hex_df, \"pickup\", 8)"
   ]
  },
  {
   "cell_type": "code",
   "execution_count": 29,
   "id": "9ec5ff54-e575-4a8e-926e-ba1cd4560b77",
   "metadata": {
    "tags": []
   },
   "outputs": [
    {
     "name": "stderr",
     "output_type": "stream",
     "text": [
      "\n",
      "KeyboardInterrupt\n",
      "\n"
     ]
    }
   ],
   "source": [
    "hex_df_poly = poly_from_hex(hex_df, \"dropoff\", 8)"
   ]
  },
  {
   "cell_type": "code",
   "execution_count": null,
   "id": "0d9e6e0c-80be-4d11-85a8-7ad75a953b56",
   "metadata": {
    "tags": []
   },
   "outputs": [],
   "source": [
    "hex_df_poly.head()"
   ]
  },
  {
   "cell_type": "code",
   "execution_count": 26,
   "id": "a7841c8e-ed6d-451a-ac99-18d20fbc460a",
   "metadata": {
    "tags": []
   },
   "outputs": [
    {
     "data": {
      "text/plain": [
       "(5251899, 34)"
      ]
     },
     "execution_count": 26,
     "metadata": {},
     "output_type": "execute_result"
    }
   ],
   "source": [
    "hex_df_poly.shape"
   ]
  },
  {
   "cell_type": "code",
   "execution_count": 27,
   "id": "88633b01-d450-446b-a190-74cd4a3762bb",
   "metadata": {
    "tags": []
   },
   "outputs": [
    {
     "data": {
      "text/plain": [
       "trip_id                             0\n",
       "taxi_id                             0\n",
       "trip_start_timestamp                0\n",
       "trip_end_timestamp                  0\n",
       "trip_seconds                        0\n",
       "trip_miles                          0\n",
       "pickup_census_tract           2841435\n",
       "dropoff_census_tract          2841435\n",
       "fare                                0\n",
       "tips                                0\n",
       "tolls                               0\n",
       "extras                              0\n",
       "trip_total                          0\n",
       "payment_type                        0\n",
       "company                             0\n",
       "pickup_centroid_latitude            0\n",
       "pickup_centroid_longitude           0\n",
       "pickup_centroid_location            0\n",
       "dropoff_centroid_latitude           0\n",
       "dropoff_centroid_longitude          0\n",
       "dropoff_centroid_location           0\n",
       "trip_hours                          0\n",
       "mph                                 0\n",
       "pickup_community                    0\n",
       "pickup_area_number                  0\n",
       "dropoff_community                   0\n",
       "dropoff_area_number                 0\n",
       "h3_res7_pickup                      0\n",
       "h3_res7_dropoff                     0\n",
       "h3_res8_pickup                      0\n",
       "h3_res8_dropoff                     0\n",
       "poly_res7_pickup                    0\n",
       "poly_res7_dropoff                   0\n",
       "poly_res8_pickup                    0\n",
       "dtype: int64"
      ]
     },
     "execution_count": 27,
     "metadata": {},
     "output_type": "execute_result"
    }
   ],
   "source": [
    "hex_df_poly.isna().sum()"
   ]
  },
  {
   "cell_type": "code",
   "execution_count": 30,
   "id": "9f093d6e-f584-4fda-9752-89ed052323ba",
   "metadata": {
    "tags": []
   },
   "outputs": [],
   "source": [
    "# Make a geodf out of it for simple plotting\n",
    "gdf_res7_pickup = gp.GeoDataFrame(hex_df, geometry=hex_df_poly['poly_res7_pickup'], crs='EPSG:4326')\n",
    "gdf_res7_dropoff = gp.GeoDataFrame(hex_df, geometry=hex_df_poly['poly_res7_dropoff'], crs='EPSG:4326')\n",
    "# gdf_res8_pickup = gp.GeoDataFrame(hex_df, geometry=hex_df_poly['poly_res8_pickup'], crs='EPSG:4326')\n",
    "# gdf_res8_dropoff = gp.GeoDataFrame(hex_df, geometry=hex_df_poly['poly_res8_dropoff'], crs='EPSG:4326')"
   ]
  },
  {
   "cell_type": "code",
   "execution_count": null,
   "id": "e48c5922-72e7-4f34-951b-16b2e60c323f",
   "metadata": {},
   "outputs": [],
   "source": [
    "# Visualize\n",
    "fig, axs = plt.subplots(nrows = 2, ncols = 2, figsize=(10, 10))\n",
    "\n",
    "titles = [\"Pickup (RES 7)\", \"Dropoff (RES 7)\", \n",
    "          # \"Pickup (RES 8)\", \"Dropoff (RES 8)\"\n",
    "         ]\n",
    "dfs = [gdf_res7_pickup, gdf_res7_dropoff,\n",
    "       # gdf_res8_pickup, gdf_res8_dropoff\n",
    "      ]\n",
    "\n",
    "axs = axs.flatten()\n",
    "\n",
    "for ind in range(0, 3):\n",
    "    dfs[ind].plot(column=\"count\", ax=axs[ind], legend=True)\n",
    "    axs[ind].set_title(titles[ind])\n",
    "\n",
    "plt.tight_layout()\n",
    "plt.show()"
   ]
  },
  {
   "cell_type": "code",
   "execution_count": null,
   "id": "d02af362-3373-41ce-84de-092d42da7b00",
   "metadata": {},
   "outputs": [],
   "source": []
  },
  {
   "cell_type": "code",
   "execution_count": null,
   "id": "a01843ac-56a6-46bb-bbb5-e77b9a416b1f",
   "metadata": {},
   "outputs": [],
   "source": [
    "## ADD FUNCTION TO DO THE PLOTTING LIKE BELOW THEN SAVE"
   ]
  },
  {
   "cell_type": "code",
   "execution_count": null,
   "id": "acc0976d-6852-491a-8449-9967fd11fa36",
   "metadata": {},
   "outputs": [],
   "source": [
    "# df_pickup_res8['geometry'] = df_pickup_res7.apply(lambda x: Polygon(h3.h3_to_geo_boundary(x[\"h3_pickup_res8\"], geo_json=True)), axis=1)\n",
    "# trips_starts_geo = gp.GeoDataFrame(df_pickup_res7, geometry=df_pickup_res7['geometry'], crs='EPSG:4326')\n",
    "# trips_starts_geo.plot(column='count')"
   ]
  },
  {
   "cell_type": "code",
   "execution_count": null,
   "id": "57420932-fe8b-4861-954c-080d872f0597",
   "metadata": {},
   "outputs": [],
   "source": []
  },
  {
   "cell_type": "code",
   "execution_count": null,
   "id": "658bd1e1-9124-41d4-a506-0406002cdbd6",
   "metadata": {},
   "outputs": [],
   "source": []
  },
  {
   "cell_type": "code",
   "execution_count": null,
   "id": "d693e5ce-ef72-4ff7-981c-1737d83d5e30",
   "metadata": {},
   "outputs": [],
   "source": [
    "## SAVE THIS DF AS TAXI_HEXA_PREP ##"
   ]
  },
  {
   "cell_type": "code",
   "execution_count": null,
   "id": "aa01a91b-a392-4b5b-a8a4-05521c1f34ac",
   "metadata": {},
   "outputs": [],
   "source": []
  },
  {
   "cell_type": "code",
   "execution_count": null,
   "id": "1ad80f87-d10e-4206-84c1-0d3da7804f0c",
   "metadata": {},
   "outputs": [],
   "source": []
  }
 ],
 "metadata": {
  "kernelspec": {
   "display_name": "Python 3 (ipykernel)",
   "language": "python",
   "name": "python3"
  },
  "language_info": {
   "codemirror_mode": {
    "name": "ipython",
    "version": 3
   },
   "file_extension": ".py",
   "mimetype": "text/x-python",
   "name": "python",
   "nbconvert_exporter": "python",
   "pygments_lexer": "ipython3",
   "version": "3.11.4"
  }
 },
 "nbformat": 4,
 "nbformat_minor": 5
}
